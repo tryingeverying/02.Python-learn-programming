{
 "cells": [
  {
   "attachments": {},
   "cell_type": "markdown",
   "metadata": {},
   "source": [
    "# 第 3 章　列表简介"
   ]
  },
  {
   "attachments": {},
   "cell_type": "markdown",
   "metadata": {},
   "source": [
    "## 3-1 姓名： \n",
    "将一些朋友的姓名存储在一个列表中，并将其命名为\n",
    "names 。依次访问该列表中的每个元素，从而将每个朋友的姓名都\n",
    "打印出来。"
   ]
  },
  {
   "cell_type": "code",
   "execution_count": 2,
   "metadata": {},
   "outputs": [
    {
     "name": "stdout",
     "output_type": "stream",
     "text": [
      "大狗子\n",
      "二狗子\n",
      "三狗子\n",
      "四狗子\n",
      "五狗子\n",
      "六狗子\n"
     ]
    }
   ],
   "source": [
    "names = ['大狗子','二狗子','三狗子','四狗子','五狗子','六狗子',]\n",
    "for name in names:\n",
    "    print(name)"
   ]
  },
  {
   "attachments": {},
   "cell_type": "markdown",
   "metadata": {},
   "source": [
    "## 3-2 问候语： \n",
    "继续使用练习3-1中的列表，但不打印每个朋友的姓名，而为每人打印一条消息。每条消息都包含相同的问候语，但抬头为相应朋友的姓名。"
   ]
  },
  {
   "cell_type": "code",
   "execution_count": 7,
   "metadata": {},
   "outputs": [
    {
     "name": "stdout",
     "output_type": "stream",
     "text": [
      "大狗子,你好!\n",
      "二狗子,你好!\n",
      "三狗子,你好!\n",
      "四狗子,你好!\n",
      "五狗子,你好!\n",
      "六狗子,你好!\n"
     ]
    }
   ],
   "source": [
    "names = ['大狗子','二狗子','三狗子','四狗子','五狗子','六狗子',]\n",
    "for name in names:\n",
    "    print(f\"{name},你好!\")\n"
   ]
  },
  {
   "attachments": {},
   "cell_type": "markdown",
   "metadata": {},
   "source": [
    "## 3-3 自己的列表： \n",
    "想想你喜欢的通勤方式，如骑摩托车或开汽车，并创建一个包含多种通勤方式的列表。根据该列表打印一系列有关这些通勤方式的宣言，如“I would like to own a Honda motorcycle”。"
   ]
  },
  {
   "cell_type": "code",
   "execution_count": 8,
   "metadata": {},
   "outputs": [
    {
     "name": "stdout",
     "output_type": "stream",
     "text": [
      "I would like to own a car\n",
      "I would like to own a bus\n",
      "I would like to own a bicycle\n",
      "I would like to own a airplane\n",
      "I would like to own a ship\n"
     ]
    }
   ],
   "source": [
    "transports = ['car','bus','bicycle','airplane','ship',]\n",
    "for transport in transports:\n",
    "    print(f\"I would like to own a {transport}\")"
   ]
  },
  {
   "attachments": {},
   "cell_type": "markdown",
   "metadata": {},
   "source": [
    "## 3-4 嘉宾名单 ：\n",
    "如果你可以邀请任何人一起共进晚餐（无论是在世的还是故去的），你会邀请哪些人？请创建一个列表，其中包含至少3个你想邀请的人；然后，使用这个列表打印消息，邀请这些人来与你共进晚餐。"
   ]
  },
  {
   "cell_type": "code",
   "execution_count": 10,
   "metadata": {},
   "outputs": [
    {
     "name": "stdout",
     "output_type": "stream",
     "text": [
      "大狗子,你好! 我想和你一起吃饭\n",
      "二狗子,你好! 我想和你一起吃饭\n",
      "三狗子,你好! 我想和你一起吃饭\n",
      "四狗子,你好! 我想和你一起吃饭\n",
      "五狗子,你好! 我想和你一起吃饭\n",
      "六狗子,你好! 我想和你一起吃饭\n"
     ]
    }
   ],
   "source": [
    "guests = ['大狗子','二狗子','三狗子','四狗子','五狗子','六狗子',]\n",
    "for guest in guests:\n",
    "    print(f\"{guest},你好! 我想和你一起吃饭\")"
   ]
  },
  {
   "attachments": {},
   "cell_type": "markdown",
   "metadata": {},
   "source": [
    "## 3-5 修改嘉宾名单 ：\n",
    "你刚得知有位嘉宾无法赴约，因此需要另外邀请一位嘉宾。\n",
    "- 以完成练习3-4时编写的程序为基础，在程序末尾添加一条print 语句，指出哪位嘉宾无法赴约。\n",
    "- 修改嘉宾名单，将无法赴约的嘉宾的姓名替换为新邀请的嘉宾的姓名。\n",
    "- 再次打印一系列消息，向名单中的每位嘉宾发出邀请。"
   ]
  },
  {
   "cell_type": "code",
   "execution_count": 14,
   "metadata": {},
   "outputs": [
    {
     "name": "stdout",
     "output_type": "stream",
     "text": [
      "大狗子,你好! 我想和你一起吃饭\n",
      "二狗子,你好! 我想和你一起吃饭\n",
      "三狗子,你好! 我想和你一起吃饭\n",
      "四狗子,你好! 我想和你一起吃饭\n",
      "五狗子,你好! 我想和你一起吃饭\n",
      "六狗子,你好! 我想和你一起吃饭\n",
      "\n",
      "六狗子因故无法前来！\n",
      "\n",
      "大狗子,你好! 我想和你一起吃饭\n",
      "二狗子,你好! 我想和你一起吃饭\n",
      "三狗子,你好! 我想和你一起吃饭\n",
      "四狗子,你好! 我想和你一起吃饭\n",
      "五狗子,你好! 我想和你一起吃饭\n",
      "七狗子,你好! 我想和你一起吃饭\n"
     ]
    }
   ],
   "source": [
    "guests = ['大狗子','二狗子','三狗子','四狗子','五狗子','六狗子',]\n",
    "for guest in guests:\n",
    "    print(f\"{guest},你好! 我想和你一起吃饭\")\n",
    "print(f\"\\n{guests[5]}因故无法前来！\\n\")\n",
    "guests[5] = '七狗子'\n",
    "for guest in guests:\n",
    "    print(f\"{guest},你好! 我想和你一起吃饭\")"
   ]
  },
  {
   "attachments": {},
   "cell_type": "markdown",
   "metadata": {},
   "source": [
    "## 3-6 添加嘉宾 ：\n",
    "你刚找到了一个更大的餐桌，可容纳更多的嘉宾。请想想你还想邀请哪三位嘉宾。\n",
    "- 以完成练习3-4或练习3-5时编写的程序为基础，在程序末尾添加一条print 语句，指出你找到了一个更大的餐桌。\n",
    "- 使用insert() 将一位新嘉宾添加到名单开头。\n",
    "- 使用insert() 将另一位新嘉宾添加到名单中间。\n",
    "- 使用append() 将最后一位新嘉宾添加到名单末尾。\n",
    "- 打印一系列消息，向名单中的每位嘉宾发出邀请。"
   ]
  },
  {
   "cell_type": "code",
   "execution_count": 19,
   "metadata": {},
   "outputs": [
    {
     "name": "stdout",
     "output_type": "stream",
     "text": [
      "大狗子,你好! 我想和你一起吃饭\n",
      "二狗子,你好! 我想和你一起吃饭\n",
      "三狗子,你好! 我想和你一起吃饭\n",
      "四狗子,你好! 我想和你一起吃饭\n",
      "五狗子,你好! 我想和你一起吃饭\n",
      "六狗子,你好! 我想和你一起吃饭\n",
      "\n",
      "一个更大的桌子被找到了, 可以邀请更多的人\n",
      "\n",
      "零狗子,你好! 我想和你一起吃饭\n",
      "大狗子,你好! 我想和你一起吃饭\n",
      "二狗子,你好! 我想和你一起吃饭\n",
      "三狗子,你好! 我想和你一起吃饭\n",
      "四狗子,你好! 我想和你一起吃饭\n",
      "五狗子,你好! 我想和你一起吃饭\n",
      "六狗子,你好! 我想和你一起吃饭\n",
      "\n",
      "\n",
      "零狗子,你好! 我想和你一起吃饭\n",
      "大狗子,你好! 我想和你一起吃饭\n",
      "二狗子,你好! 我想和你一起吃饭\n",
      "三狗子,你好! 我想和你一起吃饭\n",
      "中狗子,你好! 我想和你一起吃饭\n",
      "四狗子,你好! 我想和你一起吃饭\n",
      "五狗子,你好! 我想和你一起吃饭\n",
      "六狗子,你好! 我想和你一起吃饭\n",
      "\n",
      "\n",
      "零狗子,你好! 我想和你一起吃饭\n",
      "大狗子,你好! 我想和你一起吃饭\n",
      "二狗子,你好! 我想和你一起吃饭\n",
      "三狗子,你好! 我想和你一起吃饭\n",
      "中狗子,你好! 我想和你一起吃饭\n",
      "四狗子,你好! 我想和你一起吃饭\n",
      "五狗子,你好! 我想和你一起吃饭\n",
      "六狗子,你好! 我想和你一起吃饭\n",
      "七狗子,你好! 我想和你一起吃饭\n",
      "\n",
      "\n"
     ]
    }
   ],
   "source": [
    "guests = ['大狗子','二狗子','三狗子','四狗子','五狗子','六狗子',]\n",
    "for guest in guests:\n",
    "    print(f\"{guest},你好! 我想和你一起吃饭\")\n",
    "print(f\"\\n一个更大的桌子被找到了, 可以邀请更多的人\\n\")\n",
    "guests.insert(0,'零狗子')\n",
    "for guest in guests:\n",
    "    print(f\"{guest},你好! 我想和你一起吃饭\")\n",
    "print(f'\\n')\n",
    "guests.insert(4,'中狗子')\n",
    "for guest in guests:\n",
    "    print(f\"{guest},你好! 我想和你一起吃饭\")\n",
    "print(f'\\n')\n",
    "guests.append('七狗子')\n",
    "for guest in guests:\n",
    "    print(f\"{guest},你好! 我想和你一起吃饭\")\n",
    "print(f'\\n')"
   ]
  },
  {
   "attachments": {},
   "cell_type": "markdown",
   "metadata": {},
   "source": [
    "## 3-7 缩减名单 ：\n",
    "你刚得知新购买的餐桌无法及时送达，因此只能邀请两位嘉宾。\n",
    "- 以完成练习3-6时编写的程序为基础，在程序末尾添加一行代码，打印一条你只能邀请两位嘉宾共进晚餐的消息。\n",
    "- 使用pop() 不断地删除名单中的嘉宾，直到只有两位嘉宾为止。每次从名单中弹出一位嘉宾时，都打印一条消息，让该嘉宾知悉你很抱歉，无法邀请他来共进晚餐。\n",
    "- 对于余下的两位嘉宾中的每一位，都打印一条消息，指出他依然在受邀人之列。\n",
    "- 使用del 将最后两位嘉宾从名单中删除，让名单变成空的。打印该名单，核实程序结束时名单确实是空的。"
   ]
  },
  {
   "cell_type": "code",
   "execution_count": 29,
   "metadata": {},
   "outputs": [
    {
     "name": "stdout",
     "output_type": "stream",
     "text": [
      "大狗子,你好! 我想和你一起吃饭\n",
      "二狗子,你好! 我想和你一起吃饭\n",
      "三狗子,你好! 我想和你一起吃饭\n",
      "四狗子,你好! 我想和你一起吃饭\n",
      "五狗子,你好! 我想和你一起吃饭\n",
      "六狗子,你好! 我想和你一起吃饭\n",
      "\n",
      "一个更大的桌子被找到了, 可以邀请更多的人\n",
      "\n",
      "零狗子,你好! 我想和你一起吃饭\n",
      "大狗子,你好! 我想和你一起吃饭\n",
      "二狗子,你好! 我想和你一起吃饭\n",
      "三狗子,你好! 我想和你一起吃饭\n",
      "中狗子,你好! 我想和你一起吃饭\n",
      "四狗子,你好! 我想和你一起吃饭\n",
      "五狗子,你好! 我想和你一起吃饭\n",
      "六狗子,你好! 我想和你一起吃饭\n",
      "七狗子,你好! 我想和你一起吃饭\n",
      "\n",
      "\n",
      "因为餐桌无法及时送到,现在的情况只能邀请两个人\n",
      "\n",
      "七狗子很抱歉,因故聚会取消,举办方对此表示\n",
      "六狗子很抱歉,因故聚会取消,举办方对此表示\n",
      "五狗子很抱歉,因故聚会取消,举办方对此表示\n",
      "四狗子很抱歉,因故聚会取消,举办方对此表示\n",
      "中狗子很抱歉,因故聚会取消,举办方对此表示\n",
      "三狗子很抱歉,因故聚会取消,举办方对此表示\n",
      "二狗子很抱歉,因故聚会取消,举办方对此表示\n",
      "零狗子,你好! 我想和你一起吃饭\n",
      "大狗子,你好! 我想和你一起吃饭\n",
      "[]\n"
     ]
    }
   ],
   "source": [
    "guests = ['大狗子','二狗子','三狗子','四狗子','五狗子','六狗子',]\n",
    "for guest in guests:\n",
    "    print(f\"{guest},你好! 我想和你一起吃饭\")\n",
    "print(f\"\\n一个更大的桌子被找到了, 可以邀请更多的人\\n\")\n",
    "guests.insert(0,'零狗子')\n",
    "guests.insert(4,'中狗子')\n",
    "guests.append('七狗子')\n",
    "for guest in guests:\n",
    "    print(f\"{guest},你好! 我想和你一起吃饭\")\n",
    "print(f'\\n')\n",
    "print('因为餐桌无法及时送到,现在的情况只能邀请两个人\\n')\n",
    "while len(guests) > 2:\n",
    "    guest_error = guests.pop()\n",
    "    print(f\"{guest_error}很抱歉,因故聚会取消,举办方对此表示\")\n",
    "for guest in guests:\n",
    "    print(f\"{guest},你好! 我想和你一起吃饭\")\n",
    "del guests[:]\n",
    "#del guests[0]   #如果使用del清空list的话要标注范围，del list会把list整个删除而非清空list\n",
    "print(guests)\n"
   ]
  },
  {
   "attachments": {},
   "cell_type": "markdown",
   "metadata": {},
   "source": [
    "## 3-8 放眼世界 ：\n",
    "想出至少5个你渴望去旅游的地方。\n",
    "- 将这些地方存储在一个列表中，并确保其中的元素不是按字母顺序排列的。\n",
    "- 按原始排列顺序打印该列表。不要考虑输出是否整洁的问题，只管打印原始Python列表。\n",
    "- 使用sorted() 按字母顺序打印这个列表，同时不要修改它。\n",
    "- 再次打印该列表，核实排列顺序未变。\n",
    "- 使用sorted() 按与字母顺序相反的顺序打印这个列表，同时不要修改它。\n",
    "- 再次打印该列表，核实排列顺序未变。\n",
    "- 使用reverse() 修改列表元素的排列顺序。打印该列表，核实排列顺序确实变了。\n",
    "- 使用reverse() 再次修改列表元素的排列顺序。打印该列表，核实已恢复到原来的排列顺序。\n",
    "- 使用sort() 修改该列表，使其元素按字母顺序排列。打印该列表，核实排列顺序确实变了。\n",
    "- 使用sort() 修改该列表，使其元素按与字母顺序相反的顺序排列。打印该列表，核实排列顺序确实变了。"
   ]
  },
  {
   "cell_type": "code",
   "execution_count": 41,
   "metadata": {},
   "outputs": [
    {
     "name": "stdout",
     "output_type": "stream",
     "text": [
      "['e峨眉山', 'k昆仑山', 'l老君山', 'f伏牛山', 'y雁荡山', 'q青城山']\n",
      "['e峨眉山', 'f伏牛山', 'k昆仑山', 'l老君山', 'q青城山', 'y雁荡山']\n",
      "['e峨眉山', 'k昆仑山', 'l老君山', 'f伏牛山', 'y雁荡山', 'q青城山']\n",
      "['y雁荡山', 'q青城山', 'l老君山', 'k昆仑山', 'f伏牛山', 'e峨眉山']\n",
      "['e峨眉山', 'k昆仑山', 'l老君山', 'f伏牛山', 'y雁荡山', 'q青城山']\n",
      "\n",
      "\n",
      "['q青城山', 'y雁荡山', 'f伏牛山', 'l老君山', 'k昆仑山', 'e峨眉山']\n",
      "['e峨眉山', 'k昆仑山', 'l老君山', 'f伏牛山', 'y雁荡山', 'q青城山']\n",
      "['e峨眉山', 'f伏牛山', 'k昆仑山', 'l老君山', 'q青城山', 'y雁荡山']\n",
      "['y雁荡山', 'q青城山', 'l老君山', 'k昆仑山', 'f伏牛山', 'e峨眉山']\n"
     ]
    }
   ],
   "source": [
    "travel_destination = ['e峨眉山','k昆仑山','l老君山','f伏牛山','y雁荡山','q青城山']\n",
    "print(travel_destination)\n",
    "print(sorted(travel_destination))\n",
    "print(travel_destination)\n",
    "print(sorted(travel_destination,reverse=True))\n",
    "print(travel_destination )\n",
    "print(\"\\n\")\n",
    "travel_destination.reverse()\n",
    "print(travel_destination)\n",
    "travel_destination.reverse()\n",
    "print(travel_destination)\n",
    "travel_destination.sort()\n",
    "print(travel_destination)\n",
    "travel_destination.sort(reverse=True)\n",
    "print(travel_destination)"
   ]
  },
  {
   "attachments": {},
   "cell_type": "markdown",
   "metadata": {},
   "source": [
    "## 3-9 晚餐嘉宾 ：\n",
    "在完成练习3-4~练习3-7时编写的程序之一中，使用len() 打印一条消息，指出你邀请了多少位嘉宾来与你共进晚餐"
   ]
  },
  {
   "cell_type": "code",
   "execution_count": 42,
   "metadata": {},
   "outputs": [
    {
     "name": "stdout",
     "output_type": "stream",
     "text": [
      "大狗子,你好! 我想和你一起吃饭\n",
      "二狗子,你好! 我想和你一起吃饭\n",
      "三狗子,你好! 我想和你一起吃饭\n",
      "四狗子,你好! 我想和你一起吃饭\n",
      "五狗子,你好! 我想和你一起吃饭\n",
      "六狗子,你好! 我想和你一起吃饭\n",
      "\n",
      "六狗子因故无法前来！\n",
      "\n",
      "大狗子,你好! 我想和你一起吃饭\n",
      "二狗子,你好! 我想和你一起吃饭\n",
      "三狗子,你好! 我想和你一起吃饭\n",
      "四狗子,你好! 我想和你一起吃饭\n",
      "五狗子,你好! 我想和你一起吃饭\n",
      "七狗子,你好! 我想和你一起吃饭\n",
      "一共邀请了6个人来吃饭\n"
     ]
    }
   ],
   "source": [
    "guests = ['大狗子','二狗子','三狗子','四狗子','五狗子','六狗子',]\n",
    "for guest in guests:\n",
    "    print(f\"{guest},你好! 我想和你一起吃饭\")\n",
    "print(f\"\\n{guests[5]}因故无法前来！\\n\")\n",
    "guests[5] = '七狗子'\n",
    "for guest in guests:\n",
    "    print(f\"{guest},你好! 我想和你一起吃饭\")\n",
    "print(f'一共邀请了{len(guests)}个人来吃饭')"
   ]
  },
  {
   "cell_type": "code",
   "execution_count": null,
   "metadata": {},
   "outputs": [],
   "source": []
  }
 ],
 "metadata": {
  "kernelspec": {
   "display_name": "base",
   "language": "python",
   "name": "python3"
  },
  "language_info": {
   "codemirror_mode": {
    "name": "ipython",
    "version": 3
   },
   "file_extension": ".py",
   "mimetype": "text/x-python",
   "name": "python",
   "nbconvert_exporter": "python",
   "pygments_lexer": "ipython3",
   "version": "3.7.13"
  },
  "orig_nbformat": 4,
  "vscode": {
   "interpreter": {
    "hash": "861f9c34f7302a1aedb62edfc1533c524ce2793735e6b405602ea89eb9cb2484"
   }
  }
 },
 "nbformat": 4,
 "nbformat_minor": 2
}
