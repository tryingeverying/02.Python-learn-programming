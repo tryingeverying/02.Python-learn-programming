{
 "cells": [
  {
   "attachments": {},
   "cell_type": "markdown",
   "metadata": {},
   "source": [
    "# 第 8 章　函数"
   ]
  },
  {
   "attachments": {},
   "cell_type": "markdown",
   "metadata": {},
   "source": [
    "## 8-1 消息 ：\n",
    "编写一个名为display_message() 的函数，它打印一个句子，指出你在本章学的是什么。调用这个函数，确认显示的消息正确无误。"
   ]
  },
  {
   "cell_type": "code",
   "execution_count": 1,
   "metadata": {},
   "outputs": [
    {
     "name": "stdout",
     "output_type": "stream",
     "text": [
      "函数式编程\n"
     ]
    }
   ],
   "source": [
    "def display_message():\n",
    "    print(\"函数式编程\")\n",
    "\n",
    "def main():\n",
    "    display_message()\n",
    "\n",
    "if __name__ == \"__main__\":\n",
    "    main()"
   ]
  },
  {
   "attachments": {},
   "cell_type": "markdown",
   "metadata": {},
   "source": [
    "## 8-2 喜欢的图书 ：\n",
    "编写一个名为favorite_book() 的函数，其中包含一个名为title 的形参。这个函数打印一条消息，如One of my favorite books is Alice in Wonderland 。调用这个函数，并将一本图书的名称作为实参传递给它"
   ]
  },
  {
   "cell_type": "code",
   "execution_count": 2,
   "metadata": {},
   "outputs": [
    {
     "name": "stdout",
     "output_type": "stream",
     "text": [
      "我喜欢的一本书是乡土中国\n"
     ]
    }
   ],
   "source": [
    "def favorite_book(title):\n",
    "    print(f\"我喜欢的一本书是{title}\")\n",
    "\n",
    "def main():\n",
    "    favorite_book(\"乡土中国\")\n",
    "\n",
    "if __name__ == \"__main__\":\n",
    "    main()"
   ]
  },
  {
   "attachments": {},
   "cell_type": "markdown",
   "metadata": {},
   "source": [
    "## 8-3 T恤 ：\n",
    "编写一个名为make_shirt() 的函数，它接受一个尺码以及要印到T恤上的字样。这个函数应打印一个句子，概要地说明T恤的尺码和字样。\n",
    "使用位置实参调用这个函数来制作一件T恤；再使用关键字实参来调用这个函数。(关键字实参的意思就在实参前面加上形参的名字)"
   ]
  },
  {
   "cell_type": "code",
   "execution_count": 3,
   "metadata": {},
   "outputs": [
    {
     "name": "stdout",
     "output_type": "stream",
     "text": [
      "靓仔，你的T恤的尺寸是XXXL，上面印的内容是一见生财\n",
      "靓仔，你的T恤的尺寸是XXL，上面印的内容是天下太平\n"
     ]
    }
   ],
   "source": [
    "def make_shirt(size,character):\n",
    "    print(f\"靓仔，你的T恤的尺寸是{size}，上面印的内容是{character}\")\n",
    "\n",
    "def main():\n",
    "    make_shirt(\"XXXL\",\"一见生财\")\n",
    "    make_shirt(character = \"天下太平\",size = \"XXL\")\n",
    "\n",
    "if __name__ == \"__main__\":\n",
    "    main()"
   ]
  },
  {
   "attachments": {},
   "cell_type": "markdown",
   "metadata": {},
   "source": [
    "## 8-4 大号T恤 ：\n",
    "修改函数make_shirt() ，使其在默认情况下制作一件印有字样“I love Python”的大号T恤。调用这个函数来制作如下T恤：一件印有默认字样的大号T恤、一件印有默认字样的中号T恤和一件印有其他字样的T恤（尺码无关紧要）。"
   ]
  },
  {
   "cell_type": "code",
   "execution_count": 5,
   "metadata": {},
   "outputs": [
    {
     "name": "stdout",
     "output_type": "stream",
     "text": [
      "靓仔，你的T恤的尺寸是XXXL，上面印的内容是你瞅啥\n",
      "靓仔，你的T恤的尺寸是XXL，上面印的内容是你瞅啥\n",
      "靓仔，你的T恤的尺寸是XL，上面印的内容是天下太平\n"
     ]
    }
   ],
   "source": [
    "def make_shirt(size,character=\"你瞅啥\"):\n",
    "    print(f\"靓仔，你的T恤的尺寸是{size}，上面印的内容是{character}\")\n",
    "\n",
    "def main():\n",
    "    make_shirt(\"XXXL\",)\n",
    "    make_shirt(\"XXL\",)\n",
    "    make_shirt(\"XL\",\"天下太平\")\n",
    "\n",
    "if __name__ == \"__main__\":\n",
    "    main()"
   ]
  },
  {
   "attachments": {},
   "cell_type": "markdown",
   "metadata": {},
   "source": [
    "## 8-5 城市 ：\n",
    "编写一个名为describe_city() 的函数，它接受一座城市的名字以及该城市所属的国家。这个函数应打印一个简单的句子，如Reykjavik is in Iceland 。给用于存储国家的形参指定默认值。为三座不同的城市调用这个函数，且其中至少有一座城市不属于默认国家。"
   ]
  },
  {
   "cell_type": "code",
   "execution_count": 7,
   "metadata": {},
   "outputs": [
    {
     "name": "stdout",
     "output_type": "stream",
     "text": [
      "塞内加尔 是 高卢鸡 不可分割的领土\n",
      "法兰克福 是 普鲁士 不可分割的领土\n",
      "魁北克 是 高卢鸡 不可分割的领土\n"
     ]
    }
   ],
   "source": [
    "def describe_city(city,country = \"高卢鸡\"):\n",
    "    print(f\"{city} 是 {country} 不可分割的领土\")\n",
    "\n",
    "def main():\n",
    "    describe_city(\"塞内加尔\",)\n",
    "    describe_city(\"法兰克福\",\"普鲁士\")\n",
    "    describe_city(\"魁北克\")\n",
    "\n",
    "if __name__ == \"__main__\":\n",
    "    main()    "
   ]
  },
  {
   "attachments": {},
   "cell_type": "markdown",
   "metadata": {},
   "source": [
    "## 8-6 城市名 ：\n",
    "编写一个名为city_country() 的函数，它接受城市的名称及其所属的国家。这个函数应返回一个格式类似于下面这样的字符串：\n",
    "```python\n",
    "\"Santiago, Chile\"\n",
    "```"
   ]
  },
  {
   "cell_type": "code",
   "execution_count": 17,
   "metadata": {},
   "outputs": [
    {
     "name": "stdout",
     "output_type": "stream",
     "text": [
      "塞内加尔是高卢鸡不可分割的领土\n",
      "法兰克福是普鲁士不可分割的领土\n",
      "魁北克是高卢鸡不可分割的领土\n"
     ]
    }
   ],
   "source": [
    "def city_country(city,country = \"高卢鸡\"):\n",
    "    return (city + \"是\" + country + \"不可分割的领土\") \n",
    "\n",
    "def main():\n",
    "    print(city_country(\"塞内加尔\",))\n",
    "    print(city_country(\"法兰克福\",\"普鲁士\"))\n",
    "    print(city_country(\"魁北克\"))\n",
    "\n",
    "if __name__ == \"__main__\":\n",
    "    main()  "
   ]
  },
  {
   "attachments": {},
   "cell_type": "markdown",
   "metadata": {},
   "source": [
    "## 8-7 专辑 ：\n",
    "编写一个名为make_album() 的函数，它创建一个描述音乐专辑的字典。这个函数应接受歌手的名字和专辑名，并返回一个包含这两项信息的字典。使用这个函数创建三个表示不同专辑的字典，并打印每个返回的值，以核实字典正确地存储了专辑的信息。\n",
    "\n",
    "给函数make_album() 添加一个可选形参，以便能够存储专辑包含的歌曲数。如果调用这个函数时指定了歌曲数，就将这个值添加到表示专辑的字典中。调用这个函数，并至少在一次调用中指定专辑包含的歌曲数。"
   ]
  },
  {
   "cell_type": "code",
   "execution_count": 19,
   "metadata": {},
   "outputs": [
    {
     "name": "stdout",
     "output_type": "stream",
     "text": [
      "{'singer_name': '迈克尔杰克逊', 'ablum_name': 'beat it', 'sing_num': 3}\n",
      "{'singer_name': '贝多芬', 'ablum_name': '月光鸣奏曲'}\n"
     ]
    }
   ],
   "source": [
    "def make_album(singer_name,ablum_name,sing_num = \"\"):\n",
    "    if sing_num:\n",
    "        ablum = {\"singer_name\":singer_name,\"ablum_name\":ablum_name,\"sing_num\":sing_num,}\n",
    "    else:\n",
    "        ablum = {\"singer_name\":singer_name,\"ablum_name\":ablum_name,}\n",
    "    return ablum\n",
    "\n",
    "def main():\n",
    "    print(make_album(\"迈克尔杰克逊\",\"beat it\",3))\n",
    "    print(make_album(\"贝多芬\",\"月光鸣奏曲\"))\n",
    "\n",
    "if __name__ == \"__main__\":\n",
    "    main() "
   ]
  },
  {
   "attachments": {},
   "cell_type": "markdown",
   "metadata": {},
   "source": [
    "## 8-8 用户的专辑 ：\n",
    "在为完成练习8-7编写的程序中，编写一个while 循环，让用户输入一个专辑的歌手和名称。获取这些信息后，使用它们来调用函数make_album() ，并将创建的字典打印出来。在这个while 循环中，务必要提供退出途径。"
   ]
  },
  {
   "cell_type": "code",
   "execution_count": 21,
   "metadata": {},
   "outputs": [
    {
     "name": "stdout",
     "output_type": "stream",
     "text": [
      "{'singer_name': '1', 'ablum_name': '2'}\n",
      "{'singer_name': '3', 'ablum_name': '4'}\n"
     ]
    }
   ],
   "source": [
    "def make_album(singer_name,ablum_name,sing_num = \"\"):\n",
    "    if sing_num:\n",
    "        ablum = {\"singer_name\":singer_name,\"ablum_name\":ablum_name,\"sing_num\":sing_num,}\n",
    "    else:\n",
    "        ablum = {\"singer_name\":singer_name,\"ablum_name\":ablum_name,}\n",
    "    return ablum\n",
    "\n",
    "def main():\n",
    "    active = True\n",
    "    while active:\n",
    "        singer_name = input(\"请输入歌手名(如果输入'达咩'则终止输入)\")\n",
    "        if singer_name == \"达咩\":\n",
    "            break\n",
    "        ablum_name = input(\"请输入专辑名(如果输入'达咩'则终止输入)\")\n",
    "        if ablum_name == \"达咩\":\n",
    "            break\n",
    "        print(make_album(singer_name,ablum_name))\n",
    "\n",
    "if __name__ == \"__main__\":\n",
    "    main() "
   ]
  },
  {
   "attachments": {},
   "cell_type": "markdown",
   "metadata": {},
   "source": [
    "## 8-9 魔术师 ：\n",
    "创建一个包含魔术师名字的列表，并将其传递给一个名为show_magicians() 的函数，这个函数打印列表中每个魔术师的名字。"
   ]
  },
  {
   "cell_type": "code",
   "execution_count": 22,
   "metadata": {},
   "outputs": [
    {
     "name": "stdout",
     "output_type": "stream",
     "text": [
      "大卫科波菲尔\n",
      "刘谦\n",
      "史蒂芬·弗拉伊内\n",
      "杰森·拉蒂\n"
     ]
    }
   ],
   "source": [
    "def show_magicians(lists):\n",
    "    for i in lists:\n",
    "        print(i)\n",
    "def main():\n",
    "    magician_list = [\"大卫科波菲尔\",\"刘谦\",\"史蒂芬·弗拉伊内\",\"杰森·拉蒂\",]\n",
    "    show_magicians(magician_list)\n",
    "\n",
    "if __name__ == \"__main__\":\n",
    "    main()"
   ]
  },
  {
   "attachments": {},
   "cell_type": "markdown",
   "metadata": {},
   "source": [
    "## 8-10 了不起的魔术师 ：\n",
    "在你为完成练习8-9而编写的程序中，编写一个名为make_great() 的函数，对魔术师列表进行修改，在每个魔术师的名字中都加入字样“the Great”。调用函数show_magicians() ，确认魔术师列表确实变了。"
   ]
  },
  {
   "cell_type": "code",
   "execution_count": 25,
   "metadata": {},
   "outputs": [
    {
     "name": "stdout",
     "output_type": "stream",
     "text": [
      "the Great 大卫科波菲尔\n",
      "the Great 刘谦\n",
      "the Great 史蒂芬·弗拉伊内\n",
      "the Great 杰森·拉蒂\n"
     ]
    }
   ],
   "source": [
    "def show_magicians(lists):\n",
    "    for i in lists:\n",
    "        print(i)\n",
    "\n",
    "def make_great(lists):\n",
    "    for j in range(len(lists)):\n",
    "        lists[j] = \"the Great \" + lists[j]\n",
    "    return lists\n",
    "        \n",
    "\n",
    "def main():\n",
    "    magician_list = [\"大卫科波菲尔\",\"刘谦\",\"史蒂芬·弗拉伊内\",\"杰森·拉蒂\",]\n",
    "    show_magicians(make_great(magician_list))\n",
    "\n",
    "if __name__ == \"__main__\":\n",
    "    main()"
   ]
  },
  {
   "attachments": {},
   "cell_type": "markdown",
   "metadata": {},
   "source": [
    "## 8-11 不变的魔术师 ：\n",
    "修改你为完成练习8-10而编写的程序，在调用函数make_great() 时，向它传递魔术师列表的副本。由于不想修改原始列表，请返回修改后的列表，并将其存储到另一个列表中。分别使用这两个列表来调用show_magicians() ，确认一个列表包含的是原来的魔术师名字，而另一个列表包含的是添加了字样“the Great”的魔术师名字。"
   ]
  },
  {
   "cell_type": "code",
   "execution_count": 26,
   "metadata": {},
   "outputs": [
    {
     "name": "stdout",
     "output_type": "stream",
     "text": [
      "the Great 大卫科波菲尔\n",
      "the Great 刘谦\n",
      "the Great 史蒂芬·弗拉伊内\n",
      "the Great 杰森·拉蒂\n",
      "大卫科波菲尔\n",
      "刘谦\n",
      "史蒂芬·弗拉伊内\n",
      "杰森·拉蒂\n"
     ]
    }
   ],
   "source": [
    "def show_magicians(lists):\n",
    "    for i in lists:\n",
    "        print(i)\n",
    "\n",
    "def make_great(lists):\n",
    "    for j in range(len(lists)):\n",
    "        lists[j] = \"the Great \" + lists[j]\n",
    "    return lists\n",
    "        \n",
    "\n",
    "def main():\n",
    "    magician_list = [\"大卫科波菲尔\",\"刘谦\",\"史蒂芬·弗拉伊内\",\"杰森·拉蒂\",]\n",
    "    show_magicians(make_great(magician_list[:]))    \n",
    "    #将magician_list的拷贝作为形参传入函数\n",
    "    for x in magician_list:\n",
    "        print(x)\n",
    "\n",
    "if __name__ == \"__main__\":\n",
    "    main()"
   ]
  },
  {
   "attachments": {},
   "cell_type": "markdown",
   "metadata": {},
   "source": [
    "## 8-12 三明治 ：\n",
    "编写一个函数，它接受顾客要在三明治中添加的一系列食材。这个函数只有一个形参（它收集函数调用中提供的所有食材），并打印一条消息，对顾客点的三明治进行概述。调用这个函数三次，每次都提供不同数量的实参。"
   ]
  },
  {
   "cell_type": "code",
   "execution_count": 30,
   "metadata": {},
   "outputs": [
    {
     "name": "stdout",
     "output_type": "stream",
     "text": [
      "\n",
      "靓仔你要的煎饼果子加料:\n",
      " - 果篦\n",
      "\n",
      "靓仔你要的煎饼果子加料:\n",
      " - 果篦\n",
      " - 火腿肠\n",
      "\n",
      "靓仔你要的煎饼果子加料:\n",
      " - 果篦\n",
      " - 火腿肠\n",
      " - 培根\n"
     ]
    }
   ],
   "source": [
    "def make_sandwich(*ingredients):\n",
    "    print(\"\\n靓仔你要的煎饼果子加料:\")\n",
    "    for ingredient in ingredients:\n",
    "        print(\" - \" + ingredient)\n",
    "\n",
    "def main():\n",
    "    make_sandwich(\"果篦\",)\n",
    "    make_sandwich(\"果篦\",\"火腿肠\",)\n",
    "    make_sandwich(\"果篦\",\"火腿肠\",\"培根\",)\n",
    "\n",
    "if __name__ == \"__main__\":\n",
    "    main()"
   ]
  },
  {
   "attachments": {},
   "cell_type": "markdown",
   "metadata": {},
   "source": [
    "## 8-13 用户简介 ：\n",
    "复制前面的程序user_profile.py，在其中调用build_profile() 来创建有关你的简介；调用这个函数时，指定你的名和姓，以及三个描述你的键-值对。"
   ]
  },
  {
   "cell_type": "code",
   "execution_count": 32,
   "metadata": {},
   "outputs": [
    {
     "name": "stdout",
     "output_type": "stream",
     "text": [
      "{'location': 'princeton', 'field': 'physics'}\n",
      "{'first_name': 'albert', 'last_name': 'einstein', 'location': 'princeton', 'field': 'physics'}\n"
     ]
    }
   ],
   "source": [
    "\"\"\"user_profile.py\"\"\"\n",
    "def build_profile(first, last, **user_info):\n",
    "    # 形参**user_info 中的两个星号让Python创建一个名为user_info 的空字典\n",
    "    \"\"\"创建一个字典，其中包含我们知道的有关用户的一切\"\"\"\n",
    "    profile = {}\n",
    "    profile['first_name'] = first\n",
    "    profile['last_name'] = last\n",
    "    print(user_info)\n",
    "    for key, value in user_info.items():\n",
    "        profile[key] = value\n",
    "    return profile\n",
    "user_profile = build_profile('albert', 'einstein',\n",
    "                            location='princeton',\n",
    "                            field='physics')\n",
    "print(user_profile)"
   ]
  },
  {
   "attachments": {},
   "cell_type": "markdown",
   "metadata": {},
   "source": [
    "## 8-14 汽车 ：\n",
    "编写一个函数，将一辆汽车的信息存储在一个字典中。这个函数总是接受制造商和型号，还接受任意数量的关键字实参。这样调用这个函数：提供必不可少的信息，以及两个名称—值对，如颜色和选装配件。这个函数必须能够像下面这样进行调用：\n",
    "```python\n",
    "car = make_car('subaru', 'outback', color='blue',tow_package=True)\n",
    "```"
   ]
  },
  {
   "cell_type": "code",
   "execution_count": 33,
   "metadata": {},
   "outputs": [
    {
     "name": "stdout",
     "output_type": "stream",
     "text": [
      "{'manufacturer': 'subaru', 'model': 'outback', 'color': 'blue', 'tow_package': True}\n"
     ]
    }
   ],
   "source": [
    "def car_info(manufacturer,model,**other_info):\n",
    "    info = {}\n",
    "    info[\"manufacturer\"] = manufacturer\n",
    "    info[\"model\"] = model\n",
    "    for key,value in other_info.items():\n",
    "        info[key] = value\n",
    "    print(info)\n",
    "\n",
    "def main():\n",
    "    car_info('subaru', 'outback', color='blue',tow_package=True)\n",
    "\n",
    "if __name__ == \"__main__\":\n",
    "    main()"
   ]
  },
  {
   "attachments": {},
   "cell_type": "markdown",
   "metadata": {},
   "source": [
    "## 将函数存储在模块中\n",
    "- 将函数存储在模块中导入整个模块\n",
    "    - 要让函数是可导入的，得先创建模块。模块 是扩展名为.py的文件，包含要导入到程序中的代码"
   ]
  },
  {
   "cell_type": "code",
   "execution_count": 37,
   "metadata": {},
   "outputs": [
    {
     "name": "stdout",
     "output_type": "stream",
     "text": [
      "\n",
      "Making a 16-inch pizza with the following toppings:\n",
      "- pepperoni\n",
      "\n",
      "Making a 12-inch pizza with the following toppings:\n",
      "- mushrooms\n",
      "- green peppers\n",
      "- extra cheese\n"
     ]
    }
   ],
   "source": [
    "import function_pizza_8 as f_p_8\n",
    "\n",
    "f_p_8.make_pizza(16, 'pepperoni')\n",
    "f_p_8.make_pizza(12, 'mushrooms', 'green peppers', 'extra cheese')"
   ]
  }
 ],
 "metadata": {
  "kernelspec": {
   "display_name": "base",
   "language": "python",
   "name": "python3"
  },
  "language_info": {
   "codemirror_mode": {
    "name": "ipython",
    "version": 3
   },
   "file_extension": ".py",
   "mimetype": "text/x-python",
   "name": "python",
   "nbconvert_exporter": "python",
   "pygments_lexer": "ipython3",
   "version": "3.7.13"
  },
  "orig_nbformat": 4,
  "vscode": {
   "interpreter": {
    "hash": "861f9c34f7302a1aedb62edfc1533c524ce2793735e6b405602ea89eb9cb2484"
   }
  }
 },
 "nbformat": 4,
 "nbformat_minor": 2
}
