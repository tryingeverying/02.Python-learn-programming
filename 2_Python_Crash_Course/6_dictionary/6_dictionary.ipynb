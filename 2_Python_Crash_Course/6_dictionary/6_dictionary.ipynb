{
 "cells": [
  {
   "attachments": {},
   "cell_type": "markdown",
   "metadata": {},
   "source": [
    "# 第 6 章　字典"
   ]
  },
  {
   "attachments": {},
   "cell_type": "markdown",
   "metadata": {},
   "source": [
    "## 6-1 人 ：\n",
    "使用一个字典来存储一个熟人的信息，包括名、姓、年龄和居住的城市。该字典应包含键first_name 、last_name 、age 和city 。将存储在该字典中的每项信息都打印出来。"
   ]
  },
  {
   "cell_type": "code",
   "execution_count": 2,
   "metadata": {},
   "outputs": [
    {
     "name": "stdout",
     "output_type": "stream",
     "text": [
      "name 大狗子\n",
      "性别 LGBTQIAPKDUX\n",
      "年龄 35\n",
      "city 旧金山\n"
     ]
    }
   ],
   "source": [
    "people_info = {\"name\":\"大狗子\",\"性别\":\"LGBTQIAPKDUX\",\"年龄\":\"35\",\"city\":\"旧金山\",}\n",
    "for x,y in people_info.items():\n",
    "    print(x,y)"
   ]
  },
  {
   "attachments": {},
   "cell_type": "markdown",
   "metadata": {},
   "source": [
    "## 6-2 喜欢的数字 ：\n",
    "使用一个字典来存储一些人喜欢的数字。请想出5个人的名字，并将这些名字用作字典中的键；想出每个人喜欢的一个数字，并将这些数字作为值存储在字典中。打印每个人的名字和喜欢的数字。为让这个程序更有趣，通过询问朋友确保数据是真实的。"
   ]
  },
  {
   "cell_type": "code",
   "execution_count": 3,
   "metadata": {},
   "outputs": [
    {
     "name": "stdout",
     "output_type": "stream",
     "text": [
      "狗子们分别是大狗子\n",
      "狗子们分别是二狗子\n",
      "狗子们分别是三狗子\n",
      "狗子们分别是四狗子\n",
      "狗子们分别是五狗子\n",
      "狗子们分别是遛狗子\n",
      "狗子们的数字分别是1\n",
      "狗子们的数字分别是3\n",
      "狗子们的数字分别是5\n",
      "狗子们的数字分别是7\n",
      "狗子们的数字分别是9\n",
      "狗子们的数字分别是11\n"
     ]
    }
   ],
   "source": [
    "Favorite_Nums = {\"大狗子\":1,\"二狗子\":3,\"三狗子\":5,\"四狗子\":7,\"五狗子\":9,\"遛狗子\":11,}\n",
    "for Favorite_Num_Name in Favorite_Nums.keys():\n",
    "    print(f\"狗子们分别是{Favorite_Num_Name}\")\n",
    "for Favorite_Num in Favorite_Nums.values():\n",
    "    print(f\"狗子们的数字分别是{Favorite_Num}\")\n",
    "\n",
    "\n"
   ]
  },
  {
   "attachments": {},
   "cell_type": "markdown",
   "metadata": {},
   "source": [
    "## 6-3 词汇表 ：\n",
    "Python字典可用于模拟现实生活中的字典，但为避免混淆，我们将后者称为词汇表。\n",
    "- 想出你在前面学过的5个编程词汇，将它们用作词汇表中的键，并将它们的含义作为值存储在词汇表中。\n",
    "- 以整洁的方式打印每个词汇及其含义。为此，你可以先打印词汇，在它后面加上一个冒号，再打印词汇的含义；也可在一行打印词汇，再使用换行符（\\n ）插入一个空行，然后在下一行以缩进的方式打印词汇的含义。"
   ]
  },
  {
   "cell_type": "code",
   "execution_count": 9,
   "metadata": {},
   "outputs": [
    {
     "name": "stdout",
     "output_type": "stream",
     "text": [
      "list的意思是:\n",
      "\n",
      "\t列表\n",
      "\n",
      "tuple的意思是:\n",
      "\n",
      "\t元组\n",
      "\n",
      "char的意思是:\n",
      "\n",
      "\t字符串\n",
      "\n",
      "int的意思是:\n",
      "\n",
      "\t整数\n",
      "\n",
      "float的意思是:\n",
      "\n",
      "\t浮点数\n",
      "\n"
     ]
    }
   ],
   "source": [
    "program_vocabulary = {\"list\":\"列表\",\"tuple\":\"元组\",\"char\":\"字符串\",\"int\":\"整数\",\"float\":\"浮点数\",}\n",
    "for key,value in program_vocabulary.items():\n",
    "    print(f\"{key}的意思是:\\n\")\n",
    "    print(f\"\\t{value}\\n\")\n",
    "\n",
    "\n"
   ]
  },
  {
   "attachments": {},
   "cell_type": "markdown",
   "metadata": {},
   "source": [
    "## 6-6 调查 ：\n",
    "在6.3.1节编写的程序favorite_languages.py中执行以下操作。\n",
    "- 创建一个应该会接受调查的人员名单，其中有些人已包含在字典中，而其他人未包含在字典中。\n",
    "- 遍历这个人员名单，对于已参与调查的人，打印一条消息表示感谢。对于还未参与调查的人，打印一条消息邀请他参与调查。"
   ]
  },
  {
   "cell_type": "code",
   "execution_count": 13,
   "metadata": {},
   "outputs": [
    {
     "name": "stdout",
     "output_type": "stream",
     "text": [
      "感谢jen接受调查\n",
      "FBI, open the door !\n",
      "感谢edward接受调查\n",
      "FBI, open the door !\n",
      "FBI, open the door !\n"
     ]
    }
   ],
   "source": [
    "favorite_languages = {\n",
    "'jen': 'python',\n",
    "'sarah': 'c',\n",
    "'edward': 'ruby',\n",
    "'phil': 'python',\n",
    "}\n",
    "Survey_List = [\"jen\",\"二狗子\",\"edward\",\"大狗子\",\"三狗子\",]\n",
    "for i in Survey_List:\n",
    "    if i in favorite_languages:\n",
    "        print(f\"感谢{i}接受调查\")\n",
    "    else:\n",
    "        print(\"FBI, open the door !\")"
   ]
  },
  {
   "attachments": {},
   "cell_type": "markdown",
   "metadata": {},
   "source": [
    "## 6-7 人 ：\n",
    "在为完成练习6-1而编写的程序中，再创建两个表示人的字典，然后将这三个字典都存储在一个名为people 的列表中。遍\n",
    "历这个列表，将其中每个人的所有信息都打印出来。"
   ]
  },
  {
   "cell_type": "code",
   "execution_count": 16,
   "metadata": {},
   "outputs": [
    {
     "name": "stdout",
     "output_type": "stream",
     "text": [
      "{'name': '大狗子', '性别': 'LGBTQIAPKDUX', '年龄': '35', 'city': '旧金山'}\n",
      "{'name': '二狗子', '性别': 'lesbian', '年龄': '22', 'city': '纽约'}\n",
      "{'name': '三狗子', '性别': 'gay', '年龄': '15', 'city': '奥斯汀'}\n"
     ]
    }
   ],
   "source": [
    "people_info_1 = {\"name\":\"大狗子\",\"性别\":\"LGBTQIAPKDUX\",\"年龄\":\"35\",\"city\":\"旧金山\",}\n",
    "people_info_2 = {\"name\":\"二狗子\",\"性别\":\"lesbian\",\"年龄\":\"22\",\"city\":\"纽约\",}\n",
    "people_info_3 = {\"name\":\"三狗子\",\"性别\":\"gay\",\"年龄\":\"15\",\"city\":\"奥斯汀\",}\n",
    "peoples = [people_info_1,people_info_2,people_info_3]\n",
    "for people in peoples:\n",
    "    print(people)"
   ]
  },
  {
   "cell_type": "code",
   "execution_count": null,
   "metadata": {},
   "outputs": [],
   "source": []
  }
 ],
 "metadata": {
  "kernelspec": {
   "display_name": "base",
   "language": "python",
   "name": "python3"
  },
  "language_info": {
   "codemirror_mode": {
    "name": "ipython",
    "version": 3
   },
   "file_extension": ".py",
   "mimetype": "text/x-python",
   "name": "python",
   "nbconvert_exporter": "python",
   "pygments_lexer": "ipython3",
   "version": "3.7.13"
  },
  "orig_nbformat": 4,
  "vscode": {
   "interpreter": {
    "hash": "861f9c34f7302a1aedb62edfc1533c524ce2793735e6b405602ea89eb9cb2484"
   }
  }
 },
 "nbformat": 4,
 "nbformat_minor": 2
}
