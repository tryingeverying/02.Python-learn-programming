{
 "cells": [
  {
   "attachments": {},
   "cell_type": "markdown",
   "metadata": {},
   "source": [
    "# 第 5 章　if 语句"
   ]
  },
  {
   "attachments": {},
   "cell_type": "markdown",
   "metadata": {},
   "source": [
    "## 5-3/5 外星人颜色#1 ：\n",
    "假设在游戏中刚射杀了一个外星人，请创建一个名为alien_color 的变量，并将其设置为'green'\n",
    "、'yellow' 或'red' 。\n",
    "- 如果外星人是绿色的，就打印一条消息，指出玩家获得了5个点。\n",
    "- 如果外星人是黄色的，就打印一条消息，指出玩家获得了10个点。\n",
    "- 如果外星人是红色的，就打印一条消息，指出玩家获得了15个点。"
   ]
  },
  {
   "cell_type": "code",
   "execution_count": 1,
   "metadata": {},
   "outputs": [
    {
     "name": "stdout",
     "output_type": "stream",
     "text": [
      "恭喜靓仔消灭中级小怪兽,积分加10\n"
     ]
    }
   ],
   "source": [
    "alien_color = \"yellow\"\n",
    "if alien_color == \"green\":\n",
    "    print(\"恭喜靓仔消灭初级小怪兽,积分加5\")\n",
    "elif alien_color == \"yellow\":\n",
    "    print(\"恭喜靓仔消灭中级小怪兽,积分加10\")\n",
    "else:\n",
    "    print(\"恭喜靓仔消灭高级小怪兽,积分加10\")"
   ]
  },
  {
   "attachments": {},
   "cell_type": "markdown",
   "metadata": {},
   "source": [
    "## 5-7 喜欢的水果 ：\n",
    "创建一个列表，其中包含你喜欢的水果，再编写一系列独立的if 语句，检查列表中是否包含特定的水果。"
   ]
  },
  {
   "cell_type": "code",
   "execution_count": 2,
   "metadata": {},
   "outputs": [
    {
     "name": "stdout",
     "output_type": "stream",
     "text": [
      "这次的水果中有我喜欢的芭乐\n"
     ]
    }
   ],
   "source": [
    "fruites = [\"石榴\",\"柚子\",\"枇杷\",\"莲雾\",\"芭乐\",\"山竹\",\"榴莲\",]\n",
    "my_favorite = \"芭乐\"\n",
    "if my_favorite in fruites:\n",
    "    print(f\"这次的水果中有我喜欢的{my_favorite}\")"
   ]
  },
  {
   "attachments": {},
   "cell_type": "markdown",
   "metadata": {},
   "source": [
    "## 5-8 以特殊方式跟管理员打招呼 ：\n",
    "创建一个至少包含5个用户名的列表，且其中一个用户名为'admin' 。想象你要编写代码，在每位\n",
    "- 用户登录网站后都打印一条问候消息。遍历用户名列表，并向每位用户打印一条问候消息。\n",
    "如果用户名为'admin' ，就打印一条特殊的问候消息，如“Hello admin, would you like to see a status report?”。\n",
    "- 否则，打印一条普通的问候消息，如“Hello Eric, thank you for logging in again”。"
   ]
  },
  {
   "cell_type": "code",
   "execution_count": 4,
   "metadata": {},
   "outputs": [
    {
     "name": "stdout",
     "output_type": "stream",
     "text": [
      "Hello admin, would you like to see a status report?\n",
      "Hello 1号靓仔, thank you for logging in again\n",
      "Hello 2号靓仔, thank you for logging in again\n",
      "Hello 3号靓仔, thank you for logging in again\n",
      "Hello 4号靓仔, thank you for logging in again\n",
      "Hello 5号靓仔, thank you for logging in again\n"
     ]
    }
   ],
   "source": [
    "user_lists = [\"admin\",\"1号靓仔\",\"2号靓仔\",\"3号靓仔\",\"4号靓仔\",\"5号靓仔\",]\n",
    "for user in user_lists:\n",
    "    if user == \"admin\":\n",
    "        print(\"Hello admin, would you like to see a status report?\")\n",
    "    else:\n",
    "        print(f\"Hello {user}, thank you for logging in again\")"
   ]
  },
  {
   "attachments": {},
   "cell_type": "markdown",
   "metadata": {},
   "source": [
    "## 5-9 处理没有用户的情形 ：\n",
    "在为完成练习5-8编写的程序中，添加一条if 语句，检查用户名列表是否为空。\n",
    "- 如果为空，就打印消息“We need to find some users!”。\n",
    "- 删除列表中的所有用户名，确定将打印正确的消息。"
   ]
  },
  {
   "cell_type": "code",
   "execution_count": 6,
   "metadata": {},
   "outputs": [
    {
     "name": "stdout",
     "output_type": "stream",
     "text": [
      "We need to find some users!\n"
     ]
    }
   ],
   "source": [
    "user_lists = [\"admin\",\"1号靓仔\",\"2号靓仔\",\"3号靓仔\",\"4号靓仔\",\"5号靓仔\",]\n",
    "del user_lists[:]\n",
    "if not user_lists:\n",
    "    print(\"We need to find some users!\")\n",
    "for user in user_lists:\n",
    "    if user == \"admin\":\n",
    "        print(\"Hello admin, would you like to see a status report?\")\n",
    "    else:\n",
    "        print(f\"Hello {user}, thank you for logging in again\")"
   ]
  },
  {
   "attachments": {},
   "cell_type": "markdown",
   "metadata": {},
   "source": [
    "## 5-10 检查用户名 ：\n",
    "按下面的说明编写一个程序，模拟网站确保每位用户的用户名都独一无二的方式。\n",
    "- 创建一个至少包含5个用户名的列表，并将其命名为current_users 。\n",
    "- 再创建一个包含5个用户名的列表，将其命名为new_users ，并确保其中有一两个用户名也包含在列表current_users中。\n",
    "- 遍历列表new_users ，对于其中的每个用户名，都检查它是否已被使用。如果是这样，就打印一条消息，指出需要输入别的用户名；否则，打印一条消息，指出这个用户名未被使用。\n",
    "- 确保比较时不区分大消息；换句话说，如果用户名'John' 已被使用，应拒绝用户名'JOHN' 。"
   ]
  },
  {
   "cell_type": "code",
   "execution_count": 7,
   "metadata": {},
   "outputs": [
    {
     "name": "stdout",
     "output_type": "stream",
     "text": [
      "b2号靓仔已被占用，请重新输入用户名\n",
      "D4号靓仔已被占用，请重新输入用户名\n"
     ]
    }
   ],
   "source": [
    "current_users = [\"a1号靓仔\",\"b2号靓仔\",\"c3号靓仔\",\"d4号靓仔\",\"e5号靓仔\"]\n",
    "new_users = [\"x1号靓仔\",\"b2号靓仔\",\"m3号靓仔\",\"D4号靓仔\",\"W5号靓仔\"]\n",
    "for new_user in new_users:\n",
    "    for current_user in current_users:\n",
    "        if new_user.upper() == current_user.upper():\n",
    "            print(f\"{new_user}已被占用，请重新输入用户名\")"
   ]
  },
  {
   "attachments": {},
   "cell_type": "markdown",
   "metadata": {},
   "source": [
    "## 5-11 序数 ：\n",
    "序数表示位置，如1st和2nd。大多数序数都以th结尾，只有1、2和3例外。\n",
    "- 在一个列表中存储数字1~9。\n",
    "- 遍历这个列表。\n",
    "- 在循环中使用一个if-elif-else 结构，以打印每个数字对应的序数。输出内容应为1st 、2nd 、3rd 、4th 、5th 、6th 、7th 、8th 和9th ，但每个序数都独占一行。"
   ]
  },
  {
   "cell_type": "code",
   "execution_count": 11,
   "metadata": {},
   "outputs": [
    {
     "name": "stdout",
     "output_type": "stream",
     "text": [
      "1st\n",
      "2nd\n",
      "3rd\n",
      "4th\n",
      "5th\n",
      "6th\n",
      "7th\n",
      "8th\n",
      "9th\n"
     ]
    }
   ],
   "source": [
    "nums = [num for num in range(1,10)]\n",
    "for num in nums:\n",
    "    if num == 1:\n",
    "        print(str(num) + \"st\")\n",
    "    elif num == 2:\n",
    "        print(str(num) + \"nd\")\n",
    "    elif num == 3:\n",
    "        print(str(num) + \"rd\")\n",
    "    else:\n",
    "        print(str(num) + \"th\")    "
   ]
  },
  {
   "cell_type": "code",
   "execution_count": null,
   "metadata": {},
   "outputs": [],
   "source": []
  }
 ],
 "metadata": {
  "kernelspec": {
   "display_name": "base",
   "language": "python",
   "name": "python3"
  },
  "language_info": {
   "codemirror_mode": {
    "name": "ipython",
    "version": 3
   },
   "file_extension": ".py",
   "mimetype": "text/x-python",
   "name": "python",
   "nbconvert_exporter": "python",
   "pygments_lexer": "ipython3",
   "version": "3.7.13"
  },
  "orig_nbformat": 4,
  "vscode": {
   "interpreter": {
    "hash": "861f9c34f7302a1aedb62edfc1533c524ce2793735e6b405602ea89eb9cb2484"
   }
  }
 },
 "nbformat": 4,
 "nbformat_minor": 2
}
