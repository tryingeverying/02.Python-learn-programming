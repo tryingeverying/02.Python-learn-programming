{
 "cells": [
  {
   "cell_type": "markdown",
   "metadata": {},
   "source": [
    "# 第 10 章　文件和异常"
   ]
  },
  {
   "attachments": {},
   "cell_type": "markdown",
   "metadata": {},
   "source": [
    "## 10.1　从文件中读取数据"
   ]
  },
  {
   "cell_type": "code",
   "execution_count": 1,
   "metadata": {},
   "outputs": [
    {
     "name": "stdout",
     "output_type": "stream",
     "text": [
      "3.1415926535\n",
      "  8979323846\n",
      "  2643383279\n",
      "3.1415926535\n",
      "  8979323846\n",
      "  2643383279\n",
      "3.1415926535\n",
      "  8979323846\n",
      "  2643383279\n",
      "3.1415926535\n",
      "  8979323846\n",
      "  2643383279\n"
     ]
    }
   ],
   "source": [
    "with open(r\"tool_files_1_pi_digits.txt\") as f:\n",
    "    content = f.read()\n",
    "    print(content)\n",
    "    print(content.rstrip())\n",
    "    print(content.lstrip())\n",
    "    print(content.strip())"
   ]
  },
  {
   "attachments": {},
   "cell_type": "markdown",
   "metadata": {},
   "source": [
    "## 逐行读取"
   ]
  },
  {
   "cell_type": "code",
   "execution_count": 9,
   "metadata": {},
   "outputs": [
    {
     "name": "stdout",
     "output_type": "stream",
     "text": [
      "3.1415926535\n",
      "\n",
      "  8979323846\n",
      "\n",
      "  2643383279\n"
     ]
    }
   ],
   "source": [
    "filename = r\"tool_files_1_pi_digits.txt\"\n",
    "with open(filename) as f:\n",
    "    for line in f:\n",
    "        print(line)\n"
   ]
  },
  {
   "attachments": {},
   "cell_type": "markdown",
   "metadata": {},
   "source": [
    "## 创建一个包含文件各行内容的列表"
   ]
  },
  {
   "cell_type": "code",
   "execution_count": 11,
   "metadata": {},
   "outputs": [
    {
     "name": "stdout",
     "output_type": "stream",
     "text": [
      "3.1415926535\n",
      "  8979323846\n",
      "  2643383279\n"
     ]
    }
   ],
   "source": [
    "filename = r\"tool_files_1_pi_digits.txt\"\n",
    "with open(filename) as f:\n",
    "    lines = f.readlines()\n",
    "\n",
    "for line in lines:\n",
    "    print(line.rstrip())"
   ]
  },
  {
   "attachments": {},
   "cell_type": "markdown",
   "metadata": {},
   "source": [
    "## 使用文件的内容"
   ]
  },
  {
   "cell_type": "code",
   "execution_count": 13,
   "metadata": {},
   "outputs": [
    {
     "name": "stdout",
     "output_type": "stream",
     "text": [
      "3.141592653589793238462643383279\n",
      "32\n"
     ]
    }
   ],
   "source": [
    "filename = r\"tool_files_1_pi_digits.txt\"\n",
    "with open(filename) as f:\n",
    "    lines = f.readlines()\n",
    "\n",
    "pi_string = ''\n",
    "for line in lines:\n",
    "    pi_string += line.strip()\n",
    "\n",
    "print(pi_string)\n",
    "print(len(pi_string))"
   ]
  },
  {
   "attachments": {},
   "cell_type": "markdown",
   "metadata": {},
   "source": [
    "## 10-1 Python学习笔记\n",
    "在文本编辑器中新建一个文件，写几句话来总结一下你至此学到的Python知识，其中每一行都以“In Python you can”打头。将这个文件命名为learning_python.txt，并将其存储到为完成本章练习而编写的程序所在的目录中。编写一个程序，它读取这个文件，并将你所写的内容打印三次：第一次打印时读取整个文件；第二次打印时遍历文件对象；第三次打印时将各行存储在一个列表中，再在with 代码块外打印它们。"
   ]
  },
  {
   "cell_type": "code",
   "execution_count": 2,
   "metadata": {},
   "outputs": [
    {
     "name": "stdout",
     "output_type": "stream",
     "text": [
      "3.1415926535\n",
      "  8979323846\n",
      "  2643383279\n",
      "3.1415926535\n",
      "\n",
      "  8979323846\n",
      "\n",
      "  2643383279\n",
      "['3.1415926535\\n', '  8979323846\\n', '  2643383279']\n"
     ]
    }
   ],
   "source": [
    "filename = r\"tool_files_1_pi_digits.txt\"\n",
    "with open(filename) as f:\n",
    "    content = f.read()\n",
    "    print(content)\n",
    "\n",
    "with open(filename) as f:\n",
    "    lines = f.readlines()\n",
    "for line in lines:\n",
    "    print(line)\n",
    "\n",
    "with open(filename) as f:\n",
    "    lines = f.readlines()\n",
    "\n",
    "line_list = []\n",
    "for line in lines:\n",
    "    line_list.append(line)\n",
    "print(line_list)\n"
   ]
  },
  {
   "attachments": {},
   "cell_type": "markdown",
   "metadata": {},
   "source": [
    "## 10.2　写入文件\n",
    "### 10.2.1　写入空文件"
   ]
  },
  {
   "cell_type": "code",
   "execution_count": 3,
   "metadata": {},
   "outputs": [],
   "source": [
    "filename = 'tool_files_2_programming.txt'   \n",
    "# 如果没有该文件则open会新建该文件，如果该文件存在，write操作会覆盖原始数据\n",
    "with open(filename,\"w\") as f_b:\n",
    "    f_b.write(\"写入数据\")"
   ]
  },
  {
   "attachments": {},
   "cell_type": "markdown",
   "metadata": {},
   "source": [
    "### 10.2.2　写入多行\n"
   ]
  },
  {
   "cell_type": "code",
   "execution_count": 6,
   "metadata": {},
   "outputs": [],
   "source": [
    "filename = 'tool_files_2_programming.txt'   \n",
    "\n",
    "with open(filename,\"w\") as f_b:\n",
    "    f_b.write(\"写入数据\\n\")\n",
    "    f_b.write(\"第二次写入数据\\n\")"
   ]
  },
  {
   "attachments": {},
   "cell_type": "markdown",
   "metadata": {},
   "source": [
    "### 10.2.3　附加到文件"
   ]
  },
  {
   "cell_type": "code",
   "execution_count": 7,
   "metadata": {},
   "outputs": [],
   "source": [
    "filename = 'tool_files_2_programming.txt'   \n",
    "\n",
    "with open(filename,\"a\") as f_b:\n",
    "    f_b.write(\"第三次写入数据\\n\")\n",
    "    f_b.write(\"第四次写入数据\\n\")\n"
   ]
  },
  {
   "attachments": {},
   "cell_type": "markdown",
   "metadata": {},
   "source": [
    "## 10-3 访客 ：\n",
    "编写一个程序，提示用户输入其名字；用户作出响应后，将其名字写入到文件guest.txt中"
   ]
  },
  {
   "cell_type": "code",
   "execution_count": 3,
   "metadata": {},
   "outputs": [],
   "source": [
    "filename = 'tool_files_3_guest.txt'\n",
    "name = input(\"靓仔给个名字？\")\n",
    "if name:\n",
    "    with open(filename,'w') as f_b:\n",
    "        f_b.write(name)"
   ]
  },
  {
   "cell_type": "markdown",
   "metadata": {},
   "source": [
    "## 10-4 访客名单 ：\n",
    "编写一个while 循环，提示用户输入其名字。用户输入其名字后，在屏幕上打印一句问候语，并将一条访问记录添加到文件guest_book.txt中。确保这个文件中的每条记录都独占一行。"
   ]
  },
  {
   "cell_type": "code",
   "execution_count": null,
   "metadata": {},
   "outputs": [],
   "source": [
    "filename = 'tool_files_4_guest_book.txt'\n",
    "name = ''\n",
    "while name != '达咩':\n",
    "    name = input(\"靓仔请输入你的名字(输入'达咩'则终止程序)\")\n",
    "    with open(filename,\"a\") as f_b: #这个写法最后的判断符达咩会被写入文件中\n",
    "        f_b.write(name + '\\n')\n",
    "    "
   ]
  },
  {
   "cell_type": "code",
   "execution_count": null,
   "metadata": {},
   "outputs": [],
   "source": [
    "filename = 'tool_files_4_guest_book.txt'\n",
    "active = True  \n",
    "while active:\n",
    "    name = input(\"靓仔请输入你的名字(输入'达咩'则终止程序)\")\n",
    "    with open(filename,\"a\") as f_b:\n",
    "        f_b.write(name + '\\n')  # 这样的写法最后的判断标志达咩会被写入文件中\n",
    "    if name == '达咩':\n",
    "        active = False\n"
   ]
  },
  {
   "attachments": {},
   "cell_type": "markdown",
   "metadata": {},
   "source": [
    "### 如果不想让判断符被写入文件中就需要使用if把判断符给人为的剔除"
   ]
  },
  {
   "cell_type": "code",
   "execution_count": 9,
   "metadata": {},
   "outputs": [],
   "source": [
    "filename = 'tool_files_4_guest_book.txt'\n",
    "name = ''\n",
    "while name != '达咩':\n",
    "    name = input(\"靓仔请输入你的名字(输入'达咩'则终止程序)\")\n",
    "    if name != \"达咩\":\n",
    "        with open(filename,\"a\") as f_b: \n",
    "            f_b.write(name + '\\n')"
   ]
  },
  {
   "cell_type": "code",
   "execution_count": 8,
   "metadata": {},
   "outputs": [],
   "source": [
    "filename = 'tool_files_4_guest_book.txt'\n",
    "active = True  \n",
    "while active:\n",
    "    name = input(\"靓仔请输入你的名字(输入'达咩'则终止程序)\")\n",
    "    if name == '达咩':\n",
    "        active = False\n",
    "    else :\n",
    "        with open(filename,\"a\") as f_b:\n",
    "            f_b.write(name + '\\n')\n"
   ]
  },
  {
   "attachments": {},
   "cell_type": "markdown",
   "metadata": {},
   "source": [
    "## 10.3　异常\n"
   ]
  },
  {
   "attachments": {},
   "cell_type": "markdown",
   "metadata": {},
   "source": [
    "### 处理ZeroDivisionError 异常"
   ]
  },
  {
   "cell_type": "code",
   "execution_count": 11,
   "metadata": {},
   "outputs": [
    {
     "name": "stdout",
     "output_type": "stream",
     "text": [
      "零不能做被除数\n"
     ]
    }
   ],
   "source": [
    "try:\n",
    "    print(1/0)\n",
    "except ZeroDivisionError:\n",
    "    print(\"零不能做被除数\")\n",
    "    # 这种使用try-except的操作需要对代码有极强的掌控力，\n",
    "    # 知道可能发生那些错误，并且根据预判提前写出try-except去应对"
   ]
  },
  {
   "attachments": {},
   "cell_type": "markdown",
   "metadata": {},
   "source": [
    "### 使用异常避免崩溃"
   ]
  },
  {
   "cell_type": "code",
   "execution_count": 13,
   "metadata": {},
   "outputs": [
    {
     "name": "stdout",
     "output_type": "stream",
     "text": [
      "靓仔输入两个数字(输入'打咩'终止输入)\n",
      "零不能做被除数\n",
      "1.6666666666666667\n"
     ]
    }
   ],
   "source": [
    "print(\"靓仔输入两个数字(输入'打咩'终止输入)\")\n",
    "while True:\n",
    "    try:\n",
    "        first_number = input(\"第一个数字\")\n",
    "        if first_number == \"达咩\":\n",
    "            break\n",
    "        second_number = input(\"第二个数字\")\n",
    "        if second_number == \"达咩\":\n",
    "            break\n",
    "        answer = int(first_number) / int(second_number)\n",
    "        print(answer)\n",
    "    except ZeroDivisionError:\n",
    "        print(\"零不能做被除数\")"
   ]
  },
  {
   "attachments": {},
   "cell_type": "markdown",
   "metadata": {},
   "source": [
    "### else 代码块\n",
    "try-except-else 代码块的工作原理大致如下：Python尝试执行try代码块中的代码；只有可能引发异常的代码才需要放在try 语句中。有时候，有一些仅在try 代码块成功执行时才需要运行的代码；这些代码应放在else 代码块中。except 代码块告诉Python，如果它尝试运行try 代码块中的代码时引发了指定的异常，该怎么办。"
   ]
  },
  {
   "cell_type": "code",
   "execution_count": 14,
   "metadata": {},
   "outputs": [
    {
     "name": "stdout",
     "output_type": "stream",
     "text": [
      "靓仔输入两个数字(输入'打咩'终止输入)\n",
      "零不能做被除数\n",
      "5.0\n"
     ]
    }
   ],
   "source": [
    "print(\"靓仔输入两个数字(输入'打咩'终止输入)\")\n",
    "while True:\n",
    "    first_number = input(\"第一个数字\")\n",
    "    if first_number == \"达咩\":\n",
    "        break\n",
    "    second_number = input(\"第二个数字\")\n",
    "    if second_number == \"达咩\":\n",
    "        break\n",
    "    try:\n",
    "        answer = int(first_number) / int(second_number)\n",
    "\n",
    "    except ZeroDivisionError:\n",
    "        print(\"零不能做被除数\")\n",
    "    else:\n",
    "        print(answer)"
   ]
  },
  {
   "attachments": {},
   "cell_type": "markdown",
   "metadata": {},
   "source": [
    "### 处理FileNotFoundError 异常"
   ]
  },
  {
   "cell_type": "code",
   "execution_count": 16,
   "metadata": {},
   "outputs": [
    {
     "name": "stdout",
     "output_type": "stream",
     "text": [
      "不好意思，tool_files_5_alice.txt文件不存在\n"
     ]
    }
   ],
   "source": [
    "filename = \"tool_files_5_alice.txt\"\n",
    "try:\n",
    "    with open(filename) as f_obj:\n",
    "        contents = f_obj.read()\n",
    "except FileNotFoundError:\n",
    "    message = f\"不好意思，{filename}文件不存在\"\n",
    "    print(message)"
   ]
  },
  {
   "attachments": {},
   "cell_type": "markdown",
   "metadata": {},
   "source": [
    "### 分析文本"
   ]
  },
  {
   "cell_type": "code",
   "execution_count": 17,
   "metadata": {},
   "outputs": [
    {
     "name": "stdout",
     "output_type": "stream",
     "text": [
      "tool_files_5_alice.txt全书一共有29594词\n"
     ]
    }
   ],
   "source": [
    "filename = \"tool_files_5_alice.txt\"\n",
    "\n",
    "try:\n",
    "    with open(filename) as f_obj:\n",
    "        content = f_obj.read()\n",
    "except FileNotFoundError:\n",
    "    message = f\"不好意思，{filename}文件不存在\"\n",
    "    print(message)\n",
    "else:\n",
    "    words = content.split()\n",
    "    num_words = len(words)\n",
    "    print(f\"{filename}全书一共有{num_words}词\")"
   ]
  },
  {
   "attachments": {},
   "cell_type": "markdown",
   "metadata": {},
   "source": [
    "### 使用多个文件(函数式编程)"
   ]
  },
  {
   "cell_type": "code",
   "execution_count": 18,
   "metadata": {},
   "outputs": [
    {
     "name": "stdout",
     "output_type": "stream",
     "text": [
      "tool_files_5_alice.txt全书一共有29594词\n"
     ]
    }
   ],
   "source": [
    "def count_words(filename):\n",
    "    \"计算一个文本中含有多少个单词\"\n",
    "    try:\n",
    "        with open(filename) as f_obj:\n",
    "            content = f_obj.read()\n",
    "    except FileNotFoundError:\n",
    "        message = f\"不好意思，{filename}文件不存在\"\n",
    "        print(message)\n",
    "    else:\n",
    "        words = content.split()\n",
    "        num_words = len(words)\n",
    "        print(f\"{filename}全书一共有{num_words}词\")\n",
    "        \n",
    "filename = \"tool_files_5_alice.txt\"\n",
    "count_words(filename)"
   ]
  },
  {
   "cell_type": "code",
   "execution_count": 1,
   "metadata": {},
   "outputs": [
    {
     "name": "stdout",
     "output_type": "stream",
     "text": [
      "tool_files_5_alice.txt全书一共有29594词\n",
      "tool_files_6_little_women.txt全书一共有189142词\n",
      "tool_files_7_moby_dick.txt全书一共有215864词\n",
      "不好意思，tool_files_8_siddhartha.txt文件不存在\n"
     ]
    }
   ],
   "source": [
    "def count_words(filename):\n",
    "    \"计算一个文本中含有多少个单词\"\n",
    "    try:\n",
    "        with open(filename) as f_obj:\n",
    "            content = f_obj.read()\n",
    "    except FileNotFoundError:\n",
    "        message = f\"不好意思，{filename}文件不存在\"\n",
    "        print(message)\n",
    "    else:\n",
    "        words = content.split()\n",
    "        num_words = len(words)\n",
    "        print(f\"{filename}全书一共有{num_words}词\")\n",
    "        \n",
    "filenames = [\"tool_files_5_alice.txt\",\"tool_files_6_little_women.txt\",\n",
    "            \"tool_files_7_moby_dick.txt\",\"tool_files_8_siddhartha.txt\"]\n",
    "for filename in filenames:\n",
    "    count_words(filename)"
   ]
  },
  {
   "attachments": {},
   "cell_type": "markdown",
   "metadata": {},
   "source": [
    "### 失败时一声不吭"
   ]
  },
  {
   "cell_type": "code",
   "execution_count": 2,
   "metadata": {},
   "outputs": [
    {
     "name": "stdout",
     "output_type": "stream",
     "text": [
      "tool_files_5_alice.txt全书一共有29594词\n",
      "tool_files_6_little_women.txt全书一共有189142词\n",
      "tool_files_7_moby_dick.txt全书一共有215864词\n"
     ]
    }
   ],
   "source": [
    "def count_words(filename):\n",
    "    \"计算一个文本中含有多少个单词\"\n",
    "    try:\n",
    "        with open(filename) as f_obj:\n",
    "            content = f_obj.read()\n",
    "    except FileNotFoundError:\n",
    "        # message = f\"不好意思，{filename}文件不存在\"\n",
    "        # print(message)\n",
    "        pass\n",
    "    else:\n",
    "        words = content.split()\n",
    "        num_words = len(words)\n",
    "        print(f\"{filename}全书一共有{num_words}词\")\n",
    "        \n",
    "filenames = [\"tool_files_5_alice.txt\",\"tool_files_6_little_women.txt\",\n",
    "            \"tool_files_7_moby_dick.txt\",\"tool_files_8_siddhartha.txt\"]\n",
    "for filename in filenames:\n",
    "    count_words(filename)"
   ]
  },
  {
   "attachments": {},
   "cell_type": "markdown",
   "metadata": {},
   "source": [
    "## 10-6 加法运算 ：\n",
    "提示用户提供数值输入时，常出现的一个问题是，用户提供的是文本而不是数字。在这种情况下，当你尝试将输入转换为整数时，将引发TypeError 异常。编写一个程序，提示用户输入两个数字，再将它们相加并打印结果。在用户输入的任何一个值不是数字时都捕获TypeError 异常，并打印一条友好的错误消息。对你编写的程序进行测试：先输入两个数字，再输入一些文本而不是数字。\n"
   ]
  },
  {
   "attachments": {},
   "cell_type": "markdown",
   "metadata": {},
   "source": [
    "## 10-7 加法计算器 ：\n",
    "将你为完成练习10-6而编写的代码放在一个while 循环中，让用户犯错（输入的是文本而不是数字）后能够继续输入数字。"
   ]
  },
  {
   "cell_type": "code",
   "execution_count": 4,
   "metadata": {},
   "outputs": [
    {
     "name": "stdout",
     "output_type": "stream",
     "text": [
      "靓仔请输入两个数字(输入'达咩'则程序终止)\n",
      "2\n",
      "请确保输入的是数字\n"
     ]
    }
   ],
   "source": [
    "print(\"靓仔请输入两个数字(输入'达咩'则程序终止)\")\n",
    "while True:\n",
    "    first_number = input('第一个数字')\n",
    "    if first_number == \"达咩\":\n",
    "        break\n",
    "    second_number = input(\"第二个数字\")\n",
    "    if second_number == \"达咩\":\n",
    "        break\n",
    "    try:\n",
    "        answer = int(first_number) + int(second_number)\n",
    "    except ValueError:\n",
    "        print(\"请确保输入的是数字\")\n",
    "    else:\n",
    "        print(answer)\n"
   ]
  },
  {
   "attachments": {},
   "cell_type": "markdown",
   "metadata": {},
   "source": [
    "## 10-8 猫和狗 ：\n",
    "创建两个文件cats.txt和dogs.txt，在第一个文件中至少存储三只猫的名字，在第二个文件中至少存储三条狗的名字。编写一个程序，尝试读取这些文件，并将其内容打印到屏幕上。将这些代码放在一个try-except 代码块中，以便在文件不存在时捕获FileNotFound 错误，并打印一条友好的消息。将其中一个文件移到另一个地方，并确认except 代码块中的代码将正确地执行。"
   ]
  },
  {
   "cell_type": "code",
   "execution_count": 6,
   "metadata": {},
   "outputs": [
    {
     "name": "stdout",
     "output_type": "stream",
     "text": [
      "大黄\n",
      "二黄\n",
      "三黄\n",
      "四黄\n",
      "\n",
      "tool_files_9_cat_.txt文件未发现\n"
     ]
    }
   ],
   "source": [
    "def read_file(filename):\n",
    "    try :\n",
    "        with open(filename) as f_obj:\n",
    "            content = f_obj.read()\n",
    "    except FileNotFoundError:\n",
    "        print(f\"{filename}文件未发现\")\n",
    "    else:\n",
    "        print(content)\n",
    "\n",
    "filenames = [\"tool_files_8_dog.txt\",\"tool_files_9_cat.txt\"]\n",
    "for filename in filenames:\n",
    "    read_file(filename)"
   ]
  },
  {
   "attachments": {},
   "cell_type": "markdown",
   "metadata": {},
   "source": [
    "## 10-10 常见单词 ：\n",
    "访问项目Gutenberg(http://gutenberg.org/)，并找一些你想分析的图书。下载这些作品的文本文件或将浏览器中的原始文本复制到文本文件中。\n",
    "你可以使用方法count() 来确定特定的单词或短语在字符串中出现了多少次。例如，下面的代码计算'row' 在一个字符串中出现了多少次\n",
    "```python\n",
    ">>> line = \"Row, row, row your boat\"\n",
    ">>> line.count('row')\n",
    "2\n",
    ">>> line.lower().count('row')\n",
    "3\n",
    "```\n",
    "请注意，通过使用lower() 将字符串转换为小写，可捕捉要查找的单词出现的所有次数，而不管其大小写格式如何。\n",
    "编写一个程序，它读取你在项目Gutenberg中获取的文件，并计算单词'the' 在每个文件中分别出现了多少次。"
   ]
  },
  {
   "cell_type": "code",
   "execution_count": 15,
   "metadata": {},
   "outputs": [
    {
     "name": "stdout",
     "output_type": "stream",
     "text": [
      "tool_files_8_dog.txt 中一共出现了4次'黄'\n"
     ]
    }
   ],
   "source": [
    "filename = \"tool_files_8_dog.txt\"\n",
    "\n",
    "try:\n",
    "    with open(filename) as f_obj:\n",
    "        content = f_obj.read()\n",
    "except FileNotFoundError:\n",
    "    print(f\"{filename}文件不存在\")\n",
    "else:\n",
    "    print(f\"{filename} 中一共出现了{content.lower().count('黄')}次'黄'\")"
   ]
  },
  {
   "attachments": {},
   "cell_type": "markdown",
   "metadata": {},
   "source": [
    "## 10.4　存储数据"
   ]
  },
  {
   "attachments": {},
   "cell_type": "markdown",
   "metadata": {},
   "source": [
    "### json.dump() \n",
    "函数json.dump() 接受两个实参：要存储的数据以及可用于存储数据的文件对象。"
   ]
  },
  {
   "cell_type": "code",
   "execution_count": 16,
   "metadata": {},
   "outputs": [],
   "source": [
    "import json\n",
    "numbers = [2,3,5,7,11,13]\n",
    "\n",
    "filename = \"tool_files_9_numbers.json\"\n",
    "with open(filename,'w') as f_b:\n",
    "    json.dump(numbers,f_b)"
   ]
  },
  {
   "attachments": {},
   "cell_type": "markdown",
   "metadata": {},
   "source": [
    "### json.load()\n",
    "加载显示json数据"
   ]
  },
  {
   "cell_type": "code",
   "execution_count": 17,
   "metadata": {},
   "outputs": [
    {
     "name": "stdout",
     "output_type": "stream",
     "text": [
      "[2, 3, 5, 7, 11, 13]\n"
     ]
    }
   ],
   "source": [
    "import json\n",
    "\n",
    "filename = 'tool_files_9_numbers.json'\n",
    "\n",
    "with open(filename) as f_b:\n",
    "    content = json.load(f_b)\n",
    "print(content)"
   ]
  },
  {
   "attachments": {},
   "cell_type": "markdown",
   "metadata": {},
   "source": [
    "### 保存和读取用户生成的数据"
   ]
  },
  {
   "cell_type": "code",
   "execution_count": 34,
   "metadata": {},
   "outputs": [
    {
     "name": "stdout",
     "output_type": "stream",
     "text": [
      "大狗子靓仔，再次登录的时候我们会记得你\n"
     ]
    }
   ],
   "source": [
    "import json\n",
    "\n",
    "username = input('靓仔，你的名字说一下')\n",
    "\n",
    "filename = \"tool_files_10_username.json\"\n",
    "with open(filename,\"w\") as f_b:\n",
    "    json.dump(username,f_b, ensure_ascii=False) \n",
    "    #ensure_ascii=False 不加这个写入的时候会乱码\n",
    "    print(f\"{username}靓仔，再次登录的时候我们会记得你\")"
   ]
  },
  {
   "cell_type": "code",
   "execution_count": 35,
   "metadata": {},
   "outputs": [
    {
     "name": "stdout",
     "output_type": "stream",
     "text": [
      "大狗子靓仔，欢迎回来\n"
     ]
    }
   ],
   "source": [
    "import json\n",
    "\n",
    "filename = \"tool_files_10_username.json\"\n",
    "with open(filename) as f_b:\n",
    "    username = json.load(f_b)\n",
    "    print(f\"{username}靓仔，欢迎回来\")\n",
    "\n"
   ]
  },
  {
   "cell_type": "code",
   "execution_count": 38,
   "metadata": {},
   "outputs": [
    {
     "name": "stdout",
     "output_type": "stream",
     "text": [
      "三狗子靓仔，下次登录我们会记得你\n"
     ]
    }
   ],
   "source": [
    "import json\n",
    "# 如果文件中之前存储的有该用户名则读取，如果不存在则写入\n",
    "\n",
    "filename = \"tool_files_10_username.json\"\n",
    "try:\n",
    "    with open(filename) as f_b:\n",
    "        username = json.load(f_b)\n",
    "except FileNotFoundError:\n",
    "    username = input(\"靓仔什么名字\")\n",
    "    with open(filename) as f_b:\n",
    "        json.dump(username,f_b,ensure_ascii=False)\n",
    "        print(f'{username}靓仔，下次登录我们会记得你')\n",
    "else:\n",
    "    print(f\"{username}靓仔，欢迎回来\")"
   ]
  },
  {
   "attachments": {},
   "cell_type": "markdown",
   "metadata": {},
   "source": [
    "## 重构(函数化编程)\n",
    "经常会遇到这样的情况：代码能够正确地运行，但可做进一步的改进——将代码划分为一系列完成具体工作的函数。这样的过程被称为重构。重构让代码更清晰、更易于理解、更容易扩展。"
   ]
  },
  {
   "attachments": {},
   "cell_type": "markdown",
   "metadata": {},
   "source": [
    "#### 重构前\n",
    "函数greet_user() 所做的不仅仅是问候用户，还在存储了用户名时获取它，而在没有存储用户名时提示用户输入一个。"
   ]
  },
  {
   "cell_type": "code",
   "execution_count": 40,
   "metadata": {},
   "outputs": [
    {
     "name": "stdout",
     "output_type": "stream",
     "text": [
      "三狗子靓仔，欢迎回来\n"
     ]
    }
   ],
   "source": [
    "import json\n",
    "def greet_user():\n",
    "    filename = \"tool_files_10_username.json\"\n",
    "    try:\n",
    "        with open(filename) as f_b:\n",
    "            username = json.load(f_b)\n",
    "    except FileNotFoundError:\n",
    "        username = input(\"靓仔什么名字\")\n",
    "        with open(filename) as f_b:\n",
    "            json.dump(username,f_b,ensure_ascii=False)\n",
    "            print(f'{username}靓仔，下次登录我们会记得你')\n",
    "    else:\n",
    "        print(f\"{username}靓仔，欢迎回来\")\n",
    "\n",
    "greet_user()\n"
   ]
  },
  {
   "attachments": {},
   "cell_type": "markdown",
   "metadata": {},
   "source": [
    "#### 重构后\n"
   ]
  },
  {
   "cell_type": "code",
   "execution_count": 44,
   "metadata": {},
   "outputs": [
    {
     "name": "stdout",
     "output_type": "stream",
     "text": [
      "四狗子靓仔，下次登录我们会记得你\n"
     ]
    }
   ],
   "source": [
    "import json\n",
    "\n",
    "def get_stored_username():\n",
    "    \"\"\"如果文件中存储的有用户名则获取\"\"\"\n",
    "    filename = \"tool_files_10_username.json\"\n",
    "    try:\n",
    "        with open(filename) as f_b:\n",
    "            username = json.load(f_b)\n",
    "    except FileNotFoundError:\n",
    "        return None\n",
    "    else:\n",
    "        return username\n",
    "    \n",
    "def greet_user():\n",
    "    \"\"\"输出带有名字的问候语\"\"\"\n",
    "    username = get_stored_username()\n",
    "    if username:\n",
    "        print(f\"{username}靓仔，欢迎回来\")\n",
    "    else:\n",
    "        username = input(\"靓仔什么名字\")\n",
    "        with open(filename,'w') as f_b:\n",
    "            json.dump(username,f_b,ensure_ascii=False)\n",
    "            print(f'{username}靓仔，下次登录我们会记得你')\n",
    "greet_user()\n"
   ]
  },
  {
   "cell_type": "code",
   "execution_count": 46,
   "metadata": {},
   "outputs": [
    {
     "name": "stdout",
     "output_type": "stream",
     "text": [
      "十八狗子靓仔，下次登录我们会记得你\n"
     ]
    }
   ],
   "source": [
    "import json\n",
    "\n",
    "def get_stored_username():\n",
    "    \"\"\"如果文件中存储的有用户名则获取\"\"\"\n",
    "    filename = \"tool_files_10_username.json\"\n",
    "    try:\n",
    "        with open(filename) as f_b:\n",
    "            username = json.load(f_b)\n",
    "    except FileNotFoundError:\n",
    "        return None\n",
    "    else:\n",
    "        return username\n",
    "    \n",
    "def get_new_username():\n",
    "    \"\"\"提示新用户输入用户名\"\"\"\n",
    "    username = input(\"靓仔什么名字\")\n",
    "    with open(filename,'w') as f_b:\n",
    "        json.dump(username,f_b,ensure_ascii=False)\n",
    "    return username\n",
    "\n",
    "def greet_user():\n",
    "    \"\"\"输出带有名字的问候语\"\"\"\n",
    "    username = get_stored_username()\n",
    "    if username:\n",
    "        print(f\"{username}靓仔，欢迎回来\")\n",
    "    else:\n",
    "        username = get_new_username()\n",
    "        print(f'{username}靓仔，下次登录我们会记得你')    \n",
    "greet_user()"
   ]
  },
  {
   "attachments": {},
   "cell_type": "markdown",
   "metadata": {},
   "source": [
    "## 10-11 喜欢的数字 ：\n",
    "编写一个程序，提示用户输入他喜欢的数字，并使用json.dump() 将这个数字存储到文件中。再编写一个程序，从文件中读取这个值，并打印消息“I know your favorite number! It's _____.”。"
   ]
  },
  {
   "cell_type": "code",
   "execution_count": 47,
   "metadata": {},
   "outputs": [
    {
     "name": "stdout",
     "output_type": "stream",
     "text": [
      "你喜欢的人的名字是大狗子\n"
     ]
    }
   ],
   "source": [
    "import json\n",
    "\n",
    "filename = \"tool_files_11_favorite_people.json\"\n",
    "peoples = input(\"靓仔，输入一个你喜欢的人的名字\")\n",
    "with open(filename,'w') as f_b:\n",
    "    json.dump(peoples,f_b,ensure_ascii=False)\n",
    "\n",
    "with open(filename) as f_obj:\n",
    "    people_name = json.load(f_obj)\n",
    "    print(f\"你喜欢的人的名字是{people_name}\")"
   ]
  },
  {
   "attachments": {},
   "cell_type": "markdown",
   "metadata": {},
   "source": [
    "## 10-12 记住喜欢的数字 ：\n",
    "将练习10-11中的两个程序合而为一。如果存储了用户喜欢的数字，就向用户显示它，否则提示用户输入他喜欢的数字并将其存储到文件中。运行这个程序两次，看看它是否像预期的那样工作。"
   ]
  },
  {
   "cell_type": "code",
   "execution_count": 51,
   "metadata": {},
   "outputs": [
    {
     "name": "stdout",
     "output_type": "stream",
     "text": [
      "人名已经被储存\n"
     ]
    }
   ],
   "source": [
    "import json\n",
    "\n",
    "filename = \"tool_files_11_favorite_people.json\"\n",
    "\n",
    "try:\n",
    "    with open(filename) as f_obj:\n",
    "        people_name = json.load(f_obj)\n",
    "\n",
    "except FileNotFoundError:\n",
    "    peoples = input(\"靓仔，输入一个你喜欢的人的名字\")\n",
    "    with open(filename,'w') as f_b:\n",
    "        json.dump(peoples,f_b,ensure_ascii=False)\n",
    "    print(\"人名已经被储存\")\n",
    "\n",
    "else:\n",
    "    print(f\"你喜欢的人的名字是{people_name}\")\n"
   ]
  },
  {
   "attachments": {},
   "cell_type": "markdown",
   "metadata": {},
   "source": [
    "## 10-13 验证用户 ：\n",
    "最后一个remember_me.py版本假设用户要么已输入其用户名，要么是首次运行该程序。我们应修改这个程序，以应对这样的情形：当前和最后一次运行该程序的用户并非同一个人。\n",
    "为此，在greet_user() 中打印欢迎用户回来的消息前，先询问他用户名是否是对的。如果不对，就调用get_new_username() 让用户输入正确的用户名"
   ]
  },
  {
   "cell_type": "code",
   "execution_count": 56,
   "metadata": {},
   "outputs": [
    {
     "name": "stdout",
     "output_type": "stream",
     "text": [
      "三十狗子靓仔，下次登录我们会记得你\n"
     ]
    }
   ],
   "source": [
    "import json\n",
    "def greet_user():\n",
    "    filename = \"tool_files_10_username.json\"\n",
    "    try:\n",
    "        with open(filename) as f_b:\n",
    "            username = json.load(f_b)\n",
    "\n",
    "    except FileNotFoundError:\n",
    "        username = input(\"靓仔什么名字\")\n",
    "        with open(filename) as f_b:\n",
    "            json.dump(username,f_b,ensure_ascii=False)\n",
    "            print(f'{username}靓仔，下次登录我们会记得你')\n",
    "    \n",
    "    else:\n",
    "        active = input(f\"靓仔你是{username}吗？(是/不是)\")\n",
    "        if active == \"是\":\n",
    "            print(f\"{username}靓仔，欢迎回来\")\n",
    "        else:\n",
    "            username = input(\"靓仔什么名字\")\n",
    "            with open(filename,'w') as f_b:\n",
    "                json.dump(username,f_b,ensure_ascii=False)\n",
    "                print(f'{username}靓仔，下次登录我们会记得你')\n",
    "\n",
    "greet_user()\n"
   ]
  },
  {
   "cell_type": "code",
   "execution_count": 57,
   "metadata": {},
   "outputs": [
    {
     "name": "stdout",
     "output_type": "stream",
     "text": [
      "五十狗子靓仔，下次登录我们会记得你\n"
     ]
    }
   ],
   "source": [
    "import json\n",
    "\n",
    "def get_stored_username():\n",
    "    \"\"\"如果文件中存储的有用户名则获取\"\"\"\n",
    "    filename = \"tool_files_10_username.json\"\n",
    "    try:\n",
    "        with open(filename) as f_b:\n",
    "            username = json.load(f_b)\n",
    "\n",
    "    except FileNotFoundError:\n",
    "        return None\n",
    "    \n",
    "    else:\n",
    "        active = input(f\"靓仔你是{username}吗？(是/不是)\")\n",
    "        if active == \"是\":\n",
    "            print(f\"{username}靓仔，欢迎回来\")\n",
    "            return username\n",
    "    \n",
    "def greet_user():\n",
    "    \"\"\"输出带有名字的问候语\"\"\"\n",
    "    username = get_stored_username()\n",
    "    if username:\n",
    "        print(f\"{username}靓仔，欢迎回来\")\n",
    "    else:\n",
    "        username = input(\"靓仔什么名字\")\n",
    "        with open(filename,'w') as f_b:\n",
    "            json.dump(username,f_b,ensure_ascii=False)\n",
    "            print(f'{username}靓仔，下次登录我们会记得你')\n",
    "greet_user()\n"
   ]
  },
  {
   "cell_type": "code",
   "execution_count": 58,
   "metadata": {},
   "outputs": [
    {
     "name": "stdout",
     "output_type": "stream",
     "text": [
      "五十狗子靓仔，下次登录我们会记得你\n"
     ]
    }
   ],
   "source": [
    "import json\n",
    "\n",
    "def get_stored_username():\n",
    "    \"\"\"如果文件中存储的有用户名则获取\"\"\"\n",
    "    filename = \"tool_files_10_username.json\"\n",
    "    try:\n",
    "        with open(filename) as f_b:\n",
    "            username = json.load(f_b)\n",
    "    except FileNotFoundError:\n",
    "        return None\n",
    "    else:\n",
    "        active = input(f\"靓仔你是{username}吗？(是/不是)\")\n",
    "        if active == \"是\":\n",
    "            print(f\"{username}靓仔，欢迎回来\")\n",
    "            return username\n",
    "    \n",
    "def get_new_username():\n",
    "    \"\"\"提示新用户输入用户名\"\"\"\n",
    "    username = input(\"靓仔什么名字\")\n",
    "    with open(filename,'w') as f_b:\n",
    "        json.dump(username,f_b,ensure_ascii=False)\n",
    "    return username\n",
    "\n",
    "def greet_user():\n",
    "    \"\"\"输出带有名字的问候语\"\"\"\n",
    "    username = get_stored_username()\n",
    "    if username:\n",
    "        print(f\"{username}靓仔，欢迎回来\")\n",
    "    else:\n",
    "        username = get_new_username()\n",
    "        print(f'{username}靓仔，下次登录我们会记得你')    \n",
    "greet_user()"
   ]
  }
 ],
 "metadata": {
  "kernelspec": {
   "display_name": "base",
   "language": "python",
   "name": "python3"
  },
  "language_info": {
   "codemirror_mode": {
    "name": "ipython",
    "version": 3
   },
   "file_extension": ".py",
   "mimetype": "text/x-python",
   "name": "python",
   "nbconvert_exporter": "python",
   "pygments_lexer": "ipython3",
   "version": "3.7.13"
  },
  "orig_nbformat": 4
 },
 "nbformat": 4,
 "nbformat_minor": 2
}
