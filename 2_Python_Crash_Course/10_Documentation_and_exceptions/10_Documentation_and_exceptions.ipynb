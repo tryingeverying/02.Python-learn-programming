{
 "cells": [
  {
   "cell_type": "markdown",
   "metadata": {},
   "source": [
    "# 第 10 章　文件和异常"
   ]
  },
  {
   "attachments": {},
   "cell_type": "markdown",
   "metadata": {},
   "source": [
    "## 10.1　从文件中读取数据"
   ]
  },
  {
   "cell_type": "code",
   "execution_count": 7,
   "metadata": {},
   "outputs": [
    {
     "name": "stdout",
     "output_type": "stream",
     "text": [
      "3.1415926535\n",
      "  8979323846\n",
      "  2643383279\n",
      "3.1415926535\n",
      "  8979323846\n",
      "  2643383279\n",
      "3.1415926535\n",
      "  8979323846\n",
      "  2643383279\n",
      "3.1415926535\n",
      "  8979323846\n",
      "  2643383279\n"
     ]
    }
   ],
   "source": [
    "with open(r\"tool_files_1_pi_digits.txt\") as f:\n",
    "    content = f.read()\n",
    "    print(content)\n",
    "    print(content.rstrip())\n",
    "    print(content.lstrip())\n",
    "    print(content.strip())"
   ]
  },
  {
   "attachments": {},
   "cell_type": "markdown",
   "metadata": {},
   "source": [
    "## 逐行读取"
   ]
  },
  {
   "cell_type": "code",
   "execution_count": 9,
   "metadata": {},
   "outputs": [
    {
     "name": "stdout",
     "output_type": "stream",
     "text": [
      "3.1415926535\n",
      "\n",
      "  8979323846\n",
      "\n",
      "  2643383279\n"
     ]
    }
   ],
   "source": [
    "filename = r\"tool_files_1_pi_digits.txt\"\n",
    "with open(filename) as f:\n",
    "    for line in f:\n",
    "        print(line)\n"
   ]
  },
  {
   "attachments": {},
   "cell_type": "markdown",
   "metadata": {},
   "source": [
    "## 创建一个包含文件各行内容的列表"
   ]
  },
  {
   "cell_type": "code",
   "execution_count": 11,
   "metadata": {},
   "outputs": [
    {
     "name": "stdout",
     "output_type": "stream",
     "text": [
      "3.1415926535\n",
      "  8979323846\n",
      "  2643383279\n"
     ]
    }
   ],
   "source": [
    "filename = r\"tool_files_1_pi_digits.txt\"\n",
    "with open(filename) as f:\n",
    "    lines = f.readlines()\n",
    "\n",
    "for line in lines:\n",
    "    print(line.rstrip())"
   ]
  },
  {
   "attachments": {},
   "cell_type": "markdown",
   "metadata": {},
   "source": [
    "## 使用文件的内容"
   ]
  },
  {
   "cell_type": "code",
   "execution_count": 13,
   "metadata": {},
   "outputs": [
    {
     "name": "stdout",
     "output_type": "stream",
     "text": [
      "3.141592653589793238462643383279\n",
      "32\n"
     ]
    }
   ],
   "source": [
    "filename = r\"tool_files_1_pi_digits.txt\"\n",
    "with open(filename) as f:\n",
    "    lines = f.readlines()\n",
    "\n",
    "pi_string = ''\n",
    "for line in lines:\n",
    "    pi_string += line.strip()\n",
    "\n",
    "print(pi_string)\n",
    "print(len(pi_string))"
   ]
  },
  {
   "attachments": {},
   "cell_type": "markdown",
   "metadata": {},
   "source": [
    "## 10-1 Python学习笔记\n",
    "在文本编辑器中新建一个文件，写几句话来总结一下你至此学到的Python知识，其中每一行都以“In Python you can”打头。将这个文件命名为learning_python.txt，并将其存储到为完成本章练习而编写的程序所在的目录中。编写一个程序，它读取这个文件，并将你所写的内容打印三次：第一次打印时读取整个文件；第二次打印时遍历文件对象；第三次打印时将各行存储在一个列表中，再在with 代码块外打印它们。"
   ]
  },
  {
   "cell_type": "code",
   "execution_count": 2,
   "metadata": {},
   "outputs": [
    {
     "name": "stdout",
     "output_type": "stream",
     "text": [
      "3.1415926535\n",
      "  8979323846\n",
      "  2643383279\n",
      "3.1415926535\n",
      "\n",
      "  8979323846\n",
      "\n",
      "  2643383279\n",
      "['3.1415926535\\n', '  8979323846\\n', '  2643383279']\n"
     ]
    }
   ],
   "source": [
    "filename = r\"tool_files_1_pi_digits.txt\"\n",
    "with open(filename) as f:\n",
    "    content = f.read()\n",
    "    print(content)\n",
    "\n",
    "with open(filename) as f:\n",
    "    lines = f.readlines()\n",
    "for line in lines:\n",
    "    print(line)\n",
    "\n",
    "with open(filename) as f:\n",
    "    lines = f.readlines()\n",
    "\n",
    "line_list = []\n",
    "for line in lines:\n",
    "    line_list.append(line)\n",
    "print(line_list)\n"
   ]
  },
  {
   "attachments": {},
   "cell_type": "markdown",
   "metadata": {},
   "source": [
    "## 10.2　写入文件\n",
    "### 10.2.1　写入空文件"
   ]
  },
  {
   "cell_type": "code",
   "execution_count": 3,
   "metadata": {},
   "outputs": [],
   "source": [
    "filename = 'tool_files_2_programming.txt'   \n",
    "# 如果没有该文件则open会新建该文件，如果该文件存在，write操作会覆盖原始数据\n",
    "with open(filename,\"w\") as f_b:\n",
    "    f_b.write(\"写入数据\")"
   ]
  },
  {
   "attachments": {},
   "cell_type": "markdown",
   "metadata": {},
   "source": [
    "### 10.2.2　写入多行\n"
   ]
  },
  {
   "cell_type": "code",
   "execution_count": 6,
   "metadata": {},
   "outputs": [],
   "source": [
    "filename = 'tool_files_2_programming.txt'   \n",
    "\n",
    "with open(filename,\"w\") as f_b:\n",
    "    f_b.write(\"写入数据\\n\")\n",
    "    f_b.write(\"第二次写入数据\\n\")"
   ]
  },
  {
   "attachments": {},
   "cell_type": "markdown",
   "metadata": {},
   "source": [
    "### 10.2.3　附加到文件"
   ]
  },
  {
   "cell_type": "code",
   "execution_count": 7,
   "metadata": {},
   "outputs": [],
   "source": [
    "filename = 'tool_files_2_programming.txt'   \n",
    "\n",
    "with open(filename,\"a\") as f_b:\n",
    "    f_b.write(\"第三次写入数据\\n\")\n",
    "    f_b.write(\"第四次写入数据\\n\")\n"
   ]
  },
  {
   "attachments": {},
   "cell_type": "markdown",
   "metadata": {},
   "source": [
    "## 10-3 访客 ：\n",
    "编写一个程序，提示用户输入其名字；用户作出响应后，将其名字写入到文件guest.txt中"
   ]
  },
  {
   "cell_type": "code",
   "execution_count": 12,
   "metadata": {},
   "outputs": [],
   "source": [
    "filename = 'tool_files_3_guest.txt'\n",
    "active = True  \n",
    "while active:\n",
    "    name = input(\"靓仔请输入你的名字(输入'达咩'则终止程序)\")\n",
    "    with open(filename,\"a\") as f_b:\n",
    "        f_b.write(name + '\\n')\n",
    "    if name == '达咩':\n",
    "        active = False\n"
   ]
  },
  {
   "cell_type": "code",
   "execution_count": 18,
   "metadata": {},
   "outputs": [],
   "source": [
    "filename = 'tool_files_3_guest.txt'\n",
    "name = ''\n",
    "while name != '打咩':\n",
    "    name = input(\"靓仔请输入你的名字(输入'达咩'则终止程序)\")\n",
    "    with open(filename,\"a\") as f_b:\n",
    "        f_b.write(name + '\\n')\n",
    "    "
   ]
  }
 ],
 "metadata": {
  "kernelspec": {
   "display_name": "base",
   "language": "python",
   "name": "python3"
  },
  "language_info": {
   "codemirror_mode": {
    "name": "ipython",
    "version": 3
   },
   "file_extension": ".py",
   "mimetype": "text/x-python",
   "name": "python",
   "nbconvert_exporter": "python",
   "pygments_lexer": "ipython3",
   "version": "3.7.13"
  },
  "orig_nbformat": 4
 },
 "nbformat": 4,
 "nbformat_minor": 2
}
