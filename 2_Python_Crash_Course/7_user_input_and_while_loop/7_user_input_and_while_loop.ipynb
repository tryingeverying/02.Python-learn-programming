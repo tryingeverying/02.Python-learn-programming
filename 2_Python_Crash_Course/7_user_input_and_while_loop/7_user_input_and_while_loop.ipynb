{
 "cells": [
  {
   "attachments": {},
   "cell_type": "markdown",
   "metadata": {},
   "source": [
    "# 第 7 章　用户输入和while 循环"
   ]
  },
  {
   "attachments": {},
   "cell_type": "markdown",
   "metadata": {},
   "source": [
    "## 7-1 汽车租赁 ：\n",
    "编写一个程序，询问用户要租赁什么样的汽车，并打印一条消息，如“Let me see if I can find you a Subaru”。"
   ]
  },
  {
   "cell_type": "code",
   "execution_count": 4,
   "metadata": {},
   "outputs": [
    {
     "name": "stdout",
     "output_type": "stream",
     "text": [
      "Let me see if I can find you a Subaru\n"
     ]
    }
   ],
   "source": [
    "question = input(\"靓仔，要租车不？要虾米车？\")\n",
    "print(\"Let me see if I can find you a Subaru\")\n"
   ]
  },
  {
   "attachments": {},
   "cell_type": "markdown",
   "metadata": {},
   "source": [
    "## 7-2 餐馆订位 ：\n",
    "编写一个程序，询问用户有多少人用餐。如果超过8人，就打印一条消息，指出没有空桌；否则指出有空桌。"
   ]
  },
  {
   "cell_type": "code",
   "execution_count": 8,
   "metadata": {},
   "outputs": [
    {
     "name": "stdout",
     "output_type": "stream",
     "text": [
      "靓仔请进\n"
     ]
    }
   ],
   "source": [
    "peoples_nums = int(input(\"靓仔来吃饭呀？一个几个人？\"))\n",
    "if peoples_nums > 8 :\n",
    "    print(\"靓仔不好意思，桌子有点小，能接受分几桌不？\")\n",
    "else:\n",
    "    print(\"靓仔请进\")"
   ]
  },
  {
   "attachments": {},
   "cell_type": "markdown",
   "metadata": {},
   "source": [
    "## 7-3 10的整数倍 ：\n",
    "让用户输入一个数字，并指出这个数字是否是10的整数倍。"
   ]
  },
  {
   "cell_type": "code",
   "execution_count": 11,
   "metadata": {},
   "outputs": [
    {
     "name": "stdout",
     "output_type": "stream",
     "text": [
      "靓仔你输入的数不是10的整数倍\n"
     ]
    }
   ],
   "source": [
    "num = int(input(\"请靓仔输入一个数字\"))\n",
    "if num % 10 == 0:\n",
    "    print(\"靓仔你输入的数是10的整数倍\")\n",
    "else:\n",
    "    print(\"靓仔你输入的数不是10的整数倍\")"
   ]
  },
  {
   "attachments": {},
   "cell_type": "markdown",
   "metadata": {},
   "source": [
    "## 7-4 比萨配料 ：\n",
    "编写一个循环，提示用户输入一系列的比萨配料，并在用户输入'quit' 时结束循环。每当用户输入一种配料后，都打印一条消息，说我们会在比萨中添加这种配料。"
   ]
  },
  {
   "cell_type": "code",
   "execution_count": 15,
   "metadata": {},
   "outputs": [
    {
     "name": "stdout",
     "output_type": "stream",
     "text": [
      "好的靓仔，给你加了果子\n",
      "好的靓仔，给你加了五个鸡蛋\n",
      "好的靓仔，给你加了鸡柳\n",
      "好的靓仔，给你加了培根\n",
      "好的靓仔，给你加了火腿肠\n",
      "好的靓仔，给你加了达咩\n",
      "好嘞，靓仔。煎饼果子马上给你搞出的来哈！\n"
     ]
    }
   ],
   "source": [
    "active = True\n",
    "while active:\n",
    "    pizza = input(\"靓仔请输入煎饼果子的配料，输入'达咩'则代表加料结束\")\n",
    "    print(f\"好的靓仔，给你加了{pizza}\")\n",
    "    if pizza == \"达咩\":\n",
    "        active = False\n",
    "        print(\"好嘞，靓仔。煎饼果子马上给你搞出的来哈！\")\n"
   ]
  },
  {
   "attachments": {},
   "cell_type": "markdown",
   "metadata": {},
   "source": [
    "## 7-5 电影票 ：\n",
    "有家电影院根据观众的年龄收取不同的票价：不到3岁的观众免费；3~12岁的观众为10美元；超过12岁的观众为15美元。请编写一个循环，在其中询问用户的年龄，并指出其票价。"
   ]
  },
  {
   "cell_type": "code",
   "execution_count": 5,
   "metadata": {},
   "outputs": [
    {
     "name": "stdout",
     "output_type": "stream",
     "text": [
      "小baby，你免费看电影哦\n"
     ]
    }
   ],
   "source": [
    "age_nums = int(input(\"靓仔，今年贵庚？\"))\n",
    "if age_nums < 3:\n",
    "    print(\"小baby，你免费看电影哦\")\n",
    "if 3 <= age_nums < 12:\n",
    "    print(\"小朋友，承惠10刀\")\n",
    "if age_nums >= 12:\n",
    "    print(\"靓仔，电影票15刀\")"
   ]
  },
  {
   "attachments": {},
   "cell_type": "markdown",
   "metadata": {},
   "source": [
    "## 7-6 三个出口 ：\n",
    "以另一种方式完成练习7-4或练习7-5，在程序中采取如下所有做法。\n",
    "- 在while 循环中使用条件测试来结束循环。\n",
    "- 使用变量active 来控制循环结束的时机。\n",
    "- 使用break 语句在用户输入'quit' 时退出循环。"
   ]
  },
  {
   "cell_type": "code",
   "execution_count": 11,
   "metadata": {},
   "outputs": [
    {
     "name": "stdout",
     "output_type": "stream",
     "text": [
      "靓仔，电影票15刀\n",
      "小朋友，承惠10刀\n",
      "小baby，你免费看电影哦\n"
     ]
    }
   ],
   "source": [
    "age_nums = \"\"\n",
    "while age_nums != \"达咩\" :\n",
    "    age_nums = input(\"靓仔，今年贵庚？(输入'达咩'则终止问询)\")\n",
    "    if age_nums != '达咩':\n",
    "        if int(age_nums) < 3:\n",
    "            print(\"小baby，你免费看电影哦\")\n",
    "        if 3 <= int(age_nums) < 12:\n",
    "            print(\"小朋友，承惠10刀\")\n",
    "        if int(age_nums) >= 12:\n",
    "            print(\"靓仔，电影票15刀\")"
   ]
  },
  {
   "cell_type": "code",
   "execution_count": 9,
   "metadata": {},
   "outputs": [
    {
     "name": "stdout",
     "output_type": "stream",
     "text": [
      "靓仔，电影票15刀\n",
      "小朋友，承惠10刀\n",
      "小baby，你免费看电影哦\n"
     ]
    }
   ],
   "source": [
    "active = True\n",
    "while active :\n",
    "    age_nums = input(\"靓仔，今年贵庚？(输入'达咩'则终止问询)\")\n",
    "    if age_nums == '达咩':\n",
    "        active = False\n",
    "    else:\n",
    "        if int(age_nums) < 3:\n",
    "            print(\"小baby，你免费看电影哦\")\n",
    "        if 3 <= int(age_nums) < 12:\n",
    "            print(\"小朋友，承惠10刀\")\n",
    "        if int(age_nums) >= 12:\n",
    "            print(\"靓仔，电影票15刀\")"
   ]
  },
  {
   "cell_type": "code",
   "execution_count": 7,
   "metadata": {},
   "outputs": [
    {
     "name": "stdout",
     "output_type": "stream",
     "text": [
      "靓仔，电影票15刀\n",
      "小朋友，承惠10刀\n",
      "小baby，你免费看电影哦\n"
     ]
    }
   ],
   "source": [
    "active = True\n",
    "while active :\n",
    "    age_nums = input(\"靓仔，今年贵庚？(输入'达咩'则终止问询)\")\n",
    "    if age_nums == '达咩':\n",
    "        break\n",
    "    if int(age_nums) < 3:\n",
    "        print(\"小baby，你免费看电影哦\")\n",
    "    if 3 <= int(age_nums) < 12:\n",
    "        print(\"小朋友，承惠10刀\")\n",
    "    if int(age_nums) >= 12:\n",
    "        print(\"靓仔，电影票15刀\")"
   ]
  },
  {
   "attachments": {},
   "cell_type": "markdown",
   "metadata": {},
   "source": [
    "## 7-8 熟食店 ：\n",
    "创建一个名为sandwich_orders 的列表，在其中包含各种三明治的名字；再创建一个名为finished_sandwiches的空列表。遍历列表sandwich_orders ，对于其中的每种三明治，都打印一条消息，如I made your tuna sandwich ，并将其移到列表finished_sandwiches 。所有三明治都制作好后，打印一条消息，将这些三明治列出来。"
   ]
  },
  {
   "cell_type": "code",
   "execution_count": 69,
   "metadata": {},
   "outputs": [
    {
     "name": "stdout",
     "output_type": "stream",
     "text": [
      "我正在做煎饼果子\n",
      "[]\n",
      "['熏肉大饼', '鸡蛋灌饼', '韭菜盒子']\n",
      "我正在做鸡蛋灌饼\n",
      "['煎饼果子']\n",
      "['鸡蛋灌饼', '韭菜盒子']\n"
     ]
    }
   ],
   "source": [
    "sandwich_orders = [\"煎饼果子\",\"熏肉大饼\",\"鸡蛋灌饼\",\"韭菜盒子\"]\n",
    "finished_sandwiches = []\n",
    "for sandwich_order in sandwich_orders:  # for循环和pop相冲突 这个要改\n",
    "    print(f\"我正在做{sandwich_order}\")\n",
    "    temp = sandwich_orders.pop(0)\n",
    "    print(finished_sandwiches)\n",
    "    finished_sandwiches.append(temp)\n",
    "    print(sandwich_orders)\n",
    "    while sandwich_orders == []:\n",
    "        print(\"所有的小吃都已经做好\")\n",
    "        for finished_sandwiche in finished_sandwiches:\n",
    "            print(f\"{finished_sandwiche}已经做好\")\n",
    "        print(sandwich_orders,finished_sandwiches)"
   ]
  },
  {
   "cell_type": "code",
   "execution_count": 79,
   "metadata": {},
   "outputs": [
    {
     "name": "stdout",
     "output_type": "stream",
     "text": [
      "我正在做韭菜盒子\n",
      "我正在做鸡蛋灌饼\n",
      "我正在做熏肉大饼\n",
      "我正在做煎饼果子\n",
      "所有的小吃都已经做好\n",
      "韭菜盒子已经做好\n",
      "鸡蛋灌饼已经做好\n",
      "熏肉大饼已经做好\n",
      "煎饼果子已经做好\n",
      "[] ['韭菜盒子', '鸡蛋灌饼', '熏肉大饼', '煎饼果子']\n"
     ]
    }
   ],
   "source": [
    "sandwich_orders = [\"煎饼果子\",\"熏肉大饼\",\"鸡蛋灌饼\",\"韭菜盒子\"]\n",
    "finished_sandwiches = []\n",
    "while sandwich_orders: #这样搞sandwich_orders和finished_sandwiches的内容顺序是反的\n",
    "    temp = sandwich_orders.pop()\n",
    "    print(f\"我正在做{temp}\")\n",
    "    finished_sandwiches.append(temp)\n",
    "print(\"所有的小吃都已经做好\")\n",
    "for finished_sandwiche in finished_sandwiches:\n",
    "    print(f\"{finished_sandwiche}已经做好\")\n",
    "print(sandwich_orders,finished_sandwiches)"
   ]
  },
  {
   "cell_type": "code",
   "execution_count": 78,
   "metadata": {},
   "outputs": [
    {
     "name": "stdout",
     "output_type": "stream",
     "text": [
      "我正在做煎饼果子\n",
      "我正在做熏肉大饼\n",
      "我正在做鸡蛋灌饼\n",
      "我正在做韭菜盒子\n",
      "所有的小吃都已经做好\n",
      "煎饼果子已经做好\n",
      "熏肉大饼已经做好\n",
      "鸡蛋灌饼已经做好\n",
      "韭菜盒子已经做好\n",
      "['煎饼果子', '熏肉大饼', '鸡蛋灌饼', '韭菜盒子'] [] ['煎饼果子', '熏肉大饼', '鸡蛋灌饼', '韭菜盒子']\n"
     ]
    }
   ],
   "source": [
    "sandwich_orders = [\"煎饼果子\",\"熏肉大饼\",\"鸡蛋灌饼\",\"韭菜盒子\"]\n",
    "sandwich_order_temp = sandwich_orders[::-1] # 手工把list给倒置，这个感觉还是有点蠢\n",
    "finished_sandwiches = []\n",
    "while sandwich_order_temp : \n",
    "    temp = sandwich_order_temp.pop()\n",
    "    print(f\"我正在做{temp}\")\n",
    "    finished_sandwiches.append(temp)\n",
    "print(\"所有的小吃都已经做好\")\n",
    "for finished_sandwiche in finished_sandwiches:\n",
    "    print(f\"{finished_sandwiche}已经做好\")\n",
    "print(sandwich_orders,sandwich_order_temp,finished_sandwiches)"
   ]
  },
  {
   "cell_type": "code",
   "execution_count": 76,
   "metadata": {},
   "outputs": [
    {
     "name": "stdout",
     "output_type": "stream",
     "text": [
      "1\n",
      "[1, 2, 3, 4, 5]\n",
      "3\n",
      "[2, 3, 4, 5]\n",
      "5\n",
      "[3, 4, 5]\n",
      "[1, 2, 3]\n"
     ]
    }
   ],
   "source": [
    "num_1 = [1,2,3,4,5]\n",
    "num_2 = []\n",
    "for i in num_1:\n",
    "    # for循环的index是按0123走的 但是由于后面的pop函数将list更改了 \n",
    "    # 所以导致每次for循环的list不一致 第一次for循环后要遍历的索引到1 \n",
    "    # 但是由于pop把list改了 所以此时for循环中索引为1的值变为了原来2对应的值，也就是3\n",
    "    # 当for循环两次后 此时的list为[3,4,5]，for循环遍历的索引是2 此时for取出list的值为5\n",
    "    # 此时pop取出变更后的list的第一个值3 但是此时经过又一次的pop后，\n",
    "    # list为[4,5]到达for循环后for需要索引是3 \n",
    "    # 但是新list的len为2 无法循环 程序停止\n",
    "    print(i)\n",
    "    print(num_1)\n",
    "    num_2.append(num_1.pop(0))\n",
    "print(num_2)"
   ]
  },
  {
   "attachments": {},
   "cell_type": "markdown",
   "metadata": {},
   "source": [
    "## 7-9 五香烟熏牛肉（pastrami）卖完了 ：\n",
    "使用为完成练习7-8而创建的列表sandwich_orders ，并确保'pastrami' 在其中至少出现了三次。在程序开头附近添加这样的代码：打印一条消息，指出熟食店的五香烟熏牛肉卖完了；再使用一个while 循环将列表\n",
    "sandwich_orders 中的'pastrami' 都删除。确认最终的列表finished_sandwiches 中不包含'pastrami' 。"
   ]
  },
  {
   "cell_type": "code",
   "execution_count": 80,
   "metadata": {},
   "outputs": [
    {
     "name": "stdout",
     "output_type": "stream",
     "text": [
      "['煎饼果子', '熏肉大饼', '鸡蛋灌饼', '韭菜盒子']\n"
     ]
    }
   ],
   "source": [
    "sandwich_orders = [\"煎饼果子\",\"手抓饼\",\"熏肉大饼\",\"手抓饼\",\"鸡蛋灌饼\",\"韭菜盒子\",\"手抓饼\",\"手抓饼\"]\n",
    "while \"手抓饼\" in sandwich_orders:\n",
    "    sandwich_orders.remove(\"手抓饼\")\n",
    "print(sandwich_orders)\n"
   ]
  },
  {
   "attachments": {},
   "cell_type": "markdown",
   "metadata": {},
   "source": [
    "## 7-10 梦想的度假胜地 ：\n",
    "编写一个程序，调查用户梦想的度假胜地。使用类似于“If you could visit one place in the world,\n",
    "where would you go?”的提示，并编写一个打印调查结果的代码块。"
   ]
  },
  {
   "cell_type": "code",
   "execution_count": 85,
   "metadata": {},
   "outputs": [
    {
     "name": "stdout",
     "output_type": "stream",
     "text": [
      "{'刘墉': '印度', '大狗子': '冈比亚', '二狗子': '埃塞俄比亚', '四狗子': '赤道几内亚'}\n",
      "刘墉 want to go to 印度\n",
      "大狗子 want to go to 冈比亚\n",
      "二狗子 want to go to 埃塞俄比亚\n",
      "四狗子 want to go to 赤道几内亚\n"
     ]
    }
   ],
   "source": [
    "active = True\n",
    "info = {}\n",
    "while active:\n",
    "    name = input(\"靓仔，what is your name ?\") \n",
    "    #不能让name同时兼顾标签的功能，这样如果标签条件成立时，name会被更改成标签的判定值   \n",
    "    place = input(\"靓仔，where are you want to go to ?\")\n",
    "    info[name] = place\n",
    "    active = input(\"if you input '达咩'则终止闻讯\")\n",
    "    if active == \"达咩\":\n",
    "        break\n",
    "print(info)\n",
    "for i,j in info.items():\n",
    "    print(f\"{i} want to go to {j}\")   "
   ]
  }
 ],
 "metadata": {
  "kernelspec": {
   "display_name": "base",
   "language": "python",
   "name": "python3"
  },
  "language_info": {
   "codemirror_mode": {
    "name": "ipython",
    "version": 3
   },
   "file_extension": ".py",
   "mimetype": "text/x-python",
   "name": "python",
   "nbconvert_exporter": "python",
   "pygments_lexer": "ipython3",
   "version": "3.7.13"
  },
  "orig_nbformat": 4,
  "vscode": {
   "interpreter": {
    "hash": "861f9c34f7302a1aedb62edfc1533c524ce2793735e6b405602ea89eb9cb2484"
   }
  }
 },
 "nbformat": 4,
 "nbformat_minor": 2
}
