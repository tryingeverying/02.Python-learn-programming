{
 "cells": [
  {
   "attachments": {},
   "cell_type": "markdown",
   "metadata": {},
   "source": [
    "# 第 9 章　类"
   ]
  },
  {
   "cell_type": "code",
   "execution_count": 4,
   "metadata": {},
   "outputs": [
    {
     "name": "stdout",
     "output_type": "stream",
     "text": [
      "My dog's name is 阿黄.\n",
      "My dog is 3 years old.\n",
      "阿黄蹲下\n",
      "阿黄打滚\n"
     ]
    }
   ],
   "source": [
    "class Dog():\n",
    "    def __init__(self,name,age) -> None:\n",
    "        \"\"\"初始化属性\"\"\"\n",
    "        self.name = name \n",
    "        self.age = age\n",
    "    # dog的两个方法\n",
    "    def sit(self):\n",
    "        \"\"\"模拟小狗接受命令作出蹲下的动作\"\"\"\n",
    "        print(self.name + \"蹲下\")\n",
    "\n",
    "    def roll_over(self):\n",
    "        \"\"\"模拟小狗接受命令作出打滚的动作\"\"\"\n",
    "        print(self.name + \"打滚\")\n",
    "\n",
    "little_dog = Dog(\"阿黄\",3)\n",
    "print(\"My dog's name is \" + little_dog.name.title() + \".\")\n",
    "print(\"My dog is \" + str(little_dog.age) + \" years old.\")\n",
    "little_dog.sit()\n",
    "little_dog.roll_over()"
   ]
  },
  {
   "attachments": {},
   "cell_type": "markdown",
   "metadata": {},
   "source": [
    "## 9-1 餐馆 ：\n",
    "创建一个名为Restaurant 的类，其方法__init__() 设置两个属性：restaurant_name 和cuisine_type 。创建一个名为describe_restaurant() 的方法和一个名为open_restaurant() 的方法，其中前者打印前述两项信息，而后者打印一条消息，指出餐馆正在营业。\n",
    "\n",
    "根据这个类创建一个名为restaurant 的实例，分别打印其两个属性，再调用前述两个方法"
   ]
  },
  {
   "cell_type": "code",
   "execution_count": 7,
   "metadata": {},
   "outputs": [
    {
     "name": "stdout",
     "output_type": "stream",
     "text": [
      "黄焖鸡米饭大饭店，主营鲁菜\n",
      "\n",
      "黄焖鸡米饭大饭店开门了 \n"
     ]
    }
   ],
   "source": [
    "class Restaurant():\n",
    "    def __init__(self,restaurant_name,cuisine_type) -> None:\n",
    "        self.restaurant_name = restaurant_name\n",
    "        self.cuisine_type = cuisine_type\n",
    "\n",
    "    def describe_restaurant(self):\n",
    "        print(f\"{self.restaurant_name}大饭店，主营{self.cuisine_type}\\n\")\n",
    "\n",
    "    def open_restaurant(self):\n",
    "        print(f\"{self.restaurant_name}大饭店开门了 \")\n",
    "    \n",
    "big_restaurant = Restaurant(\"黄焖鸡米饭\",\"鲁菜\")\n",
    "big_restaurant.describe_restaurant()\n",
    "big_restaurant.open_restaurant()"
   ]
  },
  {
   "attachments": {},
   "cell_type": "markdown",
   "metadata": {},
   "source": [
    "## 9-2 三家餐馆 ：\n",
    "根据你为完成练习9-1而编写的类创建三个实例，并对每个实例调用方法describe_restaurant() 。"
   ]
  },
  {
   "cell_type": "code",
   "execution_count": 8,
   "metadata": {},
   "outputs": [
    {
     "name": "stdout",
     "output_type": "stream",
     "text": [
      "黄焖鸡米饭大饭店，主营鲁菜\n",
      "\n",
      "隆江猪脚饭大饭店，主营粤菜\n",
      "\n",
      "小龙坎大饭店，主营川菜\n",
      "\n"
     ]
    }
   ],
   "source": [
    "big_restaurant = Restaurant(\"黄焖鸡米饭\",\"鲁菜\")\n",
    "medium_restaurant = Restaurant(\"隆江猪脚饭\",\"粤菜\")\n",
    "little_restaurant = Restaurant(\"小龙坎\",\"川菜\")\n",
    "big_restaurant.describe_restaurant()\n",
    "medium_restaurant.describe_restaurant()\n",
    "little_restaurant.describe_restaurant()"
   ]
  },
  {
   "attachments": {},
   "cell_type": "markdown",
   "metadata": {},
   "source": [
    "## 9-3 用户 ：\n",
    "创建一个名为User 的类，其中包含属性first_name和last_name ，还有用户简介通常会存储的其他几个属性。在类User 中定义一个名为describe_user() 的方法，它打印用户信息摘要；再定义一个名为greet_user()greet_user() 的方法，它向用户发出个性化的问候。\n",
    "\n",
    "创建多个表示不同用户的实例，并对每个实例都调用上述两个方法。"
   ]
  },
  {
   "cell_type": "code",
   "execution_count": 2,
   "metadata": {},
   "outputs": [
    {
     "name": "stdout",
     "output_type": "stream",
     "text": [
      "大狗子今年18岁了\n",
      "\n",
      "靓仔，欢迎大狗子\n",
      "\n",
      "二狗子今年20岁了\n",
      "\n",
      "靓仔，欢迎二狗子\n",
      "\n",
      "三狗子今年35岁了\n",
      "\n",
      "靓仔，欢迎三狗子\n",
      "\n"
     ]
    }
   ],
   "source": [
    "class User():\n",
    "    def __init__(self,first_name,last_name,age) -> None:\n",
    "        self.first_name = first_name\n",
    "        self.last_name = last_name\n",
    "        self.age = age\n",
    "\n",
    "    def describe_user(self):\n",
    "        print(f\"{self.first_name}{self.last_name}今年{self.age}岁了\\n\")\n",
    "\n",
    "    def greet_user(self):\n",
    "        print(f\"靓仔，欢迎{self.first_name}{self.last_name}\\n\")\n",
    "\n",
    "da_uesr = User(\"大\",\"狗子\",18)\n",
    "er_uesr = User(\"二\",\"狗子\",20)\n",
    "sj_uesr = User(\"三\",\"狗子\",35)\n",
    "da_uesr.describe_user()\n",
    "da_uesr.greet_user()\n",
    "er_uesr.describe_user()\n",
    "er_uesr.greet_user()\n",
    "sj_uesr.describe_user()\n",
    "sj_uesr.greet_user()"
   ]
  },
  {
   "cell_type": "code",
   "execution_count": 3,
   "metadata": {},
   "outputs": [
    {
     "name": "stdout",
     "output_type": "stream",
     "text": [
      "2008 上汽 金杯\n",
      "这个车已经开了0公里了\n"
     ]
    }
   ],
   "source": [
    "class Car():\n",
    "\n",
    "    def __init__(self,make,model,year) -> None:\n",
    "        self.make = make\n",
    "        self.model = model\n",
    "        self.year = year\n",
    "        self.odometer_reading = 0 \n",
    "        #默认属性，有点类似于函数中的默认参数，他这个不用在上面初始化的操作有点秀，\n",
    "        # 但是看情况他给的是定值，如果这个值后期是可以修改的那应该还是要传入参数的\n",
    "\n",
    "    def get_descriptive_name(self):\n",
    "        long_name = str(self.year) + \" \" + self.make + \" \" + self.model\n",
    "        return long_name.title()\n",
    "\n",
    "    def read_odometer(self):\n",
    "        print(f\"这个车已经开了{self.odometer_reading}公里了\")\n",
    "\n",
    "old_car = Car('上汽',\"金杯\",2008)\n",
    "print(old_car.get_descriptive_name())\n",
    "old_car.read_odometer()"
   ]
  },
  {
   "attachments": {},
   "cell_type": "markdown",
   "metadata": {},
   "source": [
    "## 修改属性的值\n",
    "### 1. 直接修改属性的值"
   ]
  },
  {
   "cell_type": "code",
   "execution_count": 4,
   "metadata": {},
   "outputs": [
    {
     "name": "stdout",
     "output_type": "stream",
     "text": [
      "这个车已经开了3366公里了\n"
     ]
    }
   ],
   "source": [
    "old_car.odometer_reading = 3366 #上面哪个设想不太对了，他是通过外部直接改数值的，有点没想到\n",
    "old_car.read_odometer()"
   ]
  },
  {
   "attachments": {},
   "cell_type": "markdown",
   "metadata": {},
   "source": [
    "### 2. 通过方法修改属性的值"
   ]
  },
  {
   "cell_type": "code",
   "execution_count": 5,
   "metadata": {},
   "outputs": [
    {
     "name": "stdout",
     "output_type": "stream",
     "text": [
      "2008 上汽 金杯\n",
      "这个车已经开了7878公里了\n"
     ]
    }
   ],
   "source": [
    "class Car():\n",
    "\n",
    "    def __init__(self,make,model,year) -> None:\n",
    "        self.make = make\n",
    "        self.model = model\n",
    "        self.year = year\n",
    "        self.odometer_reading = 0 \n",
    "        #默认属性，有点类似于函数中的默认参数，他这个不用在上面初始化的操作有点秀，\n",
    "        # 但是看情况他给的是定值，如果这个值后期是可以修改的那应该还是要传入参数的\n",
    "\n",
    "    def get_descriptive_name(self):\n",
    "        long_name = str(self.year) + \" \" + self.make + \" \" + self.model\n",
    "        return long_name.title()\n",
    "\n",
    "    def read_odometer(self):\n",
    "        print(f\"这个车已经开了{self.odometer_reading}公里了\")\n",
    "\n",
    "    def update_odometer(self,mileage):\n",
    "        self.odometer_reading = mileage\n",
    "        \n",
    "old_car = Car('上汽',\"金杯\",2008)\n",
    "print(old_car.get_descriptive_name())\n",
    "old_car.update_odometer(7878)\n",
    "old_car.read_odometer()"
   ]
  },
  {
   "attachments": {},
   "cell_type": "markdown",
   "metadata": {},
   "source": [
    "### 3. 通过方法对属性的值进行递增"
   ]
  },
  {
   "cell_type": "code",
   "execution_count": 10,
   "metadata": {},
   "outputs": [
    {
     "name": "stdout",
     "output_type": "stream",
     "text": [
      "2008 上汽 金杯\n",
      "这个车已经开了7878公里了\n",
      "这个车已经开了17878公里了\n"
     ]
    }
   ],
   "source": [
    "class Car():\n",
    "\n",
    "    def __init__(self,make,model,year) -> None:\n",
    "        self.make = make\n",
    "        self.model = model\n",
    "        self.year = year\n",
    "        self.odometer_reading = 0 \n",
    "        # 默认属性，有点类似于函数中的默认参数，他这个不用在上面初始化的操作有点秀，\n",
    "        # 但是看情况他给的是定值，如果这个值后期是可以修改的那应该还是要传入参数的\n",
    "\n",
    "    def get_descriptive_name(self):\n",
    "        long_name = str(self.year) + \" \" + self.make + \" \" + self.model\n",
    "        return long_name.title()\n",
    "\n",
    "    def read_odometer(self):\n",
    "        print(f\"这个车已经开了{self.odometer_reading}公里了\")\n",
    "\n",
    "    def update_odometer(self,mileage):\n",
    "        self.odometer_reading = mileage\n",
    "\n",
    "    def increment_odometer(self,miles):\n",
    "        self.odometer_reading += miles\n",
    "        \n",
    "old_car = Car('上汽',\"金杯\",2008)\n",
    "print(old_car.get_descriptive_name())\n",
    "old_car.update_odometer(7878)\n",
    "old_car.read_odometer()\n",
    "old_car.increment_odometer(10000)\n",
    "old_car.read_odometer()\n"
   ]
  },
  {
   "attachments": {},
   "cell_type": "markdown",
   "metadata": {},
   "source": [
    "## 9-4 就餐人数 ：\n",
    "- 在为完成练习9-1而编写的程序中，添加一个名为number_served 的属性，并将其默认值设置为0。根据这个类创建一个名为restaurant 的实例；打印有多少人在这家餐馆就餐过，然后修改这个值并再次打印它。\n",
    "- 添加一个名为set_number_served() 的方法，它让你能够设置就餐人数。调用这个方法并向它传递一个值，然后再次打印这个值。\n",
    "- 添加一个名为increment_number_served() 的方法，它让你能够将就餐人数递增。调用这个方法并向它传递一个这样的值：你认为这家餐馆每天可能接待的就餐人数。"
   ]
  },
  {
   "cell_type": "code",
   "execution_count": 10,
   "metadata": {},
   "outputs": [
    {
     "name": "stdout",
     "output_type": "stream",
     "text": [
      "0\n",
      "50\n",
      "100\n"
     ]
    }
   ],
   "source": [
    "class Restaurant():\n",
    "    def __init__(self,restaurant_name,cuisine_type) -> None:\n",
    "        self.restaurant_name = restaurant_name\n",
    "        self.cuisine_type = cuisine_type\n",
    "        self.number_served = 0\n",
    "\n",
    "    def describe_restaurant(self):\n",
    "        print(f\"{self.restaurant_name}大饭店，主营{self.cuisine_type}\\n\")\n",
    "\n",
    "    def open_restaurant(self):\n",
    "        print(f\"{self.restaurant_name}大饭店开门了 \")\n",
    "\n",
    "    def set_number_served(self,number):\n",
    "        self.number_served = number\n",
    "        \n",
    "    def increment_number_served(self,add_number):\n",
    "        self.number_served += add_number\n",
    "\n",
    "so_big_restaurant = Restaurant(\"黄焖鸡米饭\",\"鲁菜\")\n",
    "print(so_big_restaurant.number_served)\n",
    "so_big_restaurant.set_number_served(50)\n",
    "print(so_big_restaurant.number_served)\n",
    "so_big_restaurant.increment_number_served(50)\n",
    "print(so_big_restaurant.number_served)"
   ]
  },
  {
   "attachments": {},
   "cell_type": "markdown",
   "metadata": {},
   "source": [
    "## 9-5 尝试登录次数 ：\n",
    "- 在为完成练习9-3而编写的User 类中，添加一个名为login_attempts 的属性。编写一个名为\n",
    "increment_login_attempts() 的方法，它将属性login_attempts 的值加1。再编写一个名为reset_login_attempts() 的方法，它将属性login_attempts 的值重置为0。\n",
    "- 根据User 类创建一个实例，再调用方法increment_login_attempts() 多次。打印属性login_attempts 的值，确认它被正确地递增；然后，调用方法reset_login_attempts() ，并再次打印属性login_attempts 的值，确认它被重置为0。"
   ]
  },
  {
   "cell_type": "code",
   "execution_count": 16,
   "metadata": {},
   "outputs": [
    {
     "name": "stdout",
     "output_type": "stream",
     "text": [
      "1\n",
      "2\n",
      "3\n",
      "4\n",
      "5\n",
      "0\n"
     ]
    }
   ],
   "source": [
    "class User():\n",
    "    def __init__(self,first_name,last_name,age) -> None:\n",
    "        self.first_name = first_name\n",
    "        self.last_name = last_name\n",
    "        self.age = age\n",
    "        self.login_attempts = 0\n",
    "\n",
    "    def describe_user(self):\n",
    "        print(f\"{self.first_name}{self.last_name}今年{self.age}岁了\\n\")\n",
    "\n",
    "    def greet_user(self):\n",
    "        print(f\"靓仔，欢迎{self.first_name}{self.last_name}\\n\")\n",
    "    \n",
    "    def increment_login_attempts(self):\n",
    "        self.login_attempts += 1\n",
    "\n",
    "    def reset_login_attempts(self):\n",
    "        self.login_attempts = 0\n",
    "\n",
    "da_uesr = User(\"大\",\"狗子\",18)\n",
    "for i in range(5):\n",
    "    da_uesr.increment_login_attempts()\n",
    "    print(da_uesr.login_attempts)\n",
    "da_uesr.reset_login_attempts()\n",
    "print(da_uesr.login_attempts)"
   ]
  },
  {
   "attachments": {},
   "cell_type": "markdown",
   "metadata": {},
   "source": [
    "## 9.3　继承"
   ]
  },
  {
   "cell_type": "code",
   "execution_count": 18,
   "metadata": {},
   "outputs": [
    {
     "name": "stdout",
     "output_type": "stream",
     "text": [
      "2021 比亚迪 元\n"
     ]
    }
   ],
   "source": [
    "class Car():\n",
    "\n",
    "    def __init__(self,make,model,year) -> None:\n",
    "        self.make = make\n",
    "        self.model = model\n",
    "        self.year = year\n",
    "        self.odometer_reading = 0 \n",
    "        #默认属性，有点类似于函数中的默认参数，他这个不用在上面初始化的操作有点秀，\n",
    "        # 但是看情况他给的是定值，如果这个值后期是可以修改的那应该还是要传入参数的\n",
    "\n",
    "    def get_descriptive_name(self):\n",
    "        long_name = str(self.year) + \" \" + self.make + \" \" + self.model\n",
    "        return long_name.title()\n",
    "\n",
    "    def read_odometer(self):\n",
    "        print(f\"这个车已经开了{self.odometer_reading}公里了\")\n",
    "\n",
    "    def read_odometer(self):\n",
    "        print(f\"这个车已经开了{self.odometer_reading}公里了\")\n",
    "\n",
    "    def update_odometer(self,mileage):\n",
    "        self.odometer_reading = mileage\n",
    "\n",
    "    def increment_odometer(self,miles):\n",
    "        self.odometer_reading += miles\n",
    "\n",
    "class ElectricCar(Car):\n",
    "\n",
    "    def __init__(self, make, model, year) -> None:\n",
    "        super().__init__(make, model, year)\n",
    "        # super() 是一个特殊函数，帮助Python将父类和子类关联起来。\n",
    "        # 这行代码让Python调用ElectricCar 的父类的方法__init__() ，\n",
    "        # 让ElectricCar 实例包含父类的所有属性。\n",
    "\n",
    "my_byd = ElectricCar(\"比亚迪\",\"元\",\"2021\")\n",
    "print(my_byd.get_descriptive_name())"
   ]
  },
  {
   "attachments": {},
   "cell_type": "markdown",
   "metadata": {},
   "source": [
    "### 给子类定义属性和方法"
   ]
  },
  {
   "cell_type": "code",
   "execution_count": 19,
   "metadata": {},
   "outputs": [
    {
     "name": "stdout",
     "output_type": "stream",
     "text": [
      "2021 比亚迪 元\n",
      "这个破车的电池容量是70\n"
     ]
    }
   ],
   "source": [
    "class Car():\n",
    "\n",
    "    def __init__(self,make,model,year) -> None:\n",
    "        self.make = make\n",
    "        self.model = model\n",
    "        self.year = year\n",
    "        self.odometer_reading = 0 \n",
    "        #默认属性，有点类似于函数中的默认参数，他这个不用在上面初始化的操作有点秀，\n",
    "        # 但是看情况他给的是定值，如果这个值后期是可以修改的那应该还是要传入参数的\n",
    "\n",
    "    def get_descriptive_name(self):\n",
    "        long_name = str(self.year) + \" \" + self.make + \" \" + self.model\n",
    "        return long_name.title()\n",
    "\n",
    "    def read_odometer(self):\n",
    "        print(f\"这个车已经开了{self.odometer_reading}公里了\")\n",
    "\n",
    "    def read_odometer(self):\n",
    "        print(f\"这个车已经开了{self.odometer_reading}公里了\")\n",
    "\n",
    "    def update_odometer(self,mileage):\n",
    "        self.odometer_reading = mileage\n",
    "\n",
    "    def increment_odometer(self,miles):\n",
    "        self.odometer_reading += miles\n",
    "\n",
    "class ElectricCar(Car):\n",
    "\n",
    "    def __init__(self, make, model, year) -> None:\n",
    "        super().__init__(make, model, year)\n",
    "        self.battery_size = 70\n",
    "\n",
    "    def describe_battery(self):\n",
    "        print(f\"这个破车的电池容量是{self.battery_size}千瓦时\")\n",
    "\n",
    "my_byd = ElectricCar(\"比亚迪\",\"元\",\"2021\")\n",
    "print(my_byd.get_descriptive_name())\n",
    "my_byd.describe_battery()"
   ]
  },
  {
   "attachments": {},
   "cell_type": "markdown",
   "metadata": {},
   "source": [
    "### 将实例用作属性\n",
    "> 使用代码模拟实物时，你可能会发现自己给类添加的细节越来越多：属性和方法清单以及文件都越来越长。在这种情况下，可能需要将类的一部分作为一个独立的类提取出来。你可以将大型类拆分成多个协同工作的小类"
   ]
  },
  {
   "cell_type": "code",
   "execution_count": 21,
   "metadata": {},
   "outputs": [
    {
     "name": "stdout",
     "output_type": "stream",
     "text": [
      "2021 比亚迪 元\n",
      "这个破车的电池容量是70千瓦时\n"
     ]
    }
   ],
   "source": [
    "class Car():\n",
    "\n",
    "    def __init__(self,make,model,year) -> None:\n",
    "        self.make = make\n",
    "        self.model = model\n",
    "        self.year = year\n",
    "        self.odometer_reading = 0 \n",
    "        #默认属性，有点类似于函数中的默认参数，他这个不用在上面初始化的操作有点秀，\n",
    "        # 但是看情况他给的是定值，如果这个值后期是可以修改的那应该还是要传入参数的\n",
    "\n",
    "    def get_descriptive_name(self):\n",
    "        long_name = str(self.year) + \" \" + self.make + \" \" + self.model\n",
    "        return long_name.title()\n",
    "\n",
    "    def read_odometer(self):\n",
    "        print(f\"这个车已经开了{self.odometer_reading}公里了\")\n",
    "\n",
    "    def read_odometer(self):\n",
    "        print(f\"这个车已经开了{self.odometer_reading}公里了\")\n",
    "\n",
    "    def update_odometer(self,mileage):\n",
    "        self.odometer_reading = mileage\n",
    "\n",
    "    def increment_odometer(self,miles):\n",
    "        self.odometer_reading += miles\n",
    "\n",
    "class Battery():\n",
    "    def __init__(self,battery_size = 70) -> None:\n",
    "        self.battery_size = battery_size\n",
    "    def describe_battery(self):\n",
    "        print(f\"这个破车的电池容量是{self.battery_size}千瓦时\")\n",
    "\n",
    "class ElectricCar(Car):\n",
    "\n",
    "    def __init__(self, make, model, year) -> None:\n",
    "        super().__init__(make, model, year)\n",
    "        self.battery = Battery()\n",
    "\n",
    "my_byd = ElectricCar(\"比亚迪\",\"元\",\"2021\")\n",
    "print(my_byd.get_descriptive_name())\n",
    "my_byd.battery.describe_battery()\n",
    "# 搁这套娃呢，电车里有个属性调用的是电池的实例化对象，\n",
    "# 再通过这个实例化对象的方法实现对电池的描述"
   ]
  },
  {
   "cell_type": "code",
   "execution_count": 22,
   "metadata": {},
   "outputs": [
    {
     "name": "stdout",
     "output_type": "stream",
     "text": [
      "2021 比亚迪 元\n",
      "这个破车的电池容量是70千瓦时\n",
      "这个破车在满电的情况下能跑240公里\n"
     ]
    }
   ],
   "source": [
    "class Car():\n",
    "\n",
    "    def __init__(self,make,model,year) -> None:\n",
    "        self.make = make\n",
    "        self.model = model\n",
    "        self.year = year\n",
    "        self.odometer_reading = 0 \n",
    "        #默认属性，有点类似于函数中的默认参数，他这个不用在上面初始化的操作有点秀，\n",
    "        # 但是看情况他给的是定值，如果这个值后期是可以修改的那应该还是要传入参数的\n",
    "\n",
    "    def get_descriptive_name(self):\n",
    "        long_name = str(self.year) + \" \" + self.make + \" \" + self.model\n",
    "        return long_name.title()\n",
    "\n",
    "    def read_odometer(self):\n",
    "        print(f\"这个车已经开了{self.odometer_reading}公里了\")\n",
    "\n",
    "    def read_odometer(self):\n",
    "        print(f\"这个车已经开了{self.odometer_reading}公里了\")\n",
    "\n",
    "    def update_odometer(self,mileage):\n",
    "        self.odometer_reading = mileage\n",
    "\n",
    "    def increment_odometer(self,miles):\n",
    "        self.odometer_reading += miles\n",
    "\n",
    "class Battery():\n",
    "    def __init__(self,battery_size = 70) -> None:\n",
    "        self.battery_size = battery_size\n",
    "    def describe_battery(self):\n",
    "        print(f\"这个破车的电池容量是{self.battery_size}千瓦时\")\n",
    "    def get_range(self):\n",
    "        if self.battery_size == 70:\n",
    "            range = 240\n",
    "        elif self.battery_size == 85:\n",
    "            range = 270\n",
    "        message = f\"这个破车在满电的情况下能跑{range}公里\"\n",
    "        print(message)\n",
    "\n",
    "class ElectricCar(Car):\n",
    "\n",
    "    def __init__(self, make, model, year) -> None:\n",
    "        super().__init__(make, model, year)\n",
    "        self.battery = Battery()\n",
    "\n",
    "my_byd = ElectricCar(\"比亚迪\",\"元\",\"2021\")\n",
    "print(my_byd.get_descriptive_name())\n",
    "my_byd.battery.describe_battery()\n",
    "my_byd.battery.get_range()"
   ]
  },
  {
   "attachments": {},
   "cell_type": "markdown",
   "metadata": {},
   "source": [
    "## 9-6 冰淇淋小店 ：\n",
    "冰淇淋小店是一种特殊的餐馆。编写一个名为IceCreamStand 的类，让它继承你为完成练习9-1或练习9-4而编写的Restaurant 类。这两个版本的Restaurant 类都可以，挑选你更喜欢的那个即可。添加一个名为flavors 的属性，用于存储一个由各种口味的冰淇淋组成的列表。编写一个显示这些冰淇淋的方法。创建一个IceCreamStand 实例，并调用这个方法。"
   ]
  },
  {
   "cell_type": "code",
   "execution_count": 23,
   "metadata": {},
   "outputs": [
    {
     "name": "stdout",
     "output_type": "stream",
     "text": [
      "蜜雪冰城大饭店，主营冰淇淋\n",
      "\n",
      "雪糕有如下几种口味\n",
      "- green tea\n",
      "- red tea\n",
      "- white tea\n"
     ]
    }
   ],
   "source": [
    "class Restaurant():\n",
    "    def __init__(self,restaurant_name,cuisine_type) -> None:\n",
    "        self.restaurant_name = restaurant_name\n",
    "        self.cuisine_type = cuisine_type\n",
    "        self.number_served = 0\n",
    "\n",
    "    def describe_restaurant(self):\n",
    "        print(f\"{self.restaurant_name}大饭店，主营{self.cuisine_type}\\n\")\n",
    "\n",
    "    def open_restaurant(self):\n",
    "        print(f\"{self.restaurant_name}大饭店开门了 \")\n",
    "\n",
    "    def set_number_served(self,number):\n",
    "        self.number_served = number\n",
    "        \n",
    "    def increment_number_served(self,add_number):\n",
    "        self.number_served += add_number\n",
    "\n",
    "class IceCreamStand(Restaurant):\n",
    "    def __init__(self, restaurant_name, cuisine_type = \"冰淇淋\") -> None:\n",
    "        super().__init__(restaurant_name, cuisine_type)\n",
    "        self.flavors = []\n",
    "\n",
    "    def show_ice_cream(self):\n",
    "        print(\"雪糕有如下几种口味\")\n",
    "        for flavor in self.flavors:\n",
    "            print(f\"- {flavor}\")\n",
    "\n",
    "mixue = IceCreamStand(\"蜜雪冰城\")\n",
    "mixue.flavors = [\"green tea\",\"red tea\",\"white tea\"]\n",
    "mixue.describe_restaurant()\n",
    "mixue.show_ice_cream()          \n",
    "        "
   ]
  },
  {
   "attachments": {},
   "cell_type": "markdown",
   "metadata": {},
   "source": [
    "## 9-7 管理员 ：\n",
    "管理员是一种特殊的用户。编写一个名为Admin 的类，让它继承你为完成练习9-3或练习9-5而编写的User 类。添加一个名为privileges 的属性，用于存储一个由字符串（如\"canadd post\" 、\"can delete post\" 、\"can ban user\" 等）组成的列表。编写一个名为show_privileges() 的方法，它显示管理员的权限。创建一个Admin 实例，并调用这个方法。"
   ]
  },
  {
   "cell_type": "code",
   "execution_count": 25,
   "metadata": {},
   "outputs": [
    {
     "name": "stdout",
     "output_type": "stream",
     "text": [
      "大狗子今年18岁了\n",
      "\n",
      "尊贵的管理员有canadd post的权限\n",
      "尊贵的管理员有can delete post的权限\n",
      "尊贵的管理员有can ban user的权限\n"
     ]
    }
   ],
   "source": [
    "class User():\n",
    "    def __init__(self,first_name,last_name,age) -> None:\n",
    "        self.first_name = first_name\n",
    "        self.last_name = last_name\n",
    "        self.age = age\n",
    "        self.login_attempts = 0\n",
    "\n",
    "    def describe_user(self):\n",
    "        print(f\"{self.first_name}{self.last_name}今年{self.age}岁了\\n\")\n",
    "\n",
    "    def greet_user(self):\n",
    "        print(f\"靓仔，欢迎{self.first_name}{self.last_name}\\n\")\n",
    "    \n",
    "    def increment_login_attempts(self):\n",
    "        self.login_attempts += 1\n",
    "\n",
    "    def reset_login_attempts(self):\n",
    "        self.login_attempts = 0\n",
    "\n",
    "class Admin(User):\n",
    "    def __init__(self, first_name, last_name, age) -> None:\n",
    "        super().__init__(first_name, last_name, age)\n",
    "        self.privileges = [\"canadd post\",\"can delete post\",\"can ban user\",]\n",
    "    \n",
    "    def show_privileges(self):\n",
    "        for privilege in self.privileges:\n",
    "            print(f\"尊贵的管理员有{privilege}的权限\")\n",
    "\n",
    "a_admin = Admin(\"大\",\"狗子\",18,)\n",
    "a_admin.describe_user()\n",
    "a_admin.show_privileges()"
   ]
  },
  {
   "attachments": {},
   "cell_type": "markdown",
   "metadata": {},
   "source": [
    "## 9-8 权限 ：\n",
    "编写一个名为Privileges 的类，它只有一个属性——privileges ，其中存储了练习9-7 所说的字符串列表。将方法show_privileges() 移到这个类中。在Admin 类中，将一个Privileges 实例用作其属性。创建一个Admin 实例，并使用方法show_privileges() 来显示其权限。"
   ]
  },
  {
   "cell_type": "code",
   "execution_count": 26,
   "metadata": {},
   "outputs": [
    {
     "name": "stdout",
     "output_type": "stream",
     "text": [
      "大狗子今年18岁了\n",
      "\n",
      "尊贵的管理员有canadd post的权限\n",
      "尊贵的管理员有can delete post的权限\n",
      "尊贵的管理员有can ban user的权限\n"
     ]
    }
   ],
   "source": [
    "class User():\n",
    "    def __init__(self,first_name,last_name,age) -> None:\n",
    "        self.first_name = first_name\n",
    "        self.last_name = last_name\n",
    "        self.age = age\n",
    "        self.login_attempts = 0\n",
    "\n",
    "    def describe_user(self):\n",
    "        print(f\"{self.first_name}{self.last_name}今年{self.age}岁了\\n\")\n",
    "\n",
    "    def greet_user(self):\n",
    "        print(f\"靓仔，欢迎{self.first_name}{self.last_name}\\n\")\n",
    "    \n",
    "    def increment_login_attempts(self):\n",
    "        self.login_attempts += 1\n",
    "\n",
    "    def reset_login_attempts(self):\n",
    "        self.login_attempts = 0\n",
    "class Privileges():\n",
    "    def __init__(self) -> None:\n",
    "        self.privileges = [\"canadd post\",\"can delete post\",\"can ban user\",]\n",
    "\n",
    "    def show_privileges(self):\n",
    "        for privilege in self.privileges:\n",
    "            print(f\"尊贵的管理员有{privilege}的权限\")\n",
    "            \n",
    "class Admin(User):\n",
    "    def __init__(self, first_name, last_name, age) -> None:\n",
    "        super().__init__(first_name, last_name, age)\n",
    "        self.privileges = Privileges()\n",
    "    \n",
    "a_admin = Admin(\"大\",\"狗子\",18,)\n",
    "a_admin.describe_user()\n",
    "a_admin.privileges.show_privileges()"
   ]
  },
  {
   "attachments": {},
   "cell_type": "markdown",
   "metadata": {},
   "source": [
    "## 9-9 电瓶升级 ：\n",
    "在本节最后一个electric_car.py版本中，给Battery 类添加一个名为upgrade_battery() 的方法。这个方法检查电瓶容量，如果它不是85，就将它设置为85。创建一辆电瓶容量为默认值的电动汽车，调用方法get_range() ，然后对电瓶进行升级，并再次调用get_range() 。你会看到这辆汽车的续航里程增加了。"
   ]
  },
  {
   "cell_type": "code",
   "execution_count": 8,
   "metadata": {},
   "outputs": [
    {
     "name": "stdout",
     "output_type": "stream",
     "text": [
      "2021 比亚迪 元\n",
      "这个破车的电池容量是70千瓦时\n",
      "这个破车在满电的情况下能跑240公里\n",
      "这个破车的电池容量是85千瓦时\n",
      "这个破车在满电的情况下能跑270公里\n"
     ]
    }
   ],
   "source": [
    "class Car():\n",
    "\n",
    "    def __init__(self,make,model,year) -> None:\n",
    "        self.make = make\n",
    "        self.model = model\n",
    "        self.year = year\n",
    "        self.odometer_reading = 0 \n",
    "        #默认属性，有点类似于函数中的默认参数，他这个不用在上面初始化的操作有点秀，\n",
    "        # 但是看情况他给的是定值，如果这个值后期是可以修改的那应该还是要传入参数的\n",
    "\n",
    "    def get_descriptive_name(self):\n",
    "        long_name = str(self.year) + \" \" + self.make + \" \" + self.model\n",
    "        return long_name.title()\n",
    "\n",
    "    def read_odometer(self):\n",
    "        print(f\"这个车已经开了{self.odometer_reading}公里了\")\n",
    "\n",
    "    def update_odometer(self,mileage):\n",
    "        self.odometer_reading = mileage\n",
    "\n",
    "    def increment_odometer(self,miles):\n",
    "        self.odometer_reading += miles\n",
    "\n",
    "class Battery():\n",
    "    def __init__(self,battery_size = 70) -> None:\n",
    "        self.battery_size = battery_size\n",
    "\n",
    "    def describe_battery(self):\n",
    "        print(f\"这个破车的电池容量是{self.battery_size}千瓦时\")\n",
    "\n",
    "    def upgrade_battery(self):\n",
    "        if self.battery_size != 85:\n",
    "            self.battery_size = 85\n",
    "\n",
    "    def get_range(self):\n",
    "        if self.battery_size == 70:\n",
    "            range = 240\n",
    "        elif self.battery_size == 85:\n",
    "            range = 270\n",
    "        message = f\"这个破车在满电的情况下能跑{range}公里\"\n",
    "        print(message)\n",
    "\n",
    "class ElectricCar(Car):\n",
    "\n",
    "    def __init__(self, make, model, year) -> None:\n",
    "        super().__init__(make, model, year)\n",
    "        self.battery = Battery()\n",
    "\n",
    "my_byd = ElectricCar(\"比亚迪\",\"元\",\"2021\")\n",
    "print(my_byd.get_descriptive_name())\n",
    "my_byd.battery.describe_battery()\n",
    "my_byd.battery.get_range()\n",
    "my_byd.battery.upgrade_battery()\n",
    "my_byd.battery.describe_battery()\n",
    "my_byd.battery.get_range()"
   ]
  },
  {
   "attachments": {},
   "cell_type": "markdown",
   "metadata": {},
   "source": [
    "## 类编码风格\n",
    "> 类名应采用驼峰命名法 ，即将类名中的每个单词的首字母都大写，而不使用下划线。\n",
    "\n",
    "> 实例名和模块名都采用小写格式，并在单词之间加上下划线。\n",
    "\n",
    "> 对于每个类，都应紧跟在类定义后面包含一个文档字符串。\n",
    "> 这种文档字符串简要地描述类的功能，并遵循编写函数的文档字符串时采用的格式约定。\n",
    "\n",
    "> 每个模块也都应包含一个文档字符串，对其中的类可用于做什么进行描述。"
   ]
  },
  {
   "cell_type": "markdown",
   "metadata": {},
   "source": []
  }
 ],
 "metadata": {
  "kernelspec": {
   "display_name": "base",
   "language": "python",
   "name": "python3"
  },
  "language_info": {
   "codemirror_mode": {
    "name": "ipython",
    "version": 3
   },
   "file_extension": ".py",
   "mimetype": "text/x-python",
   "name": "python",
   "nbconvert_exporter": "python",
   "pygments_lexer": "ipython3",
   "version": "3.7.13"
  },
  "orig_nbformat": 4,
  "vscode": {
   "interpreter": {
    "hash": "861f9c34f7302a1aedb62edfc1533c524ce2793735e6b405602ea89eb9cb2484"
   }
  }
 },
 "nbformat": 4,
 "nbformat_minor": 2
}
