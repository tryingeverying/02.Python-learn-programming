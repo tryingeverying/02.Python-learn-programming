{
 "cells": [
  {
   "cell_type": "markdown",
   "metadata": {},
   "source": [
    "# 第4章 解析库的使用　"
   ]
  },
  {
   "cell_type": "markdown",
   "metadata": {},
   "source": [
    "## 4.2 使用Beautiful Soup　"
   ]
  },
  {
   "cell_type": "code",
   "execution_count": 1,
   "metadata": {},
   "outputs": [
    {
     "name": "stdout",
     "output_type": "stream",
     "text": [
      "hello\n"
     ]
    }
   ],
   "source": [
    "from bs4 import BeautifulSoup\n",
    "\n",
    "soup = BeautifulSoup('<p>hello</p>','lxml')\n",
    "print(soup.p.string)"
   ]
  },
  {
   "cell_type": "markdown",
   "metadata": {},
   "source": [
    "### find_all()\n",
    "find_all(name, attrs, text)\n",
    "name是标签名\n",
    "attrs是要find的属性\n",
    "text是标签圈定的文本"
   ]
  },
  {
   "cell_type": "markdown",
   "metadata": {},
   "source": [
    "## 4.3 使用pyquery　\n",
    "> 感觉和beautifulsoup的select有点类似"
   ]
  },
  {
   "cell_type": "code",
   "execution_count": 14,
   "metadata": {},
   "outputs": [
    {
     "name": "stdout",
     "output_type": "stream",
     "text": [
      "<li class=\"item-0\">first item</li>\n",
      "<li class=\"item-1\"><a href=\"link2.html\"> second item</a></li>\n",
      "<li class=\"item-0 active\"><a href=\"link3.html\"><span class=\"bold\"> third item</span></a></li>\n",
      "<li class=\"item-1 active\"><a href=\"link4.html\">fourth item</a></li>\n",
      "<li class=\"item-0&gt;&lt;a href=\" link5.html=\"\">fifth item</li>\n",
      "\n"
     ]
    }
   ],
   "source": [
    "html ='''<div>\n",
    "<ul>\n",
    "<li class=\"item-0\">first item</li>\n",
    "<li class=\"item-1\"><a href=\"link2.html\"> second item</a></li>\n",
    "<li class=\"item-0 active\"><a href=\"link3.html\"><span class =\"bold\"> third item</span></a></li>\n",
    "<li class =\"item-1 active\"><a href=\"link4.html\">fourth item</a></li>\n",
    "<li class=\"item-0><a href=\"link5.html\">fifth item</a></li>\n",
    "</ul>\n",
    "</div>'''\n",
    "from pyquery import PyQuery as pq \n",
    "doc = pq(html)\n",
    "print(doc('li'))"
   ]
  },
  {
   "cell_type": "markdown",
   "metadata": {},
   "source": [
    "> 基本css 选择器\n",
    "\n",
    "和beautifulsoup的select语法一样，但是不用调用select方法，直接用就行"
   ]
  },
  {
   "cell_type": "code",
   "execution_count": 13,
   "metadata": {},
   "outputs": [
    {
     "name": "stdout",
     "output_type": "stream",
     "text": [
      "<li class=\"item-0\">first item</li>\n",
      "<li class=\"item-1\"><a href=\"link2.html\"> second item</a></li>\n",
      "<li class=\"item-0 active\"><a href=\"link3.html\"><span class=\"bold\"> third item</span></a></li>\n",
      "<li class=\"item-1 active\"><a href=\"link4.html\">fourth item</a></li>\n",
      "<li class=\"item-0&gt;&lt;a href=\" link5.html=\"\">fifth item</li>\n",
      "\n",
      "first item second item third item fourth item fifth item/n"
     ]
    }
   ],
   "source": [
    "html ='''<div id=\"container\">\n",
    "<ul class = \"list\">\n",
    "<li class=\"item-0\">first item</li>\n",
    "<li class=\"item-1\"><a href=\"link2.html\"> second item</a></li>\n",
    "<li class=\"item-0 active\"><a href=\"link3.html\"><span class =\"bold\"> third item</span></a></li>\n",
    "<li class =\"item-1 active\"><a href=\"link4.html\">fourth item</a></li>\n",
    "<li class=\"item-0><a href=\"link5.html\">fifth item</a></li>\n",
    "</ul>\n",
    "</div>'''\n",
    "from pyquery import PyQuery as pq \n",
    "doc = pq(html)\n",
    "res = doc('#container .list li')\n",
    "# 获取文本的方法也比bs4要简单点，它直接返回所有符合要求的文本\n",
    "print(res)\n",
    "print(res.text())"
   ]
  },
  {
   "cell_type": "code",
   "execution_count": null,
   "metadata": {},
   "outputs": [],
   "source": []
  }
 ],
 "metadata": {
  "kernelspec": {
   "display_name": "base",
   "language": "python",
   "name": "python3"
  },
  "language_info": {
   "codemirror_mode": {
    "name": "ipython",
    "version": 3
   },
   "file_extension": ".py",
   "mimetype": "text/x-python",
   "name": "python",
   "nbconvert_exporter": "python",
   "pygments_lexer": "ipython3",
   "version": "3.7.13"
  },
  "orig_nbformat": 4
 },
 "nbformat": 4,
 "nbformat_minor": 2
}
