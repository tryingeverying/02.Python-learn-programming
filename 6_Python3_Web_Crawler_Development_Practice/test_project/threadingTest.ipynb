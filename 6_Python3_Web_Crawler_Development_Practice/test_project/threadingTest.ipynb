{
 "cells": [
  {
   "cell_type": "markdown",
   "metadata": {},
   "source": [
    "# 多线程"
   ]
  },
  {
   "cell_type": "markdown",
   "metadata": {},
   "source": [
    "## 多进程"
   ]
  },
  {
   "cell_type": "markdown",
   "metadata": {},
   "source": [
    "> 系统中运行的应用程序，打开浏览器、pycham等都是一个个的应用程序，可以同时运行。一个应用程序就是一个进程，多个就是多进程。"
   ]
  },
  {
   "cell_type": "markdown",
   "metadata": {},
   "source": [
    "## 多线程"
   ]
  },
  {
   "cell_type": "markdown",
   "metadata": {},
   "source": [
    "> CPU 是通过线程去执行进程的，进程中的执行单位是线程，进程中包含的执行单元就是线程，一个进程可以包含多个线程。一个微信就是一个进程，每一个聊天窗口就是一个线程，在python中一次只能执行一个线程，打开多个线程之后，会有线程锁的存在，来解决资源竞争的问题。"
   ]
  },
  {
   "cell_type": "markdown",
   "metadata": {},
   "source": [
    "# 多线程的创建"
   ]
  },
  {
   "cell_type": "markdown",
   "metadata": {},
   "source": [
    "## 通过函数创建"
   ]
  },
  {
   "cell_type": "markdown",
   "metadata": {},
   "source": [
    "> 两种调用多线程的方法"
   ]
  },
  {
   "cell_type": "code",
   "execution_count": 3,
   "metadata": {},
   "outputs": [
    {
     "name": "stdout",
     "output_type": "stream",
     "text": [
      "子线程\n",
      "子线程\n",
      "子线程\n",
      "子线程\n",
      "子线程\n",
      "子线程\n",
      "子线程\n",
      "这是一个子线程\n",
      "这是一个子线程\n",
      "这是一个子线程\n",
      "这是一个子线程\n",
      "这是一个子线程\n",
      "这是一个子线程\n",
      "这是一个子线程\n",
      "这是一个子线程\n",
      "这是一个子线程\n",
      "这是一个子线程\n"
     ]
    }
   ],
   "source": [
    "import threading\n",
    "import time\n",
    "\n",
    "# 1.通过函数创建多线程\n",
    "def demo1():\n",
    "    print('子线程')\n",
    "\n",
    "if __name__ == \"__main__\":\n",
    "    for i in range(7):\n",
    "        t = threading.Thread(target=demo1)\n",
    "        t.start()\n",
    "\n",
    "\"\"\"def __init__(self, group=None(对线程进行分组), target=None(接收函数事件), name=None(线程分组的名字),\n",
    "                 args=()（传入的元组）, kwargs=None, *, daemon=None):\n",
    "\"\"\"\n",
    "\n",
    "# 2. 通过类创建多线程\n",
    "# 创建MyThread类，继承父类threading.Thread的功能\n",
    "class MyThread(threading.Thread):\n",
    "    # 重写run方法\n",
    "    def run(self):\n",
    "        for i in range(5):\n",
    "            print('这是一个子线程')\n",
    "\n",
    "if __name__ == \"__main__\":\n",
    "    m = MyThread()\n",
    "    m.start()\n",
    "\n",
    "\n",
    "if __name__ == '__main__':\n",
    "    # 实例化类\n",
    "    m = MyThread()  # 实例化对象\n",
    "    # start 启动子线程\n",
    "    m.start()  # 通过start执行多线程"
   ]
  },
  {
   "cell_type": "markdown",
   "metadata": {},
   "source": [
    "> 主线程和子线程的关系"
   ]
  },
  {
   "cell_type": "code",
   "execution_count": 4,
   "metadata": {},
   "outputs": [
    {
     "name": "stdout",
     "output_type": "stream",
     "text": [
      "子线程111\n",
      "\n",
      "子线程\n",
      "子线程\n",
      "子线程\n"
     ]
    }
   ],
   "source": [
    "# 小案例\n",
    "def test():\n",
    "    for i in range(4):\n",
    "        print(\"子线程\")\n",
    "       # time.sleep(1)    # 如果没有强制等待，主线程111运行的时间不固定\n",
    "\n",
    "if __name__ == '__main__':\n",
    "    t = threading.Thread(target=test)\n",
    "    t.start()\n",
    "    print(\"111\")\n",
    "    # 函数运行的时候111是最后才执行的，执行完函数运行结束。\n",
    "    # 而用了多线程之后，有点同步的意思，先打印1个“子线程”，\n",
    "    # 然后打印111，之后又继续执行多线程中的剩余打印“子线程"
   ]
  },
  {
   "cell_type": "markdown",
   "metadata": {},
   "source": [
    "> 正常函数运行的时候，在主函数中运行最后一行代码就结束了，而在多线程中，会继续运行子线程，不管主线程有没有运行完成（例题中的print(111)），都会等待子线程（print(“子线程”)）运行完毕再退出。主线程会等待子线程运行结束后才结束运行。"
   ]
  },
  {
   "cell_type": "markdown",
   "metadata": {},
   "source": [
    "> 如果非要子线程运行结束后再执行主线程，就需要在主线程前加上time.sleep，强制等待，或者 用 t.join()，不管前面的子线程运行多久，都要等待子线程运行完之后，才运行主线程。"
   ]
  },
  {
   "cell_type": "code",
   "execution_count": 6,
   "metadata": {},
   "outputs": [
    {
     "name": "stdout",
     "output_type": "stream",
     "text": [
      "子线程\n",
      "子线程\n",
      "子线程\n",
      "子线程\n",
      "111\n"
     ]
    }
   ],
   "source": [
    "# 小案例，先运行子线程，后运行主线程\n",
    "def test():\n",
    "    for i in range(4):\n",
    "        print(\"子线程\")\n",
    "        # time.sleep(1)  # 如果没有强制等待，主线程111运行的时间不固定\n",
    "\n",
    "if __name__ == '__main__':\n",
    "    t = threading.Thread(target=test)\n",
    "    t.start()\n",
    "    # 第一种方法，用time强制等待\n",
    "    time.sleep(3)\n",
    "    # 第二种方法，用join\n",
    "    # t.join()\n",
    "    print(\"111\")"
   ]
  },
  {
   "cell_type": "code",
   "execution_count": 8,
   "metadata": {},
   "outputs": [
    {
     "name": "stdout",
     "output_type": "stream",
     "text": [
      "子线程\n",
      "子线程\n",
      "子线程\n",
      "子线程\n",
      "111\n"
     ]
    }
   ],
   "source": [
    "if __name__ == '__main__':\n",
    "    t = threading.Thread(target=test)\n",
    "    t.start()\n",
    "    # 第一种方法，用time强制等待\n",
    "    # time.sleep(3)\n",
    "    # 第二种方法，用join\n",
    "    t.join()\n",
    "    print(\"111\")"
   ]
  },
  {
   "cell_type": "markdown",
   "metadata": {},
   "source": [
    "> threading.enumerate()\n",
    ">\n",
    "> 返回存活的线程的列表，没有消亡的，存活的线程都会以列表的形式返回。"
   ]
  },
  {
   "cell_type": "code",
   "execution_count": 12,
   "metadata": {},
   "outputs": [
    {
     "name": "stdout",
     "output_type": "stream",
     "text": [
      "demo1-0\n",
      "demo1-1\n",
      "demo1-2\n",
      "demo1-3\n",
      "demo1-4\n",
      "demo2-0\n",
      "demo2-1\n",
      "demo2-2\n",
      "demo2-3\n",
      "demo2-4\n",
      "[<_MainThread(MainThread, started 14020)>, <Thread(IOPub, started daemon 11816)>, <Heartbeat(Heartbeat, started daemon 19324)>, <ControlThread(Control, started daemon 17600)>, <HistorySavingThread(IPythonHistorySavingThread, started 23440)>, <ParentPollerWindows(Thread-4, started daemon 2044)>]\n"
     ]
    }
   ],
   "source": [
    "import threading\n",
    "import time\n",
    "\n",
    "def test1():\n",
    "    for i in range(5):\n",
    "        print(f'demo1-{i}')\n",
    "\n",
    "def test2():\n",
    "    for i in range(5):\n",
    "        print(f'demo2-{i}')\n",
    "\n",
    "if __name__ == \"__main__\":\n",
    "    t1 = threading.Thread(target=test1)\n",
    "    t2 = threading.Thread(target=test2)\n",
    "    t1.start()\n",
    "    t2.start()\n",
    "    print(threading.enumerate())"
   ]
  },
  {
   "cell_type": "code",
   "execution_count": 13,
   "metadata": {},
   "outputs": [
    {
     "name": "stdout",
     "output_type": "stream",
     "text": [
      "[<_MainThread(MainThread, started 14020)>, <Thread(IOPub, started daemon 11816)>, <Heartbeat(Heartbeat, started daemon 19324)>, <ControlThread(Control, started daemon 17600)>, <HistorySavingThread(IPythonHistorySavingThread, started 23440)>, <ParentPollerWindows(Thread-4, started daemon 2044)>, <Thread(Thread-40, started 20644)>, <Thread(Thread-41, started 14996)>]\n"
     ]
    },
    {
     "name": "stdout",
     "output_type": "stream",
     "text": [
      "demo2--0demo1--0\n",
      "\n",
      "demo2--1demo1--1\n",
      "\n",
      "demo2--2demo1--2\n",
      "\n",
      "demo2--3demo1--3\n",
      "\n",
      "demo1--4demo2--4\n",
      "\n"
     ]
    }
   ],
   "source": [
    "def test1():\n",
    "    for i in range(5):\n",
    "        time.sleep(1)\n",
    "        print(\"demo1--%d\" % i)\n",
    "\n",
    "def test2():\n",
    "    for i in range(5):\n",
    "        time.sleep(1)\n",
    "        print(\"demo2--%d\" % i)\n",
    "\n",
    "if __name__ == '__main__':\n",
    "    t1 = threading.Thread(target=test1)\n",
    "    t2 = threading.Thread(target=test2)\n",
    "    t1.start()\n",
    "    t2.start()\n",
    "    print(threading.enumerate())\n",
    "    # 返回3个当前存活的线程，在t1，t2强制等待的时候，先运行了主线程"
   ]
  },
  {
   "cell_type": "markdown",
   "metadata": {},
   "source": [
    "> 当只剩一个线程的时候，退出。"
   ]
  },
  {
   "cell_type": "code",
   "execution_count": 16,
   "metadata": {},
   "outputs": [
    {
     "name": "stdout",
     "output_type": "stream",
     "text": [
      "[<_MainThread(MainThread, started 14020)>, <Thread(IOPub, started daemon 11816)>, <Heartbeat(Heartbeat, started daemon 19324)>, <ControlThread(Control, started daemon 17600)>, <HistorySavingThread(IPythonHistorySavingThread, started 23440)>, <ParentPollerWindows(Thread-4, started daemon 2044)>, <Thread(Thread-42, started 21660)>, <Thread(Thread-43, started 6420)>]\n",
      "demo2-0demo1-0\n",
      "\n",
      "[<_MainThread(MainThread, started 14020)>, <Thread(IOPub, started daemon 11816)>, <Heartbeat(Heartbeat, started daemon 19324)>, <ControlThread(Control, started daemon 17600)>, <HistorySavingThread(IPythonHistorySavingThread, started 23440)>, <ParentPollerWindows(Thread-4, started daemon 2044)>, <Thread(Thread-42, started 21660)>, <Thread(Thread-43, started 6420)>]\n",
      "demo2-1demo1-1\n",
      "\n",
      "[<_MainThread(MainThread, started 14020)>, <Thread(IOPub, started daemon 11816)>, <Heartbeat(Heartbeat, started daemon 19324)>, <ControlThread(Control, started daemon 17600)>, <HistorySavingThread(IPythonHistorySavingThread, started 23440)>, <ParentPollerWindows(Thread-4, started daemon 2044)>, <Thread(Thread-42, started 21660)>, <Thread(Thread-43, started 6420)>]\n",
      "demo2-2demo1-2\n",
      "\n",
      "[<_MainThread(MainThread, started 14020)>, <Thread(IOPub, started daemon 11816)>, <Heartbeat(Heartbeat, started daemon 19324)>, <ControlThread(Control, started daemon 17600)>, <HistorySavingThread(IPythonHistorySavingThread, started 23440)>, <ParentPollerWindows(Thread-4, started daemon 2044)>, <Thread(Thread-42, started 21660)>, <Thread(Thread-43, started 6420)>]\n",
      "demo1-3\n",
      "demo2-3\n",
      "[<_MainThread(MainThread, started 14020)>, <Thread(IOPub, started daemon 11816)>, <Heartbeat(Heartbeat, started daemon 19324)>, <ControlThread(Control, started daemon 17600)>, <HistorySavingThread(IPythonHistorySavingThread, started 23440)>, <ParentPollerWindows(Thread-4, started daemon 2044)>, <Thread(Thread-42, started 21660)>, <Thread(Thread-43, started 6420)>]\n",
      "demo2-4demo1-4\n",
      "\n",
      "[<_MainThread(MainThread, started 14020)>, <Thread(IOPub, started daemon 11816)>, <Heartbeat(Heartbeat, started daemon 19324)>, <ControlThread(Control, started daemon 17600)>, <HistorySavingThread(IPythonHistorySavingThread, started 23440)>, <ParentPollerWindows(Thread-4, started daemon 2044)>, <Thread(Thread-42, started 21660)>, <Thread(Thread-43, started 6420)>]\n",
      "demo2-5demo1-5\n",
      "\n",
      "[<_MainThread(MainThread, started 14020)>, <Thread(IOPub, started daemon 11816)>, <Heartbeat(Heartbeat, started daemon 19324)>, <ControlThread(Control, started daemon 17600)>, <HistorySavingThread(IPythonHistorySavingThread, started 23440)>, <ParentPollerWindows(Thread-4, started daemon 2044)>, <Thread(Thread-42, started 21660)>, <Thread(Thread-43, started 6420)>]\n",
      "demo2-6demo1-6\n",
      "\n",
      "[<_MainThread(MainThread, started 14020)>, <Thread(IOPub, started daemon 11816)>, <Heartbeat(Heartbeat, started daemon 19324)>, <ControlThread(Control, started daemon 17600)>, <HistorySavingThread(IPythonHistorySavingThread, started 23440)>, <ParentPollerWindows(Thread-4, started daemon 2044)>, <Thread(Thread-42, started 21660)>, <Thread(Thread-43, started 6420)>]\n",
      "demo1-7demo2-7\n",
      "\n",
      "[<_MainThread(MainThread, started 14020)>, <Thread(IOPub, started daemon 11816)>, <Heartbeat(Heartbeat, started daemon 19324)>, <ControlThread(Control, started daemon 17600)>, <HistorySavingThread(IPythonHistorySavingThread, started 23440)>, <ParentPollerWindows(Thread-4, started daemon 2044)>]\n",
      "[<_MainThread(MainThread, started 14020)>, <Thread(IOPub, started daemon 11816)>, <Heartbeat(Heartbeat, started daemon 19324)>, <ControlThread(Control, started daemon 17600)>, <HistorySavingThread(IPythonHistorySavingThread, started 23440)>, <ParentPollerWindows(Thread-4, started daemon 2044)>]\n",
      "[<_MainThread(MainThread, started 14020)>, <Thread(IOPub, started daemon 11816)>, <Heartbeat(Heartbeat, started daemon 19324)>, <ControlThread(Control, started daemon 17600)>, <HistorySavingThread(IPythonHistorySavingThread, started 23440)>, <ParentPollerWindows(Thread-4, started daemon 2044)>]\n",
      "[<_MainThread(MainThread, started 14020)>, <Thread(IOPub, started daemon 11816)>, <Heartbeat(Heartbeat, started daemon 19324)>, <ControlThread(Control, started daemon 17600)>, <HistorySavingThread(IPythonHistorySavingThread, started 23440)>, <ParentPollerWindows(Thread-4, started daemon 2044)>]\n",
      "[<_MainThread(MainThread, started 14020)>, <Thread(IOPub, started daemon 11816)>, <Heartbeat(Heartbeat, started daemon 19324)>, <ControlThread(Control, started daemon 17600)>, <HistorySavingThread(IPythonHistorySavingThread, started 23440)>, <ParentPollerWindows(Thread-4, started daemon 2044)>]\n",
      "[<_MainThread(MainThread, started 14020)>, <Thread(IOPub, started daemon 11816)>, <Heartbeat(Heartbeat, started daemon 19324)>, <ControlThread(Control, started daemon 17600)>, <HistorySavingThread(IPythonHistorySavingThread, started 23440)>, <ParentPollerWindows(Thread-4, started daemon 2044)>]\n",
      "[<_MainThread(MainThread, started 14020)>, <Thread(IOPub, started daemon 11816)>, <Heartbeat(Heartbeat, started daemon 19324)>, <ControlThread(Control, started daemon 17600)>, <HistorySavingThread(IPythonHistorySavingThread, started 23440)>, <ParentPollerWindows(Thread-4, started daemon 2044)>]\n",
      "[<_MainThread(MainThread, started 14020)>, <Thread(IOPub, started daemon 11816)>, <Heartbeat(Heartbeat, started daemon 19324)>, <ControlThread(Control, started daemon 17600)>, <HistorySavingThread(IPythonHistorySavingThread, started 23440)>, <ParentPollerWindows(Thread-4, started daemon 2044)>]\n",
      "[<_MainThread(MainThread, started 14020)>, <Thread(IOPub, started daemon 11816)>, <Heartbeat(Heartbeat, started daemon 19324)>, <ControlThread(Control, started daemon 17600)>, <HistorySavingThread(IPythonHistorySavingThread, started 23440)>, <ParentPollerWindows(Thread-4, started daemon 2044)>]\n",
      "[<_MainThread(MainThread, started 14020)>, <Thread(IOPub, started daemon 11816)>, <Heartbeat(Heartbeat, started daemon 19324)>, <ControlThread(Control, started daemon 17600)>, <HistorySavingThread(IPythonHistorySavingThread, started 23440)>, <ParentPollerWindows(Thread-4, started daemon 2044)>]\n",
      "[<_MainThread(MainThread, started 14020)>, <Thread(IOPub, started daemon 11816)>, <Heartbeat(Heartbeat, started daemon 19324)>, <ControlThread(Control, started daemon 17600)>, <HistorySavingThread(IPythonHistorySavingThread, started 23440)>, <ParentPollerWindows(Thread-4, started daemon 2044)>]\n",
      "[<_MainThread(MainThread, started 14020)>, <Thread(IOPub, started daemon 11816)>, <Heartbeat(Heartbeat, started daemon 19324)>, <ControlThread(Control, started daemon 17600)>, <HistorySavingThread(IPythonHistorySavingThread, started 23440)>, <ParentPollerWindows(Thread-4, started daemon 2044)>]\n",
      "[<_MainThread(MainThread, started 14020)>, <Thread(IOPub, started daemon 11816)>, <Heartbeat(Heartbeat, started daemon 19324)>, <ControlThread(Control, started daemon 17600)>, <HistorySavingThread(IPythonHistorySavingThread, started 23440)>, <ParentPollerWindows(Thread-4, started daemon 2044)>]\n",
      "[<_MainThread(MainThread, started 14020)>, <Thread(IOPub, started daemon 11816)>, <Heartbeat(Heartbeat, started daemon 19324)>, <ControlThread(Control, started daemon 17600)>, <HistorySavingThread(IPythonHistorySavingThread, started 23440)>, <ParentPollerWindows(Thread-4, started daemon 2044)>]\n",
      "[<_MainThread(MainThread, started 14020)>, <Thread(IOPub, started daemon 11816)>, <Heartbeat(Heartbeat, started daemon 19324)>, <ControlThread(Control, started daemon 17600)>, <HistorySavingThread(IPythonHistorySavingThread, started 23440)>, <ParentPollerWindows(Thread-4, started daemon 2044)>]\n",
      "[<_MainThread(MainThread, started 14020)>, <Thread(IOPub, started daemon 11816)>, <Heartbeat(Heartbeat, started daemon 19324)>, <ControlThread(Control, started daemon 17600)>, <HistorySavingThread(IPythonHistorySavingThread, started 23440)>, <ParentPollerWindows(Thread-4, started daemon 2044)>]\n",
      "[<_MainThread(MainThread, started 14020)>, <Thread(IOPub, started daemon 11816)>, <Heartbeat(Heartbeat, started daemon 19324)>, <ControlThread(Control, started daemon 17600)>, <HistorySavingThread(IPythonHistorySavingThread, started 23440)>, <ParentPollerWindows(Thread-4, started daemon 2044)>]\n",
      "[<_MainThread(MainThread, started 14020)>, <Thread(IOPub, started daemon 11816)>, <Heartbeat(Heartbeat, started daemon 19324)>, <ControlThread(Control, started daemon 17600)>, <HistorySavingThread(IPythonHistorySavingThread, started 23440)>, <ParentPollerWindows(Thread-4, started daemon 2044)>]\n",
      "[<_MainThread(MainThread, started 14020)>, <Thread(IOPub, started daemon 11816)>, <Heartbeat(Heartbeat, started daemon 19324)>, <ControlThread(Control, started daemon 17600)>, <HistorySavingThread(IPythonHistorySavingThread, started 23440)>, <ParentPollerWindows(Thread-4, started daemon 2044)>]\n",
      "[<_MainThread(MainThread, started 14020)>, <Thread(IOPub, started daemon 11816)>, <Heartbeat(Heartbeat, started daemon 19324)>, <ControlThread(Control, started daemon 17600)>, <HistorySavingThread(IPythonHistorySavingThread, started 23440)>, <ParentPollerWindows(Thread-4, started daemon 2044)>]\n",
      "[<_MainThread(MainThread, started 14020)>, <Thread(IOPub, started daemon 11816)>, <Heartbeat(Heartbeat, started daemon 19324)>, <ControlThread(Control, started daemon 17600)>, <HistorySavingThread(IPythonHistorySavingThread, started 23440)>, <ParentPollerWindows(Thread-4, started daemon 2044)>]\n",
      "[<_MainThread(MainThread, started 14020)>, <Thread(IOPub, started daemon 11816)>, <Heartbeat(Heartbeat, started daemon 19324)>, <ControlThread(Control, started daemon 17600)>, <HistorySavingThread(IPythonHistorySavingThread, started 23440)>, <ParentPollerWindows(Thread-4, started daemon 2044)>]\n",
      "[<_MainThread(MainThread, started 14020)>, <Thread(IOPub, started daemon 11816)>, <Heartbeat(Heartbeat, started daemon 19324)>, <ControlThread(Control, started daemon 17600)>, <HistorySavingThread(IPythonHistorySavingThread, started 23440)>, <ParentPollerWindows(Thread-4, started daemon 2044)>]\n",
      "[<_MainThread(MainThread, started 14020)>, <Thread(IOPub, started daemon 11816)>, <Heartbeat(Heartbeat, started daemon 19324)>, <ControlThread(Control, started daemon 17600)>, <HistorySavingThread(IPythonHistorySavingThread, started 23440)>, <ParentPollerWindows(Thread-4, started daemon 2044)>]\n",
      "[<_MainThread(MainThread, started 14020)>, <Thread(IOPub, started daemon 11816)>, <Heartbeat(Heartbeat, started daemon 19324)>, <ControlThread(Control, started daemon 17600)>, <HistorySavingThread(IPythonHistorySavingThread, started 23440)>, <ParentPollerWindows(Thread-4, started daemon 2044)>]\n",
      "[<_MainThread(MainThread, started 14020)>, <Thread(IOPub, started daemon 11816)>, <Heartbeat(Heartbeat, started daemon 19324)>, <ControlThread(Control, started daemon 17600)>, <HistorySavingThread(IPythonHistorySavingThread, started 23440)>, <ParentPollerWindows(Thread-4, started daemon 2044)>]\n",
      "[<_MainThread(MainThread, started 14020)>, <Thread(IOPub, started daemon 11816)>, <Heartbeat(Heartbeat, started daemon 19324)>, <ControlThread(Control, started daemon 17600)>, <HistorySavingThread(IPythonHistorySavingThread, started 23440)>, <ParentPollerWindows(Thread-4, started daemon 2044)>]\n",
      "[<_MainThread(MainThread, started 14020)>, <Thread(IOPub, started daemon 11816)>, <Heartbeat(Heartbeat, started daemon 19324)>, <ControlThread(Control, started daemon 17600)>, <HistorySavingThread(IPythonHistorySavingThread, started 23440)>, <ParentPollerWindows(Thread-4, started daemon 2044)>]\n",
      "[<_MainThread(MainThread, started 14020)>, <Thread(IOPub, started daemon 11816)>, <Heartbeat(Heartbeat, started daemon 19324)>, <ControlThread(Control, started daemon 17600)>, <HistorySavingThread(IPythonHistorySavingThread, started 23440)>, <ParentPollerWindows(Thread-4, started daemon 2044)>]\n",
      "[<_MainThread(MainThread, started 14020)>, <Thread(IOPub, started daemon 11816)>, <Heartbeat(Heartbeat, started daemon 19324)>, <ControlThread(Control, started daemon 17600)>, <HistorySavingThread(IPythonHistorySavingThread, started 23440)>, <ParentPollerWindows(Thread-4, started daemon 2044)>]\n",
      "[<_MainThread(MainThread, started 14020)>, <Thread(IOPub, started daemon 11816)>, <Heartbeat(Heartbeat, started daemon 19324)>, <ControlThread(Control, started daemon 17600)>, <HistorySavingThread(IPythonHistorySavingThread, started 23440)>, <ParentPollerWindows(Thread-4, started daemon 2044)>]\n",
      "[<_MainThread(MainThread, started 14020)>, <Thread(IOPub, started daemon 11816)>, <Heartbeat(Heartbeat, started daemon 19324)>, <ControlThread(Control, started daemon 17600)>, <HistorySavingThread(IPythonHistorySavingThread, started 23440)>, <ParentPollerWindows(Thread-4, started daemon 2044)>]\n",
      "[<_MainThread(MainThread, started 14020)>, <Thread(IOPub, started daemon 11816)>, <Heartbeat(Heartbeat, started daemon 19324)>, <ControlThread(Control, started daemon 17600)>, <HistorySavingThread(IPythonHistorySavingThread, started 23440)>, <ParentPollerWindows(Thread-4, started daemon 2044)>]\n",
      "[<_MainThread(MainThread, started 14020)>, <Thread(IOPub, started daemon 11816)>, <Heartbeat(Heartbeat, started daemon 19324)>, <ControlThread(Control, started daemon 17600)>, <HistorySavingThread(IPythonHistorySavingThread, started 23440)>, <ParentPollerWindows(Thread-4, started daemon 2044)>]\n",
      "[<_MainThread(MainThread, started 14020)>, <Thread(IOPub, started daemon 11816)>, <Heartbeat(Heartbeat, started daemon 19324)>, <ControlThread(Control, started daemon 17600)>, <HistorySavingThread(IPythonHistorySavingThread, started 23440)>, <ParentPollerWindows(Thread-4, started daemon 2044)>]\n",
      "[<_MainThread(MainThread, started 14020)>, <Thread(IOPub, started daemon 11816)>, <Heartbeat(Heartbeat, started daemon 19324)>, <ControlThread(Control, started daemon 17600)>, <HistorySavingThread(IPythonHistorySavingThread, started 23440)>, <ParentPollerWindows(Thread-4, started daemon 2044)>]\n",
      "[<_MainThread(MainThread, started 14020)>, <Thread(IOPub, started daemon 11816)>, <Heartbeat(Heartbeat, started daemon 19324)>, <ControlThread(Control, started daemon 17600)>, <HistorySavingThread(IPythonHistorySavingThread, started 23440)>, <ParentPollerWindows(Thread-4, started daemon 2044)>]\n",
      "[<_MainThread(MainThread, started 14020)>, <Thread(IOPub, started daemon 11816)>, <Heartbeat(Heartbeat, started daemon 19324)>, <ControlThread(Control, started daemon 17600)>, <HistorySavingThread(IPythonHistorySavingThread, started 23440)>, <ParentPollerWindows(Thread-4, started daemon 2044)>]\n",
      "[<_MainThread(MainThread, started 14020)>, <Thread(IOPub, started daemon 11816)>, <Heartbeat(Heartbeat, started daemon 19324)>, <ControlThread(Control, started daemon 17600)>, <HistorySavingThread(IPythonHistorySavingThread, started 23440)>, <ParentPollerWindows(Thread-4, started daemon 2044)>]\n",
      "[<_MainThread(MainThread, started 14020)>, <Thread(IOPub, started daemon 11816)>, <Heartbeat(Heartbeat, started daemon 19324)>, <ControlThread(Control, started daemon 17600)>, <HistorySavingThread(IPythonHistorySavingThread, started 23440)>, <ParentPollerWindows(Thread-4, started daemon 2044)>]\n",
      "[<_MainThread(MainThread, started 14020)>, <Thread(IOPub, started daemon 11816)>, <Heartbeat(Heartbeat, started daemon 19324)>, <ControlThread(Control, started daemon 17600)>, <HistorySavingThread(IPythonHistorySavingThread, started 23440)>, <ParentPollerWindows(Thread-4, started daemon 2044)>]\n",
      "[<_MainThread(MainThread, started 14020)>, <Thread(IOPub, started daemon 11816)>, <Heartbeat(Heartbeat, started daemon 19324)>, <ControlThread(Control, started daemon 17600)>, <HistorySavingThread(IPythonHistorySavingThread, started 23440)>, <ParentPollerWindows(Thread-4, started daemon 2044)>]\n",
      "[<_MainThread(MainThread, started 14020)>, <Thread(IOPub, started daemon 11816)>, <Heartbeat(Heartbeat, started daemon 19324)>, <ControlThread(Control, started daemon 17600)>, <HistorySavingThread(IPythonHistorySavingThread, started 23440)>, <ParentPollerWindows(Thread-4, started daemon 2044)>]\n",
      "[<_MainThread(MainThread, started 14020)>, <Thread(IOPub, started daemon 11816)>, <Heartbeat(Heartbeat, started daemon 19324)>, <ControlThread(Control, started daemon 17600)>, <HistorySavingThread(IPythonHistorySavingThread, started 23440)>, <ParentPollerWindows(Thread-4, started daemon 2044)>]\n",
      "[<_MainThread(MainThread, started 14020)>, <Thread(IOPub, started daemon 11816)>, <Heartbeat(Heartbeat, started daemon 19324)>, <ControlThread(Control, started daemon 17600)>, <HistorySavingThread(IPythonHistorySavingThread, started 23440)>, <ParentPollerWindows(Thread-4, started daemon 2044)>]\n",
      "[<_MainThread(MainThread, started 14020)>, <Thread(IOPub, started daemon 11816)>, <Heartbeat(Heartbeat, started daemon 19324)>, <ControlThread(Control, started daemon 17600)>, <HistorySavingThread(IPythonHistorySavingThread, started 23440)>, <ParentPollerWindows(Thread-4, started daemon 2044)>]\n"
     ]
    },
    {
     "ename": "KeyboardInterrupt",
     "evalue": "",
     "output_type": "error",
     "traceback": [
      "\u001b[1;31m---------------------------------------------------------------------------\u001b[0m",
      "\u001b[1;31mKeyboardInterrupt\u001b[0m                         Traceback (most recent call last)",
      "\u001b[1;32m~\\AppData\\Local\\Temp\\ipykernel_18872\\1604155216.py\u001b[0m in \u001b[0;36m<module>\u001b[1;34m\u001b[0m\n\u001b[0;32m     19\u001b[0m     \u001b[1;32mwhile\u001b[0m \u001b[1;32mTrue\u001b[0m\u001b[1;33m:\u001b[0m\u001b[1;33m\u001b[0m\u001b[1;33m\u001b[0m\u001b[0m\n\u001b[0;32m     20\u001b[0m         \u001b[0mprint\u001b[0m\u001b[1;33m(\u001b[0m\u001b[0mthreading\u001b[0m\u001b[1;33m.\u001b[0m\u001b[0menumerate\u001b[0m\u001b[1;33m(\u001b[0m\u001b[1;33m)\u001b[0m\u001b[1;33m)\u001b[0m\u001b[1;33m\u001b[0m\u001b[1;33m\u001b[0m\u001b[0m\n\u001b[1;32m---> 21\u001b[1;33m         \u001b[0mtime\u001b[0m\u001b[1;33m.\u001b[0m\u001b[0msleep\u001b[0m\u001b[1;33m(\u001b[0m\u001b[1;36m1\u001b[0m\u001b[1;33m)\u001b[0m\u001b[1;33m\u001b[0m\u001b[1;33m\u001b[0m\u001b[0m\n\u001b[0m\u001b[0;32m     22\u001b[0m         \u001b[1;32mif\u001b[0m \u001b[0mlen\u001b[0m\u001b[1;33m(\u001b[0m\u001b[0mthreading\u001b[0m\u001b[1;33m.\u001b[0m\u001b[0menumerate\u001b[0m\u001b[1;33m(\u001b[0m\u001b[1;33m)\u001b[0m\u001b[1;33m)\u001b[0m \u001b[1;33m<=\u001b[0m \u001b[1;36m1\u001b[0m\u001b[1;33m:\u001b[0m\u001b[1;33m\u001b[0m\u001b[1;33m\u001b[0m\u001b[0m\n\u001b[0;32m     23\u001b[0m             \u001b[1;32mbreak\u001b[0m\u001b[1;33m\u001b[0m\u001b[1;33m\u001b[0m\u001b[0m\n",
      "\u001b[1;31mKeyboardInterrupt\u001b[0m: "
     ]
    }
   ],
   "source": [
    "import threading\n",
    "import time\n",
    "\n",
    "def test1():\n",
    "    for i in range(8):\n",
    "        time.sleep(1)\n",
    "        print(f'demo1-{i}')\n",
    "\n",
    "def test2():\n",
    "    for i in range(8):\n",
    "        time.sleep(1)\n",
    "        print(f'demo2-{i}')    \n",
    "\n",
    "if __name__ == \"__main__\":\n",
    "    t1 = threading.Thread(target=test1)\n",
    "    t2 = threading.Thread(target=test2)\n",
    "    t1.start()\n",
    "    t2.start()\n",
    "    while True:\n",
    "        print(threading.enumerate())\n",
    "        time.sleep(1)\n",
    "        if len(threading.enumerate()) <= 1:\n",
    "            break"
   ]
  },
  {
   "cell_type": "markdown",
   "metadata": {},
   "source": [
    "> 应该是jupyter自身也是一个运行窗口，这样就导致线程数一直大于1"
   ]
  },
  {
   "cell_type": "code",
   "execution_count": 18,
   "metadata": {},
   "outputs": [
    {
     "name": "stdout",
     "output_type": "stream",
     "text": [
      "前 [<_MainThread(MainThread, started 14020)>, <Thread(IOPub, started daemon 11816)>, <Heartbeat(Heartbeat, started daemon 19324)>, <ControlThread(Control, started daemon 17600)>, <HistorySavingThread(IPythonHistorySavingThread, started 23440)>, <ParentPollerWindows(Thread-4, started daemon 2044)>]\n",
      "中 [<_MainThread(MainThread, started 14020)>, <Thread(IOPub, started daemon 11816)>, <Heartbeat(Heartbeat, started daemon 19324)>, <ControlThread(Control, started daemon 17600)>, <HistorySavingThread(IPythonHistorySavingThread, started 23440)>, <ParentPollerWindows(Thread-4, started daemon 2044)>]\n",
      "后 [<_MainThread(MainThread, started 14020)>, <Thread(IOPub, started daemon 11816)>, <Heartbeat(Heartbeat, started daemon 19324)>, <ControlThread(Control, started daemon 17600)>, <HistorySavingThread(IPythonHistorySavingThread, started 23440)>, <ParentPollerWindows(Thread-4, started daemon 2044)>, <Thread(Thread-47, started 21160)>]\n"
     ]
    },
    {
     "name": "stdout",
     "output_type": "stream",
     "text": [
      "demo2--0\n",
      "demo2--1\n",
      "demo2--2\n"
     ]
    }
   ],
   "source": [
    "import threading\n",
    "import time\n",
    "\n",
    "\n",
    "def test1():\n",
    "    for i in range(3):\n",
    "        time.sleep(1)\n",
    "        print(\"demo1--%d\" % i)\n",
    "\n",
    "def test2():\n",
    "    for i in range(3):\n",
    "        time.sleep(1)\n",
    "        print(\"demo2--%d\" % i)\n",
    "\n",
    "if __name__ == '__main__':\n",
    "    print('前', threading.enumerate())  # 1个线程\n",
    "    t1 = threading.Thread(target=test1) # 该方法只是把函数时间传递进去\n",
    "    print('中', threading.enumerate())  # 1个线程\n",
    "    t2 = threading.Thread(target=test2)\n",
    "    t2.start()  # 创建并启动线程\n",
    "    print('后', threading.enumerate())  # 2个线程\n",
    "    # 只有经过start之后，才算是真正的创建并启动线程"
   ]
  },
  {
   "cell_type": "markdown",
   "metadata": {},
   "source": [
    "### 线程锁"
   ]
  },
  {
   "cell_type": "code",
   "execution_count": 19,
   "metadata": {},
   "outputs": [
    {
     "name": "stdout",
     "output_type": "stream",
     "text": [
      "demo1--101\n",
      "demo1--101\n",
      "main--101\n"
     ]
    },
    {
     "data": {
      "text/plain": [
       "'\"运行结果三者都为101，程序启动的时候，t1运行，num为全部变量，执行+1操作，返回101\\nt2运行时，使用+1过的num。也不排除t2抢到资源优先启动的情况，几率很小。主线程只进行了资源访问'"
      ]
     },
     "execution_count": 19,
     "metadata": {},
     "output_type": "execute_result"
    }
   ],
   "source": [
    "num = 100\n",
    "def demo1():\n",
    "    global num\n",
    "    num += 1\n",
    "    print(\"demo1--%d\" % num)\n",
    "def demo2():\n",
    "    print(\"demo1--%d\" % num)\n",
    "\n",
    "def main():\n",
    "    t1 = threading.Thread(target=demo1)  # 把函数传递进去\n",
    "    t2 = threading.Thread(target=demo2)\n",
    "    t1.start()  # 创建并启动线程\n",
    "    t2.start()\n",
    "    print(\"main--%d\" % num)\n",
    "\n",
    "if __name__ == '__main__':\n",
    "    main()\n",
    "\"\"\"\"运行结果三者都为101，程序启动的时候，t1运行，num为全部变量，执行+1操作，返回101\n",
    "t2运行时，使用+1过的num。也不排除t2抢到资源优先启动的情况，几率很小。主线程只进行了资源访问\"\"\""
   ]
  },
  {
   "cell_type": "code",
   "execution_count": 21,
   "metadata": {},
   "outputs": [
    {
     "name": "stdout",
     "output_type": "stream",
     "text": [
      "demo2--627127\n",
      "demo1--1000000\n",
      "main--1000000\n"
     ]
    },
    {
     "data": {
      "text/plain": [
       "'当传入的10000时，demo1--10000，demo1--20000，main--20000；\\n当传入1000000时候，三者的值就发生了变化，没有直接相加的那么多，出现了资源竞争的问题\\nCPU运行的时候，要看哪个先抢到资源，当传入的数值比较小的时候，循环次数少，\\n循环的次数多了，就有可能被抢走资源。'"
      ]
     },
     "execution_count": 21,
     "metadata": {},
     "output_type": "execute_result"
    }
   ],
   "source": [
    "import threading\n",
    "import time\n",
    "\n",
    "num = 0\n",
    "def demo1(nums):\n",
    "    global num\n",
    "    for i in range(nums):\n",
    "        num +=1\n",
    "    print(\"demo1--%d\"%num)\n",
    "\n",
    "def demo2(nums):\n",
    "    global num\n",
    "    for i in range(nums):\n",
    "        num += 1\n",
    "    print(\"demo2--%d\"%num)\n",
    "\n",
    "def main():\n",
    "    # 注意，传参的时候是以元组的形式传入的，只传一个内容，要加个逗号\n",
    "    t1 = threading.Thread(target=demo1, args=(1000000,))  # 把函数传递进去\n",
    "    t2 = threading.Thread(target=demo2,args=(100000,))\n",
    "    t1.start()\n",
    "    t2.start()\n",
    "    time.sleep(3)\n",
    "    print('main--%d'%num)\n",
    "\n",
    "if __name__ == \"__main__\":\n",
    "    main()\n",
    "\"\"\"当传入的10000时，demo1--10000，demo1--20000，main--20000；\n",
    "当传入1000000时候，三者的值就发生了变化，没有直接相加的那么多，出现了资源竞争的问题\n",
    "CPU运行的时候，要看哪个先抢到资源，当传入的数值比较小的时候，循环次数少，\n",
    "循环的次数多了，就有可能被抢走资源。\"\"\""
   ]
  },
  {
   "cell_type": "markdown",
   "metadata": {},
   "source": [
    "> num初始值为0，有可能demo1先抢到资源，对num进行+1的操作，重新赋值给num，再重新获取num的变量，此时num为1，再进行+1的运算，有可能还没来得及重新赋值给num，就被demo2抢走了资源，此时demo2拿到的num就为1，做完+1操作后重新赋值给num，此时做了3次+1的操作，但有效的只有2次，丢了一次；在运行过程中就会出现相互抢的情况，造成了最后的结果没有那么多。"
   ]
  },
  {
   "cell_type": "code",
   "execution_count": 23,
   "metadata": {},
   "outputs": [
    {
     "name": "stdout",
     "output_type": "stream",
     "text": [
      "demo1--1000000\n",
      "demo2--2000000\n",
      "main--2000000\n"
     ]
    }
   ],
   "source": [
    "import threading\n",
    "import time\n",
    "\n",
    "num = 0\n",
    "# Lock只能上一把锁\n",
    "lock = threading.Lock()\n",
    "def demo1(nums):\n",
    "    global num\n",
    "    # 上锁\n",
    "    lock.acquire()\n",
    "    for i in range(nums):\n",
    "        num += 1\n",
    "    # 解锁\n",
    "    lock.release()\n",
    "    print(\"demo1--%d\" % num)\n",
    "def demo2(nums):\n",
    "    global num\n",
    "    # 上锁\n",
    "    lock.acquire()\n",
    "    for i in range(nums):\n",
    "        num += 1\n",
    "    # 解锁\n",
    "    lock.release()\n",
    "    print(\"demo2--%d\" % num)\n",
    "\n",
    "def main():\n",
    "    # 注意，传参的时候是以元组的形式传入的，只传一个内容，要加个逗号\n",
    "    t1 = threading.Thread(target=demo1, args=(1000000,))  # 把函数传递进去\n",
    "    t2 = threading.Thread(target=demo2, args=(1000000,))\n",
    "    t1.start()  # 创建并启动线程\n",
    "    t2.start()\n",
    "    time.sleep(3)\n",
    "    print(\"main--%d\" % num)\n",
    "\n",
    "if __name__ == '__main__':\n",
    "    main()"
   ]
  },
  {
   "cell_type": "markdown",
   "metadata": {},
   "source": [
    "> 用rlock完成同一个地方多次上锁和多次解锁，上锁和解锁的次数也是一一对应的。"
   ]
  },
  {
   "cell_type": "code",
   "execution_count": 25,
   "metadata": {},
   "outputs": [
    {
     "name": "stdout",
     "output_type": "stream",
     "text": [
      "demo1--1000000\n",
      "demo2--2000000\n",
      "main--2000000\n"
     ]
    }
   ],
   "source": [
    "import threading\n",
    "import time\n",
    "\n",
    "num = 0\n",
    "# RLock能上多把锁，上多少锁就要解多少锁\n",
    "rlock = threading.RLock()\n",
    "def demo1(nums):\n",
    "    global num\n",
    "    # 上锁\n",
    "    rlock.acquire()\n",
    "    rlock.acquire()\n",
    "    for i in range(nums):\n",
    "        num += 1\n",
    "    # 解锁\n",
    "    rlock.release()\n",
    "    rlock.release()\n",
    "    print(\"demo1--%d\" % num)\n",
    "def demo2(nums):\n",
    "    global num\n",
    "    # 上锁\n",
    "    rlock.acquire()\n",
    "    rlock.acquire()\n",
    "    rlock.acquire()\n",
    "    for i in range(nums):\n",
    "        num += 1\n",
    "    # 解锁\n",
    "    rlock.release()\n",
    "    rlock.release()\n",
    "    rlock.release()\n",
    "    print(\"demo2--%d\" % num)\n",
    "\n",
    "def main():\n",
    "    # 注意，传参的时候是以元组的形式传入的，只传一个内容，要加个逗号\n",
    "    t1 = threading.Thread(target=demo1, args=(1000000,))  # 把函数传递进去\n",
    "    t2 = threading.Thread(target=demo2, args=(1000000,))\n",
    "    t1.start()  # 创建并启动线程\n",
    "    t2.start()\n",
    "    time.sleep(3)\n",
    "    print(\"main--%d\" % num)\n",
    "\n",
    "if __name__ == '__main__':\n",
    "    main()\n"
   ]
  },
  {
   "cell_type": "markdown",
   "metadata": {},
   "source": [
    "### 线程队列"
   ]
  },
  {
   "cell_type": "code",
   "execution_count": 27,
   "metadata": {},
   "outputs": [
    {
     "name": "stdout",
     "output_type": "stream",
     "text": [
      "True\n",
      "False\n"
     ]
    }
   ],
   "source": [
    "from queue import Queue\n",
    "\"\"\"\n",
    "empty():判断队列是否为空\n",
    "full():判断队列是否满了\n",
    "get():从队列中取数据\n",
    "put():把一个数据放到队列中\n",
    "\"\"\"\n",
    "\n",
    "# 实例化对象，然后可以使用里面的方法\n",
    "q = Queue()\n",
    "# 返回布尔型，队列为空，返回为True；队列不为空，返回False\n",
    "print(q.empty())  # True\n",
    "# 如果不为空，就可以用get从队列中取值\n",
    "\n",
    "print(q.full())  # False\n",
    "# 判断队列是不是满了，True表示满的，False表示不是满的\n",
    "# 如果队列不是满的，可以用put往里面加数据"
   ]
  },
  {
   "cell_type": "code",
   "execution_count": 29,
   "metadata": {},
   "outputs": [
    {
     "name": "stdout",
     "output_type": "stream",
     "text": [
      "True\n",
      "False\n",
      "**************************************************\n",
      "False\n",
      "True\n",
      "1\n",
      "2\n",
      "3\n"
     ]
    },
    {
     "ename": "Empty",
     "evalue": "",
     "output_type": "error",
     "traceback": [
      "\u001b[1;31m---------------------------------------------------------------------------\u001b[0m",
      "\u001b[1;31mEmpty\u001b[0m                                     Traceback (most recent call last)",
      "\u001b[1;32m~\\AppData\\Local\\Temp\\ipykernel_18872\\1519257378.py\u001b[0m in \u001b[0;36m<module>\u001b[1;34m\u001b[0m\n\u001b[0;32m     14\u001b[0m \u001b[0mprint\u001b[0m\u001b[1;33m(\u001b[0m\u001b[0mq\u001b[0m\u001b[1;33m.\u001b[0m\u001b[0mget\u001b[0m\u001b[1;33m(\u001b[0m\u001b[1;33m)\u001b[0m\u001b[1;33m)\u001b[0m\u001b[1;33m\u001b[0m\u001b[1;33m\u001b[0m\u001b[0m\n\u001b[0;32m     15\u001b[0m \u001b[0mprint\u001b[0m\u001b[1;33m(\u001b[0m\u001b[0mq\u001b[0m\u001b[1;33m.\u001b[0m\u001b[0mget\u001b[0m\u001b[1;33m(\u001b[0m\u001b[1;33m)\u001b[0m\u001b[1;33m)\u001b[0m\u001b[1;33m\u001b[0m\u001b[1;33m\u001b[0m\u001b[0m\n\u001b[1;32m---> 16\u001b[1;33m \u001b[0mprint\u001b[0m\u001b[1;33m(\u001b[0m\u001b[0mq\u001b[0m\u001b[1;33m.\u001b[0m\u001b[0mget\u001b[0m\u001b[1;33m(\u001b[0m\u001b[0mtimeout\u001b[0m\u001b[1;33m=\u001b[0m\u001b[1;36m2\u001b[0m\u001b[1;33m)\u001b[0m\u001b[1;33m)\u001b[0m\u001b[1;33m\u001b[0m\u001b[1;33m\u001b[0m\u001b[0m\n\u001b[0m\u001b[0;32m     17\u001b[0m \u001b[1;33m\u001b[0m\u001b[0m\n\u001b[0;32m     18\u001b[0m \u001b[1;33m\u001b[0m\u001b[0m\n",
      "\u001b[1;32md:\\Anaconda\\lib\\queue.py\u001b[0m in \u001b[0;36mget\u001b[1;34m(self, block, timeout)\u001b[0m\n\u001b[0;32m    176\u001b[0m                     \u001b[0mremaining\u001b[0m \u001b[1;33m=\u001b[0m \u001b[0mendtime\u001b[0m \u001b[1;33m-\u001b[0m \u001b[0mtime\u001b[0m\u001b[1;33m(\u001b[0m\u001b[1;33m)\u001b[0m\u001b[1;33m\u001b[0m\u001b[1;33m\u001b[0m\u001b[0m\n\u001b[0;32m    177\u001b[0m                     \u001b[1;32mif\u001b[0m \u001b[0mremaining\u001b[0m \u001b[1;33m<=\u001b[0m \u001b[1;36m0.0\u001b[0m\u001b[1;33m:\u001b[0m\u001b[1;33m\u001b[0m\u001b[1;33m\u001b[0m\u001b[0m\n\u001b[1;32m--> 178\u001b[1;33m                         \u001b[1;32mraise\u001b[0m \u001b[0mEmpty\u001b[0m\u001b[1;33m\u001b[0m\u001b[1;33m\u001b[0m\u001b[0m\n\u001b[0m\u001b[0;32m    179\u001b[0m                     \u001b[0mself\u001b[0m\u001b[1;33m.\u001b[0m\u001b[0mnot_empty\u001b[0m\u001b[1;33m.\u001b[0m\u001b[0mwait\u001b[0m\u001b[1;33m(\u001b[0m\u001b[0mremaining\u001b[0m\u001b[1;33m)\u001b[0m\u001b[1;33m\u001b[0m\u001b[1;33m\u001b[0m\u001b[0m\n\u001b[0;32m    180\u001b[0m             \u001b[0mitem\u001b[0m \u001b[1;33m=\u001b[0m \u001b[0mself\u001b[0m\u001b[1;33m.\u001b[0m\u001b[0m_get\u001b[0m\u001b[1;33m(\u001b[0m\u001b[1;33m)\u001b[0m\u001b[1;33m\u001b[0m\u001b[1;33m\u001b[0m\u001b[0m\n",
      "\u001b[1;31mEmpty\u001b[0m: "
     ]
    }
   ],
   "source": [
    "from queue import Queue\n",
    "\n",
    "# 在初始化的时候，没有设定容量，可以存放大概2G的数据\n",
    "\n",
    "# q = Queue()\n",
    "# 可以在初始化的时候指定容量大小\n",
    "q = Queue(3)  # 初始化容量为3\n",
    "\n",
    "print(q.empty())\n",
    "print(q.full())\n",
    "q.put(1)\n",
    "q.put(2)\n",
    "q.put(3)\n",
    "print('*'*50)\n",
    "print(q.empty())\n",
    "print(q.full())\n",
    "\"\"\"没有指定容量，在添加1之前，队列是空的，不是满的；添加了1之后，队列不是空的，但也不是满的，\n",
    "得到的结果是True，False，False，False\n",
    "如果指定了队列长度为3，添加了1，2，3，之后，队列容量达到了上限，得到的结果是True，False，False，True\n",
    "如果队列添加满了后，再往队列里加内容，程序就会卡到那，q.put(4,timeout=2)，在2秒后就会提示queue.full的错误\n",
    "跟q.put_nowait(4)一样的效果\"\"\"\n",
    "print(q.get())\n",
    "print(q.get())\n",
    "print(q.get())\n",
    "print(q.get(timeout=2))\n",
    "\n",
    "\"\"\"先进先出，先传进去的最先取出来，如果多取一个程序也会卡到那，q.get(timeout=2),2秒后提示queue.Empty的错误\"\"\""
   ]
  },
  {
   "cell_type": "code",
   "execution_count": null,
   "metadata": {},
   "outputs": [],
   "source": []
  }
 ],
 "metadata": {
  "kernelspec": {
   "display_name": "base",
   "language": "python",
   "name": "python3"
  },
  "language_info": {
   "codemirror_mode": {
    "name": "ipython",
    "version": 3
   },
   "file_extension": ".py",
   "mimetype": "text/x-python",
   "name": "python",
   "nbconvert_exporter": "python",
   "pygments_lexer": "ipython3",
   "version": "3.7.13"
  }
 },
 "nbformat": 4,
 "nbformat_minor": 2
}
