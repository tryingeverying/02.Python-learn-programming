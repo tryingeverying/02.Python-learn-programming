{
 "cells": [
  {
   "cell_type": "markdown",
   "metadata": {},
   "source": [
    "# selenium基础操作"
   ]
  },
  {
   "cell_type": "markdown",
   "metadata": {},
   "source": [
    "## 伪装访问头"
   ]
  },
  {
   "cell_type": "code",
   "execution_count": 1,
   "metadata": {},
   "outputs": [
    {
     "name": "stdout",
     "output_type": "stream",
     "text": [
      "Mozilla/5.0 (Macintosh; Intel Mac OS X 10_15_7) AppleWebKit/537.36 (KHTML, like Gecko) Chrome/114.0.0.0 Safari/537.36\n",
      "Mozilla/5.0 (X11; Linux x86_64) AppleWebKit/537.36 (KHTML, like Gecko) Chrome/114.0.0.0 Safari/537.36\n",
      "Mozilla/5.0 (Macintosh; Intel Mac OS X 10.15; rv:109.0) Gecko/20100101 Firefox/116.0\n"
     ]
    }
   ],
   "source": [
    "from fake_useragent import UserAgent\n",
    "\n",
    "ua = UserAgent()\n",
    "print(ua.random)\n",
    "print(ua.chrome)\n",
    "print(ua.firefox)"
   ]
  },
  {
   "cell_type": "markdown",
   "metadata": {},
   "source": [
    "## selenium基本操作"
   ]
  },
  {
   "cell_type": "code",
   "execution_count": 4,
   "metadata": {},
   "outputs": [
    {
     "name": "stdout",
     "output_type": "stream",
     "text": [
      "done\n"
     ]
    }
   ],
   "source": [
    "from selenium import webdriver\n",
    "import time\n",
    "from selenium.webdriver.common.by import By\n",
    "\n",
    "option = webdriver.ChromeOptions()\n",
    "# 浏览器常开\n",
    "option.add_experimental_option(\"detach\", True)\n",
    "# 配置浏览器设置\n",
    "# 关闭自动化测试窗口\n",
    "option.add_experimental_option(\"excludeSwitches\", ['enable-automation'])\n",
    "option.add_experimental_option('useAutomationExtension', False)\n",
    "option.add_argument('disable-infobars')\n",
    "# 屏蔽保存密码提示框\n",
    "prefs = {'credentials_enable_service':False,'profile.password_manager_enabled':False}\n",
    "option.add_experimental_option('prefs',prefs)\n",
    "# 反爬虫特性处理\n",
    "option.add_argument('--disable_blink_features=AutomationControlled')\n",
    "# 传入配置信息\n",
    "driver = webdriver.Chrome(options=option)\n",
    "driver.get('https://www.baidu.com/')\n",
    "time.sleep(2)\n",
    "\n",
    "# 在百度的搜索框中输入python\n",
    "ipt_tag = driver.find_element(By.CSS_SELECTOR,value='#kw')\n",
    "ipt_tag.send_keys('爬虫')\n",
    "time.sleep(1)\n",
    "# 点击搜索\n",
    "# selenium的css选择器的命令更新了\n",
    "btn_tag = driver.find_element(By.CSS_SELECTOR,value='#su')\n",
    "btn_tag.click()\n",
    "time.sleep(5)\n",
    "# 清空搜索框\n",
    "ipt_tag.clear()\n",
    "# 截屏\n",
    "driver.save_screenshot(r'F:\\Programming\\02.Python-learn-programming\\6_Python3_Web_Crawler_Development_Practice\\test_project\\res\\img\\baidu.png')\n",
    "print('done')\n",
    "time.sleep(1)\n",
    "# 退出浏览器\n",
    "driver.close()\n",
    "time.sleep(2)\n",
    "# 退出驱动\n",
    "driver.quit()"
   ]
  },
  {
   "cell_type": "markdown",
   "metadata": {},
   "source": [
    "# selenium进阶操作"
   ]
  },
  {
   "cell_type": "code",
   "execution_count": 6,
   "metadata": {},
   "outputs": [
    {
     "name": "stdout",
     "output_type": "stream",
     "text": [
      "5842\n",
      "1208\n",
      "-1\n",
      "done\n"
     ]
    }
   ],
   "source": [
    "from selenium import webdriver\n",
    "import time\n",
    "from selenium.webdriver.common.by import By\n",
    "\n",
    "option = webdriver.ChromeOptions()\n",
    "# 浏览器常开\n",
    "option.add_experimental_option(\"detach\", True)\n",
    "# 配置浏览器设置\n",
    "# 关闭自动化测试窗口\n",
    "option.add_experimental_option(\"excludeSwitches\", ['enable-automation'])\n",
    "option.add_experimental_option('useAutomationExtension', False)\n",
    "option.add_argument('disable-infobars')\n",
    "# 屏蔽保存密码提示框\n",
    "prefs = {'credentials_enable_service':False,'profile.password_manager_enabled':False}\n",
    "option.add_experimental_option('prefs',prefs)\n",
    "# 反爬虫特性处理\n",
    "option.add_argument('--disable_blink_features=AutomationControlled')\n",
    "# 传入配置信息\n",
    "driver = webdriver.Chrome(options=option)\n",
    "\n",
    "driver.get('https://www.baidu.com/')\n",
    "time.sleep(1)\n",
    "\n",
    "print(driver.page_source.find('kw'))\n",
    "# driver.page_source \n",
    "# 获取前端结构的源码\n",
    "# find() \n",
    "# 用来查找某个字符串在HTML结构源码中是否存在，\n",
    "# 存在就返回数字，不存在就返回-1\n",
    "print(driver.page_source.find('su'))\n",
    "print(driver.page_source.find('sdfsdfdsgvsd'))\n",
    "\n",
    "print('done')\n",
    "time.sleep(1)\n",
    "# 退出浏览器\n",
    "driver.close()\n",
    "time.sleep(2)\n",
    "# 退出驱动\n",
    "driver.quit()"
   ]
  },
  {
   "cell_type": "markdown",
   "metadata": {},
   "source": [
    "## 获取豆瓣电影250的第一页的图片地址和电影名"
   ]
  },
  {
   "cell_type": "code",
   "execution_count": 12,
   "metadata": {},
   "outputs": [
    {
     "name": "stdout",
     "output_type": "stream",
     "text": [
      "https://img2.doubanio.com/view/photo/s_ratio_poster/public/p480747492.webp\t肖申克的救赎  / The Shawshank Redemption  / 月黑高飞(港) / 刺激1995(台)\n",
      "https://img1.doubanio.com/view/photo/s_ratio_poster/public/p2561716440.webp\t霸王别姬  / 再见，我的妾 / Farewell My Concubine\n",
      "https://img2.doubanio.com/view/photo/s_ratio_poster/public/p2372307693.webp\t阿甘正传  / Forrest Gump  / 福雷斯特·冈普\n",
      "https://img2.doubanio.com/view/photo/s_ratio_poster/public/p2896604953.webp\t泰坦尼克号  / Titanic  / 铁达尼号(港 / 台)\n",
      "https://img2.doubanio.com/view/photo/s_ratio_poster/public/p511118051.webp\t这个杀手不太冷  / Léon  / 终极追杀令(台) / 杀手莱昂\n",
      "https://img1.doubanio.com/view/photo/s_ratio_poster/public/p2557573348.webp\t千与千寻  / 千と千尋の神隠し  / 神隐少女(台) / 千与千寻的神隐\n",
      "https://img2.doubanio.com/view/photo/s_ratio_poster/public/p2578474613.webp\t美丽人生  / La vita è bella  / 一个快乐的传说(港) / Life Is Beautiful\n",
      "https://img1.doubanio.com/view/photo/s_ratio_poster/public/p2614988097.webp\t星际穿越  / Interstellar  / 星际启示录(港) / 星际效应(台)\n",
      "https://img2.doubanio.com/view/photo/s_ratio_poster/public/p492406163.webp\t辛德勒的名单  / Schindler's List  / 舒特拉的名单(港) / 辛德勒名单\n",
      "https://img9.doubanio.com/view/photo/s_ratio_poster/public/p513344864.webp\t盗梦空间  / Inception  / 潜行凶间(港) / 全面启动(台)\n",
      "https://img2.doubanio.com/view/photo/s_ratio_poster/public/p479682972.webp\t楚门的世界  / The Truman Show  / 真人Show(港) / 真人戏\n",
      "https://img1.doubanio.com/view/photo/s_ratio_poster/public/p2587099240.webp\t忠犬八公的故事  / Hachi: A Dog's Tale  / 秋田犬八千(港) / 忠犬小八(台)\n",
      "https://img9.doubanio.com/view/photo/s_ratio_poster/public/p2574551676.webp\t海上钢琴师  / La leggenda del pianista sull'oceano  / 声光伴我飞(港) / 一九零零的传奇\n",
      "https://img2.doubanio.com/view/photo/s_ratio_poster/public/p579729551.webp\t三傻大闹宝莱坞  / 3 Idiots  / 三个傻瓜(台) / 作死不离3兄弟(港)\n",
      "https://img1.doubanio.com/view/photo/s_ratio_poster/public/p2884280708.webp\t放牛班的春天  / Les choristes  / 歌声伴我心(港) / 唱诗班男孩\n",
      "https://img2.doubanio.com/view/photo/s_ratio_poster/public/p1461851991.webp\t机器人总动员  / WALL·E  / 太空奇兵·威E(港) / 瓦力(台)\n",
      "https://img2.doubanio.com/view/photo/s_ratio_poster/public/p2896589742.webp\t疯狂动物城  / Zootopia  / 优兽大都会(港) / 动物方城市(台)\n",
      "https://img2.doubanio.com/view/photo/s_ratio_poster/public/p2564556863.webp\t无间道  / 無間道  / Infernal Affairs / Mou gaan dou\n",
      "https://img1.doubanio.com/view/photo/s_ratio_poster/public/p1505392928.webp\t控方证人  / Witness for the Prosecution  / 雄才伟略 / 情妇\n",
      "https://img9.doubanio.com/view/photo/s_ratio_poster/public/p2455050536.webp\t大话西游之大圣娶亲  / 西遊記大結局之仙履奇緣  / 西游记完结篇仙履奇缘 / 齐天大圣西游记\n",
      "https://img9.doubanio.com/view/photo/s_ratio_poster/public/p1363250216.webp\t熔炉  / 도가니  / 无声呐喊(港) / 漩涡\n",
      "https://img9.doubanio.com/view/photo/s_ratio_poster/public/p616779645.webp\t教父  / The Godfather  / Mario Puzo's The Godfather\n",
      "https://img9.doubanio.com/view/photo/s_ratio_poster/public/p1454261925.webp\t触不可及  / Intouchables  / 闪亮人生(港) / 逆转人生(台)\n",
      "https://img9.doubanio.com/view/photo/s_ratio_poster/public/p2614359276.webp\t当幸福来敲门  / The Pursuit of Happyness  / 寻找快乐的故事(港) / 追求快乐\n",
      "https://img2.doubanio.com/view/photo/s_ratio_poster/public/p452089833.webp\t末代皇帝  / The Last Emperor  / 末代皇帝溥仪(港) / L'ultimo imperatore\n",
      "done\n"
     ]
    }
   ],
   "source": [
    "from selenium import webdriver\n",
    "import time\n",
    "from selenium.webdriver.common.by import By\n",
    "\n",
    "option = webdriver.ChromeOptions()\n",
    "# 浏览器常开\n",
    "option.add_experimental_option(\"detach\", True)\n",
    "# 配置浏览器设置\n",
    "# 关闭自动化测试窗口\n",
    "option.add_experimental_option(\"excludeSwitches\", ['enable-automation'])\n",
    "option.add_experimental_option('useAutomationExtension', False)\n",
    "option.add_argument('disable-infobars')\n",
    "# 屏蔽保存密码提示框\n",
    "prefs = {'credentials_enable_service':False,'profile.password_manager_enabled':False}\n",
    "option.add_experimental_option('prefs',prefs)\n",
    "# 反爬虫特性处理\n",
    "option.add_argument('--disable_blink_features=AutomationControlled')\n",
    "# 传入配置信息\n",
    "driver = webdriver.Chrome(options=option)\n",
    "\n",
    "driver.get('https://movie.douban.com/top250?start=%s&type=')\n",
    "time.sleep(1)\n",
    "\n",
    "img_tags = driver.find_elements(By.XPATH,value='//*[@id=\"content\"]/div/div[1]/ol/li/div/div[1]/a/img')\n",
    "title_tags = driver.find_elements(By.XPATH,value='//*[@id=\"content\"]/div/div[1]/ol/li/div/div[2]/div[1]/a')\n",
    "\n",
    "for i,j in zip(img_tags,title_tags):\n",
    "    # 获取img_tag中src的属性值\n",
    "    print(''.join([i.get_attribute('src'),'\\t',j.text]))\n",
    "\n",
    "print('done')\n",
    "time.sleep(1)\n",
    "# 退出浏览器\n",
    "driver.close()\n",
    "time.sleep(2)\n",
    "# 退出驱动\n",
    "driver.quit()"
   ]
  },
  {
   "cell_type": "markdown",
   "metadata": {},
   "source": [
    "## 17素材网-select和iframe处理\n",
    "> select元素不能直接点击。elenium专门为select标签提供了一个类 from selenium.webdriver.support.ui import Select。\n",
    "> \n",
    "> 示例如下"
   ]
  },
  {
   "cell_type": "code",
   "execution_count": 2,
   "metadata": {},
   "outputs": [
    {
     "name": "stdout",
     "output_type": "stream",
     "text": [
      "出现异常Message: no such element: Unable to locate element: {\"method\":\"css selector\",\"selector\":\".nojs\"}\n",
      "  (Session info: chrome=117.0.5938.150); For documentation on this error, please visit: https://www.selenium.dev/documentation/webdriver/troubleshooting/errors#no-such-element-exception\n",
      "Stacktrace:\n",
      "\tGetHandleVerifier [0x0087CEB3+45171]\n",
      "\t(No symbol) [0x00809101]\n",
      "\t(No symbol) [0x006FBE1D]\n",
      "\t(No symbol) [0x0072ED40]\n",
      "\t(No symbol) [0x0072F20B]\n",
      "\t(No symbol) [0x0075F692]\n",
      "\t(No symbol) [0x0074B094]\n",
      "\t(No symbol) [0x0075DCFA]\n",
      "\t(No symbol) [0x0074AE46]\n",
      "\t(No symbol) [0x0072675E]\n",
      "\t(No symbol) [0x007278FD]\n",
      "\tGetHandleVerifier [0x00B354B9+2897529]\n",
      "\tGetHandleVerifier [0x00B7DC6B+3194411]\n",
      "\tGetHandleVerifier [0x00B77A41+3169281]\n",
      "\tGetHandleVerifier [0x00906130+606960]\n",
      "\t(No symbol) [0x00812E7C]\n",
      "\t(No symbol) [0x0080F008]\n",
      "\t(No symbol) [0x0080F12F]\n",
      "\t(No symbol) [0x00801827]\n",
      "\tBaseThreadInitThunk [0x7604FA29+25]\n",
      "\tRtlGetAppContainerNamedObjectPath [0x77B97A9E+286]\n",
      "\tRtlGetAppContainerNamedObjectPath [0x77B97A6E+238]\n",
      "\n",
      "done\n"
     ]
    }
   ],
   "source": [
    "from selenium import webdriver\n",
    "import time\n",
    "from selenium.webdriver.common.by import By\n",
    "from selenium.common.exceptions import WebDriverException\n",
    "\n",
    "option = webdriver.ChromeOptions()\n",
    "# 浏览器常开\n",
    "option.add_experimental_option(\"detach\", True)\n",
    "# 配置浏览器设置\n",
    "# 关闭自动化测试窗口\n",
    "option.add_experimental_option(\"excludeSwitches\", ['enable-automation'])\n",
    "option.add_experimental_option('useAutomationExtension', False)\n",
    "option.add_argument('disable-infobars')\n",
    "# 屏蔽保存密码提示框\n",
    "prefs = {'credentials_enable_service':False,'profile.password_manager_enabled':False}\n",
    "option.add_experimental_option('prefs',prefs)\n",
    "# 反爬虫特性处理\n",
    "option.add_argument('--disable_blink_features=AutomationControlled')\n",
    "# 传入配置信息\n",
    "driver = webdriver.Chrome(options=option)\n",
    "\n",
    "driver.get('https://www.17sucai.com/boards/53562.html')\n",
    "time.sleep(1)\n",
    "try:\n",
    "    select_tag = driver.find_element(By.CLASS_NAME,value='nojs')\n",
    "    select_tag.select_by_value('AU')\n",
    "except WebDriverException as e:\n",
    "    print(f'出现异常: {e}')\n",
    "finally:\n",
    "    print('done')\n",
    "    time.sleep(1)\n",
    "    # 退出浏览器\n",
    "    driver.close()\n",
    "    time.sleep(2)\n",
    "    # 退出驱动\n",
    "    driver.quit()\n"
   ]
  },
  {
   "cell_type": "code",
   "execution_count": 13,
   "metadata": {},
   "outputs": [
    {
     "name": "stderr",
     "output_type": "stream",
     "text": [
      "The chromedriver version (117.0.5938.92) detected in PATH at d:\\Anaconda\\chromedriver.exe might not be compatible with the detected chrome version (117.0.5938.150); currently, chromedriver 117.0.5938.149 is recommended for chrome 117.*, so it is advised to delete the driver in PATH and retry\n"
     ]
    },
    {
     "name": "stdout",
     "output_type": "stream",
     "text": [
      "<class 'NoneType'>\n",
      "done\n"
     ]
    }
   ],
   "source": [
    "from selenium import webdriver\n",
    "import time\n",
    "from selenium.webdriver.common.by import By\n",
    "from selenium.webdriver.support.ui import Select\n",
    "from selenium.common.exceptions import WebDriverException\n",
    "\n",
    "option = webdriver.ChromeOptions()\n",
    "# 浏览器常开\n",
    "option.add_experimental_option(\"detach\", True)\n",
    "# 配置浏览器设置\n",
    "# 关闭自动化测试窗口\n",
    "option.add_experimental_option(\"excludeSwitches\", ['enable-automation'])\n",
    "option.add_experimental_option('useAutomationExtension', False)\n",
    "option.add_argument('disable-infobars')\n",
    "# 屏蔽保存密码提示框\n",
    "prefs = {'credentials_enable_service':False,'profile.password_manager_enabled':False}\n",
    "option.add_experimental_option('prefs',prefs)\n",
    "# 反爬虫特性处理\n",
    "option.add_argument('--disable_blink_features=AutomationControlled')\n",
    "# 传入配置信息\n",
    "driver = webdriver.Chrome(options=option)\n",
    "# 设置浏览器的初始化位置\n",
    "driver.set_window_position(x=400,y=200)\n",
    "# 初始化浏览器为最大窗口\n",
    "# driver.maximize_window()\n",
    "\n",
    "driver.get('https://www.17sucai.com/boards/53562.html')\n",
    "time.sleep(1)\n",
    "try:\n",
    "    # 获取中间网页的url\n",
    "    middle_page_tag = driver.find_element(By.XPATH,\"/html/body/div[2]/div[3]/ul/li[1]/div[1]/a\")\n",
    "    time.sleep(1)\n",
    "    middle_page_url = middle_page_tag.get_attribute('href')\n",
    "    # 进入中间网页\n",
    "    driver.get(middle_page_url)\n",
    "    time.sleep(1)\n",
    "\n",
    "    # 获取目标网页的url\n",
    "    aid_page_tag = driver.find_element(By.XPATH,value='/html/body/div[2]/div/div[2]/div[3]/div[1]/a[1]')\n",
    "    time.sleep(1)\n",
    "    # aid_page_url = aid_page_tag.get_attribute('href')\n",
    "    # 进入目标网页\n",
    "    # driver.get(aid_page_url)\n",
    "    aid_page_tag.click()\n",
    "    print(type(aid_page_tag.click()))\n",
    "    time.sleep(1)\n",
    "    # 为什么我已经通过click把网页切换到aid_page,但是截屏的还是middle_page的界面\n",
    "    driver.save_screenshot(r'F:\\Programming\\02.Python-learn-programming\\6_Python3_Web_Crawler_Development_Practice\\test_project\\res\\img\\test_1.png')\n",
    "\n",
    "    # 切换到子页面inframe\n",
    "    # driver.switch_to.frame(href_tag)\n",
    "    # 找到class为nojs的位置\n",
    "    # select_tag = driver.find_element(By.CLASS_NAME,value='nojs')\n",
    "    # select_tag = Select(select_tag)\n",
    "    # select_tag.select_by_value('AU')\n",
    "# except WebDriverException as e:\n",
    "#     print(f'出现异常: {e}')\n",
    "finally:\n",
    "    print('done')\n",
    "    time.sleep(1)\n",
    "    # 退出浏览器\n",
    "    driver.close()\n",
    "    time.sleep(2)\n",
    "    # 退出驱动\n",
    "    driver.quit()\n"
   ]
  },
  {
   "cell_type": "markdown",
   "metadata": {},
   "source": [
    "## 上面哪个例子行不通了 换网易云(https://music.163.com/)"
   ]
  },
  {
   "cell_type": "code",
   "execution_count": 1,
   "metadata": {},
   "outputs": [],
   "source": [
    "from selenium import webdriver\n",
    "import time\n",
    "from selenium.webdriver.common.by import By\n",
    "# from selenium.webdriver.support.ui import Select\n",
    "from selenium.common.exceptions import WebDriverException\n",
    "\n",
    "option = webdriver.EdgeOptions()\n",
    "# 浏览器常开\n",
    "option.add_experimental_option(\"detach\", True)\n",
    "# 配置浏览器设置\n",
    "# 关闭自动化测试窗口\n",
    "option.add_experimental_option(\"excludeSwitches\", ['enable-automation'])\n",
    "option.add_experimental_option('useAutomationExtension', False)\n",
    "option.add_argument('disable-infobars')\n",
    "# 屏蔽保存密码提示框\n",
    "prefs = {'credentials_enable_service':False,'profile.password_manager_enabled':False}\n",
    "option.add_experimental_option('prefs',prefs)\n",
    "# 反爬虫特性处理\n",
    "option.add_argument('--disable_blink_features=AutomationControlled')\n",
    "# 传入配置信息\n",
    "driver = webdriver.Edge(options=option)\n",
    "\n",
    "driver.get('https://music.163.com/')\n",
    "time.sleep(1)\n",
    "try:\n",
    "    # 找到子页面inframe的位置\n",
    "    ifra_tag = driver.find_element(By.ID,\"g_iframe\")\n",
    "    time.sleep(1)\n",
    "    driver.switch_to.frame(ifra_tag)\n",
    "    # 为虾米切不进去?????\n",
    "\n",
    "except WebDriverException as e:\n",
    "    print(f'出现异常: {e}')\n",
    "finally:\n",
    "    print('done')\n",
    "    time.sleep(1)\n",
    "    # 退出浏览器\n",
    "    driver.close()\n",
    "    time.sleep(2)\n",
    "    # 退出驱动\n",
    "    driver.quit()\n"
   ]
  },
  {
   "cell_type": "markdown",
   "metadata": {},
   "source": [
    "## 模拟登录豆瓣"
   ]
  },
  {
   "cell_type": "code",
   "execution_count": 13,
   "metadata": {},
   "outputs": [
    {
     "name": "stderr",
     "output_type": "stream",
     "text": [
      "The chromedriver version (117.0.5938.92) detected in PATH at d:\\Anaconda\\chromedriver.exe might not be compatible with the detected chrome version (117.0.5938.150); currently, chromedriver 117.0.5938.149 is recommended for chrome 117.*, so it is advised to delete the driver in PATH and retry\n"
     ]
    }
   ],
   "source": [
    "from selenium import webdriver\n",
    "import time\n",
    "from selenium.webdriver.common.by import By\n",
    "\n",
    "option = webdriver.ChromeOptions()\n",
    "# 浏览器常开\n",
    "option.add_experimental_option(\"detach\", True)\n",
    "# 配置浏览器设置\n",
    "# 关闭自动化测试窗口\n",
    "option.add_experimental_option(\"excludeSwitches\", ['enable-automation'])\n",
    "option.add_experimental_option('useAutomationExtension', False)\n",
    "option.add_argument('disable-infobars')\n",
    "# 屏蔽保存密码提示框\n",
    "prefs = {'credentials_enable_service':False,'profile.password_manager_enabled':False}\n",
    "option.add_experimental_option('prefs',prefs)\n",
    "# 反爬虫特性处理\n",
    "option.add_argument('--disable_blink_features=AutomationControlled')\n",
    "# 传入配置信息\n",
    "driver = webdriver.Chrome(options=option)\n",
    "\n",
    "driver.get('https://www.douban.com/')\n",
    "time.sleep(1)\n",
    "\n",
    "# 登录界面在一个iframe，查找该iframe \n",
    "ifra_tag = driver.find_element(By.XPATH,'//*[@id=\"anony-reg-new\"]/div/div[1]/iframe')\n",
    "# 切换到iframe\n",
    "driver.switch_to.frame(ifra_tag)\n",
    "time.sleep(1)\n",
    "\n",
    "# 切换到账号密码登录\n",
    "account_tag = driver.find_element(By.XPATH,'/html/body/div[1]/div[1]/ul[1]/li[2]')\n",
    "# 点击账号密码登录\n",
    "account_tag.click()\n",
    "time.sleep(1)\n",
    "\n",
    "# 查找登陆地址\n",
    "login_tags = driver.find_element(By.CSS_SELECTOR,value='#username')\n",
    "login_tags.send_keys('account@gmail.com')\n",
    "password_tags = driver.find_element(By.CSS_SELECTOR,value='#password')\n",
    "password_tags.send_keys('password')\n",
    "\n",
    "time.sleep(1)\n",
    "\n",
    "# 查找登陆按钮\n",
    "login_button = driver.find_element(By.CSS_SELECTOR,value='body > div.account-main.account-body.login-wrap.login-start.account-anonymous > div.account-tabcon-start > div.account-form > div.account-form-field-submit > a')\n",
    "# 点击登录按钮\n",
    "login_button.click()\n",
    "time.sleep(1)\n",
    "\n",
    "print('done')\n",
    "time.sleep(1)\n",
    "# 退出浏览器\n",
    "driver.close()\n",
    "time.sleep(2)\n",
    "# 退出驱动\n",
    "driver.quit()"
   ]
  },
  {
   "cell_type": "markdown",
   "metadata": {},
   "source": [
    "## 通过selenium获取cookie"
   ]
  },
  {
   "cell_type": "markdown",
   "metadata": {},
   "source": [
    "> 之前的操作是在浏览器中找到cookie，复制下来加到请求头里。有些网站的数据是需要登录之后才能爬取的\n",
    ">\n",
    "> cookie在爬虫中的作用：\n",
    "> 1. 模拟登录\n",
    "> 2. 反反爬：useragent 反反爬第一步，很多网站都会检查，还会有网站检查 cookie referer，但是cookie有时效性，几个小时到几天不等，可以通过selenium去动态的更新cookie值。"
   ]
  },
  {
   "cell_type": "code",
   "execution_count": 15,
   "metadata": {},
   "outputs": [
    {
     "name": "stderr",
     "output_type": "stream",
     "text": [
      "The chromedriver version (117.0.5938.92) detected in PATH at d:\\Anaconda\\chromedriver.exe might not be compatible with the detected chrome version (117.0.5938.150); currently, chromedriver 117.0.5938.149 is recommended for chrome 117.*, so it is advised to delete the driver in PATH and retry\n"
     ]
    },
    {
     "name": "stdout",
     "output_type": "stream",
     "text": [
      "[{'domain': '.douban.com', 'expiry': 1696478011, 'httpOnly': False, 'name': '__utmt', 'path': '/', 'sameSite': 'Lax', 'secure': False, 'value': '1'}, {'domain': '.douban.com', 'expiry': 1712245411, 'httpOnly': False, 'name': '__utmz', 'path': '/', 'sameSite': 'Lax', 'secure': False, 'value': '30149280.1696477411.1.1.utmcsr=(direct)|utmccn=(direct)|utmcmd=(none)'}, {'domain': '.douban.com', 'httpOnly': False, 'name': '__utmc', 'path': '/', 'sameSite': 'Lax', 'secure': False, 'value': '30149280'}, {'domain': 'www.douban.com', 'expiry': 1696479210, 'httpOnly': False, 'name': '_pk_ses.100001.8cb4', 'path': '/', 'sameSite': 'Lax', 'secure': False, 'value': '1'}, {'domain': '.douban.com', 'expiry': 1696479211, 'httpOnly': False, 'name': '__utmb', 'path': '/', 'sameSite': 'Lax', 'secure': False, 'value': '30149280.1.10.1696477411'}, {'domain': '.douban.com', 'expiry': 1731037411, 'httpOnly': False, 'name': '__utma', 'path': '/', 'sameSite': 'Lax', 'secure': False, 'value': '30149280.804095884.1696477411.1696477411.1696477411.1'}, {'domain': 'www.douban.com', 'expiry': 1730432610, 'httpOnly': False, 'name': '_pk_id.100001.8cb4', 'path': '/', 'sameSite': 'Lax', 'secure': False, 'value': '75b91a7cc962dca0.1696477410.'}, {'domain': '.douban.com', 'expiry': 1728013409, 'httpOnly': False, 'name': 'bid', 'path': '/', 'sameSite': 'Lax', 'secure': False, 'value': '6Bc966UHDeI'}, {'domain': '.douban.com', 'expiry': 1728013409, 'httpOnly': False, 'name': 'll', 'path': '/', 'sameSite': 'Lax', 'secure': False, 'value': '\"108314\"'}]\n",
      "<class 'list'>\n",
      "__utmt=1;__utmz=30149280.1696477411.1.1.utmcsr=(direct)|utmccn=(direct)|utmcmd=(none);__utmc=30149280;_pk_ses.100001.8cb4=1;__utmb=30149280.1.10.1696477411;__utma=30149280.804095884.1696477411.1696477411.1696477411.1;_pk_id.100001.8cb4=75b91a7cc962dca0.1696477410.;bid=6Bc966UHDeI;ll=\"108314\"\n",
      "done\n"
     ]
    }
   ],
   "source": [
    "from selenium import webdriver\n",
    "import time\n",
    "from selenium.webdriver.common.by import By\n",
    "\n",
    "option = webdriver.ChromeOptions()\n",
    "# 浏览器常开\n",
    "option.add_experimental_option(\"detach\", True)\n",
    "# 配置浏览器设置\n",
    "# 关闭自动化测试窗口\n",
    "option.add_experimental_option(\"excludeSwitches\", ['enable-automation'])\n",
    "option.add_experimental_option('useAutomationExtension', False)\n",
    "option.add_argument('disable-infobars')\n",
    "# 屏蔽保存密码提示框\n",
    "prefs = {'credentials_enable_service':False,'profile.password_manager_enabled':False}\n",
    "option.add_experimental_option('prefs',prefs)\n",
    "# 反爬虫特性处理\n",
    "option.add_argument('--disable_blink_features=AutomationControlled')\n",
    "# 传入配置信息\n",
    "driver = webdriver.Chrome(options=option)\n",
    "\n",
    "driver.get('https://www.douban.com/')\n",
    "time.sleep(1)\n",
    "\n",
    "# driver.get_cookies()获取cookie\n",
    "cookies = driver.get_cookies()\n",
    "print(cookies)\n",
    "print(type(cookies))\n",
    "\n",
    "cookie = []\n",
    "for cook in cookies:\n",
    "    n = cook['name']\n",
    "    v = cook['value']\n",
    "    cookie.append(n + '=' + v)\n",
    "\n",
    "# 拼接cookies\n",
    "end_cookies = ';'.join(cookie)\n",
    "print(end_cookies)\n",
    "\n",
    "print('done')\n",
    "time.sleep(1)\n",
    "# 退出浏览器\n",
    "driver.close()\n",
    "time.sleep(2)\n",
    "# 退出驱动\n",
    "driver.quit()"
   ]
  },
  {
   "cell_type": "markdown",
   "metadata": {},
   "source": [
    "## 模拟登录QQ空间"
   ]
  },
  {
   "cell_type": "code",
   "execution_count": 27,
   "metadata": {},
   "outputs": [
    {
     "name": "stderr",
     "output_type": "stream",
     "text": [
      "The chromedriver version (117.0.5938.92) detected in PATH at d:\\Anaconda\\chromedriver.exe might not be compatible with the detected chrome version (117.0.5938.150); currently, chromedriver 117.0.5938.149 is recommended for chrome 117.*, so it is advised to delete the driver in PATH and retry\n"
     ]
    }
   ],
   "source": [
    "from selenium import webdriver\n",
    "import time\n",
    "from selenium.webdriver.common.by import By\n",
    "\n",
    "option = webdriver.ChromeOptions()\n",
    "# 浏览器常开\n",
    "option.add_experimental_option(\"detach\", True)\n",
    "# 配置浏览器设置\n",
    "# 关闭自动化测试窗口\n",
    "option.add_experimental_option(\"excludeSwitches\", ['enable-automation'])\n",
    "option.add_experimental_option('useAutomationExtension', False)\n",
    "option.add_argument('disable-infobars')\n",
    "# 屏蔽保存密码提示框\n",
    "prefs = {'credentials_enable_service':False,'profile.password_manager_enabled':False}\n",
    "option.add_experimental_option('prefs',prefs)\n",
    "# 反爬虫特性处理\n",
    "option.add_argument('--disable_blink_features=AutomationControlled')\n",
    "# 传入配置信息\n",
    "driver = webdriver.Chrome(options=option)\n",
    "\n",
    "driver.get('https://user.qzone.qq.com/1742801515/infocenter?_t_=0.5045327262136814')\n",
    "time.sleep(1)\n",
    "\n",
    "# 登录界面在一个iframe，查找该iframe \n",
    "ifra_tag = driver.find_element(By.ID,'login_frame')\n",
    "# 切换到iframe\n",
    "driver.switch_to.frame(ifra_tag)\n",
    "time.sleep(1)\n",
    "\n",
    "# 切换到账号密码登录\n",
    "account_tag = driver.find_element(By.ID,\"switcher_plogin\")\n",
    "# 点击账号密码登录\n",
    "account_tag.click()\n",
    "time.sleep(1)\n",
    "\n",
    "# 查找登陆地址\n",
    "login_tags = driver.find_element(By.CSS_SELECTOR,value='#u')\n",
    "login_tags.send_keys('account@gmail.com')\n",
    "time.sleep(1)\n",
    "password_tags = driver.find_element(By.XPATH,value='//*[@id=\"p\"]')\n",
    "password_tags.send_keys('password1234')\n",
    "\n",
    "time.sleep(1)\n",
    "\n",
    "# 查找登陆按钮\n",
    "login_button = driver.find_element(By.CSS_SELECTOR,value='#login_button')\n",
    "# 被反爬了\n",
    "# 当前网络环境存在风险，请使用手机QQ扫码登录，或更换网络环境后重试。\n",
    "\n",
    "# 点击登录按钮\n",
    "login_button.click()\n",
    "time.sleep(1)\n",
    "\n",
    "print('done')\n",
    "time.sleep(1)\n",
    "# 退出浏览器\n",
    "driver.close()\n",
    "time.sleep(2)\n",
    "# 退出驱动\n",
    "driver.quit()"
   ]
  },
  {
   "cell_type": "markdown",
   "metadata": {},
   "source": [
    "> 扫码登陆先把cookies弄出来再说吧"
   ]
  },
  {
   "cell_type": "code",
   "execution_count": 29,
   "metadata": {},
   "outputs": [
    {
     "name": "stderr",
     "output_type": "stream",
     "text": [
      "The chromedriver version (117.0.5938.92) detected in PATH at d:\\Anaconda\\chromedriver.exe might not be compatible with the detected chrome version (117.0.5938.150); currently, chromedriver 117.0.5938.149 is recommended for chrome 117.*, so it is advised to delete the driver in PATH and retry\n"
     ]
    },
    {
     "name": "stdout",
     "output_type": "stream",
     "text": [
      "QZ_FE_WEBP_SUPPORT=1;Loading=Yes;pt4_token=ZYkNimgt3ckZ7TiWdaQd*oOJ*oX0W5GYLVTee6y6nBw_;qz_screen=1536x864;p_uin=o1742801515;pgv_info=ssid=s8628958174;p_skey=A-S3cUVT8vpeYLavqMFhLvbexBLfzLAThxt8gTuO4YI_;pgv_pvid=818546050;_qpsvr_localtk=0.5577846233393635;skey=@ucwLSDMNU;ptcz=eed8704198b3832225e61eb049c3176a9077a457e2691897654c47aaf8008034;uin=o1742801515;zzpanelkey=;RK=py3VJlCNPU;zzpaneluin=\n"
     ]
    }
   ],
   "source": [
    "from selenium import webdriver\n",
    "import time\n",
    "from selenium.webdriver.common.by import By\n",
    "\n",
    "option = webdriver.ChromeOptions()\n",
    "# 浏览器常开\n",
    "option.add_experimental_option(\"detach\", True)\n",
    "# 配置浏览器设置\n",
    "# 关闭自动化测试窗口\n",
    "option.add_experimental_option(\"excludeSwitches\", ['enable-automation'])\n",
    "option.add_experimental_option('useAutomationExtension', False)\n",
    "option.add_argument('disable-infobars')\n",
    "# 屏蔽保存密码提示框\n",
    "prefs = {'credentials_enable_service':False,'profile.password_manager_enabled':False}\n",
    "option.add_experimental_option('prefs',prefs)\n",
    "# 反爬虫特性处理\n",
    "option.add_argument('--disable_blink_features=AutomationControlled')\n",
    "# 传入配置信息\n",
    "driver = webdriver.Chrome(options=option)\n",
    "\n",
    "driver.get('https://user.qzone.qq.com/1742801515/infocenter?_t_=0.5045327262136814')\n",
    "time.sleep(10)\n",
    "\n",
    "\n",
    "# driver.get_cookies()获取cookie\n",
    "cookies = driver.get_cookies()\n",
    "# print(cookies)\n",
    "\n",
    "\n",
    "cookie = []\n",
    "for cook in cookies:\n",
    "    n = cook['name']\n",
    "    v = cook['value']\n",
    "    cookie.append(n + '=' + v)\n",
    "\n",
    "# 拼接cookies\n",
    "end_cookies = ';'.join(cookie)\n",
    "print(end_cookies)\n",
    "\n",
    "\n",
    "import requests\n",
    "from fake_useragent import UserAgent\n",
    "\n",
    "ua = UserAgent()\n",
    "url = 'https://user.qzone.qq.com/1742801515/infocenter?_t_=0.5045327262136814'\n",
    "header = {\n",
    "    'UserAgent':ua.edge,\n",
    "    'cookie':end_cookies\n",
    "}\n",
    "\n",
    "res = requests.get(url,headers=header)\n",
    "html = res.content.decode('utf-8')\n",
    "with open(r'F:\\Programming\\02.Python-learn-programming\\6_Python3_Web_Crawler_Development_Practice\\test_project\\res\\qzone.html','w',encoding='utf-8') as f:\n",
    "    f.write(html)\n",
    "\n",
    "# print('done')\n",
    "# time.sleep(1)\n",
    "# # 退出浏览器\n",
    "# driver.close()\n",
    "# time.sleep(2)\n",
    "# # 退出驱动\n",
    "# driver.quit()"
   ]
  },
  {
   "cell_type": "markdown",
   "metadata": {},
   "source": [
    "## 行为链"
   ]
  },
  {
   "cell_type": "markdown",
   "metadata": {},
   "source": [
    "> from selenium.webdriver import ActionChains\n",
    "> \n",
    "> click：点击\n",
    "> \n",
    "> click_and_hold(element)：点击但不松开鼠标，按着不丢。\n",
    "> \n",
    "> context_click(element)：右键点击。\n",
    "> \n",
    "> double_click(element)：双击。\n",
    "> \n",
    "> drag_and_drop(source, target)：拖拽\n",
    "> \n",
    "> drag_and_drop_by_offset(source, xoffset, yoffset)：拖拽，有一定的位移量"
   ]
  },
  {
   "cell_type": "markdown",
   "metadata": {},
   "source": [
    "> 通过click实现点击"
   ]
  },
  {
   "cell_type": "code",
   "execution_count": null,
   "metadata": {},
   "outputs": [],
   "source": [
    "from selenium import webdriver\n",
    "import time\n",
    "from selenium.webdriver.common.by import By\n",
    "\n",
    "option = webdriver.ChromeOptions()\n",
    "# 浏览器常开\n",
    "option.add_experimental_option(\"detach\", True)\n",
    "# 配置浏览器设置\n",
    "# 关闭自动化测试窗口\n",
    "option.add_experimental_option(\"excludeSwitches\", ['enable-automation'])\n",
    "option.add_experimental_option('useAutomationExtension', False)\n",
    "option.add_argument('disable-infobars')\n",
    "# 屏蔽保存密码提示框\n",
    "prefs = {'credentials_enable_service':False,'profile.password_manager_enabled':False}\n",
    "option.add_experimental_option('prefs',prefs)\n",
    "# 反爬虫特性处理\n",
    "option.add_argument('--disable_blink_features=AutomationControlled')\n",
    "# 传入配置信息\n",
    "driver = webdriver.Chrome(options=option)\n",
    "driver.get('https://www.baidu.com/')\n",
    "time.sleep(2)\n",
    "\n",
    "# 在百度的搜索框中输入python\n",
    "ipt_tag = driver.find_element(By.CSS_SELECTOR,value='#kw')\n",
    "ipt_tag.send_keys('爬虫')\n",
    "time.sleep(1)\n",
    "# 点击搜索\n",
    "# selenium的css选择器的命令更新了\n",
    "btn_tag = driver.find_element(By.CSS_SELECTOR,value='#su')\n",
    "btn_tag.click()\n",
    "time.sleep(5)\n",
    "# 清空搜索框\n",
    "ipt_tag.clear()\n",
    "# 截屏\n",
    "driver.save_screenshot(r'F:\\Programming\\02.Python-learn-programming\\6_Python3_Web_Crawler_Development_Practice\\test_project\\res\\img\\baidu.png')\n",
    "print('done')\n",
    "time.sleep(1)\n",
    "# 退出浏览器\n",
    "driver.close()\n",
    "time.sleep(2)\n",
    "# 退出驱动\n",
    "driver.quit()"
   ]
  },
  {
   "cell_type": "markdown",
   "metadata": {},
   "source": [
    "> 通过动作链实现操作"
   ]
  },
  {
   "cell_type": "code",
   "execution_count": 31,
   "metadata": {},
   "outputs": [
    {
     "name": "stderr",
     "output_type": "stream",
     "text": [
      "The chromedriver version (117.0.5938.92) detected in PATH at d:\\Anaconda\\chromedriver.exe might not be compatible with the detected chrome version (117.0.5938.150); currently, chromedriver 117.0.5938.149 is recommended for chrome 117.*, so it is advised to delete the driver in PATH and retry\n"
     ]
    },
    {
     "name": "stdout",
     "output_type": "stream",
     "text": [
      "done\n"
     ]
    }
   ],
   "source": [
    "from selenium import webdriver\n",
    "import time\n",
    "from selenium.webdriver.common.by import By\n",
    "from selenium.webdriver import ActionChains\n",
    "\n",
    "option = webdriver.ChromeOptions()\n",
    "# 浏览器常开\n",
    "option.add_experimental_option(\"detach\", True)\n",
    "# 配置浏览器设置\n",
    "# 关闭自动化测试窗口\n",
    "option.add_experimental_option(\"excludeSwitches\", ['enable-automation'])\n",
    "option.add_experimental_option('useAutomationExtension', False)\n",
    "option.add_argument('disable-infobars')\n",
    "# 屏蔽保存密码提示框\n",
    "prefs = {'credentials_enable_service':False,'profile.password_manager_enabled':False}\n",
    "option.add_experimental_option('prefs',prefs)\n",
    "# 反爬虫特性处理\n",
    "option.add_argument('--disable_blink_features=AutomationControlled')\n",
    "# 传入配置信息\n",
    "driver = webdriver.Chrome(options=option)\n",
    "driver.get('https://www.baidu.com/')\n",
    "time.sleep(2)\n",
    "\n",
    "# 查找搜索框和搜索的位置\n",
    "ipt_tag = driver.find_element(By.CSS_SELECTOR,value='#kw')\n",
    "btn_tag = driver.find_element(By.CSS_SELECTOR,value='#su')\n",
    "\n",
    "# 在搜索框写入搜索词-爬虫\n",
    "ipt_tag.send_keys('爬虫')\n",
    "time.sleep(1)\n",
    "\n",
    "# 设置动作链\n",
    "action = ActionChains(driver)\n",
    "# 把鼠标移动到搜索按钮位置\n",
    "action.move_to_element(ipt_tag)\n",
    "# 点击搜索按钮\n",
    "action.click()\n",
    "# 提交行为链,不提交无法实现操作\n",
    "action.perform()\n",
    "time.sleep(1)\n",
    "\n",
    "# 清空搜索框\n",
    "ipt_tag.clear()\n",
    "# 截屏\n",
    "driver.save_screenshot(r'F:\\Programming\\02.Python-learn-programming\\6_Python3_Web_Crawler_Development_Practice\\test_project\\res\\img\\baidu.png')\n",
    "print('done')\n",
    "time.sleep(1)\n",
    "\n",
    "# 退出浏览器\n",
    "driver.close()\n",
    "time.sleep(2)\n",
    "# 退出驱动\n",
    "driver.quit()"
   ]
  },
  {
   "cell_type": "markdown",
   "metadata": {},
   "source": [
    "# selenium页面等待"
   ]
  },
  {
   "cell_type": "markdown",
   "metadata": {},
   "source": [
    "selenium并不是为爬虫而生，但是它的所见即所爬可以方便的用来进行爬取数据，加载速度很慢，需要打开页面，加载相应的元素。如果打开网页，内部的元素慢慢进行加载，如果打开网页立即去查找元素，就会报出异常；很多网页是用Ajax加载出来的，如12306，只有选择日期，往返地，点击查询后才能加载出来数据，这就是需要页面等待的两个原因。\n",
    "\n",
    "之前进行页面等待是用的python内置的，导入time模块，用time.sleep()进行强制等待，不好的地方，等待时间长了浪费，时间不够页面加载不完全就会报错，不利于系统的优化。\n",
    "\n",
    "现在的网页越来越多采用了 Ajax 技术，这样程序便不能确定何时某个元素完全加载出来了。如果实际页面等待时间过长导致某个dom元素还没出来，但是你的代码直接使用了这个WebElement，那么就会抛出NullPointer的异常。"
   ]
  },
  {
   "cell_type": "markdown",
   "metadata": {},
   "source": [
    "## 隐式等待"
   ]
  },
  {
   "cell_type": "code",
   "execution_count": 34,
   "metadata": {},
   "outputs": [
    {
     "name": "stderr",
     "output_type": "stream",
     "text": [
      "The chromedriver version (117.0.5938.92) detected in PATH at d:\\Anaconda\\chromedriver.exe might not be compatible with the detected chrome version (117.0.5938.150); currently, chromedriver 117.0.5938.149 is recommended for chrome 117.*, so it is advised to delete the driver in PATH and retry\n"
     ]
    },
    {
     "name": "stdout",
     "output_type": "stream",
     "text": [
      "done\n"
     ]
    }
   ],
   "source": [
    "from selenium import webdriver\n",
    "import time\n",
    "from selenium.webdriver.common.by import By\n",
    "\n",
    "option = webdriver.ChromeOptions()\n",
    "# 浏览器常开\n",
    "option.add_experimental_option(\"detach\", True)\n",
    "# 配置浏览器设置\n",
    "# 关闭自动化测试窗口\n",
    "option.add_experimental_option(\"excludeSwitches\", ['enable-automation'])\n",
    "option.add_experimental_option('useAutomationExtension', False)\n",
    "option.add_argument('disable-infobars')\n",
    "# 屏蔽保存密码提示框\n",
    "prefs = {'credentials_enable_service':False,'profile.password_manager_enabled':False}\n",
    "option.add_experimental_option('prefs',prefs)\n",
    "# 反爬虫特性处理\n",
    "option.add_argument('--disable_blink_features=AutomationControlled')\n",
    "# 传入配置信息\n",
    "driver = webdriver.Chrome(options=option)\n",
    "driver.get('https://www.baidu.com/')\n",
    "time.sleep(1)\n",
    "\n",
    "# 在百度的搜索框中输入python\n",
    "ipt_tag = driver.find_element(By.CSS_SELECTOR,value='#kw')\n",
    "ipt_tag.send_keys('爬虫')\n",
    "driver.implicitly_wait(10)\n",
    "# 隐式等待\n",
    "# driver.implicitly_wait()，隐性等待设置了一个时间，在一段时间内网页是否加载完成，\n",
    "# 如果完成了，就进行下一步；在设置的时间内没有加载完成，则会报超时加载。\n",
    "# 设定最长等待时间10秒，运行的时候并不会等待10秒，定位到输入框后就会输入数据\n",
    "\n",
    "btn_tag = driver.find_element(By.CSS_SELECTOR,value='#su')\n",
    "btn_tag.click()\n",
    "time.sleep(1)\n",
    "# 清空搜索框\n",
    "ipt_tag.clear()\n",
    "# 截屏\n",
    "driver.save_screenshot(r'F:\\Programming\\02.Python-learn-programming\\6_Python3_Web_Crawler_Development_Practice\\test_project\\res\\img\\baidu_1.png')\n",
    "print('done')\n",
    "time.sleep(1)\n",
    "# 退出浏览器\n",
    "driver.close()\n",
    "time.sleep(2)\n",
    "# 退出驱动\n",
    "driver.quit()"
   ]
  },
  {
   "cell_type": "markdown",
   "metadata": {},
   "source": [
    "## 显示等待"
   ]
  },
  {
   "cell_type": "code",
   "execution_count": 52,
   "metadata": {},
   "outputs": [
    {
     "name": "stderr",
     "output_type": "stream",
     "text": [
      "The chromedriver version (117.0.5938.92) detected in PATH at d:\\Anaconda\\chromedriver.exe might not be compatible with the detected chrome version (117.0.5938.150); currently, chromedriver 117.0.5938.149 is recommended for chrome 117.*, so it is advised to delete the driver in PATH and retry\n"
     ]
    }
   ],
   "source": [
    "from selenium import webdriver\n",
    "from selenium.webdriver.common.by import By\n",
    "from selenium.webdriver.support.ui import WebDriverWait\n",
    "from selenium.webdriver.support import expected_conditions as EC\n",
    "import time\n",
    "\n",
    "\n",
    "option = webdriver.ChromeOptions()\n",
    "# 浏览器常开\n",
    "option.add_experimental_option(\"detach\", True)\n",
    "# 配置浏览器设置\n",
    "# 关闭自动化测试窗口\n",
    "option.add_experimental_option(\"excludeSwitches\", ['enable-automation'])\n",
    "option.add_experimental_option('useAutomationExtension', False)\n",
    "option.add_argument('disable-infobars')\n",
    "# 屏蔽保存密码提示框\n",
    "prefs = {'credentials_enable_service':False,'profile.password_manager_enabled':False}\n",
    "option.add_experimental_option('prefs',prefs)\n",
    "# 反爬虫特性处理\n",
    "option.add_argument('--disable_blink_features=AutomationControlled')\n",
    "# 传入配置信息\n",
    "driver = webdriver.Chrome(options=option)\n",
    "\n",
    "\n",
    "driver.get('https://kyfw.12306.cn/otn/leftTicket/init?linktypeid=dc')\n",
    "driver.implicitly_wait(5)\n",
    "\n",
    "# 显示等待，直到网页中出现需要查找出发地的位置，并将第二个参数传入\n",
    "f_station = WebDriverWait(driver, 10).until(\n",
    "    EC.presence_of_element_located((By.ID, 'fromStationText')))\n",
    "# text_to_be_present_in_element_value()在这用不了，一直出bug\n",
    "# 而且12306的目的地只能从下拉里面选的才有效，直接写入的不能用\n",
    "f_station.clear()\n",
    "f_station.send_keys('西安')\n",
    "# 等待目的地的输入，toStationText目的地的id值\n",
    "# 等待用户输入目的地北京，等待时间为1000秒，超过时间就会报错\n",
    "t_station = WebDriverWait(driver, 10).until(\n",
    "    EC.presence_of_element_located((By.ID, 'toStationText')))\n",
    "t_station.clear()\n",
    "t_station.send_keys('西宁')\n",
    "\n",
    "# 定位查询按钮的位置\n",
    "btn_tag = driver.find_element(By.CSS_SELECTOR,value='#query_ticket')\n",
    "btn_tag.click()\n",
    "\n",
    "\n",
    "# print('done')\n",
    "# time.sleep(1)\n",
    "# # 退出浏览器\n",
    "# driver.close()\n",
    "# time.sleep(2)\n",
    "# # 退出驱动\n",
    "# driver.quit()"
   ]
  },
  {
   "cell_type": "markdown",
   "metadata": {},
   "source": [
    "## 打开多窗口和切换页面"
   ]
  },
  {
   "cell_type": "markdown",
   "metadata": {},
   "source": [
    "> 有时候窗口中有很多子tab页面。这时候肯定是需要进行切换的。\n",
    "> \n",
    "> selenium提供了一个叫做switch_to_window来进行切换，具体切换到哪个页面，可以从driver.window_handles中找到。"
   ]
  },
  {
   "cell_type": "code",
   "execution_count": 1,
   "metadata": {},
   "outputs": [],
   "source": [
    "from selenium import webdriver\n",
    "from selenium.webdriver.common.by import By\n",
    "from selenium.webdriver.support.ui import WebDriverWait\n",
    "from selenium.webdriver.support import expected_conditions as EC\n",
    "import time\n",
    "\n",
    "\n",
    "option = webdriver.ChromeOptions()\n",
    "# 浏览器常开\n",
    "option.add_experimental_option(\"detach\", True)\n",
    "# 配置浏览器设置\n",
    "# 关闭自动化测试窗口\n",
    "option.add_experimental_option(\"excludeSwitches\", ['enable-automation'])\n",
    "option.add_experimental_option('useAutomationExtension', False)\n",
    "option.add_argument('disable-infobars')\n",
    "# 屏蔽保存密码提示框\n",
    "prefs = {'credentials_enable_service':False,'profile.password_manager_enabled':False}\n",
    "option.add_experimental_option('prefs',prefs)\n",
    "# 反爬虫特性处理\n",
    "option.add_argument('--disable_blink_features=AutomationControlled')\n",
    "# 传入配置信息\n",
    "driver = webdriver.Chrome(options=option)\n",
    "\n",
    "\n",
    "driver.get('https://www.baidu.com/')\n",
    "driver.implicitly_wait(5)\n",
    "# 会先打开百度，然后在同一window另外打开豆瓣\n",
    "# 用js打开多个窗口，execute_script执行js代码\n",
    "# 注意单双引号的使用，外层是单引号，内层就要为双引号\n",
    "driver.execute_script('window.open(\"https://www.douban.com/\")')\n",
    "\n",
    "print('切换前：',driver.current_url)\n",
    "\n",
    "# 切换窗口打开的网页\n",
    "driver.switch_to.window(driver.window_handles[-1])\n",
    "print('切换后：',driver.current_url)\n",
    "driver.switch_to.window(driver.window_handles[0])\n",
    "\n",
    "print('done')\n",
    "time.sleep(1)\n",
    "# 退出浏览器\n",
    "driver.close()\n",
    "time.sleep(2)\n",
    "# 退出驱动\n",
    "driver.quit()"
   ]
  },
  {
   "cell_type": "markdown",
   "metadata": {},
   "source": [
    "## 把获取的关于车站和车站代号的json文件转换为csv"
   ]
  },
  {
   "cell_type": "code",
   "execution_count": 31,
   "metadata": {},
   "outputs": [
    {
     "name": "stdout",
     "output_type": "stream",
     "text": [
      "<class 'str'>\n",
      "{'北京北': 'VAP', '北京东': 'BOP', '北京': 'BJP', '北京南': 'VNP', '北京西': 'BXP', '广州南': 'IZQ', '重庆北': 'CUW', '重庆': 'CQW', '重庆南': 'CRW', '广州东': 'GGQ', '上海': 'SHH', '上海南': 'SNH', '上海虹桥': 'AOH', '上海西': 'SXH', '天津北': 'TBP', '天津': 'TJP', '天津南': 'TIP', '天津西': 'TXP', '长春': 'CCT', '长春南': 'CET', '长春西': 'CRT', '成都东': 'ICW', '成都南': 'CNW', '成都': 'CDW', '长沙': 'CSQ', '长沙南': 'CWQ', '福州': 'FZS', '福州南': 'FYS', '贵阳': 'GIW', '广州': 'GZQ', '广州西': 'GXQ', '哈尔滨': 'HBB', '哈尔滨东': 'VBB', '哈尔滨西': 'VAB', '合肥': 'HFH', '呼和浩特东': 'NDC', '呼和浩特': 'HHC', '海口东': 'HMQ', '海口': 'VUQ', '杭州东': 'HGH', '杭州': 'HZH', '杭州南': 'XHH', '济南': 'JNK', '济南东': 'JAK', '济南西': 'JGK', '昆明': 'KMM', '昆明西': 'KXM', '拉萨': 'LSO', '兰州东': 'LVJ', '兰州': 'LZJ', '兰州西': 'LAJ', '南昌': 'NCG', '南京': 'NJH', '南京南': 'NKH', '南宁': 'NNZ', '石家庄北': 'VVP', '石家庄': 'SJP', '沈阳': 'SYT', '沈阳北': 'SBT', '沈阳东': 'SDT', '太原北': 'TBV', '太原东': 'TDV', '太原': 'TYV', '武汉': 'WHN', '王家营西': 'KNM', '乌鲁木齐南': 'WMR', '西安北': 'EAY', '西安': 'XAY', '西安南': 'CAY', '西宁西': 'XXO', '银川': 'YIJ', '郑州': 'ZZF', '阿尔山': 'ART', '安康': 'AKY', '阿克苏': 'ASR', '阿里河': 'AHX', '阿拉山口': 'AKR', '安平': 'APT', '安庆': 'AQH', '安顺': 'ASW', '鞍山': 'AST', '安阳': 'AYF', '北安': 'BAB', '蚌埠': 'BBH', '白城': 'BCT', '北海': 'BHZ', '白河': 'BEL', '白涧': 'BAP', '宝鸡': 'BJY', '滨江': 'BJB', '博克图': 'BKX', '百色': 'BIZ', '白山市': 'HJL', '北台': 'BTT', '包头东': 'BDC', '包头': 'BTC', '北屯市': 'BXR', '本溪': 'BXT', '白云鄂博': 'BEC', '白银西': 'BXJ', '亳州': 'BZH', '赤壁': 'CBN', '常德': 'VGQ', '承德': 'CDP', '长甸': 'CDT', '赤峰': 'CFD', '茶陵': 'CDG', '苍南': 'CEH', '昌平': 'CPP', '崇仁': 'CRG', '昌图': 'CTT', '长汀镇': 'CDB', '曹县': 'CXK', '楚雄': 'COM', '陈相屯': 'CXT', '长治北': 'CBF', '长征': 'CZJ', '池州': 'IYH', '常州': 'CZH', '郴州': 'CZQ', '长治': 'CZF', '沧州': 'COP', '崇左': 'CZZ', '大安北': 'RNT', '大成': 'DCT', '丹东': 'DUT', '东方红': 'DFB', '东莞东': 'DMQ', '大虎山': 'DHD', '敦煌': 'DHJ', '敦化': 'DHL', '德惠': 'DHT', '东京城': 'DJB', '大涧': 'DFP', '都江堰': 'DDW', '大连北': 'DFT', '大理': 'DKM', '大连': 'DLT', '定南': 'DNG', '大庆': 'DZX', '东胜': 'DOC', '大石桥': 'DQT', '大同': 'DTV', '东营': 'DPK', '大杨树': 'DUX', '都匀': 'RYW', '邓州': 'DOF', '达州': 'RXW', '德州': 'DZP', '额济纳': 'EJC', '二连': 'RLC', '恩施': 'ESN', '福鼎': 'FES', '风陵渡': 'FLV', '涪陵': 'FLW', '富拉尔基': 'FRX', '抚顺北': 'FET', '佛山': 'FSQ', '阜新': 'FXD', '阜阳': 'FYH', '格尔木': 'GRO', '广汉': 'GHW', '古交': 'GJV', '桂林北': 'GBZ', '古莲': 'GRX', '桂林': 'GLZ', '固始': 'GXN', '广水': 'GSN', '干塘': 'GNJ', '广元': 'GYW', '广州北': 'GBQ', '赣州': 'GZG', '公主岭': 'GLT', '公主岭南': 'GBT', '淮安': 'AUH', '鹤北': 'HMB', '淮北': 'HRH', '淮滨': 'HVN', '河边': 'HBV', '潢川': 'KCN', '韩城': 'HCY', '邯郸': 'HDP', '横道河子': 'HDB', '鹤岗': 'HGB', '皇姑屯': 'HTT', '红果': 'HEM', '黑河': 'HJB', '怀化': 'HHQ', '汉口': 'HKN', '葫芦岛': 'HLD', '海拉尔': 'HRX', '霍林郭勒': 'HWD', '海伦': 'HLB', '侯马': 'HMV', '哈密': 'HMR', '淮南': 'HAH', '桦南': 'HNB', '海宁西': 'EUH', '鹤庆': 'HQM', '怀柔北': 'HBP', '怀柔': 'HRP', '黄石东': 'OSN', '华山': 'HSY', '黄石': 'HSN', '黄山': 'HKH', '衡水': 'HSP', '衡阳': 'HYQ', '菏泽': 'HIK', '贺州': 'HXZ', '汉中': 'HOY', '惠州': 'HCQ', '吉安': 'VAG', '集安': 'JAL', '江边村': 'JBG', '晋城': 'JCF', '金城江': 'JJZ', '景德镇': 'JCG', '嘉峰': 'JFF', '加格达奇': 'JGX', '井冈山': 'JGG', '蛟河': 'JHL', '金华南': 'RNH', '金华西': 'JBH', '九江': 'JJG', '吉林': 'JLL', '荆门': 'JMN', '佳木斯': 'JMB', '济宁': 'JIK', '集宁南': 'JAC', '酒泉': 'JQJ', '江山': 'JUH', '吉首': 'JIQ', '九台': 'JTL', '镜铁山': 'JVJ', '鸡西': 'JXB', '蓟县': 'JKP', '绩溪县': 'JRH', '嘉峪关': 'JGJ', '江油': 'JFW', '锦州': 'JZD', '金州': 'JZT', '库尔勒': 'KLR', '开封': 'KFF', '岢岚': 'KLV', '凯里': 'KLW', '喀什': 'KSR', '昆山南': 'KNH', '奎屯': 'KTR', '开原': 'KYT', '六安': 'UAH', '灵宝': 'LBF', '芦潮港': 'UCH', '隆昌': 'LCW', '陆川': 'LKZ', '利川': 'LCN', '临川': 'LCG', '潞城': 'UTP', '鹿道': 'LDL', '娄底': 'LDQ', '临汾': 'LFV', '良各庄': 'LGP', '临河': 'LHC', '漯河': 'LON', '绿化': 'LWJ', '隆化': 'UHP', '丽江': 'LHM', '临江': 'LQL', '龙井': 'LJL', '吕梁': 'LHV', '醴陵': 'LLG', '柳林南': 'LKV', '滦平': 'UPP', '六盘水': 'UMW', '灵丘': 'LVV', '旅顺': 'LST', '陇西': 'LXJ', '澧县': 'LEQ', '兰溪': 'LWH', '临西': 'UEP', '龙岩': 'LYS', '耒阳': 'LYQ', '洛阳': 'LYF', '洛阳东': 'LDF', '连云港东': 'UKH', '临沂': 'LVK', '洛阳龙门': 'LLF', '柳园': 'DHR', '凌源': 'LYD', '辽源': 'LYL', '立志': 'LZX', '柳州': 'LZZ', '辽中': 'LZD', '麻城': 'MCN', '免渡河': 'MDX', '牡丹江': 'MDB', '莫尔道嘎': 'MRX', '满归': 'MHX', '明光': 'MGH', '漠河': 'MVX', '茂名东': 'MDQ', '茂名': 'MMZ', '密山': 'MSB', '马三家': 'MJT', '麻尾': 'VAW', '绵阳': 'MYW', '梅州': 'MOQ', '满洲里': 'MLX', '宁波东': 'NVH', '宁波': 'NGH', '南岔': 'NCB', '南充': 'NCW', '南丹': 'NDZ', '南大庙': 'NMP', '南芬': 'NFT', '讷河': 'NHX', '嫩江': 'NGX', '内江': 'NJW', '南平': 'NPS', '南通': 'NUH', '南阳': 'NFF', '碾子山': 'NZX', '平顶山': 'PEN', '盘锦': 'PVD', '平凉': 'PIJ', '平凉南': 'POJ', '平泉': 'PQP', '坪石': 'PSQ', '萍乡': 'PXG', '凭祥': 'PXZ', '郫县西': 'PCW', '攀枝花': 'PRW', '蕲春': 'QRN', '青城山': 'QSW', '青岛': 'QDK', '清河城': 'QYP', '黔江': 'QNW', '曲靖': 'QJM', '前进镇': 'QEB', '齐齐哈尔': 'QHX', '七台河': 'QTB', '沁县': 'QVV', '泉州东': 'QRS', '泉州': 'QYS', '衢州': 'QEH', '融安': 'RAZ', '汝箕沟': 'RQJ', '瑞金': 'RJG', '日照': 'RZK', '双城堡': 'SCB', '绥芬河': 'SFB', '韶关东': 'SGQ', '山海关': 'SHD', '绥化': 'SHB', '三间房': 'SFX', '苏家屯': 'SXT', '舒兰': 'SLL', '三明': 'SMS', '神木': 'OMY', '三门峡': 'SMF', '商南': 'ONY', '遂宁': 'NIW', '四平': 'SPT', '商丘': 'SQF', '上饶': 'SRG', '韶山': 'SSQ', '宿松': 'OAH', '汕头': 'OTQ', '邵武': 'SWS', '涉县': 'OEP', '三亚': 'SEQ', '邵阳': 'SYQ', '十堰': 'SNN', '双鸭山': 'SSB', '松原': 'VYT', '深圳': 'SZQ', '苏州': 'SZH', '随州': 'SZN', '宿州': 'OXH', '朔州': 'SUV', '深圳西': 'OSQ', '塘豹': 'TBQ', '塔尔气': 'TVX', '潼关': 'TGY', '塘沽': 'TGP', '塔河': 'TXX', '通化': 'THL', '泰来': 'TLX', '吐鲁番': 'TFR', '通辽': 'TLD', '铁岭': 'TLT', '陶赖昭': 'TPT', '图们': 'TML', '铜仁': 'RDQ', '唐山北': 'FUP', '田师府': 'TFT', '泰山': 'TAK', '唐山': 'TSP', '天水': 'TSJ', '通远堡': 'TYT', '太阳升': 'TQT', '泰州': 'UTH', '桐梓': 'TZW', '通州西': 'TAP', '五常': 'WCB', '武昌': 'WCN', '瓦房店': 'WDT', '威海': 'WKK', '芜湖': 'WHH', '乌海西': 'WXC', '吴家屯': 'WJT', '武隆': 'WLW', '乌兰浩特': 'WWT', '渭南': 'WNY', '威舍': 'WSM', '歪头山': 'WIT', '武威': 'WUJ', '武威南': 'WWJ', '无锡': 'WXH', '乌西': 'WXR', '乌伊岭': 'WPB', '武夷山': 'WAS', '万源': 'WYY', '万州': 'WYW', '梧州': 'WZZ', '温州': 'RZH', '温州南': 'VRH', '西昌': 'ECW', '许昌': 'XCF', '西昌南': 'ENW', '香坊': 'XFB', '轩岗': 'XGV', '兴国': 'EUG', '宣汉': 'XHY', '新会': 'EFQ', '新晃': 'XLQ', '锡林浩特': 'XTC', '兴隆县': 'EXP', '厦门北': 'XKS', '厦门': 'XMS', '厦门高崎': 'XBS', '秀山': 'ETW', '小市': 'XST', '向塘': 'XTG', '宣威': 'XWM', '新乡': 'XXF', '信阳': 'XUN', '咸阳': 'XYY', '襄阳': 'XFN', '熊岳城': 'XYT', '兴义': 'XRZ', '新沂': 'VIH', '新余': 'XUG', '徐州': 'XCH', '延安': 'YWY', '宜宾': 'YBW', '亚布力南': 'YWB', '叶柏寿': 'YBD', '宜昌东': 'HAN', '永川': 'YCW', '宜昌': 'YCN', '盐城': 'AFH', '运城': 'YNV', '伊春': 'YCB', '榆次': 'YCV', '杨村': 'YBP', '宜春西': 'YCG', '伊尔施': 'YET', '燕岗': 'YGW', '永济': 'YIV', '延吉': 'YJL', '营口': 'YKT', '牙克石': 'YKX', '阎良': 'YNY', '玉林': 'YLZ', '榆林': 'ALY', '一面坡': 'YPB', '伊宁': 'YMR', '阳平关': 'YAY', '玉屏': 'YZW', '原平': 'YPV', '延庆': 'YNP', '阳泉曲': 'YYV', '玉泉': 'YQB', '阳泉': 'AQP', '玉山': 'YNG', '营山': 'NUW', '燕山': 'AOP', '榆树': 'YRT', '鹰潭': 'YTG', '烟台': 'YAK', '伊图里河': 'YEX', '玉田县': 'ATP', '义乌': 'YWH', '阳新': 'YON', '义县': 'YXD', '益阳': 'AEQ', '岳阳': 'YYQ', '永州': 'AOQ', '扬州': 'YLH', '淄博': 'ZBK', '镇城底': 'ZDV', '自贡': 'ZGW', '珠海': 'ZHQ', '珠海北': 'ZIQ', '湛江': 'ZJZ', '镇江': 'ZJH', '张家界': 'DIQ', '张家口': 'ZKP', '张家口南': 'ZMP', '周口': 'ZKN', '哲里木': 'ZLC', '扎兰屯': 'ZTX', '驻马店': 'ZDN', '肇庆': 'ZVQ', '周水子': 'ZIT', '昭通': 'ZDW', '中卫': 'ZWJ', '资阳': 'ZYW', '遵义': 'ZIW', '枣庄': 'ZEK', '资中': 'ZZW', '株洲': 'ZZQ', '枣庄西': 'ZFK', '昂昂溪': 'AAX', '阿城': 'ACB', '安达': 'ADX', '安德': 'ARW', '安定': 'ADP', '安广': 'AGT', '艾河': 'AHP', '安化': 'PKQ', '艾家村': 'AJJ', '鳌江': 'ARH', '安家': 'AJB', '阿金': 'AJD', '阿克陶': 'AER', '安口窑': 'AYY', '敖力布告': 'ALD', '安龙': 'AUZ', '阿龙山': 'ASX', '安陆': 'ALN', '阿木尔': 'JTX', '阿南庄': 'AZM', '安庆西': 'APH', '鞍山西': 'AXT', '安塘': 'ATV', '安亭北': 'ASH', '阿图什': 'ATR', '安图': 'ATL', '安溪': 'AXS', '博鳌': 'BWQ', '北碚': 'BPW', '白壁关': 'BGV', '蚌埠南': 'BMH', '巴楚': 'BCR', '板城': 'BUP', '北戴河': 'BEP', '保定': 'BDP', '宝坻': 'BPP', '八达岭': 'ILP', '巴东': 'BNN', '柏果': 'BGM', '布海': 'BUT', '白河东': 'BIY', '贲红': 'BVC', '宝华山': 'BWH', '白河县': 'BEY', '白芨沟': 'BJJ', '碧鸡关': 'BJM', '北滘': 'IBQ', '碧江': 'BLQ', '白鸡坡': 'BBM', '笔架山': 'BSB', '八角台': 'BTD', '保康': 'BKD', '白奎堡': 'BKB', '白狼': 'BAT', '百浪': 'BRZ', '博乐': 'BOR', '宝拉格': 'BQC', '巴林': 'BLX', '宝林': 'BNB', '北流': 'BOZ', '勃利': 'BLB', '布列开': 'BLR', '宝龙山': 'BND', '八面城': 'BMD', '班猫箐': 'BNM', '八面通': 'BMB', '北马圈子': 'BRP', '北票南': 'RPD', '白旗': 'BQP', '宝泉岭': 'BQB', '白泉': 'BQL', '白沙': 'BSW', '巴山': 'BAY', '白水江': 'BSY', '白沙坡': 'BPM', '白石山': 'BAL', '白水镇': 'BUM', '坂田': 'BTQ', '泊头': 'BZP', '北屯': 'BYP', '本溪湖': 'BHT', '博兴': 'BXK', '八仙筒': 'VXD', '白音察干': 'BYC', '背荫河': 'BYB', '北营': 'BIV', '巴彦高勒': 'BAC', '白音他拉': 'BID', '鲅鱼圈': 'BYT', '白银市': 'BNJ', '白音胡硕': 'BCD', '巴中': 'IEW', '霸州': 'RMP', '北宅': 'BVP', '赤壁北': 'CIN', '查布嘎': 'CBC', '长城': 'CEJ', '长冲': 'CCM', '承德东': 'CCP', '赤峰西': 'CID', '嵯岗': 'CAX', '柴岗': 'CGT', '长葛': 'CEF', '柴沟堡': 'CGV', '城固': 'CGY', '陈官营': 'CAJ', '成高子': 'CZB', '草海': 'WBW', '柴河': 'CHB', '册亨': 'CHZ', '草河口': 'CKT', '崔黄口': 'CHP', '巢湖': 'CIH', '蔡家沟': 'CJT', '成吉思汗': 'CJX', '岔江': 'CAM', '蔡家坡': 'CJY', '昌乐': 'CLK', '超梁沟': 'CYP', '慈利': 'CUQ', '昌黎': 'CLP', '长岭子': 'CLT', '晨明': 'CMB', '长农': 'CNJ', '昌平北': 'VBP', '常平': 'DAQ', '长坡岭': 'CPM', '辰清': 'CQB', '楚山': 'CSB', '长寿': 'EFW', '磁山': 'CSP', '苍石': 'CST', '草市': 'CSL', '察素齐': 'CSC', '长山屯': 'CVT', '长汀': 'CES', '昌图西': 'CPT', '春湾': 'CQQ', '磁县': 'CIP', '岑溪': 'CNZ', '辰溪': 'CXQ', '磁西': 'CRP', '长兴南': 'CFH', '磁窑': 'CYK', '朝阳': 'CYD', '春阳': 'CAL', '城阳': 'CEK', '创业村': 'CEX', '朝阳川': 'CYL', '朝阳地': 'CDD', '长垣': 'CYF', '朝阳镇': 'CZL', '滁州北': 'CUH', '常州北': 'ESH', '滁州': 'CXH', '潮州': 'CKQ', '常庄': 'CVK', '曹子里': 'CFP', '车转湾': 'CWM', '郴州西': 'ICQ', '沧州西': 'CBP', '德安': 'DAG', '大安': 'RAT', '大坝': 'DBJ', '大板': 'DBC', '大巴': 'DBD', '到保': 'RBT', '定边': 'DYJ', '东边井': 'DBB', '德伯斯': 'RDT', '打柴沟': 'DGJ', '德昌': 'DVW', '滴道': 'DDB', '大磴沟': 'DKJ', '刀尔登': 'DRD', '得耳布尔': 'DRX', '东方': 'UFQ', '丹凤': 'DGY', '东丰': 'DIL', '都格': 'DMM', '大官屯': 'DTT', '大关': 'RGW', '东光': 'DGP', '东海': 'DHB', '大灰厂': 'DHP', '大红旗': 'DQD', '东海县': 'DQH', '德惠西': 'DXT', '达家沟': 'DJT', '东津': 'DKB', '杜家': 'DJL', '大口屯': 'DKP', '东来': 'RVD', '德令哈': 'DHO', '大陆号': 'DLC', '带岭': 'DLB', '大林': 'DLD', '达拉特旗': 'DIC', '独立屯': 'DTX', '豆罗': 'DLV', '达拉特西': 'DNC', '东明村': 'DMD', '洞庙河': 'DEP', '东明县': 'DNF', '大拟': 'DNZ', '大平房': 'DPD', '大盘石': 'RPP', '大埔': 'DPI', '大堡': 'DVT', '大其拉哈': 'DQX', '道清': 'DML', '对青山': 'DQB', '德清西': 'MOH', '大庆西': 'RHX', '东升': 'DRQ', '独山': 'RWW', '砀山': 'DKH', '登沙河': 'DWT', '读书铺': 'DPM', '大石头': 'DSL', '东胜西': 'DYC', '大石寨': 'RZT', '东台': 'DBH', '定陶': 'DQK', '灯塔': 'DGT', '大田边': 'DBM', '东通化': 'DTL', '丹徒': 'RUH', '大屯': 'DNT', '东湾': 'DRJ', '大武口': 'DFJ', '低窝铺': 'DWJ', '大王滩': 'DZZ', '大湾子': 'DFM', '大兴沟': 'DXL', '大兴': 'DXX', '定西': 'DSJ', '甸心': 'DXM', '东乡': 'DXG', '代县': 'DKV', '定襄': 'DXV', '东戌': 'RXP', '东辛庄': 'DXD', '丹阳': 'DYH', '大雁': 'DYX', '德阳': 'DYW', '当阳': 'DYN', '丹阳北': 'EXH', '大英东': 'IAW', '东淤地': 'DBV', '大营': 'DYV', '定远': 'EWH', '岱岳': 'RYV', '大元': 'DYZ', '大营镇': 'DJP', '大营子': 'DZD', '大战场': 'DTJ', '德州东': 'DIP', '低庄': 'DVQ', '东镇': 'DNV', '道州': 'DFZ', '东至': 'DCH', '东庄': 'DZV', '兑镇': 'DWV', '豆庄': 'ROP', '定州': 'DXP', '大竹园': 'DZY', '大杖子': 'DAP', '豆张庄': 'RZP', '峨边': 'EBW', '二道沟门': 'RDP', '二道湾': 'RDX', '二龙': 'RLD', '二龙山屯': 'ELA', '峨眉': 'EMW', '二密河': 'RML', '二营': 'RYJ', '鄂州': 'ECN', '福安': 'FAS', '丰城': 'FCG', '丰城南': 'FNG', '肥东': 'FIH', '发耳': 'FEM', '富海': 'FHX', '福海': 'FHR', '凤凰城': 'FHT', '奉化': 'FHH', '富锦': 'FIB', '范家屯': 'FTT', '福利屯': 'FTB', '丰乐镇': 'FZB', '阜南': 'FNH', '阜宁': 'AKH', '抚宁': 'FNP', '福清': 'FQS', '福泉': 'VMW', '丰水村': 'FSJ', '丰顺': 'FUQ', '繁峙': 'FSV', '抚顺': 'FST', '福山口': 'FKP', '扶绥': 'FSZ', '冯屯': 'FTX', '浮图峪': 'FYP', '富县东': 'FDY', '凤县': 'FXY', '富县': 'FEY', '费县': 'FXK', '凤阳': 'FUH', '汾阳': 'FAV', '扶余北': 'FBT', '分宜': 'FYG', '富源': 'FYM', '扶余': 'FYT', '富裕': 'FYX', '抚州北': 'FBG', '凤州': 'FZY', '丰镇': 'FZC', '范镇': 'VZK', '固安': 'GFP', '广安': 'VJW', '高碑店': 'GBP', '沟帮子': 'GBD', '甘草店': 'GDJ', '谷城': 'GCN', '藁城': 'GEP', '高村': 'GCV', '古城镇': 'GZB', '广德': 'GRH', '贵定': 'GTW', '贵定南': 'IDW', '古东': 'GDV', '贵港': 'GGZ', '官高': 'GVP', '葛根庙': 'GGT', '干沟': 'GGL', '甘谷': 'GGJ', '高各庄': 'GGP', '甘河': 'GAX', '根河': 'GEX', '郭家店': 'GDT', '孤家子': 'GKT', '古浪': 'GLJ', '皋兰': 'GEJ', '高楼房': 'GFM', '归流河': 'GHT', '关林': 'GLF', '甘洛': 'VOW', '郭磊庄': 'GLP', '高密': 'GMK', '公庙子': 'GMC', '工农湖': 'GRT', '广宁寺': 'GNT', '广南卫': 'GNM', '高平': 'GPF', '甘泉北': 'GEY', '共青城': 'GAG', '甘旗卡': 'GQD', '甘泉': 'GQY', '高桥镇': 'GZD', '赶水': 'GSW', '灌水': 'GST', '孤山口': 'GSP', '果松': 'GSL', '高山子': 'GSD', '嘎什甸子': 'GXD', '高台': 'GTJ', '高滩': 'GAY', '古田': 'GTS', '官厅': 'GTP', '官厅西': 'KEP', '贵溪': 'GXG', '涡阳': 'GYH', '巩义': 'GXF', '高邑': 'GIP', '巩义南': 'GYF', '固原': 'GUJ', '菇园': 'GYL', '公营子': 'GYD', '光泽': 'GZS', '古镇': 'GNQ', '瓜州': 'GZJ', '高州': 'GSQ', '固镇': 'GEH', '盖州': 'GXT', '官字井': 'GOT', '革镇堡': 'GZT', '冠豸山': 'GSS', '盖州西': 'GAT', '红安': 'HWN', '淮安南': 'AMH', '红安西': 'VXN', '海安县': 'HIH', '黄柏': 'HBL', '海北': 'HEB', '鹤壁': 'HAF', '华城': 'VCQ', '合川': 'WKW', '河唇': 'HCZ', '汉川': 'HCN', '海城': 'HCT', '黑冲滩': 'HCJ', '黄村': 'HCP', '海城西': 'HXT', '化德': 'HGC', '洪洞': 'HDV', '霍尔果斯': 'HFR', '横峰': 'HFG', '韩府湾': 'HXJ', '汉沽': 'HGP', '红光镇': 'IGW', '浑河': 'HHT', '红花沟': 'VHD', '黄花筒': 'HUD', '贺家店': 'HJJ', '和静': 'HJR', '红江': 'HFM', '黑井': 'HIM', '获嘉': 'HJF', '河津': 'HJV', '涵江': 'HJS', '华家': 'HJT', '河间西': 'HXP', '花家庄': 'HJM', '河口南': 'HKJ', '黄口': 'KOH', '湖口': 'HKG', '呼兰': 'HUB', '葫芦岛北': 'HPD', '浩良河': 'HHB', '哈拉海': 'HIT', '鹤立': 'HOB', '桦林': 'HIB', '黄陵': 'ULY', '海林': 'HRB', '虎林': 'VLB', '寒岭': 'HAT', '和龙': 'HLL', '海龙': 'HIL', '哈拉苏': 'HAX', '呼鲁斯太': 'VTJ', '火连寨': 'HLT', '黄梅': 'VEH', '蛤蟆塘': 'HMT', '韩麻营': 'HYP', '黄泥河': 'HHL', '海宁': 'HNH', '惠农': 'HMJ', '和平': 'VAQ', '花棚子': 'HZM', '花桥': 'VQH', '宏庆': 'HEY', '怀仁': 'HRV', '华容': 'HRN', '华山北': 'HDY', '黄松甸': 'HDL', '和什托洛盖': 'VSR', '红山': 'VSB', '汉寿': 'VSQ', '衡山': 'HSQ', '黑水': 'HOT', '惠山': 'VCH', '虎什哈': 'HHP', '红寺堡': 'HSJ', '虎石台': 'HUT', '海石湾': 'HSO', '衡山西': 'HEQ', '红砂岘': 'VSJ', '黑台': 'HQB', '桓台': 'VTK', '和田': 'VTR', '会同': 'VTQ', '海坨子': 'HZT', '黑旺': 'HWK', '海湾': 'RWH', '红星': 'VXB', '徽县': 'HYY', '红兴隆': 'VHB', '换新天': 'VTB', '红岘台': 'HTJ', '红彦': 'VIX', '合阳': 'HAY', '海阳': 'HYK', '衡阳东': 'HVQ', '华蓥': 'HUW', '汉阴': 'HQY', '黄羊滩': 'HGJ', '汉源': 'WHW', '湟源': 'HNO', '河源': 'VIQ', '花园': 'HUN', '黄羊镇': 'HYJ', '湖州': 'VZH', '化州': 'HZZ', '黄州': 'VON', '霍州': 'HZV', '惠州西': 'VXQ', '巨宝': 'JRT', '靖边': 'JIY', '金宝屯': 'JBD', '晋城北': 'JEF', '金昌': 'JCJ', '鄄城': 'JCK', '交城': 'JNV', '建昌': 'JFD', '峻德': 'JDB', '井店': 'JFP', '鸡东': 'JOB', '江都': 'UDH', '鸡冠山': 'JST', '金沟屯': 'VGP', '静海': 'JHP', '金河': 'JHX', '锦河': 'JHB', '精河': 'JHR', '精河南': 'JIR', '江华': 'JHZ', '建湖': 'AJH', '纪家沟': 'VJD', '晋江': 'JJS', '江津': 'JJW', '姜家': 'JJB', '金坑': 'JKT', '芨岭': 'JLJ', '金马村': 'JMM', '江门': 'JWQ', '角美': 'JES', '莒南': 'JOK', '井南': 'JNP', '建瓯': 'JVS', '经棚': 'JPC', '江桥': 'JQX', '九三': 'SSX', '金山北': 'EGH', '京山': 'JCN', '建始': 'JRN', '嘉善': 'JSH', '稷山': 'JVV', '吉舒': 'JSL', '建设': 'JET', '甲山': 'JOP', '建三江': 'JIB', '嘉善南': 'EAH', '金山屯': 'JTB', '江所田': 'JOM', '景泰': 'JTJ', '九台南': 'JNL', '吉文': 'JWX', '进贤': 'JUG', '莒县': 'JKK', '嘉祥': 'JUK', '介休': 'JXV', '井陉': 'JJP', '嘉兴': 'JXH', '嘉兴南': 'EPH', '夹心子': 'JXT', '简阳': 'JYW', '揭阳': 'JRQ', '建阳': 'JYS', '姜堰': 'UEH', '巨野': 'JYK', '江永': 'JYZ', '靖远': 'JYJ', '缙云': 'JYH', '江源': 'SZL', '济源': 'JYF', '靖远西': 'JXJ', '胶州北': 'JZK', '焦作东': 'WEF', '靖州': 'JEQ', '荆州': 'JBN', '金寨': 'JZH', '晋州': 'JXP', '胶州': 'JXK', '锦州南': 'JOD', '焦作': 'JOF', '旧庄窝': 'JVP', '金杖子': 'JYD', '开安': 'KAT', '库车': 'KCR', '康城': 'KCP', '库都尔': 'KDX', '宽甸': 'KDT', '克东': 'KOB', '开江': 'KAW', '康金井': 'KJB', '喀喇其': 'KQX', '开鲁': 'KLC', '克拉玛依': 'KHR', '口前': 'KQL', '奎山': 'KAB', '昆山': 'KSH', '克山': 'KSB', '开通': 'KTT', '康熙岭': 'KXZ', '昆阳': 'KAM', '克一河': 'KHX', '开原西': 'KXT', '康庄': 'KZP', '来宾': 'UBZ', '老边': 'LLT', '灵宝西': 'LPF', '龙川': 'LUQ', '乐昌': 'LCQ', '黎城': 'UCP', '聊城': 'UCK', '蓝村': 'LCK', '林东': 'LRC', '乐都': 'LDO', '梁底下': 'LDP', '六道河子': 'LVP', '鲁番': 'LVM', '廊坊': 'LJP', '落垡': 'LOP', '廊坊北': 'LFP', '老府': 'UFD', '兰岗': 'LNB', '龙骨甸': 'LGM', '芦沟': 'LOM', '龙沟': 'LGJ', '拉古': 'LGB', '临海': 'UFH', '林海': 'LXX', '拉哈': 'LHX', '凌海': 'JID', '柳河': 'LNL', '六合': 'KLH', '龙华': 'LHP', '滦河沿': 'UNP', '六合镇': 'LEX', '亮甲店': 'LRT', '刘家店': 'UDT', '刘家河': 'LVT', '连江': 'LKS', '李家': 'LJB', '罗江': 'LJW', '廉江': 'LJZ', '庐江': 'UJH', '两家': 'UJT', '龙江': 'LJX', '龙嘉': 'UJL', '莲江口': 'LHB', '蔺家楼': 'ULK', '李家坪': 'LIJ', '兰考': 'LKF', '林口': 'LKB', '路口铺': 'LKQ', '老莱': 'LAX', '拉林': 'LAB', '陆良': 'LRM', '龙里': 'LLW', '零陵': 'UWZ', '临澧': 'LWQ', '兰棱': 'LLB', '卢龙': 'UAP', '喇嘛甸': 'LMX', '里木店': 'LMB', '洛门': 'LMJ', '龙南': 'UNG', '梁平': 'UQW', '罗平': 'LPM', '落坡岭': 'LPP', '六盘山': 'UPJ', '乐平市': 'LPG', '临清': 'UQK', '龙泉寺': 'UQJ', '乐山北': 'UTW', '乐善村': 'LUM', '冷水江东': 'UDQ', '连山关': 'LGT', '流水沟': 'USP', '陵水': 'LIQ', '罗山': 'LRN', '鲁山': 'LAF', '丽水': 'USH', '梁山': 'LMK', '灵石': 'LSV', '露水河': 'LUL', '庐山': 'LSG', '林盛堡': 'LBT', '柳树屯': 'LSD', '龙山镇': 'LAS', '梨树镇': 'LSB', '李石寨': 'LET', '黎塘': 'LTZ', '轮台': 'LAR', '芦台': 'LTP', '龙塘坝': 'LBM', '濑湍': 'LVZ', '骆驼巷': 'LTJ', '李旺': 'VLJ', '莱芜东': 'LWK', '狼尾山': 'LRJ', '灵武': 'LNJ', '莱芜西': 'UXK', '朗乡': 'LXB', '陇县': 'LXY', '临湘': 'LXQ', '芦溪': 'LUG', '莱西': 'LXK', '林西': 'LXC', '滦县': 'UXP', '略阳': 'LYY', '辽阳': 'LYT', '临沂北': 'UYK', '凌源东': 'LDD', '连云港': 'UIH', '临颍': 'LNF', '老营': 'LXL', '龙游': 'LMH', '罗源': 'LVS', '林源': 'LYX', '涟源': 'LAQ', '涞源': 'LYP', '耒阳西': 'LPQ', '临泽': 'LEJ', '龙爪沟': 'LZT', '雷州': 'UAQ', '六枝': 'LIW', '鹿寨': 'LIZ', '来舟': 'LZS', '龙镇': 'LZA', '拉鲊': 'LEM', '马鞍山': 'MAH', '毛坝': 'MBY', '毛坝关': 'MGY', '麻城北': 'MBN', '渑池': 'MCF', '明城': 'MCL', '庙城': 'MAP', '渑池南': 'MNF', '茅草坪': 'KPM', '猛洞河': 'MUQ', '磨刀石': 'MOB', '弥渡': 'MDF', '帽儿山': 'MRB', '明港': 'MGN', '梅河口': 'MHL', '马皇': 'MHZ', '孟家岗': 'MGB', '美兰': 'MHQ', '汨罗东': 'MQQ', '马莲河': 'MHB', '茅岭': 'MLZ', '庙岭': 'MLL', '茂林': 'MLD', '穆棱': 'MLB', '马林': 'MID', '马龙': 'MGM', '汨罗': 'MLQ', '木里图': 'MUD', '玛纳斯湖': 'MNR', '冕宁': 'UGW', '沐滂': 'MPQ', '马桥河': 'MQB', '闽清': 'MQS', '民权': 'MQF', '明水河': 'MUT', '麻山': 'MAB', '眉山': 'MSW', '漫水湾': 'MKW', '茂舍祖': 'MOM', '米沙子': 'MST', '美溪': 'MEB', '勉县': 'MVY', '麻阳': 'MVQ', '密云北': 'MUP', '米易': 'MMW', '麦园': 'MYS', '墨玉': 'MUR', '庙庄': 'MZJ', '米脂': 'MEY', '明珠': 'MFQ', '宁安': 'NAB', '农安': 'NAT', '南博山': 'NBK', '南仇': 'NCK', '南城司': 'NSP', '宁村': 'NCZ', '宁德': 'NES', '南观村': 'NGP', '南宫东': 'NFP', '南关岭': 'NLT', '宁国': 'NNH', '宁海': 'NHH', '南河川': 'NHJ', '南华': 'NHS', '泥河子': 'NHD', '宁家': 'NVT', '南靖': 'NJS', '牛家': 'NJB', '能家': 'NJD', '南口': 'NKP', '南口前': 'NKT', '南朗': 'NNQ', '乃林': 'NLD', '尼勒克': 'NIR', '那罗': 'ULZ', '宁陵县': 'NLF', '奈曼': 'NMD', '宁明': 'NMZ', '南木': 'NMX', '南平南': 'NNS', '那铺': 'NPZ', '南桥': 'NQD', '那曲': 'NQO', '暖泉': 'NQJ', '南台': 'NTT', '南头': 'NOQ', '宁武': 'NWV', '南湾子': 'NWP', '南翔北': 'NEH', '宁乡': 'NXQ', '内乡': 'NXF', '牛心台': 'NXT', '南峪': 'NUP', '娘子关': 'NIP', '南召': 'NAF', '南杂木': 'NZT', '平安': 'PAL', '蓬安': 'PAW', '平安驿': 'PNO', '磐安镇': 'PAJ', '平安镇': 'PZT', '蒲城东': 'PEY', '蒲城': 'PCY', '裴德': 'PDB', '偏店': 'PRP', '平顶山西': 'BFF', '坡底下': 'PXJ', '瓢儿屯': 'PRT', '平房': 'PFB', '平岗': 'PGL', '平关': 'PGM', '盘关': 'PAM', '平果': 'PGZ', '徘徊北': 'PHP', '平河口': 'PHM', '盘锦北': 'PBD', '潘家店': 'PDP', '皮口': 'PKT', '普兰店': 'PLT', '偏岭': 'PNT', '平山': 'PSB', '彭山': 'PSW', '皮山': 'PSR', '彭水': 'PHW', '磐石': 'PSL', '平社': 'PSV', '平台': 'PVT', '平田': 'PTM', '莆田': 'PTS', '葡萄菁': 'PTW', '普湾': 'PWT', '平旺': 'PWV', '平型关': 'PGV', '普雄': 'POW', '郫县': 'PWW', '平洋': 'PYX', '彭阳': 'PYJ', '平遥': 'PYV', '平邑': 'PIK', '平原堡': 'PPJ', '平原': 'PYK', '平峪': 'PYP', '彭泽': 'PZG', '邳州': 'PJH', '平庄': 'PZD', '泡子': 'POD', '平庄南': 'PND', '乾安': 'QOT', '庆安': 'QAB', '迁安': 'QQP', '祁东北': 'QRQ', '七甸': 'QDM', '曲阜东': 'QAK', '庆丰': 'QFT', '奇峰塔': 'QVP', '曲阜': 'QFK', '琼海': 'QYQ', '秦皇岛': 'QTP', '千河': 'QUY', '清河': 'QIP', '清河门': 'QHD', '清华园': 'QHP', '渠旧': 'QJZ', '綦江': 'QJW', '潜江': 'QJN', '全椒': 'INH', '秦家': 'QJB', '祁家堡': 'QBT', '清涧县': 'QNY', '秦家庄': 'QZV', '七里河': 'QLD', '渠黎': 'QLZ', '秦岭': 'QLY', '青龙山': 'QGH', '祁门': 'QIH', '前磨头': 'QMP', '青山': 'QSB', '确山': 'QSN', '清水': 'QUJ', '前山': 'QXQ', '戚墅堰': 'QYH', '青田': 'QVH', '桥头': 'QAT', '青铜峡': 'QTJ', '前卫': 'QWD', '前苇塘': 'QWP', '渠县': 'QRW', '祁县': 'QXV', '青县': 'QXP', '桥西': 'QXJ', '清徐': 'QUV', '旗下营': 'QXC', '千阳': 'QOY', '沁阳': 'QYF', '泉阳': 'QYL', '祁阳北': 'QVQ', '七营': 'QYJ', '庆阳山': 'QSJ', '清远': 'QBQ', '清原': 'QYT', '钦州东': 'QDZ', '钦州': 'QRZ', '青州市': 'QZK', '瑞安': 'RAH', '荣昌': 'RCW', '瑞昌': 'RCG', '如皋': 'RBH', '容桂': 'RUQ', '任丘': 'RQP', '乳山': 'ROK', '融水': 'RSZ', '热水': 'RSD', '容县': 'RXZ', '饶阳': 'RVP', '汝阳': 'RYF', '绕阳河': 'RHD', '汝州': 'ROF', '石坝': 'OBJ', '上板城': 'SBP', '施秉': 'AQW', '上板城南': 'OBP', '世博园': 'ZWT', '双城北': 'SBB', '商城': 'SWN', '莎车': 'SCR', '顺昌': 'SCS', '舒城': 'OCH', '神池': 'SMV', '沙城': 'SCP', '石城': 'SCT', '山城镇': 'SCL', '山丹': 'SDJ', '顺德': 'ORQ', '绥德': 'ODY', '邵东': 'SOQ', '水洞': 'SIL', '商都': 'SXC', '十渡': 'SEP', '四道湾': 'OUD', '顺德学院': 'OJQ', '绅坊': 'OLH', '双丰': 'OFB', '四方台': 'STB', '水富': 'OTW', '三关口': 'OKJ', '桑根达来': 'OGC', '韶关': 'SNQ', '上高镇': 'SVK', '上杭': 'JBS', '沙海': 'SED', '松河': 'SBM', '沙河': 'SHP', '沙河口': 'SKT', '赛汗塔拉': 'SHC', '沙河市': 'VOP', '沙后所': 'SSD', '山河屯': 'SHL', '三河县': 'OXP', '四合永': 'OHD', '三汇镇': 'OZW', '双河镇': 'SEL', '石河子': 'SZR', '三合庄': 'SVP', '三家店': 'ODP', '水家湖': 'SQH', '沈家河': 'OJJ', '松江河': 'SJL', '尚家': 'SJB', '孙家': 'SUB', '沈家': 'OJB', '松江': 'SAH', '三江口': 'SKD', '司家岭': 'OLK', '松江南': 'IMH', '石景山南': 'SRP', '邵家堂': 'SJJ', '三江县': 'SOZ', '三家寨': 'SMM', '十家子': 'SJD', '松江镇': 'OZL', '施家嘴': 'SHM', '深井子': 'SWT', '什里店': 'OMP', '疏勒': 'SUR', '疏勒河': 'SHJ', '舍力虎': 'VLD', '石磷': 'SPB', '双辽': 'ZJD', '绥棱': 'SIB', '石岭': 'SOL', '石林': 'SLM', '石林南': 'LNM', '石龙': 'SLQ', '萨拉齐': 'SLC', '索伦': 'SNT', '商洛': 'OLY', '沙岭子': 'SLP', '石门县北': 'VFQ', '三门峡南': 'SCF', '三门县': 'OQH', '石门县': 'OMQ', '三门峡西': 'SXF', '肃宁': 'SYP', '宋': 'SOB', '双牌': 'SBZ', '四平东': 'PPT', '遂平': 'SON', '沙坡头': 'SFJ', '商丘南': 'SPF', '水泉': 'SID', '石泉县': 'SXY', '石桥子': 'SQT', '石人城': 'SRB', '石人': 'SRL', '山市': 'SQB', '神树': 'SWB', '鄯善': 'SSR', '三水': 'SJQ', '泗水': 'OSK', '石山': 'SAD', '松树': 'SFT', '首山': 'SAT', '三十家': 'SRD', '三十里堡': 'SST', '松树镇': 'SSL', '松桃': 'MZQ', '索图罕': 'SHX', '三堂集': 'SDH', '石头': 'OTB', '神头': 'SEV', '沙沱': 'SFM', '上万': 'SWP', '孙吴': 'SKB', '沙湾县': 'SXR', '遂溪': 'SXZ', '沙县': 'SAS', '绍兴': 'SOH', '歙县': 'OVH', '石岘': 'SXL', '上西铺': 'SXM', '石峡子': 'SXJ', '绥阳': 'SYB', '沭阳': 'FMH', '寿阳': 'SYV', '水洋': 'OYP', '三阳川': 'SYJ', '上腰墩': 'SPJ', '三营': 'OEJ', '顺义': 'SOP', '三义井': 'OYD', '三源浦': 'SYL', '三原': 'SAY', '上虞': 'BDH', '上园': 'SUD', '水源': 'OYJ', '桑园子': 'SAJ', '绥中北': 'SND', '苏州北': 'OHH', '宿州东': 'SRH', '深圳东': 'BJQ', '深州': 'OZP', '孙镇': 'OZY', '绥中': 'SZD', '尚志': 'SZB', '师庄': 'SNM', '松滋': 'SIN', '师宗': 'SEM', '苏州园区': 'KAH', '苏州新区': 'ITH', '泰安': 'TMK', '台安': 'TID', '通安驿': 'TAJ', '桐柏': 'TBF', '通北': 'TBB', '汤池': 'TCX', '桐城': 'TTH', '郯城': 'TZK', '铁厂': 'TCL', '桃村': 'TCK', '通道': 'TRQ', '田东': 'TDZ', '天岗': 'TGL', '土贵乌拉': 'TGC', '通沟': 'TOL', '太谷': 'TGV', '塔哈': 'THX', '棠海': 'THM', '唐河': 'THF', '泰和': 'THG', '太湖': 'TKH', '团结': 'TIX', '谭家井': 'TNJ', '陶家屯': 'TOT', '唐家湾': 'PDQ', '统军庄': 'TZP', '泰康': 'TKX', '吐列毛杜': 'TMD', '图里河': 'TEX', '亭亮': 'TIZ', '田林': 'TFZ', '铜陵': 'TJH', '铁力': 'TLB', '铁岭西': 'PXT', '天门': 'TMN', '天门南': 'TNN', '太姥山': 'TLS', '土牧尔台': 'TRC', '土门子': 'TCJ', '潼南': 'TVW', '洮南': 'TVT', '太平川': 'TIT', '太平镇': 'TEB', '图强': 'TQX', '台前': 'TTK', '天桥岭': 'TQL', '土桥子': 'TQJ', '汤山城': 'TCT', '桃山': 'TAB', '塔石嘴': 'TIM', '通途': 'TUT', '汤旺河': 'THB', '同心': 'TXJ', '土溪': 'TSW', '桐乡': 'TCH', '田阳': 'TRZ', '天义': 'TND', '汤阴': 'TYF', '驼腰岭': 'TIL', '太阳山': 'TYJ', '汤原': 'TYB', '塔崖驿': 'TYP', '滕州东': 'TEK', '台州': 'TZH', '天祝': 'TZJ', '滕州': 'TXK', '天镇': 'TZV', '桐子林': 'TEW', '天柱山': 'QWH', '文安': 'WBP', '武安': 'WAP', '王安镇': 'WVP', '旺苍': 'WEW', '五叉沟': 'WCT', '文昌': 'WEQ', '温春': 'WDB', '五大连池': 'WRB', '文登': 'WBK', '五道沟': 'WDL', '五道河': 'WHP', '文地': 'WNZ', '卫东': 'WVT', '武当山': 'WRN', '望都': 'WDP', '乌尔旗汗': 'WHX', '潍坊': 'WFK', '万发屯': 'WFB', '王府': 'WUT', '瓦房店西': 'WXT', '王岗': 'WGB', '武功': 'WGY', '湾沟': 'WGL', '吴官田': 'WGM', '乌海': 'WVC', '苇河': 'WHB', '卫辉': 'WHF', '吴家川': 'WCJ', '五家': 'WUB', '威箐': 'WAM', '午汲': 'WJP', '渭津': 'WJL', '王家湾': 'WJJ', '倭肯': 'WQB', '五棵树': 'WKT', '五龙背': 'WBT', '乌兰哈达': 'WLC', '万乐': 'WEB', '瓦拉干': 'WVX', '温岭': 'VHH', '五莲': 'WLK', '乌拉特前旗': 'WQC', '乌拉山': 'WSC', '卧里屯': 'WLX', '渭南北': 'WBY', '乌奴耳': 'WRX', '万宁': 'WNQ', '万年': 'WWG', '渭南南': 'WVY', '渭南镇': 'WNJ', '沃皮': 'WPT', '吴堡': 'WUY', '吴桥': 'WUP', '汪清': 'WQL', '武清': 'WWP', '武山': 'WSJ', '文水': 'WEV', '魏善庄': 'WSP', '王瞳': 'WTP', '五台山': 'WSV', '王团庄': 'WZJ', '五五': 'WVR', '无锡东': 'WGH', '卫星': 'WVB', '闻喜': 'WXV', '武乡': 'WVV', '无锡新区': 'IFH', '武穴': 'WXN', '吴圩': 'WYZ', '王杨': 'WYB', '五营': 'WWB', '武义': 'RYH', '瓦窑田': 'WIM', '五原': 'WYC', '苇子沟': 'WZL', '韦庄': 'WZY', '五寨': 'WZV', '王兆屯': 'WZB', '微子镇': 'WQP', '魏杖子': 'WKD', '新安': 'EAM', '兴安': 'XAZ', '新安县': 'XAF', '新保安': 'XAP', '下板城': 'EBP', '西八里': 'XLP', '宣城': 'ECH', '兴城': 'XCD', '小村': 'XEM', '新绰源': 'XRX', '下城子': 'XCB', '新城子': 'XCT', '喜德': 'EDW', '小得江': 'EJM', '西大庙': 'XMP', '小董': 'XEZ', '小东': 'XOD', '息烽': 'XFW', '信丰': 'EFG', '襄汾': 'XFV', '新干': 'EGG', '孝感': 'XGN', '西固城': 'XUJ', '夏官营': 'XGJ', '西岗子': 'NBB', '襄河': 'XXB', '新和': 'XIR', '宣和': 'XWJ', '斜河涧': 'EEP', '新华屯': 'XAX', '新华': 'XHB', '新化': 'EHQ', '宣化': 'XHP', '兴和西': 'XEC', '小河沿': 'XYD', '下花园': 'XYP', '小河镇': 'EKY', '徐家': 'XJB', '峡江': 'EJG', '新绛': 'XJV', '辛集': 'ENP', '新江': 'XJM', '西街口': 'EKM', '许家屯': 'XJT', '许家台': 'XTJ', '谢家镇': 'XMT', '兴凯': 'EKB', '小榄': 'EAQ', '香兰': 'XNB', '兴隆店': 'XDD', '新乐': 'ELP', '新林': 'XPX', '小岭': 'XLB', '新李': 'XLJ', '西林': 'XYB', '西柳': 'GCT', '仙林': 'XPH', '新立屯': 'XLD', '兴隆镇': 'XZB', '新立镇': 'XGT', '新民': 'XMD', '西麻山': 'XMB', '下马塘': 'XAT', '孝南': 'XNV', '咸宁北': 'XRN', '兴宁': 'ENQ', '咸宁': 'XNN', '犀浦东': 'XAW', '西平': 'XPN', '兴平': 'XPY', '新坪田': 'XPM', '霞浦': 'XOS', '溆浦': 'EPQ', '犀浦': 'XIW', '新青': 'XQB', '新邱': 'XQD', '兴泉堡': 'XQJ', '仙人桥': 'XRL', '小寺沟': 'ESP', '杏树': 'XSB', '夏石': 'XIZ', '浠水': 'XZN', '下社': 'XSV', '徐水': 'XSP', '小哨': 'XAM', '新松浦': 'XOB', '杏树屯': 'XDT', '许三湾': 'XSJ', '湘潭': 'XTQ', '邢台': 'XTP', '仙桃西': 'XAN', '下台子': 'EIP', '徐闻': 'XJQ', '新窝铺': 'EPD', '修武': 'XWF', '新县': 'XSN', '西乡': 'XQY', '湘乡': 'XXQ', '西峡': 'XIF', '孝西': 'XOV', '小新街': 'XXM', '新兴县': 'XGQ', '西小召': 'XZC', '小西庄': 'XXP', '向阳': 'XDB', '旬阳': 'XUY', '旬阳北': 'XBY', '襄阳东': 'XWN', '兴业': 'SNZ', '小雨谷': 'XHM', '信宜': 'EEQ', '小月旧': 'XFM', '小扬气': 'XYX', '祥云': 'EXM', '襄垣': 'EIF', '夏邑县': 'EJH', '新友谊': 'EYB', '新阳镇': 'XZJ', '徐州东': 'UUH', '新帐房': 'XZX', '悬钟': 'XRP', '新肇': 'XZT', '忻州': 'XXV', '汐子': 'XZD', '西哲里木': 'XRD', '新杖子': 'ERP', '姚安': 'YAC', '依安': 'YAX', '永安': 'YAS', '永安乡': 'YNB', '亚布力': 'YBB', '元宝山': 'YUD', '羊草': 'YAB', '秧草地': 'YKM', '阳澄湖': 'AIH', '迎春': 'YYB', '叶城': 'YER', '盐池': 'YKJ', '砚川': 'YYY', '阳春': 'YQQ', '宜城': 'YIN', '应城': 'YHN', '禹城': 'YCK', '羊场': 'YED', '阳城': 'YNF', '阳岔': 'YAL', '郓城': 'YPK', '雁翅': 'YAP', '云彩岭': 'ACP', '虞城县': 'IXH', '营城子': 'YCT', '永登': 'YDJ', '英德': 'YDQ', '尹地': 'YDM', '永定': 'YGS', '雁荡山': 'YGH', '于都': 'YDG', '园墩': 'YAJ', '英德西': 'IIQ', '永丰营': 'YYM', '杨岗': 'YRB', '阳高': 'YOV', '阳谷': 'YIK', '友好': 'YOB', '余杭': 'EVH', '沿河城': 'YHP', '岩会': 'AEP', '羊臼河': 'YHM', '永嘉': 'URH', '营街': 'YAM', '盐津': 'AEW', '余江': 'YHG', '叶集': 'YCH', '燕郊': 'AJP', '姚家': 'YAT', '岳家井': 'YGJ', '一间堡': 'YJT', '英吉沙': 'YIR', '云居寺': 'AFP', '燕家庄': 'AZK', '永康': 'RFH', '营口东': 'YGT', '银浪': 'YJX', '永郎': 'YLW', '宜良北': 'YSM', '永乐店': 'YDY', '伊拉哈': 'YLX', '伊林': 'YLB', '杨陵': 'YSY', '彝良': 'ALW', '杨林': 'YLM', '余粮堡': 'YLD', '杨柳青': 'YQP', '月亮田': 'YUM', '亚龙湾': 'TWQ', '义马': 'YMF', '玉门': 'YXJ', '云梦': 'YMN', '元谋': 'YMM', '阳明堡': 'YVV', '一面山': 'YST', '沂南': 'YNK', '宜耐': 'YVM', '伊宁东': 'YNR', '营盘水': 'YZJ', '羊堡': 'ABM', '阳泉北': 'YPP', '乐清': 'UPH', '焉耆': 'YSR', '源迁': 'AQK', '姚千户屯': 'YQT', '阳曲': 'YQV', '榆树沟': 'YGP', '月山': 'YBF', '玉石': 'YSJ', '偃师': 'YSF', '沂水': 'YUK', '榆社': 'YSV', '窑上': 'ASP', '元氏': 'YSP', '杨树岭': 'YAD', '野三坡': 'AIP', '榆树屯': 'YSX', '榆树台': 'YUT', '鹰手营子': 'YIP', '源潭': 'YTQ', '牙屯堡': 'YTZ', '烟筒山': 'YSL', '烟筒屯': 'YUX', '羊尾哨': 'YWM', '越西': 'YHW', '攸县': 'YOG', '玉溪': 'YXM', '永修': 'ACG', '弋阳': 'YIG', '酉阳': 'AFW', '余姚': 'YYH', '岳阳东': 'YIQ', '阳邑': 'ARP', '鸭园': 'YYL', '鸳鸯镇': 'YYJ', '燕子砭': 'YZY', '宜州': 'YSZ', '仪征': 'UZH', '兖州': 'YZK', '迤资': 'YQM', '羊者窝': 'AEM', '杨杖子': 'YZD', '镇安': 'ZEY', '治安': 'ZAD', '招柏': 'ZBP', '张百湾': 'ZUP', '枝城': 'ZCN', '子长': 'ZHY', '诸城': 'ZQK', '邹城': 'ZIK', '赵城': 'ZCV', '章党': 'ZHT', '肇东': 'ZDB', '照福铺': 'ZFM', '章古台': 'ZGD', '赵光': 'ZGB', '中和': 'ZHX', '中华门': 'VNH', '枝江北': 'ZIN', '钟家村': 'ZJY', '朱家沟': 'ZUB', '紫荆关': 'ZYP', '周家': 'ZOB', '诸暨': 'ZDH', '镇江南': 'ZEH', '周家屯': 'ZOD', '褚家湾': 'CWJ', '湛江西': 'ZWQ', '朱家窑': 'ZUJ', '曾家坪子': 'ZBW', '张兰': 'ZLV', '镇赉': 'ZLT', '枣林': 'ZIV', '扎鲁特': 'ZLD', '扎赉诺尔西': 'ZXX', '樟木头': 'ZOQ', '中牟': 'ZGF', '中宁东': 'ZDJ', '中宁': 'VNJ', '中宁南': 'ZNJ', '镇平': 'ZPF', '漳平': 'ZPS', '泽普': 'ZPR', '枣强': 'ZVP', '张桥': 'ZQY', '章丘': 'ZTK', '朱日和': 'ZRC', '泽润里': 'ZLM', '中山北': 'ZGQ', '樟树东': 'ZOG', '中山': 'ZSQ', '柞水': 'ZSY', '钟山': 'ZSZ', '樟树': 'ZSG', '珠窝': 'ZOP', '张维屯': 'ZWB', '彰武': 'ZWD', '棕溪': 'ZOY', '钟祥': 'ZTN', '资溪': 'ZXS', '镇西': 'ZVT', '张辛': 'ZIP', '正镶白旗': 'ZXC', '紫阳': 'ZVY', '枣阳': 'ZYN', '竹园坝': 'ZAW', '张掖': 'ZYJ', '镇远': 'ZUW', '朱杨溪': 'ZXW', '漳州东': 'GOS', '漳州': 'ZUS', '壮志': 'ZUX', '子洲': 'ZZY', '中寨': 'ZZM', '涿州': 'ZXP', '咋子': 'ZAL', '卓资山': 'ZZC', '株洲西': 'ZAQ', '安仁': 'ARG', '安阳东': 'ADF', '栟茶': 'FWH', '保定东': 'BMP', '滨海': 'FHP', '滨海北': 'FCP', '宝鸡南': 'BBY', '茶陵南': 'CNG', '长寿北': 'COW', '潮汕': 'CBQ', '长兴': 'CBH', '长阳': 'CYN', '潮阳': 'CNQ', '东安东': 'DCZ', '东戴河': 'RDD', '东二道河': 'DRB', '东莞': 'RTQ', '大苴': 'DIM', '大荔': 'DNY', '大青沟': 'DSD', '德清': 'DRH', '大冶北': 'DBN', '定州东': 'DOP', '鄂州东': 'EFN', '防城港北': 'FBZ', '富川': 'FDZ', '丰都': 'FUW', '涪陵北': 'FEW', '抚远': 'FYB', '抚州': 'FZG', '广安南': 'VUW', '高碑店东': 'GMP', '葛店南': 'GNN', '革居': 'GEM', '光明城': 'IMQ', '桂平': 'GAZ', '广通北': 'GPM', '高邑西': 'GNP', '鹤壁东': 'HFF', '寒葱沟': 'HKB', '邯郸东': 'HPP', '惠东': 'KDQ', '洪洞西': 'HTV', '合肥北城': 'COH', '黄冈': 'KGN', '黄冈东': 'KAN', '横沟桥东': 'HNN', '黄冈西': 'KXN', '洪河': 'HPB', '花湖': 'KHN', '鲘门': 'KMQ', '虎门': 'IUQ', '哈密南': 'HLR', '侯马西': 'HPV', '衡南': 'HNG', '淮南东': 'HOH', '合浦': 'HVZ', '霍邱': 'FBH', '怀仁东': 'HFV', '华容东': 'HPN', '华容南': 'KRN', '黄石北': 'KSN', '贺胜桥东': 'HLN', '花山南': 'KNN', '霍州东': 'HWV', '惠州南': 'KNQ', '军粮城北': 'JMP', '将乐': 'JLS', '建宁县北': 'JCS', '江宁': 'JJH', '句容西': 'JWH', '建水': 'JSM', '界首市': 'JUN', '介休东': 'JDV', '晋中': 'JZV', '库伦': 'KLD', '葵潭': 'KTQ', '来宾北': 'UCZ', '灵璧': 'GMH', '离堆公园': 'INW', '陆丰': 'LLQ', '禄丰南': 'LQM', '临汾西': 'LXV', '滦河': 'UDP', '漯河西': 'LBN', '灵石东': 'UDV', '龙市': 'LAG', '溧水': 'LDH', '黎塘西': 'UKZ', '溧阳': 'LEH', '明港东': 'MDN', '玛纳斯': 'MSR', '庙山': 'MSN', '蒙自北': 'MBM', '南城': 'NDG', '南昌西': 'NXG', '南丰': 'NFG', '南湖东': 'NDN', '尼木': 'NMO', '普安': 'PAN', '普宁': 'PEQ', '平南南': 'PAZ', '平遥古城': 'PDV', '彭州': 'PMW', '青岛北': 'QHK', '祁东': 'QMQ', '前锋': 'QFB', '岐山': 'QAY', '庆盛': 'QSQ', '曲水县': 'QSO', '祁县东': 'QGV', '祁阳': 'QWQ', '全州南': 'QNZ', '仁布': 'RUO', '如东': 'RIH', '日喀则': 'RKO', '饶平': 'RVQ', '泗洪': 'GQH', '三明北': 'SHS', '山坡东': 'SBN', '沈丘': 'SQN', '汕尾': 'OGQ', '绍兴北': 'SLH', '泗县': 'GPH', '泗阳': 'MPH', '上虞北': 'SSH', '山阴': 'SNV', '深圳北': 'IOQ', '神州': 'SRQ', '深圳坪山': 'IFQ', '石嘴山': 'QQJ', '石柱县': 'OSW', '土地堂东': 'TTN', '太谷西': 'TIV', '通海': 'TAM', '通化县': 'TXL', '泰宁': 'TNS', '汤逊湖': 'THN', '藤县': 'TAZ', '太原南': 'TNV', '乌龙泉南': 'WFN', '五女山': 'WET', '瓦屋山': 'WAH', '闻喜西': 'WOV', '梧州南': 'WBZ', '兴安北': 'XDZ', '许昌东': 'XVF', '项城': 'ERN', '西丰': 'XFT', '襄汾西': 'XTV', '孝感北': 'XJN', '咸宁东': 'XKN', '咸宁南': 'UNN', '协荣': 'ROO', '邢台东': 'EDP', '新乡东': 'EGF', '西阳村': 'XQF', '信阳东': 'OYN', '咸阳秦都': 'XOY', '迎宾路': 'YFW', '运城北': 'ABV', '岳池': 'AWW', '永福南': 'YBZ', '雨格': 'VTM', '洋河': 'GTH', '永济北': 'AJV', '炎陵': 'YAG', '杨陵南': 'YEY', '永泰': 'YTS', '尤溪': 'YXS', '云霄': 'YBS', '宜兴': 'YUH', '应县': 'YZV', '攸县南': 'YXG', '余姚北': 'CTH', '诏安': 'ZDS', '正定机场': 'ZHP', '纸坊东': 'ZMN', '织金': 'IZW', '左岭': 'ZSN', '驻马店西': 'ZLN', '漳浦': 'ZCS', '庄桥': 'ZQH', '涿州东': 'ZAP', '卓资东': 'ZDC', '郑州东': 'ZAF'}\n",
      "[{'车站': '北京北', '代号': 'VAP'}, {'车站': '北京东', '代号': 'BOP'}, {'车站': '北京', '代号': 'BJP'}, {'车站': '北京南', '代号': 'VNP'}, {'车站': '北京西', '代号': 'BXP'}, {'车站': '广州南', '代号': 'IZQ'}, {'车站': '重庆北', '代号': 'CUW'}, {'车站': '重庆', '代号': 'CQW'}, {'车站': '重庆南', '代号': 'CRW'}, {'车站': '广州东', '代号': 'GGQ'}, {'车站': '上海', '代号': 'SHH'}, {'车站': '上海南', '代号': 'SNH'}, {'车站': '上海虹桥', '代号': 'AOH'}, {'车站': '上海西', '代号': 'SXH'}, {'车站': '天津北', '代号': 'TBP'}, {'车站': '天津', '代号': 'TJP'}, {'车站': '天津南', '代号': 'TIP'}, {'车站': '天津西', '代号': 'TXP'}, {'车站': '长春', '代号': 'CCT'}, {'车站': '长春南', '代号': 'CET'}, {'车站': '长春西', '代号': 'CRT'}, {'车站': '成都东', '代号': 'ICW'}, {'车站': '成都南', '代号': 'CNW'}, {'车站': '成都', '代号': 'CDW'}, {'车站': '长沙', '代号': 'CSQ'}, {'车站': '长沙南', '代号': 'CWQ'}, {'车站': '福州', '代号': 'FZS'}, {'车站': '福州南', '代号': 'FYS'}, {'车站': '贵阳', '代号': 'GIW'}, {'车站': '广州', '代号': 'GZQ'}, {'车站': '广州西', '代号': 'GXQ'}, {'车站': '哈尔滨', '代号': 'HBB'}, {'车站': '哈尔滨东', '代号': 'VBB'}, {'车站': '哈尔滨西', '代号': 'VAB'}, {'车站': '合肥', '代号': 'HFH'}, {'车站': '呼和浩特东', '代号': 'NDC'}, {'车站': '呼和浩特', '代号': 'HHC'}, {'车站': '海口东', '代号': 'HMQ'}, {'车站': '海口', '代号': 'VUQ'}, {'车站': '杭州东', '代号': 'HGH'}, {'车站': '杭州', '代号': 'HZH'}, {'车站': '杭州南', '代号': 'XHH'}, {'车站': '济南', '代号': 'JNK'}, {'车站': '济南东', '代号': 'JAK'}, {'车站': '济南西', '代号': 'JGK'}, {'车站': '昆明', '代号': 'KMM'}, {'车站': '昆明西', '代号': 'KXM'}, {'车站': '拉萨', '代号': 'LSO'}, {'车站': '兰州东', '代号': 'LVJ'}, {'车站': '兰州', '代号': 'LZJ'}, {'车站': '兰州西', '代号': 'LAJ'}, {'车站': '南昌', '代号': 'NCG'}, {'车站': '南京', '代号': 'NJH'}, {'车站': '南京南', '代号': 'NKH'}, {'车站': '南宁', '代号': 'NNZ'}, {'车站': '石家庄北', '代号': 'VVP'}, {'车站': '石家庄', '代号': 'SJP'}, {'车站': '沈阳', '代号': 'SYT'}, {'车站': '沈阳北', '代号': 'SBT'}, {'车站': '沈阳东', '代号': 'SDT'}, {'车站': '太原北', '代号': 'TBV'}, {'车站': '太原东', '代号': 'TDV'}, {'车站': '太原', '代号': 'TYV'}, {'车站': '武汉', '代号': 'WHN'}, {'车站': '王家营西', '代号': 'KNM'}, {'车站': '乌鲁木齐南', '代号': 'WMR'}, {'车站': '西安北', '代号': 'EAY'}, {'车站': '西安', '代号': 'XAY'}, {'车站': '西安南', '代号': 'CAY'}, {'车站': '西宁西', '代号': 'XXO'}, {'车站': '银川', '代号': 'YIJ'}, {'车站': '郑州', '代号': 'ZZF'}, {'车站': '阿尔山', '代号': 'ART'}, {'车站': '安康', '代号': 'AKY'}, {'车站': '阿克苏', '代号': 'ASR'}, {'车站': '阿里河', '代号': 'AHX'}, {'车站': '阿拉山口', '代号': 'AKR'}, {'车站': '安平', '代号': 'APT'}, {'车站': '安庆', '代号': 'AQH'}, {'车站': '安顺', '代号': 'ASW'}, {'车站': '鞍山', '代号': 'AST'}, {'车站': '安阳', '代号': 'AYF'}, {'车站': '北安', '代号': 'BAB'}, {'车站': '蚌埠', '代号': 'BBH'}, {'车站': '白城', '代号': 'BCT'}, {'车站': '北海', '代号': 'BHZ'}, {'车站': '白河', '代号': 'BEL'}, {'车站': '白涧', '代号': 'BAP'}, {'车站': '宝鸡', '代号': 'BJY'}, {'车站': '滨江', '代号': 'BJB'}, {'车站': '博克图', '代号': 'BKX'}, {'车站': '百色', '代号': 'BIZ'}, {'车站': '白山市', '代号': 'HJL'}, {'车站': '北台', '代号': 'BTT'}, {'车站': '包头东', '代号': 'BDC'}, {'车站': '包头', '代号': 'BTC'}, {'车站': '北屯市', '代号': 'BXR'}, {'车站': '本溪', '代号': 'BXT'}, {'车站': '白云鄂博', '代号': 'BEC'}, {'车站': '白银西', '代号': 'BXJ'}, {'车站': '亳州', '代号': 'BZH'}, {'车站': '赤壁', '代号': 'CBN'}, {'车站': '常德', '代号': 'VGQ'}, {'车站': '承德', '代号': 'CDP'}, {'车站': '长甸', '代号': 'CDT'}, {'车站': '赤峰', '代号': 'CFD'}, {'车站': '茶陵', '代号': 'CDG'}, {'车站': '苍南', '代号': 'CEH'}, {'车站': '昌平', '代号': 'CPP'}, {'车站': '崇仁', '代号': 'CRG'}, {'车站': '昌图', '代号': 'CTT'}, {'车站': '长汀镇', '代号': 'CDB'}, {'车站': '曹县', '代号': 'CXK'}, {'车站': '楚雄', '代号': 'COM'}, {'车站': '陈相屯', '代号': 'CXT'}, {'车站': '长治北', '代号': 'CBF'}, {'车站': '长征', '代号': 'CZJ'}, {'车站': '池州', '代号': 'IYH'}, {'车站': '常州', '代号': 'CZH'}, {'车站': '郴州', '代号': 'CZQ'}, {'车站': '长治', '代号': 'CZF'}, {'车站': '沧州', '代号': 'COP'}, {'车站': '崇左', '代号': 'CZZ'}, {'车站': '大安北', '代号': 'RNT'}, {'车站': '大成', '代号': 'DCT'}, {'车站': '丹东', '代号': 'DUT'}, {'车站': '东方红', '代号': 'DFB'}, {'车站': '东莞东', '代号': 'DMQ'}, {'车站': '大虎山', '代号': 'DHD'}, {'车站': '敦煌', '代号': 'DHJ'}, {'车站': '敦化', '代号': 'DHL'}, {'车站': '德惠', '代号': 'DHT'}, {'车站': '东京城', '代号': 'DJB'}, {'车站': '大涧', '代号': 'DFP'}, {'车站': '都江堰', '代号': 'DDW'}, {'车站': '大连北', '代号': 'DFT'}, {'车站': '大理', '代号': 'DKM'}, {'车站': '大连', '代号': 'DLT'}, {'车站': '定南', '代号': 'DNG'}, {'车站': '大庆', '代号': 'DZX'}, {'车站': '东胜', '代号': 'DOC'}, {'车站': '大石桥', '代号': 'DQT'}, {'车站': '大同', '代号': 'DTV'}, {'车站': '东营', '代号': 'DPK'}, {'车站': '大杨树', '代号': 'DUX'}, {'车站': '都匀', '代号': 'RYW'}, {'车站': '邓州', '代号': 'DOF'}, {'车站': '达州', '代号': 'RXW'}, {'车站': '德州', '代号': 'DZP'}, {'车站': '额济纳', '代号': 'EJC'}, {'车站': '二连', '代号': 'RLC'}, {'车站': '恩施', '代号': 'ESN'}, {'车站': '福鼎', '代号': 'FES'}, {'车站': '风陵渡', '代号': 'FLV'}, {'车站': '涪陵', '代号': 'FLW'}, {'车站': '富拉尔基', '代号': 'FRX'}, {'车站': '抚顺北', '代号': 'FET'}, {'车站': '佛山', '代号': 'FSQ'}, {'车站': '阜新', '代号': 'FXD'}, {'车站': '阜阳', '代号': 'FYH'}, {'车站': '格尔木', '代号': 'GRO'}, {'车站': '广汉', '代号': 'GHW'}, {'车站': '古交', '代号': 'GJV'}, {'车站': '桂林北', '代号': 'GBZ'}, {'车站': '古莲', '代号': 'GRX'}, {'车站': '桂林', '代号': 'GLZ'}, {'车站': '固始', '代号': 'GXN'}, {'车站': '广水', '代号': 'GSN'}, {'车站': '干塘', '代号': 'GNJ'}, {'车站': '广元', '代号': 'GYW'}, {'车站': '广州北', '代号': 'GBQ'}, {'车站': '赣州', '代号': 'GZG'}, {'车站': '公主岭', '代号': 'GLT'}, {'车站': '公主岭南', '代号': 'GBT'}, {'车站': '淮安', '代号': 'AUH'}, {'车站': '鹤北', '代号': 'HMB'}, {'车站': '淮北', '代号': 'HRH'}, {'车站': '淮滨', '代号': 'HVN'}, {'车站': '河边', '代号': 'HBV'}, {'车站': '潢川', '代号': 'KCN'}, {'车站': '韩城', '代号': 'HCY'}, {'车站': '邯郸', '代号': 'HDP'}, {'车站': '横道河子', '代号': 'HDB'}, {'车站': '鹤岗', '代号': 'HGB'}, {'车站': '皇姑屯', '代号': 'HTT'}, {'车站': '红果', '代号': 'HEM'}, {'车站': '黑河', '代号': 'HJB'}, {'车站': '怀化', '代号': 'HHQ'}, {'车站': '汉口', '代号': 'HKN'}, {'车站': '葫芦岛', '代号': 'HLD'}, {'车站': '海拉尔', '代号': 'HRX'}, {'车站': '霍林郭勒', '代号': 'HWD'}, {'车站': '海伦', '代号': 'HLB'}, {'车站': '侯马', '代号': 'HMV'}, {'车站': '哈密', '代号': 'HMR'}, {'车站': '淮南', '代号': 'HAH'}, {'车站': '桦南', '代号': 'HNB'}, {'车站': '海宁西', '代号': 'EUH'}, {'车站': '鹤庆', '代号': 'HQM'}, {'车站': '怀柔北', '代号': 'HBP'}, {'车站': '怀柔', '代号': 'HRP'}, {'车站': '黄石东', '代号': 'OSN'}, {'车站': '华山', '代号': 'HSY'}, {'车站': '黄石', '代号': 'HSN'}, {'车站': '黄山', '代号': 'HKH'}, {'车站': '衡水', '代号': 'HSP'}, {'车站': '衡阳', '代号': 'HYQ'}, {'车站': '菏泽', '代号': 'HIK'}, {'车站': '贺州', '代号': 'HXZ'}, {'车站': '汉中', '代号': 'HOY'}, {'车站': '惠州', '代号': 'HCQ'}, {'车站': '吉安', '代号': 'VAG'}, {'车站': '集安', '代号': 'JAL'}, {'车站': '江边村', '代号': 'JBG'}, {'车站': '晋城', '代号': 'JCF'}, {'车站': '金城江', '代号': 'JJZ'}, {'车站': '景德镇', '代号': 'JCG'}, {'车站': '嘉峰', '代号': 'JFF'}, {'车站': '加格达奇', '代号': 'JGX'}, {'车站': '井冈山', '代号': 'JGG'}, {'车站': '蛟河', '代号': 'JHL'}, {'车站': '金华南', '代号': 'RNH'}, {'车站': '金华西', '代号': 'JBH'}, {'车站': '九江', '代号': 'JJG'}, {'车站': '吉林', '代号': 'JLL'}, {'车站': '荆门', '代号': 'JMN'}, {'车站': '佳木斯', '代号': 'JMB'}, {'车站': '济宁', '代号': 'JIK'}, {'车站': '集宁南', '代号': 'JAC'}, {'车站': '酒泉', '代号': 'JQJ'}, {'车站': '江山', '代号': 'JUH'}, {'车站': '吉首', '代号': 'JIQ'}, {'车站': '九台', '代号': 'JTL'}, {'车站': '镜铁山', '代号': 'JVJ'}, {'车站': '鸡西', '代号': 'JXB'}, {'车站': '蓟县', '代号': 'JKP'}, {'车站': '绩溪县', '代号': 'JRH'}, {'车站': '嘉峪关', '代号': 'JGJ'}, {'车站': '江油', '代号': 'JFW'}, {'车站': '锦州', '代号': 'JZD'}, {'车站': '金州', '代号': 'JZT'}, {'车站': '库尔勒', '代号': 'KLR'}, {'车站': '开封', '代号': 'KFF'}, {'车站': '岢岚', '代号': 'KLV'}, {'车站': '凯里', '代号': 'KLW'}, {'车站': '喀什', '代号': 'KSR'}, {'车站': '昆山南', '代号': 'KNH'}, {'车站': '奎屯', '代号': 'KTR'}, {'车站': '开原', '代号': 'KYT'}, {'车站': '六安', '代号': 'UAH'}, {'车站': '灵宝', '代号': 'LBF'}, {'车站': '芦潮港', '代号': 'UCH'}, {'车站': '隆昌', '代号': 'LCW'}, {'车站': '陆川', '代号': 'LKZ'}, {'车站': '利川', '代号': 'LCN'}, {'车站': '临川', '代号': 'LCG'}, {'车站': '潞城', '代号': 'UTP'}, {'车站': '鹿道', '代号': 'LDL'}, {'车站': '娄底', '代号': 'LDQ'}, {'车站': '临汾', '代号': 'LFV'}, {'车站': '良各庄', '代号': 'LGP'}, {'车站': '临河', '代号': 'LHC'}, {'车站': '漯河', '代号': 'LON'}, {'车站': '绿化', '代号': 'LWJ'}, {'车站': '隆化', '代号': 'UHP'}, {'车站': '丽江', '代号': 'LHM'}, {'车站': '临江', '代号': 'LQL'}, {'车站': '龙井', '代号': 'LJL'}, {'车站': '吕梁', '代号': 'LHV'}, {'车站': '醴陵', '代号': 'LLG'}, {'车站': '柳林南', '代号': 'LKV'}, {'车站': '滦平', '代号': 'UPP'}, {'车站': '六盘水', '代号': 'UMW'}, {'车站': '灵丘', '代号': 'LVV'}, {'车站': '旅顺', '代号': 'LST'}, {'车站': '陇西', '代号': 'LXJ'}, {'车站': '澧县', '代号': 'LEQ'}, {'车站': '兰溪', '代号': 'LWH'}, {'车站': '临西', '代号': 'UEP'}, {'车站': '龙岩', '代号': 'LYS'}, {'车站': '耒阳', '代号': 'LYQ'}, {'车站': '洛阳', '代号': 'LYF'}, {'车站': '洛阳东', '代号': 'LDF'}, {'车站': '连云港东', '代号': 'UKH'}, {'车站': '临沂', '代号': 'LVK'}, {'车站': '洛阳龙门', '代号': 'LLF'}, {'车站': '柳园', '代号': 'DHR'}, {'车站': '凌源', '代号': 'LYD'}, {'车站': '辽源', '代号': 'LYL'}, {'车站': '立志', '代号': 'LZX'}, {'车站': '柳州', '代号': 'LZZ'}, {'车站': '辽中', '代号': 'LZD'}, {'车站': '麻城', '代号': 'MCN'}, {'车站': '免渡河', '代号': 'MDX'}, {'车站': '牡丹江', '代号': 'MDB'}, {'车站': '莫尔道嘎', '代号': 'MRX'}, {'车站': '满归', '代号': 'MHX'}, {'车站': '明光', '代号': 'MGH'}, {'车站': '漠河', '代号': 'MVX'}, {'车站': '茂名东', '代号': 'MDQ'}, {'车站': '茂名', '代号': 'MMZ'}, {'车站': '密山', '代号': 'MSB'}, {'车站': '马三家', '代号': 'MJT'}, {'车站': '麻尾', '代号': 'VAW'}, {'车站': '绵阳', '代号': 'MYW'}, {'车站': '梅州', '代号': 'MOQ'}, {'车站': '满洲里', '代号': 'MLX'}, {'车站': '宁波东', '代号': 'NVH'}, {'车站': '宁波', '代号': 'NGH'}, {'车站': '南岔', '代号': 'NCB'}, {'车站': '南充', '代号': 'NCW'}, {'车站': '南丹', '代号': 'NDZ'}, {'车站': '南大庙', '代号': 'NMP'}, {'车站': '南芬', '代号': 'NFT'}, {'车站': '讷河', '代号': 'NHX'}, {'车站': '嫩江', '代号': 'NGX'}, {'车站': '内江', '代号': 'NJW'}, {'车站': '南平', '代号': 'NPS'}, {'车站': '南通', '代号': 'NUH'}, {'车站': '南阳', '代号': 'NFF'}, {'车站': '碾子山', '代号': 'NZX'}, {'车站': '平顶山', '代号': 'PEN'}, {'车站': '盘锦', '代号': 'PVD'}, {'车站': '平凉', '代号': 'PIJ'}, {'车站': '平凉南', '代号': 'POJ'}, {'车站': '平泉', '代号': 'PQP'}, {'车站': '坪石', '代号': 'PSQ'}, {'车站': '萍乡', '代号': 'PXG'}, {'车站': '凭祥', '代号': 'PXZ'}, {'车站': '郫县西', '代号': 'PCW'}, {'车站': '攀枝花', '代号': 'PRW'}, {'车站': '蕲春', '代号': 'QRN'}, {'车站': '青城山', '代号': 'QSW'}, {'车站': '青岛', '代号': 'QDK'}, {'车站': '清河城', '代号': 'QYP'}, {'车站': '黔江', '代号': 'QNW'}, {'车站': '曲靖', '代号': 'QJM'}, {'车站': '前进镇', '代号': 'QEB'}, {'车站': '齐齐哈尔', '代号': 'QHX'}, {'车站': '七台河', '代号': 'QTB'}, {'车站': '沁县', '代号': 'QVV'}, {'车站': '泉州东', '代号': 'QRS'}, {'车站': '泉州', '代号': 'QYS'}, {'车站': '衢州', '代号': 'QEH'}, {'车站': '融安', '代号': 'RAZ'}, {'车站': '汝箕沟', '代号': 'RQJ'}, {'车站': '瑞金', '代号': 'RJG'}, {'车站': '日照', '代号': 'RZK'}, {'车站': '双城堡', '代号': 'SCB'}, {'车站': '绥芬河', '代号': 'SFB'}, {'车站': '韶关东', '代号': 'SGQ'}, {'车站': '山海关', '代号': 'SHD'}, {'车站': '绥化', '代号': 'SHB'}, {'车站': '三间房', '代号': 'SFX'}, {'车站': '苏家屯', '代号': 'SXT'}, {'车站': '舒兰', '代号': 'SLL'}, {'车站': '三明', '代号': 'SMS'}, {'车站': '神木', '代号': 'OMY'}, {'车站': '三门峡', '代号': 'SMF'}, {'车站': '商南', '代号': 'ONY'}, {'车站': '遂宁', '代号': 'NIW'}, {'车站': '四平', '代号': 'SPT'}, {'车站': '商丘', '代号': 'SQF'}, {'车站': '上饶', '代号': 'SRG'}, {'车站': '韶山', '代号': 'SSQ'}, {'车站': '宿松', '代号': 'OAH'}, {'车站': '汕头', '代号': 'OTQ'}, {'车站': '邵武', '代号': 'SWS'}, {'车站': '涉县', '代号': 'OEP'}, {'车站': '三亚', '代号': 'SEQ'}, {'车站': '邵阳', '代号': 'SYQ'}, {'车站': '十堰', '代号': 'SNN'}, {'车站': '双鸭山', '代号': 'SSB'}, {'车站': '松原', '代号': 'VYT'}, {'车站': '深圳', '代号': 'SZQ'}, {'车站': '苏州', '代号': 'SZH'}, {'车站': '随州', '代号': 'SZN'}, {'车站': '宿州', '代号': 'OXH'}, {'车站': '朔州', '代号': 'SUV'}, {'车站': '深圳西', '代号': 'OSQ'}, {'车站': '塘豹', '代号': 'TBQ'}, {'车站': '塔尔气', '代号': 'TVX'}, {'车站': '潼关', '代号': 'TGY'}, {'车站': '塘沽', '代号': 'TGP'}, {'车站': '塔河', '代号': 'TXX'}, {'车站': '通化', '代号': 'THL'}, {'车站': '泰来', '代号': 'TLX'}, {'车站': '吐鲁番', '代号': 'TFR'}, {'车站': '通辽', '代号': 'TLD'}, {'车站': '铁岭', '代号': 'TLT'}, {'车站': '陶赖昭', '代号': 'TPT'}, {'车站': '图们', '代号': 'TML'}, {'车站': '铜仁', '代号': 'RDQ'}, {'车站': '唐山北', '代号': 'FUP'}, {'车站': '田师府', '代号': 'TFT'}, {'车站': '泰山', '代号': 'TAK'}, {'车站': '唐山', '代号': 'TSP'}, {'车站': '天水', '代号': 'TSJ'}, {'车站': '通远堡', '代号': 'TYT'}, {'车站': '太阳升', '代号': 'TQT'}, {'车站': '泰州', '代号': 'UTH'}, {'车站': '桐梓', '代号': 'TZW'}, {'车站': '通州西', '代号': 'TAP'}, {'车站': '五常', '代号': 'WCB'}, {'车站': '武昌', '代号': 'WCN'}, {'车站': '瓦房店', '代号': 'WDT'}, {'车站': '威海', '代号': 'WKK'}, {'车站': '芜湖', '代号': 'WHH'}, {'车站': '乌海西', '代号': 'WXC'}, {'车站': '吴家屯', '代号': 'WJT'}, {'车站': '武隆', '代号': 'WLW'}, {'车站': '乌兰浩特', '代号': 'WWT'}, {'车站': '渭南', '代号': 'WNY'}, {'车站': '威舍', '代号': 'WSM'}, {'车站': '歪头山', '代号': 'WIT'}, {'车站': '武威', '代号': 'WUJ'}, {'车站': '武威南', '代号': 'WWJ'}, {'车站': '无锡', '代号': 'WXH'}, {'车站': '乌西', '代号': 'WXR'}, {'车站': '乌伊岭', '代号': 'WPB'}, {'车站': '武夷山', '代号': 'WAS'}, {'车站': '万源', '代号': 'WYY'}, {'车站': '万州', '代号': 'WYW'}, {'车站': '梧州', '代号': 'WZZ'}, {'车站': '温州', '代号': 'RZH'}, {'车站': '温州南', '代号': 'VRH'}, {'车站': '西昌', '代号': 'ECW'}, {'车站': '许昌', '代号': 'XCF'}, {'车站': '西昌南', '代号': 'ENW'}, {'车站': '香坊', '代号': 'XFB'}, {'车站': '轩岗', '代号': 'XGV'}, {'车站': '兴国', '代号': 'EUG'}, {'车站': '宣汉', '代号': 'XHY'}, {'车站': '新会', '代号': 'EFQ'}, {'车站': '新晃', '代号': 'XLQ'}, {'车站': '锡林浩特', '代号': 'XTC'}, {'车站': '兴隆县', '代号': 'EXP'}, {'车站': '厦门北', '代号': 'XKS'}, {'车站': '厦门', '代号': 'XMS'}, {'车站': '厦门高崎', '代号': 'XBS'}, {'车站': '秀山', '代号': 'ETW'}, {'车站': '小市', '代号': 'XST'}, {'车站': '向塘', '代号': 'XTG'}, {'车站': '宣威', '代号': 'XWM'}, {'车站': '新乡', '代号': 'XXF'}, {'车站': '信阳', '代号': 'XUN'}, {'车站': '咸阳', '代号': 'XYY'}, {'车站': '襄阳', '代号': 'XFN'}, {'车站': '熊岳城', '代号': 'XYT'}, {'车站': '兴义', '代号': 'XRZ'}, {'车站': '新沂', '代号': 'VIH'}, {'车站': '新余', '代号': 'XUG'}, {'车站': '徐州', '代号': 'XCH'}, {'车站': '延安', '代号': 'YWY'}, {'车站': '宜宾', '代号': 'YBW'}, {'车站': '亚布力南', '代号': 'YWB'}, {'车站': '叶柏寿', '代号': 'YBD'}, {'车站': '宜昌东', '代号': 'HAN'}, {'车站': '永川', '代号': 'YCW'}, {'车站': '宜昌', '代号': 'YCN'}, {'车站': '盐城', '代号': 'AFH'}, {'车站': '运城', '代号': 'YNV'}, {'车站': '伊春', '代号': 'YCB'}, {'车站': '榆次', '代号': 'YCV'}, {'车站': '杨村', '代号': 'YBP'}, {'车站': '宜春西', '代号': 'YCG'}, {'车站': '伊尔施', '代号': 'YET'}, {'车站': '燕岗', '代号': 'YGW'}, {'车站': '永济', '代号': 'YIV'}, {'车站': '延吉', '代号': 'YJL'}, {'车站': '营口', '代号': 'YKT'}, {'车站': '牙克石', '代号': 'YKX'}, {'车站': '阎良', '代号': 'YNY'}, {'车站': '玉林', '代号': 'YLZ'}, {'车站': '榆林', '代号': 'ALY'}, {'车站': '一面坡', '代号': 'YPB'}, {'车站': '伊宁', '代号': 'YMR'}, {'车站': '阳平关', '代号': 'YAY'}, {'车站': '玉屏', '代号': 'YZW'}, {'车站': '原平', '代号': 'YPV'}, {'车站': '延庆', '代号': 'YNP'}, {'车站': '阳泉曲', '代号': 'YYV'}, {'车站': '玉泉', '代号': 'YQB'}, {'车站': '阳泉', '代号': 'AQP'}, {'车站': '玉山', '代号': 'YNG'}, {'车站': '营山', '代号': 'NUW'}, {'车站': '燕山', '代号': 'AOP'}, {'车站': '榆树', '代号': 'YRT'}, {'车站': '鹰潭', '代号': 'YTG'}, {'车站': '烟台', '代号': 'YAK'}, {'车站': '伊图里河', '代号': 'YEX'}, {'车站': '玉田县', '代号': 'ATP'}, {'车站': '义乌', '代号': 'YWH'}, {'车站': '阳新', '代号': 'YON'}, {'车站': '义县', '代号': 'YXD'}, {'车站': '益阳', '代号': 'AEQ'}, {'车站': '岳阳', '代号': 'YYQ'}, {'车站': '永州', '代号': 'AOQ'}, {'车站': '扬州', '代号': 'YLH'}, {'车站': '淄博', '代号': 'ZBK'}, {'车站': '镇城底', '代号': 'ZDV'}, {'车站': '自贡', '代号': 'ZGW'}, {'车站': '珠海', '代号': 'ZHQ'}, {'车站': '珠海北', '代号': 'ZIQ'}, {'车站': '湛江', '代号': 'ZJZ'}, {'车站': '镇江', '代号': 'ZJH'}, {'车站': '张家界', '代号': 'DIQ'}, {'车站': '张家口', '代号': 'ZKP'}, {'车站': '张家口南', '代号': 'ZMP'}, {'车站': '周口', '代号': 'ZKN'}, {'车站': '哲里木', '代号': 'ZLC'}, {'车站': '扎兰屯', '代号': 'ZTX'}, {'车站': '驻马店', '代号': 'ZDN'}, {'车站': '肇庆', '代号': 'ZVQ'}, {'车站': '周水子', '代号': 'ZIT'}, {'车站': '昭通', '代号': 'ZDW'}, {'车站': '中卫', '代号': 'ZWJ'}, {'车站': '资阳', '代号': 'ZYW'}, {'车站': '遵义', '代号': 'ZIW'}, {'车站': '枣庄', '代号': 'ZEK'}, {'车站': '资中', '代号': 'ZZW'}, {'车站': '株洲', '代号': 'ZZQ'}, {'车站': '枣庄西', '代号': 'ZFK'}, {'车站': '昂昂溪', '代号': 'AAX'}, {'车站': '阿城', '代号': 'ACB'}, {'车站': '安达', '代号': 'ADX'}, {'车站': '安德', '代号': 'ARW'}, {'车站': '安定', '代号': 'ADP'}, {'车站': '安广', '代号': 'AGT'}, {'车站': '艾河', '代号': 'AHP'}, {'车站': '安化', '代号': 'PKQ'}, {'车站': '艾家村', '代号': 'AJJ'}, {'车站': '鳌江', '代号': 'ARH'}, {'车站': '安家', '代号': 'AJB'}, {'车站': '阿金', '代号': 'AJD'}, {'车站': '阿克陶', '代号': 'AER'}, {'车站': '安口窑', '代号': 'AYY'}, {'车站': '敖力布告', '代号': 'ALD'}, {'车站': '安龙', '代号': 'AUZ'}, {'车站': '阿龙山', '代号': 'ASX'}, {'车站': '安陆', '代号': 'ALN'}, {'车站': '阿木尔', '代号': 'JTX'}, {'车站': '阿南庄', '代号': 'AZM'}, {'车站': '安庆西', '代号': 'APH'}, {'车站': '鞍山西', '代号': 'AXT'}, {'车站': '安塘', '代号': 'ATV'}, {'车站': '安亭北', '代号': 'ASH'}, {'车站': '阿图什', '代号': 'ATR'}, {'车站': '安图', '代号': 'ATL'}, {'车站': '安溪', '代号': 'AXS'}, {'车站': '博鳌', '代号': 'BWQ'}, {'车站': '北碚', '代号': 'BPW'}, {'车站': '白壁关', '代号': 'BGV'}, {'车站': '蚌埠南', '代号': 'BMH'}, {'车站': '巴楚', '代号': 'BCR'}, {'车站': '板城', '代号': 'BUP'}, {'车站': '北戴河', '代号': 'BEP'}, {'车站': '保定', '代号': 'BDP'}, {'车站': '宝坻', '代号': 'BPP'}, {'车站': '八达岭', '代号': 'ILP'}, {'车站': '巴东', '代号': 'BNN'}, {'车站': '柏果', '代号': 'BGM'}, {'车站': '布海', '代号': 'BUT'}, {'车站': '白河东', '代号': 'BIY'}, {'车站': '贲红', '代号': 'BVC'}, {'车站': '宝华山', '代号': 'BWH'}, {'车站': '白河县', '代号': 'BEY'}, {'车站': '白芨沟', '代号': 'BJJ'}, {'车站': '碧鸡关', '代号': 'BJM'}, {'车站': '北滘', '代号': 'IBQ'}, {'车站': '碧江', '代号': 'BLQ'}, {'车站': '白鸡坡', '代号': 'BBM'}, {'车站': '笔架山', '代号': 'BSB'}, {'车站': '八角台', '代号': 'BTD'}, {'车站': '保康', '代号': 'BKD'}, {'车站': '白奎堡', '代号': 'BKB'}, {'车站': '白狼', '代号': 'BAT'}, {'车站': '百浪', '代号': 'BRZ'}, {'车站': '博乐', '代号': 'BOR'}, {'车站': '宝拉格', '代号': 'BQC'}, {'车站': '巴林', '代号': 'BLX'}, {'车站': '宝林', '代号': 'BNB'}, {'车站': '北流', '代号': 'BOZ'}, {'车站': '勃利', '代号': 'BLB'}, {'车站': '布列开', '代号': 'BLR'}, {'车站': '宝龙山', '代号': 'BND'}, {'车站': '八面城', '代号': 'BMD'}, {'车站': '班猫箐', '代号': 'BNM'}, {'车站': '八面通', '代号': 'BMB'}, {'车站': '北马圈子', '代号': 'BRP'}, {'车站': '北票南', '代号': 'RPD'}, {'车站': '白旗', '代号': 'BQP'}, {'车站': '宝泉岭', '代号': 'BQB'}, {'车站': '白泉', '代号': 'BQL'}, {'车站': '白沙', '代号': 'BSW'}, {'车站': '巴山', '代号': 'BAY'}, {'车站': '白水江', '代号': 'BSY'}, {'车站': '白沙坡', '代号': 'BPM'}, {'车站': '白石山', '代号': 'BAL'}, {'车站': '白水镇', '代号': 'BUM'}, {'车站': '坂田', '代号': 'BTQ'}, {'车站': '泊头', '代号': 'BZP'}, {'车站': '北屯', '代号': 'BYP'}, {'车站': '本溪湖', '代号': 'BHT'}, {'车站': '博兴', '代号': 'BXK'}, {'车站': '八仙筒', '代号': 'VXD'}, {'车站': '白音察干', '代号': 'BYC'}, {'车站': '背荫河', '代号': 'BYB'}, {'车站': '北营', '代号': 'BIV'}, {'车站': '巴彦高勒', '代号': 'BAC'}, {'车站': '白音他拉', '代号': 'BID'}, {'车站': '鲅鱼圈', '代号': 'BYT'}, {'车站': '白银市', '代号': 'BNJ'}, {'车站': '白音胡硕', '代号': 'BCD'}, {'车站': '巴中', '代号': 'IEW'}, {'车站': '霸州', '代号': 'RMP'}, {'车站': '北宅', '代号': 'BVP'}, {'车站': '赤壁北', '代号': 'CIN'}, {'车站': '查布嘎', '代号': 'CBC'}, {'车站': '长城', '代号': 'CEJ'}, {'车站': '长冲', '代号': 'CCM'}, {'车站': '承德东', '代号': 'CCP'}, {'车站': '赤峰西', '代号': 'CID'}, {'车站': '嵯岗', '代号': 'CAX'}, {'车站': '柴岗', '代号': 'CGT'}, {'车站': '长葛', '代号': 'CEF'}, {'车站': '柴沟堡', '代号': 'CGV'}, {'车站': '城固', '代号': 'CGY'}, {'车站': '陈官营', '代号': 'CAJ'}, {'车站': '成高子', '代号': 'CZB'}, {'车站': '草海', '代号': 'WBW'}, {'车站': '柴河', '代号': 'CHB'}, {'车站': '册亨', '代号': 'CHZ'}, {'车站': '草河口', '代号': 'CKT'}, {'车站': '崔黄口', '代号': 'CHP'}, {'车站': '巢湖', '代号': 'CIH'}, {'车站': '蔡家沟', '代号': 'CJT'}, {'车站': '成吉思汗', '代号': 'CJX'}, {'车站': '岔江', '代号': 'CAM'}, {'车站': '蔡家坡', '代号': 'CJY'}, {'车站': '昌乐', '代号': 'CLK'}, {'车站': '超梁沟', '代号': 'CYP'}, {'车站': '慈利', '代号': 'CUQ'}, {'车站': '昌黎', '代号': 'CLP'}, {'车站': '长岭子', '代号': 'CLT'}, {'车站': '晨明', '代号': 'CMB'}, {'车站': '长农', '代号': 'CNJ'}, {'车站': '昌平北', '代号': 'VBP'}, {'车站': '常平', '代号': 'DAQ'}, {'车站': '长坡岭', '代号': 'CPM'}, {'车站': '辰清', '代号': 'CQB'}, {'车站': '楚山', '代号': 'CSB'}, {'车站': '长寿', '代号': 'EFW'}, {'车站': '磁山', '代号': 'CSP'}, {'车站': '苍石', '代号': 'CST'}, {'车站': '草市', '代号': 'CSL'}, {'车站': '察素齐', '代号': 'CSC'}, {'车站': '长山屯', '代号': 'CVT'}, {'车站': '长汀', '代号': 'CES'}, {'车站': '昌图西', '代号': 'CPT'}, {'车站': '春湾', '代号': 'CQQ'}, {'车站': '磁县', '代号': 'CIP'}, {'车站': '岑溪', '代号': 'CNZ'}, {'车站': '辰溪', '代号': 'CXQ'}, {'车站': '磁西', '代号': 'CRP'}, {'车站': '长兴南', '代号': 'CFH'}, {'车站': '磁窑', '代号': 'CYK'}, {'车站': '朝阳', '代号': 'CYD'}, {'车站': '春阳', '代号': 'CAL'}, {'车站': '城阳', '代号': 'CEK'}, {'车站': '创业村', '代号': 'CEX'}, {'车站': '朝阳川', '代号': 'CYL'}, {'车站': '朝阳地', '代号': 'CDD'}, {'车站': '长垣', '代号': 'CYF'}, {'车站': '朝阳镇', '代号': 'CZL'}, {'车站': '滁州北', '代号': 'CUH'}, {'车站': '常州北', '代号': 'ESH'}, {'车站': '滁州', '代号': 'CXH'}, {'车站': '潮州', '代号': 'CKQ'}, {'车站': '常庄', '代号': 'CVK'}, {'车站': '曹子里', '代号': 'CFP'}, {'车站': '车转湾', '代号': 'CWM'}, {'车站': '郴州西', '代号': 'ICQ'}, {'车站': '沧州西', '代号': 'CBP'}, {'车站': '德安', '代号': 'DAG'}, {'车站': '大安', '代号': 'RAT'}, {'车站': '大坝', '代号': 'DBJ'}, {'车站': '大板', '代号': 'DBC'}, {'车站': '大巴', '代号': 'DBD'}, {'车站': '到保', '代号': 'RBT'}, {'车站': '定边', '代号': 'DYJ'}, {'车站': '东边井', '代号': 'DBB'}, {'车站': '德伯斯', '代号': 'RDT'}, {'车站': '打柴沟', '代号': 'DGJ'}, {'车站': '德昌', '代号': 'DVW'}, {'车站': '滴道', '代号': 'DDB'}, {'车站': '大磴沟', '代号': 'DKJ'}, {'车站': '刀尔登', '代号': 'DRD'}, {'车站': '得耳布尔', '代号': 'DRX'}, {'车站': '东方', '代号': 'UFQ'}, {'车站': '丹凤', '代号': 'DGY'}, {'车站': '东丰', '代号': 'DIL'}, {'车站': '都格', '代号': 'DMM'}, {'车站': '大官屯', '代号': 'DTT'}, {'车站': '大关', '代号': 'RGW'}, {'车站': '东光', '代号': 'DGP'}, {'车站': '东海', '代号': 'DHB'}, {'车站': '大灰厂', '代号': 'DHP'}, {'车站': '大红旗', '代号': 'DQD'}, {'车站': '东海县', '代号': 'DQH'}, {'车站': '德惠西', '代号': 'DXT'}, {'车站': '达家沟', '代号': 'DJT'}, {'车站': '东津', '代号': 'DKB'}, {'车站': '杜家', '代号': 'DJL'}, {'车站': '大口屯', '代号': 'DKP'}, {'车站': '东来', '代号': 'RVD'}, {'车站': '德令哈', '代号': 'DHO'}, {'车站': '大陆号', '代号': 'DLC'}, {'车站': '带岭', '代号': 'DLB'}, {'车站': '大林', '代号': 'DLD'}, {'车站': '达拉特旗', '代号': 'DIC'}, {'车站': '独立屯', '代号': 'DTX'}, {'车站': '豆罗', '代号': 'DLV'}, {'车站': '达拉特西', '代号': 'DNC'}, {'车站': '东明村', '代号': 'DMD'}, {'车站': '洞庙河', '代号': 'DEP'}, {'车站': '东明县', '代号': 'DNF'}, {'车站': '大拟', '代号': 'DNZ'}, {'车站': '大平房', '代号': 'DPD'}, {'车站': '大盘石', '代号': 'RPP'}, {'车站': '大埔', '代号': 'DPI'}, {'车站': '大堡', '代号': 'DVT'}, {'车站': '大其拉哈', '代号': 'DQX'}, {'车站': '道清', '代号': 'DML'}, {'车站': '对青山', '代号': 'DQB'}, {'车站': '德清西', '代号': 'MOH'}, {'车站': '大庆西', '代号': 'RHX'}, {'车站': '东升', '代号': 'DRQ'}, {'车站': '独山', '代号': 'RWW'}, {'车站': '砀山', '代号': 'DKH'}, {'车站': '登沙河', '代号': 'DWT'}, {'车站': '读书铺', '代号': 'DPM'}, {'车站': '大石头', '代号': 'DSL'}, {'车站': '东胜西', '代号': 'DYC'}, {'车站': '大石寨', '代号': 'RZT'}, {'车站': '东台', '代号': 'DBH'}, {'车站': '定陶', '代号': 'DQK'}, {'车站': '灯塔', '代号': 'DGT'}, {'车站': '大田边', '代号': 'DBM'}, {'车站': '东通化', '代号': 'DTL'}, {'车站': '丹徒', '代号': 'RUH'}, {'车站': '大屯', '代号': 'DNT'}, {'车站': '东湾', '代号': 'DRJ'}, {'车站': '大武口', '代号': 'DFJ'}, {'车站': '低窝铺', '代号': 'DWJ'}, {'车站': '大王滩', '代号': 'DZZ'}, {'车站': '大湾子', '代号': 'DFM'}, {'车站': '大兴沟', '代号': 'DXL'}, {'车站': '大兴', '代号': 'DXX'}, {'车站': '定西', '代号': 'DSJ'}, {'车站': '甸心', '代号': 'DXM'}, {'车站': '东乡', '代号': 'DXG'}, {'车站': '代县', '代号': 'DKV'}, {'车站': '定襄', '代号': 'DXV'}, {'车站': '东戌', '代号': 'RXP'}, {'车站': '东辛庄', '代号': 'DXD'}, {'车站': '丹阳', '代号': 'DYH'}, {'车站': '大雁', '代号': 'DYX'}, {'车站': '德阳', '代号': 'DYW'}, {'车站': '当阳', '代号': 'DYN'}, {'车站': '丹阳北', '代号': 'EXH'}, {'车站': '大英东', '代号': 'IAW'}, {'车站': '东淤地', '代号': 'DBV'}, {'车站': '大营', '代号': 'DYV'}, {'车站': '定远', '代号': 'EWH'}, {'车站': '岱岳', '代号': 'RYV'}, {'车站': '大元', '代号': 'DYZ'}, {'车站': '大营镇', '代号': 'DJP'}, {'车站': '大营子', '代号': 'DZD'}, {'车站': '大战场', '代号': 'DTJ'}, {'车站': '德州东', '代号': 'DIP'}, {'车站': '低庄', '代号': 'DVQ'}, {'车站': '东镇', '代号': 'DNV'}, {'车站': '道州', '代号': 'DFZ'}, {'车站': '东至', '代号': 'DCH'}, {'车站': '东庄', '代号': 'DZV'}, {'车站': '兑镇', '代号': 'DWV'}, {'车站': '豆庄', '代号': 'ROP'}, {'车站': '定州', '代号': 'DXP'}, {'车站': '大竹园', '代号': 'DZY'}, {'车站': '大杖子', '代号': 'DAP'}, {'车站': '豆张庄', '代号': 'RZP'}, {'车站': '峨边', '代号': 'EBW'}, {'车站': '二道沟门', '代号': 'RDP'}, {'车站': '二道湾', '代号': 'RDX'}, {'车站': '二龙', '代号': 'RLD'}, {'车站': '二龙山屯', '代号': 'ELA'}, {'车站': '峨眉', '代号': 'EMW'}, {'车站': '二密河', '代号': 'RML'}, {'车站': '二营', '代号': 'RYJ'}, {'车站': '鄂州', '代号': 'ECN'}, {'车站': '福安', '代号': 'FAS'}, {'车站': '丰城', '代号': 'FCG'}, {'车站': '丰城南', '代号': 'FNG'}, {'车站': '肥东', '代号': 'FIH'}, {'车站': '发耳', '代号': 'FEM'}, {'车站': '富海', '代号': 'FHX'}, {'车站': '福海', '代号': 'FHR'}, {'车站': '凤凰城', '代号': 'FHT'}, {'车站': '奉化', '代号': 'FHH'}, {'车站': '富锦', '代号': 'FIB'}, {'车站': '范家屯', '代号': 'FTT'}, {'车站': '福利屯', '代号': 'FTB'}, {'车站': '丰乐镇', '代号': 'FZB'}, {'车站': '阜南', '代号': 'FNH'}, {'车站': '阜宁', '代号': 'AKH'}, {'车站': '抚宁', '代号': 'FNP'}, {'车站': '福清', '代号': 'FQS'}, {'车站': '福泉', '代号': 'VMW'}, {'车站': '丰水村', '代号': 'FSJ'}, {'车站': '丰顺', '代号': 'FUQ'}, {'车站': '繁峙', '代号': 'FSV'}, {'车站': '抚顺', '代号': 'FST'}, {'车站': '福山口', '代号': 'FKP'}, {'车站': '扶绥', '代号': 'FSZ'}, {'车站': '冯屯', '代号': 'FTX'}, {'车站': '浮图峪', '代号': 'FYP'}, {'车站': '富县东', '代号': 'FDY'}, {'车站': '凤县', '代号': 'FXY'}, {'车站': '富县', '代号': 'FEY'}, {'车站': '费县', '代号': 'FXK'}, {'车站': '凤阳', '代号': 'FUH'}, {'车站': '汾阳', '代号': 'FAV'}, {'车站': '扶余北', '代号': 'FBT'}, {'车站': '分宜', '代号': 'FYG'}, {'车站': '富源', '代号': 'FYM'}, {'车站': '扶余', '代号': 'FYT'}, {'车站': '富裕', '代号': 'FYX'}, {'车站': '抚州北', '代号': 'FBG'}, {'车站': '凤州', '代号': 'FZY'}, {'车站': '丰镇', '代号': 'FZC'}, {'车站': '范镇', '代号': 'VZK'}, {'车站': '固安', '代号': 'GFP'}, {'车站': '广安', '代号': 'VJW'}, {'车站': '高碑店', '代号': 'GBP'}, {'车站': '沟帮子', '代号': 'GBD'}, {'车站': '甘草店', '代号': 'GDJ'}, {'车站': '谷城', '代号': 'GCN'}, {'车站': '藁城', '代号': 'GEP'}, {'车站': '高村', '代号': 'GCV'}, {'车站': '古城镇', '代号': 'GZB'}, {'车站': '广德', '代号': 'GRH'}, {'车站': '贵定', '代号': 'GTW'}, {'车站': '贵定南', '代号': 'IDW'}, {'车站': '古东', '代号': 'GDV'}, {'车站': '贵港', '代号': 'GGZ'}, {'车站': '官高', '代号': 'GVP'}, {'车站': '葛根庙', '代号': 'GGT'}, {'车站': '干沟', '代号': 'GGL'}, {'车站': '甘谷', '代号': 'GGJ'}, {'车站': '高各庄', '代号': 'GGP'}, {'车站': '甘河', '代号': 'GAX'}, {'车站': '根河', '代号': 'GEX'}, {'车站': '郭家店', '代号': 'GDT'}, {'车站': '孤家子', '代号': 'GKT'}, {'车站': '古浪', '代号': 'GLJ'}, {'车站': '皋兰', '代号': 'GEJ'}, {'车站': '高楼房', '代号': 'GFM'}, {'车站': '归流河', '代号': 'GHT'}, {'车站': '关林', '代号': 'GLF'}, {'车站': '甘洛', '代号': 'VOW'}, {'车站': '郭磊庄', '代号': 'GLP'}, {'车站': '高密', '代号': 'GMK'}, {'车站': '公庙子', '代号': 'GMC'}, {'车站': '工农湖', '代号': 'GRT'}, {'车站': '广宁寺', '代号': 'GNT'}, {'车站': '广南卫', '代号': 'GNM'}, {'车站': '高平', '代号': 'GPF'}, {'车站': '甘泉北', '代号': 'GEY'}, {'车站': '共青城', '代号': 'GAG'}, {'车站': '甘旗卡', '代号': 'GQD'}, {'车站': '甘泉', '代号': 'GQY'}, {'车站': '高桥镇', '代号': 'GZD'}, {'车站': '赶水', '代号': 'GSW'}, {'车站': '灌水', '代号': 'GST'}, {'车站': '孤山口', '代号': 'GSP'}, {'车站': '果松', '代号': 'GSL'}, {'车站': '高山子', '代号': 'GSD'}, {'车站': '嘎什甸子', '代号': 'GXD'}, {'车站': '高台', '代号': 'GTJ'}, {'车站': '高滩', '代号': 'GAY'}, {'车站': '古田', '代号': 'GTS'}, {'车站': '官厅', '代号': 'GTP'}, {'车站': '官厅西', '代号': 'KEP'}, {'车站': '贵溪', '代号': 'GXG'}, {'车站': '涡阳', '代号': 'GYH'}, {'车站': '巩义', '代号': 'GXF'}, {'车站': '高邑', '代号': 'GIP'}, {'车站': '巩义南', '代号': 'GYF'}, {'车站': '固原', '代号': 'GUJ'}, {'车站': '菇园', '代号': 'GYL'}, {'车站': '公营子', '代号': 'GYD'}, {'车站': '光泽', '代号': 'GZS'}, {'车站': '古镇', '代号': 'GNQ'}, {'车站': '瓜州', '代号': 'GZJ'}, {'车站': '高州', '代号': 'GSQ'}, {'车站': '固镇', '代号': 'GEH'}, {'车站': '盖州', '代号': 'GXT'}, {'车站': '官字井', '代号': 'GOT'}, {'车站': '革镇堡', '代号': 'GZT'}, {'车站': '冠豸山', '代号': 'GSS'}, {'车站': '盖州西', '代号': 'GAT'}, {'车站': '红安', '代号': 'HWN'}, {'车站': '淮安南', '代号': 'AMH'}, {'车站': '红安西', '代号': 'VXN'}, {'车站': '海安县', '代号': 'HIH'}, {'车站': '黄柏', '代号': 'HBL'}, {'车站': '海北', '代号': 'HEB'}, {'车站': '鹤壁', '代号': 'HAF'}, {'车站': '华城', '代号': 'VCQ'}, {'车站': '合川', '代号': 'WKW'}, {'车站': '河唇', '代号': 'HCZ'}, {'车站': '汉川', '代号': 'HCN'}, {'车站': '海城', '代号': 'HCT'}, {'车站': '黑冲滩', '代号': 'HCJ'}, {'车站': '黄村', '代号': 'HCP'}, {'车站': '海城西', '代号': 'HXT'}, {'车站': '化德', '代号': 'HGC'}, {'车站': '洪洞', '代号': 'HDV'}, {'车站': '霍尔果斯', '代号': 'HFR'}, {'车站': '横峰', '代号': 'HFG'}, {'车站': '韩府湾', '代号': 'HXJ'}, {'车站': '汉沽', '代号': 'HGP'}, {'车站': '红光镇', '代号': 'IGW'}, {'车站': '浑河', '代号': 'HHT'}, {'车站': '红花沟', '代号': 'VHD'}, {'车站': '黄花筒', '代号': 'HUD'}, {'车站': '贺家店', '代号': 'HJJ'}, {'车站': '和静', '代号': 'HJR'}, {'车站': '红江', '代号': 'HFM'}, {'车站': '黑井', '代号': 'HIM'}, {'车站': '获嘉', '代号': 'HJF'}, {'车站': '河津', '代号': 'HJV'}, {'车站': '涵江', '代号': 'HJS'}, {'车站': '华家', '代号': 'HJT'}, {'车站': '河间西', '代号': 'HXP'}, {'车站': '花家庄', '代号': 'HJM'}, {'车站': '河口南', '代号': 'HKJ'}, {'车站': '黄口', '代号': 'KOH'}, {'车站': '湖口', '代号': 'HKG'}, {'车站': '呼兰', '代号': 'HUB'}, {'车站': '葫芦岛北', '代号': 'HPD'}, {'车站': '浩良河', '代号': 'HHB'}, {'车站': '哈拉海', '代号': 'HIT'}, {'车站': '鹤立', '代号': 'HOB'}, {'车站': '桦林', '代号': 'HIB'}, {'车站': '黄陵', '代号': 'ULY'}, {'车站': '海林', '代号': 'HRB'}, {'车站': '虎林', '代号': 'VLB'}, {'车站': '寒岭', '代号': 'HAT'}, {'车站': '和龙', '代号': 'HLL'}, {'车站': '海龙', '代号': 'HIL'}, {'车站': '哈拉苏', '代号': 'HAX'}, {'车站': '呼鲁斯太', '代号': 'VTJ'}, {'车站': '火连寨', '代号': 'HLT'}, {'车站': '黄梅', '代号': 'VEH'}, {'车站': '蛤蟆塘', '代号': 'HMT'}, {'车站': '韩麻营', '代号': 'HYP'}, {'车站': '黄泥河', '代号': 'HHL'}, {'车站': '海宁', '代号': 'HNH'}, {'车站': '惠农', '代号': 'HMJ'}, {'车站': '和平', '代号': 'VAQ'}, {'车站': '花棚子', '代号': 'HZM'}, {'车站': '花桥', '代号': 'VQH'}, {'车站': '宏庆', '代号': 'HEY'}, {'车站': '怀仁', '代号': 'HRV'}, {'车站': '华容', '代号': 'HRN'}, {'车站': '华山北', '代号': 'HDY'}, {'车站': '黄松甸', '代号': 'HDL'}, {'车站': '和什托洛盖', '代号': 'VSR'}, {'车站': '红山', '代号': 'VSB'}, {'车站': '汉寿', '代号': 'VSQ'}, {'车站': '衡山', '代号': 'HSQ'}, {'车站': '黑水', '代号': 'HOT'}, {'车站': '惠山', '代号': 'VCH'}, {'车站': '虎什哈', '代号': 'HHP'}, {'车站': '红寺堡', '代号': 'HSJ'}, {'车站': '虎石台', '代号': 'HUT'}, {'车站': '海石湾', '代号': 'HSO'}, {'车站': '衡山西', '代号': 'HEQ'}, {'车站': '红砂岘', '代号': 'VSJ'}, {'车站': '黑台', '代号': 'HQB'}, {'车站': '桓台', '代号': 'VTK'}, {'车站': '和田', '代号': 'VTR'}, {'车站': '会同', '代号': 'VTQ'}, {'车站': '海坨子', '代号': 'HZT'}, {'车站': '黑旺', '代号': 'HWK'}, {'车站': '海湾', '代号': 'RWH'}, {'车站': '红星', '代号': 'VXB'}, {'车站': '徽县', '代号': 'HYY'}, {'车站': '红兴隆', '代号': 'VHB'}, {'车站': '换新天', '代号': 'VTB'}, {'车站': '红岘台', '代号': 'HTJ'}, {'车站': '红彦', '代号': 'VIX'}, {'车站': '合阳', '代号': 'HAY'}, {'车站': '海阳', '代号': 'HYK'}, {'车站': '衡阳东', '代号': 'HVQ'}, {'车站': '华蓥', '代号': 'HUW'}, {'车站': '汉阴', '代号': 'HQY'}, {'车站': '黄羊滩', '代号': 'HGJ'}, {'车站': '汉源', '代号': 'WHW'}, {'车站': '湟源', '代号': 'HNO'}, {'车站': '河源', '代号': 'VIQ'}, {'车站': '花园', '代号': 'HUN'}, {'车站': '黄羊镇', '代号': 'HYJ'}, {'车站': '湖州', '代号': 'VZH'}, {'车站': '化州', '代号': 'HZZ'}, {'车站': '黄州', '代号': 'VON'}, {'车站': '霍州', '代号': 'HZV'}, {'车站': '惠州西', '代号': 'VXQ'}, {'车站': '巨宝', '代号': 'JRT'}, {'车站': '靖边', '代号': 'JIY'}, {'车站': '金宝屯', '代号': 'JBD'}, {'车站': '晋城北', '代号': 'JEF'}, {'车站': '金昌', '代号': 'JCJ'}, {'车站': '鄄城', '代号': 'JCK'}, {'车站': '交城', '代号': 'JNV'}, {'车站': '建昌', '代号': 'JFD'}, {'车站': '峻德', '代号': 'JDB'}, {'车站': '井店', '代号': 'JFP'}, {'车站': '鸡东', '代号': 'JOB'}, {'车站': '江都', '代号': 'UDH'}, {'车站': '鸡冠山', '代号': 'JST'}, {'车站': '金沟屯', '代号': 'VGP'}, {'车站': '静海', '代号': 'JHP'}, {'车站': '金河', '代号': 'JHX'}, {'车站': '锦河', '代号': 'JHB'}, {'车站': '精河', '代号': 'JHR'}, {'车站': '精河南', '代号': 'JIR'}, {'车站': '江华', '代号': 'JHZ'}, {'车站': '建湖', '代号': 'AJH'}, {'车站': '纪家沟', '代号': 'VJD'}, {'车站': '晋江', '代号': 'JJS'}, {'车站': '江津', '代号': 'JJW'}, {'车站': '姜家', '代号': 'JJB'}, {'车站': '金坑', '代号': 'JKT'}, {'车站': '芨岭', '代号': 'JLJ'}, {'车站': '金马村', '代号': 'JMM'}, {'车站': '江门', '代号': 'JWQ'}, {'车站': '角美', '代号': 'JES'}, {'车站': '莒南', '代号': 'JOK'}, {'车站': '井南', '代号': 'JNP'}, {'车站': '建瓯', '代号': 'JVS'}, {'车站': '经棚', '代号': 'JPC'}, {'车站': '江桥', '代号': 'JQX'}, {'车站': '九三', '代号': 'SSX'}, {'车站': '金山北', '代号': 'EGH'}, {'车站': '京山', '代号': 'JCN'}, {'车站': '建始', '代号': 'JRN'}, {'车站': '嘉善', '代号': 'JSH'}, {'车站': '稷山', '代号': 'JVV'}, {'车站': '吉舒', '代号': 'JSL'}, {'车站': '建设', '代号': 'JET'}, {'车站': '甲山', '代号': 'JOP'}, {'车站': '建三江', '代号': 'JIB'}, {'车站': '嘉善南', '代号': 'EAH'}, {'车站': '金山屯', '代号': 'JTB'}, {'车站': '江所田', '代号': 'JOM'}, {'车站': '景泰', '代号': 'JTJ'}, {'车站': '九台南', '代号': 'JNL'}, {'车站': '吉文', '代号': 'JWX'}, {'车站': '进贤', '代号': 'JUG'}, {'车站': '莒县', '代号': 'JKK'}, {'车站': '嘉祥', '代号': 'JUK'}, {'车站': '介休', '代号': 'JXV'}, {'车站': '井陉', '代号': 'JJP'}, {'车站': '嘉兴', '代号': 'JXH'}, {'车站': '嘉兴南', '代号': 'EPH'}, {'车站': '夹心子', '代号': 'JXT'}, {'车站': '简阳', '代号': 'JYW'}, {'车站': '揭阳', '代号': 'JRQ'}, {'车站': '建阳', '代号': 'JYS'}, {'车站': '姜堰', '代号': 'UEH'}, {'车站': '巨野', '代号': 'JYK'}, {'车站': '江永', '代号': 'JYZ'}, {'车站': '靖远', '代号': 'JYJ'}, {'车站': '缙云', '代号': 'JYH'}, {'车站': '江源', '代号': 'SZL'}, {'车站': '济源', '代号': 'JYF'}, {'车站': '靖远西', '代号': 'JXJ'}, {'车站': '胶州北', '代号': 'JZK'}, {'车站': '焦作东', '代号': 'WEF'}, {'车站': '靖州', '代号': 'JEQ'}, {'车站': '荆州', '代号': 'JBN'}, {'车站': '金寨', '代号': 'JZH'}, {'车站': '晋州', '代号': 'JXP'}, {'车站': '胶州', '代号': 'JXK'}, {'车站': '锦州南', '代号': 'JOD'}, {'车站': '焦作', '代号': 'JOF'}, {'车站': '旧庄窝', '代号': 'JVP'}, {'车站': '金杖子', '代号': 'JYD'}, {'车站': '开安', '代号': 'KAT'}, {'车站': '库车', '代号': 'KCR'}, {'车站': '康城', '代号': 'KCP'}, {'车站': '库都尔', '代号': 'KDX'}, {'车站': '宽甸', '代号': 'KDT'}, {'车站': '克东', '代号': 'KOB'}, {'车站': '开江', '代号': 'KAW'}, {'车站': '康金井', '代号': 'KJB'}, {'车站': '喀喇其', '代号': 'KQX'}, {'车站': '开鲁', '代号': 'KLC'}, {'车站': '克拉玛依', '代号': 'KHR'}, {'车站': '口前', '代号': 'KQL'}, {'车站': '奎山', '代号': 'KAB'}, {'车站': '昆山', '代号': 'KSH'}, {'车站': '克山', '代号': 'KSB'}, {'车站': '开通', '代号': 'KTT'}, {'车站': '康熙岭', '代号': 'KXZ'}, {'车站': '昆阳', '代号': 'KAM'}, {'车站': '克一河', '代号': 'KHX'}, {'车站': '开原西', '代号': 'KXT'}, {'车站': '康庄', '代号': 'KZP'}, {'车站': '来宾', '代号': 'UBZ'}, {'车站': '老边', '代号': 'LLT'}, {'车站': '灵宝西', '代号': 'LPF'}, {'车站': '龙川', '代号': 'LUQ'}, {'车站': '乐昌', '代号': 'LCQ'}, {'车站': '黎城', '代号': 'UCP'}, {'车站': '聊城', '代号': 'UCK'}, {'车站': '蓝村', '代号': 'LCK'}, {'车站': '林东', '代号': 'LRC'}, {'车站': '乐都', '代号': 'LDO'}, {'车站': '梁底下', '代号': 'LDP'}, {'车站': '六道河子', '代号': 'LVP'}, {'车站': '鲁番', '代号': 'LVM'}, {'车站': '廊坊', '代号': 'LJP'}, {'车站': '落垡', '代号': 'LOP'}, {'车站': '廊坊北', '代号': 'LFP'}, {'车站': '老府', '代号': 'UFD'}, {'车站': '兰岗', '代号': 'LNB'}, {'车站': '龙骨甸', '代号': 'LGM'}, {'车站': '芦沟', '代号': 'LOM'}, {'车站': '龙沟', '代号': 'LGJ'}, {'车站': '拉古', '代号': 'LGB'}, {'车站': '临海', '代号': 'UFH'}, {'车站': '林海', '代号': 'LXX'}, {'车站': '拉哈', '代号': 'LHX'}, {'车站': '凌海', '代号': 'JID'}, {'车站': '柳河', '代号': 'LNL'}, {'车站': '六合', '代号': 'KLH'}, {'车站': '龙华', '代号': 'LHP'}, {'车站': '滦河沿', '代号': 'UNP'}, {'车站': '六合镇', '代号': 'LEX'}, {'车站': '亮甲店', '代号': 'LRT'}, {'车站': '刘家店', '代号': 'UDT'}, {'车站': '刘家河', '代号': 'LVT'}, {'车站': '连江', '代号': 'LKS'}, {'车站': '李家', '代号': 'LJB'}, {'车站': '罗江', '代号': 'LJW'}, {'车站': '廉江', '代号': 'LJZ'}, {'车站': '庐江', '代号': 'UJH'}, {'车站': '两家', '代号': 'UJT'}, {'车站': '龙江', '代号': 'LJX'}, {'车站': '龙嘉', '代号': 'UJL'}, {'车站': '莲江口', '代号': 'LHB'}, {'车站': '蔺家楼', '代号': 'ULK'}, {'车站': '李家坪', '代号': 'LIJ'}, {'车站': '兰考', '代号': 'LKF'}, {'车站': '林口', '代号': 'LKB'}, {'车站': '路口铺', '代号': 'LKQ'}, {'车站': '老莱', '代号': 'LAX'}, {'车站': '拉林', '代号': 'LAB'}, {'车站': '陆良', '代号': 'LRM'}, {'车站': '龙里', '代号': 'LLW'}, {'车站': '零陵', '代号': 'UWZ'}, {'车站': '临澧', '代号': 'LWQ'}, {'车站': '兰棱', '代号': 'LLB'}, {'车站': '卢龙', '代号': 'UAP'}, {'车站': '喇嘛甸', '代号': 'LMX'}, {'车站': '里木店', '代号': 'LMB'}, {'车站': '洛门', '代号': 'LMJ'}, {'车站': '龙南', '代号': 'UNG'}, {'车站': '梁平', '代号': 'UQW'}, {'车站': '罗平', '代号': 'LPM'}, {'车站': '落坡岭', '代号': 'LPP'}, {'车站': '六盘山', '代号': 'UPJ'}, {'车站': '乐平市', '代号': 'LPG'}, {'车站': '临清', '代号': 'UQK'}, {'车站': '龙泉寺', '代号': 'UQJ'}, {'车站': '乐山北', '代号': 'UTW'}, {'车站': '乐善村', '代号': 'LUM'}, {'车站': '冷水江东', '代号': 'UDQ'}, {'车站': '连山关', '代号': 'LGT'}, {'车站': '流水沟', '代号': 'USP'}, {'车站': '陵水', '代号': 'LIQ'}, {'车站': '罗山', '代号': 'LRN'}, {'车站': '鲁山', '代号': 'LAF'}, {'车站': '丽水', '代号': 'USH'}, {'车站': '梁山', '代号': 'LMK'}, {'车站': '灵石', '代号': 'LSV'}, {'车站': '露水河', '代号': 'LUL'}, {'车站': '庐山', '代号': 'LSG'}, {'车站': '林盛堡', '代号': 'LBT'}, {'车站': '柳树屯', '代号': 'LSD'}, {'车站': '龙山镇', '代号': 'LAS'}, {'车站': '梨树镇', '代号': 'LSB'}, {'车站': '李石寨', '代号': 'LET'}, {'车站': '黎塘', '代号': 'LTZ'}, {'车站': '轮台', '代号': 'LAR'}, {'车站': '芦台', '代号': 'LTP'}, {'车站': '龙塘坝', '代号': 'LBM'}, {'车站': '濑湍', '代号': 'LVZ'}, {'车站': '骆驼巷', '代号': 'LTJ'}, {'车站': '李旺', '代号': 'VLJ'}, {'车站': '莱芜东', '代号': 'LWK'}, {'车站': '狼尾山', '代号': 'LRJ'}, {'车站': '灵武', '代号': 'LNJ'}, {'车站': '莱芜西', '代号': 'UXK'}, {'车站': '朗乡', '代号': 'LXB'}, {'车站': '陇县', '代号': 'LXY'}, {'车站': '临湘', '代号': 'LXQ'}, {'车站': '芦溪', '代号': 'LUG'}, {'车站': '莱西', '代号': 'LXK'}, {'车站': '林西', '代号': 'LXC'}, {'车站': '滦县', '代号': 'UXP'}, {'车站': '略阳', '代号': 'LYY'}, {'车站': '辽阳', '代号': 'LYT'}, {'车站': '临沂北', '代号': 'UYK'}, {'车站': '凌源东', '代号': 'LDD'}, {'车站': '连云港', '代号': 'UIH'}, {'车站': '临颍', '代号': 'LNF'}, {'车站': '老营', '代号': 'LXL'}, {'车站': '龙游', '代号': 'LMH'}, {'车站': '罗源', '代号': 'LVS'}, {'车站': '林源', '代号': 'LYX'}, {'车站': '涟源', '代号': 'LAQ'}, {'车站': '涞源', '代号': 'LYP'}, {'车站': '耒阳西', '代号': 'LPQ'}, {'车站': '临泽', '代号': 'LEJ'}, {'车站': '龙爪沟', '代号': 'LZT'}, {'车站': '雷州', '代号': 'UAQ'}, {'车站': '六枝', '代号': 'LIW'}, {'车站': '鹿寨', '代号': 'LIZ'}, {'车站': '来舟', '代号': 'LZS'}, {'车站': '龙镇', '代号': 'LZA'}, {'车站': '拉鲊', '代号': 'LEM'}, {'车站': '马鞍山', '代号': 'MAH'}, {'车站': '毛坝', '代号': 'MBY'}, {'车站': '毛坝关', '代号': 'MGY'}, {'车站': '麻城北', '代号': 'MBN'}, {'车站': '渑池', '代号': 'MCF'}, {'车站': '明城', '代号': 'MCL'}, {'车站': '庙城', '代号': 'MAP'}, {'车站': '渑池南', '代号': 'MNF'}, {'车站': '茅草坪', '代号': 'KPM'}, {'车站': '猛洞河', '代号': 'MUQ'}, {'车站': '磨刀石', '代号': 'MOB'}, {'车站': '弥渡', '代号': 'MDF'}, {'车站': '帽儿山', '代号': 'MRB'}, {'车站': '明港', '代号': 'MGN'}, {'车站': '梅河口', '代号': 'MHL'}, {'车站': '马皇', '代号': 'MHZ'}, {'车站': '孟家岗', '代号': 'MGB'}, {'车站': '美兰', '代号': 'MHQ'}, {'车站': '汨罗东', '代号': 'MQQ'}, {'车站': '马莲河', '代号': 'MHB'}, {'车站': '茅岭', '代号': 'MLZ'}, {'车站': '庙岭', '代号': 'MLL'}, {'车站': '茂林', '代号': 'MLD'}, {'车站': '穆棱', '代号': 'MLB'}, {'车站': '马林', '代号': 'MID'}, {'车站': '马龙', '代号': 'MGM'}, {'车站': '汨罗', '代号': 'MLQ'}, {'车站': '木里图', '代号': 'MUD'}, {'车站': '玛纳斯湖', '代号': 'MNR'}, {'车站': '冕宁', '代号': 'UGW'}, {'车站': '沐滂', '代号': 'MPQ'}, {'车站': '马桥河', '代号': 'MQB'}, {'车站': '闽清', '代号': 'MQS'}, {'车站': '民权', '代号': 'MQF'}, {'车站': '明水河', '代号': 'MUT'}, {'车站': '麻山', '代号': 'MAB'}, {'车站': '眉山', '代号': 'MSW'}, {'车站': '漫水湾', '代号': 'MKW'}, {'车站': '茂舍祖', '代号': 'MOM'}, {'车站': '米沙子', '代号': 'MST'}, {'车站': '美溪', '代号': 'MEB'}, {'车站': '勉县', '代号': 'MVY'}, {'车站': '麻阳', '代号': 'MVQ'}, {'车站': '密云北', '代号': 'MUP'}, {'车站': '米易', '代号': 'MMW'}, {'车站': '麦园', '代号': 'MYS'}, {'车站': '墨玉', '代号': 'MUR'}, {'车站': '庙庄', '代号': 'MZJ'}, {'车站': '米脂', '代号': 'MEY'}, {'车站': '明珠', '代号': 'MFQ'}, {'车站': '宁安', '代号': 'NAB'}, {'车站': '农安', '代号': 'NAT'}, {'车站': '南博山', '代号': 'NBK'}, {'车站': '南仇', '代号': 'NCK'}, {'车站': '南城司', '代号': 'NSP'}, {'车站': '宁村', '代号': 'NCZ'}, {'车站': '宁德', '代号': 'NES'}, {'车站': '南观村', '代号': 'NGP'}, {'车站': '南宫东', '代号': 'NFP'}, {'车站': '南关岭', '代号': 'NLT'}, {'车站': '宁国', '代号': 'NNH'}, {'车站': '宁海', '代号': 'NHH'}, {'车站': '南河川', '代号': 'NHJ'}, {'车站': '南华', '代号': 'NHS'}, {'车站': '泥河子', '代号': 'NHD'}, {'车站': '宁家', '代号': 'NVT'}, {'车站': '南靖', '代号': 'NJS'}, {'车站': '牛家', '代号': 'NJB'}, {'车站': '能家', '代号': 'NJD'}, {'车站': '南口', '代号': 'NKP'}, {'车站': '南口前', '代号': 'NKT'}, {'车站': '南朗', '代号': 'NNQ'}, {'车站': '乃林', '代号': 'NLD'}, {'车站': '尼勒克', '代号': 'NIR'}, {'车站': '那罗', '代号': 'ULZ'}, {'车站': '宁陵县', '代号': 'NLF'}, {'车站': '奈曼', '代号': 'NMD'}, {'车站': '宁明', '代号': 'NMZ'}, {'车站': '南木', '代号': 'NMX'}, {'车站': '南平南', '代号': 'NNS'}, {'车站': '那铺', '代号': 'NPZ'}, {'车站': '南桥', '代号': 'NQD'}, {'车站': '那曲', '代号': 'NQO'}, {'车站': '暖泉', '代号': 'NQJ'}, {'车站': '南台', '代号': 'NTT'}, {'车站': '南头', '代号': 'NOQ'}, {'车站': '宁武', '代号': 'NWV'}, {'车站': '南湾子', '代号': 'NWP'}, {'车站': '南翔北', '代号': 'NEH'}, {'车站': '宁乡', '代号': 'NXQ'}, {'车站': '内乡', '代号': 'NXF'}, {'车站': '牛心台', '代号': 'NXT'}, {'车站': '南峪', '代号': 'NUP'}, {'车站': '娘子关', '代号': 'NIP'}, {'车站': '南召', '代号': 'NAF'}, {'车站': '南杂木', '代号': 'NZT'}, {'车站': '平安', '代号': 'PAL'}, {'车站': '蓬安', '代号': 'PAW'}, {'车站': '平安驿', '代号': 'PNO'}, {'车站': '磐安镇', '代号': 'PAJ'}, {'车站': '平安镇', '代号': 'PZT'}, {'车站': '蒲城东', '代号': 'PEY'}, {'车站': '蒲城', '代号': 'PCY'}, {'车站': '裴德', '代号': 'PDB'}, {'车站': '偏店', '代号': 'PRP'}, {'车站': '平顶山西', '代号': 'BFF'}, {'车站': '坡底下', '代号': 'PXJ'}, {'车站': '瓢儿屯', '代号': 'PRT'}, {'车站': '平房', '代号': 'PFB'}, {'车站': '平岗', '代号': 'PGL'}, {'车站': '平关', '代号': 'PGM'}, {'车站': '盘关', '代号': 'PAM'}, {'车站': '平果', '代号': 'PGZ'}, {'车站': '徘徊北', '代号': 'PHP'}, {'车站': '平河口', '代号': 'PHM'}, {'车站': '盘锦北', '代号': 'PBD'}, {'车站': '潘家店', '代号': 'PDP'}, {'车站': '皮口', '代号': 'PKT'}, {'车站': '普兰店', '代号': 'PLT'}, {'车站': '偏岭', '代号': 'PNT'}, {'车站': '平山', '代号': 'PSB'}, {'车站': '彭山', '代号': 'PSW'}, {'车站': '皮山', '代号': 'PSR'}, {'车站': '彭水', '代号': 'PHW'}, {'车站': '磐石', '代号': 'PSL'}, {'车站': '平社', '代号': 'PSV'}, {'车站': '平台', '代号': 'PVT'}, {'车站': '平田', '代号': 'PTM'}, {'车站': '莆田', '代号': 'PTS'}, {'车站': '葡萄菁', '代号': 'PTW'}, {'车站': '普湾', '代号': 'PWT'}, {'车站': '平旺', '代号': 'PWV'}, {'车站': '平型关', '代号': 'PGV'}, {'车站': '普雄', '代号': 'POW'}, {'车站': '郫县', '代号': 'PWW'}, {'车站': '平洋', '代号': 'PYX'}, {'车站': '彭阳', '代号': 'PYJ'}, {'车站': '平遥', '代号': 'PYV'}, {'车站': '平邑', '代号': 'PIK'}, {'车站': '平原堡', '代号': 'PPJ'}, {'车站': '平原', '代号': 'PYK'}, {'车站': '平峪', '代号': 'PYP'}, {'车站': '彭泽', '代号': 'PZG'}, {'车站': '邳州', '代号': 'PJH'}, {'车站': '平庄', '代号': 'PZD'}, {'车站': '泡子', '代号': 'POD'}, {'车站': '平庄南', '代号': 'PND'}, {'车站': '乾安', '代号': 'QOT'}, {'车站': '庆安', '代号': 'QAB'}, {'车站': '迁安', '代号': 'QQP'}, {'车站': '祁东北', '代号': 'QRQ'}, {'车站': '七甸', '代号': 'QDM'}, {'车站': '曲阜东', '代号': 'QAK'}, {'车站': '庆丰', '代号': 'QFT'}, {'车站': '奇峰塔', '代号': 'QVP'}, {'车站': '曲阜', '代号': 'QFK'}, {'车站': '琼海', '代号': 'QYQ'}, {'车站': '秦皇岛', '代号': 'QTP'}, {'车站': '千河', '代号': 'QUY'}, {'车站': '清河', '代号': 'QIP'}, {'车站': '清河门', '代号': 'QHD'}, {'车站': '清华园', '代号': 'QHP'}, {'车站': '渠旧', '代号': 'QJZ'}, {'车站': '綦江', '代号': 'QJW'}, {'车站': '潜江', '代号': 'QJN'}, {'车站': '全椒', '代号': 'INH'}, {'车站': '秦家', '代号': 'QJB'}, {'车站': '祁家堡', '代号': 'QBT'}, {'车站': '清涧县', '代号': 'QNY'}, {'车站': '秦家庄', '代号': 'QZV'}, {'车站': '七里河', '代号': 'QLD'}, {'车站': '渠黎', '代号': 'QLZ'}, {'车站': '秦岭', '代号': 'QLY'}, {'车站': '青龙山', '代号': 'QGH'}, {'车站': '祁门', '代号': 'QIH'}, {'车站': '前磨头', '代号': 'QMP'}, {'车站': '青山', '代号': 'QSB'}, {'车站': '确山', '代号': 'QSN'}, {'车站': '清水', '代号': 'QUJ'}, {'车站': '前山', '代号': 'QXQ'}, {'车站': '戚墅堰', '代号': 'QYH'}, {'车站': '青田', '代号': 'QVH'}, {'车站': '桥头', '代号': 'QAT'}, {'车站': '青铜峡', '代号': 'QTJ'}, {'车站': '前卫', '代号': 'QWD'}, {'车站': '前苇塘', '代号': 'QWP'}, {'车站': '渠县', '代号': 'QRW'}, {'车站': '祁县', '代号': 'QXV'}, {'车站': '青县', '代号': 'QXP'}, {'车站': '桥西', '代号': 'QXJ'}, {'车站': '清徐', '代号': 'QUV'}, {'车站': '旗下营', '代号': 'QXC'}, {'车站': '千阳', '代号': 'QOY'}, {'车站': '沁阳', '代号': 'QYF'}, {'车站': '泉阳', '代号': 'QYL'}, {'车站': '祁阳北', '代号': 'QVQ'}, {'车站': '七营', '代号': 'QYJ'}, {'车站': '庆阳山', '代号': 'QSJ'}, {'车站': '清远', '代号': 'QBQ'}, {'车站': '清原', '代号': 'QYT'}, {'车站': '钦州东', '代号': 'QDZ'}, {'车站': '钦州', '代号': 'QRZ'}, {'车站': '青州市', '代号': 'QZK'}, {'车站': '瑞安', '代号': 'RAH'}, {'车站': '荣昌', '代号': 'RCW'}, {'车站': '瑞昌', '代号': 'RCG'}, {'车站': '如皋', '代号': 'RBH'}, {'车站': '容桂', '代号': 'RUQ'}, {'车站': '任丘', '代号': 'RQP'}, {'车站': '乳山', '代号': 'ROK'}, {'车站': '融水', '代号': 'RSZ'}, {'车站': '热水', '代号': 'RSD'}, {'车站': '容县', '代号': 'RXZ'}, {'车站': '饶阳', '代号': 'RVP'}, {'车站': '汝阳', '代号': 'RYF'}, {'车站': '绕阳河', '代号': 'RHD'}, {'车站': '汝州', '代号': 'ROF'}, {'车站': '石坝', '代号': 'OBJ'}, {'车站': '上板城', '代号': 'SBP'}, {'车站': '施秉', '代号': 'AQW'}, {'车站': '上板城南', '代号': 'OBP'}, {'车站': '世博园', '代号': 'ZWT'}, {'车站': '双城北', '代号': 'SBB'}, {'车站': '商城', '代号': 'SWN'}, {'车站': '莎车', '代号': 'SCR'}, {'车站': '顺昌', '代号': 'SCS'}, {'车站': '舒城', '代号': 'OCH'}, {'车站': '神池', '代号': 'SMV'}, {'车站': '沙城', '代号': 'SCP'}, {'车站': '石城', '代号': 'SCT'}, {'车站': '山城镇', '代号': 'SCL'}, {'车站': '山丹', '代号': 'SDJ'}, {'车站': '顺德', '代号': 'ORQ'}, {'车站': '绥德', '代号': 'ODY'}, {'车站': '邵东', '代号': 'SOQ'}, {'车站': '水洞', '代号': 'SIL'}, {'车站': '商都', '代号': 'SXC'}, {'车站': '十渡', '代号': 'SEP'}, {'车站': '四道湾', '代号': 'OUD'}, {'车站': '顺德学院', '代号': 'OJQ'}, {'车站': '绅坊', '代号': 'OLH'}, {'车站': '双丰', '代号': 'OFB'}, {'车站': '四方台', '代号': 'STB'}, {'车站': '水富', '代号': 'OTW'}, {'车站': '三关口', '代号': 'OKJ'}, {'车站': '桑根达来', '代号': 'OGC'}, {'车站': '韶关', '代号': 'SNQ'}, {'车站': '上高镇', '代号': 'SVK'}, {'车站': '上杭', '代号': 'JBS'}, {'车站': '沙海', '代号': 'SED'}, {'车站': '松河', '代号': 'SBM'}, {'车站': '沙河', '代号': 'SHP'}, {'车站': '沙河口', '代号': 'SKT'}, {'车站': '赛汗塔拉', '代号': 'SHC'}, {'车站': '沙河市', '代号': 'VOP'}, {'车站': '沙后所', '代号': 'SSD'}, {'车站': '山河屯', '代号': 'SHL'}, {'车站': '三河县', '代号': 'OXP'}, {'车站': '四合永', '代号': 'OHD'}, {'车站': '三汇镇', '代号': 'OZW'}, {'车站': '双河镇', '代号': 'SEL'}, {'车站': '石河子', '代号': 'SZR'}, {'车站': '三合庄', '代号': 'SVP'}, {'车站': '三家店', '代号': 'ODP'}, {'车站': '水家湖', '代号': 'SQH'}, {'车站': '沈家河', '代号': 'OJJ'}, {'车站': '松江河', '代号': 'SJL'}, {'车站': '尚家', '代号': 'SJB'}, {'车站': '孙家', '代号': 'SUB'}, {'车站': '沈家', '代号': 'OJB'}, {'车站': '松江', '代号': 'SAH'}, {'车站': '三江口', '代号': 'SKD'}, {'车站': '司家岭', '代号': 'OLK'}, {'车站': '松江南', '代号': 'IMH'}, {'车站': '石景山南', '代号': 'SRP'}, {'车站': '邵家堂', '代号': 'SJJ'}, {'车站': '三江县', '代号': 'SOZ'}, {'车站': '三家寨', '代号': 'SMM'}, {'车站': '十家子', '代号': 'SJD'}, {'车站': '松江镇', '代号': 'OZL'}, {'车站': '施家嘴', '代号': 'SHM'}, {'车站': '深井子', '代号': 'SWT'}, {'车站': '什里店', '代号': 'OMP'}, {'车站': '疏勒', '代号': 'SUR'}, {'车站': '疏勒河', '代号': 'SHJ'}, {'车站': '舍力虎', '代号': 'VLD'}, {'车站': '石磷', '代号': 'SPB'}, {'车站': '双辽', '代号': 'ZJD'}, {'车站': '绥棱', '代号': 'SIB'}, {'车站': '石岭', '代号': 'SOL'}, {'车站': '石林', '代号': 'SLM'}, {'车站': '石林南', '代号': 'LNM'}, {'车站': '石龙', '代号': 'SLQ'}, {'车站': '萨拉齐', '代号': 'SLC'}, {'车站': '索伦', '代号': 'SNT'}, {'车站': '商洛', '代号': 'OLY'}, {'车站': '沙岭子', '代号': 'SLP'}, {'车站': '石门县北', '代号': 'VFQ'}, {'车站': '三门峡南', '代号': 'SCF'}, {'车站': '三门县', '代号': 'OQH'}, {'车站': '石门县', '代号': 'OMQ'}, {'车站': '三门峡西', '代号': 'SXF'}, {'车站': '肃宁', '代号': 'SYP'}, {'车站': '宋', '代号': 'SOB'}, {'车站': '双牌', '代号': 'SBZ'}, {'车站': '四平东', '代号': 'PPT'}, {'车站': '遂平', '代号': 'SON'}, {'车站': '沙坡头', '代号': 'SFJ'}, {'车站': '商丘南', '代号': 'SPF'}, {'车站': '水泉', '代号': 'SID'}, {'车站': '石泉县', '代号': 'SXY'}, {'车站': '石桥子', '代号': 'SQT'}, {'车站': '石人城', '代号': 'SRB'}, {'车站': '石人', '代号': 'SRL'}, {'车站': '山市', '代号': 'SQB'}, {'车站': '神树', '代号': 'SWB'}, {'车站': '鄯善', '代号': 'SSR'}, {'车站': '三水', '代号': 'SJQ'}, {'车站': '泗水', '代号': 'OSK'}, {'车站': '石山', '代号': 'SAD'}, {'车站': '松树', '代号': 'SFT'}, {'车站': '首山', '代号': 'SAT'}, {'车站': '三十家', '代号': 'SRD'}, {'车站': '三十里堡', '代号': 'SST'}, {'车站': '松树镇', '代号': 'SSL'}, {'车站': '松桃', '代号': 'MZQ'}, {'车站': '索图罕', '代号': 'SHX'}, {'车站': '三堂集', '代号': 'SDH'}, {'车站': '石头', '代号': 'OTB'}, {'车站': '神头', '代号': 'SEV'}, {'车站': '沙沱', '代号': 'SFM'}, {'车站': '上万', '代号': 'SWP'}, {'车站': '孙吴', '代号': 'SKB'}, {'车站': '沙湾县', '代号': 'SXR'}, {'车站': '遂溪', '代号': 'SXZ'}, {'车站': '沙县', '代号': 'SAS'}, {'车站': '绍兴', '代号': 'SOH'}, {'车站': '歙县', '代号': 'OVH'}, {'车站': '石岘', '代号': 'SXL'}, {'车站': '上西铺', '代号': 'SXM'}, {'车站': '石峡子', '代号': 'SXJ'}, {'车站': '绥阳', '代号': 'SYB'}, {'车站': '沭阳', '代号': 'FMH'}, {'车站': '寿阳', '代号': 'SYV'}, {'车站': '水洋', '代号': 'OYP'}, {'车站': '三阳川', '代号': 'SYJ'}, {'车站': '上腰墩', '代号': 'SPJ'}, {'车站': '三营', '代号': 'OEJ'}, {'车站': '顺义', '代号': 'SOP'}, {'车站': '三义井', '代号': 'OYD'}, {'车站': '三源浦', '代号': 'SYL'}, {'车站': '三原', '代号': 'SAY'}, {'车站': '上虞', '代号': 'BDH'}, {'车站': '上园', '代号': 'SUD'}, {'车站': '水源', '代号': 'OYJ'}, {'车站': '桑园子', '代号': 'SAJ'}, {'车站': '绥中北', '代号': 'SND'}, {'车站': '苏州北', '代号': 'OHH'}, {'车站': '宿州东', '代号': 'SRH'}, {'车站': '深圳东', '代号': 'BJQ'}, {'车站': '深州', '代号': 'OZP'}, {'车站': '孙镇', '代号': 'OZY'}, {'车站': '绥中', '代号': 'SZD'}, {'车站': '尚志', '代号': 'SZB'}, {'车站': '师庄', '代号': 'SNM'}, {'车站': '松滋', '代号': 'SIN'}, {'车站': '师宗', '代号': 'SEM'}, {'车站': '苏州园区', '代号': 'KAH'}, {'车站': '苏州新区', '代号': 'ITH'}, {'车站': '泰安', '代号': 'TMK'}, {'车站': '台安', '代号': 'TID'}, {'车站': '通安驿', '代号': 'TAJ'}, {'车站': '桐柏', '代号': 'TBF'}, {'车站': '通北', '代号': 'TBB'}, {'车站': '汤池', '代号': 'TCX'}, {'车站': '桐城', '代号': 'TTH'}, {'车站': '郯城', '代号': 'TZK'}, {'车站': '铁厂', '代号': 'TCL'}, {'车站': '桃村', '代号': 'TCK'}, {'车站': '通道', '代号': 'TRQ'}, {'车站': '田东', '代号': 'TDZ'}, {'车站': '天岗', '代号': 'TGL'}, {'车站': '土贵乌拉', '代号': 'TGC'}, {'车站': '通沟', '代号': 'TOL'}, {'车站': '太谷', '代号': 'TGV'}, {'车站': '塔哈', '代号': 'THX'}, {'车站': '棠海', '代号': 'THM'}, {'车站': '唐河', '代号': 'THF'}, {'车站': '泰和', '代号': 'THG'}, {'车站': '太湖', '代号': 'TKH'}, {'车站': '团结', '代号': 'TIX'}, {'车站': '谭家井', '代号': 'TNJ'}, {'车站': '陶家屯', '代号': 'TOT'}, {'车站': '唐家湾', '代号': 'PDQ'}, {'车站': '统军庄', '代号': 'TZP'}, {'车站': '泰康', '代号': 'TKX'}, {'车站': '吐列毛杜', '代号': 'TMD'}, {'车站': '图里河', '代号': 'TEX'}, {'车站': '亭亮', '代号': 'TIZ'}, {'车站': '田林', '代号': 'TFZ'}, {'车站': '铜陵', '代号': 'TJH'}, {'车站': '铁力', '代号': 'TLB'}, {'车站': '铁岭西', '代号': 'PXT'}, {'车站': '天门', '代号': 'TMN'}, {'车站': '天门南', '代号': 'TNN'}, {'车站': '太姥山', '代号': 'TLS'}, {'车站': '土牧尔台', '代号': 'TRC'}, {'车站': '土门子', '代号': 'TCJ'}, {'车站': '潼南', '代号': 'TVW'}, {'车站': '洮南', '代号': 'TVT'}, {'车站': '太平川', '代号': 'TIT'}, {'车站': '太平镇', '代号': 'TEB'}, {'车站': '图强', '代号': 'TQX'}, {'车站': '台前', '代号': 'TTK'}, {'车站': '天桥岭', '代号': 'TQL'}, {'车站': '土桥子', '代号': 'TQJ'}, {'车站': '汤山城', '代号': 'TCT'}, {'车站': '桃山', '代号': 'TAB'}, {'车站': '塔石嘴', '代号': 'TIM'}, {'车站': '通途', '代号': 'TUT'}, {'车站': '汤旺河', '代号': 'THB'}, {'车站': '同心', '代号': 'TXJ'}, {'车站': '土溪', '代号': 'TSW'}, {'车站': '桐乡', '代号': 'TCH'}, {'车站': '田阳', '代号': 'TRZ'}, {'车站': '天义', '代号': 'TND'}, {'车站': '汤阴', '代号': 'TYF'}, {'车站': '驼腰岭', '代号': 'TIL'}, {'车站': '太阳山', '代号': 'TYJ'}, {'车站': '汤原', '代号': 'TYB'}, {'车站': '塔崖驿', '代号': 'TYP'}, {'车站': '滕州东', '代号': 'TEK'}, {'车站': '台州', '代号': 'TZH'}, {'车站': '天祝', '代号': 'TZJ'}, {'车站': '滕州', '代号': 'TXK'}, {'车站': '天镇', '代号': 'TZV'}, {'车站': '桐子林', '代号': 'TEW'}, {'车站': '天柱山', '代号': 'QWH'}, {'车站': '文安', '代号': 'WBP'}, {'车站': '武安', '代号': 'WAP'}, {'车站': '王安镇', '代号': 'WVP'}, {'车站': '旺苍', '代号': 'WEW'}, {'车站': '五叉沟', '代号': 'WCT'}, {'车站': '文昌', '代号': 'WEQ'}, {'车站': '温春', '代号': 'WDB'}, {'车站': '五大连池', '代号': 'WRB'}, {'车站': '文登', '代号': 'WBK'}, {'车站': '五道沟', '代号': 'WDL'}, {'车站': '五道河', '代号': 'WHP'}, {'车站': '文地', '代号': 'WNZ'}, {'车站': '卫东', '代号': 'WVT'}, {'车站': '武当山', '代号': 'WRN'}, {'车站': '望都', '代号': 'WDP'}, {'车站': '乌尔旗汗', '代号': 'WHX'}, {'车站': '潍坊', '代号': 'WFK'}, {'车站': '万发屯', '代号': 'WFB'}, {'车站': '王府', '代号': 'WUT'}, {'车站': '瓦房店西', '代号': 'WXT'}, {'车站': '王岗', '代号': 'WGB'}, {'车站': '武功', '代号': 'WGY'}, {'车站': '湾沟', '代号': 'WGL'}, {'车站': '吴官田', '代号': 'WGM'}, {'车站': '乌海', '代号': 'WVC'}, {'车站': '苇河', '代号': 'WHB'}, {'车站': '卫辉', '代号': 'WHF'}, {'车站': '吴家川', '代号': 'WCJ'}, {'车站': '五家', '代号': 'WUB'}, {'车站': '威箐', '代号': 'WAM'}, {'车站': '午汲', '代号': 'WJP'}, {'车站': '渭津', '代号': 'WJL'}, {'车站': '王家湾', '代号': 'WJJ'}, {'车站': '倭肯', '代号': 'WQB'}, {'车站': '五棵树', '代号': 'WKT'}, {'车站': '五龙背', '代号': 'WBT'}, {'车站': '乌兰哈达', '代号': 'WLC'}, {'车站': '万乐', '代号': 'WEB'}, {'车站': '瓦拉干', '代号': 'WVX'}, {'车站': '温岭', '代号': 'VHH'}, {'车站': '五莲', '代号': 'WLK'}, {'车站': '乌拉特前旗', '代号': 'WQC'}, {'车站': '乌拉山', '代号': 'WSC'}, {'车站': '卧里屯', '代号': 'WLX'}, {'车站': '渭南北', '代号': 'WBY'}, {'车站': '乌奴耳', '代号': 'WRX'}, {'车站': '万宁', '代号': 'WNQ'}, {'车站': '万年', '代号': 'WWG'}, {'车站': '渭南南', '代号': 'WVY'}, {'车站': '渭南镇', '代号': 'WNJ'}, {'车站': '沃皮', '代号': 'WPT'}, {'车站': '吴堡', '代号': 'WUY'}, {'车站': '吴桥', '代号': 'WUP'}, {'车站': '汪清', '代号': 'WQL'}, {'车站': '武清', '代号': 'WWP'}, {'车站': '武山', '代号': 'WSJ'}, {'车站': '文水', '代号': 'WEV'}, {'车站': '魏善庄', '代号': 'WSP'}, {'车站': '王瞳', '代号': 'WTP'}, {'车站': '五台山', '代号': 'WSV'}, {'车站': '王团庄', '代号': 'WZJ'}, {'车站': '五五', '代号': 'WVR'}, {'车站': '无锡东', '代号': 'WGH'}, {'车站': '卫星', '代号': 'WVB'}, {'车站': '闻喜', '代号': 'WXV'}, {'车站': '武乡', '代号': 'WVV'}, {'车站': '无锡新区', '代号': 'IFH'}, {'车站': '武穴', '代号': 'WXN'}, {'车站': '吴圩', '代号': 'WYZ'}, {'车站': '王杨', '代号': 'WYB'}, {'车站': '五营', '代号': 'WWB'}, {'车站': '武义', '代号': 'RYH'}, {'车站': '瓦窑田', '代号': 'WIM'}, {'车站': '五原', '代号': 'WYC'}, {'车站': '苇子沟', '代号': 'WZL'}, {'车站': '韦庄', '代号': 'WZY'}, {'车站': '五寨', '代号': 'WZV'}, {'车站': '王兆屯', '代号': 'WZB'}, {'车站': '微子镇', '代号': 'WQP'}, {'车站': '魏杖子', '代号': 'WKD'}, {'车站': '新安', '代号': 'EAM'}, {'车站': '兴安', '代号': 'XAZ'}, {'车站': '新安县', '代号': 'XAF'}, {'车站': '新保安', '代号': 'XAP'}, {'车站': '下板城', '代号': 'EBP'}, {'车站': '西八里', '代号': 'XLP'}, {'车站': '宣城', '代号': 'ECH'}, {'车站': '兴城', '代号': 'XCD'}, {'车站': '小村', '代号': 'XEM'}, {'车站': '新绰源', '代号': 'XRX'}, {'车站': '下城子', '代号': 'XCB'}, {'车站': '新城子', '代号': 'XCT'}, {'车站': '喜德', '代号': 'EDW'}, {'车站': '小得江', '代号': 'EJM'}, {'车站': '西大庙', '代号': 'XMP'}, {'车站': '小董', '代号': 'XEZ'}, {'车站': '小东', '代号': 'XOD'}, {'车站': '息烽', '代号': 'XFW'}, {'车站': '信丰', '代号': 'EFG'}, {'车站': '襄汾', '代号': 'XFV'}, {'车站': '新干', '代号': 'EGG'}, {'车站': '孝感', '代号': 'XGN'}, {'车站': '西固城', '代号': 'XUJ'}, {'车站': '夏官营', '代号': 'XGJ'}, {'车站': '西岗子', '代号': 'NBB'}, {'车站': '襄河', '代号': 'XXB'}, {'车站': '新和', '代号': 'XIR'}, {'车站': '宣和', '代号': 'XWJ'}, {'车站': '斜河涧', '代号': 'EEP'}, {'车站': '新华屯', '代号': 'XAX'}, {'车站': '新华', '代号': 'XHB'}, {'车站': '新化', '代号': 'EHQ'}, {'车站': '宣化', '代号': 'XHP'}, {'车站': '兴和西', '代号': 'XEC'}, {'车站': '小河沿', '代号': 'XYD'}, {'车站': '下花园', '代号': 'XYP'}, {'车站': '小河镇', '代号': 'EKY'}, {'车站': '徐家', '代号': 'XJB'}, {'车站': '峡江', '代号': 'EJG'}, {'车站': '新绛', '代号': 'XJV'}, {'车站': '辛集', '代号': 'ENP'}, {'车站': '新江', '代号': 'XJM'}, {'车站': '西街口', '代号': 'EKM'}, {'车站': '许家屯', '代号': 'XJT'}, {'车站': '许家台', '代号': 'XTJ'}, {'车站': '谢家镇', '代号': 'XMT'}, {'车站': '兴凯', '代号': 'EKB'}, {'车站': '小榄', '代号': 'EAQ'}, {'车站': '香兰', '代号': 'XNB'}, {'车站': '兴隆店', '代号': 'XDD'}, {'车站': '新乐', '代号': 'ELP'}, {'车站': '新林', '代号': 'XPX'}, {'车站': '小岭', '代号': 'XLB'}, {'车站': '新李', '代号': 'XLJ'}, {'车站': '西林', '代号': 'XYB'}, {'车站': '西柳', '代号': 'GCT'}, {'车站': '仙林', '代号': 'XPH'}, {'车站': '新立屯', '代号': 'XLD'}, {'车站': '兴隆镇', '代号': 'XZB'}, {'车站': '新立镇', '代号': 'XGT'}, {'车站': '新民', '代号': 'XMD'}, {'车站': '西麻山', '代号': 'XMB'}, {'车站': '下马塘', '代号': 'XAT'}, {'车站': '孝南', '代号': 'XNV'}, {'车站': '咸宁北', '代号': 'XRN'}, {'车站': '兴宁', '代号': 'ENQ'}, {'车站': '咸宁', '代号': 'XNN'}, {'车站': '犀浦东', '代号': 'XAW'}, {'车站': '西平', '代号': 'XPN'}, {'车站': '兴平', '代号': 'XPY'}, {'车站': '新坪田', '代号': 'XPM'}, {'车站': '霞浦', '代号': 'XOS'}, {'车站': '溆浦', '代号': 'EPQ'}, {'车站': '犀浦', '代号': 'XIW'}, {'车站': '新青', '代号': 'XQB'}, {'车站': '新邱', '代号': 'XQD'}, {'车站': '兴泉堡', '代号': 'XQJ'}, {'车站': '仙人桥', '代号': 'XRL'}, {'车站': '小寺沟', '代号': 'ESP'}, {'车站': '杏树', '代号': 'XSB'}, {'车站': '夏石', '代号': 'XIZ'}, {'车站': '浠水', '代号': 'XZN'}, {'车站': '下社', '代号': 'XSV'}, {'车站': '徐水', '代号': 'XSP'}, {'车站': '小哨', '代号': 'XAM'}, {'车站': '新松浦', '代号': 'XOB'}, {'车站': '杏树屯', '代号': 'XDT'}, {'车站': '许三湾', '代号': 'XSJ'}, {'车站': '湘潭', '代号': 'XTQ'}, {'车站': '邢台', '代号': 'XTP'}, {'车站': '仙桃西', '代号': 'XAN'}, {'车站': '下台子', '代号': 'EIP'}, {'车站': '徐闻', '代号': 'XJQ'}, {'车站': '新窝铺', '代号': 'EPD'}, {'车站': '修武', '代号': 'XWF'}, {'车站': '新县', '代号': 'XSN'}, {'车站': '西乡', '代号': 'XQY'}, {'车站': '湘乡', '代号': 'XXQ'}, {'车站': '西峡', '代号': 'XIF'}, {'车站': '孝西', '代号': 'XOV'}, {'车站': '小新街', '代号': 'XXM'}, {'车站': '新兴县', '代号': 'XGQ'}, {'车站': '西小召', '代号': 'XZC'}, {'车站': '小西庄', '代号': 'XXP'}, {'车站': '向阳', '代号': 'XDB'}, {'车站': '旬阳', '代号': 'XUY'}, {'车站': '旬阳北', '代号': 'XBY'}, {'车站': '襄阳东', '代号': 'XWN'}, {'车站': '兴业', '代号': 'SNZ'}, {'车站': '小雨谷', '代号': 'XHM'}, {'车站': '信宜', '代号': 'EEQ'}, {'车站': '小月旧', '代号': 'XFM'}, {'车站': '小扬气', '代号': 'XYX'}, {'车站': '祥云', '代号': 'EXM'}, {'车站': '襄垣', '代号': 'EIF'}, {'车站': '夏邑县', '代号': 'EJH'}, {'车站': '新友谊', '代号': 'EYB'}, {'车站': '新阳镇', '代号': 'XZJ'}, {'车站': '徐州东', '代号': 'UUH'}, {'车站': '新帐房', '代号': 'XZX'}, {'车站': '悬钟', '代号': 'XRP'}, {'车站': '新肇', '代号': 'XZT'}, {'车站': '忻州', '代号': 'XXV'}, {'车站': '汐子', '代号': 'XZD'}, {'车站': '西哲里木', '代号': 'XRD'}, {'车站': '新杖子', '代号': 'ERP'}, {'车站': '姚安', '代号': 'YAC'}, {'车站': '依安', '代号': 'YAX'}, {'车站': '永安', '代号': 'YAS'}, {'车站': '永安乡', '代号': 'YNB'}, {'车站': '亚布力', '代号': 'YBB'}, {'车站': '元宝山', '代号': 'YUD'}, {'车站': '羊草', '代号': 'YAB'}, {'车站': '秧草地', '代号': 'YKM'}, {'车站': '阳澄湖', '代号': 'AIH'}, {'车站': '迎春', '代号': 'YYB'}, {'车站': '叶城', '代号': 'YER'}, {'车站': '盐池', '代号': 'YKJ'}, {'车站': '砚川', '代号': 'YYY'}, {'车站': '阳春', '代号': 'YQQ'}, {'车站': '宜城', '代号': 'YIN'}, {'车站': '应城', '代号': 'YHN'}, {'车站': '禹城', '代号': 'YCK'}, {'车站': '羊场', '代号': 'YED'}, {'车站': '阳城', '代号': 'YNF'}, {'车站': '阳岔', '代号': 'YAL'}, {'车站': '郓城', '代号': 'YPK'}, {'车站': '雁翅', '代号': 'YAP'}, {'车站': '云彩岭', '代号': 'ACP'}, {'车站': '虞城县', '代号': 'IXH'}, {'车站': '营城子', '代号': 'YCT'}, {'车站': '永登', '代号': 'YDJ'}, {'车站': '英德', '代号': 'YDQ'}, {'车站': '尹地', '代号': 'YDM'}, {'车站': '永定', '代号': 'YGS'}, {'车站': '雁荡山', '代号': 'YGH'}, {'车站': '于都', '代号': 'YDG'}, {'车站': '园墩', '代号': 'YAJ'}, {'车站': '英德西', '代号': 'IIQ'}, {'车站': '永丰营', '代号': 'YYM'}, {'车站': '杨岗', '代号': 'YRB'}, {'车站': '阳高', '代号': 'YOV'}, {'车站': '阳谷', '代号': 'YIK'}, {'车站': '友好', '代号': 'YOB'}, {'车站': '余杭', '代号': 'EVH'}, {'车站': '沿河城', '代号': 'YHP'}, {'车站': '岩会', '代号': 'AEP'}, {'车站': '羊臼河', '代号': 'YHM'}, {'车站': '永嘉', '代号': 'URH'}, {'车站': '营街', '代号': 'YAM'}, {'车站': '盐津', '代号': 'AEW'}, {'车站': '余江', '代号': 'YHG'}, {'车站': '叶集', '代号': 'YCH'}, {'车站': '燕郊', '代号': 'AJP'}, {'车站': '姚家', '代号': 'YAT'}, {'车站': '岳家井', '代号': 'YGJ'}, {'车站': '一间堡', '代号': 'YJT'}, {'车站': '英吉沙', '代号': 'YIR'}, {'车站': '云居寺', '代号': 'AFP'}, {'车站': '燕家庄', '代号': 'AZK'}, {'车站': '永康', '代号': 'RFH'}, {'车站': '营口东', '代号': 'YGT'}, {'车站': '银浪', '代号': 'YJX'}, {'车站': '永郎', '代号': 'YLW'}, {'车站': '宜良北', '代号': 'YSM'}, {'车站': '永乐店', '代号': 'YDY'}, {'车站': '伊拉哈', '代号': 'YLX'}, {'车站': '伊林', '代号': 'YLB'}, {'车站': '杨陵', '代号': 'YSY'}, {'车站': '彝良', '代号': 'ALW'}, {'车站': '杨林', '代号': 'YLM'}, {'车站': '余粮堡', '代号': 'YLD'}, {'车站': '杨柳青', '代号': 'YQP'}, {'车站': '月亮田', '代号': 'YUM'}, {'车站': '亚龙湾', '代号': 'TWQ'}, {'车站': '义马', '代号': 'YMF'}, {'车站': '玉门', '代号': 'YXJ'}, {'车站': '云梦', '代号': 'YMN'}, {'车站': '元谋', '代号': 'YMM'}, {'车站': '阳明堡', '代号': 'YVV'}, {'车站': '一面山', '代号': 'YST'}, {'车站': '沂南', '代号': 'YNK'}, {'车站': '宜耐', '代号': 'YVM'}, {'车站': '伊宁东', '代号': 'YNR'}, {'车站': '营盘水', '代号': 'YZJ'}, {'车站': '羊堡', '代号': 'ABM'}, {'车站': '阳泉北', '代号': 'YPP'}, {'车站': '乐清', '代号': 'UPH'}, {'车站': '焉耆', '代号': 'YSR'}, {'车站': '源迁', '代号': 'AQK'}, {'车站': '姚千户屯', '代号': 'YQT'}, {'车站': '阳曲', '代号': 'YQV'}, {'车站': '榆树沟', '代号': 'YGP'}, {'车站': '月山', '代号': 'YBF'}, {'车站': '玉石', '代号': 'YSJ'}, {'车站': '偃师', '代号': 'YSF'}, {'车站': '沂水', '代号': 'YUK'}, {'车站': '榆社', '代号': 'YSV'}, {'车站': '窑上', '代号': 'ASP'}, {'车站': '元氏', '代号': 'YSP'}, {'车站': '杨树岭', '代号': 'YAD'}, {'车站': '野三坡', '代号': 'AIP'}, {'车站': '榆树屯', '代号': 'YSX'}, {'车站': '榆树台', '代号': 'YUT'}, {'车站': '鹰手营子', '代号': 'YIP'}, {'车站': '源潭', '代号': 'YTQ'}, {'车站': '牙屯堡', '代号': 'YTZ'}, {'车站': '烟筒山', '代号': 'YSL'}, {'车站': '烟筒屯', '代号': 'YUX'}, {'车站': '羊尾哨', '代号': 'YWM'}, {'车站': '越西', '代号': 'YHW'}, {'车站': '攸县', '代号': 'YOG'}, {'车站': '玉溪', '代号': 'YXM'}, {'车站': '永修', '代号': 'ACG'}, {'车站': '弋阳', '代号': 'YIG'}, {'车站': '酉阳', '代号': 'AFW'}, {'车站': '余姚', '代号': 'YYH'}, {'车站': '岳阳东', '代号': 'YIQ'}, {'车站': '阳邑', '代号': 'ARP'}, {'车站': '鸭园', '代号': 'YYL'}, {'车站': '鸳鸯镇', '代号': 'YYJ'}, {'车站': '燕子砭', '代号': 'YZY'}, {'车站': '宜州', '代号': 'YSZ'}, {'车站': '仪征', '代号': 'UZH'}, {'车站': '兖州', '代号': 'YZK'}, {'车站': '迤资', '代号': 'YQM'}, {'车站': '羊者窝', '代号': 'AEM'}, {'车站': '杨杖子', '代号': 'YZD'}, {'车站': '镇安', '代号': 'ZEY'}, {'车站': '治安', '代号': 'ZAD'}, {'车站': '招柏', '代号': 'ZBP'}, {'车站': '张百湾', '代号': 'ZUP'}, {'车站': '枝城', '代号': 'ZCN'}, {'车站': '子长', '代号': 'ZHY'}, {'车站': '诸城', '代号': 'ZQK'}, {'车站': '邹城', '代号': 'ZIK'}, {'车站': '赵城', '代号': 'ZCV'}, {'车站': '章党', '代号': 'ZHT'}, {'车站': '肇东', '代号': 'ZDB'}, {'车站': '照福铺', '代号': 'ZFM'}, {'车站': '章古台', '代号': 'ZGD'}, {'车站': '赵光', '代号': 'ZGB'}, {'车站': '中和', '代号': 'ZHX'}, {'车站': '中华门', '代号': 'VNH'}, {'车站': '枝江北', '代号': 'ZIN'}, {'车站': '钟家村', '代号': 'ZJY'}, {'车站': '朱家沟', '代号': 'ZUB'}, {'车站': '紫荆关', '代号': 'ZYP'}, {'车站': '周家', '代号': 'ZOB'}, {'车站': '诸暨', '代号': 'ZDH'}, {'车站': '镇江南', '代号': 'ZEH'}, {'车站': '周家屯', '代号': 'ZOD'}, {'车站': '褚家湾', '代号': 'CWJ'}, {'车站': '湛江西', '代号': 'ZWQ'}, {'车站': '朱家窑', '代号': 'ZUJ'}, {'车站': '曾家坪子', '代号': 'ZBW'}, {'车站': '张兰', '代号': 'ZLV'}, {'车站': '镇赉', '代号': 'ZLT'}, {'车站': '枣林', '代号': 'ZIV'}, {'车站': '扎鲁特', '代号': 'ZLD'}, {'车站': '扎赉诺尔西', '代号': 'ZXX'}, {'车站': '樟木头', '代号': 'ZOQ'}, {'车站': '中牟', '代号': 'ZGF'}, {'车站': '中宁东', '代号': 'ZDJ'}, {'车站': '中宁', '代号': 'VNJ'}, {'车站': '中宁南', '代号': 'ZNJ'}, {'车站': '镇平', '代号': 'ZPF'}, {'车站': '漳平', '代号': 'ZPS'}, {'车站': '泽普', '代号': 'ZPR'}, {'车站': '枣强', '代号': 'ZVP'}, {'车站': '张桥', '代号': 'ZQY'}, {'车站': '章丘', '代号': 'ZTK'}, {'车站': '朱日和', '代号': 'ZRC'}, {'车站': '泽润里', '代号': 'ZLM'}, {'车站': '中山北', '代号': 'ZGQ'}, {'车站': '樟树东', '代号': 'ZOG'}, {'车站': '中山', '代号': 'ZSQ'}, {'车站': '柞水', '代号': 'ZSY'}, {'车站': '钟山', '代号': 'ZSZ'}, {'车站': '樟树', '代号': 'ZSG'}, {'车站': '珠窝', '代号': 'ZOP'}, {'车站': '张维屯', '代号': 'ZWB'}, {'车站': '彰武', '代号': 'ZWD'}, {'车站': '棕溪', '代号': 'ZOY'}, {'车站': '钟祥', '代号': 'ZTN'}, {'车站': '资溪', '代号': 'ZXS'}, {'车站': '镇西', '代号': 'ZVT'}, {'车站': '张辛', '代号': 'ZIP'}, {'车站': '正镶白旗', '代号': 'ZXC'}, {'车站': '紫阳', '代号': 'ZVY'}, {'车站': '枣阳', '代号': 'ZYN'}, {'车站': '竹园坝', '代号': 'ZAW'}, {'车站': '张掖', '代号': 'ZYJ'}, {'车站': '镇远', '代号': 'ZUW'}, {'车站': '朱杨溪', '代号': 'ZXW'}, {'车站': '漳州东', '代号': 'GOS'}, {'车站': '漳州', '代号': 'ZUS'}, {'车站': '壮志', '代号': 'ZUX'}, {'车站': '子洲', '代号': 'ZZY'}, {'车站': '中寨', '代号': 'ZZM'}, {'车站': '涿州', '代号': 'ZXP'}, {'车站': '咋子', '代号': 'ZAL'}, {'车站': '卓资山', '代号': 'ZZC'}, {'车站': '株洲西', '代号': 'ZAQ'}, {'车站': '安仁', '代号': 'ARG'}, {'车站': '安阳东', '代号': 'ADF'}, {'车站': '栟茶', '代号': 'FWH'}, {'车站': '保定东', '代号': 'BMP'}, {'车站': '滨海', '代号': 'FHP'}, {'车站': '滨海北', '代号': 'FCP'}, {'车站': '宝鸡南', '代号': 'BBY'}, {'车站': '茶陵南', '代号': 'CNG'}, {'车站': '长寿北', '代号': 'COW'}, {'车站': '潮汕', '代号': 'CBQ'}, {'车站': '长兴', '代号': 'CBH'}, {'车站': '长阳', '代号': 'CYN'}, {'车站': '潮阳', '代号': 'CNQ'}, {'车站': '东安东', '代号': 'DCZ'}, {'车站': '东戴河', '代号': 'RDD'}, {'车站': '东二道河', '代号': 'DRB'}, {'车站': '东莞', '代号': 'RTQ'}, {'车站': '大苴', '代号': 'DIM'}, {'车站': '大荔', '代号': 'DNY'}, {'车站': '大青沟', '代号': 'DSD'}, {'车站': '德清', '代号': 'DRH'}, {'车站': '大冶北', '代号': 'DBN'}, {'车站': '定州东', '代号': 'DOP'}, {'车站': '鄂州东', '代号': 'EFN'}, {'车站': '防城港北', '代号': 'FBZ'}, {'车站': '富川', '代号': 'FDZ'}, {'车站': '丰都', '代号': 'FUW'}, {'车站': '涪陵北', '代号': 'FEW'}, {'车站': '抚远', '代号': 'FYB'}, {'车站': '抚州', '代号': 'FZG'}, {'车站': '广安南', '代号': 'VUW'}, {'车站': '高碑店东', '代号': 'GMP'}, {'车站': '葛店南', '代号': 'GNN'}, {'车站': '革居', '代号': 'GEM'}, {'车站': '光明城', '代号': 'IMQ'}, {'车站': '桂平', '代号': 'GAZ'}, {'车站': '广通北', '代号': 'GPM'}, {'车站': '高邑西', '代号': 'GNP'}, {'车站': '鹤壁东', '代号': 'HFF'}, {'车站': '寒葱沟', '代号': 'HKB'}, {'车站': '邯郸东', '代号': 'HPP'}, {'车站': '惠东', '代号': 'KDQ'}, {'车站': '洪洞西', '代号': 'HTV'}, {'车站': '合肥北城', '代号': 'COH'}, {'车站': '黄冈', '代号': 'KGN'}, {'车站': '黄冈东', '代号': 'KAN'}, {'车站': '横沟桥东', '代号': 'HNN'}, {'车站': '黄冈西', '代号': 'KXN'}, {'车站': '洪河', '代号': 'HPB'}, {'车站': '花湖', '代号': 'KHN'}, {'车站': '鲘门', '代号': 'KMQ'}, {'车站': '虎门', '代号': 'IUQ'}, {'车站': '哈密南', '代号': 'HLR'}, {'车站': '侯马西', '代号': 'HPV'}, {'车站': '衡南', '代号': 'HNG'}, {'车站': '淮南东', '代号': 'HOH'}, {'车站': '合浦', '代号': 'HVZ'}, {'车站': '霍邱', '代号': 'FBH'}, {'车站': '怀仁东', '代号': 'HFV'}, {'车站': '华容东', '代号': 'HPN'}, {'车站': '华容南', '代号': 'KRN'}, {'车站': '黄石北', '代号': 'KSN'}, {'车站': '贺胜桥东', '代号': 'HLN'}, {'车站': '花山南', '代号': 'KNN'}, {'车站': '霍州东', '代号': 'HWV'}, {'车站': '惠州南', '代号': 'KNQ'}, {'车站': '军粮城北', '代号': 'JMP'}, {'车站': '将乐', '代号': 'JLS'}, {'车站': '建宁县北', '代号': 'JCS'}, {'车站': '江宁', '代号': 'JJH'}, {'车站': '句容西', '代号': 'JWH'}, {'车站': '建水', '代号': 'JSM'}, {'车站': '界首市', '代号': 'JUN'}, {'车站': '介休东', '代号': 'JDV'}, {'车站': '晋中', '代号': 'JZV'}, {'车站': '库伦', '代号': 'KLD'}, {'车站': '葵潭', '代号': 'KTQ'}, {'车站': '来宾北', '代号': 'UCZ'}, {'车站': '灵璧', '代号': 'GMH'}, {'车站': '离堆公园', '代号': 'INW'}, {'车站': '陆丰', '代号': 'LLQ'}, {'车站': '禄丰南', '代号': 'LQM'}, {'车站': '临汾西', '代号': 'LXV'}, {'车站': '滦河', '代号': 'UDP'}, {'车站': '漯河西', '代号': 'LBN'}, {'车站': '灵石东', '代号': 'UDV'}, {'车站': '龙市', '代号': 'LAG'}, {'车站': '溧水', '代号': 'LDH'}, {'车站': '黎塘西', '代号': 'UKZ'}, {'车站': '溧阳', '代号': 'LEH'}, {'车站': '明港东', '代号': 'MDN'}, {'车站': '玛纳斯', '代号': 'MSR'}, {'车站': '庙山', '代号': 'MSN'}, {'车站': '蒙自北', '代号': 'MBM'}, {'车站': '南城', '代号': 'NDG'}, {'车站': '南昌西', '代号': 'NXG'}, {'车站': '南丰', '代号': 'NFG'}, {'车站': '南湖东', '代号': 'NDN'}, {'车站': '尼木', '代号': 'NMO'}, {'车站': '普安', '代号': 'PAN'}, {'车站': '普宁', '代号': 'PEQ'}, {'车站': '平南南', '代号': 'PAZ'}, {'车站': '平遥古城', '代号': 'PDV'}, {'车站': '彭州', '代号': 'PMW'}, {'车站': '青岛北', '代号': 'QHK'}, {'车站': '祁东', '代号': 'QMQ'}, {'车站': '前锋', '代号': 'QFB'}, {'车站': '岐山', '代号': 'QAY'}, {'车站': '庆盛', '代号': 'QSQ'}, {'车站': '曲水县', '代号': 'QSO'}, {'车站': '祁县东', '代号': 'QGV'}, {'车站': '祁阳', '代号': 'QWQ'}, {'车站': '全州南', '代号': 'QNZ'}, {'车站': '仁布', '代号': 'RUO'}, {'车站': '如东', '代号': 'RIH'}, {'车站': '日喀则', '代号': 'RKO'}, {'车站': '饶平', '代号': 'RVQ'}, {'车站': '泗洪', '代号': 'GQH'}, {'车站': '三明北', '代号': 'SHS'}, {'车站': '山坡东', '代号': 'SBN'}, {'车站': '沈丘', '代号': 'SQN'}, {'车站': '汕尾', '代号': 'OGQ'}, {'车站': '绍兴北', '代号': 'SLH'}, {'车站': '泗县', '代号': 'GPH'}, {'车站': '泗阳', '代号': 'MPH'}, {'车站': '上虞北', '代号': 'SSH'}, {'车站': '山阴', '代号': 'SNV'}, {'车站': '深圳北', '代号': 'IOQ'}, {'车站': '神州', '代号': 'SRQ'}, {'车站': '深圳坪山', '代号': 'IFQ'}, {'车站': '石嘴山', '代号': 'QQJ'}, {'车站': '石柱县', '代号': 'OSW'}, {'车站': '土地堂东', '代号': 'TTN'}, {'车站': '太谷西', '代号': 'TIV'}, {'车站': '通海', '代号': 'TAM'}, {'车站': '通化县', '代号': 'TXL'}, {'车站': '泰宁', '代号': 'TNS'}, {'车站': '汤逊湖', '代号': 'THN'}, {'车站': '藤县', '代号': 'TAZ'}, {'车站': '太原南', '代号': 'TNV'}, {'车站': '乌龙泉南', '代号': 'WFN'}, {'车站': '五女山', '代号': 'WET'}, {'车站': '瓦屋山', '代号': 'WAH'}, {'车站': '闻喜西', '代号': 'WOV'}, {'车站': '梧州南', '代号': 'WBZ'}, {'车站': '兴安北', '代号': 'XDZ'}, {'车站': '许昌东', '代号': 'XVF'}, {'车站': '项城', '代号': 'ERN'}, {'车站': '西丰', '代号': 'XFT'}, {'车站': '襄汾西', '代号': 'XTV'}, {'车站': '孝感北', '代号': 'XJN'}, {'车站': '咸宁东', '代号': 'XKN'}, {'车站': '咸宁南', '代号': 'UNN'}, {'车站': '协荣', '代号': 'ROO'}, {'车站': '邢台东', '代号': 'EDP'}, {'车站': '新乡东', '代号': 'EGF'}, {'车站': '西阳村', '代号': 'XQF'}, {'车站': '信阳东', '代号': 'OYN'}, {'车站': '咸阳秦都', '代号': 'XOY'}, {'车站': '迎宾路', '代号': 'YFW'}, {'车站': '运城北', '代号': 'ABV'}, {'车站': '岳池', '代号': 'AWW'}, {'车站': '永福南', '代号': 'YBZ'}, {'车站': '雨格', '代号': 'VTM'}, {'车站': '洋河', '代号': 'GTH'}, {'车站': '永济北', '代号': 'AJV'}, {'车站': '炎陵', '代号': 'YAG'}, {'车站': '杨陵南', '代号': 'YEY'}, {'车站': '永泰', '代号': 'YTS'}, {'车站': '尤溪', '代号': 'YXS'}, {'车站': '云霄', '代号': 'YBS'}, {'车站': '宜兴', '代号': 'YUH'}, {'车站': '应县', '代号': 'YZV'}, {'车站': '攸县南', '代号': 'YXG'}, {'车站': '余姚北', '代号': 'CTH'}, {'车站': '诏安', '代号': 'ZDS'}, {'车站': '正定机场', '代号': 'ZHP'}, {'车站': '纸坊东', '代号': 'ZMN'}, {'车站': '织金', '代号': 'IZW'}, {'车站': '左岭', '代号': 'ZSN'}, {'车站': '驻马店西', '代号': 'ZLN'}, {'车站': '漳浦', '代号': 'ZCS'}, {'车站': '庄桥', '代号': 'ZQH'}, {'车站': '涿州东', '代号': 'ZAP'}, {'车站': '卓资东', '代号': 'ZDC'}, {'车站': '郑州东', '代号': 'ZAF'}]\n"
     ]
    }
   ],
   "source": [
    "import json,csv\n",
    "\n",
    "with open(r'F:\\Programming\\02.Python-learn-programming\\6_Python3_Web_Crawler_Development_Practice\\test_project\\res\\json\\city.json','r',encoding='utf-8') as sf:\n",
    "    # 读取文件\n",
    "    sf_content = sf.read()\n",
    "    print(type(sf_content))\n",
    "    # 将文件内容转换为json以便使用keys,values取出内容\n",
    "    dict_json = json.loads(sf_content)\n",
    "    print((dict_json))\n",
    "    ans = []\n",
    "    for i,j in zip(dict_json.keys(),dict_json.values()):\n",
    "        mid = {}\n",
    "        mid['车站'] = i\n",
    "        mid['代号'] = j\n",
    "        ans.append(mid)\n",
    "    print(ans)\n",
    "    header = ('车站','代号')\n",
    "    with open(r'F:\\Programming\\02.Python-learn-programming\\6_Python3_Web_Crawler_Development_Practice\\test_project\\res\\csv\\city.csv','a',encoding='utf-8',newline='') as cf:\n",
    "        writer = csv.DictWriter(cf,fieldnames=header)\n",
    "        # header必须是待写入字典的keys\n",
    "        writer.writeheader()\n",
    "        writer.writerows(ans)\n"
   ]
  },
  {
   "cell_type": "code",
   "execution_count": null,
   "metadata": {},
   "outputs": [],
   "source": []
  },
  {
   "cell_type": "code",
   "execution_count": null,
   "metadata": {},
   "outputs": [],
   "source": []
  }
 ],
 "metadata": {
  "kernelspec": {
   "display_name": "base",
   "language": "python",
   "name": "python3"
  },
  "language_info": {
   "codemirror_mode": {
    "name": "ipython",
    "version": 3
   },
   "file_extension": ".py",
   "mimetype": "text/x-python",
   "name": "python",
   "nbconvert_exporter": "python",
   "pygments_lexer": "ipython3",
   "version": "3.7.13"
  },
  "orig_nbformat": 4
 },
 "nbformat": 4,
 "nbformat_minor": 2
}
