{
 "cells": [
  {
   "cell_type": "markdown",
   "metadata": {},
   "source": [
    "# 第5章 数据存储　"
   ]
  },
  {
   "cell_type": "markdown",
   "metadata": {},
   "source": [
    "## 5.1 文件存储　"
   ]
  },
  {
   "cell_type": "markdown",
   "metadata": {},
   "source": [
    "### 5.1.1 TXT文本存储　"
   ]
  },
  {
   "cell_type": "code",
   "execution_count": 23,
   "metadata": {},
   "outputs": [
    {
     "name": "stdout",
     "output_type": "stream",
     "text": [
      "DONE\n"
     ]
    }
   ],
   "source": [
    "import requests\n",
    "from bs4 import BeautifulSoup as bs\n",
    "import time\n",
    "\n",
    "url = 'https://www.zhihu.com/hot'\n",
    "headers = {\n",
    "    'Cookie':'_zap=df26b309-2bce-45b5-aa53-99b498859024; d_c0=AHBY7TJknRWPTkzKXOjnQmWFGo5_fn10hqI=|1664119611; _9755xjdesxxd_=32; YD00517437729195%3AWM_TID=OOpT8FpDuoxBBFUBEQJ7tJDUunUh5QD6; YD00517437729195%3AWM_NI=vOBl%2B%2F4pAHjxdkuEjRhNfZSJuSQSgJjIFjY%2Bk4QTgKGRAVhEzv5A1Jr4gxkH7vM8JFNDKZ6Tf%2FAClB6UVq25PIJ2liRFSWKkUO7UfJM7C0%2BBD9SRar9kugsFuj%2FosfRQSXY%3D; YD00517437729195%3AWM_NIKE=9ca17ae2e6ffcda170e2e6eeb2f7489bf5feb7e67abab48bb2c14b969b8bacd559f79689adbb3daa9ff8d5e92af0fea7c3b92ab6918e8daa25f8b08fa9e974a8b5bba6e95aac92aabbd242b78d9fb4e642aa978a8bdc21a9ec9fb5e641858e8fb7eb4fbaaafba2b442b2eca999ea44f5aa83d9c94e8e9c85bbb560a6f18fa4ef4af68b9a92b13f949786d3ef63929a9db8ca619791f9b6e5428fe98dd1aa4a88e79db3e47afbb5bb88f24eb7b6e190f26e928f9db9dc37e2a3; gdxidpyhxdE=Y2Y5AHObvd6q%2B0%5CVAm%2F%2FE%5CVu4%5CLu44QQWEyOzElXWBU%2FB0q1oNMB4rAmbgAtTWBC8WcxkjQjiDdZQzJYS4wVBLkx64RfAneB%2BaIxHGarfDVHtv8tjYiIYICMiXxwRVx%5C26l94xHsLdzju3ep4wKdSbsS%5CuQJY2t23DAHqPTw4kb47GII%3A1664634729951; q_c1=9cc44556f8f74ab596e5e316c4b38113|1679382530000|1679382530000; z_c0=2|1:0|10:1694855931|4:z_c0|80:MS4xdHNOUkJnQUFBQUFtQUFBQVlBSlZUYmtNNjJYNTFOLVQ3RlFtbGpxdG5CRHgtQ2tzWHlYYUNBPT0=|4e2bdadc3ff93b84811b7f32c93264a949c0de0895319f53b2babe6e0edc260b; _xsrf=eba5d7df-bb5d-4f6a-a726-0948404add76; Hm_lvt_98beee57fd2ef70ccdd5ca52b9740c49=1694875963,1694933946,1694953072,1695019411; tst=r; SESSIONID=bXpVTV3Z0Y57rT6TgVvSA98m99GzHRXoffTob8LyZtd; JOID=V10dBUpDIgVenlT6d0BmmBcqBxxpIXd7D84CxCN3ez1n6wTMLtjQCziaWfl-yG_0nkm4DvD2tWhYNBhWd-w7mIo=; osd=W1sTCk1PJAtRmVj8eU9hlBEkCBtlJ3l0CMIEyixwdztp5APAKNbfDDScV_Z5xGn6kU60CP75smReOhdRe-o1l40=; Hm_lpvt_98beee57fd2ef70ccdd5ca52b9740c49=1695019435; KLBRSID=d017ffedd50a8c265f0e648afe355952|1695019436|1695019409',\n",
    "    'User-Agent':'Mozilla/5.0 (Windows NT 10.0; Win64; x64) AppleWebKit/537.36 (KHTML, like Gecko) Chrome/117.0.0.0 Safari/537.36'\n",
    "}\n",
    "\n",
    "response = requests.get(url,headers=headers)\n",
    "resSoup = bs(response.text,features='lxml')\n",
    "titleElems = resSoup.select('#TopstoryContent > div > div.Topstory-hot.HotList.css-1x36n8t > div.HotList-list > section > div.HotItem-content > a > h2')\n",
    "answerElems = resSoup.select('#TopstoryContent > div > div.Topstory-hot.HotList.css-1x36n8t > div.HotList-list > section > div.HotItem-content > a > p')\n",
    "for i, title, answer in zip(range(1,len(titleElems)),titleElems,answerElems):\n",
    "    titleContent = title.getText()\n",
    "    resContent = answer.getText()\n",
    "    with open(r'F:\\Programming\\02.Python-learn-programming\\6_ Python3_Web_Crawler_Development_Practice\\Chapter_5_Data_Storage\\resfile\\zhihuhot.txt', 'a', encoding='utf-8') as f:\n",
    "        f.write(''.join(['num:',str(i),'\\n','question:',titleContent,'\\n','answer:',resContent,'\\n']))\n",
    "print('DONE')"
   ]
  },
  {
   "cell_type": "markdown",
   "metadata": {},
   "source": [
    "### 5.1.2 JSON文件存储　"
   ]
  },
  {
   "cell_type": "code",
   "execution_count": 26,
   "metadata": {},
   "outputs": [
    {
     "name": "stdout",
     "output_type": "stream",
     "text": [
      "<class 'str'>\n",
      "[{'name': 'Bob', 'gender': 'male', 'birthday': '1992-10-18'}, {'name': 'Selina', 'gender': 'female', 'birthday': '1995-10-18'}]\n",
      "<class 'list'>\n"
     ]
    }
   ],
   "source": [
    "import json\n",
    "str_1 ='''\n",
    "[{\n",
    "\"name\":\"Bob\",\n",
    "\"gender\":\"male\",\n",
    "\"birthday\":\"1992-10-18\"\n",
    "},{\n",
    "\"name\":\"Selina\",\n",
    "\"gender\":\"female\",\n",
    "\"birthday\":\"1995-10-18\"\n",
    "}]'''\n",
    "print(type(str_1))\n",
    "data = json.loads(str_1)\n",
    "print(data)\n",
    "print(type(data))\n"
   ]
  },
  {
   "cell_type": "markdown",
   "metadata": {},
   "source": [
    "> 读取json"
   ]
  },
  {
   "cell_type": "code",
   "execution_count": 29,
   "metadata": {},
   "outputs": [
    {
     "name": "stdout",
     "output_type": "stream",
     "text": [
      "None\n",
      "25\n"
     ]
    }
   ],
   "source": [
    "print(data[0].get('age'))\n",
    "print(data[0].get('age',25))\n",
    "# .get方法的第二参数是如果没有第一个参数的key设置的默认值"
   ]
  },
  {
   "cell_type": "code",
   "execution_count": 32,
   "metadata": {},
   "outputs": [
    {
     "name": "stdout",
     "output_type": "stream",
     "text": [
      "[{'name': 'Bob', 'gender': 'male', 'birthday': '1992-10-18'}, {'name': 'Selina', 'gender': 'female', 'birthday': '1995-10-18'}]\n"
     ]
    }
   ],
   "source": [
    "import json\n",
    "\n",
    "with open(r\".\\resfile\\data.json\",'r') as f:\n",
    "    str_1 = f.read()\n",
    "    data = json.loads(str_1)\n",
    "    print(data)"
   ]
  },
  {
   "cell_type": "markdown",
   "metadata": {},
   "source": [
    "> 3. 输出JSON"
   ]
  },
  {
   "cell_type": "code",
   "execution_count": 34,
   "metadata": {},
   "outputs": [],
   "source": [
    "import json\n",
    "\n",
    "data ='''\n",
    "[{\n",
    "\"name\":\"Bob\",\n",
    "\"gender\":\"male\",\n",
    "\"birthday\":\"1992-10-18\"\n",
    "},{\n",
    "\"name\":\"Selina\",\n",
    "\"gender\":\"female\",\n",
    "\"birthday\":\"1995-10-18\"\n",
    "}]'''\n",
    "\n",
    "with open(r\".\\resfile\\data.json\",'w') as f:\n",
    "    f.write(json.dumps(data,indent=2))\n",
    "    # indent=2 加上两个字符的缩进"
   ]
  },
  {
   "cell_type": "markdown",
   "metadata": {},
   "source": [
    "### 5.1.3 CSV文件存储　"
   ]
  },
  {
   "cell_type": "markdown",
   "metadata": {},
   "source": [
    "> 1. 写入"
   ]
  },
  {
   "cell_type": "code",
   "execution_count": 40,
   "metadata": {},
   "outputs": [],
   "source": [
    "import csv\n",
    "\n",
    "with open(r\".\\resfile\\data.csv\",'w',newline='') as f:\n",
    "    # 如果不加newline=''则写入的每一行中间都有一个空行\n",
    "    writer = csv.writer(f)\n",
    "    writer.writerow(['id','name','age'])\n",
    "    writer.writerow(['10001','mike',20])\n",
    "    writer.writerow(['10002','bob',22])"
   ]
  },
  {
   "cell_type": "markdown",
   "metadata": {},
   "source": [
    "> CSV 库中提供的字典写入方式"
   ]
  },
  {
   "cell_type": "code",
   "execution_count": 38,
   "metadata": {},
   "outputs": [],
   "source": [
    "import csv\n",
    "\n",
    "with open(r\".\\resfile\\data.csv\",'w',newline='') as f:\n",
    "    fieldnames = ['id','name','age']\n",
    "    writer = csv.DictWriter(f,fieldnames=fieldnames)\n",
    "    writer.writeheader()\n",
    "    writer.writerow({'id':'10001','name':'mike','age':20})\n",
    "    writer.writerow({'id':'10002','name':'bob','age':22})\n"
   ]
  },
  {
   "cell_type": "markdown",
   "metadata": {},
   "source": [
    "> 2. 读取"
   ]
  },
  {
   "cell_type": "code",
   "execution_count": 41,
   "metadata": {},
   "outputs": [
    {
     "name": "stdout",
     "output_type": "stream",
     "text": [
      "['id', 'name', 'age']\n",
      "['10001', 'mike', '20']\n",
      "['10002', 'bob', '22']\n"
     ]
    }
   ],
   "source": [
    "import csv\n",
    "\n",
    "with open(r\".\\resfile\\data.csv\",'r',encoding='utf-8') as csv_f:\n",
    "    reader = csv.reader(csv_f)\n",
    "    for row in reader:\n",
    "        print(row)"
   ]
  },
  {
   "cell_type": "markdown",
   "metadata": {},
   "source": [
    "> 用pandas读取csv文件"
   ]
  },
  {
   "cell_type": "code",
   "execution_count": 42,
   "metadata": {},
   "outputs": [
    {
     "name": "stdout",
     "output_type": "stream",
     "text": [
      "      id  name  age\n",
      "0  10001  mike   20\n",
      "1  10002   bob   22\n"
     ]
    }
   ],
   "source": [
    "import pandas as pd\n",
    "\n",
    "df = pd.read_csv(r\".\\resfile\\data.csv\")\n",
    "print(df)\n"
   ]
  },
  {
   "cell_type": "markdown",
   "metadata": {},
   "source": [
    "## 5.2 关系型数据库存储　"
   ]
  },
  {
   "cell_type": "markdown",
   "metadata": {},
   "source": [
    "### MySQL代码操作\n"
   ]
  },
  {
   "cell_type": "code",
   "execution_count": 44,
   "metadata": {},
   "outputs": [
    {
     "name": "stdout",
     "output_type": "stream",
     "text": [
      "(('information_schema',), ('mysql',), ('performance_schema',), ('spiders',), ('sys',), ('testdb',))\n"
     ]
    }
   ],
   "source": [
    "import pymysql\n",
    "\n",
    "# 连接MySQL\n",
    "conn = pymysql.connect(host='localhost',user='root',password='12345678',port=3306,charset='utf8')\n",
    "# 实例化游标，就是命令行命令的输入端口\n",
    "cursor = conn.cursor()\n",
    "\n",
    "# 1. 创建数据库\n",
    "sql = ''' \n",
    "create database testdb DEFAULT CHARSET utf8 COLLATE  utf8_general_ci\n",
    "'''\n",
    "cursor.execute(sql)\n",
    "conn.commit()\n",
    "sql = 'show databases'\n",
    "cursor.execute(sql)\n",
    "result = cursor.fetchall()\n",
    "print(result)"
   ]
  },
  {
   "cell_type": "code",
   "execution_count": 45,
   "metadata": {},
   "outputs": [
    {
     "name": "stdout",
     "output_type": "stream",
     "text": [
      "()\n"
     ]
    }
   ],
   "source": [
    "# 2. 进入数据库，查看数据表\n",
    "sql = 'use testdb'\n",
    "cursor.execute(sql)\n",
    "sql = 'show tables'\n",
    "cursor.execute(sql)\n",
    "result = cursor.fetchall()\n",
    "print(result)"
   ]
  },
  {
   "cell_type": "code",
   "execution_count": 46,
   "metadata": {},
   "outputs": [
    {
     "name": "stdout",
     "output_type": "stream",
     "text": [
      "(('test1',),)\n"
     ]
    }
   ],
   "source": [
    "# 3. 进入数据库创建表\n",
    "sql = 'use testdb'\n",
    "cursor.execute(sql)\n",
    "sql = ''' \n",
    "create table test1(\n",
    "id int not null primary key auto_increment,\n",
    "title varchar(128),\n",
    "content text,\n",
    "ctime datetime\n",
    ")default charset=utf8;\n",
    "'''\n",
    "cursor.execute(sql)\n",
    "conn.commit()\n",
    "\n",
    "# 4. 查看数据库中的表\n",
    "sql = 'show tables'\n",
    "cursor.execute(sql)\n",
    "result = cursor.fetchall()\n",
    "print(result)\n",
    "\n",
    "\n",
    "cursor.close()\n",
    "conn.close()\n"
   ]
  },
  {
   "cell_type": "markdown",
   "metadata": {},
   "source": [
    "> 创建表"
   ]
  },
  {
   "cell_type": "code",
   "execution_count": null,
   "metadata": {},
   "outputs": [],
   "source": [
    "import pymysql\n",
    "\n",
    "# 连接MySQL\n",
    "conn = pymysql.connect(host='localhost',user='root',password='12345678',port=3306,charset='utf8')\n",
    "# 实例化游标，就是命令行命令的输入端口\n",
    "cursor = conn.cursor()\n",
    "\n",
    "# 1. 创建数据库\n",
    "sql = ''' \n",
    "create database testdb DEFAULT CHARSET utf8 COLLATE  utf8_general_ci\n",
    "'''\n",
    "cursor.execute(sql)\n",
    "conn.commit()\n",
    "cursor.execute(sql)\n",
    "\n",
    "# 2. 创建表\n",
    "sql = ''' \n",
    "create table test1(\n",
    "id int not null primary key auto_increment,\n",
    "title varchar(128),\n",
    "content text,\n",
    "ctime datetime\n",
    ")default charset=utf8;\n",
    "'''\n",
    "cursor.execute(sql)\n",
    "conn.commit()\n",
    "\n",
    "cursor.close()\n",
    "conn.close()"
   ]
  },
  {
   "cell_type": "markdown",
   "metadata": {},
   "source": [
    "> 上述命令有一个问题就是如果更新的数据发生了变化，即还有一个数据需要更改则很麻烦，因此可以将需要更改的信息存储到一个变量中，每次更改只需更改该变量即可，代码如下"
   ]
  },
  {
   "cell_type": "markdown",
   "metadata": {},
   "source": [
    "## 数据行-python操作和应用实例"
   ]
  },
  {
   "cell_type": "code",
   "execution_count": 47,
   "metadata": {},
   "outputs": [
    {
     "name": "stdout",
     "output_type": "stream",
     "text": [
      "[]\n",
      "[]\n",
      "[]\n",
      "((2, '罗非鱼', '21138'), (3, '金枪鱼', '21318'))\n"
     ]
    }
   ],
   "source": [
    "import pymysql\n",
    "\n",
    "# 连接MySQL，自动执行use usedb; 进入数据库\n",
    "conn = pymysql.connect(host='localhost', port=3306, user='root', password='12345678', charset='utf8', db='testdb')\n",
    "cursor = conn.cursor()\n",
    "\n",
    "# 1. 新增数据\n",
    "sql = 'insert into usedb(name,password) values(\"沙丁鱼\",\"12138\"),(\"罗非鱼\",\"21138\"),(\"金枪鱼\",\"21318\")'\n",
    "cursor.execute(sql)\n",
    "conn.commit()\n",
    "sql = 'desc usedb'\n",
    "data = cursor.fetchall()\n",
    "print(data)\n",
    "\n",
    "# 2. 修改数据\n",
    "sql = 'update usedb set name = \"xx\" where id = 1'\n",
    "cursor.execute(sql)\n",
    "conn.commit()\n",
    "sql = 'desc usedb'\n",
    "data = cursor.fetchall()\n",
    "print(data)\n",
    "\n",
    "# 3. 删除数据\n",
    "sql = 'delete from usedb where id = 1'\n",
    "cursor.execute(sql)\n",
    "conn.commit()\n",
    "sql = 'desc usedb'\n",
    "data = cursor.fetchall()\n",
    "print(data)\n",
    "\n",
    "# 4. 查询\n",
    "sql = 'select * from usedb where id > 1'\n",
    "cursor.execute(sql)\n",
    "conn.commit()\n",
    "sql = 'desc usedb'\n",
    "data = cursor.fetchall()\n",
    "print(data)\n",
    "\n",
    "# 关闭连接\n",
    "cursor.close()\n",
    "conn.close()"
   ]
  },
  {
   "cell_type": "markdown",
   "metadata": {},
   "source": [
    "## 实现一个用户管理系统\n",
    "编写一个程序实现注册，登录等功能"
   ]
  },
  {
   "cell_type": "code",
   "execution_count": 56,
   "metadata": {},
   "outputs": [
    {
     "name": "stdout",
     "output_type": "stream",
     "text": [
      "用户登录\n",
      "登录成功 (2, '罗非鱼', '21138')\n"
     ]
    }
   ],
   "source": [
    "import pymysql\n",
    "\n",
    "def register():\n",
    "    print('用户注册')\n",
    "\n",
    "    user = input('请输入用户名:')\n",
    "    password = input('请输入密码:')\n",
    "\n",
    "    # 连接到指定数据\n",
    "    conn = pymysql.connect(host='localhost', port=3306, user='root', password='12345678', charset='utf8', db='testdb')\n",
    "    cursor = conn.cursor()\n",
    "\n",
    "    # 执行SQL语句，实现新增操作\n",
    "    sql = \"insert into userdb (name,password) values('{}','{}')\".format(user,password)\n",
    "    cursor.execute(sql)\n",
    "    conn.commit()\n",
    "\n",
    "    # 关闭数据连接\n",
    "    cursor.close()\n",
    "    conn.close()\n",
    "\n",
    "    print(f'注册成功，用户名{user}，密码{password}')\n",
    "\n",
    "def login():\n",
    "    print('用户登录')\n",
    "\n",
    "    user = input('请输入用户名:')\n",
    "    password = str(input('请输入密码:'))\n",
    "\n",
    "    # 连接到指定数据\n",
    "    conn = pymysql.connect(host='localhost', port=3306, user='root', password='12345678', charset='utf8', db='testdb')\n",
    "    cursor = conn.cursor()\n",
    "\n",
    "    # 执行SQL语句，实现查询操作\n",
    "    sql = f'select * from userdb where name = \"{user}\" and password = \"{password}\"'\n",
    "    cursor.execute(sql)\n",
    "\n",
    "    result = cursor.fetchone()\n",
    "    # 此时的fetchone操作的结果为如果有返回结果，如果无返回none\n",
    "\n",
    "    # 关闭数据连接\n",
    "    cursor.close()\n",
    "    conn.close()\n",
    "\n",
    "    if result:\n",
    "        print('登录成功',result)\n",
    "    else:\n",
    "        print('登录失败')\n",
    "\n",
    "def main():\n",
    "    choice = input('1.注册;2.登录')\n",
    "    if choice == '1':\n",
    "        register()\n",
    "    elif choice == '2':\n",
    "        login()\n",
    "    else:\n",
    "        print('输入错误')\n",
    "\n",
    "if __name__ == \"__main__\":\n",
    "    main()"
   ]
  },
  {
   "cell_type": "code",
   "execution_count": 55,
   "metadata": {},
   "outputs": [
    {
     "name": "stdout",
     "output_type": "stream",
     "text": [
      "<class 'dict'>\n",
      "用力过猛的结果大概是都会搞砸的 ​​​\n",
      "如果避免了伤痛\n",
      "也就失去了欢喜 ​​​\n",
      "全民四驱精致悦野SUV探索06全球上市，11.69万元起！两驱价格买四驱，两驱油耗玩四驱，全民轻松开四驱。全球五星安全标准，更安全；四驱7.48L超低油耗，更节能；7种四驱驾驶模式，乐趣多。购车立享6重探索礼！ http://t.cn/A6OIcn0b ​​​\n",
      "薛之谦\n",
      "你很值得 很值得[爱你][爱你] ​​​\n",
      "【#午休躺平你羡慕了吗# 学生直呼：“躺平”太爽啦！】近日，贵州观山湖区。贵阳市第一实验中学金茂校区分别给学生和老师午休配备了午休椅和午休床，让学生可以半躺或躺平午休，老师们可以在午休时将伸缩床从柜子里拉出，实现午休自由，下午授课精力效率也会更佳。“躺平”的午休，你觉得怎么样？今天 ​​​\n",
      "咦  浦东图书馆的厕所蹲着可真舒服啊[污][污] ​​​\n",
      "【媒体：#喝一杯酱香拿铁或赚9元#】瑞幸酱香拿铁引发热议。一杯“酱香拿铁”究竟含有多少毫升茅台酒？喝一杯瑞幸“酱香拿铁”，能薅到羊毛吗？#瑞幸门店回应咖啡机炸了#  #瑞幸今年已联名12次#\n",
      "\n",
      "据瑞幸咖啡介绍，“酱香拿铁”使用白酒风味厚奶，含53度贵州茅台酒，但该饮品的酒精度低于0.5%。根据450ml ​​​\n",
      "那一下  啊啊啊啊啊\n",
      "神图 ​​​\n",
      "#薛之谦[超话]#\n",
      "\n",
      "下巴蹭话筒 话筒当笛吹 嘴唇靠近贴着唱\n",
      "特别绝的一段 陪你去流浪[你好]\n",
      "\n",
      "230902沈阳#薛之谦天外来物巡回演唱会# http://t.cn/A6Ot413P ​​​\n",
      "哪有什么无条件的爱呢\n",
      "哪怕微小的付出都是需要以后的回报去交换的\n",
      "别真的憨憨了好吗\n",
      "[微笑] ​​​\n",
      "#披荆斩棘全员组团出招#来大活了，带一些分身来打团！#披荆斩棘# http://t.cn/A60DHEZN ​​​\n",
      "慢慢来吧\n",
      "毕竟\n",
      "我也不差 ​​​\n",
      "#薛之谦音乐节#\n",
      "joker face、演唱会承诺、话筒架生锈 \n",
      "230820 新疆  平行时空音乐嘉年华 talk片段\n",
      "@薛之谦 http://t.cn/A6OhPLHq ​​​\n",
      "世间好多遗憾[单身狗]\n",
      "#薛之谦[超话]#在北京唱小北京[哇]#薛之谦北京演唱会# http://t.cn/A60uDYyB ​​​\n",
      "体温和涨幅一样向上狂飙呐～\n",
      "[允悲][允悲] ​​​\n",
      "手机壳每天都在上演我的精神状态[喵喵]#手机壳好像在演我本人# ​​​\n",
      "陈老师:也不是很复杂[awsl][awsl]\n",
      "       我: ……[裂开][裂开] ​​​\n",
      "如何平衡好 工作、生活、考证、追⭐啊……\n",
      "\n",
      "先是尽力生存\n",
      "再是放松活着\n",
      "连带被卷提升\n",
      "后是放飞快乐\n",
      "\n",
      "可是最喜欢的就是快乐啊\n",
      "救命命啊……\n",
      "\n",
      "[单身狗][单身狗] ​​​\n",
      "一天的工作量……\n",
      "抵得上一周了……\n",
      "\n",
      "我们还算厉害……\n",
      "抗住了压力呐……\n",
      "\n",
      "坐等下班啦……[awsl][awsl] ​​​\n",
      "那浅浅记录一下叭[彩虹屁][彩虹屁]\n",
      "是特种兵的三天呐\n",
      "这些都发生在下班后的\n",
      "7.17--看房只看一套马上签约（真的不错）\n",
      "7.18--极限五小时打包行李\n",
      "7.19--搬家归置入住\n",
      "\n",
      "呼～终于摆脱那个狭小的房间了\n",
      "呼～可以幻想剩下的空间怎么利用了\n",
      "呼～如果让鲜花开满阳台好似不错\n",
      "\n",
      "但愿我很优雅\n",
      "在新的地方开新的花 ​​​\n",
      "你说这是你的回礼\n",
      "你说这是五年前写的\n",
      "那时候是被全网黑的最深的时候\n",
      "我真的很抱歉没有对阵那些万箭\n",
      "那时一直挂在我床边桌边的海报\n",
      "我只是用它们默默宣念我相信你\n",
      "你就是最真诚的你[泪][泪]\n",
      "\n",
      "那些为你做了很多的谦友\n",
      "我们一样\n",
      "听见这首歌没有不哭的吧[泪][泪]\n",
      "\n",
      "你问你算不算丢脸\n",
      "可你一直是我们的榜样 ​​​\n",
      "见字……如面……[泪][泪]\n",
      "衡阳政府你真好有爱！！！[爱你][爱你][彩虹屁][彩虹屁][蛋糕][蛋糕]\n",
      "他的爱真的超级拿得出手[抱一抱][抱一抱]\n",
      "分享单曲 http://t.cn/A602yUOw (@网易云音乐) \n",
      "相较于2017\n",
      "2023的我阅历算是有了些浅薄的增长\n",
      "在这个微微增量的基础上\n",
      "回头听毛毛的这首歌\n",
      "尤其最后两句\n",
      "\"如果你个人不是很想当巨星\n",
      "想当什么都可以🎶\"\n",
      "\n",
      "好似释怀\n",
      "实则宽慰吧…… ​​​\n",
      "是谁在看2017年的明日之子还会想哭啊……\n",
      "\n",
      "我的眼泪真的不值钱……[苦涩][苦涩] ​​​\n"
     ]
    }
   ],
   "source": [
    "import json\n",
    "with open(r'.\\resfile\\weibo.json','r',encoding='utf-8') as f:\n",
    "    text = json.load(f)\n",
    "    print(type(text))\n",
    "    # print(text)\n",
    "    list_text = text.get('data').get('list')\n",
    "    for i in list_text:\n",
    "        print(i.get('text_raw'))"
   ]
  },
  {
   "cell_type": "markdown",
   "metadata": {},
   "source": []
  }
 ],
 "metadata": {
  "kernelspec": {
   "display_name": "base",
   "language": "python",
   "name": "python3"
  },
  "language_info": {
   "codemirror_mode": {
    "name": "ipython",
    "version": 3
   },
   "file_extension": ".py",
   "mimetype": "text/x-python",
   "name": "python",
   "nbconvert_exporter": "python",
   "pygments_lexer": "ipython3",
   "version": "3.7.13"
  },
  "orig_nbformat": 4
 },
 "nbformat": 4,
 "nbformat_minor": 2
}
