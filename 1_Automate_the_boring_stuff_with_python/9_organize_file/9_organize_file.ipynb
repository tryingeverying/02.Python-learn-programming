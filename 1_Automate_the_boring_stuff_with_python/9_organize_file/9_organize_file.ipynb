{
 "cells": [
  {
   "cell_type": "markdown",
   "metadata": {},
   "source": [
    "## 第9章　组织文件"
   ]
  },
  {
   "cell_type": "markdown",
   "metadata": {},
   "source": [
    "### 9.1 shutil模块"
   ]
  },
  {
   "attachments": {},
   "cell_type": "markdown",
   "metadata": {},
   "source": [
    "#### 复制文件和文件夹"
   ]
  },
  {
   "cell_type": "code",
   "execution_count": 4,
   "metadata": {},
   "outputs": [
    {
     "data": {
      "text/plain": [
       "'.\\\\testFile\\\\poem.txt'"
      ]
     },
     "execution_count": 4,
     "metadata": {},
     "output_type": "execute_result"
    }
   ],
   "source": [
    "import shutil\n",
    "\n",
    "shutil.copy(r\"..\\8_read_write_file\\test_file\\poem.txt\",r\".\\testFile\")\n",
    "# shutil.copy(source, destination)，\n",
    "# 将路径source处的文件复制到路径destination处的文件夹\n",
    "# （source和destination都是字符串）"
   ]
  },
  {
   "cell_type": "code",
   "execution_count": 15,
   "metadata": {},
   "outputs": [
    {
     "data": {
      "text/plain": [
       "'.\\\\testFile'"
      ]
     },
     "execution_count": 15,
     "metadata": {},
     "output_type": "execute_result"
    }
   ],
   "source": [
    "shutil.copytree(r\"..\\8_read_write_file\\test_file\",r\".\\testFile\")\n",
    "\n",
    "# shutil.copytree()将复制整个文件夹，\n",
    "# 以及它包含的文件夹和文件。"
   ]
  },
  {
   "cell_type": "code",
   "execution_count": 11,
   "metadata": {},
   "outputs": [
    {
     "data": {
      "text/plain": [
       "'f:\\\\Programming\\\\02.Python-learn-programming\\\\1_Automate_the_boring_stuff_with_python\\\\9_organize_file'"
      ]
     },
     "execution_count": 11,
     "metadata": {},
     "output_type": "execute_result"
    }
   ],
   "source": [
    "import os\n",
    "os.getcwd()"
   ]
  },
  {
   "attachments": {},
   "cell_type": "markdown",
   "metadata": {},
   "source": [
    "#### 文件和文件夹的移动与改名"
   ]
  },
  {
   "cell_type": "code",
   "execution_count": 16,
   "metadata": {},
   "outputs": [
    {
     "data": {
      "text/plain": [
       "'.\\\\bacon.txt'"
      ]
     },
     "execution_count": 16,
     "metadata": {},
     "output_type": "execute_result"
    }
   ],
   "source": [
    "# 调用shutil.copy(source, destination)，\n",
    "# 将路径source处的文件复制到路径destination处的文件夹\n",
    "# （source和destination都是字符串）。\n",
    "# 如果destination是一个文件名，它将作为被复制文件的新名字\n",
    "shutil.copy(r\"..\\8_read_write_file\\test_file\\bacon.txt\", r\".\")\n"
   ]
  },
  {
   "cell_type": "code",
   "execution_count": 18,
   "metadata": {},
   "outputs": [
    {
     "data": {
      "text/plain": [
       "'.\\\\t'"
      ]
     },
     "execution_count": 18,
     "metadata": {},
     "output_type": "execute_result"
    }
   ],
   "source": [
    "# 调用shutil.copytree(source,destination)，\n",
    "# 将路径source处的文件夹，包括它的所有文件和子文件夹，\n",
    "# 复制到路径destination处的文件夹\n",
    "shutil.copytree(r\"..\\8_read_write_file\\test_file\", r\".\\t\")"
   ]
  },
  {
   "cell_type": "code",
   "execution_count": 7,
   "metadata": {},
   "outputs": [
    {
     "data": {
      "text/plain": [
       "'f:\\\\Programming\\\\02.Python-learn-programming\\\\1_Automate_the_boring_stuff_with_python\\\\9_organize_file'"
      ]
     },
     "execution_count": 7,
     "metadata": {},
     "output_type": "execute_result"
    }
   ],
   "source": [
    "import os\n",
    "os.getcwd()"
   ]
  },
  {
   "attachments": {},
   "cell_type": "markdown",
   "metadata": {},
   "source": [
    "#### 文件和文件夹的移动与改名"
   ]
  },
  {
   "cell_type": "code",
   "execution_count": 8,
   "metadata": {},
   "outputs": [
    {
     "data": {
      "text/plain": [
       "'.\\\\t'"
      ]
     },
     "execution_count": 8,
     "metadata": {},
     "output_type": "execute_result"
    }
   ],
   "source": [
    "import shutil\n",
    "# 调用shutil.move(source, destination)，\n",
    "# 将路径source处的文件夹移动到路径destination，\n",
    "# 并返回新位置的绝对路径的字符串。\n",
    "\n",
    "shutil.move(r\"..\\8_read_write_file\\test_file\", r\".\\t\")"
   ]
  },
  {
   "attachments": {},
   "cell_type": "markdown",
   "metadata": {},
   "source": [
    "- 用os.unlink(path)将删除path处的文件。\n",
    "- 调用os.rmdir(path)将删除path处的文件夹。该文件夹必须为空，其中没有任何文件和文件夹。\n",
    "- 调用shutil.rmtree(path)将删除path处的文件夹，它包含的所有文件和文件夹都会被删除。"
   ]
  },
  {
   "cell_type": "code",
   "execution_count": null,
   "metadata": {},
   "outputs": [],
   "source": [
    "import os\n",
    "\n",
    "for filename in os.listdir():\n",
    "    if filename.endswith(r'.rxt'):\n",
    "        # os.unlink(filename)\n",
    "        # 要慎用unlink，这个是直接删除，不是送到回收站\n",
    "        print(filename)"
   ]
  },
  {
   "cell_type": "markdown",
   "metadata": {},
   "source": [
    "#### 用send2trash模块安全地删除\n"
   ]
  },
  {
   "cell_type": "code",
   "execution_count": 11,
   "metadata": {},
   "outputs": [
    {
     "data": {
      "text/plain": [
       "11"
      ]
     },
     "execution_count": 11,
     "metadata": {},
     "output_type": "execute_result"
    }
   ],
   "source": [
    "import send2trash\n",
    "peomFile = open(r\".\\peom.txt\",\"a\")\n",
    "peomFile.write(\"吹灭读书灯，一身都是月\")\n"
   ]
  },
  {
   "cell_type": "code",
   "execution_count": 12,
   "metadata": {},
   "outputs": [],
   "source": [
    "peomFile.close()\n",
    "send2trash.send2trash(r\".\\peom.txt\")"
   ]
  },
  {
   "cell_type": "markdown",
   "metadata": {},
   "source": [
    "### 遍历目录树"
   ]
  },
  {
   "cell_type": "code",
   "execution_count": 14,
   "metadata": {},
   "outputs": [
    {
     "name": "stdout",
     "output_type": "stream",
     "text": [
      "the current folder is .\n",
      ".的子文件夹是t\n",
      ".文件中的文件为9_organize_file.ipynb\n",
      ".文件中的文件为bacon.txt\n",
      "分隔符\n",
      "the current folder is .\\t\n",
      ".\\t的子文件夹是capitals\n",
      ".\\t文件中的文件为bacon.txt\n",
      ".\\t文件中的文件为dealedtest.txt\n",
      ".\\t文件中的文件为mcb.bak\n",
      ".\\t文件中的文件为mcb.dat\n",
      ".\\t文件中的文件为mcb.dir\n",
      ".\\t文件中的文件为mydata.bak\n",
      ".\\t文件中的文件为mydata.dat\n",
      ".\\t文件中的文件为mydata.dir\n",
      ".\\t文件中的文件为newTest.txt\n",
      ".\\t文件中的文件为poem.txt\n",
      ".\\t文件中的文件为test.txt\n",
      "分隔符\n",
      "the current folder is .\\t\\capitals\n",
      "分隔符\n"
     ]
    }
   ],
   "source": [
    "import os\n",
    " \n",
    "for folderName, subfolders, filenames in os.walk(r\".\"):\n",
    "    print(\"the current folder is \" + folderName)\n",
    "\n",
    "    for subfolder in subfolders:\n",
    "        print(f\"{folderName}的子文件夹是{subfolder}\")\n",
    "\n",
    "    for filename in filenames:\n",
    "        print(f\"{folderName}文件中的文件为{filename}\")\n",
    "\n",
    "    print('分隔符')"
   ]
  },
  {
   "cell_type": "markdown",
   "metadata": {},
   "source": [
    "os.walk()在循环的每次迭代中，返回3个值：\n",
    "\n",
    "1. 当前文件夹名称的字符串。\n",
    "2. 当前文件夹中子文件夹的字符串的列表。\n",
    "3. 当前文件夹中文件的字符串的列表。\n",
    "\n",
    "这个就是一层层的往下走，只要该文件夹下还有子文件夹则继续遍历"
   ]
  },
  {
   "cell_type": "markdown",
   "metadata": {},
   "source": [
    "### 用zipfile模块压缩文件"
   ]
  },
  {
   "cell_type": "code",
   "execution_count": 15,
   "metadata": {},
   "outputs": [
    {
     "data": {
      "text/plain": [
       "['spam.txt', 'cats/', 'cats/catnames.txt', 'cats/zophie.jpg']"
      ]
     },
     "execution_count": 15,
     "metadata": {},
     "output_type": "execute_result"
    }
   ],
   "source": [
    "import os, zipfile\n",
    "\n",
    "os.chdir(r\".\\t\")\n",
    "exampleZip = zipfile.ZipFile(r\"example.zip\")\n",
    "exampleZip.namelist()"
   ]
  },
  {
   "cell_type": "code",
   "execution_count": 16,
   "metadata": {},
   "outputs": [
    {
     "data": {
      "text/plain": [
       "13908"
      ]
     },
     "execution_count": 16,
     "metadata": {},
     "output_type": "execute_result"
    }
   ],
   "source": [
    "spamInfo = exampleZip.getinfo(\"spam.txt\")\n",
    "spamInfo.file_size"
   ]
  },
  {
   "cell_type": "markdown",
   "metadata": {},
   "source": [
    "#### 从ZIP文件中解压缩"
   ]
  },
  {
   "cell_type": "code",
   "execution_count": 22,
   "metadata": {},
   "outputs": [],
   "source": [
    "import zipfile\n",
    "\n",
    "exampleZip = zipfile.ZipFile(\"example.zip\")\n",
    "exampleZip.extractall()\n",
    "exampleZip.close()"
   ]
  },
  {
   "cell_type": "markdown",
   "metadata": {},
   "source": [
    "> ZipFile对象的extract()方法从ZIP文件中解压缩单个文件。"
   ]
  },
  {
   "cell_type": "code",
   "execution_count": 24,
   "metadata": {},
   "outputs": [
    {
     "data": {
      "text/plain": [
       "'f:\\\\Programming\\\\02.Python-learn-programming\\\\1_Automate_the_boring_stuff_with_python\\\\9_organize_file\\\\t\\\\spam.txt'"
      ]
     },
     "execution_count": 24,
     "metadata": {},
     "output_type": "execute_result"
    }
   ],
   "source": [
    "exampleZip = zipfile.ZipFile(\"example.zip\")\n",
    "exampleZip.extract('spam.txt')"
   ]
  },
  {
   "cell_type": "code",
   "execution_count": 25,
   "metadata": {},
   "outputs": [
    {
     "data": {
      "text/plain": [
       "'..\\\\spam.txt'"
      ]
     },
     "execution_count": 25,
     "metadata": {},
     "output_type": "execute_result"
    }
   ],
   "source": [
    "exampleZip.extract('spam.txt','..')\n",
    "# 提取文件到"
   ]
  },
  {
   "cell_type": "markdown",
   "metadata": {},
   "source": [
    "##### 创建和添加到ZIP文件"
   ]
  },
  {
   "cell_type": "code",
   "execution_count": 3,
   "metadata": {},
   "outputs": [
    {
     "name": "stdout",
     "output_type": "stream",
     "text": [
      "f:\\Programming\\02.Python-learn-programming\\1_Automate_the_boring_stuff_with_python\\9_organize_file\n"
     ]
    }
   ],
   "source": [
    "import zipfile,os\n",
    "\n",
    "os.chdir(r\"1_Automate_the_boring_stuff_with_python\\9_organize_file\")\n",
    "print(os.getcwd())\n",
    "newZip = zipfile.ZipFile(r\"new.zip\",'w')\n",
    "newZip.write(r\"spam.txt\", compress_type=zipfile.ZIP_DEFLATED)\n",
    "newZip.close()"
   ]
  },
  {
   "cell_type": "markdown",
   "metadata": {},
   "source": []
  }
 ],
 "metadata": {
  "kernelspec": {
   "display_name": "base",
   "language": "python",
   "name": "python3"
  },
  "language_info": {
   "codemirror_mode": {
    "name": "ipython",
    "version": 3
   },
   "file_extension": ".py",
   "mimetype": "text/x-python",
   "name": "python",
   "nbconvert_exporter": "python",
   "pygments_lexer": "ipython3",
   "version": "3.7.13"
  },
  "orig_nbformat": 4
 },
 "nbformat": 4,
 "nbformat_minor": 2
}
