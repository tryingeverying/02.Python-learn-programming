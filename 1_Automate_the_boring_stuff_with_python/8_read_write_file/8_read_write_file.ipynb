{
 "cells": [
  {
   "attachments": {},
   "cell_type": "markdown",
   "metadata": {},
   "source": [
    "### 第8章　读写文件"
   ]
  },
  {
   "attachments": {},
   "cell_type": "markdown",
   "metadata": {},
   "source": [
    "#### 当前工作目录"
   ]
  },
  {
   "cell_type": "code",
   "execution_count": 1,
   "metadata": {},
   "outputs": [
    {
     "data": {
      "text/plain": [
       "'f:\\\\Programming\\\\02.Python-learn-programming\\\\1_Automate_the_boring_stuff_with_python\\\\8_read_write_file'"
      ]
     },
     "execution_count": 1,
     "metadata": {},
     "output_type": "execute_result"
    }
   ],
   "source": [
    "import os\n",
    "\n",
    "os.getcwd()"
   ]
  },
  {
   "cell_type": "code",
   "execution_count": 2,
   "metadata": {},
   "outputs": [
    {
     "data": {
      "text/plain": [
       "'f:\\\\Programming\\\\02.Python-learn-programming\\\\1_Automate_the_boring_stuff_with_python'"
      ]
     },
     "execution_count": 2,
     "metadata": {},
     "output_type": "execute_result"
    }
   ],
   "source": [
    "os.chdir(\"f:\\\\Programming\\\\02.Python-learn-programming\\\\1_Automate_the_boring_stuff_with_python\")\n",
    "\n",
    "os.getcwd()"
   ]
  },
  {
   "cell_type": "code",
   "execution_count": 4,
   "metadata": {},
   "outputs": [
    {
     "data": {
      "text/plain": [
       "'f:\\\\Programming\\\\02.Python-learn-programming\\\\1_Automate_the_boring_stuff_with_python\\\\8_read_write_file'"
      ]
     },
     "execution_count": 4,
     "metadata": {},
     "output_type": "execute_result"
    }
   ],
   "source": [
    "os.chdir(r\"f:\\Programming\\02.Python-learn-programming\\1_Automate_the_boring_stuff_with_python\\8_read_write_file\")\n",
    "os.getcwd()"
   ]
  },
  {
   "attachments": {},
   "cell_type": "markdown",
   "metadata": {},
   "source": [
    "#### 绝对路径与相对路径\n",
    "\n",
    "> （.）是相对路径中的当前文件\n",
    "\n",
    "> （..）是相对路径中的当前文件的父文件"
   ]
  },
  {
   "attachments": {},
   "cell_type": "markdown",
   "metadata": {},
   "source": [
    "#### 用os.makedirs()创建新文件夹"
   ]
  },
  {
   "cell_type": "code",
   "execution_count": 5,
   "metadata": {},
   "outputs": [],
   "source": [
    "import os\n",
    "os.mkdir(r\"f:\\Programming\\02.Python-learn-programming\\1_Automate_the_boring_stuff_with_python\\8_read_write_file\\test_file\")\n"
   ]
  },
  {
   "cell_type": "code",
   "execution_count": 6,
   "metadata": {},
   "outputs": [],
   "source": [
    "os.mkdir(r\".\\test_file\")"
   ]
  },
  {
   "cell_type": "code",
   "execution_count": 7,
   "metadata": {},
   "outputs": [],
   "source": [
    "os.mkdir(os.getcwd() + \"\\\\test_file\")"
   ]
  },
  {
   "attachments": {},
   "cell_type": "markdown",
   "metadata": {},
   "source": [
    "上面三段代码可以实现一个操作就是在当前路径的中创建一个test_file文件夹"
   ]
  },
  {
   "attachments": {},
   "cell_type": "markdown",
   "metadata": {},
   "source": [
    "#### 处理绝对路径和相对路径\n",
    "- 调用os.path.abspath(path)将返回参数的绝对路径的字符串\n",
    "- 调用os.path.isabs(path)，如果参数是一个绝对路径，就返回True，如果参数是一个相对路径，就返回False。\n",
    "- 调用os.path.relpath(path, start)将返回从start路径到path的相对路径的字符串。如果没有提供start，就使用当前工作目录作为开始路径。\n",
    "- 调用os.path.dirname(path)将返回一个字符串，它包含path参数中最后一个斜杠之前的所有内容。\n",
    "- 调用os.path.basename(path)将返回一个字符串，它包含path 参数中最后一个斜杠之后的所有内容。\n",
    "- 调用os.path.split()获得一个路径的目录名称和基本名称字符串的元组"
   ]
  },
  {
   "cell_type": "code",
   "execution_count": 9,
   "metadata": {},
   "outputs": [
    {
     "name": "stdout",
     "output_type": "stream",
     "text": [
      "f:\\Programming\\02.Python-learn-programming\\1_Automate_the_boring_stuff_with_python\\8_read_write_file\n",
      "False\n"
     ]
    }
   ],
   "source": [
    "print(os.path.abspath('.'))\n",
    "print(os.path.isabs('.'))"
   ]
  },
  {
   "cell_type": "code",
   "execution_count": 11,
   "metadata": {},
   "outputs": [
    {
     "data": {
      "text/plain": [
       "'..'"
      ]
     },
     "execution_count": 11,
     "metadata": {},
     "output_type": "execute_result"
    }
   ],
   "source": [
    "os.path.relpath(r\"f:\\Programming\\02.Python-learn-programming\\1_Automate_the_boring_stuff_with_python\\8_read_write_file\",r\"f:\\Programming\\02.Python-learn-programming\\1_Automate_the_boring_stuff_with_python\\8_read_write_file\\test_file\")"
   ]
  },
  {
   "cell_type": "code",
   "execution_count": 14,
   "metadata": {},
   "outputs": [
    {
     "name": "stdout",
     "output_type": "stream",
     "text": [
      "f:\\Programming\\02.Python-learn-programming\\1_Automate_the_boring_stuff_with_python\\8_read_write_file\n",
      "test_file\n",
      "('f:\\\\Programming\\\\02.Python-learn-programming\\\\1_Automate_the_boring_stuff_with_python\\\\8_read_write_file', 'test_file')\n"
     ]
    }
   ],
   "source": [
    "print(os.path.dirname(r\"f:\\Programming\\02.Python-learn-programming\\1_Automate_the_boring_stuff_with_python\\8_read_write_file\\test_file\"))\n",
    "print(os.path.basename(r\"f:\\Programming\\02.Python-learn-programming\\1_Automate_the_boring_stuff_with_python\\8_read_write_file\\test_file\"))\n",
    "\n",
    "print(os.path.split(r\"f:\\Programming\\02.Python-learn-programming\\1_Automate_the_boring_stuff_with_python\\8_read_write_file\\test_file\"))\n",
    "\n",
    "# 即os.path.split() 返回的是 (os.path.dirname(), os.path.basename())"
   ]
  },
  {
   "cell_type": "code",
   "execution_count": 2,
   "metadata": {},
   "outputs": [
    {
     "data": {
      "text/plain": [
       "['f:',\n",
       " 'Programming',\n",
       " '02.Python-learn-programming',\n",
       " '1_Automate_the_boring_stuff_with_python',\n",
       " '8_read_write_file']"
      ]
     },
     "execution_count": 2,
     "metadata": {},
     "output_type": "execute_result"
    }
   ],
   "source": [
    "import os\n",
    "\n",
    "testPath = os.getcwd()\n",
    "testPath.split(os.path.sep)\n",
    "\n",
    "# 如果想要获得路径中的每一个文件夹名就可以在split函数中传入上面的os.path.sep"
   ]
  },
  {
   "attachments": {},
   "cell_type": "markdown",
   "metadata": {},
   "source": [
    "#### 查看文件大小和文件夹内容\n",
    "- 调用os.path.getsize(path)将返回path参数中文件的字节数。\n",
    "- 调用os.listdir(path)将返回文件名字符串的列表，包含path参数中的每个文件"
   ]
  },
  {
   "cell_type": "code",
   "execution_count": 6,
   "metadata": {},
   "outputs": [],
   "source": [
    "testPath1 = 'f:\\\\Programming\\\\02.Python-learn-programming\\\\1_Automate_the_boring_stuff_with_python'"
   ]
  },
  {
   "cell_type": "code",
   "execution_count": 7,
   "metadata": {},
   "outputs": [
    {
     "data": {
      "text/plain": [
       "4096"
      ]
     },
     "execution_count": 7,
     "metadata": {},
     "output_type": "execute_result"
    }
   ],
   "source": [
    "os.path.getsize(testPath1)"
   ]
  },
  {
   "cell_type": "code",
   "execution_count": 8,
   "metadata": {},
   "outputs": [
    {
     "data": {
      "text/plain": [
       "['01_note',\n",
       " '09_automate_online-materials',\n",
       " '3_function',\n",
       " '4_list',\n",
       " '5_dictionaries_and_structured_data',\n",
       " '6_string_operations',\n",
       " '7_regex',\n",
       " '8_read_write_file',\n",
       " 'project_code']"
      ]
     },
     "execution_count": 8,
     "metadata": {},
     "output_type": "execute_result"
    }
   ],
   "source": [
    "os.listdir(testPath1)"
   ]
  },
  {
   "cell_type": "code",
   "execution_count": 13,
   "metadata": {},
   "outputs": [
    {
     "name": "stdout",
     "output_type": "stream",
     "text": [
      "36864\n"
     ]
    }
   ],
   "source": [
    "# 计算路径下的每一个文件的字节数总和\n",
    "\n",
    "totalSize = 0\n",
    "\n",
    "for filename in os.listdir(testPath1):\n",
    "    totalSize += os.path.getsize(os.path.join(testPath1,filename))\n",
    "\n",
    "print(totalSize)"
   ]
  },
  {
   "attachments": {},
   "cell_type": "markdown",
   "metadata": {},
   "source": [
    "#### 检查路径有效性\n",
    "- 如果path参数所指的文件或文件夹存在，调用os.path.exists(path)将返回True，否则返回False。\n",
    "- 如果path参数存在，并且是一个文件，调用os.path.isfile(path)将返回True，否则返回False。\n",
    "- 如果path参数存在，并且是一个文件夹，调用os.path.isdir(path)将返回True，否则返回False。"
   ]
  },
  {
   "attachments": {},
   "cell_type": "markdown",
   "metadata": {},
   "source": [
    "#### 文件读写过程"
   ]
  },
  {
   "cell_type": "code",
   "execution_count": 16,
   "metadata": {},
   "outputs": [
    {
     "name": "stdout",
     "output_type": "stream",
     "text": [
      "苦昼短\n",
      "唐·李贺\n",
      "飞光飞光，劝尔一杯酒。\n",
      "吾不识青天高，黄地厚。唯见月寒日暖，来煎人寿。\n",
      "食熊则肥，食蛙则瘦。神君何在，太一安有。\n",
      "天东有若木，下置衔烛龙。吾将斩龙足，嚼龙肉。使之朝不得回，夜不得伏。自然老者不死，少者不哭。\n",
      "何为服黄金，吞白玉。谁似任公子，云中骑碧驴。刘彻茂陵多滞骨，嬴政梓棺费鲍鱼。\n"
     ]
    }
   ],
   "source": [
    "poemFile = open(r\"F:\\Programming\\02.Python-learn-programming\\1_Automate_the_boring_stuff_with_python\\8_read_write_file\\test_file\\poem.txt\")\n",
    "poemContent = poemFile.read()\n",
    "print(poemContent)\n",
    "poemFile.close()"
   ]
  },
  {
   "cell_type": "code",
   "execution_count": 18,
   "metadata": {},
   "outputs": [
    {
     "data": {
      "text/plain": [
       "'f:\\\\Programming\\\\02.Python-learn-programming\\\\1_Automate_the_boring_stuff_with_python\\\\8_read_write_file'"
      ]
     },
     "execution_count": 18,
     "metadata": {},
     "output_type": "execute_result"
    }
   ],
   "source": [
    "os.getcwd()"
   ]
  },
  {
   "cell_type": "code",
   "execution_count": 26,
   "metadata": {},
   "outputs": [],
   "source": [
    "baconFile = open(r\".\\test_file\\bacon.txt\",\"w\")\n",
    "baconFile.write(\"hello world! \\n\")\n",
    "baconFile.close()"
   ]
  },
  {
   "cell_type": "code",
   "execution_count": 27,
   "metadata": {},
   "outputs": [],
   "source": [
    "baconFile = open(r\".\\test_file\\bacon.txt\",\"a\")\n",
    "baconFile.write(\"熏猪肉不是蔬菜 \\n\")\n",
    "baconFile.close()"
   ]
  },
  {
   "cell_type": "code",
   "execution_count": 29,
   "metadata": {},
   "outputs": [
    {
     "name": "stdout",
     "output_type": "stream",
     "text": [
      "hello world! \n",
      "熏猪肉不是蔬菜 \n",
      "\n"
     ]
    }
   ],
   "source": [
    "baconFile = open(r\".\\test_file\\bacon.txt\")\n",
    "baconContent = baconFile.read()\n",
    "baconFile.close()\n",
    "print(baconContent)\n",
    "\n",
    "# 这种每次都要close好烦呀 还不如用with打开"
   ]
  },
  {
   "attachments": {},
   "cell_type": "markdown",
   "metadata": {},
   "source": [
    "#### 用shelve模块保存变量"
   ]
  },
  {
   "cell_type": "code",
   "execution_count": 13,
   "metadata": {},
   "outputs": [],
   "source": [
    "# 写入二进制数据\n",
    "\n",
    "import shelve\n",
    "shelveFile = shelve.open(r\".\\test_file\\mydata\")\n",
    "cats = [\"one\",\"two\",\"three\"]\n",
    "dogs = [\"1\",'2','3']\n",
    "shelveFile[\"cats\"] = cats\n",
    "shelveFile[\"dogs\"] = dogs\n",
    "shelveFile.close()"
   ]
  },
  {
   "cell_type": "code",
   "execution_count": 14,
   "metadata": {},
   "outputs": [
    {
     "name": "stdout",
     "output_type": "stream",
     "text": [
      "<class 'shelve.DbfilenameShelf'>\n",
      "['one', 'two', 'three']\n",
      "['1', '2', '3']\n"
     ]
    }
   ],
   "source": [
    "# 读取二进制数据\n",
    "shelveFile = shelve.open(r\".\\test_file\\mydata\")\n",
    "print(type(shelveFile))\n",
    "print(shelveFile[\"cats\"])\n",
    "print(shelveFile[\"dogs\"])\n",
    "del shelveFile[\"dogs\"]\n"
   ]
  },
  {
   "cell_type": "code",
   "execution_count": 16,
   "metadata": {},
   "outputs": [
    {
     "name": "stdout",
     "output_type": "stream",
     "text": [
      "['one', 'two', 'three']\n"
     ]
    },
    {
     "ename": "KeyError",
     "evalue": "b'dogs'",
     "output_type": "error",
     "traceback": [
      "\u001b[1;31m---------------------------------------------------------------------------\u001b[0m",
      "\u001b[1;31mKeyError\u001b[0m                                  Traceback (most recent call last)",
      "\u001b[1;32md:\\Anaconda\\lib\\shelve.py\u001b[0m in \u001b[0;36m__getitem__\u001b[1;34m(self, key)\u001b[0m\n\u001b[0;32m    110\u001b[0m         \u001b[1;32mtry\u001b[0m\u001b[1;33m:\u001b[0m\u001b[1;33m\u001b[0m\u001b[1;33m\u001b[0m\u001b[0m\n\u001b[1;32m--> 111\u001b[1;33m             \u001b[0mvalue\u001b[0m \u001b[1;33m=\u001b[0m \u001b[0mself\u001b[0m\u001b[1;33m.\u001b[0m\u001b[0mcache\u001b[0m\u001b[1;33m[\u001b[0m\u001b[0mkey\u001b[0m\u001b[1;33m]\u001b[0m\u001b[1;33m\u001b[0m\u001b[1;33m\u001b[0m\u001b[0m\n\u001b[0m\u001b[0;32m    112\u001b[0m         \u001b[1;32mexcept\u001b[0m \u001b[0mKeyError\u001b[0m\u001b[1;33m:\u001b[0m\u001b[1;33m\u001b[0m\u001b[1;33m\u001b[0m\u001b[0m\n",
      "\u001b[1;31mKeyError\u001b[0m: 'dogs'",
      "\nDuring handling of the above exception, another exception occurred:\n",
      "\u001b[1;31mKeyError\u001b[0m                                  Traceback (most recent call last)",
      "\u001b[1;32m~\\AppData\\Local\\Temp\\ipykernel_15868\\3438694914.py\u001b[0m in \u001b[0;36m<module>\u001b[1;34m\u001b[0m\n\u001b[0;32m      1\u001b[0m \u001b[0mprint\u001b[0m\u001b[1;33m(\u001b[0m\u001b[0mshelveFile\u001b[0m\u001b[1;33m[\u001b[0m\u001b[1;34m\"cats\"\u001b[0m\u001b[1;33m]\u001b[0m\u001b[1;33m)\u001b[0m\u001b[1;33m\u001b[0m\u001b[1;33m\u001b[0m\u001b[0m\n\u001b[1;32m----> 2\u001b[1;33m \u001b[0mprint\u001b[0m\u001b[1;33m(\u001b[0m\u001b[0mshelveFile\u001b[0m\u001b[1;33m[\u001b[0m\u001b[1;34m\"dogs\"\u001b[0m\u001b[1;33m]\u001b[0m\u001b[1;33m)\u001b[0m\u001b[1;33m\u001b[0m\u001b[1;33m\u001b[0m\u001b[0m\n\u001b[0m\u001b[0;32m      3\u001b[0m \u001b[0mshelveFile\u001b[0m\u001b[1;33m.\u001b[0m\u001b[0mclose\u001b[0m\u001b[1;33m(\u001b[0m\u001b[1;33m)\u001b[0m\u001b[1;33m\u001b[0m\u001b[1;33m\u001b[0m\u001b[0m\n",
      "\u001b[1;32md:\\Anaconda\\lib\\shelve.py\u001b[0m in \u001b[0;36m__getitem__\u001b[1;34m(self, key)\u001b[0m\n\u001b[0;32m    111\u001b[0m             \u001b[0mvalue\u001b[0m \u001b[1;33m=\u001b[0m \u001b[0mself\u001b[0m\u001b[1;33m.\u001b[0m\u001b[0mcache\u001b[0m\u001b[1;33m[\u001b[0m\u001b[0mkey\u001b[0m\u001b[1;33m]\u001b[0m\u001b[1;33m\u001b[0m\u001b[1;33m\u001b[0m\u001b[0m\n\u001b[0;32m    112\u001b[0m         \u001b[1;32mexcept\u001b[0m \u001b[0mKeyError\u001b[0m\u001b[1;33m:\u001b[0m\u001b[1;33m\u001b[0m\u001b[1;33m\u001b[0m\u001b[0m\n\u001b[1;32m--> 113\u001b[1;33m             \u001b[0mf\u001b[0m \u001b[1;33m=\u001b[0m \u001b[0mBytesIO\u001b[0m\u001b[1;33m(\u001b[0m\u001b[0mself\u001b[0m\u001b[1;33m.\u001b[0m\u001b[0mdict\u001b[0m\u001b[1;33m[\u001b[0m\u001b[0mkey\u001b[0m\u001b[1;33m.\u001b[0m\u001b[0mencode\u001b[0m\u001b[1;33m(\u001b[0m\u001b[0mself\u001b[0m\u001b[1;33m.\u001b[0m\u001b[0mkeyencoding\u001b[0m\u001b[1;33m)\u001b[0m\u001b[1;33m]\u001b[0m\u001b[1;33m)\u001b[0m\u001b[1;33m\u001b[0m\u001b[1;33m\u001b[0m\u001b[0m\n\u001b[0m\u001b[0;32m    114\u001b[0m             \u001b[0mvalue\u001b[0m \u001b[1;33m=\u001b[0m \u001b[0mUnpickler\u001b[0m\u001b[1;33m(\u001b[0m\u001b[0mf\u001b[0m\u001b[1;33m)\u001b[0m\u001b[1;33m.\u001b[0m\u001b[0mload\u001b[0m\u001b[1;33m(\u001b[0m\u001b[1;33m)\u001b[0m\u001b[1;33m\u001b[0m\u001b[1;33m\u001b[0m\u001b[0m\n\u001b[0;32m    115\u001b[0m             \u001b[1;32mif\u001b[0m \u001b[0mself\u001b[0m\u001b[1;33m.\u001b[0m\u001b[0mwriteback\u001b[0m\u001b[1;33m:\u001b[0m\u001b[1;33m\u001b[0m\u001b[1;33m\u001b[0m\u001b[0m\n",
      "\u001b[1;32md:\\Anaconda\\lib\\dbm\\dumb.py\u001b[0m in \u001b[0;36m__getitem__\u001b[1;34m(self, key)\u001b[0m\n\u001b[0;32m    151\u001b[0m             \u001b[0mkey\u001b[0m \u001b[1;33m=\u001b[0m \u001b[0mkey\u001b[0m\u001b[1;33m.\u001b[0m\u001b[0mencode\u001b[0m\u001b[1;33m(\u001b[0m\u001b[1;34m'utf-8'\u001b[0m\u001b[1;33m)\u001b[0m\u001b[1;33m\u001b[0m\u001b[1;33m\u001b[0m\u001b[0m\n\u001b[0;32m    152\u001b[0m         \u001b[0mself\u001b[0m\u001b[1;33m.\u001b[0m\u001b[0m_verify_open\u001b[0m\u001b[1;33m(\u001b[0m\u001b[1;33m)\u001b[0m\u001b[1;33m\u001b[0m\u001b[1;33m\u001b[0m\u001b[0m\n\u001b[1;32m--> 153\u001b[1;33m         \u001b[0mpos\u001b[0m\u001b[1;33m,\u001b[0m \u001b[0msiz\u001b[0m \u001b[1;33m=\u001b[0m \u001b[0mself\u001b[0m\u001b[1;33m.\u001b[0m\u001b[0m_index\u001b[0m\u001b[1;33m[\u001b[0m\u001b[0mkey\u001b[0m\u001b[1;33m]\u001b[0m     \u001b[1;31m# may raise KeyError\u001b[0m\u001b[1;33m\u001b[0m\u001b[1;33m\u001b[0m\u001b[0m\n\u001b[0m\u001b[0;32m    154\u001b[0m         \u001b[1;32mwith\u001b[0m \u001b[0m_io\u001b[0m\u001b[1;33m.\u001b[0m\u001b[0mopen\u001b[0m\u001b[1;33m(\u001b[0m\u001b[0mself\u001b[0m\u001b[1;33m.\u001b[0m\u001b[0m_datfile\u001b[0m\u001b[1;33m,\u001b[0m \u001b[1;34m'rb'\u001b[0m\u001b[1;33m)\u001b[0m \u001b[1;32mas\u001b[0m \u001b[0mf\u001b[0m\u001b[1;33m:\u001b[0m\u001b[1;33m\u001b[0m\u001b[1;33m\u001b[0m\u001b[0m\n\u001b[0;32m    155\u001b[0m             \u001b[0mf\u001b[0m\u001b[1;33m.\u001b[0m\u001b[0mseek\u001b[0m\u001b[1;33m(\u001b[0m\u001b[0mpos\u001b[0m\u001b[1;33m)\u001b[0m\u001b[1;33m\u001b[0m\u001b[1;33m\u001b[0m\u001b[0m\n",
      "\u001b[1;31mKeyError\u001b[0m: b'dogs'"
     ]
    }
   ],
   "source": [
    "print(shelveFile[\"cats\"])\n",
    "print(shelveFile[\"dogs\"])\n",
    "shelveFile.close()"
   ]
  },
  {
   "attachments": {},
   "cell_type": "markdown",
   "metadata": {},
   "source": [
    "> 就像字典一样，shelf值有keys()和values()方法，返回shelf中键和值的类似列表的值。因为这些方法返回类似列表的值，而不是真正的列表，所以应该将它们传递给list()函数，"
   ]
  },
  {
   "cell_type": "code",
   "execution_count": 34,
   "metadata": {},
   "outputs": [
    {
     "name": "stdout",
     "output_type": "stream",
     "text": [
      "['cats']\n",
      "[['one', 'two', 'three']]\n"
     ]
    }
   ],
   "source": [
    "shelveFile = shelve.open(r\".\\test_file\\mydata\")\n",
    "print(list(shelveFile.keys()))\n",
    "print(list(shelveFile.values()))\n",
    "shelveFile.close()"
   ]
  },
  {
   "cell_type": "markdown",
   "metadata": {},
   "source": [
    "#### 用pprint.pformat()函数保存变量"
   ]
  },
  {
   "cell_type": "code",
   "execution_count": 39,
   "metadata": {},
   "outputs": [],
   "source": [
    "import pprint\n",
    "\n",
    "cats = [{'name': 'Zophie', 'desc': 'chubby'}, {'name': 'Pooka', 'desc': 'fluffy'}]\n",
    "pprint.pformat(cats)\n",
    "\n",
    "fileObj = open(r'.\\test_file\\myCat.py','w')\n",
    "fileObj.write('cats = ' + pprint.pformat(cats) + '\\n')\n",
    "fileObj.close()"
   ]
  },
  {
   "cell_type": "code",
   "execution_count": 46,
   "metadata": {},
   "outputs": [
    {
     "name": "stdout",
     "output_type": "stream",
     "text": [
      "[{'desc': 'chubby', 'name': 'Zophie'}, {'desc': 'fluffy', 'name': 'Pooka'}]\n",
      "{'desc': 'chubby', 'name': 'Zophie'}\n",
      "Zophie\n"
     ]
    }
   ],
   "source": [
    "import myCat\n",
    "\n",
    "print(myCat.cats)\n",
    "\n",
    "print(myCat.cats[0])\n",
    "\n",
    "print(myCat.cats[0][\"name\"])"
   ]
  },
  {
   "cell_type": "markdown",
   "metadata": {},
   "source": []
  }
 ],
 "metadata": {
  "kernelspec": {
   "display_name": "base",
   "language": "python",
   "name": "python3"
  },
  "language_info": {
   "codemirror_mode": {
    "name": "ipython",
    "version": 3
   },
   "file_extension": ".py",
   "mimetype": "text/x-python",
   "name": "python",
   "nbconvert_exporter": "python",
   "pygments_lexer": "ipython3",
   "version": "3.7.13"
  },
  "orig_nbformat": 4
 },
 "nbformat": 4,
 "nbformat_minor": 2
}
