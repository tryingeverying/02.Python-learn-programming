{
 "cells": [
  {
   "attachments": {},
   "cell_type": "markdown",
   "metadata": {},
   "source": [
    "## 第6章　字符串操作"
   ]
  },
  {
   "attachments": {},
   "cell_type": "markdown",
   "metadata": {},
   "source": [
    "#### 6.2.1 字符串方法upper()、lower()、isupper()和islower()\n",
    "> 这些方法没有改变字符串本身，而是返回一个新字符串。"
   ]
  },
  {
   "cell_type": "code",
   "execution_count": 4,
   "metadata": {},
   "outputs": [
    {
     "data": {
      "text/plain": [
       "'HELLO'"
      ]
     },
     "execution_count": 4,
     "metadata": {},
     "output_type": "execute_result"
    }
   ],
   "source": [
    "str_1 = \"hello\"\n",
    "str_1.upper()"
   ]
  },
  {
   "cell_type": "code",
   "execution_count": 5,
   "metadata": {},
   "outputs": [
    {
     "data": {
      "text/plain": [
       "'hello'"
      ]
     },
     "execution_count": 5,
     "metadata": {},
     "output_type": "execute_result"
    }
   ],
   "source": [
    "str_2 = \"HELLO\"\n",
    "str_2.lower()"
   ]
  },
  {
   "cell_type": "code",
   "execution_count": 6,
   "metadata": {},
   "outputs": [
    {
     "data": {
      "text/plain": [
       "False"
      ]
     },
     "execution_count": 6,
     "metadata": {},
     "output_type": "execute_result"
    }
   ],
   "source": [
    "str_2.islower()"
   ]
  },
  {
   "cell_type": "code",
   "execution_count": 7,
   "metadata": {},
   "outputs": [
    {
     "data": {
      "text/plain": [
       "False"
      ]
     },
     "execution_count": 7,
     "metadata": {},
     "output_type": "execute_result"
    }
   ],
   "source": [
    "str_1.isupper()"
   ]
  },
  {
   "attachments": {},
   "cell_type": "markdown",
   "metadata": {},
   "source": [
    "#### isX字符串方法\n",
    "\n",
    "- isalpha()返回True，如果字符串只包含字母，并且非空；\n",
    "- isalnum()返回True，如果字符串只包含字母和数字，并且非空；\n",
    "- isdecimal()返回True，如果字符串只包含数字字符，并且非空；\n",
    "- isspace()返回True，如果字符串只包含空格、制表符和换行，并且非空；\n",
    "- .istitle()返回True，如果字符串仅包含以大写字母开头、后面都是小写字母的单词。"
   ]
  },
  {
   "attachments": {},
   "cell_type": "markdown",
   "metadata": {},
   "source": [
    "#### validateInput.py"
   ]
  },
  {
   "cell_type": "code",
   "execution_count": 8,
   "metadata": {},
   "outputs": [
    {
     "name": "stdout",
     "output_type": "stream",
     "text": [
      "输入年纪\n",
      "请输入一个密码(仅包含数字和字母):\n",
      "密码仅能包含数字和字母\n",
      "请输入一个密码(仅包含数字和字母):\n"
     ]
    }
   ],
   "source": [
    "while True:\n",
    "    print(\"输入年纪\")\n",
    "    age = input()\n",
    "    if age.isdecimal():\n",
    "        break\n",
    "    print(\"请输入数字形式的年龄\")\n",
    "\n",
    "while True:\n",
    "    print(\"请输入一个密码(仅包含数字和字母):\")\n",
    "    password = input()\n",
    "    if password.isalnum():\n",
    "        break\n",
    "    print(\"密码仅能包含数字和字母\")"
   ]
  },
  {
   "attachments": {},
   "cell_type": "markdown",
   "metadata": {},
   "source": [
    "#### 字符串方法startswith()和endswith()"
   ]
  },
  {
   "attachments": {},
   "cell_type": "markdown",
   "metadata": {},
   "source": [
    "#### 字符串方法join()和split()\n",
    "> join()方法在一个字符串上调用，参数是一个字符串列表，返回一个字符串。返回的字符串由传入的列表中每个字符串连接而成\n",
    "\n",
    "> split()方法做的事情正好相反：它针对一个字符串调用，返回一个字符串列表。"
   ]
  },
  {
   "cell_type": "code",
   "execution_count": 9,
   "metadata": {},
   "outputs": [
    {
     "data": {
      "text/plain": [
       "'cat,rats,bats'"
      ]
     },
     "execution_count": 9,
     "metadata": {},
     "output_type": "execute_result"
    }
   ],
   "source": [
    "\",\".join([\"cat\", \"rats\", \"bats\"])"
   ]
  },
  {
   "cell_type": "code",
   "execution_count": 10,
   "metadata": {},
   "outputs": [
    {
     "data": {
      "text/plain": [
       "['My', 'name', 'is', 'Simon']"
      ]
     },
     "execution_count": 10,
     "metadata": {},
     "output_type": "execute_result"
    }
   ],
   "source": [
    "'My name is Simon'.split() # 默认分隔符为空格"
   ]
  },
  {
   "cell_type": "code",
   "execution_count": 11,
   "metadata": {},
   "outputs": [
    {
     "data": {
      "text/plain": [
       "['My', 'name', 'is', 'Simon']"
      ]
     },
     "execution_count": 11,
     "metadata": {},
     "output_type": "execute_result"
    }
   ],
   "source": [
    "'MyABCnameABCisABCSimon'.split('ABC')"
   ]
  },
  {
   "attachments": {},
   "cell_type": "markdown",
   "metadata": {},
   "source": [
    "#### 用rjust()、ljust()和center()方法对齐文本\n",
    "> rjust()和ljust()字符串方法返回调用它们的字符串的填充版本，通过插入空格来对齐文本。这两个方法的第一个参数是一个整数长度，用于对齐字符串。"
   ]
  },
  {
   "cell_type": "code",
   "execution_count": 12,
   "metadata": {},
   "outputs": [
    {
     "data": {
      "text/plain": [
       "'     Hello'"
      ]
     },
     "execution_count": 12,
     "metadata": {},
     "output_type": "execute_result"
    }
   ],
   "source": [
    "'Hello'.rjust(10)"
   ]
  },
  {
   "cell_type": "code",
   "execution_count": 13,
   "metadata": {},
   "outputs": [
    {
     "data": {
      "text/plain": [
       "'Hello     '"
      ]
     },
     "execution_count": 13,
     "metadata": {},
     "output_type": "execute_result"
    }
   ],
   "source": [
    "'Hello'.ljust(10)"
   ]
  },
  {
   "cell_type": "code",
   "execution_count": 14,
   "metadata": {},
   "outputs": [
    {
     "data": {
      "text/plain": [
       "'***************Hello'"
      ]
     },
     "execution_count": 14,
     "metadata": {},
     "output_type": "execute_result"
    }
   ],
   "source": [
    "'Hello'.rjust(20, '*')"
   ]
  },
  {
   "cell_type": "code",
   "execution_count": 3,
   "metadata": {},
   "outputs": [
    {
     "name": "stdout",
     "output_type": "stream",
     "text": [
      "Hello---------------\n"
     ]
    }
   ],
   "source": [
    "print('Hello'.ljust(20, '-'))"
   ]
  },
  {
   "attachments": {},
   "cell_type": "markdown",
   "metadata": {},
   "source": [
    "> center()字符串方法与ljust()与rjust()类似，但它让文本居中，而不是左对齐或右对齐。"
   ]
  },
  {
   "cell_type": "code",
   "execution_count": 16,
   "metadata": {},
   "outputs": [
    {
     "data": {
      "text/plain": [
       "'=======Hello========'"
      ]
     },
     "execution_count": 16,
     "metadata": {},
     "output_type": "execute_result"
    }
   ],
   "source": [
    "'Hello'.center(20, '=')"
   ]
  },
  {
   "cell_type": "markdown",
   "metadata": {},
   "source": [
    "#### picnicTable.py"
   ]
  },
  {
   "cell_type": "code",
   "execution_count": 20,
   "metadata": {},
   "outputs": [
    {
     "name": "stdout",
     "output_type": "stream",
     "text": [
      "---PICNIC ITEMS--\n",
      "sandwiches..    4\n",
      "apples......   12\n",
      "cups........    4\n",
      "cookies..... 8000\n",
      "-------PICNIC ITEMS-------\n",
      "sandwiches..........     4\n",
      "apples..............    12\n",
      "cups................     4\n",
      "cookies.............  8000\n"
     ]
    }
   ],
   "source": [
    "def printPicnic(itemsDict, leftWidth, rightWidth):\n",
    "    print(\"PICNIC ITEMS\".center(leftWidth + rightWidth, \"-\"))\n",
    "    for k,v in itemsDict.items():\n",
    "        print(k.ljust(leftWidth, \".\") + str(v).rjust(rightWidth))\n",
    "        # rjust没有传入第二个参数，则默认第二个参数是空格\n",
    "\n",
    "picnicItems = {'sandwiches': 4, 'apples': 12, 'cups': 4, 'cookies': 8000}\n",
    "printPicnic(picnicItems, 12, 5)\n",
    "printPicnic(picnicItems, 20, 6)"
   ]
  },
  {
   "attachments": {},
   "cell_type": "markdown",
   "metadata": {},
   "source": [
    "#### 用strip()、rstrip()和lstrip()删除空白字符\n",
    "\n",
    "> strip()字符串方法将返回一个新的字符串，它的开头或末尾都没有空白字符。lstrip()和rstrip()方法将相应删除左边或右边的空白字符。"
   ]
  },
  {
   "cell_type": "code",
   "execution_count": 22,
   "metadata": {},
   "outputs": [
    {
     "data": {
      "text/plain": [
       "'Hello World'"
      ]
     },
     "execution_count": 22,
     "metadata": {},
     "output_type": "execute_result"
    }
   ],
   "source": [
    "spam = ' Hello World '\n",
    "# print(spam.strip())\n",
    "# print(spam.lstrip())\n",
    "# print(spam.rstrip())\n",
    "spam.strip()"
   ]
  },
  {
   "cell_type": "code",
   "execution_count": 23,
   "metadata": {},
   "outputs": [
    {
     "data": {
      "text/plain": [
       "'Hello World '"
      ]
     },
     "execution_count": 23,
     "metadata": {},
     "output_type": "execute_result"
    }
   ],
   "source": [
    "spam.lstrip()"
   ]
  },
  {
   "cell_type": "code",
   "execution_count": 24,
   "metadata": {},
   "outputs": [
    {
     "data": {
      "text/plain": [
       "' Hello World'"
      ]
     },
     "execution_count": 24,
     "metadata": {},
     "output_type": "execute_result"
    }
   ],
   "source": [
    "spam.rstrip()"
   ]
  },
  {
   "cell_type": "code",
   "execution_count": 25,
   "metadata": {},
   "outputs": [
    {
     "data": {
      "text/plain": [
       "'BaconSpamEggs'"
      ]
     },
     "execution_count": 25,
     "metadata": {},
     "output_type": "execute_result"
    }
   ],
   "source": [
    "spam = 'SpamSpamBaconSpamEggsSpamSpam'\n",
    "spam.strip('ampS')"
   ]
  },
  {
   "attachments": {},
   "cell_type": "markdown",
   "metadata": {},
   "source": [
    "> 向strip()方法传入参数'ampS'，告诉它在变量中存储的字符串两端，删除出现的a、m、p和大写的S。传入strip()方法的字符串中，字符的顺序并不重要：strip('ampS')做的事情和strip('mapS')或strip('Spam')一样。"
   ]
  },
  {
   "cell_type": "markdown",
   "metadata": {},
   "source": [
    "#### 用pyperclip模块拷贝粘贴字符串"
   ]
  },
  {
   "attachments": {},
   "cell_type": "markdown",
   "metadata": {},
   "source": [
    ">pyperclip模块有copy()和paste()函数，可以向计算机的剪贴板发送文本，或从它接收文本。将程序的输出发送到剪贴板，使它很容易粘贴到邮件、文字处理程序或其他软件中。"
   ]
  },
  {
   "cell_type": "code",
   "execution_count": 2,
   "metadata": {},
   "outputs": [
    {
     "data": {
      "text/plain": [
       "'pyperclip'"
      ]
     },
     "execution_count": 2,
     "metadata": {},
     "output_type": "execute_result"
    }
   ],
   "source": [
    "import pyperclip\n",
    "pyperclip.paste()"
   ]
  },
  {
   "cell_type": "code",
   "execution_count": 4,
   "metadata": {},
   "outputs": [
    {
     "data": {
      "text/plain": [
       "'hello world'"
      ]
     },
     "execution_count": 4,
     "metadata": {},
     "output_type": "execute_result"
    }
   ],
   "source": [
    "pyperclip.copy(\"hello world\")\n",
    "pyperclip.paste()"
   ]
  },
  {
   "attachments": {},
   "cell_type": "markdown",
   "metadata": {},
   "source": [
    "#### practicalProjects.py\n",
    "\n",
    "编写一个名为printTable()的函数，它接受字符串的列表的列表，将它显示在组织良好的表格中，每列右对齐。假定所有内层列表都包含同样数目的字符串。例如，该值可能看起来像这样：\n",
    "\n",
    "tableData = [['apples', 'oranges', 'cherries', 'banana'],\n",
    "\n",
    "['Alice', 'Bob', 'Carol', 'David'],\n",
    "\n",
    "['dogs', 'cats', 'moose', 'goose']]\n",
    "\n",
    "\n",
    "你的printTable()函数将打印出：\n",
    "\n",
    "apples Alice dogs\n",
    "\n",
    "oranges Bob cats\n",
    "\n",
    "cherries Carol moose\n",
    "\n",
    "banana David goose"
   ]
  },
  {
   "attachments": {},
   "cell_type": "markdown",
   "metadata": {},
   "source": [
    "##### 网上的示例代码"
   ]
  },
  {
   "cell_type": "code",
   "execution_count": 13,
   "metadata": {},
   "outputs": [
    {
     "name": "stdout",
     "output_type": "stream",
     "text": [
      "  apples Alice  dogs \n",
      "  oranges   Bob  cats \n",
      " cherries Carol moose \n",
      "   banana David goose \n",
      " "
     ]
    }
   ],
   "source": [
    "def printTable(table):\n",
    "    #创建一个list用于记录每个子list的最大len\n",
    "    colWidth = [0]*len(table)   \n",
    "    \n",
    "    max = 0\n",
    "    # 获取每一个子list的最大len，并将之存入一个list中\n",
    "    for i in range(len(colWidth)):\n",
    "        for j in range(len(table[0])):\n",
    "            if len(table[i][j]) > colWidth[i]:\n",
    "                max = len(table[i][j])\n",
    "            colWidth[i] = max\n",
    "    # 转置打印一个类似于矩阵的list\n",
    "    # 这种转置打印的写法中的都是先打印原来的列。\n",
    "    # 毕竟原来的行变成了列，对应的顺序也要改\n",
    "    # 这样才能实现在一次打印出来[0][0],[1][0],[2][0],实现转置这个操作\n",
    "    for m in range(len(table[0])):\n",
    "        for n in range(len(table)):\n",
    "            print(table[n][m].rjust(colWidth[n]), end=\" \")\n",
    "        print(\"\\n\", end=\" \" )\n",
    "\n",
    "\n",
    "tableData = [['apples', 'oranges', 'cherries', 'banana'],\n",
    "['Alice', 'Bob', 'Carol', 'David'],\n",
    "['dogs', 'cats', 'moose', 'goose']]\n",
    "\n",
    "printTable(tableData )"
   ]
  },
  {
   "attachments": {},
   "cell_type": "markdown",
   "metadata": {},
   "source": [
    "##### 自己写的代码"
   ]
  },
  {
   "cell_type": "code",
   "execution_count": 12,
   "metadata": {},
   "outputs": [
    {
     "name": "stdout",
     "output_type": "stream",
     "text": [
      "  apples Alice  dogs \n",
      " oranges   Bob  cats \n",
      "cherries Carol moose \n",
      "  banana David goose \n"
     ]
    }
   ],
   "source": [
    "def printTable(table):\n",
    "    colWidth = [0] * len(table)\n",
    "    for i in range(len(table)):\n",
    "        colWidth[i] = len(max(table[i], key = lambda x : len(x)))\n",
    "    \n",
    "    for m in range(len(table[0])):\n",
    "        for n in range(len(table)):\n",
    "            print(table[n][m].rjust(colWidth[n]), end=' ')\n",
    "            # 上面哪个end= \"\" , 必须要写，因为print默认的end=\"\\n\" \n",
    "            # 写了endend= \"\"才能保证不会打印一个就换行一次\n",
    "        print(\"\\n\", end='')\n",
    "\n",
    "tableData = [['apples', 'oranges', 'cherries', 'banana'],\n",
    "['Alice', 'Bob', 'Carol', 'David'],\n",
    "['dogs', 'cats', 'moose', 'goose']]\n",
    "\n",
    "printTable(tableData )"
   ]
  }
 ],
 "metadata": {
  "kernelspec": {
   "display_name": "base",
   "language": "python",
   "name": "python3"
  },
  "language_info": {
   "codemirror_mode": {
    "name": "ipython",
    "version": 3
   },
   "file_extension": ".py",
   "mimetype": "text/x-python",
   "name": "python",
   "nbconvert_exporter": "python",
   "pygments_lexer": "ipython3",
   "version": "3.7.13"
  },
  "orig_nbformat": 4
 },
 "nbformat": 4,
 "nbformat_minor": 2
}
