{
 "cells": [
  {
   "attachments": {},
   "cell_type": "markdown",
   "metadata": {},
   "source": [
    "## 第4章　列表"
   ]
  },
  {
   "attachments": {},
   "cell_type": "markdown",
   "metadata": {},
   "source": [
    "### 4.1.6 列表连接和列表复制"
   ]
  },
  {
   "attachments": {},
   "cell_type": "markdown",
   "metadata": {},
   "source": [
    "### allMyCats2.py"
   ]
  },
  {
   "cell_type": "code",
   "execution_count": 6,
   "metadata": {},
   "outputs": [
    {
     "name": "stdout",
     "output_type": "stream",
     "text": [
      "请输入第1个猫猫的名字. (如果不输入数据则终止程序)\n",
      "请输入第2个猫猫的名字. (如果不输入数据则终止程序)\n",
      "请输入第3个猫猫的名字. (如果不输入数据则终止程序)\n",
      "请输入第4个猫猫的名字. (如果不输入数据则终止程序)\n",
      "猫猫的名字是\n",
      "大狗子\n",
      "二狗子\n",
      "三狗子\n"
     ]
    }
   ],
   "source": [
    "catNames = []\n",
    "while True:\n",
    "    print(\"请输入第\" + str(len(catNames) + 1) + \"个猫猫的名字. (如果不输入数据则终止程序)\")\n",
    "    name = input()\n",
    "    if name == \"\":\n",
    "        break\n",
    "    # catNames = catNames + [name]\n",
    "    catNames.append(name)\n",
    "\n",
    "print(\"猫猫的名字是\")\n",
    "for name in catNames:\n",
    "    print(name, end=\"\\n\")\n",
    "\n",
    "\n",
    "\n"
   ]
  },
  {
   "attachments": {},
   "cell_type": "markdown",
   "metadata": {},
   "source": [
    "### 多重赋值技巧"
   ]
  },
  {
   "cell_type": "code",
   "execution_count": 8,
   "metadata": {},
   "outputs": [
    {
     "name": "stdout",
     "output_type": "stream",
     "text": [
      "fat black loud\n"
     ]
    }
   ],
   "source": [
    "cat = ['fat', 'black', 'loud']\n",
    "size, color, disposition = cat\n",
    "print(size, color, disposition)"
   ]
  },
  {
   "attachments": {},
   "cell_type": "markdown",
   "metadata": {},
   "source": [
    "> 多重复制必须要变量数和list的len相同"
   ]
  },
  {
   "cell_type": "code",
   "execution_count": null,
   "metadata": {},
   "outputs": [],
   "source": [
    "cat = ['fat', 'black', 'loud']\n",
    "size, color,  = cat\n",
    "print(size, color)\n",
    "size, color, disposition , a = cat\n",
    "print(size, color, disposition,a)"
   ]
  },
  {
   "attachments": {},
   "cell_type": "markdown",
   "metadata": {},
   "source": [
    "### 4.7 引用"
   ]
  },
  {
   "cell_type": "code",
   "execution_count": 16,
   "metadata": {},
   "outputs": [
    {
     "name": "stdout",
     "output_type": "stream",
     "text": [
      "100 42\n"
     ]
    }
   ],
   "source": [
    "spam = 42\n",
    "cheese = spam\n",
    "spam = 100\n",
    "print(spam, cheese)"
   ]
  },
  {
   "attachments": {},
   "cell_type": "markdown",
   "metadata": {},
   "source": [
    "> 但是在list中却存在差异"
   ]
  },
  {
   "cell_type": "code",
   "execution_count": 18,
   "metadata": {},
   "outputs": [
    {
     "name": "stdout",
     "output_type": "stream",
     "text": [
      "[0, 'Hello!', 2, 3, 4, 5] [0, 'Hello!', 2, 3, 4, 5]\n"
     ]
    }
   ],
   "source": [
    "spam = [0, 1, 2, 3, 4, 5]\n",
    "cheese = spam \n",
    "#这里是把spam拷贝了一份给cheese，\n",
    "# 所以cheese的值会随spam的变化而变化\n",
    "cheese[1] = 'Hello!'\n",
    "print(spam, cheese)"
   ]
  },
  {
   "cell_type": "code",
   "execution_count": 19,
   "metadata": {},
   "outputs": [
    {
     "name": "stdout",
     "output_type": "stream",
     "text": [
      "[0, 1, 2, 3, 4, 5] [0, 'Hello!', 2, 3, 4, 5]\n"
     ]
    }
   ],
   "source": [
    "spam = [0, 1, 2, 3, 4, 5]\n",
    "cheese = spam[:]\n",
    "#这里是把spam的数据复制了一份给cheese，\n",
    "# 所以cheese的值会保持独立性\n",
    "cheese[1] = 'Hello!'\n",
    "print(spam, cheese)"
   ]
  },
  {
   "cell_type": "markdown",
   "metadata": {},
   "source": [
    "### 4.7.2 copy模块的copy()和deepcopy()函数"
   ]
  },
  {
   "cell_type": "markdown",
   "metadata": {},
   "source": [
    "> copy.copy()，可以用来复制列表或字典这样的可变值，而不只是复制引用。"
   ]
  },
  {
   "cell_type": "code",
   "execution_count": 26,
   "metadata": {},
   "outputs": [
    {
     "name": "stdout",
     "output_type": "stream",
     "text": [
      "['A', 'B', 'C', 'D'] \n",
      " ['A', 42, 'C', 'D']\n"
     ]
    }
   ],
   "source": [
    "import copy\n",
    "\n",
    "spam = [\"A\",\"B\",\"C\",\"D\",]\n",
    "cheese = copy.copy(spam)\n",
    "cheese[1] = 42\n",
    "print(spam, \"\\n\", cheese)\n"
   ]
  },
  {
   "cell_type": "code",
   "execution_count": 27,
   "metadata": {},
   "outputs": [
    {
     "name": "stdout",
     "output_type": "stream",
     "text": [
      "['A', 'B', 'C', 'D'] \n",
      " ['A', 42, 'C', 'D']\n"
     ]
    }
   ],
   "source": [
    "spam = [\"A\",\"B\",\"C\",\"D\",]\n",
    "cheese = spam[:]\n",
    "cheese[1] = 42\n",
    "print(spam, \"\\n\", cheese)"
   ]
  },
  {
   "attachments": {},
   "cell_type": "markdown",
   "metadata": {},
   "source": [
    "> 上面的两种写法有啥区别吗？"
   ]
  },
  {
   "attachments": {},
   "cell_type": "markdown",
   "metadata": {},
   "source": [
    "> 如果要复制的列表中包含了列表，那就使用copy.deepcopy()函数来代替\n",
    "> 即copy不能复制对象中的子对象，deepcopy完全拷贝了父对象及其子对象。"
   ]
  },
  {
   "cell_type": "code",
   "execution_count": 28,
   "metadata": {},
   "outputs": [
    {
     "name": "stdout",
     "output_type": "stream",
     "text": [
      "['A', 'B', 'C', 'D', [1, 2, 3, 4]] \n",
      " ['A', 'B', 'C', 'D', [42, 43, 44, 45]]\n"
     ]
    }
   ],
   "source": [
    "import copy\n",
    "\n",
    "spam = [\"A\",\"B\",\"C\",\"D\",[1,2,3,4]]\n",
    "cheese = copy.deepcopy(spam)\n",
    "cheese[4] = [42,43,44,45]\n",
    "print(spam, \"\\n\", cheese)"
   ]
  },
  {
   "cell_type": "code",
   "execution_count": 29,
   "metadata": {},
   "outputs": [
    {
     "name": "stdout",
     "output_type": "stream",
     "text": [
      "['A', 'B', 'C', 'D', [1, 2, 3, 4]] \n",
      " ['A', 'B', 'C', 'D', [42, 43, 44, 45]]\n"
     ]
    }
   ],
   "source": [
    "spam = [\"A\",\"B\",\"C\",\"D\",[1,2,3,4]]\n",
    "cheese = spam[:]\n",
    "cheese[4] = [42,43,44,45]\n",
    "print(spam, \"\\n\", cheese)"
   ]
  },
  {
   "cell_type": "code",
   "execution_count": 36,
   "metadata": {},
   "outputs": [
    {
     "data": {
      "text/plain": [
       "'d'"
      ]
     },
     "execution_count": 36,
     "metadata": {},
     "output_type": "execute_result"
    }
   ],
   "source": [
    "spam = ['a', 'b', 'c', 'd']\n",
    "spam[int(int('3' * 2 )/ 11)]"
   ]
  },
  {
   "cell_type": "markdown",
   "metadata": {},
   "source": [
    "### 4.10.1 逗号代码"
   ]
  },
  {
   "attachments": {},
   "cell_type": "markdown",
   "metadata": {},
   "source": [
    "假定有下面这样的列表：\n",
    "\n",
    "spam = ['apples', 'bananas', 'tofu', 'cats']\n",
    "\n",
    "\n",
    "编写一个函数，它以一个列表值作为参数，返回一个字符串。该字符串包含所有表项，表项之间以逗号和空格分隔，并在最后一个表项之前插入and。例如，将前面的spam列表传递给函数，将返回'apples, bananas,tofu, and cats'。但你的函数应该能够处理传递给它的任何列表。"
   ]
  },
  {
   "cell_type": "code",
   "execution_count": 50,
   "metadata": {},
   "outputs": [
    {
     "name": "stdout",
     "output_type": "stream",
     "text": [
      "apples, bananas, tofu, cats, dog, and frog\n"
     ]
    }
   ],
   "source": [
    "def convert_list(deal_list):\n",
    "    list_len = len(deal_list)\n",
    "    list_str = ''\n",
    "    for i in range(list_len):\n",
    "        if i < list_len -1:\n",
    "            list_str += deal_list[i] + \", \"\n",
    "        else:\n",
    "            list_str += \"and \" + deal_list[list_len-1]\n",
    "    return list_str\n",
    "\n",
    "spam = ['apples', 'bananas', 'tofu', 'cats', \"dog\",\"frog\"]\n",
    "print(convert_list(spam))"
   ]
  },
  {
   "attachments": {},
   "cell_type": "markdown",
   "metadata": {},
   "source": [
    "### 4.10.2 字符图网格"
   ]
  },
  {
   "attachments": {},
   "cell_type": "markdown",
   "metadata": {},
   "source": [
    "假定有一个列表的列表，内层列表的每个值都是包含一个字符的字符串，像这样：\n",
    "\n",
    "grid = [['.', '.', '.', '.', '.', '.'],\n",
    "        ['.', 'O', 'O', '.', '.', '.'],\n",
    "        ['O', 'O', 'O', 'O', '.', '.'],\n",
    "        ['O', 'O', 'O', 'O', 'O', '.'],\n",
    "        ['.', 'O', 'O', 'O', 'O', 'O'],\n",
    "        ['O', 'O', 'O', 'O', 'O', '.'],\n",
    "        ['O', 'O', 'O', 'O', '.', '.'],\n",
    "        ['.', 'O', 'O', '.', '.', '.'],\n",
    "        ['.', '.', '.', '.', '.', '.']]\n",
    "\n",
    "你可以认为grid[x][y]是一幅“图”在x、y坐标处的字符，该图由文\n",
    "本字符组成。原点(0, 0)在左上角，向右x坐标增加，向下y坐标增加。\n",
    "复制前面的网格值，编写代码用它打印出图像。\n",
    "\n",
    "..OO.OO..\n",
    ".OOOOOOO.\n",
    ".OOOOOOO.\n",
    "..OOOOO..\n",
    "...OOO...\n",
    "....O...."
   ]
  },
  {
   "cell_type": "code",
   "execution_count": 67,
   "metadata": {},
   "outputs": [
    {
     "name": "stdout",
     "output_type": "stream",
     "text": [
      ". . O O . O O . . \n",
      ". O O O O O O O . \n",
      ". O O O O O O O . \n",
      ". . O O O O O . . \n",
      ". . . O O O . . . \n",
      ". . . . O . . . . \n"
     ]
    }
   ],
   "source": [
    "def transfer_list(deal_list):\n",
    "    len_x = len(deal_list)\n",
    "    len_y = len(deal_list[0]) \n",
    "    # 因为转置后列变行，行变列，但是print是一行一行打印的，\n",
    "    # 所以先处理的是原list的列，在每一个子列表脚标相同的情况下遍历左右的子list\n",
    "    for y in range(len_y):\n",
    "        for x in range(len_x):\n",
    "            print(deal_list[x][y], end=' ')\n",
    "        print(\"\")\n",
    "\n",
    "grid = [['.', '.', '.', '.', '.', '.'],\n",
    "        ['.', 'O', 'O', '.', '.', '.'],\n",
    "        ['O', 'O', 'O', 'O', '.', '.'],\n",
    "        ['O', 'O', 'O', 'O', 'O', '.'],\n",
    "        ['.', 'O', 'O', 'O', 'O', 'O'],\n",
    "        ['O', 'O', 'O', 'O', 'O', '.'],\n",
    "        ['O', 'O', 'O', 'O', '.', '.'],\n",
    "        ['.', 'O', 'O', '.', '.', '.'],\n",
    "        ['.', '.', '.', '.', '.', '.']]\n",
    "transfer_list(grid)"
   ]
  },
  {
   "attachments": {},
   "cell_type": "markdown",
   "metadata": {},
   "source": [
    "#### 升级难度，尝试实践list转置代码的编写"
   ]
  },
  {
   "cell_type": "code",
   "execution_count": 85,
   "metadata": {},
   "outputs": [
    {
     "name": "stdout",
     "output_type": "stream",
     "text": [
      "['.', '.', 'O', 'O', '.', 'O', 'O', '.', '.']\n",
      "['.', 'O', 'O', 'O', 'O', 'O', 'O', 'O', '.']\n",
      "['.', 'O', 'O', 'O', 'O', 'O', 'O', 'O', '.']\n",
      "['.', '.', 'O', 'O', 'O', 'O', 'O', '.', '.']\n",
      "['.', '.', '.', 'O', 'O', 'O', '.', '.', '.']\n",
      "['.', '.', '.', '.', 'O', '.', '.', '.', '.']\n"
     ]
    }
   ],
   "source": [
    "def transfer_list(deal_list):\n",
    "    len_x = len(deal_list)\n",
    "    len_y = len(deal_list[0]) \n",
    "    # 生成一个由原list转置得到的新的空list\n",
    "    new_list = []\n",
    "    child_list = []\n",
    "    for y in range(len_y):\n",
    "        for x in range(len_x):\n",
    "            child_list.append('')\n",
    "        new_list.append(child_list)\n",
    "        child_list = []\n",
    "\n",
    "    # 因为转置后列变行，行变列，但是print是一行一行打印的，\n",
    "    # 所以先处理的是原list的列，在每一个子列表脚标相同的情况下遍历左右的子list\n",
    "    # 因为现在已经有了新的转置后的空list，\n",
    "    # 所以现在先处理行还是列都无所谓了，\n",
    "    # 只要把行变成列，列变成行就实现目标了\n",
    "    for x in range(len_x):\n",
    "        for y in range(len_y):\n",
    "            new_list[y][x]= deal_list[x][y]\n",
    "\n",
    "    for y in range(len_y):\n",
    "        print(new_list[y])\n",
    "\n",
    "grid = [['.', '.', '.', '.', '.', '.'],\n",
    "        ['.', 'O', 'O', '.', '.', '.'],\n",
    "        ['O', 'O', 'O', 'O', '.', '.'],\n",
    "        ['O', 'O', 'O', 'O', 'O', '.'],\n",
    "        ['.', 'O', 'O', 'O', 'O', 'O'],\n",
    "        ['O', 'O', 'O', 'O', 'O', '.'],\n",
    "        ['O', 'O', 'O', 'O', '.', '.'],\n",
    "        ['.', 'O', 'O', '.', '.', '.'],\n",
    "        ['.', '.', '.', '.', '.', '.']]\n",
    "transfer_list(grid)"
   ]
  }
 ],
 "metadata": {
  "kernelspec": {
   "display_name": "base",
   "language": "python",
   "name": "python3"
  },
  "language_info": {
   "codemirror_mode": {
    "name": "ipython",
    "version": 3
   },
   "file_extension": ".py",
   "mimetype": "text/x-python",
   "name": "python",
   "nbconvert_exporter": "python",
   "pygments_lexer": "ipython3",
   "version": "3.7.13"
  },
  "orig_nbformat": 4
 },
 "nbformat": 4,
 "nbformat_minor": 2
}
