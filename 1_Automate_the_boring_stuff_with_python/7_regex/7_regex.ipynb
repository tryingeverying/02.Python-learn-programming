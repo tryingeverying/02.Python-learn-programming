{
 "cells": [
  {
   "attachments": {},
   "cell_type": "markdown",
   "metadata": {},
   "source": [
    "## 第7章　模式匹配与正则表达式"
   ]
  },
  {
   "attachments": {},
   "cell_type": "markdown",
   "metadata": {},
   "source": [
    "#### isPhoneNumber.py"
   ]
  },
  {
   "cell_type": "code",
   "execution_count": 1,
   "metadata": {},
   "outputs": [
    {
     "name": "stdout",
     "output_type": "stream",
     "text": [
      "电话号码已被找到415-555-1011\n",
      "电话号码已被找到415-555-9999\n",
      "done\n"
     ]
    }
   ],
   "source": [
    "message = 'Call me at 415-555-1011 tomorrow. 415-555-9999 is my office.'\n",
    "\n",
    "def isPhoneNumber(text): \n",
    "    if len(text) != 12:\n",
    "        return False\n",
    "    for i in range(0, 3):\n",
    "        if not text[i].isdecimal():\n",
    "            return False \n",
    "    if text[3] != '-':\n",
    "        return False\n",
    "    for i in range(4, 7):\n",
    "        if not text[i].isdecimal():\n",
    "            return False \n",
    "    if text[7] != '-':\n",
    "        return False\n",
    "    for i in range(8, 12): \n",
    "        if not text[i].isdecimal():\n",
    "            return False \n",
    "    return True\n",
    "\n",
    "for i in range(len(message)):\n",
    "    chunk = message[i:i+12]\n",
    "    if isPhoneNumber(chunk):\n",
    "        print(\"电话号码已被找到\" + chunk)\n",
    "\n",
    "print(\"done\")"
   ]
  },
  {
   "attachments": {},
   "cell_type": "markdown",
   "metadata": {},
   "source": [
    "#### 匹配Regex对象\n"
   ]
  },
  {
   "cell_type": "code",
   "execution_count": 2,
   "metadata": {},
   "outputs": [
    {
     "name": "stdout",
     "output_type": "stream",
     "text": [
      "415-555-4242\n"
     ]
    }
   ],
   "source": [
    "import re\n",
    "phoneNumRegex = re.compile(r\"\\d{3}-\\d{3}-\\d{4}\")\n",
    "mo = phoneNumRegex.search('My number is 415-555-4242.')\n",
    "print(mo.group())"
   ]
  },
  {
   "attachments": {},
   "cell_type": "markdown",
   "metadata": {},
   "source": [
    "##### 利用括号分组"
   ]
  },
  {
   "cell_type": "code",
   "execution_count": 6,
   "metadata": {},
   "outputs": [
    {
     "name": "stdout",
     "output_type": "stream",
     "text": [
      "415\n",
      "555\n",
      "4242\n",
      "415-555-4242\n",
      "415-555-4242\n",
      "('415', '555', '4242')\n"
     ]
    }
   ],
   "source": [
    "import re\n",
    "phoneNumRegex = re.compile(r\"(\\d{3})-(\\d{3})-(\\d{4})\")\n",
    "mo = phoneNumRegex.search('My number is 415-555-4242.')\n",
    "print(mo.group(1))\n",
    "print(mo.group(2))\n",
    "print(mo.group(3))\n",
    "print(mo.group( 0))\n",
    "print(mo.group())\n",
    "print(mo.groups())\n",
    "# 如果想要一次就获取所有的分组，请使用groups()方法，注意函数名的复数形式。"
   ]
  },
  {
   "attachments": {},
   "cell_type": "markdown",
   "metadata": {},
   "source": [
    "> 括号在正则表达式中有特殊的含义，但是如果你需要在文本中匹配括号。在这种情况下，就需要用倒斜杠对(和)进行字符转义。"
   ]
  },
  {
   "cell_type": "code",
   "execution_count": 12,
   "metadata": {},
   "outputs": [
    {
     "name": "stdout",
     "output_type": "stream",
     "text": [
      "(415)\n",
      "555-4242\n",
      "(415) 555-4242\n",
      "('(415)', '555-4242')\n"
     ]
    }
   ],
   "source": [
    "phoneNumRegex = re.compile(r\"(\\(\\d{3}\\)) (\\d{3}-\\d{4})\")\n",
    "mo = phoneNumRegex.search('My number is (415) 555-4242.')\n",
    "print(mo.group(1))\n",
    "print(mo.group(2))\n",
    "print(mo.group())   \n",
    "# group() 返回符合要求的整体内容\n",
    "print(mo.groups())\n",
    "# groups() 返回符合要求的子集的集合"
   ]
  },
  {
   "attachments": {},
   "cell_type": "markdown",
   "metadata": {},
   "source": [
    "#### 用管道匹配多个分组\n",
    "\n",
    "> 字符|称为“管道”。希望匹配许多表达式中的一个时，就可以使用它。"
   ]
  },
  {
   "cell_type": "code",
   "execution_count": 16,
   "metadata": {},
   "outputs": [
    {
     "name": "stdout",
     "output_type": "stream",
     "text": [
      "Batman\n",
      "Tina Fey\n"
     ]
    }
   ],
   "source": [
    "heroRegex = re.compile (r'Batman|Tina Fey')\n",
    "mo1 = heroRegex.search('Batman and Tina Fey.')\n",
    "print(mo1.group())\n",
    "# 此时他是非贪婪的，只要第一个符合要求后面的内容就不会判断。\n",
    "# 类似于(与关系(|))只要前面是真后面根本不判断\n",
    "mo2 = heroRegex.search('Tina Fey and Batman.')\n",
    "print(mo2.group())"
   ]
  },
  {
   "cell_type": "code",
   "execution_count": 19,
   "metadata": {},
   "outputs": [
    {
     "name": "stdout",
     "output_type": "stream",
     "text": [
      "('mobile',)\n",
      "Batmobile\n",
      "mobile\n"
     ]
    }
   ],
   "source": [
    "batRegex = re.compile(r\"Bat(man|mobile|copter|bat)\")\n",
    "mo = batRegex.search('Batmobile lost a wheel')\n",
    "print(mo.groups())\n",
    "# ()是分组，因为只有一个括号，分组的起始序号是1\n",
    "# 所以mo.group(1)匹配的内容是第一个括号里的内容\n",
    "print(mo.group(0))\n",
    "print(mo.group(1))"
   ]
  },
  {
   "attachments": {},
   "cell_type": "markdown",
   "metadata": {},
   "source": [
    "#### 用问号实现可选匹配\n",
    "\n",
    "> 有时候，想匹配的模式是可选的。就是说，不论这段文本在不在，正则表达式都会认为匹配"
   ]
  },
  {
   "cell_type": "code",
   "execution_count": 21,
   "metadata": {},
   "outputs": [
    {
     "name": "stdout",
     "output_type": "stream",
     "text": [
      "Batman\n",
      "Batwoman\n"
     ]
    }
   ],
   "source": [
    "batRegex = re.compile(r\"Bat(wo)?man\")\n",
    "mo1 = batRegex.search(\"The Adventures of Batman\")\n",
    "print(mo1.group())\n",
    "\n",
    "mo2 = batRegex.search(\"The Adventures of Batwoman\")\n",
    "print(mo2.group())"
   ]
  },
  {
   "attachments": {},
   "cell_type": "markdown",
   "metadata": {},
   "source": [
    "> ? 匹配问号前的分组零次or一次\n",
    "\n",
    "> \\* 匹配星号前的分组零次or多次\n",
    "\n",
    "> \\+ 匹配加号前的分组一次or多次"
   ]
  },
  {
   "cell_type": "code",
   "execution_count": 22,
   "metadata": {},
   "outputs": [
    {
     "name": "stdout",
     "output_type": "stream",
     "text": [
      "Batman\n",
      "Batwoman\n",
      "Batwowowoman\n"
     ]
    }
   ],
   "source": [
    "batRegex = re.compile(r\"Bat(wo)*man\")\n",
    "mo1 = batRegex.search(\"The Adventures of Batman\")\n",
    "print(mo1.group())\n",
    "\n",
    "mo2 = batRegex.search(\"The Adventures of Batwoman\")\n",
    "print(mo2.group())\n",
    "\n",
    "mo3 = batRegex.search(\"The Adventures of Batwowowoman\")\n",
    "print(mo3.group())"
   ]
  },
  {
   "cell_type": "code",
   "execution_count": 25,
   "metadata": {},
   "outputs": [
    {
     "name": "stdout",
     "output_type": "stream",
     "text": [
      "Batwoman\n",
      "Batwowowoman\n",
      "True\n"
     ]
    }
   ],
   "source": [
    "batRegex = re.compile(r\"Bat(wo)+man\")\n",
    "\n",
    "mo2 = batRegex.search(\"The Adventures of Batwoman\")\n",
    "print(mo2.group())\n",
    "\n",
    "mo3 = batRegex.search(\"The Adventures of Batwowowoman\")\n",
    "print(mo3.group())\n",
    "\n",
    "mo1 = batRegex.search(\"The Adventures of Batman\")\n",
    "print(mo1 == None)\n",
    "# 因为+意味着至少存在一次，所以当一次都不匹配的时候，mo1的返回值是None"
   ]
  },
  {
   "attachments": {},
   "cell_type": "markdown",
   "metadata": {},
   "source": [
    "#### 贪心和非贪心匹配\n",
    "\n",
    "> Python的正则表达式默认是“贪心”的，这表示在有二义的情况下，它们会尽可能匹配最长的字符串。花括号的“非贪心”版本匹配尽可能最短的字符串，即在结束的花括号后跟着一个问号。"
   ]
  },
  {
   "cell_type": "code",
   "execution_count": 27,
   "metadata": {},
   "outputs": [
    {
     "name": "stdout",
     "output_type": "stream",
     "text": [
      "HaHaHaHa\n",
      "HaHaHaHaHa\n"
     ]
    }
   ],
   "source": [
    "greedyHaRegex = re.compile(r\"(Ha){3,5}\")\n",
    "mo1 = greedyHaRegex.search(\"HaHaHaHa\")\n",
    "print(mo1.group())\n",
    "mo2 = greedyHaRegex.search(\"HaHaHaHaHa\")\n",
    "print(mo2.group())\n",
    "# 上述输出结果表明python的正则表达式默认匹配次数多的情况"
   ]
  },
  {
   "cell_type": "code",
   "execution_count": 31,
   "metadata": {},
   "outputs": [
    {
     "name": "stdout",
     "output_type": "stream",
     "text": [
      "True\n",
      "Haaaaa\n"
     ]
    }
   ],
   "source": [
    "greedyHaRegex = re.compile(r\"Ha{3,5}\")\n",
    "mo1 = greedyHaRegex.search(\"HaHaHaHa\")\n",
    "print(mo1 == None)\n",
    "mo2 = greedyHaRegex.search(\"Haaaaa\")\n",
    "print(mo2.group())\n",
    "\n",
    "# 如果不给Ha加上()就默认匹配对象是a"
   ]
  },
  {
   "cell_type": "code",
   "execution_count": 32,
   "metadata": {},
   "outputs": [
    {
     "name": "stdout",
     "output_type": "stream",
     "text": [
      "HaHaHa\n",
      "HaHaHa\n"
     ]
    }
   ],
   "source": [
    "greedyHaRegex = re.compile(r\"(Ha){3,5}?\")\n",
    "mo1 = greedyHaRegex.search(\"HaHaHaHa\")\n",
    "print(mo1.group())\n",
    "mo2 = greedyHaRegex.search(\"HaHaHaHaHa\")\n",
    "print(mo2.group())"
   ]
  },
  {
   "attachments": {},
   "cell_type": "markdown",
   "metadata": {},
   "source": [
    "> 问号在正则表达式中可能有两种含义：声明非贪心匹配或表示可选的分组。\n",
    "\n",
    "> 声明非贪婪的情况是? 跟在一个{n, m}的后面，意味着取少不取多\n",
    "\n",
    "> 声明可选非情况是? 跟在一个分组的后面，意味着该分组可以出现零次or一次"
   ]
  },
  {
   "attachments": {},
   "cell_type": "markdown",
   "metadata": {},
   "source": [
    "#### findall()方法\n",
    "\n",
    "> search()将返回一个Match对象，包含被查找字符串中的***第一次***匹配的文本，而findall()方法将返回一组字符串，包含被查找字符串中的所有匹配。如果出现分组则从外向内输出匹配结果\n",
    "\n",
    "> findall的返回值是一个由匹配对象的tuple组成的list 其中这个tuple的第一个值是正则表达式匹配的整体结果 后面的几个值依次(顺序为从外到内，从左到右)是正则表达式的分组1,2,3····"
   ]
  },
  {
   "cell_type": "code",
   "execution_count": 6,
   "metadata": {},
   "outputs": [
    {
     "name": "stdout",
     "output_type": "stream",
     "text": [
      "415-555-9999\n"
     ]
    }
   ],
   "source": [
    "import re\n",
    "phoneNumRegex = re.compile(r\"\\d{3}-\\d{3}-\\d{4}\")\n",
    "mo = phoneNumRegex.search(\"Cell: 415-555-9999 Work: 212-555-0000\")\n",
    "print(mo.group())\n"
   ]
  },
  {
   "cell_type": "code",
   "execution_count": 118,
   "metadata": {},
   "outputs": [
    {
     "name": "stdout",
     "output_type": "stream",
     "text": [
      "415-555\n"
     ]
    }
   ],
   "source": [
    "import re\n",
    "phoneNumRegex = re.compile(r\"(((\\d{3})-(\\d{3}))-(\\d{4}))\")\n",
    "mo = phoneNumRegex.findall(\"Cell: 415-555-9999 Work: 212-555-0000\")\n",
    "# phoneNumRegex.findall(\"Cell: 415-555-9999 Work: 212-555-0000\")\n",
    "print(mo[0][1])"
   ]
  },
  {
   "attachments": {},
   "cell_type": "markdown",
   "metadata": {},
   "source": [
    "> 如果在正则表达式中有分组，那么findall将返回元组的列表。每个元组表示一个找到的匹配，其中的项就是正则表达式中每个分组的匹配字符串"
   ]
  },
  {
   "cell_type": "code",
   "execution_count": 9,
   "metadata": {},
   "outputs": [
    {
     "data": {
      "text/plain": [
       "[('415', '555', '9999'), ('212', '555', '0000')]"
      ]
     },
     "execution_count": 9,
     "metadata": {},
     "output_type": "execute_result"
    }
   ],
   "source": [
    "phoneNumRegex = re.compile(r\"(\\d{3})-(\\d{3})-(\\d{4})\")\n",
    "phoneNumRegex.findall(\"Cell: 415-555-9999 Work: 212-555-0000\")"
   ]
  },
  {
   "attachments": {},
   "cell_type": "markdown",
   "metadata": {},
   "source": [
    "|缩写字符分类|表示|\n",
    "|-|-|\n",
    "|\\d|0-9的任何数字|\n",
    "|\\D|非0-9的任何数字|\n",
    "|\\w|任何字母、数字或下划线字符（可以认为是匹配“单词”字符）|\n",
    "|\\W|除字母、数字和下划线以外的任何字符|\n",
    "|\\s|空格、制表符或换行符（可以认为是匹配“空白”字符）|\n",
    "|\\S|除空格、制表符和换行符以外的任何字符|"
   ]
  },
  {
   "cell_type": "code",
   "execution_count": 10,
   "metadata": {},
   "outputs": [
    {
     "data": {
      "text/plain": [
       "['12 drummers',\n",
       " '11 pipers',\n",
       " '10 lords',\n",
       " '9 ladies',\n",
       " '8 maids',\n",
       " '7 swans',\n",
       " '6 geese',\n",
       " '5 rings',\n",
       " '4 birds',\n",
       " '3 hens',\n",
       " '2 doves',\n",
       " '1 partridge']"
      ]
     },
     "execution_count": 10,
     "metadata": {},
     "output_type": "execute_result"
    }
   ],
   "source": [
    "xmasRegex = re.compile(r\"\\d+\\s\\w+\")\n",
    "xmasRegex.findall('12 drummers, 11 pipers, 10 lords, 9 ladies, 8 maids, 7 swans, 6 geese, 5 rings, 4 birds, 3 hens, 2 doves, 1 partridge')"
   ]
  },
  {
   "attachments": {},
   "cell_type": "markdown",
   "metadata": {},
   "source": [
    "#### 建立自己的字符分类\n",
    "> 使用方括号实现正则的字符集合，在方括号内，普通的正则表达式符号不会被解释。这意味着，你不需要前面加上倒斜杠转义.、*、?或()字符。"
   ]
  },
  {
   "cell_type": "code",
   "execution_count": 12,
   "metadata": {},
   "outputs": [
    {
     "data": {
      "text/plain": [
       "['o', 'o', 'o', 'e', 'a', 'a', 'o', 'o', 'A', 'O', 'O']"
      ]
     },
     "execution_count": 12,
     "metadata": {},
     "output_type": "execute_result"
    }
   ],
   "source": [
    "vowelRegex = re.compile(r'[aeiouAEIOU]')\n",
    "vowelRegex.findall('RoboCop eats baby food. BABY FOOD.')"
   ]
  },
  {
   "cell_type": "code",
   "execution_count": 13,
   "metadata": {},
   "outputs": [
    {
     "data": {
      "text/plain": [
       "['aeiouAEIOU']"
      ]
     },
     "execution_count": 13,
     "metadata": {},
     "output_type": "execute_result"
    }
   ],
   "source": [
    "vowelRegex = re.compile(r'(aeiouAEIOU)')\n",
    "vowelRegex.findall('RoboCop eats baby food. aeiouAEIOU BABY FOOD.')"
   ]
  },
  {
   "attachments": {},
   "cell_type": "markdown",
   "metadata": {},
   "source": [
    "> 如上所示，使用方括号的匹配结果得到的是和方括号字符集中一个or多个的内容相同的结果，但是如果使用小括号就是返回和小括号中的内容严格一样的结果"
   ]
  },
  {
   "attachments": {},
   "cell_type": "markdown",
   "metadata": {},
   "source": [
    "> 通过在字符分类的左方括号后加上一个插入字符（^），就可以得到“非字符类”。非字符类将匹配不在这个字符类中的所有字符。"
   ]
  },
  {
   "cell_type": "code",
   "execution_count": 17,
   "metadata": {},
   "outputs": [
    {
     "data": {
      "text/plain": [
       "['R',\n",
       " 'b',\n",
       " 'C',\n",
       " 'p',\n",
       " ' ',\n",
       " 't',\n",
       " 's',\n",
       " ' ',\n",
       " 'b',\n",
       " 'b',\n",
       " 'y',\n",
       " ' ',\n",
       " 'f',\n",
       " 'd',\n",
       " '.',\n",
       " ' ',\n",
       " 'B',\n",
       " 'B',\n",
       " 'Y',\n",
       " ' ',\n",
       " 'F',\n",
       " 'D',\n",
       " '.']"
      ]
     },
     "execution_count": 17,
     "metadata": {},
     "output_type": "execute_result"
    }
   ],
   "source": [
    "consonantRegex = re.compile(r'[^aeiouAEIOU]')\n",
    "consonantRegex.findall('RoboCop eats baby food. BABY FOOD.')"
   ]
  },
  {
   "attachments": {},
   "cell_type": "markdown",
   "metadata": {},
   "source": [
    "#### 插入字符和美元字符"
   ]
  },
  {
   "attachments": {},
   "cell_type": "markdown",
   "metadata": {},
   "source": [
    "> 可以在正则表达式的开始处使用插入符号（^），表明匹配必须发生在被查找文本开始处。类似地，可以再正则表达式的末尾加上美元符号（$），表示该字符串必须以这个正则表达式的模式结束"
   ]
  },
  {
   "cell_type": "code",
   "execution_count": 20,
   "metadata": {},
   "outputs": [
    {
     "data": {
      "text/plain": [
       "'Hello'"
      ]
     },
     "execution_count": 20,
     "metadata": {},
     "output_type": "execute_result"
    }
   ],
   "source": [
    "beginsWithHello = re.compile(r\"^Hello\")\n",
    "mo = beginsWithHello.search(\"Hello world!\")\n",
    "mo.group()"
   ]
  },
  {
   "cell_type": "code",
   "execution_count": 29,
   "metadata": {},
   "outputs": [
    {
     "name": "stdout",
     "output_type": "stream",
     "text": [
      "True\n",
      "True\n",
      "True\n"
     ]
    }
   ],
   "source": [
    "mo = beginsWithHello.search(\"hello world!\")\n",
    "print(mo == None)\n",
    "mo1 = beginsWithHello.search(\"hello world! Hello\")\n",
    "print(mo1 == None)\n",
    "mo2 = beginsWithHello.search(\" Hello world! Hello\")\n",
    "print(mo2 == None)"
   ]
  },
  {
   "attachments": {},
   "cell_type": "markdown",
   "metadata": {},
   "source": [
    "> 这个^的要求就是待匹配的部分必须严格的以正则表达式中的形式出现，就算前面有个空格也不行"
   ]
  },
  {
   "cell_type": "code",
   "execution_count": 30,
   "metadata": {},
   "outputs": [
    {
     "data": {
      "text/plain": [
       "<re.Match object; span=(16, 17), match='2'>"
      ]
     },
     "execution_count": 30,
     "metadata": {},
     "output_type": "execute_result"
    }
   ],
   "source": [
    "endsWithNumber = re.compile(r\"\\d$\")\n",
    "endsWithNumber.search('Your number is 42')"
   ]
  },
  {
   "cell_type": "code",
   "execution_count": 32,
   "metadata": {},
   "outputs": [
    {
     "name": "stdout",
     "output_type": "stream",
     "text": [
      "True\n",
      "True\n"
     ]
    }
   ],
   "source": [
    "mo = endsWithNumber.search('Your number is forty two')\n",
    "print(mo == None)\n",
    "mo1 = endsWithNumber.search('Your number is 42  ')\n",
    "print(mo1 == None)"
   ]
  },
  {
   "attachments": {},
   "cell_type": "markdown",
   "metadata": {},
   "source": [
    "#### 正则表达式中易混点辨析\n",
    "##### ?的不同含义\n",
    "> 如果? 是出现在()的后面，意味着?前面哪个小括号的分组出现零次or一次\n",
    "\n",
    "> 如果? 是出现在{}or是代表次数的 * ? +的后面，也就意味着匹配次数为非贪婪模式，取少不取多\n",
    "```python\n",
    "# 匹配前面分组的情况\n",
    "timesRegex = re.compile(r\"(ha)?\")\n",
    "mo1 = timesRegex.search(\"hahaha\")\n",
    "mo2 = timesRegex.search(\"hhhh\")\n",
    "print(mo1.group(),mo2.group())\n",
    "print(mo2)\n",
    "\"\"\"输出结果\n",
    "ha \n",
    "<re.Match object; span=(0, 0), match=''>\n",
    "\"\"\"\n",
    "# 匹配非贪婪的情况\n",
    "greedyMatchRegex1 = re.compile(r\"(ha){2,3}?\")\n",
    "mo1 = greedyMatchRegex1.search(\"hahaha\")\n",
    "greedyMatchRegex2 = re.compile(r\"(ha){2,3}\")\n",
    "mo2 = greedyMatchRegex2.search(\"hahaha\")\n",
    "print(mo1.group(),mo2.group())\n",
    "\"\"\"输出结果\n",
    "haha hahaha\n",
    "\"\"\"\n",
    "```\n",
    "##### ^的不同含义\n",
    "> 如果^ 是出现在[]中内容的最前面，意味着^所在的字符集取非操作\n",
    "\n",
    "> 如果^ 是出现在一个待匹配内容or()的前面,意味着^后面的内容必须严格的出现在待匹配项的最前面\n",
    "```python \n",
    "# 取非操作\n",
    "nonRegex = re.compile(r\"[^a]\")\n",
    "mo1 = nonRegex.search(\"hahaha\")\n",
    "# 起始操作\n",
    "beginWidthRegex = re.compile(r\"^(ha)\")\n",
    "mo2 = beginWidthRegex.search(\"hahaha\")\n",
    "print(mo1.group(),mo2.group())\n",
    "\"\"\"输出结果\n",
    "h ha\n",
    "\"\"\"\n",
    "```"
   ]
  },
  {
   "cell_type": "code",
   "execution_count": 40,
   "metadata": {},
   "outputs": [
    {
     "name": "stdout",
     "output_type": "stream",
     "text": [
      "h ha\n"
     ]
    }
   ],
   "source": [
    "nonRegex = re.compile(r\"[^a]\")\n",
    "mo1 = nonRegex.search(\"ha ha ha\")\n",
    "beginWidthRegex = re.compile(r\"^(ha)\")\n",
    "mo2 = beginWidthRegex.search(\"hahaha\")\n",
    "print(mo1.group(),mo2.group())\n"
   ]
  },
  {
   "attachments": {},
   "cell_type": "markdown",
   "metadata": {},
   "source": [
    "#### 通配字符\n",
    "> 在正则表达式中，.（句点）字符称为“通配符”。它匹配除了换行之外的所有字符。"
   ]
  },
  {
   "cell_type": "code",
   "execution_count": 42,
   "metadata": {},
   "outputs": [
    {
     "data": {
      "text/plain": [
       "['cat', 'hat', 'sat', 'lat', 'mat']"
      ]
     },
     "execution_count": 42,
     "metadata": {},
     "output_type": "execute_result"
    }
   ],
   "source": [
    "atRegex = re.compile(r\".at\")\n",
    "atRegex.findall('The cat in the hat sat on the flat mat.')"
   ]
  },
  {
   "cell_type": "code",
   "execution_count": 49,
   "metadata": {},
   "outputs": [
    {
     "data": {
      "text/plain": [
       "[('cat', 'c'), ('hat', 'h'), ('sat', 's'), ('lat', 'l'), ('mat', 'm')]"
      ]
     },
     "execution_count": 49,
     "metadata": {},
     "output_type": "execute_result"
    }
   ],
   "source": [
    "atRegex = re.compile(r\"((.)?at)\")\n",
    "atRegex.findall('The cat in the hhat sat on the flat mat.')"
   ]
  },
  {
   "cell_type": "code",
   "execution_count": 66,
   "metadata": {},
   "outputs": [
    {
     "data": {
      "text/plain": [
       "[('The cat in the hhat sat on the flat mat', 'm'), ('', ''), ('', '')]"
      ]
     },
     "execution_count": 66,
     "metadata": {},
     "output_type": "execute_result"
    }
   ],
   "source": [
    "atRegex = re.compile(r\"((.)*at)\")\n",
    "atRegex.findall('The cat in the hhat sat on the flat mat.')"
   ]
  },
  {
   "cell_type": "code",
   "execution_count": 67,
   "metadata": {},
   "outputs": [
    {
     "data": {
      "text/plain": [
       "[('The cat in the hhat sat on the flat mat', 'm'), ('', ''), ('', '')]"
      ]
     },
     "execution_count": 67,
     "metadata": {},
     "output_type": "execute_result"
    }
   ],
   "source": [
    "atRegex = re.compile(r\"((.)+at)\")\n",
    "atRegex.findall('The cat in the hhat sat on the flat mat.')"
   ]
  },
  {
   "attachments": {},
   "cell_type": "markdown",
   "metadata": {},
   "source": [
    "##### 用点-星匹配所有字符"
   ]
  },
  {
   "cell_type": "code",
   "execution_count": 65,
   "metadata": {},
   "outputs": [
    {
     "name": "stdout",
     "output_type": "stream",
     "text": [
      "Al\n",
      "Sweigart\n"
     ]
    }
   ],
   "source": [
    "nameRegex = re.compile(r'First Name: (.*) Last Name: (.*)')\n",
    "mo = nameRegex.search('First Name: Al Last Name: Sweigart')\n",
    "print(mo.group(1))\n",
    "print(mo.group(2))"
   ]
  },
  {
   "attachments": {},
   "cell_type": "markdown",
   "metadata": {},
   "source": [
    "> 点-星使用“贪心”模式"
   ]
  },
  {
   "cell_type": "code",
   "execution_count": 69,
   "metadata": {},
   "outputs": [
    {
     "data": {
      "text/plain": [
       "'< To serve man>'"
      ]
     },
     "execution_count": 69,
     "metadata": {},
     "output_type": "execute_result"
    }
   ],
   "source": [
    "nongreedRegex = re.compile(r\"<.*?>\")\n",
    "mo = nongreedRegex.search(\"< To serve man> for dinner.>\")\n",
    "mo.group()"
   ]
  },
  {
   "cell_type": "code",
   "execution_count": 71,
   "metadata": {},
   "outputs": [
    {
     "data": {
      "text/plain": [
       "'< To serve man> for dinner.>'"
      ]
     },
     "execution_count": 71,
     "metadata": {},
     "output_type": "execute_result"
    }
   ],
   "source": [
    "nongreedRegex = re.compile(r\"<.*>\")\n",
    "mo = nongreedRegex.search(\"< To serve man> for dinner.>\")\n",
    "mo.group()"
   ]
  },
  {
   "attachments": {},
   "cell_type": "markdown",
   "metadata": {},
   "source": [
    "##### 用句点字符匹配换行"
   ]
  },
  {
   "cell_type": "code",
   "execution_count": 72,
   "metadata": {},
   "outputs": [
    {
     "data": {
      "text/plain": [
       "'Serve the public trust.'"
      ]
     },
     "execution_count": 72,
     "metadata": {},
     "output_type": "execute_result"
    }
   ],
   "source": [
    "noNewlineRegex = re.compile('.*')\n",
    "noNewlineRegex.search(\"Serve the public trust.\\nProtect the innocent.\\nUphold the law.\").group()"
   ]
  },
  {
   "cell_type": "code",
   "execution_count": 73,
   "metadata": {},
   "outputs": [
    {
     "data": {
      "text/plain": [
       "'Serve the public trust.\\nProtect the innocent.\\nUphold the law.'"
      ]
     },
     "execution_count": 73,
     "metadata": {},
     "output_type": "execute_result"
    }
   ],
   "source": [
    "noNewlineRegex = re.compile('.*',re.DOTALL)\n",
    "noNewlineRegex.search(\"Serve the public trust.\\nProtect the innocent.\\nUphold the law.\").group()"
   ]
  },
  {
   "attachments": {},
   "cell_type": "markdown",
   "metadata": {},
   "source": [
    "> 正则表达式noNewlineRegex 在创建时没有向re.compile() 传入re.DOTALL ， 它将匹配所有字符， 直到第一个换行字符。但是，newlineRegex在创建时向re.compile()传入了re.DOTALL，它将匹配所有字符"
   ]
  },
  {
   "attachments": {},
   "cell_type": "markdown",
   "metadata": {},
   "source": [
    "#### 不区分大小写的匹配\n",
    "\n",
    "> 有时候你只关心匹配字母，不关心它们是大写或小写。要让正则表达式不区分大小写，可以向re.compile()传入re.IGNORECASE或re.I，"
   ]
  },
  {
   "cell_type": "code",
   "execution_count": 75,
   "metadata": {},
   "outputs": [
    {
     "data": {
      "text/plain": [
       "'RoboCop'"
      ]
     },
     "execution_count": 75,
     "metadata": {},
     "output_type": "execute_result"
    }
   ],
   "source": [
    "robocop = re.compile(r'robocop', re.I)\n",
    "robocop.search('RoboCop is part man, part machine, all cop.').group()"
   ]
  },
  {
   "cell_type": "code",
   "execution_count": 76,
   "metadata": {},
   "outputs": [
    {
     "data": {
      "text/plain": [
       "'ROBOCOP'"
      ]
     },
     "execution_count": 76,
     "metadata": {},
     "output_type": "execute_result"
    }
   ],
   "source": [
    "robocop.search('ROBOCOP protects the innocent.').group()"
   ]
  },
  {
   "cell_type": "code",
   "execution_count": 77,
   "metadata": {},
   "outputs": [
    {
     "data": {
      "text/plain": [
       "'robocop'"
      ]
     },
     "execution_count": 77,
     "metadata": {},
     "output_type": "execute_result"
    }
   ],
   "source": [
    "robocop.search('Al, why does your programming book talk about robocop so much?').group()"
   ]
  },
  {
   "attachments": {},
   "cell_type": "markdown",
   "metadata": {},
   "source": [
    "#### 用sub()方法替换字符串\n",
    "\n",
    "> 正则表达式不仅能找到文本模式，而且能够用新的文本替换掉这些模式。Regex对象的sub()方法需要传入两个参数。第一个参数是一个字符串，用于取代发现的匹配。 第二个参数是一个字符串，即正则表达式需要判断的内容。sub()方法返回替换完成后的字符串。"
   ]
  },
  {
   "cell_type": "code",
   "execution_count": 80,
   "metadata": {},
   "outputs": [
    {
     "data": {
      "text/plain": [
       "'CENSORED gave the secret documents to CENSORED.'"
      ]
     },
     "execution_count": 80,
     "metadata": {},
     "output_type": "execute_result"
    }
   ],
   "source": [
    "nameRegex = re.compile(r\"Agent \\w+\")\n",
    "# 上述要匹配的是Agent 一个字符串 直到下一个空格\n",
    "nameRegex.sub(\"CENSORED\", 'Agent Alice gave the secret documents to Agent Bob.')"
   ]
  },
  {
   "attachments": {},
   "cell_type": "markdown",
   "metadata": {},
   "source": [
    "> 在sub()的第一个参数中，可以输入\\1、\\2、\\3……。表示“在替换中输入分组1、2、3……的文本”。"
   ]
  },
  {
   "cell_type": "code",
   "execution_count": 90,
   "metadata": {},
   "outputs": [
    {
     "data": {
      "text/plain": [
       "'Agent A*l*** told Agent C*a*** that Agent E*v*** knew Agent B*o*** was a double agent.'"
      ]
     },
     "execution_count": 90,
     "metadata": {},
     "output_type": "execute_result"
    }
   ],
   "source": [
    "agetNameRegex = re.compile(r\"(Agent) (\\w)(\\w)\\w*\")\n",
    "agetNameRegex.sub(r\"\\1 \\2*\\3***\",'Agent Alice told Agent Carol that Agent Eve knew Agent Bob was a double agent.')"
   ]
  },
  {
   "attachments": {},
   "cell_type": "markdown",
   "metadata": {},
   "source": [
    "> 上面的\\1 \\2的意思就是第一个分组和第二个分组的内容不替换，保留原内容"
   ]
  },
  {
   "attachments": {},
   "cell_type": "markdown",
   "metadata": {},
   "source": [
    "#### 管理复杂的正则表达式\n",
    "\n",
    "> 向re.compile()传入变量re.VERBOSE，作为第二个参数。"
   ]
  },
  {
   "cell_type": "code",
   "execution_count": 98,
   "metadata": {},
   "outputs": [
    {
     "name": "stdout",
     "output_type": "stream",
     "text": [
      "[('415-555-1011', '415', '-', '-', '', ''), ('415-555-9999', '415', '-', '-', '', '')]\n"
     ]
    }
   ],
   "source": [
    "phoneRegex = re.compile(r'''(\n",
    "                    (\\d{3}|\\(\\d{3}\\))? # 三个数字or括号三个数字 出现零次or一次\n",
    "                    (\\s|-|\\.)? # 一个制表符or空格or短横线or任意符号 出现零次or一次\n",
    "                    \\d{3} # 三个数字\n",
    "                    (\\s|-|\\.) # 一个制表符or空格or短横线or任意符号\n",
    "                    \\d{4} # 四个数字\n",
    "                    (\\s*(ext|x|ext.)\\s*\\d{2,5})? \n",
    "                    # 任意个制表符or空格or换行 一个  ext|x|ext.任意个制表符or空格or换行 二到五位的数字\n",
    "                    )''', re.VERBOSE)\n",
    "\n",
    "mo = phoneRegex.findall(R\"'Call me at 415-555-1011 tomorrow. 415-555-9999 is my office.'\")\n",
    "print(mo)"
   ]
  },
  {
   "attachments": {},
   "cell_type": "markdown",
   "metadata": {},
   "source": [
    "#### 组合使用re.IGNOREC ASE 、re.DOTALL 和 re.VERBOSE\n",
    "\n",
    "> 可以使用管道字符（|）将变量组合起来"
   ]
  },
  {
   "cell_type": "code",
   "execution_count": 124,
   "metadata": {},
   "outputs": [
    {
     "name": "stdout",
     "output_type": "stream",
     "text": [
      "415-555-4242 \n",
      " 415 \n",
      " 555-4242\n"
     ]
    }
   ],
   "source": [
    "exampleRegex = re.compile(r'(\\d\\d\\d)-(\\d\\d\\d-\\d\\d\\d\\d)')\n",
    "mo = exampleRegex.search('415-555-4242 x234 mwq1742801515@Foxmail.com')\n",
    "print(mo.group(0),\"\\n\",mo.group(1),\"\\n\",mo.group(2))"
   ]
  },
  {
   "cell_type": "code",
   "execution_count": 129,
   "metadata": {},
   "outputs": [
    {
     "data": {
      "text/plain": [
       "'12,324,567'"
      ]
     },
     "execution_count": 129,
     "metadata": {},
     "output_type": "execute_result"
    }
   ],
   "source": [
    "threeNumRegex = re.compile(r\"^\\d{1,3}(,\\d{3})*$\")\n",
    "mo = threeNumRegex.search('12,324,567')\n",
    "mo.group()"
   ]
  },
  {
   "cell_type": "code",
   "execution_count": 138,
   "metadata": {},
   "outputs": [
    {
     "name": "stdout",
     "output_type": "stream",
     "text": [
      "W Nakamoto\n"
     ]
    }
   ],
   "source": [
    "nameRegex = re.compile(r\"[A-Z][a-z]*\\sNakamoto\")\n",
    "mo = nameRegex.search('WW Nakamoto')\n",
    "print(mo.group())"
   ]
  },
  {
   "cell_type": "code",
   "execution_count": 3,
   "metadata": {},
   "outputs": [
    {
     "name": "stdout",
     "output_type": "stream",
     "text": [
      "welcome to python\n",
      "================="
     ]
    }
   ],
   "source": [
    "greet = \"welcome to python\"\n",
    "print(greet)\n",
    "for i in range(len(greet)):\n",
    "    print(\"=\",end='')"
   ]
  },
  {
   "attachments": {},
   "cell_type": "markdown",
   "metadata": {},
   "source": []
  }
 ],
 "metadata": {
  "kernelspec": {
   "display_name": "base",
   "language": "python",
   "name": "python3"
  },
  "language_info": {
   "codemirror_mode": {
    "name": "ipython",
    "version": 3
   },
   "file_extension": ".py",
   "mimetype": "text/x-python",
   "name": "python",
   "nbconvert_exporter": "python",
   "pygments_lexer": "ipython3",
   "version": "3.7.13"
  },
  "orig_nbformat": 4
 },
 "nbformat": 4,
 "nbformat_minor": 2
}
