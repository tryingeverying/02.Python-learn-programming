{
 "cells": [
  {
   "attachments": {},
   "cell_type": "markdown",
   "metadata": {},
   "source": [
    "## 第5章　字典和结构化数据"
   ]
  },
  {
   "attachments": {},
   "cell_type": "markdown",
   "metadata": {},
   "source": [
    "> 字典是没有顺序的，对于两个字典是否相等的判断只需判断里面的元素是否能对应上相等就行，不像list那样不光元素能够一一对应而且顺序还要一致"
   ]
  },
  {
   "cell_type": "code",
   "execution_count": 5,
   "metadata": {},
   "outputs": [
    {
     "name": "stdout",
     "output_type": "stream",
     "text": [
      "True\n"
     ]
    }
   ],
   "source": [
    "pam = ['cats', 'dogs', 'moose']\n",
    "acon = [ 'cats','dogs', 'moose',]\n",
    "print(pam == acon)\n"
   ]
  },
  {
   "cell_type": "code",
   "execution_count": 6,
   "metadata": {},
   "outputs": [
    {
     "name": "stdout",
     "output_type": "stream",
     "text": [
      "False\n"
     ]
    }
   ],
   "source": [
    "spam = ['cats', 'dogs', 'moose']\n",
    "bacon = ['dogs', 'moose', 'cats']\n",
    "print(spam == bacon)"
   ]
  },
  {
   "cell_type": "code",
   "execution_count": 4,
   "metadata": {},
   "outputs": [
    {
     "name": "stdout",
     "output_type": "stream",
     "text": [
      "True\n"
     ]
    }
   ],
   "source": [
    "eggs = {'name': 'Zophie', 'species': 'cat', 'age': '8'}\n",
    "ham = {'species': 'cat', 'age': '8', 'name': 'Zophie'}\n",
    "print(eggs == ham)\n"
   ]
  },
  {
   "attachments": {},
   "cell_type": "markdown",
   "metadata": {},
   "source": [
    "> 因为字典是不排序的，所以不能像列表那样切片。"
   ]
  },
  {
   "cell_type": "code",
   "execution_count": null,
   "metadata": {},
   "outputs": [],
   "source": [
    "am = ham[1:2]\n",
    "# TypeError: unhashable type: 'slice'"
   ]
  },
  {
   "attachments": {},
   "cell_type": "markdown",
   "metadata": {},
   "source": [
    "### birthdays.py"
   ]
  },
  {
   "cell_type": "code",
   "execution_count": 9,
   "metadata": {},
   "outputs": [
    {
     "name": "stdout",
     "output_type": "stream",
     "text": [
      "请输入你的名字(输入空格则终止程序)：\n",
      "对不起lily，我们没有关于你生日的数据\n",
      "麻烦您输入一下您的生日\n",
      "生日数据已经更新\n",
      "请输入你的名字(输入空格则终止程序)：\n"
     ]
    }
   ],
   "source": [
    "birthdays = {'Alice': 'Apr 1', 'Bob': 'Dec 12', 'Carol': 'Mar 4'}\n",
    "\n",
    "while True:\n",
    "    print(\"请输入你的名字(输入空格则终止程序)：\")\n",
    "    name = input()\n",
    "    if name == \" \":\n",
    "        break\n",
    "\n",
    "    if name in birthdays:\n",
    "        print(f\"{name}你的生日是{birthdays[name]}\")\n",
    "    else:\n",
    "        print(f\"对不起{name}，我们没有关于你生日的数据\")\n",
    "        print(\"麻烦您输入一下您的生日\")\n",
    "        bday = input()\n",
    "        birthdays[name] = bday\n",
    "        print(\"生日数据已经更新\")"
   ]
  },
  {
   "cell_type": "code",
   "execution_count": 3,
   "metadata": {},
   "outputs": [
    {
     "name": "stdout",
     "output_type": "stream",
     "text": [
      "color\n",
      "age\n",
      "red\n",
      "42\n",
      "Alice Apr 1\tBob Dec 12\tCarol Mar 4\t"
     ]
    }
   ],
   "source": [
    "spam = {'color': 'red', 'age': 42}\n",
    "for key in spam.keys():\n",
    "    print(key)\n",
    "\n",
    "for value in spam.values():\n",
    "    print(value)\n",
    "\n",
    "birthdays = {'Alice': 'Apr 1', 'Bob': 'Dec 12', 'Carol': 'Mar 4'}\n",
    "for key, value in birthdays.items():\n",
    "    print(key,value,end=\"\\t\")"
   ]
  },
  {
   "cell_type": "code",
   "execution_count": 5,
   "metadata": {},
   "outputs": [
    {
     "name": "stdout",
     "output_type": "stream",
     "text": [
      "<class 'dict_keys'> <class 'dict_values'> <class 'dict_items'>\n"
     ]
    }
   ],
   "source": [
    "spam = {'color': 'red', 'age': 42}\n",
    "print(type(spam.keys()),type(spam.values()),type(spam.items()))\n"
   ]
  },
  {
   "attachments": {},
   "cell_type": "markdown",
   "metadata": {},
   "source": [
    "### 5.1.4 get()方法"
   ]
  },
  {
   "attachments": {},
   "cell_type": "markdown",
   "metadata": {},
   "source": [
    "> 字典get()方法，它有两个参数：要取得其值的键，以及如果该键不存在时，返回的备用值。"
   ]
  },
  {
   "cell_type": "code",
   "execution_count": 14,
   "metadata": {},
   "outputs": [
    {
     "data": {
      "text/plain": [
       "'I am bringing 2 cups.'"
      ]
     },
     "execution_count": 14,
     "metadata": {},
     "output_type": "execute_result"
    }
   ],
   "source": [
    "picnicItems = {'apples': 5, 'cups': 2}\n",
    "'I am bringing ' + str(picnicItems.get('cups', 0)) + ' cups.'"
   ]
  },
  {
   "cell_type": "code",
   "execution_count": 13,
   "metadata": {},
   "outputs": [
    {
     "data": {
      "text/plain": [
       "'I am bringing 0 tables.'"
      ]
     },
     "execution_count": 13,
     "metadata": {},
     "output_type": "execute_result"
    }
   ],
   "source": [
    "'I am bringing ' + str(picnicItems.get('tables', 0)) + ' tables.'"
   ]
  },
  {
   "attachments": {},
   "cell_type": "markdown",
   "metadata": {},
   "source": [
    "### 5.1.5 setdefault()方法"
   ]
  },
  {
   "attachments": {},
   "cell_type": "markdown",
   "metadata": {},
   "source": [
    "> setdefault()方法:该方法的第一个参数，是要检查的键。第二个参数，是如果该键不存在时要设置的值。如果该键确实存在，方法就会返回键的值。"
   ]
  },
  {
   "cell_type": "code",
   "execution_count": 16,
   "metadata": {},
   "outputs": [
    {
     "data": {
      "text/plain": [
       "{'name': 'Pooka', 'age': 5, 'color': 'black'}"
      ]
     },
     "execution_count": 16,
     "metadata": {},
     "output_type": "execute_result"
    }
   ],
   "source": [
    "spam = {'name': 'Pooka', 'age': 5}\n",
    "spam.setdefault(\"color\", \"black\")\n",
    "spam"
   ]
  },
  {
   "cell_type": "code",
   "execution_count": 17,
   "metadata": {},
   "outputs": [
    {
     "data": {
      "text/plain": [
       "{'name': 'Pooka', 'age': 5, 'color': 'black'}"
      ]
     },
     "execution_count": 17,
     "metadata": {},
     "output_type": "execute_result"
    }
   ],
   "source": [
    "spam.setdefault(\"color\", \"white\")\n",
    "spam"
   ]
  },
  {
   "attachments": {},
   "cell_type": "markdown",
   "metadata": {},
   "source": [
    "#### characterCount.py"
   ]
  },
  {
   "cell_type": "code",
   "execution_count": 19,
   "metadata": {},
   "outputs": [
    {
     "name": "stdout",
     "output_type": "stream",
     "text": [
      "{'I': 1, 't': 6, ' ': 13, 'w': 2, 'a': 4, 's': 3, 'b': 1, 'r': 5, 'i': 6, 'g': 2, 'h': 3, 'c': 3, 'o': 2, 'l': 3, 'd': 3, 'y': 1, 'n': 4, 'A': 1, 'p': 1, ',': 1, 'e': 5, 'k': 2, '.': 1}\n"
     ]
    }
   ],
   "source": [
    "message = 'It was a bright cold day in April, and the clocks were striking thirteen.'\n",
    "count = {}\n",
    "for i in message:\n",
    "    count.setdefault(i,0)\n",
    "    count[i]+=1\n",
    "\n",
    "print(count)"
   ]
  },
  {
   "attachments": {},
   "cell_type": "markdown",
   "metadata": {},
   "source": [
    "## 5.2 漂亮打印"
   ]
  },
  {
   "attachments": {},
   "cell_type": "markdown",
   "metadata": {},
   "source": [
    "#### prettyCharacterCount.py"
   ]
  },
  {
   "cell_type": "code",
   "execution_count": 26,
   "metadata": {},
   "outputs": [
    {
     "name": "stdout",
     "output_type": "stream",
     "text": [
      "{' ': 13,\n",
      " ',': 1,\n",
      " '.': 1,\n",
      " 'A': 1,\n",
      " 'I': 1,\n",
      " 'a': 4,\n",
      " 'b': 1,\n",
      " 'c': 3,\n",
      " 'd': 3,\n",
      " 'e': 5,\n",
      " 'g': 2,\n",
      " 'h': 3,\n",
      " 'i': 6,\n",
      " 'k': 2,\n",
      " 'l': 3,\n",
      " 'n': 4,\n",
      " 'o': 2,\n",
      " 'p': 1,\n",
      " 'r': 5,\n",
      " 's': 3,\n",
      " 't': 6,\n",
      " 'w': 2,\n",
      " 'y': 1}\n",
      "{' ': 13,\n",
      " ',': 1,\n",
      " '.': 1,\n",
      " 'A': 1,\n",
      " 'I': 1,\n",
      " 'a': 4,\n",
      " 'b': 1,\n",
      " 'c': 3,\n",
      " 'd': 3,\n",
      " 'e': 5,\n",
      " 'g': 2,\n",
      " 'h': 3,\n",
      " 'i': 6,\n",
      " 'k': 2,\n",
      " 'l': 3,\n",
      " 'n': 4,\n",
      " 'o': 2,\n",
      " 'p': 1,\n",
      " 'r': 5,\n",
      " 's': 3,\n",
      " 't': 6,\n",
      " 'w': 2,\n",
      " 'y': 1}\n"
     ]
    },
    {
     "data": {
      "text/plain": [
       "\"{' ': 13,\\n ',': 1,\\n '.': 1,\\n 'A': 1,\\n 'I': 1,\\n 'a': 4,\\n 'b': 1,\\n 'c': 3,\\n 'd': 3,\\n 'e': 5,\\n 'g': 2,\\n 'h': 3,\\n 'i': 6,\\n 'k': 2,\\n 'l': 3,\\n 'n': 4,\\n 'o': 2,\\n 'p': 1,\\n 'r': 5,\\n 's': 3,\\n 't': 6,\\n 'w': 2,\\n 'y': 1}\""
      ]
     },
     "execution_count": 26,
     "metadata": {},
     "output_type": "execute_result"
    }
   ],
   "source": [
    "import pprint\n",
    "message = 'It was a bright cold day in April, and the clocks were striking thirteen.'\n",
    "count = {}\n",
    "for i in message:\n",
    "    count.setdefault(i,0)\n",
    "    count[i]+=1\n",
    "\n",
    "pprint.pprint(count)\n",
    "print(pprint.pformat(count))\n",
    "pprint.pformat(count) # 将每一个键值对的后面都加上\"\\n\"并排序方便打印\n",
    "# print(count,count,end=\"\\n\")\n",
    "# print的end参数的应用对象是多个字符串的情况，\n",
    "# 如果多个字符串需要在同一个print中打印，\n",
    "# 且不同的字符串之间需要隔开特定字符可以使用end参数"
   ]
  },
  {
   "attachments": {},
   "cell_type": "markdown",
   "metadata": {},
   "source": [
    "#### ticTacToe.py"
   ]
  },
  {
   "cell_type": "code",
   "execution_count": 33,
   "metadata": {},
   "outputs": [
    {
     "name": "stdout",
     "output_type": "stream",
     "text": [
      " | | |\n",
      "-+-+-\n",
      " | | |\n",
      "-+-+-\n",
      " | | |\n",
      "轮到你落子，你落子的位置是？\n",
      "X| | |\n",
      "-+-+-\n",
      " | | |\n",
      "-+-+-\n",
      " | | |\n",
      "轮到你落子，你落子的位置是？\n",
      "X|O| |\n",
      "-+-+-\n",
      " | | |\n",
      "-+-+-\n",
      " | | |\n",
      "轮到你落子，你落子的位置是？\n",
      "X|O| |\n",
      "-+-+-\n",
      " | | |\n",
      "-+-+-\n",
      " | | |\n",
      "轮到你落子，你落子的位置是？\n",
      "X|O| |\n",
      "-+-+-\n",
      " | | |\n",
      "-+-+-\n",
      " | | |\n",
      "轮到你落子，你落子的位置是？\n",
      "X|O| |\n",
      "-+-+-\n",
      " | | |\n",
      "-+-+-\n",
      " | | |\n",
      "轮到你落子，你落子的位置是？\n",
      "X|O| |\n",
      "-+-+-\n",
      " | | |\n",
      "-+-+-\n",
      " | | |\n",
      "轮到你落子，你落子的位置是？\n",
      "X|O| |\n",
      "-+-+-\n",
      " | | |\n",
      "-+-+-\n",
      " | | |\n",
      "轮到你落子，你落子的位置是？\n",
      "X|O| |\n",
      "-+-+-\n",
      " | | |\n",
      "-+-+-\n",
      " | | |\n",
      "轮到你落子，你落子的位置是？\n",
      "X|O| |\n",
      "-+-+-\n",
      " | | |\n",
      "-+-+-\n",
      " | | |\n"
     ]
    }
   ],
   "source": [
    "theBoard = {'top-L': ' ', 'top-M': ' ', 'top-R': ' ',\n",
    "            'mid-L': ' ', 'mid-M': ' ', 'mid-R': ' ',\n",
    "            'low-L': ' ', 'low-M': ' ', 'low-R': ' '}\n",
    "\n",
    "def printBoard(board):\n",
    "    print(board[\"top-L\"] + \"|\" + board['top-M'] + \"|\" + board['top-R'] + \"|\")\n",
    "    print(\"-+-+-\")\n",
    "    print(board[\"mid-L\"] + \"|\" + board['mid-M'] + \"|\" + board['mid-R'] + \"|\")\n",
    "    print(\"-+-+-\")\n",
    "    print(board[\"low-L\"] + \"|\" + board['low-M'] + \"|\" + board['low-R'] + \"|\")\n",
    "    \n",
    "turn = \"X\"\n",
    "for i in range(9):\n",
    "    printBoard(theBoard)\n",
    "    print(\"轮到你落子，你落子的位置是？\")\n",
    "    move = input()\n",
    "    theBoard[move] = turn\n",
    "    if turn == \"X\":\n",
    "        turn = \"O\"\n",
    "    else:\n",
    "        turn = \"X\"\n",
    "printBoard(theBoard)"
   ]
  },
  {
   "attachments": {},
   "cell_type": "markdown",
   "metadata": {},
   "source": [
    "#### inventory.py\n",
    "写一个名为displayInventory()的函数，它接受任何可能的物品清\n",
    "单，并显示如下：\n",
    "> Inventory:\n",
    "\n",
    "> 12 arrow\n",
    "\n",
    "> 42 gold coin\n",
    "\n",
    "> 1 rope\n",
    "\n",
    "> 6 torch\n",
    "\n",
    "> 1 dagger\n",
    "\n",
    "> Total number of items: 62"
   ]
  },
  {
   "cell_type": "code",
   "execution_count": 38,
   "metadata": {},
   "outputs": [
    {
     "name": "stdout",
     "output_type": "stream",
     "text": [
      "Inventory:\n",
      "1 rope\n",
      "6 torch\n",
      "42 gold coin\n",
      "1 dagger\n",
      "12 arrow\n",
      "Total number of items:62\n"
     ]
    }
   ],
   "source": [
    "stuff = {'rope': 1, 'torch': 6, 'gold coin': 42, 'dagger': 1, 'arrow': 12}\n",
    "\n",
    "def displayInventory(inventory):\n",
    "    print(\"Inventory:\")\n",
    "    count = 0\n",
    "    for k,v in inventory.items():\n",
    "        print(str(v) + \" \" + k )\n",
    "        count = count + v\n",
    "    print(\"Total number of items:\" + str(count))\n",
    "\n",
    "displayInventory(stuff)\n"
   ]
  },
  {
   "attachments": {},
   "cell_type": "markdown",
   "metadata": {},
   "source": [
    "#### inventory.py\n",
    "dragonLoot = ['gold coin', 'dagger', 'gold coin', 'gold coin', 'ruby']\n",
    "\n",
    "写一个名为addToInventory(inventory, addedItems)的函数，其中\n",
    "inventory参数是一个字典，表示玩家的物品清单（像前面项目一样），\n",
    "addedItems参数是一个列表，就像dragonLoot。"
   ]
  },
  {
   "cell_type": "code",
   "execution_count": 45,
   "metadata": {},
   "outputs": [
    {
     "name": "stdout",
     "output_type": "stream",
     "text": [
      "Inventory:\n",
      "45 gold coin\n",
      "1 rope\n",
      "1 dagger\n",
      "1 ruby\n",
      "Total number of items:48\n"
     ]
    }
   ],
   "source": [
    "dragonLoot = ['gold coin', 'dagger', 'gold coin', 'gold coin', 'ruby']\n",
    "inv = {'gold coin': 42, 'rope': 1}\n",
    "\n",
    "def displayInventory(inventory, addedItems):\n",
    "    print(\"Inventory:\")\n",
    "    count = 0\n",
    "    for i in addedItems:\n",
    "        if i in inv:\n",
    "            inventory[i] += 1\n",
    "        else:\n",
    "            inventory[i] = 1\n",
    "    for k,v in inventory.items():\n",
    "        print(str(v) + \" \" + k )\n",
    "        count = count + v\n",
    "    print(\"Total number of items:\" + str(count))\n",
    "\n",
    "displayInventory(inv, dragonLoot)"
   ]
  },
  {
   "cell_type": "code",
   "execution_count": 40,
   "metadata": {},
   "outputs": [
    {
     "name": "stdout",
     "output_type": "stream",
     "text": [
      "1\n",
      "1\n",
      "1\n",
      "1\n"
     ]
    }
   ],
   "source": [
    "dragonLoot = ['gold coin', 'dagger', 'gold coin', 'gold coin', 'ruby']\n",
    "stuff = {'rope': 1, 'torch': 6, 'gold coin': 42, 'dagger': 1, 'arrow': 12}\n",
    "for i in dragonLoot:\n",
    "    if i in stuff:\n",
    "        print(1)"
   ]
  },
  {
   "cell_type": "code",
   "execution_count": null,
   "metadata": {},
   "outputs": [],
   "source": []
  }
 ],
 "metadata": {
  "kernelspec": {
   "display_name": "base",
   "language": "python",
   "name": "python3"
  },
  "language_info": {
   "codemirror_mode": {
    "name": "ipython",
    "version": 3
   },
   "file_extension": ".py",
   "mimetype": "text/x-python",
   "name": "python",
   "nbconvert_exporter": "python",
   "pygments_lexer": "ipython3",
   "version": "3.7.13"
  },
  "orig_nbformat": 4
 },
 "nbformat": 4,
 "nbformat_minor": 2
}
