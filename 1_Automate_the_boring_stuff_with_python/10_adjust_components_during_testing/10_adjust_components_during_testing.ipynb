{
 "cells": [
  {
   "cell_type": "markdown",
   "metadata": {},
   "source": [
    "### 第10章　调试"
   ]
  },
  {
   "cell_type": "markdown",
   "metadata": {},
   "source": [
    "### 10.1 抛出异常"
   ]
  },
  {
   "cell_type": "code",
   "execution_count": 1,
   "metadata": {},
   "outputs": [
    {
     "ename": "Exception",
     "evalue": "this is the error message",
     "output_type": "error",
     "traceback": [
      "\u001b[1;31m---------------------------------------------------------------------------\u001b[0m",
      "\u001b[1;31mException\u001b[0m                                 Traceback (most recent call last)",
      "\u001b[1;32m~\\AppData\\Local\\Temp\\ipykernel_12768\\1257093345.py\u001b[0m in \u001b[0;36m<module>\u001b[1;34m\u001b[0m\n\u001b[1;32m----> 1\u001b[1;33m \u001b[1;32mraise\u001b[0m \u001b[0mException\u001b[0m\u001b[1;33m(\u001b[0m\u001b[1;34m\"this is the error message\"\u001b[0m\u001b[1;33m)\u001b[0m\u001b[1;33m\u001b[0m\u001b[1;33m\u001b[0m\u001b[0m\n\u001b[0m",
      "\u001b[1;31mException\u001b[0m: this is the error message"
     ]
    }
   ],
   "source": [
    "raise Exception(\"this is the error message\")\n",
    "# 引发一个自己定义的error"
   ]
  },
  {
   "cell_type": "code",
   "execution_count": 2,
   "metadata": {},
   "outputs": [
    {
     "name": "stdout",
     "output_type": "stream",
     "text": [
      "****\n",
      "*  *\n",
      "*  *\n",
      "****\n",
      "oooooooooooooooooooo\n",
      "o                  o\n",
      "o                  o\n",
      "o                  o\n",
      "oooooooooooooooooooo\n",
      "出现一个错误width must be greater than 2.\n",
      "出现一个错误symbol must be a  single character string.\n"
     ]
    }
   ],
   "source": [
    "def boxPrint(symbol, width, height):\n",
    "    if len(symbol) !=1:\n",
    "        raise Exception(\"symbol must be a  single character string.\")\n",
    "    if width <= 2:\n",
    "        raise Exception(\"width must be greater than 2.\")\n",
    "    if height <= 2:\n",
    "        raise Exception(\"height must be greater than 2.\")\n",
    "    print(symbol * width)\n",
    "\n",
    "    for i in range(height - 2):\n",
    "        print(symbol +(\" \" * (width - 2)) + symbol)\n",
    "\n",
    "    print(symbol * width)\n",
    "\n",
    "    \n",
    "for sym, w, h in ((\"*\",4,4),('o',20,5),(\"x\",1,3),(\"zz\",3,3)):\n",
    "    try :\n",
    "        boxPrint(sym,w,h)\n",
    "    except Exception as err:\n",
    "        print(f\"出现一个错误{err}\")"
   ]
  },
  {
   "cell_type": "markdown",
   "metadata": {},
   "source": [
    "### 10.3 断言\n",
    "assert语句包含以下部分：\n",
    "- assert关键字；\n",
    "- 条件（即求值为True或False的表达式）；\n",
    "- 逗号；\n",
    "- 当条件为False时显示的字符串。"
   ]
  },
  {
   "cell_type": "code",
   "execution_count": 3,
   "metadata": {},
   "outputs": [],
   "source": [
    "podBayDoorStatus = 'open'\n",
    "assert podBayDoorStatus == \"open\", \"the pod bay doors need to be 'open'\""
   ]
  },
  {
   "cell_type": "code",
   "execution_count": 4,
   "metadata": {},
   "outputs": [
    {
     "ename": "AssertionError",
     "evalue": "the pod bay doors need to be 'open'",
     "output_type": "error",
     "traceback": [
      "\u001b[1;31m---------------------------------------------------------------------------\u001b[0m",
      "\u001b[1;31mAssertionError\u001b[0m                            Traceback (most recent call last)",
      "\u001b[1;32m~\\AppData\\Local\\Temp\\ipykernel_12768\\127658074.py\u001b[0m in \u001b[0;36m<module>\u001b[1;34m\u001b[0m\n\u001b[0;32m      1\u001b[0m \u001b[0mpodBayDoorStatus\u001b[0m \u001b[1;33m=\u001b[0m \u001b[1;34m'close'\u001b[0m\u001b[1;33m\u001b[0m\u001b[1;33m\u001b[0m\u001b[0m\n\u001b[1;32m----> 2\u001b[1;33m \u001b[1;32massert\u001b[0m \u001b[0mpodBayDoorStatus\u001b[0m \u001b[1;33m==\u001b[0m \u001b[1;34m\"open\"\u001b[0m\u001b[1;33m,\u001b[0m \u001b[1;34m\"the pod bay doors need to be 'open'\"\u001b[0m\u001b[1;33m\u001b[0m\u001b[1;33m\u001b[0m\u001b[0m\n\u001b[0m",
      "\u001b[1;31mAssertionError\u001b[0m: the pod bay doors need to be 'open'"
     ]
    }
   ],
   "source": [
    "podBayDoorStatus = 'close'\n",
    "assert podBayDoorStatus == \"open\", \"the pod bay doors need to be 'open'\""
   ]
  },
  {
   "cell_type": "code",
   "execution_count": 11,
   "metadata": {},
   "outputs": [
    {
     "ename": "AssertionError",
     "evalue": "neither light is red {'ns': 'yellow', 'ew': 'green'}",
     "output_type": "error",
     "traceback": [
      "\u001b[1;31m---------------------------------------------------------------------------\u001b[0m",
      "\u001b[1;31mAssertionError\u001b[0m                            Traceback (most recent call last)",
      "\u001b[1;32m~\\AppData\\Local\\Temp\\ipykernel_12768\\4257999847.py\u001b[0m in \u001b[0;36m<module>\u001b[1;34m\u001b[0m\n\u001b[0;32m     11\u001b[0m \u001b[0mmarket_2nd\u001b[0m \u001b[1;33m=\u001b[0m \u001b[1;33m{\u001b[0m\u001b[1;34m'ns'\u001b[0m\u001b[1;33m:\u001b[0m\u001b[1;34m'yellow'\u001b[0m\u001b[1;33m,\u001b[0m\u001b[1;34m\"ew\"\u001b[0m\u001b[1;33m:\u001b[0m\u001b[1;34m\"green\"\u001b[0m\u001b[1;33m}\u001b[0m\u001b[1;33m\u001b[0m\u001b[1;33m\u001b[0m\u001b[0m\n\u001b[0;32m     12\u001b[0m \u001b[0mmission_16th\u001b[0m \u001b[1;33m=\u001b[0m \u001b[1;33m{\u001b[0m\u001b[1;34m\"ns\"\u001b[0m\u001b[1;33m:\u001b[0m\u001b[1;34m'red'\u001b[0m\u001b[1;33m,\u001b[0m\u001b[1;34m\"ew\"\u001b[0m\u001b[1;33m:\u001b[0m\u001b[1;34m\"green\"\u001b[0m\u001b[1;33m}\u001b[0m\u001b[1;33m\u001b[0m\u001b[1;33m\u001b[0m\u001b[0m\n\u001b[1;32m---> 13\u001b[1;33m \u001b[0mswitchLights\u001b[0m\u001b[1;33m(\u001b[0m\u001b[0mmarket_2nd\u001b[0m\u001b[1;33m)\u001b[0m\u001b[1;33m\u001b[0m\u001b[1;33m\u001b[0m\u001b[0m\n\u001b[0m\u001b[0;32m     14\u001b[0m \u001b[0mswitchLights\u001b[0m\u001b[1;33m(\u001b[0m\u001b[0mmission_16th\u001b[0m\u001b[1;33m)\u001b[0m\u001b[1;33m\u001b[0m\u001b[1;33m\u001b[0m\u001b[0m\n\u001b[0;32m     15\u001b[0m \u001b[0mprint\u001b[0m\u001b[1;33m(\u001b[0m\u001b[0mmarket_2nd\u001b[0m\u001b[1;33m,\u001b[0m\u001b[0mmission_16th\u001b[0m\u001b[1;33m)\u001b[0m\u001b[1;33m\u001b[0m\u001b[1;33m\u001b[0m\u001b[0m\n",
      "\u001b[1;32m~\\AppData\\Local\\Temp\\ipykernel_12768\\4257999847.py\u001b[0m in \u001b[0;36mswitchLights\u001b[1;34m(stoplight)\u001b[0m\n\u001b[0;32m      1\u001b[0m \u001b[1;32mdef\u001b[0m \u001b[0mswitchLights\u001b[0m\u001b[1;33m(\u001b[0m\u001b[0mstoplight\u001b[0m\u001b[1;33m)\u001b[0m\u001b[1;33m:\u001b[0m\u001b[1;33m\u001b[0m\u001b[1;33m\u001b[0m\u001b[0m\n\u001b[1;32m----> 2\u001b[1;33m     \u001b[1;32massert\u001b[0m \u001b[1;34m'red'\u001b[0m \u001b[1;32min\u001b[0m \u001b[0mstoplight\u001b[0m\u001b[1;33m.\u001b[0m\u001b[0mvalues\u001b[0m\u001b[1;33m(\u001b[0m\u001b[1;33m)\u001b[0m\u001b[1;33m,\u001b[0m \u001b[1;34m\"neither light is red \"\u001b[0m \u001b[1;33m+\u001b[0m \u001b[0mstr\u001b[0m\u001b[1;33m(\u001b[0m\u001b[0mstoplight\u001b[0m\u001b[1;33m)\u001b[0m\u001b[1;33m\u001b[0m\u001b[1;33m\u001b[0m\u001b[0m\n\u001b[0m\u001b[0;32m      3\u001b[0m     \u001b[1;32mfor\u001b[0m \u001b[0mkey\u001b[0m \u001b[1;32min\u001b[0m \u001b[0mstoplight\u001b[0m\u001b[1;33m.\u001b[0m\u001b[0mkeys\u001b[0m\u001b[1;33m(\u001b[0m\u001b[1;33m)\u001b[0m\u001b[1;33m:\u001b[0m\u001b[1;33m\u001b[0m\u001b[1;33m\u001b[0m\u001b[0m\n\u001b[0;32m      4\u001b[0m         \u001b[1;32mif\u001b[0m \u001b[0mstoplight\u001b[0m\u001b[1;33m[\u001b[0m\u001b[0mkey\u001b[0m\u001b[1;33m]\u001b[0m \u001b[1;33m==\u001b[0m \u001b[1;34m\"green\"\u001b[0m\u001b[1;33m:\u001b[0m\u001b[1;33m\u001b[0m\u001b[1;33m\u001b[0m\u001b[0m\n\u001b[0;32m      5\u001b[0m             \u001b[0mstoplight\u001b[0m\u001b[1;33m[\u001b[0m\u001b[0mkey\u001b[0m\u001b[1;33m]\u001b[0m \u001b[1;33m=\u001b[0m \u001b[1;34m'yellow'\u001b[0m\u001b[1;33m\u001b[0m\u001b[1;33m\u001b[0m\u001b[0m\n",
      "\u001b[1;31mAssertionError\u001b[0m: neither light is red {'ns': 'yellow', 'ew': 'green'}"
     ]
    }
   ],
   "source": [
    "def switchLights(stoplight):\n",
    "    assert 'red' in stoplight.values(), \"neither light is red \" + str(stoplight)\n",
    "    for key in stoplight.keys():\n",
    "        if stoplight[key] == \"green\":\n",
    "            stoplight[key] = 'yellow'\n",
    "        elif stoplight[key] == \"yellow\":\n",
    "            stoplight[key] = 'red'\n",
    "        elif stoplight[key] == 'red':\n",
    "            stoplight[key] = 'green'\n",
    "\n",
    "market_2nd = {'ns':'yellow',\"ew\":\"green\"}   \n",
    "mission_16th = {\"ns\":'red',\"ew\":\"green\"}     \n",
    "switchLights(market_2nd)\n",
    "switchLights(mission_16th)\n",
    "print(market_2nd,mission_16th)"
   ]
  },
  {
   "cell_type": "markdown",
   "metadata": {},
   "source": [
    "### 10.4 日志"
   ]
  },
  {
   "cell_type": "code",
   "execution_count": 32,
   "metadata": {},
   "outputs": [
    {
     "name": "stdout",
     "output_type": "stream",
     "text": [
      "720\n"
     ]
    }
   ],
   "source": [
    "import logging\n",
    "\n",
    "logging.basicConfig(level=logging.DEBUG, format=' %(asctime)s - %(levelname)s - %(message)s')\n",
    "logging.debug(\"start of program\")\n",
    "\n",
    "def factorial(n):\n",
    "    # logging.debug(f'start of factorial{(%s%%)}'%(n))\n",
    "    logging.debug(f'start of factorial {(n)}')\n",
    "    total = 1\n",
    "    for i in range(1,n+1):\n",
    "        total *= i\n",
    "        logging.debug('i is ' + str(i) + ', total is ' + str(total))\n",
    "    logging.debug('end of factorial (%s)'%(n))\n",
    "    return total\n",
    "\n",
    "print(factorial(6))"
   ]
  },
  {
   "cell_type": "code",
   "execution_count": 34,
   "metadata": {},
   "outputs": [
    {
     "name": "stdout",
     "output_type": "stream",
     "text": [
      "720\n"
     ]
    }
   ],
   "source": [
    "import logging\n",
    "\n",
    "logging.basicConfig(level=logging.DEBUG, format=' %(asctime)s - %(levelname)s - %(message)s')\n",
    "logging.debug(\"start of program\")\n",
    "\n",
    "def factorial(n):\n",
    "    # logging.debug(f'start of factorial{(%s%%)}'%(n))\n",
    "    logging.debug(f'start of factorial {(n)}')\n",
    "    total = 1\n",
    "    for i in range(1,n+1):\n",
    "        total *= i\n",
    "        logging.debug('i is ' + str(i) + ', total is ' + str(total))\n",
    "    logging.debug('end of factorial (%s)'%(n))\n",
    "    return total\n",
    "\n",
    "print(factorial(6))"
   ]
  },
  {
   "cell_type": "markdown",
   "metadata": {},
   "source": [
    "#### 10.4.2 不要用print()调试\n",
    "> 日志消息的好处在于，你可以随心所欲地在程序中想加多少就加多少，稍后只要加入一次logging.disable（logging.CRITICAL）调用，就可以禁止日志。"
   ]
  },
  {
   "cell_type": "markdown",
   "metadata": {},
   "source": [
    "#### 10.4.3 日志级别"
   ]
  },
  {
   "cell_type": "markdown",
   "metadata": {},
   "source": [
    "|级别|日志函数|描述|\n",
    "|-|-|-|\n",
    "|DEBUG|logging.debug()|最低级别用于小细节。通常只有在诊断问题时，你才会关心这些消息|\n",
    "|INFO|logging.info()|用于记录程序中一般事件的信息，或确认一切工作正常|\n",
    "|WARNING|logging.warning()|用于表示可能的问题，它不会阻止程序的工作，但将来可能会|\n",
    "|ERROR|logging.error()|用于记录错误，它导致程序做某事失败|\n",
    "|CRITICAL|logging.critical()|最高级别。用于表示致命的错误，它导致或将要导致程序完全停止工作|"
   ]
  },
  {
   "cell_type": "markdown",
   "metadata": {},
   "source": [
    "#### 10.4.5 将日志记录到文件"
   ]
  },
  {
   "cell_type": "markdown",
   "metadata": {},
   "source": [
    "> 除了将日志消息显示在屏幕上， 还可以将它们写入文本文件。logging.basic Config() 函数接受filename关键字参数"
   ]
  },
  {
   "cell_type": "code",
   "execution_count": 35,
   "metadata": {},
   "outputs": [],
   "source": [
    "import logging\n",
    "logging.basicConfig(filename='myProgramLog.txt', level=logging.DEBUG, format='%(asctime)s - %(levelname)s - %(message)s')"
   ]
  },
  {
   "cell_type": "code",
   "execution_count": null,
   "metadata": {},
   "outputs": [],
   "source": []
  },
  {
   "cell_type": "markdown",
   "metadata": {},
   "source": []
  }
 ],
 "metadata": {
  "kernelspec": {
   "display_name": "base",
   "language": "python",
   "name": "python3"
  },
  "language_info": {
   "codemirror_mode": {
    "name": "ipython",
    "version": 3
   },
   "file_extension": ".py",
   "mimetype": "text/x-python",
   "name": "python",
   "nbconvert_exporter": "python",
   "pygments_lexer": "ipython3",
   "version": "3.7.13"
  },
  "orig_nbformat": 4
 },
 "nbformat": 4,
 "nbformat_minor": 2
}
