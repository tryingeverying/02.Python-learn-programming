{
 "cells": [
  {
   "cell_type": "markdown",
   "metadata": {},
   "source": [
    "## day 01 初始python\n"
   ]
  },
  {
   "cell_type": "code",
   "execution_count": 1,
   "metadata": {},
   "outputs": [
    {
     "name": "stdout",
     "output_type": "stream",
     "text": [
      "The Zen of Python, by Tim Peters\n",
      "\n",
      "Beautiful is better than ugly.\n",
      "Explicit is better than implicit.\n",
      "Simple is better than complex.\n",
      "Complex is better than complicated.\n",
      "Flat is better than nested.\n",
      "Sparse is better than dense.\n",
      "Readability counts.\n",
      "Special cases aren't special enough to break the rules.\n",
      "Although practicality beats purity.\n",
      "Errors should never pass silently.\n",
      "Unless explicitly silenced.\n",
      "In the face of ambiguity, refuse the temptation to guess.\n",
      "There should be one-- and preferably only one --obvious way to do it.\n",
      "Although that way may not be obvious at first unless you're Dutch.\n",
      "Now is better than never.\n",
      "Although never is often better than *right* now.\n",
      "If the implementation is hard to explain, it's a bad idea.\n",
      "If the implementation is easy to explain, it may be a good idea.\n",
      "Namespaces are one honking great idea -- let's do more of those!\n"
     ]
    }
   ],
   "source": [
    "import this"
   ]
  },
  {
   "cell_type": "code",
   "execution_count": 2,
   "metadata": {},
   "outputs": [],
   "source": [
    "import turtle\n",
    "\n",
    "turtle.pensize(4)\n",
    "turtle.pencolor('red')\n",
    "\n",
    "turtle.forward(100)\n",
    "turtle.right(90)\n",
    "turtle.forward(100)\n",
    "turtle.right(90)\n",
    "turtle.forward(100)\n",
    "turtle.right(90)\n",
    "turtle.forward(100)\n",
    "\n",
    "turtle.mainloop()"
   ]
  },
  {
   "cell_type": "markdown",
   "metadata": {},
   "source": [
    "# day 02 语言元素"
   ]
  },
  {
   "cell_type": "markdown",
   "metadata": {},
   "source": [
    "| 运算符                                                       | 描述                           |\n",
    "| ------------------------------------------------------------ | ------------------------------ |\n",
    "| `[]` `[:]`                                                   | 下标，切片                     |\n",
    "| `**`                                                         | 指数                           |\n",
    "| `~` `+` `-`                                                  | 按位取反, 正负号               |\n",
    "| `*` `/` `%` `//`                                             | 乘，除，模，整除               |\n",
    "| `+` `-`                                                      | 加，减                         |\n",
    "| `>>` `<<`                                                    | 右移，左移                     |\n",
    "| `&`                                                          | 按位与                         |\n",
    "| `^` `\\|`                                                      | 按位异或，按位或               |\n",
    "| `<=` `<` `>` `>=`                                            | 小于等于，小于，大于，大于等于 |\n",
    "| `==` `!=`                                                    | 等于，不等于                   |\n",
    "| `is`  `is not`                                               | 身份运算符                     |\n",
    "| `in` `not in`                                                | 成员运算符                     |\n",
    "| `not` `or` `and`                                             | 逻辑运算符                     |\n",
    "| `=` `+=` `-=` `*=` `/=` `%=` `//=` `**=` `&=` `|=` `^=` `>>=` `<<=` | （复合）赋值运算符             |"
   ]
  },
  {
   "cell_type": "markdown",
   "metadata": {},
   "source": [
    "## 华氏温度转变为摄氏温度"
   ]
  },
  {
   "cell_type": "code",
   "execution_count": 2,
   "metadata": {},
   "outputs": [
    {
     "name": "stdout",
     "output_type": "stream",
     "text": [
      "输入温度的摄氏温度是15.6\n"
     ]
    }
   ],
   "source": [
    "F = int(input('输入待转变的华氏温度'))\n",
    "C = (F-32)/1.8\n",
    "print(f'输入温度的摄氏温度是{C:.1f}')       # :.1f 表示该浮点型值保留一位小数"
   ]
  },
  {
   "cell_type": "markdown",
   "metadata": {},
   "source": [
    "## 输入圆的半径计算圆的周长和面积"
   ]
  },
  {
   "cell_type": "code",
   "execution_count": 2,
   "metadata": {},
   "outputs": [
    {
     "name": "stdout",
     "output_type": "stream",
     "text": [
      "圆的周长为157.08,圆的面积为1963.50\n"
     ]
    }
   ],
   "source": [
    "from cmath import pi\n",
    "\n",
    "radius = int(input('请输入圆的半径'))\n",
    "perimeter = radius*2*pi\n",
    "area = pi*radius**2\n",
    "\n",
    "print(f'圆的周长为{perimeter:.2f},圆的面积为{area:.2f}')"
   ]
  },
  {
   "cell_type": "markdown",
   "metadata": {},
   "source": [
    "## 判断年份是否为闰年"
   ]
  },
  {
   "cell_type": "code",
   "execution_count": 3,
   "metadata": {},
   "outputs": [
    {
     "name": "stdout",
     "output_type": "stream",
     "text": [
      "3336是闰年\n"
     ]
    }
   ],
   "source": [
    "year = int(input('请输入年份'))\n",
    "\n",
    "if year%4 ==0 and year%100!=0 or year%400==0:\n",
    "    print(f'{year}是闰年')"
   ]
  },
  {
   "cell_type": "markdown",
   "metadata": {},
   "source": [
    "# day 03 分支结构\n"
   ]
  },
  {
   "cell_type": "markdown",
   "metadata": {},
   "source": [
    "#### 英制单位英寸和公制单位厘米的互换"
   ]
  },
  {
   "cell_type": "code",
   "execution_count": 4,
   "metadata": {},
   "outputs": [
    {
     "name": "stdout",
     "output_type": "stream",
     "text": [
      "68.0厘米等于26.771653543307085英寸\n"
     ]
    }
   ],
   "source": [
    "value = float(input('请输入长度'))\n",
    "unit = input('请输入单位')\n",
    "if unit == 'inch' or unit == '英寸':\n",
    "    print(f'{value}英寸等于{value*2.54}厘米')\n",
    "elif unit == 'cm' or unit == '厘米':\n",
    "    print(f'{value}厘米等于{value/2.54}英寸')\n",
    "else:\n",
    "    print('请输入有效单位')"
   ]
  },
  {
   "cell_type": "markdown",
   "metadata": {},
   "source": [
    "### 百分制成绩转换为等级制成绩"
   ]
  },
  {
   "cell_type": "code",
   "execution_count": 16,
   "metadata": {},
   "outputs": [
    {
     "name": "stdout",
     "output_type": "stream",
     "text": [
      "78.0对于的等级是C\n"
     ]
    }
   ],
   "source": [
    "score = float(input('请输出成绩'))\n",
    "if score >= 90:\n",
    "    grade = 'A'\n",
    "elif score >= 80:\n",
    "    grade = 'B'\n",
    "elif score >= 70:\n",
    "    grade = 'C'\n",
    "elif score >= 60:\n",
    "    grade = 'D'\n",
    "else:\n",
    "    grade = 'E'\n",
    "print(f'{score}对于的等级是{grade}')"
   ]
  },
  {
   "cell_type": "markdown",
   "metadata": {},
   "source": [
    "### 输入三条边长，如果能构成三角形就计算周长和面积"
   ]
  },
  {
   "cell_type": "code",
   "execution_count": 18,
   "metadata": {},
   "outputs": [
    {
     "name": "stdout",
     "output_type": "stream",
     "text": [
      "三角形的周长是12.0\n",
      "该三角形的面积是6.0\n"
     ]
    }
   ],
   "source": [
    "a = float(input('输入a边的边长'))\n",
    "b = float(input('输入b边的边长'))\n",
    "c = float(input('输入c边的边长'))\n",
    "\n",
    "if a+b>c and a+c>b and c+b>a:\n",
    "    print(f'三角形的周长是{a+b+c}')\n",
    "    p = (a+b+c)/2\n",
    "    area = (p*(p-a)*(p-b)*(p-c))**0.5\n",
    "    print(f'该三角形的面积是{area}')\n",
    "else:\n",
    "    print('三边无法构成三角形')"
   ]
  },
  {
   "cell_type": "markdown",
   "metadata": {},
   "source": [
    "# day 04 循环结构"
   ]
  },
  {
   "cell_type": "markdown",
   "metadata": {},
   "source": [
    "#### 一到一百的随机数猜谜"
   ]
  },
  {
   "cell_type": "code",
   "execution_count": 7,
   "metadata": {},
   "outputs": [
    {
     "name": "stdout",
     "output_type": "stream",
     "text": [
      "猜小了\n",
      "猜小了\n",
      "猜小了\n",
      "猜大了\n",
      "猜小了\n",
      "猜大了\n",
      "猜大了\n",
      "bingo 猜中了\n",
      "你一共猜了8次\n",
      "次数用完请充值\n"
     ]
    }
   ],
   "source": [
    "import random\n",
    "\n",
    "answer = random.randint(1,100)\n",
    "counter = 0\n",
    "while True:\n",
    "    num = int(input('请输入一到一百中的一个数字：'))\n",
    "    counter +=1\n",
    "    if answer > num:\n",
    "        print('猜小了')\n",
    "    elif answer < num:\n",
    "        print('猜大了')\n",
    "    else:\n",
    "        print('bingo 猜中了')\n",
    "        break\n",
    "print(f'你一共猜了{counter}次')\n",
    "if counter > 7:\n",
    "    print('次数用完请充值')\n"
   ]
  },
  {
   "cell_type": "markdown",
   "metadata": {},
   "source": [
    "#### 乘法表"
   ]
  },
  {
   "cell_type": "code",
   "execution_count": 10,
   "metadata": {},
   "outputs": [
    {
     "name": "stdout",
     "output_type": "stream",
     "text": [
      "1*1=1\t\n",
      "1*2=2\t2*2=4\t\n",
      "1*3=3\t2*3=6\t3*3=9\t\n",
      "1*4=4\t2*4=8\t3*4=12\t4*4=16\t\n",
      "1*5=5\t2*5=10\t3*5=15\t4*5=20\t5*5=25\t\n",
      "1*6=6\t2*6=12\t3*6=18\t4*6=24\t5*6=30\t6*6=36\t\n",
      "1*7=7\t2*7=14\t3*7=21\t4*7=28\t5*7=35\t6*7=42\t7*7=49\t\n",
      "1*8=8\t2*8=16\t3*8=24\t4*8=32\t5*8=40\t6*8=48\t7*8=56\t8*8=64\t\n",
      "1*9=9\t2*9=18\t3*9=27\t4*9=36\t5*9=45\t6*9=54\t7*9=63\t8*9=72\t9*9=81\t\n"
     ]
    }
   ],
   "source": [
    "for i in range(1, 10):\n",
    "    for j in range(1, i + 1):\n",
    "        print('%d*%d=%d' % (j,i, i * j), end='\\t')\n",
    "    print()"
   ]
  },
  {
   "cell_type": "markdown",
   "metadata": {},
   "source": [
    "#### 判断一个数是否是素数"
   ]
  },
  {
   "cell_type": "code",
   "execution_count": 14,
   "metadata": {},
   "outputs": [
    {
     "name": "stdout",
     "output_type": "stream",
     "text": [
      "6不是素数\n",
      "6不是素数\n",
      "6是素数\n"
     ]
    }
   ],
   "source": [
    "num = int(input('请输入一个待判断的数'))\n",
    "for i in range(2,num):\n",
    "    if num % i == 0:\n",
    "        print(f'{num}不是素数')\n",
    "print(f'{num}是素数')"
   ]
  },
  {
   "cell_type": "markdown",
   "metadata": {},
   "source": [
    "#### 判断一个数是否是素数(该算法的内存占用更少)"
   ]
  },
  {
   "cell_type": "code",
   "execution_count": null,
   "metadata": {},
   "outputs": [],
   "source": [
    "from math import sqrt\n",
    "\n",
    "num = int(input('请输入一个正整数: '))\n",
    "end = int(sqrt(num))    #一个数如果不能被1到他的平方根整除 则该数是素数\n",
    "is_prime = True\n",
    "for x in range(2, end + 1):\n",
    "    if num % x == 0:\n",
    "        is_prime = False\n",
    "        break\n",
    "if is_prime and num != 1:\n",
    "    print('%d是素数' % num)\n",
    "else:\n",
    "    print('%d不是素数' % num)"
   ]
  },
  {
   "cell_type": "markdown",
   "metadata": {},
   "source": [
    "#### 输入两个正整数，计算它们的最大公约数和最小公倍数。"
   ]
  },
  {
   "cell_type": "code",
   "execution_count": 15,
   "metadata": {},
   "outputs": [
    {
     "name": "stdout",
     "output_type": "stream",
     "text": [
      "5和15的最大公约数是5\n",
      "5和15的最小公倍数是15\n"
     ]
    }
   ],
   "source": [
    "x = int(input('x='))\n",
    "y = int(input('y='))\n",
    "if  x > y:\n",
    "    x,y = y ,x\n",
    "\n",
    "for i in range(x,0,-1):\n",
    "    if x % i == 0 and y % i ==0:\n",
    "        print(f'{x}和{y}的最大公约数是{i}')\n",
    "        print(f'{x}和{y}的最小公倍数是{x*y//i}')    #两数的最小公倍数乘以最大公约数等于两数之积\n",
    "        break"
   ]
  },
  {
   "cell_type": "markdown",
   "metadata": {},
   "source": [
    "#### 打印如下所示的三角形图案。\n"
   ]
  },
  {
   "cell_type": "markdown",
   "metadata": {},
   "source": [
    "```\n",
    "*\n",
    "**\n",
    "***\n",
    "****\n",
    "*****\n",
    "\n",
    "    *\n",
    "   **\n",
    "  ***\n",
    " ****\n",
    "*****\n",
    "\n",
    "    *\n",
    "   ***\n",
    "  *****\n",
    " *******\n",
    "*********\n",
    "```\n"
   ]
  },
  {
   "cell_type": "code",
   "execution_count": 7,
   "metadata": {},
   "outputs": [
    {
     "name": "stdout",
     "output_type": "stream",
     "text": [
      "#\n",
      "##\n",
      "###\n",
      "####\n",
      "#####\n",
      "    #\n",
      "   ##\n",
      "  ###\n",
      " ####\n",
      "#####\n",
      "    #\n",
      "   ###\n",
      "  #####\n",
      " #######\n",
      "#########\n"
     ]
    }
   ],
   "source": [
    "row = int(input('请输入行数')) \n",
    "for i in range(row):\n",
    "    for n in range(i+1):\n",
    "        print('#',end='')\n",
    "    print()\n",
    "\n",
    "for i in range(row):\n",
    "    for j in range(row):\n",
    "        if j < row-i-1:\n",
    "            print(' ',end='')\n",
    "        else:\n",
    "             print('#',end='')\n",
    "    print()\n",
    "\n",
    "for i in range(row):\n",
    "    for j in range(row-i-1):\n",
    "        print(' ',end='')\n",
    "    for j in range(2*i+1):\n",
    "        print('#',end='')\n",
    "    print()\n"
   ]
  },
  {
   "cell_type": "markdown",
   "metadata": {},
   "source": [
    "# day 05 构造程序逻辑\n"
   ]
  },
  {
   "cell_type": "markdown",
   "metadata": {},
   "source": [
    "#### 寻找**水仙花数**\n",
    "> 它是一个3位数，该数字每个位上数字的立方之和正好等于它本身，例如：$1^3 + 5^3+ 3^3=153$。"
   ]
  },
  {
   "cell_type": "code",
   "execution_count": 3,
   "metadata": {},
   "outputs": [
    {
     "name": "stdout",
     "output_type": "stream",
     "text": [
      "153是水仙花数\n",
      "370是水仙花数\n",
      "371是水仙花数\n",
      "407是水仙花数\n"
     ]
    }
   ],
   "source": [
    "for i in range(100,1000):\n",
    "    x = i//100\n",
    "    y = (i-100*x)//10\n",
    "    z = (i-100*x-10*y)\n",
    "    if i == x**3 + y**3 + z**3:\n",
    "        print(f'{i}是水仙花数')"
   ]
  },
  {
   "cell_type": "markdown",
   "metadata": {},
   "source": [
    "#### 正整数反转"
   ]
  },
  {
   "cell_type": "code",
   "execution_count": 6,
   "metadata": {},
   "outputs": [
    {
     "name": "stdout",
     "output_type": "stream",
     "text": [
      "654321\n"
     ]
    }
   ],
   "source": [
    "num = int(input('请输入一个正整数：'))\n",
    "reverse_num = 0\n",
    "while num > 0:\n",
    "    reverse_num = reverse_num*10 + num%10\n",
    "    num = num//10\n",
    "print(reverse_num)"
   ]
  },
  {
   "cell_type": "markdown",
   "metadata": {},
   "source": [
    "#### **百钱百鸡**问题。\n",
    "\n",
    ">**说明**：百钱百鸡是我国古代数学家[张丘建](https://baike.baidu.com/item/%E5%BC%A0%E4%B8%98%E5%BB%BA/10246238)在《算经》一书中提出的数学问题：鸡翁一值钱五，鸡母一值钱三，鸡雏三值钱一。百钱买百鸡，问鸡翁、鸡母、鸡雏各几何？翻译成现代文是：公鸡5元一只，母鸡3元一只，小鸡1元三只，用100块钱买一百只鸡，问公鸡、母鸡、小鸡各有多少只？"
   ]
  },
  {
   "cell_type": "code",
   "execution_count": 8,
   "metadata": {},
   "outputs": [
    {
     "name": "stdout",
     "output_type": "stream",
     "text": [
      "公鸡0只，母鸡25只，雏鸡75只\n",
      "公鸡4只，母鸡18只，雏鸡78只\n",
      "公鸡8只，母鸡11只，雏鸡81只\n",
      "公鸡12只，母鸡4只，雏鸡84只\n"
     ]
    }
   ],
   "source": [
    "for x in range(20):\n",
    "    for y in range(33):\n",
    "        z=100-x-y\n",
    "        if 5*x+3*y+z/3 == 100:\n",
    "            print(f'公鸡{x}只，母鸡{y}只，雏鸡{z}只')"
   ]
  },
  {
   "cell_type": "markdown",
   "metadata": {},
   "source": [
    "####  **CRAPS赌博游戏**。\n",
    "\n",
    "> **说明**：CRAPS又称花旗骰，是美国拉斯维加斯非常受欢迎的一种的桌上赌博游戏。该游戏使用两粒骰子，玩家通过摇两粒骰子获得点数进行游戏。简单的规则是：玩家第一次摇骰子如果摇出了7点或11点，玩家胜；玩家第一次如果摇出2点、3点或12点，庄家胜；其他点数玩家继续摇骰子，如果玩家摇出了7点，庄家胜；如果玩家摇出了第一次摇的点数，玩家胜；其他点数，玩家继续要骰子，直到分出胜负。"
   ]
  },
  {
   "cell_type": "code",
   "execution_count": 14,
   "metadata": {},
   "outputs": [
    {
     "name": "stdout",
     "output_type": "stream",
     "text": [
      "您的余额为1000\n",
      "点数是8\n",
      "玩家胜\n",
      "您的余额为2000\n",
      "点数是12\n",
      "庄家胜\n",
      "您的余额为1000\n",
      "点数是9\n",
      "玩家胜\n",
      "您的余额为2000\n",
      "点数是6\n",
      "玩家胜\n",
      "您的余额为4000\n",
      "点数是6\n",
      "庄家胜\n",
      "破产了\n"
     ]
    }
   ],
   "source": [
    "from random import randint\n",
    "\n",
    "money = 1000\n",
    "\n",
    "while money >0:\n",
    "    print(f'您的余额为{money}')\n",
    "    need_go_to = False\n",
    "    while True:\n",
    "        debt = int(input('请输入筹码'))\n",
    "        if 0 < debt <= money:\n",
    "            break\n",
    "    first_num = randint(1,6) + randint(1,6)\n",
    "    print(f'点数是{first_num}')\n",
    "    if first_num == 7 or first_num == 11:\n",
    "        print('玩家胜')\n",
    "        money = money + debt\n",
    "    elif first_num == 2 or first_num == 3 or first_num == 12: \n",
    "        print('庄家胜')\n",
    "        money = money - debt\n",
    "    else:\n",
    "        need_go_to = True\n",
    "    while need_go_to:\n",
    "        need_go_to = False\n",
    "        current = randint(1,6) + randint(1,6)\n",
    "        if current == first_num:\n",
    "            print('玩家胜')\n",
    "            money = money + debt\n",
    "        elif current == 7: \n",
    "            print('庄家胜')\n",
    "            money = money - debt\n",
    "        else:\n",
    "            need_go_to = True\n",
    "print('破产了')"
   ]
  },
  {
   "cell_type": "markdown",
   "metadata": {},
   "source": [
    "#### 生成**斐波那契数列**的前20个数。\n",
    "\n",
    "> **说明**：斐波那契数列（Fibonacci sequence），又称黄金分割数列，是意大利数学家莱昂纳多·斐波那契（Leonardoda Fibonacci）在《计算之书》中提出一个在理想假设条件下兔子成长率的问题而引入的数列，所以这个数列也被戏称为&quot;兔子数列&quot;。斐波那契数列的特点是数列的前两个数都是1，从第三个数开始，每个数都是它前面两个数的和，形如：1, 1, 2, 3, 5, 8, 13, 21, 34, 55, 89, 144, ...。斐波那契数列在现代物理、准晶体结构、化学等领域都有直接的应用。"
   ]
  },
  {
   "cell_type": "code",
   "execution_count": 4,
   "metadata": {},
   "outputs": [
    {
     "name": "stdout",
     "output_type": "stream",
     "text": [
      "1\n",
      "1\n",
      "2\n",
      "3\n",
      "5\n",
      "8\n",
      "13\n",
      "21\n",
      "34\n",
      "55\n",
      "89\n",
      "144\n",
      "233\n",
      "377\n",
      "610\n",
      "987\n",
      "1597\n",
      "2584\n",
      "4181\n",
      "6765\n"
     ]
    }
   ],
   "source": [
    "count = 0\n",
    "Fibonacci_1 = 0\n",
    "Fibonacci_2 = 1\n",
    "while count<20:\n",
    "    Fibonacci_1,Fibonacci_2 = Fibonacci_2,Fibonacci_2+Fibonacci_1\n",
    "    count +=1\n",
    "    print(Fibonacci_1)"
   ]
  },
  {
   "cell_type": "code",
   "execution_count": 3,
   "metadata": {},
   "outputs": [
    {
     "name": "stdout",
     "output_type": "stream",
     "text": [
      "1 1 2 3 5 8 13 21 34 55 89 144 233 377 610 987 1597 2584 4181 6765 "
     ]
    }
   ],
   "source": [
    "# 这个写法更简单也更高清晰明了，对于那些需要累加前面数值的程序就可以采用这种换位赋值的方法\n",
    "a = 0\n",
    "b = 1\n",
    "for _ in range(20):\n",
    "    a, b = b, a + b\n",
    "    print(a, end=' ')\n"
   ]
  },
  {
   "cell_type": "markdown",
   "metadata": {},
   "source": [
    "#### 找出10000以内的**完美数**。\n",
    "\n",
    "> **说明**：完美数又称为完全数或完备数，它的所有的真因子（即除了自身以外的因子）的和（即因子函数）恰好等于它本身。例如：6（$6=1+2+3$）和28（$28=1+2+4+7+14$）就是完美数。完美数有很多神奇的特性，有兴趣的可以自行了解。"
   ]
  },
  {
   "cell_type": "code",
   "execution_count": 19,
   "metadata": {},
   "outputs": [
    {
     "name": "stdout",
     "output_type": "stream",
     "text": [
      "6\n",
      "28\n",
      "496\n",
      "8128\n"
     ]
    }
   ],
   "source": [
    "for i in range(2,10000):\n",
    "    count_num = 0\n",
    "    for j in range(1,i):\n",
    "        if i % j == 0:\n",
    "            count_num += j\n",
    "    if count_num == i:\n",
    "        print(i)\n"
   ]
  },
  {
   "cell_type": "markdown",
   "metadata": {},
   "source": [
    "####  下面这个太优雅了 在低内存占用的情况下实现了目的"
   ]
  },
  {
   "cell_type": "code",
   "execution_count": 27,
   "metadata": {},
   "outputs": [
    {
     "name": "stdout",
     "output_type": "stream",
     "text": [
      "6\n",
      "28\n",
      "496\n",
      "8128\n"
     ]
    }
   ],
   "source": [
    "import math\n",
    "\n",
    "for num in range(2, 10000):\n",
    "    result = 0\n",
    "    for factor in range(1, int(math.sqrt(num)) + 1):    # 若一个数存在因数，则必定存在小于其平方根的因数\n",
    "        if num % factor == 0:\n",
    "            result += factor\n",
    "            if factor > 1 and num // factor != factor: #这个找因数的方法有点意思 不是完全平方数的因数成对出现 且乘积是该数\n",
    "                result += num // factor\n",
    "    if result == num:\n",
    "        print(num)"
   ]
  },
  {
   "cell_type": "markdown",
   "metadata": {},
   "source": [
    "#### 3. 输出**100以内所有的素数**。\n",
    "\n",
    "> **说明**：素数指的是只能被1和自身整除的正整数（不包括1）。"
   ]
  },
  {
   "cell_type": "code",
   "execution_count": 28,
   "metadata": {},
   "outputs": [
    {
     "name": "stdout",
     "output_type": "stream",
     "text": [
      "2,3,5,7,11,13,17,19,23,29,31,37,41,43,47,53,59,61,67,71,73,79,83,89,97,"
     ]
    }
   ],
   "source": [
    "import math \n",
    "for i in range(2,100):\n",
    "    is_prime = True\n",
    "    for _ in range(2,int(math.sqrt(i))+1):\n",
    "        if i % _ == 0:\n",
    "            is_prime = False\n",
    "            break\n",
    "    if is_prime :\n",
    "        print(i,end=',')\n",
    "\n"
   ]
  },
  {
   "cell_type": "markdown",
   "metadata": {},
   "source": [
    "# day 06 函数和模块的使用"
   ]
  },
  {
   "cell_type": "markdown",
   "metadata": {},
   "source": [
    "### 练习1：实现计算求最大公约数和最小公倍数的函数。"
   ]
  },
  {
   "cell_type": "code",
   "execution_count": 6,
   "metadata": {},
   "outputs": [
    {
     "name": "stdout",
     "output_type": "stream",
     "text": [
      "(3, 27)\n"
     ]
    }
   ],
   "source": [
    "# 一个函数同时求最大公约数和最小公倍数\n",
    "def gcb_lcm(x,y):\n",
    "    if x>y:\n",
    "        x,y = y,x\n",
    "    for _ in range(x,0,-1):\n",
    "        if x % _ == 0 and y % _ == 0:\n",
    "            gongyueshu = _\n",
    "            gongbeishu = x*y // _\n",
    "            break\n",
    "    return gongyueshu, gongbeishu\n",
    "print(gcb_lcm(3,27))"
   ]
  },
  {
   "cell_type": "code",
   "execution_count": 7,
   "metadata": {},
   "outputs": [
    {
     "name": "stdout",
     "output_type": "stream",
     "text": [
      "5\n",
      "25\n"
     ]
    }
   ],
   "source": [
    "# 将上面的函数分成两个函数，分别求最大公约数和最小公倍数\n",
    "def gcb(x,y):\n",
    "    if x>y:\n",
    "        x,y = y,x\n",
    "    for _ in range(x,0,-1):\n",
    "        if x % _ == 0 and y % _ == 0:\n",
    "            return _\n",
    "\n",
    "def lcm(x,y):\n",
    "    return(x*y // gcb(x,y))\n",
    "\n",
    "print(gcb(5,25))\n",
    "print(lcm(5,25))"
   ]
  },
  {
   "cell_type": "markdown",
   "metadata": {},
   "source": [
    "## 练习2：实现判断一个数是不是回文数的函数。"
   ]
  },
  {
   "cell_type": "code",
   "execution_count": 12,
   "metadata": {},
   "outputs": [
    {
     "name": "stdout",
     "output_type": "stream",
     "text": [
      "False\n"
     ]
    }
   ],
   "source": [
    "def is_palindrome(num):\n",
    "    \"\"\"判断一个数是不是回文数\"\"\"\n",
    "    num_temp = num\n",
    "    temp_variable = 0\n",
    "    while num_temp > 0:\n",
    "        num_variable = num_temp * 10 + num_temp % 10\n",
    "        num_temp //= 10\n",
    "    return num == temp_variable\n",
    "\n",
    "print(is_palindrome(1234))"
   ]
  },
  {
   "cell_type": "markdown",
   "metadata": {},
   "source": [
    "## 练习3：实现判断一个数是不是素数的函数。"
   ]
  },
  {
   "cell_type": "code",
   "execution_count": 16,
   "metadata": {},
   "outputs": [
    {
     "name": "stdout",
     "output_type": "stream",
     "text": [
      "True\n"
     ]
    }
   ],
   "source": [
    "def is_prime(num):\n",
    "    \"\"\"判断一个数是不是素数\"\"\"\n",
    "    for _ in range(2,int(num**0.5)+1):\n",
    "        if num % _ == 0 :\n",
    "            return False\n",
    "        elif num == 1:\n",
    "            return False\n",
    "        else:\n",
    "            return True\n",
    "\n",
    "print(is_prime(31))   "
   ]
  },
  {
   "cell_type": "code",
   "execution_count": 17,
   "metadata": {},
   "outputs": [
    {
     "name": "stdout",
     "output_type": "stream",
     "text": [
      "True\n"
     ]
    }
   ],
   "source": [
    "def is_prime(num):\n",
    "    \"\"\"判断一个数是不是素数\"\"\"\n",
    "    for factor in range(2, int(num ** 0.5) + 1):\n",
    "        if num % factor == 0:\n",
    "            return False\n",
    "    return True if num != 1 else False #这个有点类似于函数生成式\n",
    "\n",
    "print(is_prime(311))   "
   ]
  },
  {
   "cell_type": "markdown",
   "metadata": {},
   "source": [
    "## 练习4：写一个程序判断输入的正整数是不是回文素数。"
   ]
  },
  {
   "cell_type": "code",
   "execution_count": null,
   "metadata": {},
   "outputs": [],
   "source": [
    "def is_palindrome(num):\n",
    "    \"\"\"判断一个数是不是回文数\"\"\"\n",
    "    num_temp = num\n",
    "    temp_variable = 0\n",
    "    while num_temp > 0:\n",
    "        num_variable = num_temp * 10 + num_temp % 10\n",
    "        num_temp //= 10\n",
    "    return num == temp_variable\n",
    "\n",
    "def is_prime(num):\n",
    "    \"\"\"判断一个数是不是素数\"\"\"\n",
    "    for _ in range(2,int(num**0.5)+1):\n",
    "        if num % _ == 0 :\n",
    "            return False\n",
    "        elif num == 1:\n",
    "            return False\n",
    "        else:\n",
    "            return True\n",
    "\n",
    "if __name__ == '__main__': #判断该文件的使用形式，如果该文件被自己运行则判断语句成立，如果该文件被作为函数调用则判断语句不成立\n",
    "    num = int(input('请输入正整数: '))\n",
    "    if is_palindrome(num) and is_prime(num):\n",
    "        print('%d是回文素数' % num)"
   ]
  },
  {
   "cell_type": "code",
   "execution_count": null,
   "metadata": {},
   "outputs": [],
   "source": [
    "def main():\n",
    "    # Todo: Add your code here\n",
    "    pass\n",
    "\n",
    "\n",
    "if __name__ == '__main__':\n",
    "    main()"
   ]
  },
  {
   "cell_type": "markdown",
   "metadata": {},
   "source": [
    "# day 07  字符串和常用数据结构"
   ]
  },
  {
   "cell_type": "markdown",
   "metadata": {},
   "source": [
    "### 字符串处理\n"
   ]
  },
  {
   "cell_type": "code",
   "execution_count": 19,
   "metadata": {},
   "outputs": [
    {
     "name": "stdout",
     "output_type": "stream",
     "text": [
      "13\n",
      "Hello, world!\n",
      "Hello, World!\n",
      "HELLO, WORLD!\n",
      "8\n",
      "-1\n",
      "False\n",
      "True\n",
      "True\n",
      "******************hello, world!*******************\n",
      "                                     hello, world!\n",
      "False\n",
      "False\n",
      "True\n",
      "  jackfrued@126.com \n",
      "jackfrued@126.com\n"
     ]
    }
   ],
   "source": [
    "str1 = 'hello, world!'\n",
    "# 通过内置函数len计算字符串的长度\n",
    "print(len(str1)) # 13\n",
    "# 获得字符串首字母大写的拷贝\n",
    "print(str1.capitalize()) # Hello, world!\n",
    "# 获得字符串每个单词首字母大写的拷贝\n",
    "print(str1.title()) # Hello, World!\n",
    "# 获得字符串变大写后的拷贝\n",
    "print(str1.upper()) # HELLO, WORLD!\n",
    "# 从字符串中查找子串所在位置,如果找不到该值，则 find() 方法返回 -1\n",
    "print(str1.find('or')) # 8\n",
    "print(str1.find('shit')) # -1\n",
    "# 与find类似但找不到子串时会引发异常\n",
    "# print(str1.index('or'))\n",
    "# print(str1.index('shit'))\n",
    "# 检查字符串是否以指定的字符串开头\n",
    "print(str1.startswith('He')) # False\n",
    "print(str1.startswith('hel')) # True\n",
    "# 检查字符串是否以指定的字符串结尾\n",
    "print(str1.endswith('!')) # True\n",
    "# 将字符串以指定的宽度居中并在两侧填充指定的字符   # 填充的字符加上原本的字符一共是前面的数字个\n",
    "print(str1.center(50, '*'))\n",
    "# 将字符串以指定的宽度靠右放置左侧填充指定的字符\n",
    "print(str1.rjust(50, ' '))\n",
    "str2 = 'abc123456'\n",
    "# 检查字符串是否由数字构成\n",
    "print(str2.isdigit())  # False\n",
    "# 检查字符串是否以字母构成\n",
    "print(str2.isalpha())  # False\n",
    "# 检查字符串是否以数字和字母构成\n",
    "print(str2.isalnum())  # True\n",
    "str3 = '  jackfrued@126.com '\n",
    "print(str3)\n",
    "# 获得字符串修剪左右两侧空格之后的拷贝\n",
    "print(str3.strip())"
   ]
  },
  {
   "cell_type": "markdown",
   "metadata": {},
   "source": [
    "### 列表处理"
   ]
  },
  {
   "cell_type": "code",
   "execution_count": 36,
   "metadata": {},
   "outputs": [
    {
     "name": "stdout",
     "output_type": "stream",
     "text": [
      "[1, 400, 3, 5, 7, 100, 200, 1000, 2000]\n",
      "[1, 400, 3, 5, 7, 100, 200, 1000, 2000, [1000, 2000]]\n",
      "10\n",
      "[1, 400, 5, 7, 100, 200, 1000, 2000, [1000, 2000]]\n",
      "[400, 5, 7, 100, 200, 1000, 2000]\n",
      "[]\n"
     ]
    }
   ],
   "source": [
    "list1 = [1, 3, 5, 7, 100]\n",
    "# 添加元素\n",
    "list1.append(200)\n",
    "list1.insert(1, 400)\n",
    "# 合并两个列表\n",
    "# list1.extend([1000, 2000])\n",
    "list1 += [1000, 2000] # list1.extend([1000, 2000]) 和前面的等效 即把列表中的元素添加到list中\n",
    "print(list1) # [1, 400, 3, 5, 7, 100, 200, 1000, 2000]\n",
    "\n",
    "list1.append([1000, 2000]) #[1, 400, 3, 5, 7, 100, 200, 1000, 2000, [1000, 2000]] 将这个列表当做一个元素添加到list的末尾\n",
    "print(list1)\n",
    "print(len(list1)) # 9\n",
    "# 先通过成员运算判断元素是否在列表中，如果存在就删除该元素\n",
    "if 3 in list1:\n",
    "\tlist1.remove(3)\n",
    "if 1234 in list1:\n",
    "    list1.remove(1234)\n",
    "print(list1) # [1, 400, 5, 7, 100, 200, 1000, 2000]\n",
    "# 从指定的位置删除元素\n",
    "list1.pop(0)\n",
    "list1.pop(len(list1) - 1)\n",
    "print(list1) # [400, 5, 7, 100, 200, 1000]\n",
    "# 清空列表元素\n",
    "list1.clear()\n",
    "print(list1) # []"
   ]
  },
  {
   "cell_type": "markdown",
   "metadata": {},
   "source": [
    "####  list的排序\n"
   ]
  },
  {
   "cell_type": "code",
   "execution_count": 39,
   "metadata": {},
   "outputs": [
    {
     "name": "stdout",
     "output_type": "stream",
     "text": [
      "['orange', 'apple', 'zoo', 'internationalization', 'blueberry']\n",
      "['apple', 'blueberry', 'internationalization', 'orange', 'zoo']\n",
      "['zoo', 'orange', 'internationalization', 'blueberry', 'apple']\n",
      "['zoo', 'apple', 'orange', 'blueberry', 'internationalization']\n",
      "['zoo', 'orange', 'internationalization', 'blueberry', 'apple']\n"
     ]
    }
   ],
   "source": [
    "list1 = ['orange', 'apple', 'zoo', 'internationalization', 'blueberry']\n",
    "list2 = sorted(list1)\n",
    "# sorted函数返回列表排序后的拷贝不会修改传入的列表\n",
    "# 函数的设计就应该像sorted函数一样尽可能不产生副作用\n",
    "list3 = sorted(list1, reverse=True)\n",
    "# 通过key关键字参数指定根据字符串长度进行排序而不是默认的字母表顺序\n",
    "list4 = sorted(list1, key=len)\n",
    "print(list1)\n",
    "print(list2)\n",
    "print(list3)\n",
    "print(list4)\n",
    "# 给列表对象发出排序消息直接在列表对象上进行排序\n",
    "list1.sort(reverse=True)\n",
    "print(list1)"
   ]
  },
  {
   "cell_type": "code",
   "execution_count": 47,
   "metadata": {},
   "outputs": [
    {
     "name": "stdout",
     "output_type": "stream",
     "text": [
      "[1, 2, 3, 4, 5, 6, 7, 8, 9]\n",
      "['A1', 'A2', 'A3', 'A4', 'A5', 'A6', 'A7', 'B1', 'B2', 'B3', 'B4', 'B5', 'B6', 'B7', 'C1', 'C2', 'C3', 'C4', 'C5', 'C6', 'C7', 'D1', 'D2', 'D3', 'D4', 'D5', 'D6', 'D7', 'E1', 'E2', 'E3', 'E4', 'E5', 'E6', 'E7']\n",
      "A1 A2 A3 A4 A5 A6 A7 B1 B2 B3 B4 B5 B6 B7 C1 C2 C3 C4 C5 C6 C7 D1 D2 D3 D4 D5 D6 D7 E1 E2 E3 E4 E5 E6 E7 \n",
      "184\n",
      "[1, 4, 9, 16, 25, 36, 49, 64, 81]\n",
      "112\n",
      "<generator object <genexpr> at 0x00000202BD0A3890>\n",
      "1\n",
      "4\n",
      "9\n",
      "16\n",
      "25\n",
      "36\n",
      "49\n",
      "64\n",
      "81\n"
     ]
    }
   ],
   "source": [
    "import sys\n",
    "\n",
    "f = [x for x in range(1, 10)]\n",
    "print(f)\n",
    "f = [x + y for x in 'ABCDE' for y in '1234567']\n",
    "print(f)\n",
    "# 上面的代码和下面的代码等效，但是生成的是一个list\n",
    "for x in 'ABCDE':\n",
    "    for y in '1234567':\n",
    "        print(x+y,end=' ')\n",
    "\n",
    "print('')\n",
    "# 用列表的生成表达式语法创建列表容器\n",
    "# 用这种语法创建列表之后元素已经准备就绪所以需要耗费较多的内存空间\n",
    "f = [x ** 2 for x in range(1, 10)] # 产生的是一个所有信息的list\n",
    "print(sys.getsizeof(f))  # 查看对象占用内存的字节数\n",
    "print(f)\n",
    "# 请注意下面的代码创建的不是一个列表而是一个生成器对象\n",
    "# 通过生成器可以获取到数据但它不占用额外的空间存储数据\n",
    "# 每次需要数据的时候就通过内部的运算得到数据(需要花费额外的时间)\n",
    "f = (x ** 2 for x in range(1, 10)) #产生的一个generator object，更省内存\n",
    "print(sys.getsizeof(f))  # 相比生成式生成器不占用存储数据的空间\n",
    "print(f)\n",
    "for val in f:\n",
    "    print(val)"
   ]
  },
  {
   "cell_type": "code",
   "execution_count": 48,
   "metadata": {},
   "outputs": [
    {
     "name": "stdout",
     "output_type": "stream",
     "text": [
      "1\n",
      "1\n",
      "2\n",
      "3\n",
      "5\n",
      "8\n",
      "13\n",
      "21\n",
      "34\n",
      "55\n",
      "89\n",
      "144\n",
      "233\n",
      "377\n",
      "610\n",
      "987\n",
      "1597\n",
      "2584\n",
      "4181\n",
      "6765\n"
     ]
    }
   ],
   "source": [
    "def fib(n):\n",
    "    a, b = 0, 1\n",
    "    for _ in range(n):\n",
    "        a, b = b, a + b\n",
    "        yield a\n",
    "\n",
    "\n",
    "def main():\n",
    "    for val in fib(20):\n",
    "        print(val)\n",
    "\n",
    "\n",
    "if __name__ == '__main__':\n",
    "    main()"
   ]
  },
  {
   "cell_type": "markdown",
   "metadata": {},
   "source": [
    "#### tuple和list的转换"
   ]
  },
  {
   "cell_type": "code",
   "execution_count": 50,
   "metadata": {},
   "outputs": [
    {
     "name": "stdout",
     "output_type": "stream",
     "text": [
      "['骆昊', 38, True, '四川成都']\n",
      "['李小龙', 25, True, '四川成都']\n",
      "('apple', 'banana', 'orange')\n"
     ]
    }
   ],
   "source": [
    "t = ('骆昊', 38, True, '四川成都')\n",
    "# 将元组转换成列表\n",
    "person = list(t)\n",
    "print(person)\n",
    "# 列表是可以修改它的元素的\n",
    "person[0] = '李小龙'\n",
    "person[1] = 25\n",
    "print(person)\n",
    "# 将列表转换成元组\n",
    "fruits_list = ['apple', 'banana', 'orange']\n",
    "fruits_tuple = tuple(fruits_list)\n",
    "print(fruits_tuple)"
   ]
  },
  {
   "cell_type": "markdown",
   "metadata": {},
   "source": [
    "### 集合 set"
   ]
  },
  {
   "cell_type": "code",
   "execution_count": 60,
   "metadata": {},
   "outputs": [
    {
     "name": "stdout",
     "output_type": "stream",
     "text": [
      "{1, 2, 3}\n",
      "Length = 3\n",
      "{1, 2, 3, 4, 5, 6, 7, 8, 9} {1, 2, 3}\n",
      "{3, 5, 6, 9, 10, 12, 15, 18, 20, 21, 24, 25, 27, 30, 33, 35, 36, 39, 40, 42, 45, 48, 50, 51, 54, 55, 57, 60, 63, 65, 66, 69, 70, 72, 75, 78, 80, 81, 84, 85, 87, 90, 93, 95, 96, 99}\n"
     ]
    }
   ],
   "source": [
    "# 创建集合的字面量语法\n",
    "set1 = {1, 2, 3, 3, 3, 2}\n",
    "print(set1)\n",
    "print('Length =', len(set1))\n",
    "# 创建集合的构造器语法(面向对象部分会进行详细讲解)\n",
    "set2 = set(range(1, 10))\n",
    "set3 = set((1, 2, 3, 3, 2, 1))\n",
    "print(set2, set3)\n",
    "# 创建集合的推导式语法(推导式也可以用于推导集合)\n",
    "set4 = {num for num in range(1, 100) if num % 3 == 0 or num % 5 == 0}\n",
    "print(set4)"
   ]
  },
  {
   "cell_type": "markdown",
   "metadata": {},
   "source": [
    "#### 集合的元素处理"
   ]
  },
  {
   "cell_type": "code",
   "execution_count": 57,
   "metadata": {},
   "outputs": [
    {
     "name": "stdout",
     "output_type": "stream",
     "text": [
      "{1, 2, 3, 4, 5} {1, 2, 3, 6, 7, 8, 9, 11, 12}\n",
      "1\n",
      "{2, 3}\n"
     ]
    }
   ],
   "source": [
    "set1.add(4)\n",
    "set1.add(5)\n",
    "set2.update([11, 12])\n",
    "set2.discard(5)\n",
    "if 4 in set2:\n",
    "    set2.remove(4)\n",
    "print(set1, set2)\n",
    "print(set3.pop())   #由列表和元组组成的集合中pop方法的默认值是移除第一个数据，由字典和字符串组成的集合pop的默认值是随机删除 在元组和列表中是删除最后一个元素\n",
    "print(set3)"
   ]
  },
  {
   "cell_type": "markdown",
   "metadata": {},
   "source": [
    "#### 集合的运算"
   ]
  },
  {
   "cell_type": "code",
   "execution_count": 61,
   "metadata": {},
   "outputs": [
    {
     "name": "stdout",
     "output_type": "stream",
     "text": [
      "{1, 2, 3}\n",
      "{1, 2, 3, 4, 5, 6, 7, 8, 9}\n",
      "set()\n",
      "{4, 5, 6, 7, 8, 9}\n",
      "False\n",
      "True\n",
      "False\n",
      "True\n"
     ]
    }
   ],
   "source": [
    "# 集合的交集、并集、差集、对称差运算\n",
    "print(set1 & set2)\n",
    "# print(set1.intersection(set2))\n",
    "print(set1 | set2)\n",
    "# print(set1.union(set2))\n",
    "print(set1 - set2)\n",
    "# print(set1.difference(set2))\n",
    "print(set1 ^ set2)\n",
    "# print(set1.symmetric_difference(set2))\n",
    "# 判断子集和超集\n",
    "print(set2 <= set1)\n",
    "# print(set2.issubset(set1))\n",
    "print(set3 <= set1)\n",
    "# print(set3.issubset(set1))\n",
    "print(set1 >= set2)\n",
    "# print(set1.issuperset(set2))\n",
    "print(set1 >= set3)\n",
    "# print(set1.issuperset(set3))"
   ]
  },
  {
   "cell_type": "markdown",
   "metadata": {},
   "source": [
    "### 字典"
   ]
  },
  {
   "cell_type": "markdown",
   "metadata": {},
   "source": [
    "##### 字典的创建方法"
   ]
  },
  {
   "cell_type": "code",
   "execution_count": 64,
   "metadata": {},
   "outputs": [
    {
     "name": "stdout",
     "output_type": "stream",
     "text": [
      "{'骆昊': 95, '白元芳': 78, '狄仁杰': 82}\n",
      "{'one': 1, 'two': 2, 'three': 3, 'four': 4} {'a': '1', 'b': '2', 'c': '3'} {1: 1, 2: 4, 3: 9, 4: 16, 5: 25, 6: 36, 7: 49, 8: 64, 9: 81}\n"
     ]
    }
   ],
   "source": [
    "# 创建字典的字面量语法\n",
    "scores = {'骆昊': 95, '白元芳': 78, '狄仁杰': 82}\n",
    "print(scores)\n",
    "# 创建字典的构造器语法\n",
    "items1 = dict(one=1, two=2, three=3, four=4)\n",
    "# 通过zip函数将两个序列压成字典\n",
    "items2 = dict(zip(['a', 'b', 'c'], '123'))\n",
    "# 创建字典的推导式语法\n",
    "items3 = {num: num ** 2 for num in range(1, 10)}\n",
    "print(items1, items2, items3)"
   ]
  },
  {
   "cell_type": "code",
   "execution_count": 66,
   "metadata": {},
   "outputs": [
    {
     "name": "stdout",
     "output_type": "stream",
     "text": [
      "{'骆昊': 95, '白元芳': 65, '狄仁杰': 82, '诸葛王朗': 71, '冷面': 67, '方启鹤': 85}\n",
      "None\n",
      "60\n",
      "('方启鹤', 85)\n",
      "('冷面', 67)\n",
      "95\n",
      "{}\n"
     ]
    }
   ],
   "source": [
    "scores['白元芳'] = 65\n",
    "scores['诸葛王朗'] = 71\n",
    "scores.update(冷面=67, 方启鹤=85)\n",
    "print(scores)\n",
    "if '武则天' in scores:\n",
    "    print(scores['武则天'])\n",
    "print(scores.get('武则天'))\n",
    "# get方法也是通过键获取对应的值但是可以设置默认值\n",
    "print(scores.get('武则天', 60))     #查找该键值对，若无该键值对则添加该键值对\n",
    "# 删除字典中的元素\n",
    "print(scores.popitem())\n",
    "print(scores.popitem())\n",
    "print(scores.pop('骆昊', 100))\n",
    "# 清空字典\n",
    "scores.clear()\n",
    "print(scores)"
   ]
  },
  {
   "cell_type": "markdown",
   "metadata": {},
   "source": [
    "### 练习"
   ]
  },
  {
   "cell_type": "markdown",
   "metadata": {},
   "source": [
    "#### 练习1：在屏幕上显示跑马灯文字。"
   ]
  },
  {
   "cell_type": "code",
   "execution_count": 8,
   "metadata": {},
   "outputs": [
    {
     "name": "stdout",
     "output_type": "stream",
     "text": [
      "北京欢迎你为你开天辟地…………\n",
      "京欢迎你为你开天辟地…………北\n",
      "欢迎你为你开天辟地…………北京\n",
      "迎你为你开天辟地…………北京欢\n",
      "你为你开天辟地…………北京欢迎\n",
      "为你开天辟地…………北京欢迎你\n",
      "你开天辟地…………北京欢迎你为\n",
      "开天辟地…………北京欢迎你为你\n",
      "天辟地…………北京欢迎你为你开\n",
      "辟地…………北京欢迎你为你开天\n",
      "地…………北京欢迎你为你开天辟\n",
      "…………北京欢迎你为你开天辟地\n",
      "………北京欢迎你为你开天辟地…\n",
      "……北京欢迎你为你开天辟地……\n",
      "…北京欢迎你为你开天辟地………\n",
      "北京欢迎你为你开天辟地…………\n",
      "京欢迎你为你开天辟地…………北\n"
     ]
    },
    {
     "ename": "KeyboardInterrupt",
     "evalue": "",
     "output_type": "error",
     "traceback": [
      "\u001b[1;31m---------------------------------------------------------------------------\u001b[0m",
      "\u001b[1;31mKeyboardInterrupt\u001b[0m                         Traceback (most recent call last)",
      "\u001b[1;32mf:\\Programming\\02.Python-learn-programming\\3_Python-100-Days-master\\day01-15.ipynb Cell 86\u001b[0m in \u001b[0;36m<cell line: 16>\u001b[1;34m()\u001b[0m\n\u001b[0;32m     <a href='vscode-notebook-cell:/f%3A/Programming/02.Python-learn-programming/3_Python-100-Days-master/day01-15.ipynb#Y151sZmlsZQ%3D%3D?line=12'>13</a>\u001b[0m         content \u001b[39m=\u001b[39m content[\u001b[39m1\u001b[39m:] \u001b[39m+\u001b[39m content[\u001b[39m0\u001b[39m]\n\u001b[0;32m     <a href='vscode-notebook-cell:/f%3A/Programming/02.Python-learn-programming/3_Python-100-Days-master/day01-15.ipynb#Y151sZmlsZQ%3D%3D?line=15'>16</a>\u001b[0m \u001b[39mif\u001b[39;00m \u001b[39m__name__\u001b[39m \u001b[39m==\u001b[39m \u001b[39m'\u001b[39m\u001b[39m__main__\u001b[39m\u001b[39m'\u001b[39m:\n\u001b[1;32m---> <a href='vscode-notebook-cell:/f%3A/Programming/02.Python-learn-programming/3_Python-100-Days-master/day01-15.ipynb#Y151sZmlsZQ%3D%3D?line=16'>17</a>\u001b[0m     main()\n",
      "\u001b[1;32mf:\\Programming\\02.Python-learn-programming\\3_Python-100-Days-master\\day01-15.ipynb Cell 86\u001b[0m in \u001b[0;36mmain\u001b[1;34m()\u001b[0m\n\u001b[0;32m     <a href='vscode-notebook-cell:/f%3A/Programming/02.Python-learn-programming/3_Python-100-Days-master/day01-15.ipynb#Y151sZmlsZQ%3D%3D?line=9'>10</a>\u001b[0m \u001b[39mprint\u001b[39m(content)\n\u001b[0;32m     <a href='vscode-notebook-cell:/f%3A/Programming/02.Python-learn-programming/3_Python-100-Days-master/day01-15.ipynb#Y151sZmlsZQ%3D%3D?line=10'>11</a>\u001b[0m \u001b[39m# 休眠200毫秒\u001b[39;00m\n\u001b[1;32m---> <a href='vscode-notebook-cell:/f%3A/Programming/02.Python-learn-programming/3_Python-100-Days-master/day01-15.ipynb#Y151sZmlsZQ%3D%3D?line=11'>12</a>\u001b[0m time\u001b[39m.\u001b[39;49msleep(\u001b[39m0.2\u001b[39;49m)\n\u001b[0;32m     <a href='vscode-notebook-cell:/f%3A/Programming/02.Python-learn-programming/3_Python-100-Days-master/day01-15.ipynb#Y151sZmlsZQ%3D%3D?line=12'>13</a>\u001b[0m content \u001b[39m=\u001b[39m content[\u001b[39m1\u001b[39m:] \u001b[39m+\u001b[39m content[\u001b[39m0\u001b[39m]\n",
      "\u001b[1;31mKeyboardInterrupt\u001b[0m: "
     ]
    }
   ],
   "source": [
    "import os\n",
    "import time\n",
    "\n",
    "\n",
    "def main():\n",
    "    content = '北京欢迎你为你开天辟地…………'\n",
    "    while True:\n",
    "        # 清理屏幕上的输出\n",
    "        os.system('cls')  # os.system('clear')\n",
    "        print(content)\n",
    "        # 休眠200毫秒\n",
    "        time.sleep(0.2)\n",
    "        content = content[1:] + content[0]\n",
    "\n",
    "\n",
    "if __name__ == '__main__':\n",
    "    main()"
   ]
  },
  {
   "cell_type": "markdown",
   "metadata": {},
   "source": [
    "#### 练习2：设计一个函数产生指定长度的验证码，验证码由大小写字母和数字构成。"
   ]
  },
  {
   "cell_type": "code",
   "execution_count": 70,
   "metadata": {},
   "outputs": [
    {
     "name": "stdout",
     "output_type": "stream",
     "text": [
      "7myybr\n"
     ]
    }
   ],
   "source": [
    "import random\n",
    "\n",
    "def generate_code(code_len=6):\n",
    "    \"\"\"\n",
    "    生成指定长度的验证码\n",
    "    :param code_len: 验证码的长度(默认6个字符)\n",
    "    :return 由大小写英文字母和数字构成的随机验证码\n",
    "    \"\"\"\n",
    "\n",
    "    # 储存所有待选字符\n",
    "    all_char = '0123456789abcdefghijklmnopqrstuvwxyzABCDEFGHIJKLMNOPQRSTUVWXYZ'\n",
    "    code = ''\n",
    "    all_char_len = len(all_char)\n",
    "    for _ in range(code_len):\n",
    "        char_index = random.randint(0,all_char_len-1)\n",
    "        code += all_char[char_index]\n",
    "    return code\n",
    "    \n",
    "def main():\n",
    "    print(generate_code())\n",
    "\n",
    "if __name__ == '__main__':\n",
    "    main()\n"
   ]
  },
  {
   "cell_type": "markdown",
   "metadata": {},
   "source": [
    "#### 练习3：设计一个函数返回给定文件名的后缀名。"
   ]
  },
  {
   "cell_type": "code",
   "execution_count": 74,
   "metadata": {},
   "outputs": [
    {
     "name": "stdout",
     "output_type": "stream",
     "text": [
      ".txt\n"
     ]
    }
   ],
   "source": [
    "def get_suffix(filename, has_dot=False):\n",
    "    \"\"\"\n",
    "    获取文件名的后缀名\n",
    "    :param filename: 文件名\n",
    "    :param has_dot: 返回的后缀名是否需要带点\n",
    "    :return 文件的后缀名\n",
    "    \"\"\"\n",
    "    pos = filename.rfind('.')   # .rfind('chr') 返回chr最后一次出现的index，若没有匹配的chr 则返回-1\n",
    "    if 0 < pos < len(filename) - 1: # 确保文件不是以.结尾，即参数有后缀名\n",
    "        index = pos if has_dot else pos + 1    #又是函数推导式\n",
    "        return filename[index:]\n",
    "    else:\n",
    "        return ''\n",
    "\n",
    "def main():\n",
    "    print(get_suffix('2.txt',True))\n",
    "\n",
    "if __name__ == \"__main__\":\n",
    "    main()\n"
   ]
  },
  {
   "cell_type": "markdown",
   "metadata": {},
   "source": [
    "#### 练习4：设计一个函数返回传入的列表中最大和第二大的元素的值。"
   ]
  },
  {
   "cell_type": "code",
   "execution_count": 80,
   "metadata": {},
   "outputs": [
    {
     "name": "stdout",
     "output_type": "stream",
     "text": [
      "(85, 55)\n"
     ]
    }
   ],
   "source": [
    "def max2(x):\n",
    "    m1,m2 =(x[0], x[1]) if x[0]>x[1] else(x[1], x[0])\n",
    "    for i in range(2,len(x)):\n",
    "        if x[i] > m1:\n",
    "            m2 = m1\n",
    "            m1 = x[i]\n",
    "            \n",
    "        elif x[i] > m2:\n",
    "            m2 = x[i]\n",
    "    return m1,m2\n",
    "\n",
    "def main():\n",
    "    print(max2([12,5,32,85,55,3]))\n",
    "\n",
    "if __name__ == '__main__':\n",
    "    main()\n"
   ]
  },
  {
   "cell_type": "markdown",
   "metadata": {},
   "source": [
    "#### 练习5：计算指定的年月日是这一年的第几天。"
   ]
  },
  {
   "cell_type": "code",
   "execution_count": 1,
   "metadata": {},
   "outputs": [
    {
     "name": "stdout",
     "output_type": "stream",
     "text": [
      "333\n",
      "365\n",
      "1\n",
      "61\n"
     ]
    }
   ],
   "source": [
    "def is_leap_year(year):\n",
    "    '''\n",
    "    判断一个年份是否是闰年\n",
    "    params: year:年份\n",
    "    return 闰年返回True 平年返回False\n",
    "    '''\n",
    "\n",
    "    return year % 4 == 0 and year % 100 != 0 or year % 400 == 0\n",
    "\n",
    "def which_day(year,month,date):\n",
    "    ''' \n",
    "    计算传入的日期是该年份中的第几年\n",
    "    :params year : 年份\n",
    "    :params month: 月份\n",
    "    :params date: 天数\n",
    "    return: 返回该日期在该年份中的天数\n",
    "    '''\n",
    "    month_days = [\n",
    "        [31, 28, 31, 30, 31, 30, 31, 31, 30, 31, 30, 31],\n",
    "        [31, 29, 31, 30, 31, 30, 31, 31, 30, 31, 30, 31]\n",
    "    ][is_leap_year(year)]\n",
    "\n",
    "    days = 0\n",
    "    for i in range(month-1):\n",
    "        days += month_days[i]\n",
    "\n",
    "    return days+date\n",
    "\n",
    "\n",
    "def main():\n",
    "    print(which_day(1980, 11, 28))\n",
    "    print(which_day(1981, 12, 31))\n",
    "    print(which_day(2018, 1, 1))\n",
    "    print(which_day(2016, 3, 1))\n",
    "\n",
    "if __name__ == '__main__':\n",
    "    main()"
   ]
  },
  {
   "cell_type": "markdown",
   "metadata": {},
   "source": [
    "#### 练习6：打印[杨辉三角](https://baike.baidu.com/item/%E6%9D%A8%E8%BE%89%E4%B8%89%E8%A7%92/215098)。"
   ]
  },
  {
   "cell_type": "code",
   "execution_count": null,
   "metadata": {},
   "outputs": [
    {
     "name": "stdout",
     "output_type": "stream",
     "text": [
      "1\t\n",
      "1\t1\t\n",
      "1\t2\t1\t\n",
      "1\t3\t3\t1\t\n",
      "1\t4\t6\t4\t1\t\n",
      "1\t5\t10\t10\t5\t1\t\n",
      "1\t6\t15\t20\t15\t6\t1\t\n"
     ]
    }
   ],
   "source": []
  },
  {
   "cell_type": "markdown",
   "metadata": {},
   "source": [
    "### 综合案例"
   ]
  },
  {
   "cell_type": "markdown",
   "metadata": {},
   "source": [
    "### 综合案例"
   ]
  },
  {
   "cell_type": "markdown",
   "metadata": {},
   "source": [
    "#### 案例1：双色球选号。\n",
    "> 　“[双色球](http://www.cwl.gov.cn/c/2018/10/12/417937.shtml)”双色球投注区分为红色球号码区和蓝色球号码区，红色球号码区由1-33共三十三个号码组成，蓝色球号码区由1-16共十六个号码组成。"
   ]
  },
  {
   "cell_type": "code",
   "execution_count": 17,
   "metadata": {},
   "outputs": [
    {
     "name": "stdout",
     "output_type": "stream",
     "text": [
      "08 13 15 22 28 30 | 13 \n",
      "03 16 17 21 25 30 | 13 \n",
      "03 09 14 17 21 26 | 12 \n"
     ]
    }
   ],
   "source": [
    "from random import sample,randint\n",
    "\n",
    "def display(balls):\n",
    "    ''' \n",
    "    输出符合数字是两位且后面的蓝色球和前面的红色球用|分开的数据\n",
    "    :params balls:需要进行格式化处理的序列\n",
    "    :return 返回符合要求且分开红蓝球的数值\n",
    "    '''\n",
    "    for index,value in enumerate(balls):        #enumerate()同时遍历序列的index和value 有点类似于遍历字典的dict.items()\n",
    "        if index == len(balls)-1:               #不改变原来的序列，只是对输出结果进行改变\n",
    "            print('|',end=' ')\n",
    "        print('%02d' % value ,end=' ')          #02的意思是如果输出的整型数不足两位，左侧用2前面的数值补齐\n",
    "    print()\n",
    "\n",
    "def random_generate_balls():\n",
    "    ''' \n",
    "    随机生成符合要求的六位蓝色球和一位红色球数据,且数据被排序\n",
    "    :return 返回生成的数据\n",
    "    '''\n",
    "\n",
    "    red_balls = [x for x in range(1,34)]    #生成一个1-33的数字list\n",
    "    select_balls = []\n",
    "    select_balls = sample(red_balls,6)      #随机不重复的选取6个随机数，sample是不重复的选取函数\n",
    "    select_balls.sort()\n",
    "    select_balls.append(randint(1,16))      # 生成蓝色球数据\n",
    "    \n",
    "    return select_balls\n",
    "\n",
    "def main():\n",
    "    num = int(input('生成几注双色球'))\n",
    "    for _ in range(num):\n",
    "        display(random_generate_balls())\n",
    "\n",
    "if __name__ == '__main__':\n",
    "    main()"
   ]
  },
  {
   "cell_type": "markdown",
   "metadata": {},
   "source": [
    "#### 案例2：[约瑟夫环问题](https://zh.wikipedia.org/wiki/%E7%BA%A6%E7%91%9F%E5%A4%AB%E6%96%AF%E9%97%AE%E9%A2%98)。\n",
    "> 《幸运的基督徒》\n",
    "有15个基督徒和15个非基督徒在海上遇险，为了能让一部分人活下来不得不将其中15个人扔到海里面去，有个人想了个办法就是大家围成一个圈，由某个人开始从1报数，报到9的人就扔到海里面，他后面的人接着从1开始报数，报到9的人继续扔到海里面，直到扔掉15个人。由于上帝的保佑，15个基督徒都幸免于难，问这些人最开始是怎么站的，哪些位置是基督徒哪些位置是非基督徒"
   ]
  },
  {
   "cell_type": "code",
   "execution_count": 22,
   "metadata": {},
   "outputs": [
    {
     "name": "stdout",
     "output_type": "stream",
     "text": [
      "基基基基非非非非非基基非基基基非基非非基基非非非基非非基基非"
     ]
    }
   ],
   "source": [
    "def main():\n",
    "    ''' \n",
    "    生成符合要求的十五个基督徒和十五个非基督徒的位置\n",
    "    :params counter: 出局的人数\n",
    "    :params index: 人站的位置编号\n",
    "    :params number: 报数的数值\n",
    "    :return 生成30个人的位置\n",
    "    '''\n",
    "    persons = [True] * 30   #生成有个由30个元素组成的list\n",
    "    counter, index, number = 0, 0, 0\n",
    "    while counter < 15:\n",
    "        if persons[index]:\n",
    "            number += 1\n",
    "            if number == 9:\n",
    "                persons[index] = False\n",
    "                counter += 1\n",
    "                number = 0\n",
    "        index += 1\n",
    "        index %= 30     # 当循环到了后面几轮,index超过了30,\n",
    "                        # 为了不出现溢出的情况要,求余使得index处于0-29    \n",
    "    for person in persons:\n",
    "        print('基' if person else '非', end='')\n",
    "\n",
    "\n",
    "if __name__ == '__main__':\n",
    "    main()\n"
   ]
  },
  {
   "cell_type": "markdown",
   "metadata": {},
   "source": [
    "#### 案例3：[井字棋](https://zh.wikipedia.org/wiki/%E4%BA%95%E5%AD%97%E6%A3%8B)游戏。"
   ]
  },
  {
   "cell_type": "code",
   "execution_count": 23,
   "metadata": {},
   "outputs": [
    {
     "name": "stdout",
     "output_type": "stream",
     "text": [
      " | | \n",
      "-+-+-\n",
      " | | \n",
      "-+-+-\n",
      " | | \n",
      "x| | \n",
      "-+-+-\n",
      " | | \n",
      "-+-+-\n",
      " | | \n"
     ]
    },
    {
     "ename": "KeyError",
     "evalue": "''",
     "output_type": "error",
     "traceback": [
      "\u001b[1;31m---------------------------------------------------------------------------\u001b[0m",
      "\u001b[1;31mKeyError\u001b[0m                                  Traceback (most recent call last)",
      "\u001b[1;32m<ipython-input-23-18e06893be06>\u001b[0m in \u001b[0;36m<module>\u001b[1;34m\u001b[0m\n\u001b[0;32m     40\u001b[0m \u001b[1;33m\u001b[0m\u001b[0m\n\u001b[0;32m     41\u001b[0m \u001b[1;32mif\u001b[0m \u001b[0m__name__\u001b[0m \u001b[1;33m==\u001b[0m \u001b[1;34m'__main__'\u001b[0m\u001b[1;33m:\u001b[0m\u001b[1;33m\u001b[0m\u001b[1;33m\u001b[0m\u001b[0m\n\u001b[1;32m---> 42\u001b[1;33m     \u001b[0mmain\u001b[0m\u001b[1;33m(\u001b[0m\u001b[1;33m)\u001b[0m\u001b[1;33m\u001b[0m\u001b[1;33m\u001b[0m\u001b[0m\n\u001b[0m",
      "\u001b[1;32m<ipython-input-23-18e06893be06>\u001b[0m in \u001b[0;36mmain\u001b[1;34m()\u001b[0m\n\u001b[0;32m     26\u001b[0m         \u001b[1;32mwhile\u001b[0m \u001b[0mcounter\u001b[0m \u001b[1;33m<\u001b[0m \u001b[1;36m9\u001b[0m\u001b[1;33m:\u001b[0m\u001b[1;33m\u001b[0m\u001b[1;33m\u001b[0m\u001b[0m\n\u001b[0;32m     27\u001b[0m             \u001b[0mmove\u001b[0m \u001b[1;33m=\u001b[0m \u001b[0minput\u001b[0m\u001b[1;33m(\u001b[0m\u001b[1;34m'轮到%s走棋, 请输入位置: '\u001b[0m \u001b[1;33m%\u001b[0m \u001b[0mturn\u001b[0m\u001b[1;33m)\u001b[0m\u001b[1;33m\u001b[0m\u001b[1;33m\u001b[0m\u001b[0m\n\u001b[1;32m---> 28\u001b[1;33m             \u001b[1;32mif\u001b[0m \u001b[0mcurr_board\u001b[0m\u001b[1;33m[\u001b[0m\u001b[0mmove\u001b[0m\u001b[1;33m]\u001b[0m \u001b[1;33m==\u001b[0m \u001b[1;34m' '\u001b[0m\u001b[1;33m:\u001b[0m\u001b[1;33m\u001b[0m\u001b[1;33m\u001b[0m\u001b[0m\n\u001b[0m\u001b[0;32m     29\u001b[0m                 \u001b[0mcounter\u001b[0m \u001b[1;33m+=\u001b[0m \u001b[1;36m1\u001b[0m\u001b[1;33m\u001b[0m\u001b[1;33m\u001b[0m\u001b[0m\n\u001b[0;32m     30\u001b[0m                 \u001b[0mcurr_board\u001b[0m\u001b[1;33m[\u001b[0m\u001b[0mmove\u001b[0m\u001b[1;33m]\u001b[0m \u001b[1;33m=\u001b[0m \u001b[0mturn\u001b[0m\u001b[1;33m\u001b[0m\u001b[1;33m\u001b[0m\u001b[0m\n",
      "\u001b[1;31mKeyError\u001b[0m: ''"
     ]
    }
   ],
   "source": [
    "import os\n",
    "\n",
    "\n",
    "def print_board(board):\n",
    "    print(board['TL'] + '|' + board['TM'] + '|' + board['TR'])\n",
    "    print('-+-+-')\n",
    "    print(board['ML'] + '|' + board['MM'] + '|' + board['MR'])\n",
    "    print('-+-+-')\n",
    "    print(board['BL'] + '|' + board['BM'] + '|' + board['BR'])\n",
    "\n",
    "\n",
    "def main():\n",
    "    init_board = {\n",
    "        'TL': ' ', 'TM': ' ', 'TR': ' ',\n",
    "        'ML': ' ', 'MM': ' ', 'MR': ' ',\n",
    "        'BL': ' ', 'BM': ' ', 'BR': ' '\n",
    "    }\n",
    "    begin = True\n",
    "    while begin:\n",
    "        curr_board = init_board.copy()\n",
    "        begin = False\n",
    "        turn = 'x'\n",
    "        counter = 0\n",
    "        os.system('clear')      # 清空平面 避免出现到了下一步了 但是上面那步的打印结果还在\n",
    "        print_board(curr_board)\n",
    "        while counter < 9:\n",
    "            move = input('轮到%s走棋, 请输入位置: ' % turn)\n",
    "            if curr_board[move] == ' ':\n",
    "                counter += 1\n",
    "                curr_board[move] = turn\n",
    "                if turn == 'x':\n",
    "                    turn = 'o'\n",
    "                else:\n",
    "                    turn = 'x'\n",
    "            os.system('clear')\n",
    "            print_board(curr_board)\n",
    "        choice = input('再玩一局?(yes|no)')\n",
    "        begin = choice == 'yes'\n",
    "\n",
    "\n",
    "if __name__ == '__main__':\n",
    "    main()"
   ]
  },
  {
   "cell_type": "markdown",
   "metadata": {},
   "source": [
    "# day 08 面向对象的编程基础"
   ]
  },
  {
   "cell_type": "code",
   "execution_count": 2,
   "metadata": {},
   "outputs": [
    {
     "name": "stdout",
     "output_type": "stream",
     "text": [
      "骆昊正在学习Python程序设计.\n",
      "骆昊正在观看岛国爱情大电影.\n",
      "王大锤正在学习思想品德.\n",
      "王大锤只能观看《熊出没》.\n"
     ]
    }
   ],
   "source": [
    "class Student(object):\n",
    "\n",
    "    # __init__是一个特殊方法用于在创建对象时进行初始化操作\n",
    "    # 通过这个方法我们可以为学生对象绑定name和age两个属性\n",
    "    def __init__(self, name, age):\n",
    "        self.name = name\n",
    "        self.age = age\n",
    "\n",
    "    def study(self, course_name):\n",
    "        print('%s正在学习%s.' % (self.name, course_name))\n",
    "\n",
    "    # PEP 8要求标识符的名字用全小写多个单词用下划线连接\n",
    "    # 但是部分程序员和公司更倾向于使用驼峰命名法(驼峰标识)\n",
    "    def watch_movie(self):\n",
    "        if self.age < 18:\n",
    "            print('%s只能观看《熊出没》.' % self.name)\n",
    "        else:\n",
    "            print('%s正在观看岛国爱情大电影.' % self.name)\n",
    "\n",
    "def main():\n",
    "    # 创建学生对象并指定姓名和年龄\n",
    "    stu1 = Student('骆昊', 38)\n",
    "    # 给对象发study消息\n",
    "    stu1.study('Python程序设计')\n",
    "    # 给对象发watch_av消息\n",
    "    stu1.watch_movie()\n",
    "    stu2 = Student('王大锤', 15)\n",
    "    stu2.study('思想品德')\n",
    "    stu2.watch_movie()\n",
    "\n",
    "\n",
    "if __name__ == '__main__':\n",
    "    main()"
   ]
  },
  {
   "cell_type": "code",
   "execution_count": null,
   "metadata": {},
   "outputs": [
    {
     "ename": "",
     "evalue": "",
     "output_type": "error",
     "traceback": [
      "\u001b[1;31mFailed to start the Kernel. \n",
      "\u001b[1;31mUnable to start Kernel 'base (Python 3.9.12)' due to connection timeout. \n",
      "\u001b[1;31mView Jupyter <a href='command:jupyter.viewOutput'>log</a> for further details."
     ]
    }
   ],
   "source": [
    "class Test:\n",
    "\n",
    "    def __init__(self, foo):\n",
    "        self.__foo = foo\n",
    "\n",
    "    def __bar(self):    #在属性的命名前面加上两个__，即该属性是私有的不可以从外部访问\n",
    "        print(self.__foo)\n",
    "        print('__bar')\n",
    "\n",
    "\n",
    "def main():\n",
    "    test = Test('hello')\n",
    "    # AttributeError: 'Test' object has no attribute '__bar'\n",
    "    test.__bar()\n",
    "    # AttributeError: 'Test' object has no attribute '__foo'\n",
    "    print(test.__foo)\n",
    "\n",
    "\n",
    "if __name__ == \"__main__\":\n",
    "    main()"
   ]
  },
  {
   "cell_type": "code",
   "execution_count": null,
   "metadata": {},
   "outputs": [
    {
     "ename": "",
     "evalue": "",
     "output_type": "error",
     "traceback": [
      "\u001b[1;31mFailed to start the Kernel. \n",
      "\u001b[1;31mUnable to start Kernel 'base (Python 3.9.12)' due to connection timeout. \n",
      "\u001b[1;31mView Jupyter <a href='command:jupyter.viewOutput'>log</a> for further details."
     ]
    }
   ],
   "source": [
    "class Test:\n",
    "\n",
    "    def __init__(self, foo):\n",
    "        self.__foo = foo\n",
    "\n",
    "    def __bar(self):\n",
    "        print(self.__foo)\n",
    "        print('__bar')\n",
    "\n",
    "\n",
    "def main():\n",
    "    test = Test('hello')\n",
    "    test._Test__bar()       #不是很懂\n",
    "    print(test._Test__foo)\n",
    "\n",
    "\n",
    "if __name__ == \"__main__\":\n",
    "    main()"
   ]
  },
  {
   "cell_type": "markdown",
   "metadata": {},
   "source": [
    "### 练习"
   ]
  },
  {
   "cell_type": "markdown",
   "metadata": {},
   "source": [
    "#### 练习1：定义一个类描述数字时钟。"
   ]
  },
  {
   "cell_type": "code",
   "execution_count": 9,
   "metadata": {},
   "outputs": [
    {
     "name": "stdout",
     "output_type": "stream",
     "text": [
      "23:59:50\n",
      "23:59:51\n",
      "23:59:52\n"
     ]
    },
    {
     "ename": "KeyboardInterrupt",
     "evalue": "",
     "output_type": "error",
     "traceback": [
      "\u001b[1;31m---------------------------------------------------------------------------\u001b[0m",
      "\u001b[1;31mKeyboardInterrupt\u001b[0m                         Traceback (most recent call last)",
      "\u001b[1;32mf:\\Programming\\02.Python-learn-programming\\3_Python-100-Days-master\\day01-15.ipynb Cell 110\u001b[0m in \u001b[0;36m<cell line: 39>\u001b[1;34m()\u001b[0m\n\u001b[0;32m     <a href='vscode-notebook-cell:/f%3A/Programming/02.Python-learn-programming/3_Python-100-Days-master/day01-15.ipynb#Y214sZmlsZQ%3D%3D?line=36'>37</a>\u001b[0m         clock\u001b[39m.\u001b[39mrun()\n\u001b[0;32m     <a href='vscode-notebook-cell:/f%3A/Programming/02.Python-learn-programming/3_Python-100-Days-master/day01-15.ipynb#Y214sZmlsZQ%3D%3D?line=38'>39</a>\u001b[0m \u001b[39mif\u001b[39;00m \u001b[39m__name__\u001b[39m \u001b[39m==\u001b[39m \u001b[39m'\u001b[39m\u001b[39m__main__\u001b[39m\u001b[39m'\u001b[39m:\n\u001b[1;32m---> <a href='vscode-notebook-cell:/f%3A/Programming/02.Python-learn-programming/3_Python-100-Days-master/day01-15.ipynb#Y214sZmlsZQ%3D%3D?line=39'>40</a>\u001b[0m     main()\n",
      "\u001b[1;32mf:\\Programming\\02.Python-learn-programming\\3_Python-100-Days-master\\day01-15.ipynb Cell 110\u001b[0m in \u001b[0;36mmain\u001b[1;34m()\u001b[0m\n\u001b[0;32m     <a href='vscode-notebook-cell:/f%3A/Programming/02.Python-learn-programming/3_Python-100-Days-master/day01-15.ipynb#Y214sZmlsZQ%3D%3D?line=33'>34</a>\u001b[0m \u001b[39mwhile\u001b[39;00m \u001b[39mTrue\u001b[39;00m:\n\u001b[0;32m     <a href='vscode-notebook-cell:/f%3A/Programming/02.Python-learn-programming/3_Python-100-Days-master/day01-15.ipynb#Y214sZmlsZQ%3D%3D?line=34'>35</a>\u001b[0m     \u001b[39mprint\u001b[39m(clock\u001b[39m.\u001b[39mshow_time())\n\u001b[1;32m---> <a href='vscode-notebook-cell:/f%3A/Programming/02.Python-learn-programming/3_Python-100-Days-master/day01-15.ipynb#Y214sZmlsZQ%3D%3D?line=35'>36</a>\u001b[0m     sleep(\u001b[39m1\u001b[39;49m)\n\u001b[0;32m     <a href='vscode-notebook-cell:/f%3A/Programming/02.Python-learn-programming/3_Python-100-Days-master/day01-15.ipynb#Y214sZmlsZQ%3D%3D?line=36'>37</a>\u001b[0m     clock\u001b[39m.\u001b[39mrun()\n",
      "\u001b[1;31mKeyboardInterrupt\u001b[0m: "
     ]
    }
   ],
   "source": [
    "from time import sleep\n",
    "\n",
    "class Clock(object):\n",
    "    '''数字时钟'''\n",
    "    def __init__(self,hour=0, minute=0, second=0):\n",
    "        ''' \n",
    "        初始化方法\n",
    "        :params hour:时\n",
    "        :params minute:分\n",
    "        :params second:秒\n",
    "        '''\n",
    "        self.hour = hour\n",
    "        self.minute = minute\n",
    "        self.second = second\n",
    "    def run(self):\n",
    "        '''计时'''\n",
    "        self.second +=1\n",
    "        if self.second == 60:\n",
    "            self.second = 0\n",
    "            self.minute += 1\n",
    "            if self.minute == 60:\n",
    "                self.minute = 0\n",
    "                self.hour += 1\n",
    "                if self.hour == 24:\n",
    "                    self.hour = 0\n",
    "    \n",
    "    def show_time(self):\n",
    "        '''格式化显示时间'''\n",
    "        return (f'{self.hour:02d}:{self.minute:02d}:{self.second:02d}')\n",
    "\n",
    "\n",
    "def main():\n",
    "    clock = Clock(23,59,50)\n",
    "    while True:\n",
    "        print(clock.show_time())\n",
    "        sleep(1)\n",
    "        clock.run()\n",
    "            \n",
    "if __name__ == '__main__':\n",
    "    main()\n"
   ]
  },
  {
   "cell_type": "markdown",
   "metadata": {},
   "source": [
    "#### 练习2：定义一个类描述平面上的点并提供移动点和计算到另一个点距离的方法。"
   ]
  },
  {
   "cell_type": "code",
   "execution_count": 11,
   "metadata": {},
   "outputs": [
    {
     "name": "stdout",
     "output_type": "stream",
     "text": [
      "3,3\n",
      "0,0\n",
      "-1,-1\n",
      "5.0\n"
     ]
    }
   ],
   "source": [
    "from math import sqrt\n",
    "\n",
    "class Point(object):\n",
    "    '''定义一个坐标点'''\n",
    "    def __init__(self,x=0,y=0):\n",
    "        ''' \n",
    "        初始化方法\n",
    "        :params x:x坐标\n",
    "        :params y:y坐标\n",
    "        '''\n",
    "        self.x = x\n",
    "        self.y = y\n",
    "\n",
    "    def move_to(self,x,y):\n",
    "        '''\n",
    "        移动到新的位置\n",
    "        :params x: 新的x值\n",
    "        :params y: 新的y值\n",
    "        '''\n",
    "        self.x = x\n",
    "        self.y = y\n",
    "    def move_by(self,dx,dy):\n",
    "        '''\n",
    "        移动上下左右移动\n",
    "        :params dx: 改变的x值\n",
    "        :params dy: 改变的y值\n",
    "        '''\n",
    "        self.x += dx\n",
    "        self.y += dy\n",
    "\n",
    "    def distance_to(self,other):    \n",
    "        '''' \n",
    "        计算两个点之间的距离\n",
    "        :param other: 另一个点的class\n",
    "        :return 返回两个点的距离\n",
    "        '''\n",
    "        dx = self.x - other.x\n",
    "        dy = self.y - other.y\n",
    "        return sqrt(dx**2 + dy**2)\n",
    "    def __str__(self):      \n",
    "        #创建完对象，直接打印对象名/引用名我们得到的是对象的内存信息(十六进制的地址信息)，\n",
    "        #这串数据我们程序员并不关心，我们更希望看到的是属性赋值以后的内容(属性赋值的检测)，\n",
    "        #那么我们就可以认为显示的重写__str__函数，来实现属性内容的返回显示\n",
    "        # __str__的作用是按照下面写的格式打印，美化打印出来的结果，使人类更方便查看。\n",
    "        return (f'{str(self.x):s},{str(self.x):s}')\n",
    "        \n",
    "def main():\n",
    "    p1 = Point(3, 5)\n",
    "    p2 = Point()\n",
    "    print(p1)\n",
    "    print(p2)\n",
    "    p2.move_by(-1, 2)\n",
    "    print(p2)\n",
    "    print(p1.distance_to(p2))\n",
    "\n",
    "\n",
    "if __name__ == '__main__':\n",
    "    main()\n",
    "    \n"
   ]
  },
  {
   "cell_type": "markdown",
   "metadata": {},
   "source": [
    "# day 09 面向对象进阶"
   ]
  },
  {
   "cell_type": "markdown",
   "metadata": {},
   "source": [
    "### @property装饰器\n",
    "> @property装饰器来创建只读属性，@property装饰器会将方法转换为相同名称的只读属性,可以与所定义的属性配合使用，这样可以防止属性被修改。\n",
    "> 在方法定义上面加一个@property 装饰器，可以在不改变原有调用方式的同时，来将一个属性改为一个方法。"
   ]
  },
  {
   "cell_type": "markdown",
   "metadata": {},
   "source": [
    "#### 以下内容均来自与知乎的[python @property的介绍与使用](https://zhuanlan.zhihu.com/p/366156798)和[Python @property属性详解](https://zhuanlan.zhihu.com/p/366156798)"
   ]
  },
  {
   "cell_type": "markdown",
   "metadata": {},
   "source": [
    "#### 1. 修饰方法，是方法可以像属性一样访问。"
   ]
  },
  {
   "cell_type": "code",
   "execution_count": 4,
   "metadata": {},
   "outputs": [
    {
     "name": "stdout",
     "output_type": "stream",
     "text": [
      "15\n",
      "15\n"
     ]
    }
   ],
   "source": [
    "class DataSet(object):\n",
    "  @property\n",
    "  def method_with_property(self): ##含有@property\n",
    "      return 15\n",
    "  def method_without_property(self): ##不含@property\n",
    "      return 15\n",
    "\n",
    "l = DataSet()\n",
    "print(l.method_with_property) # 加了@property后，可以用调用属性的形式来调用方法,后面不需要加()。\n",
    "print(l.method_without_property())  #没有加@property , 必须使用正常的调用方法的形式，即在后面加()"
   ]
  },
  {
   "cell_type": "markdown",
   "metadata": {},
   "source": [
    "> 如果使用property进行修饰后，又在调用的时候，方法后面添加了()， 那么就会显示错误信息：TypeError: 'int' object is not callable，也就是说添加@property 后，这个方法就变成了一个属性，如果后面加入了()，那么就是当作函数来调用，而它却不是callable（可调用）的。"
   ]
  },
  {
   "cell_type": "markdown",
   "metadata": {},
   "source": [
    "### 2. 与所定义的属性配合使用，这样可以防止属性被修改。\n",
    "> ​ 由于python进行属性的定义时，没办法设置私有属性，因此要通过@property的方法来进行设置。这样可以隐藏属性名，让用户进行使用的时候无法随意修改。\n",
    "\n"
   ]
  },
  {
   "cell_type": "code",
   "execution_count": null,
   "metadata": {},
   "outputs": [],
   "source": [
    "class DataSet(object):\n",
    "    def __init__(self):\n",
    "        self._images = 1\n",
    "        self._labels = 2 #定义属性的名称\n",
    "    @property\n",
    "    def images(self): #方法加入@property后，这个方法相当于一个属性，\n",
    "                      #这个属性可以让用户进行使用，而且用户有没办法随意修改。\n",
    "        return self._images \n",
    "    @property\n",
    "    def labels(self):\n",
    "        return self._labels\n",
    "l = DataSet()\n",
    "#用户进行属性调用的时候，直接调用images即可，而不用知道属性名_images，\n",
    "# 因此用户无法更改属性，从而保护了类的属性。\n",
    "print(l.images) # 加了@property后，可以用调用属性的形式来调用方法,后面不需要加（）。"
   ]
  },
  {
   "cell_type": "markdown",
   "metadata": {},
   "source": [
    "### setter 方法\n",
    "> 每当为这个属性设置值时都用被调用,在setter 方法中，当fullname 被修改后，对应的变量也会随着改变\n",
    "\n",
    "> 当你使用setter 方法时，你需要遵循以下规则：\n",
    "> - setter 方法需要和@property 修饰的方法具有相同的名字\n",
    "> - 它会将用户传给property的值，作为参数\n",
    "> - 最后你需要在方法定义上添加@{methodname}.setter 装饰器"
   ]
  },
  {
   "cell_type": "markdown",
   "metadata": {},
   "source": [
    "> 当你设置B属性的值时，并且你想同时更新A属性，这个就可以通过添加setter 来实现"
   ]
  },
  {
   "cell_type": "code",
   "execution_count": null,
   "metadata": {},
   "outputs": [],
   "source": [
    "class Person():\n",
    "    def __init__(self, first_name, last_name):\n",
    "        self.first = first_name\n",
    "        self.last = last_name\n",
    "\n",
    "    @property\n",
    "    def fullname(self):\n",
    "        return self.first + ' ' + self.last\n",
    "\n",
    "    @fullname.setter\n",
    "    def fullname(self, name):\n",
    "        first_name, last_name = name.split()\n",
    "        self.first = first_name\n",
    "        self.last = last_name\n",
    "\n",
    "    def email(self):\n",
    "        return '{}.{}@email.com'.format(self.first, self.last)\n",
    "\n",
    "\n",
    "person = Person('zhang', 'san')\n",
    "print(person.fullname)\n",
    "print(person.last)\n",
    "print(person.first)\n",
    "\n",
    "person.fullname = 'li si'   #因为使用了.setter() 当方法的值变化后其对应的变量值也回随之变动\n",
    "print(person.fullname)\n",
    "print(person.last)\n",
    "print(person.first)"
   ]
  },
  {
   "cell_type": "markdown",
   "metadata": {},
   "source": [
    "### deleter方法\n",
    "> 和setter 方法类似，当我们需要删除一个属性时，我们会使用deleter 方法。你可以像定义setter 方法一样来定义一个setter 方法，使用相同的方法名，并在方法上添加@{methodname}.deleter 装饰器 。"
   ]
  },
  {
   "cell_type": "markdown",
   "metadata": {},
   "source": []
  },
  {
   "cell_type": "code",
   "execution_count": 5,
   "metadata": {},
   "outputs": [
    {
     "name": "stdout",
     "output_type": "stream",
     "text": [
      "zhang san\n",
      "san\n",
      "zhang\n",
      "None\n",
      "None\n"
     ]
    }
   ],
   "source": [
    "class Person():\n",
    "    def __init__(self, first_name, last_name):\n",
    "        self.first = first_name\n",
    "        self.last = last_name\n",
    "\n",
    "    @property\n",
    "    def fullname(self):\n",
    "        return self.first + ' ' + self.last\n",
    "\n",
    "    @fullname.setter\n",
    "    def fullname(self, name):\n",
    "        first_name, last_name = name.split()\n",
    "        self.first = first_name\n",
    "        self.last = last_name\n",
    "\n",
    "    @fullname.deleter\n",
    "    def fullname(self):\n",
    "        self.first = None\n",
    "        self.last = None\n",
    "\n",
    "    def email(self):\n",
    "        return '{}.{}@email.com'.format(self.first, self.last)\n",
    "\n",
    "\n",
    "person = Person('zhang', 'san')\n",
    "print(person.fullname)\n",
    "print(person.last)\n",
    "print(person.first)\n",
    "\n",
    "del person.fullname\n",
    "\n",
    "print(person.last)\n",
    "print(person.first)     # 当删除fullname 后，first 和 last 都被设置为空了"
   ]
  },
  {
   "cell_type": "code",
   "execution_count": 8,
   "metadata": {},
   "outputs": [
    {
     "name": "stdout",
     "output_type": "stream",
     "text": [
      "王大锤正在玩飞行棋.\n",
      "王大锤正在玩斗地主.\n",
      "None\n",
      "王大锤\n"
     ]
    }
   ],
   "source": [
    "class Person(object):\n",
    "\n",
    "    def __init__(self, name, age):\n",
    "        self._name = name\n",
    "        self._age = age\n",
    "\n",
    "    # 访问器 - getter方法\n",
    "    @property\n",
    "    def name(self):\n",
    "        return self._name\n",
    "\n",
    "    # 访问器 - getter方法\n",
    "    @property\n",
    "    def age(self):\n",
    "        return self._age\n",
    "\n",
    "    # 修改器 - setter方法\n",
    "    @age.setter\n",
    "    def age(self, age):\n",
    "        self._age = age\n",
    "\n",
    "    @age.deleter\n",
    "    def name_age(self):\n",
    "        self.age = None\n",
    "        # self.name = None  # 因为name没有使用setter方法 所以当改变name_age的时候对于的name属性不会随之改变 所以会报错\n",
    "\n",
    "    def play(self):\n",
    "        if self._age <= 16:\n",
    "            print('%s正在玩飞行棋.' % self._name)\n",
    "        else:\n",
    "            print('%s正在玩斗地主.' % self._name)\n",
    "\n",
    "\n",
    "def main():\n",
    "    person = Person('王大锤', 12)\n",
    "    person.play()\n",
    "    person.age = 22 #因为设置了setter方法 所以可以对已被调用的属性进行更改，下面那个报错就是因为name属性没有使用setter方法\n",
    "    person.play()\n",
    "    # person.name = '白元芳'  # AttributeError: can't set attribute\n",
    "    del person.name_age\n",
    "    print(person.age)\n",
    "    print(person.name)\n",
    "\n",
    "if __name__ == '__main__':\n",
    "    main()"
   ]
  },
  {
   "cell_type": "markdown",
   "metadata": {},
   "source": [
    "### \\_\\_slots\\_\\_魔法\n",
    "> 动态语言允许我们在程序运行时给对象绑定新的属性或方法，当然也可以对已经绑定的属性和方法进行解绑定。但是如果我们需要限定自定义类型的对象只能绑定某些属性，可以通过在类中定义\\_\\_slots\\_\\_变量来进行限定。需要注意的是\\_\\_slots\\_\\_的限定只对当前类的对象生效，对子类并不起任何作用。"
   ]
  },
  {
   "cell_type": "markdown",
   "metadata": {},
   "source": [
    "> slots 定义的元素，必须是字符串类型，否则运行阶段就会报错\n",
    "> 使用了slots的类的对象会失去名称空间，相当于继承类的对象也是无法增加新的成员变量的"
   ]
  },
  {
   "cell_type": "code",
   "execution_count": null,
   "metadata": {},
   "outputs": [
    {
     "ename": "",
     "evalue": "",
     "output_type": "error",
     "traceback": [
      "\u001b[1;31mFailed to start the Kernel. \n",
      "\u001b[1;31mFailed to start the Kernel 'base (Python 3.9.12)'. \n",
      "\u001b[1;31mView Jupyter <a href='command:jupyter.viewOutput'>log</a> for further details. Canceled future for execute_request message before replies were done"
     ]
    }
   ],
   "source": []
  },
  {
   "cell_type": "markdown",
   "metadata": {},
   "source": [
    "### 静态方法和类方法"
   ]
  },
  {
   "cell_type": "markdown",
   "metadata": {},
   "source": [
    "> 之前，我们在类中定义的方法都是对象方法，也就是说这些方法都是发送给对象的消息。实际上，我们写在类中的方法并不需要都是对象方法，例如我们定义一个“三角形”类，通过传入三条边长来构造三角形，并提供计算周长和面积的方法，但是传入的三条边长未必能构造出三角形对象，因此我们可以先写一个方法来验证三条边长是否可以构成三角形，这个方法很显然就不是对象方法，因为在调用这个方法时三角形对象尚未创建出来（因为都不知道三条边能不能构成三角形），所以这个方法是属于三角形类而并不属于三角形对象的。我们可以使用静态方法来解决这类问题，"
   ]
  },
  {
   "cell_type": "code",
   "execution_count": 23,
   "metadata": {},
   "outputs": [
    {
     "name": "stdout",
     "output_type": "stream",
     "text": [
      "12\n",
      "6.0\n"
     ]
    }
   ],
   "source": [
    "from math import sqrt\n",
    "\n",
    "\n",
    "class Triangle(object):\n",
    "\n",
    "    def __init__(self, a, b, c):\n",
    "        self._a = a\n",
    "        self._b = b\n",
    "        self._c = c\n",
    "\n",
    "    @staticmethod   # 静态方法 判断传入的对象是否是需要的对象\n",
    "    def is_valid(a, b, c):\n",
    "        return a + b > c and b + c > a and a + c > b\n",
    "\n",
    "    def perimeter(self):\n",
    "        return self._a + self._b + self._c\n",
    "\n",
    "    def area(self):\n",
    "        half = self.perimeter() / 2\n",
    "        return sqrt(half * (half - self._a) *\n",
    "                    (half - self._b) * (half - self._c))    # 海伦公式\n",
    "\n",
    "\n",
    "def main():\n",
    "    a, b, c = 3, 4, 5\n",
    "    # 静态方法和类方法都是通过给类发消息来调用的\n",
    "    if Triangle.is_valid(a, b, c):\n",
    "        t = Triangle(a, b, c)\n",
    "        print(t.perimeter())\n",
    "        # 也可以通过给类发消息来调用对象方法但是要传入接收消息的对象作为参数\n",
    "        # print(Triangle.perimeter(t))\n",
    "        print(t.area())\n",
    "        # print(Triangle.area(t))\n",
    "    else:\n",
    "        print('无法构成三角形.')\n",
    "\n",
    "\n",
    "if __name__ == '__main__':\n",
    "    main()"
   ]
  },
  {
   "cell_type": "markdown",
   "metadata": {},
   "source": [
    "> 和静态方法比较类似，Python还可以在类中定义类方法，类方法的第一个参数约定名为cls，它代表的是当前类相关的信息的对象（类本身也是一个对象，有的地方也称之为类的元数据对象），通过这个参数我们可以获取和类相关的信息并且可以创建出类的对象，"
   ]
  },
  {
   "cell_type": "markdown",
   "metadata": {},
   "source": [
    "#### time函数\n",
    "time的几种常见用法\n",
    "1、time.time( )：获取当前时间戳\n",
    "\n",
    "打印结果格式：1533793262.17\n",
    "\n",
    "2、time.ctime( )：当前时间的字符串形式\n",
    "\n",
    "打印结果格式：Thu Aug 09 13:41:02 2018\n",
    "\n",
    "3、time.localtime( )：当前时间的struct_time形式\n",
    "\n",
    "打印结果格式：time.struct_time(tm_year=2018, tm_mon=8, tm_mday=9, tm_hour=13, tm_min=41, tm_sec=2, tm_wday=3, tm_yday=221, tm_isdst=0)\n",
    "\n",
    " 4、time.strftime( )：用来获得当前时间，可以将时间格式化为字符串\n",
    "\n",
    "strftime括号中要指定打印出时间字符串的格式\n",
    "\n",
    "例如：\n",
    "\n",
    "time.strftime(\"%Y_%m_%d %H:%M:%S\")\n",
    "\n",
    "打印结果格式：2018_08_09 13:41:02\n",
    "\n",
    "注意：\n",
    "\n",
    "括号中的%Y_%m_%d %H:%M:%S需要依次对应，哪个字符对应年，月，日，星期要准确才能正常打印出\n",
    "\n",
    "列举几个常用的：\n",
    "\n",
    "%Y---带世纪部分的十进制年份，例如2018\n",
    "\n",
    "%m---十进制月份\n",
    "\n",
    "%d---十进制表示的每月第几天（日）\n",
    "\n",
    "%H---24小时制的小时\n",
    "\n",
    "%M----十进制表示的分钟数\n",
    "\n",
    "%S----十进制表示的秒数"
   ]
  },
  {
   "cell_type": "code",
   "execution_count": null,
   "metadata": {},
   "outputs": [],
   "source": [
    "from time import time, localtime, sleep\n",
    "\n",
    "\n",
    "class Clock(object):\n",
    "    \"\"\"数字时钟\"\"\"\n",
    "\n",
    "    def __init__(self, hour=0, minute=0, second=0):\n",
    "        self._hour = hour\n",
    "        self._minute = minute\n",
    "        self._second = second\n",
    "\n",
    "    @classmethod       # 类方法，在类中创建一个子类  \n",
    "    def now(cls):\n",
    "        ctime = localtime(time())       #返回当前的时间值\n",
    "        return cls(ctime.tm_hour, ctime.tm_min, ctime.tm_sec)\n",
    "\n",
    "    def run(self):\n",
    "        \"\"\"走字\"\"\"\n",
    "        self._second += 1\n",
    "        if self._second == 60:\n",
    "            self._second = 0\n",
    "            self._minute += 1\n",
    "            if self._minute == 60:\n",
    "                self._minute = 0\n",
    "                self._hour += 1\n",
    "                if self._hour == 24:\n",
    "                    self._hour = 0\n",
    "\n",
    "    def show(self):\n",
    "        \"\"\"显示时间\"\"\"\n",
    "        return '%02d:%02d:%02d' % \\\n",
    "               (self._hour, self._minute, self._second)\n",
    "\n",
    "\n",
    "def main():\n",
    "    # 通过类方法创建对象并获取系统时间\n",
    "    clock = Clock.now()\n",
    "    while True:\n",
    "        print(clock.show())\n",
    "        sleep(1)\n",
    "        clock.run()\n",
    "\n",
    "\n",
    "if __name__ == '__main__':\n",
    "    main()"
   ]
  },
  {
   "cell_type": "markdown",
   "metadata": {},
   "source": [
    "### 类之间的关系"
   ]
  },
  {
   "cell_type": "markdown",
   "metadata": {},
   "source": [
    "简单的说，类和类之间的关系有三种：is-a、has-a和use-a关系。\n",
    "\n",
    "- is-a关系也叫继承或泛化，比如学生和人的关系、手机和电子产品的关系都属于继承关系。\n",
    "- has-a关系通常称之为关联，比如部门和员工的关系，汽车和引擎的关系都属于关联关系；关联关系如果是整体和部分的关联，那么我们称之为聚合关系；如果整体进一步负责了部分的生命周期（整体和部分是不可分割的，同时同在也同时消亡），那么这种就是最强的关联关系，我们称之为合成关系。\n",
    "- use-a关系通常称之为依赖，比如司机有一个驾驶的行为（方法），其中（的参数）使用到了汽车，那么司机和汽车的关系就是依赖关系。"
   ]
  },
  {
   "cell_type": "markdown",
   "metadata": {},
   "source": [
    "### 继承"
   ]
  },
  {
   "cell_type": "markdown",
   "metadata": {},
   "source": [
    ">刚才我们提到了，可以在已有类的基础上创建新类，这其中的一种做法就是让一个类从另一个类那里将属性和方法直接继承下来，从而减少重复代码的编写。提供继承信息的我们称之为父类，也叫超类或基类；得到继承信息的我们称之为子类，也叫派生类或衍生类。子类除了继承父类提供的属性和方法，还可以定义自己特有的属性和方法，所以子类比父类拥有的更多的能力，在实际开发中，我们经常会用子类对象去替换掉一个父类对象，这是面向对象编程中一个常见的行为，对应的原则称之为[里氏替换原则](https://zh.wikipedia.org/wiki/%E9%87%8C%E6%B0%8F%E6%9B%BF%E6%8D%A2%E5%8E%9F%E5%88%99)"
   ]
  },
  {
   "cell_type": "code",
   "execution_count": 25,
   "metadata": {},
   "outputs": [
    {
     "name": "stdout",
     "output_type": "stream",
     "text": [
      "初三的王大锤正在学习数学.\n",
      "王大锤只能观看《熊出没》.\n",
      "骆昊砖家正在讲Python程序设计.\n",
      "骆昊正在观看爱情动作片.\n"
     ]
    }
   ],
   "source": [
    "class Person(object):\n",
    "    \"\"\"人\"\"\"\n",
    "\n",
    "    def __init__(self, name, age):\n",
    "        self._name = name\n",
    "        self._age = age\n",
    "\n",
    "    @property\n",
    "    def name(self):\n",
    "        return self._name\n",
    "\n",
    "    @property\n",
    "    def age(self):\n",
    "        return self._age\n",
    "\n",
    "    @age.setter\n",
    "    def age(self, age):\n",
    "        self._age = age\n",
    "\n",
    "    def play(self):\n",
    "        print('%s正在愉快的玩耍.' % self._name)\n",
    "\n",
    "    def watch_av(self):\n",
    "        if self._age >= 18:\n",
    "            print('%s正在观看爱情动作片.' % self._name)\n",
    "        else:\n",
    "            print('%s只能观看《熊出没》.' % self._name)\n",
    "\n",
    "\n",
    "class Student(Person):  #对Person这个父类进行了继承\n",
    "    \"\"\"学生\"\"\"\n",
    "\n",
    "    def __init__(self, name, age, grade):\n",
    "        #通常情况下，我们在子类中定义了和父类同名的方法，那么子类的方法就会覆盖父类的方法。\n",
    "        #而super关键字实现了对父类方法的改写(增加了功能，增加的功能写在子类中，父类方法中原来的功能得以保留)。\n",
    "        #也可以说，super关键字帮助我们实现了在子类中调用父类的方法\n",
    "        super().__init__(name, age) # 子类中如果定义了私有属性则需要使用super来继承父类的所有属性\n",
    "        self._grade = grade\n",
    "\n",
    "    @property\n",
    "    def grade(self):\n",
    "        return self._grade\n",
    "\n",
    "    @grade.setter\n",
    "    def grade(self, grade):\n",
    "        self._grade = grade\n",
    "\n",
    "    def study(self, course):\n",
    "        print('%s的%s正在学习%s.' % (self._grade, self._name, course))\n",
    "\n",
    "\n",
    "class Teacher(Person):\n",
    "    \"\"\"老师\"\"\"\n",
    "\n",
    "    def __init__(self, name, age, title):\n",
    "        super().__init__(name, age)\n",
    "        self._title = title\n",
    "\n",
    "    @property\n",
    "    def title(self):\n",
    "        return self._title\n",
    "\n",
    "    @title.setter\n",
    "    def title(self, title):\n",
    "        self._title = title\n",
    "\n",
    "    def teach(self, course):\n",
    "        print('%s%s正在讲%s.' % (self._name, self._title, course))\n",
    "\n",
    "\n",
    "def main():\n",
    "    stu = Student('王大锤', 15, '初三')\n",
    "    stu.study('数学')\n",
    "    stu.watch_av()\n",
    "    t = Teacher('骆昊', 38, '砖家')\n",
    "    t.teach('Python程序设计')\n",
    "    t.watch_av()\n",
    "\n",
    "\n",
    "if __name__ == '__main__':\n",
    "    main()"
   ]
  },
  {
   "cell_type": "markdown",
   "metadata": {},
   "source": [
    "### 多态"
   ]
  },
  {
   "cell_type": "markdown",
   "metadata": {},
   "source": [
    "> 子类在继承了父类的方法后，可以对父类已有的方法给出新的实现版本，这个动作称之为方法重写（override）。通过方法重写我们可以让父类的同一个行为在子类中拥有不同的实现版本，当我们调用这个经过子类重写的方法时，不同的子类对象会表现出不同的行为，这个就是多态（poly-morphism）"
   ]
  },
  {
   "cell_type": "code",
   "execution_count": 10,
   "metadata": {},
   "outputs": [
    {
     "name": "stdout",
     "output_type": "stream",
     "text": [
      "旺财: 汪汪汪...\n",
      "凯蒂: 喵...喵...\n",
      "大黄: 汪汪汪...\n"
     ]
    }
   ],
   "source": [
    "from abc import ABCMeta, abstractmethod\n",
    "\n",
    "\n",
    "class Pet(object, metaclass=ABCMeta):\n",
    "    \"\"\"宠物\"\"\"\n",
    "\n",
    "    def __init__(self, nickname):\n",
    "        self._nickname = nickname\n",
    "\n",
    "    @abstractmethod     # 抽象方法使得这个类就不能够实例化（创建对象），只能被继承    \n",
    "    def make_voice(self):\n",
    "        \"\"\"发出声音\"\"\"\n",
    "        pass\n",
    "\n",
    "\n",
    "class Dog(Pet):\n",
    "    \"\"\"狗\"\"\"\n",
    "    # 因为没有设置私有属性 所以不需要使用super方法\n",
    "    def make_voice(self):\n",
    "        print('%s: 汪汪汪...' % self._nickname)\n",
    "\n",
    "\n",
    "class Cat(Pet):\n",
    "    \"\"\"猫\"\"\"\n",
    "\n",
    "    def make_voice(self):\n",
    "        print('%s: 喵...喵...' % self._nickname)\n",
    "\n",
    "\n",
    "def main():\n",
    "    pets = [Dog('旺财'), Cat('凯蒂'), Dog('大黄')]\n",
    "    for pet in pets:\n",
    "        pet.make_voice()\n",
    "\n",
    "\n",
    "if __name__ == '__main__':\n",
    "    main()"
   ]
  },
  {
   "cell_type": "markdown",
   "metadata": {},
   "source": [
    "> 在上面的代码中，我们将 `Pet`类处理成了一个抽象类，所谓抽象类就是不能够创建对象的类，这种类的存在就是专门为了让其他类去继承它。Python从语法层面并没有像Java或C#那样提供对抽象类的支持，但是我们可以通过 `abc`模块的 `ABCMeta`元类和 `abstractmethod`包装器来达到抽象类的效果，如果一个类中存在抽象方法那么这个类就不能够实例化（创建对象）。上面的代码中，`Dog`和 `Cat`两个子类分别对 `Pet`类中的 `make_voice`抽象方法进行了重写并给出了不同的实现版本，当我们在 `main`函数中调用该方法时，这个方法就表现出了多态行为（同样的方法做了不同的事情）。"
   ]
  },
  {
   "cell_type": "markdown",
   "metadata": {},
   "source": [
    "### 综合案例"
   ]
  },
  {
   "cell_type": "markdown",
   "metadata": {},
   "source": [
    "#### 案例1：奥特曼打小怪兽。"
   ]
  },
  {
   "cell_type": "code",
   "execution_count": 12,
   "metadata": {},
   "outputs": [
    {
     "name": "stdout",
     "output_type": "stream",
     "text": [
      "========第01回合========\n",
      "迪迦使用了魔法攻击.\n",
      "游坦之反击了迪迦\n",
      "~~~迪迦奥特曼~~~\n",
      "生命值: 980\n",
      "魔法值: 100\n",
      "\n",
      "~~~慕容复小怪兽~~~\n",
      "生命值: 238\n",
      "~~~游坦之小怪兽~~~\n",
      "生命值: 486\n",
      "~~~丁春秋小怪兽~~~\n",
      "生命值: 736\n",
      "========第02回合========\n",
      "迪迦使用普通攻击打了游坦之.\n",
      "迪迦的魔法值恢复了8点.\n",
      "游坦之反击了迪迦\n",
      "~~~迪迦奥特曼~~~\n",
      "生命值: 966\n",
      "魔法值: 108\n",
      "\n",
      "~~~慕容复小怪兽~~~\n",
      "生命值: 238\n",
      "~~~游坦之小怪兽~~~\n",
      "生命值: 463\n",
      "~~~丁春秋小怪兽~~~\n",
      "生命值: 736\n",
      "========第03回合========\n",
      "慕容复使用了大招\n",
      "慕容复反击了迪迦\n",
      "~~~迪迦奥特曼~~~\n",
      "生命值: 954\n",
      "魔法值: 58\n",
      "\n",
      "~~~慕容复小怪兽~~~\n",
      "生命值: 60\n",
      "~~~游坦之小怪兽~~~\n",
      "生命值: 463\n",
      "~~~丁春秋小怪兽~~~\n",
      "生命值: 736\n",
      "========第04回合========\n",
      "迪迦使用普通攻击打了慕容复.\n",
      "迪迦的魔法值恢复了8点.\n",
      "慕容复反击了迪迦\n",
      "~~~迪迦奥特曼~~~\n",
      "生命值: 942\n",
      "魔法值: 66\n",
      "\n",
      "~~~慕容复小怪兽~~~\n",
      "生命值: 41\n",
      "~~~游坦之小怪兽~~~\n",
      "生命值: 463\n",
      "~~~丁春秋小怪兽~~~\n",
      "生命值: 736\n",
      "========第05回合========\n",
      "迪迦使用普通攻击打了丁春秋.\n",
      "迪迦的魔法值恢复了9点.\n",
      "丁春秋反击了迪迦\n",
      "~~~迪迦奥特曼~~~\n",
      "生命值: 924\n",
      "魔法值: 75\n",
      "\n",
      "~~~慕容复小怪兽~~~\n",
      "生命值: 41\n",
      "~~~游坦之小怪兽~~~\n",
      "生命值: 463\n",
      "~~~丁春秋小怪兽~~~\n",
      "生命值: 712\n",
      "========第06回合========\n",
      "迪迦使用普通攻击打了游坦之.\n",
      "迪迦的魔法值恢复了9点.\n",
      "游坦之反击了迪迦\n",
      "~~~迪迦奥特曼~~~\n",
      "生命值: 909\n",
      "魔法值: 84\n",
      "\n",
      "~~~慕容复小怪兽~~~\n",
      "生命值: 41\n",
      "~~~游坦之小怪兽~~~\n",
      "生命值: 446\n",
      "~~~丁春秋小怪兽~~~\n",
      "生命值: 712\n",
      "========第07回合========\n",
      "游坦之使用了大招\n",
      "游坦之反击了迪迦\n",
      "~~~迪迦奥特曼~~~\n",
      "生命值: 896\n",
      "魔法值: 34\n",
      "\n",
      "~~~慕容复小怪兽~~~\n",
      "生命值: 41\n",
      "~~~游坦之小怪兽~~~\n",
      "生命值: 112\n",
      "~~~丁春秋小怪兽~~~\n",
      "生命值: 712\n",
      "========第08回合========\n",
      "迪迦使用普通攻击打了慕容复.\n",
      "迪迦的魔法值恢复了2点.\n",
      "慕容复反击了迪迦\n",
      "~~~迪迦奥特曼~~~\n",
      "生命值: 880\n",
      "魔法值: 36\n",
      "\n",
      "~~~慕容复小怪兽~~~\n",
      "生命值: 21\n",
      "~~~游坦之小怪兽~~~\n",
      "生命值: 112\n",
      "~~~丁春秋小怪兽~~~\n",
      "生命值: 712\n",
      "========第09回合========\n",
      "迪迦使用普通攻击打了慕容复.\n",
      "迪迦的魔法值恢复了5点.\n",
      "~~~迪迦奥特曼~~~\n",
      "生命值: 880\n",
      "魔法值: 41\n",
      "\n",
      "~~~慕容复小怪兽~~~\n",
      "生命值: 0\n",
      "~~~游坦之小怪兽~~~\n",
      "生命值: 112\n",
      "~~~丁春秋小怪兽~~~\n",
      "生命值: 712\n",
      "========第10回合========\n",
      "迪迦使用了魔法攻击.\n",
      "丁春秋反击了迪迦\n",
      "~~~迪迦奥特曼~~~\n",
      "生命值: 864\n",
      "魔法值: 21\n",
      "\n",
      "~~~慕容复小怪兽~~~\n",
      "生命值: 0\n",
      "~~~游坦之小怪兽~~~\n",
      "生命值: 101\n",
      "~~~丁春秋小怪兽~~~\n",
      "生命值: 700\n",
      "========第11回合========\n",
      "迪迦使用普通攻击打了丁春秋.\n",
      "迪迦的魔法值恢复了8点.\n",
      "丁春秋反击了迪迦\n",
      "~~~迪迦奥特曼~~~\n",
      "生命值: 848\n",
      "魔法值: 29\n",
      "\n",
      "~~~慕容复小怪兽~~~\n",
      "生命值: 0\n",
      "~~~游坦之小怪兽~~~\n",
      "生命值: 101\n",
      "~~~丁春秋小怪兽~~~\n",
      "生命值: 684\n",
      "========第12回合========\n",
      "迪迦使用普通攻击打了游坦之.\n",
      "迪迦的魔法值恢复了7点.\n",
      "游坦之反击了迪迦\n",
      "~~~迪迦奥特曼~~~\n",
      "生命值: 835\n",
      "魔法值: 36\n",
      "\n",
      "~~~慕容复小怪兽~~~\n",
      "生命值: 0\n",
      "~~~游坦之小怪兽~~~\n",
      "生命值: 76\n",
      "~~~丁春秋小怪兽~~~\n",
      "生命值: 684\n",
      "========第13回合========\n",
      "迪迦使用普通攻击打了游坦之.\n",
      "迪迦的魔法值恢复了9点.\n",
      "游坦之反击了迪迦\n",
      "~~~迪迦奥特曼~~~\n",
      "生命值: 823\n",
      "魔法值: 45\n",
      "\n",
      "~~~慕容复小怪兽~~~\n",
      "生命值: 0\n",
      "~~~游坦之小怪兽~~~\n",
      "生命值: 60\n",
      "~~~丁春秋小怪兽~~~\n",
      "生命值: 684\n",
      "========第14回合========\n",
      "迪迦使用了魔法攻击.\n",
      "游坦之反击了迪迦\n",
      "~~~迪迦奥特曼~~~\n",
      "生命值: 809\n",
      "魔法值: 25\n",
      "\n",
      "~~~慕容复小怪兽~~~\n",
      "生命值: 0\n",
      "~~~游坦之小怪兽~~~\n",
      "生命值: 49\n",
      "~~~丁春秋小怪兽~~~\n",
      "生命值: 669\n",
      "========第15回合========\n",
      "迪迦使用普通攻击打了丁春秋.\n",
      "迪迦的魔法值恢复了9点.\n",
      "丁春秋反击了迪迦\n",
      "~~~迪迦奥特曼~~~\n",
      "生命值: 792\n",
      "魔法值: 34\n",
      "\n",
      "~~~慕容复小怪兽~~~\n",
      "生命值: 0\n",
      "~~~游坦之小怪兽~~~\n",
      "生命值: 49\n",
      "~~~丁春秋小怪兽~~~\n",
      "生命值: 653\n",
      "========第16回合========\n",
      "迪迦使用普通攻击打了游坦之.\n",
      "迪迦的魔法值恢复了3点.\n",
      "游坦之反击了迪迦\n",
      "~~~迪迦奥特曼~~~\n",
      "生命值: 776\n",
      "魔法值: 37\n",
      "\n",
      "~~~慕容复小怪兽~~~\n",
      "生命值: 0\n",
      "~~~游坦之小怪兽~~~\n",
      "生命值: 33\n",
      "~~~丁春秋小怪兽~~~\n",
      "生命值: 653\n",
      "========第17回合========\n",
      "迪迦使用普通攻击打了游坦之.\n",
      "迪迦的魔法值恢复了5点.\n",
      "游坦之反击了迪迦\n",
      "~~~迪迦奥特曼~~~\n",
      "生命值: 762\n",
      "魔法值: 42\n",
      "\n",
      "~~~慕容复小怪兽~~~\n",
      "生命值: 0\n",
      "~~~游坦之小怪兽~~~\n",
      "生命值: 16\n",
      "~~~丁春秋小怪兽~~~\n",
      "生命值: 653\n",
      "========第18回合========\n",
      "迪迦使用普通攻击打了游坦之.\n",
      "迪迦的魔法值恢复了6点.\n",
      "~~~迪迦奥特曼~~~\n",
      "生命值: 762\n",
      "魔法值: 48\n",
      "\n",
      "~~~慕容复小怪兽~~~\n",
      "生命值: 0\n",
      "~~~游坦之小怪兽~~~\n",
      "生命值: 0\n",
      "~~~丁春秋小怪兽~~~\n",
      "生命值: 653\n",
      "========第19回合========\n",
      "迪迦使用了魔法攻击.\n",
      "丁春秋反击了迪迦\n",
      "~~~迪迦奥特曼~~~\n",
      "生命值: 745\n",
      "魔法值: 28\n",
      "\n",
      "~~~慕容复小怪兽~~~\n",
      "生命值: 0\n",
      "~~~游坦之小怪兽~~~\n",
      "生命值: 0\n",
      "~~~丁春秋小怪兽~~~\n",
      "生命值: 639\n",
      "========第20回合========\n",
      "迪迦使用了魔法攻击.\n",
      "丁春秋反击了迪迦\n",
      "~~~迪迦奥特曼~~~\n",
      "生命值: 727\n",
      "魔法值: 8\n",
      "\n",
      "~~~慕容复小怪兽~~~\n",
      "生命值: 0\n",
      "~~~游坦之小怪兽~~~\n",
      "生命值: 0\n",
      "~~~丁春秋小怪兽~~~\n",
      "生命值: 627\n",
      "========第21回合========\n",
      "迪迦发动魔法攻击失败\n",
      "丁春秋反击了迪迦\n",
      "~~~迪迦奥特曼~~~\n",
      "生命值: 714\n",
      "魔法值: 8\n",
      "\n",
      "~~~慕容复小怪兽~~~\n",
      "生命值: 0\n",
      "~~~游坦之小怪兽~~~\n",
      "生命值: 0\n",
      "~~~丁春秋小怪兽~~~\n",
      "生命值: 627\n",
      "========第22回合========\n",
      "迪迦发动魔法攻击失败\n",
      "丁春秋反击了迪迦\n",
      "~~~迪迦奥特曼~~~\n",
      "生命值: 698\n",
      "魔法值: 8\n",
      "\n",
      "~~~慕容复小怪兽~~~\n",
      "生命值: 0\n",
      "~~~游坦之小怪兽~~~\n",
      "生命值: 0\n",
      "~~~丁春秋小怪兽~~~\n",
      "生命值: 627\n",
      "========第23回合========\n",
      "迪迦使用普通攻击打了丁春秋.\n",
      "迪迦的魔法值恢复了4点.\n",
      "丁春秋反击了迪迦\n",
      "~~~迪迦奥特曼~~~\n",
      "生命值: 688\n",
      "魔法值: 12\n",
      "\n",
      "~~~慕容复小怪兽~~~\n",
      "生命值: 0\n",
      "~~~游坦之小怪兽~~~\n",
      "生命值: 0\n",
      "~~~丁春秋小怪兽~~~\n",
      "生命值: 606\n",
      "========第24回合========\n",
      "迪迦发动魔法攻击失败\n",
      "丁春秋反击了迪迦\n",
      "~~~迪迦奥特曼~~~\n",
      "生命值: 669\n",
      "魔法值: 12\n",
      "\n",
      "~~~慕容复小怪兽~~~\n",
      "生命值: 0\n",
      "~~~游坦之小怪兽~~~\n",
      "生命值: 0\n",
      "~~~丁春秋小怪兽~~~\n",
      "生命值: 606\n",
      "========第25回合========\n",
      "迪迦发动魔法攻击失败\n",
      "丁春秋反击了迪迦\n",
      "~~~迪迦奥特曼~~~\n",
      "生命值: 650\n",
      "魔法值: 12\n",
      "\n",
      "~~~慕容复小怪兽~~~\n",
      "生命值: 0\n",
      "~~~游坦之小怪兽~~~\n",
      "生命值: 0\n",
      "~~~丁春秋小怪兽~~~\n",
      "生命值: 606\n",
      "========第26回合========\n",
      "迪迦使用普通攻击打了丁春秋.\n",
      "迪迦的魔法值恢复了2点.\n",
      "丁春秋反击了迪迦\n",
      "~~~迪迦奥特曼~~~\n",
      "生命值: 639\n",
      "魔法值: 14\n",
      "\n",
      "~~~慕容复小怪兽~~~\n",
      "生命值: 0\n",
      "~~~游坦之小怪兽~~~\n",
      "生命值: 0\n",
      "~~~丁春秋小怪兽~~~\n",
      "生命值: 586\n",
      "========第27回合========\n",
      "迪迦使用普通攻击打了丁春秋.\n",
      "迪迦的魔法值恢复了5点.\n",
      "丁春秋反击了迪迦\n",
      "~~~迪迦奥特曼~~~\n",
      "生命值: 627\n",
      "魔法值: 19\n",
      "\n",
      "~~~慕容复小怪兽~~~\n",
      "生命值: 0\n",
      "~~~游坦之小怪兽~~~\n",
      "生命值: 0\n",
      "~~~丁春秋小怪兽~~~\n",
      "生命值: 563\n",
      "========第28回合========\n",
      "迪迦使用普通攻击打了丁春秋.\n",
      "迪迦的魔法值恢复了7点.\n",
      "丁春秋反击了迪迦\n",
      "~~~迪迦奥特曼~~~\n",
      "生命值: 612\n",
      "魔法值: 26\n",
      "\n",
      "~~~慕容复小怪兽~~~\n",
      "生命值: 0\n",
      "~~~游坦之小怪兽~~~\n",
      "生命值: 0\n",
      "~~~丁春秋小怪兽~~~\n",
      "生命值: 544\n",
      "========第29回合========\n",
      "迪迦使用了魔法攻击.\n",
      "丁春秋反击了迪迦\n",
      "~~~迪迦奥特曼~~~\n",
      "生命值: 597\n",
      "魔法值: 6\n",
      "\n",
      "~~~慕容复小怪兽~~~\n",
      "生命值: 0\n",
      "~~~游坦之小怪兽~~~\n",
      "生命值: 0\n",
      "~~~丁春秋小怪兽~~~\n",
      "生命值: 529\n",
      "========第30回合========\n",
      "迪迦使用普通攻击打了丁春秋.\n",
      "迪迦的魔法值恢复了8点.\n",
      "丁春秋反击了迪迦\n",
      "~~~迪迦奥特曼~~~\n",
      "生命值: 577\n",
      "魔法值: 14\n",
      "\n",
      "~~~慕容复小怪兽~~~\n",
      "生命值: 0\n",
      "~~~游坦之小怪兽~~~\n",
      "生命值: 0\n",
      "~~~丁春秋小怪兽~~~\n",
      "生命值: 506\n",
      "========第31回合========\n",
      "迪迦使用普通攻击打了丁春秋.\n",
      "迪迦的魔法值恢复了7点.\n",
      "丁春秋反击了迪迦\n",
      "~~~迪迦奥特曼~~~\n",
      "生命值: 567\n",
      "魔法值: 21\n",
      "\n",
      "~~~慕容复小怪兽~~~\n",
      "生命值: 0\n",
      "~~~游坦之小怪兽~~~\n",
      "生命值: 0\n",
      "~~~丁春秋小怪兽~~~\n",
      "生命值: 490\n",
      "========第32回合========\n",
      "迪迦使用普通攻击打了丁春秋.\n",
      "迪迦的魔法值恢复了4点.\n",
      "丁春秋反击了迪迦\n",
      "~~~迪迦奥特曼~~~\n",
      "生命值: 550\n",
      "魔法值: 25\n",
      "\n",
      "~~~慕容复小怪兽~~~\n",
      "生命值: 0\n",
      "~~~游坦之小怪兽~~~\n",
      "生命值: 0\n",
      "~~~丁春秋小怪兽~~~\n",
      "生命值: 468\n",
      "========第33回合========\n",
      "迪迦使用普通攻击打了丁春秋.\n",
      "迪迦的魔法值恢复了2点.\n",
      "丁春秋反击了迪迦\n",
      "~~~迪迦奥特曼~~~\n",
      "生命值: 539\n",
      "魔法值: 27\n",
      "\n",
      "~~~慕容复小怪兽~~~\n",
      "生命值: 0\n",
      "~~~游坦之小怪兽~~~\n",
      "生命值: 0\n",
      "~~~丁春秋小怪兽~~~\n",
      "生命值: 450\n",
      "========第34回合========\n",
      "迪迦使用普通攻击打了丁春秋.\n",
      "迪迦的魔法值恢复了9点.\n",
      "丁春秋反击了迪迦\n",
      "~~~迪迦奥特曼~~~\n",
      "生命值: 524\n",
      "魔法值: 36\n",
      "\n",
      "~~~慕容复小怪兽~~~\n",
      "生命值: 0\n",
      "~~~游坦之小怪兽~~~\n",
      "生命值: 0\n",
      "~~~丁春秋小怪兽~~~\n",
      "生命值: 433\n",
      "========第35回合========\n",
      "迪迦使用普通攻击打了丁春秋.\n",
      "迪迦的魔法值恢复了1点.\n",
      "丁春秋反击了迪迦\n",
      "~~~迪迦奥特曼~~~\n",
      "生命值: 508\n",
      "魔法值: 37\n",
      "\n",
      "~~~慕容复小怪兽~~~\n",
      "生命值: 0\n",
      "~~~游坦之小怪兽~~~\n",
      "生命值: 0\n",
      "~~~丁春秋小怪兽~~~\n",
      "生命值: 411\n",
      "========第36回合========\n",
      "迪迦使用普通攻击打了丁春秋.\n",
      "迪迦的魔法值恢复了4点.\n",
      "丁春秋反击了迪迦\n",
      "~~~迪迦奥特曼~~~\n",
      "生命值: 498\n",
      "魔法值: 41\n",
      "\n",
      "~~~慕容复小怪兽~~~\n",
      "生命值: 0\n",
      "~~~游坦之小怪兽~~~\n",
      "生命值: 0\n",
      "~~~丁春秋小怪兽~~~\n",
      "生命值: 386\n",
      "========第37回合========\n",
      "迪迦使用普通攻击打了丁春秋.\n",
      "迪迦的魔法值恢复了2点.\n",
      "丁春秋反击了迪迦\n",
      "~~~迪迦奥特曼~~~\n",
      "生命值: 481\n",
      "魔法值: 43\n",
      "\n",
      "~~~慕容复小怪兽~~~\n",
      "生命值: 0\n",
      "~~~游坦之小怪兽~~~\n",
      "生命值: 0\n",
      "~~~丁春秋小怪兽~~~\n",
      "生命值: 369\n",
      "========第38回合========\n",
      "迪迦使用了魔法攻击.\n",
      "丁春秋反击了迪迦\n",
      "~~~迪迦奥特曼~~~\n",
      "生命值: 466\n",
      "魔法值: 23\n",
      "\n",
      "~~~慕容复小怪兽~~~\n",
      "生命值: 0\n",
      "~~~游坦之小怪兽~~~\n",
      "生命值: 0\n",
      "~~~丁春秋小怪兽~~~\n",
      "生命值: 358\n",
      "========第39回合========\n",
      "迪迦使用普通攻击打了丁春秋.\n",
      "迪迦的魔法值恢复了10点.\n",
      "丁春秋反击了迪迦\n",
      "~~~迪迦奥特曼~~~\n",
      "生命值: 450\n",
      "魔法值: 33\n",
      "\n",
      "~~~慕容复小怪兽~~~\n",
      "生命值: 0\n",
      "~~~游坦之小怪兽~~~\n",
      "生命值: 0\n",
      "~~~丁春秋小怪兽~~~\n",
      "生命值: 337\n",
      "========第40回合========\n",
      "迪迦使用普通攻击打了丁春秋.\n",
      "迪迦的魔法值恢复了3点.\n",
      "丁春秋反击了迪迦\n",
      "~~~迪迦奥特曼~~~\n",
      "生命值: 437\n",
      "魔法值: 36\n",
      "\n",
      "~~~慕容复小怪兽~~~\n",
      "生命值: 0\n",
      "~~~游坦之小怪兽~~~\n",
      "生命值: 0\n",
      "~~~丁春秋小怪兽~~~\n",
      "生命值: 312\n",
      "========第41回合========\n",
      "迪迦使用了普攻\n",
      "%s恢复了%d点的蓝 ('迪迦', 5)\n",
      "丁春秋反击了迪迦\n",
      "~~~迪迦奥特曼~~~\n",
      "生命值: 422\n",
      "魔法值: 41\n",
      "\n",
      "~~~慕容复小怪兽~~~\n",
      "生命值: 0\n",
      "~~~游坦之小怪兽~~~\n",
      "生命值: 0\n",
      "~~~丁春秋小怪兽~~~\n",
      "生命值: 294\n",
      "========第42回合========\n",
      "迪迦使用普通攻击打了丁春秋.\n",
      "迪迦的魔法值恢复了2点.\n",
      "丁春秋反击了迪迦\n",
      "~~~迪迦奥特曼~~~\n",
      "生命值: 409\n",
      "魔法值: 43\n",
      "\n",
      "~~~慕容复小怪兽~~~\n",
      "生命值: 0\n",
      "~~~游坦之小怪兽~~~\n",
      "生命值: 0\n",
      "~~~丁春秋小怪兽~~~\n",
      "生命值: 275\n",
      "========第43回合========\n",
      "迪迦使用普通攻击打了丁春秋.\n",
      "迪迦的魔法值恢复了8点.\n",
      "丁春秋反击了迪迦\n",
      "~~~迪迦奥特曼~~~\n",
      "生命值: 398\n",
      "魔法值: 51\n",
      "\n",
      "~~~慕容复小怪兽~~~\n",
      "生命值: 0\n",
      "~~~游坦之小怪兽~~~\n",
      "生命值: 0\n",
      "~~~丁春秋小怪兽~~~\n",
      "生命值: 253\n",
      "========第44回合========\n",
      "迪迦使用了魔法攻击.\n",
      "丁春秋反击了迪迦\n",
      "~~~迪迦奥特曼~~~\n",
      "生命值: 380\n",
      "魔法值: 31\n",
      "\n",
      "~~~慕容复小怪兽~~~\n",
      "生命值: 0\n",
      "~~~游坦之小怪兽~~~\n",
      "生命值: 0\n",
      "~~~丁春秋小怪兽~~~\n",
      "生命值: 240\n",
      "========第45回合========\n",
      "迪迦使用普通攻击打了丁春秋.\n",
      "迪迦的魔法值恢复了6点.\n",
      "丁春秋反击了迪迦\n",
      "~~~迪迦奥特曼~~~\n",
      "生命值: 366\n",
      "魔法值: 37\n",
      "\n",
      "~~~慕容复小怪兽~~~\n",
      "生命值: 0\n",
      "~~~游坦之小怪兽~~~\n",
      "生命值: 0\n",
      "~~~丁春秋小怪兽~~~\n",
      "生命值: 215\n",
      "========第46回合========\n",
      "迪迦使用普通攻击打了丁春秋.\n",
      "迪迦的魔法值恢复了6点.\n",
      "丁春秋反击了迪迦\n",
      "~~~迪迦奥特曼~~~\n",
      "生命值: 353\n",
      "魔法值: 43\n",
      "\n",
      "~~~慕容复小怪兽~~~\n",
      "生命值: 0\n",
      "~~~游坦之小怪兽~~~\n",
      "生命值: 0\n",
      "~~~丁春秋小怪兽~~~\n",
      "生命值: 190\n",
      "========第47回合========\n",
      "迪迦使用普通攻击打了丁春秋.\n",
      "迪迦的魔法值恢复了1点.\n",
      "丁春秋反击了迪迦\n",
      "~~~迪迦奥特曼~~~\n",
      "生命值: 343\n",
      "魔法值: 44\n",
      "\n",
      "~~~慕容复小怪兽~~~\n",
      "生命值: 0\n",
      "~~~游坦之小怪兽~~~\n",
      "生命值: 0\n",
      "~~~丁春秋小怪兽~~~\n",
      "生命值: 169\n",
      "========第48回合========\n",
      "迪迦使用了魔法攻击.\n",
      "丁春秋反击了迪迦\n",
      "~~~迪迦奥特曼~~~\n",
      "生命值: 330\n",
      "魔法值: 24\n",
      "\n",
      "~~~慕容复小怪兽~~~\n",
      "生命值: 0\n",
      "~~~游坦之小怪兽~~~\n",
      "生命值: 0\n",
      "~~~丁春秋小怪兽~~~\n",
      "生命值: 158\n",
      "========第49回合========\n",
      "迪迦使用普通攻击打了丁春秋.\n",
      "迪迦的魔法值恢复了6点.\n",
      "丁春秋反击了迪迦\n",
      "~~~迪迦奥特曼~~~\n",
      "生命值: 318\n",
      "魔法值: 30\n",
      "\n",
      "~~~慕容复小怪兽~~~\n",
      "生命值: 0\n",
      "~~~游坦之小怪兽~~~\n",
      "生命值: 0\n",
      "~~~丁春秋小怪兽~~~\n",
      "生命值: 136\n",
      "========第50回合========\n",
      "迪迦使用普通攻击打了丁春秋.\n",
      "迪迦的魔法值恢复了10点.\n",
      "丁春秋反击了迪迦\n",
      "~~~迪迦奥特曼~~~\n",
      "生命值: 298\n",
      "魔法值: 40\n",
      "\n",
      "~~~慕容复小怪兽~~~\n",
      "生命值: 0\n",
      "~~~游坦之小怪兽~~~\n",
      "生命值: 0\n",
      "~~~丁春秋小怪兽~~~\n",
      "生命值: 114\n",
      "========第51回合========\n",
      "迪迦使用普通攻击打了丁春秋.\n",
      "迪迦的魔法值恢复了8点.\n",
      "丁春秋反击了迪迦\n",
      "~~~迪迦奥特曼~~~\n",
      "生命值: 283\n",
      "魔法值: 48\n",
      "\n",
      "~~~慕容复小怪兽~~~\n",
      "生命值: 0\n",
      "~~~游坦之小怪兽~~~\n",
      "生命值: 0\n",
      "~~~丁春秋小怪兽~~~\n",
      "生命值: 93\n",
      "========第52回合========\n",
      "迪迦使用了普攻\n",
      "%s恢复了%d点的蓝 ('迪迦', 1)\n",
      "丁春秋反击了迪迦\n",
      "~~~迪迦奥特曼~~~\n",
      "生命值: 271\n",
      "魔法值: 49\n",
      "\n",
      "~~~慕容复小怪兽~~~\n",
      "生命值: 0\n",
      "~~~游坦之小怪兽~~~\n",
      "生命值: 0\n",
      "~~~丁春秋小怪兽~~~\n",
      "生命值: 74\n",
      "========第53回合========\n",
      "迪迦使用了魔法攻击.\n",
      "丁春秋反击了迪迦\n",
      "~~~迪迦奥特曼~~~\n",
      "生命值: 260\n",
      "魔法值: 29\n",
      "\n",
      "~~~慕容复小怪兽~~~\n",
      "生命值: 0\n",
      "~~~游坦之小怪兽~~~\n",
      "生命值: 0\n",
      "~~~丁春秋小怪兽~~~\n",
      "生命值: 59\n",
      "========第54回合========\n",
      "迪迦使用了魔法攻击.\n",
      "丁春秋反击了迪迦\n",
      "~~~迪迦奥特曼~~~\n",
      "生命值: 249\n",
      "魔法值: 9\n",
      "\n",
      "~~~慕容复小怪兽~~~\n",
      "生命值: 0\n",
      "~~~游坦之小怪兽~~~\n",
      "生命值: 0\n",
      "~~~丁春秋小怪兽~~~\n",
      "生命值: 48\n",
      "========第55回合========\n",
      "迪迦使用普通攻击打了丁春秋.\n",
      "迪迦的魔法值恢复了1点.\n",
      "丁春秋反击了迪迦\n",
      "~~~迪迦奥特曼~~~\n",
      "生命值: 232\n",
      "魔法值: 10\n",
      "\n",
      "~~~慕容复小怪兽~~~\n",
      "生命值: 0\n",
      "~~~游坦之小怪兽~~~\n",
      "生命值: 0\n",
      "~~~丁春秋小怪兽~~~\n",
      "生命值: 27\n",
      "========第56回合========\n",
      "迪迦发动魔法攻击失败\n",
      "丁春秋反击了迪迦\n",
      "~~~迪迦奥特曼~~~\n",
      "生命值: 221\n",
      "魔法值: 10\n",
      "\n",
      "~~~慕容复小怪兽~~~\n",
      "生命值: 0\n",
      "~~~游坦之小怪兽~~~\n",
      "生命值: 0\n",
      "~~~丁春秋小怪兽~~~\n",
      "生命值: 27\n",
      "========第57回合========\n",
      "迪迦使用了普攻\n",
      "%s恢复了%d点的蓝 ('迪迦', 8)\n",
      "丁春秋反击了迪迦\n",
      "~~~迪迦奥特曼~~~\n",
      "生命值: 202\n",
      "魔法值: 18\n",
      "\n",
      "~~~慕容复小怪兽~~~\n",
      "生命值: 0\n",
      "~~~游坦之小怪兽~~~\n",
      "生命值: 0\n",
      "~~~丁春秋小怪兽~~~\n",
      "生命值: 10\n",
      "========第58回合========\n",
      "迪迦使用普通攻击打了丁春秋.\n",
      "迪迦的魔法值恢复了4点.\n",
      "~~~迪迦奥特曼~~~\n",
      "生命值: 202\n",
      "魔法值: 22\n",
      "\n",
      "~~~慕容复小怪兽~~~\n",
      "生命值: 0\n",
      "~~~游坦之小怪兽~~~\n",
      "生命值: 0\n",
      "~~~丁春秋小怪兽~~~\n",
      "生命值: 0\n",
      "\n",
      "========战斗结束!========\n",
      "\n",
      "迪迦奥特曼赢了!\n"
     ]
    }
   ],
   "source": [
    "from abc import ABCMeta,abstractmethod #导入抽象方法 通过将方法变更为抽象方法使得这个类为抽象类\n",
    "from random import randint,randrange\n",
    "\n",
    "class Fighter(object,metaclass=ABCMeta):\n",
    "    '''定义一个战斗单元的类'''\n",
    "\n",
    "    # 通过使用__slots__方法限定可以绑定得属性\n",
    "    __slots__ = ('_name','_hp')\n",
    "\n",
    "    def __init__(self,name,hp) :\n",
    "        '''初始化方法\n",
    "        :params name:名字\n",
    "        :params hp:血量\n",
    "        '''\n",
    "        self._name = name\n",
    "        self._hp = hp \n",
    "\n",
    "    @property       #修饰器将方法转换为属性 避免函数在调用的时候被更改\n",
    "    def name(self):\n",
    "        return self._name\n",
    "\n",
    "    @property\n",
    "    def hp(self):\n",
    "        return self._hp\n",
    "\n",
    "    @hp.setter  #通过setter方法确定哪些属性的值可以被调用\n",
    "    def hp(self,hp):\n",
    "        self._hp = hp if hp >= 0 else 0\n",
    "\n",
    "    @property\n",
    "    def alive(self):\n",
    "        return self._hp>0\n",
    "\n",
    "    @abstractmethod #通过该方法把这个方法转换为抽象方法，进而使得整个类转化为抽象类\n",
    "    def attack(self,other):\n",
    "        '''攻击\n",
    "        :params other:被攻击的对象\n",
    "        '''\n",
    "        pass\n",
    "\n",
    "class Ultraman(Fighter):\n",
    "    '''定义一个奥特曼的类'''\n",
    "    __slots__ = ('_name','_hp','_mp')\n",
    "    '''初始化方法\n",
    "    :params name:名字\n",
    "    :params hp:血量\n",
    "    :params mp:蓝\n",
    "    '''\n",
    "    def __init__(self, name, hp, mp ):\n",
    "        super().__init__(name, hp)\n",
    "        self._mp = mp\n",
    "    \n",
    "    def attack(self, other):\n",
    "        other.hp -= randint(15,25)\n",
    "    \n",
    "    def huge_attack(self,other):\n",
    "        '''大招\n",
    "        :params :other 被攻击得对象\n",
    "        :return 使用成功返回True 蓝不够发动失败转为普攻 返回False\n",
    "        '''\n",
    "        if self._mp >= 50:\n",
    "            self._mp -= 50\n",
    "            injury = other.hp*3//4\n",
    "            injury = injury if injury >= 50 else 50\n",
    "            other.hp -= injury\n",
    "            return True\n",
    "        else:\n",
    "            self.attack(other)\n",
    "            return False\n",
    "    \n",
    "    def magic_attack(self,others):\n",
    "        '''魔法群攻 依次攻击传入的对象list的对象\n",
    "        :params other:被群攻的对象\n",
    "        '''\n",
    "        if self._mp >= 20:\n",
    "            self._mp -= 20\n",
    "            for temp in others:\n",
    "                if temp.alive:\n",
    "                    temp.hp -= randint(10,15)\n",
    "            return True\n",
    "        else:\n",
    "            return False\n",
    "\n",
    "    def resume(self):\n",
    "        '''回蓝'''\n",
    "        incr_point = randint(1,10)\n",
    "        self._mp += incr_point\n",
    "        return incr_point\n",
    "\n",
    "    def __str__(self) :\n",
    "        return '~~~%s奥特曼~~~\\n' % self._name + \\\n",
    "            '生命值: %d\\n' % self._hp + \\\n",
    "            '魔法值: %d\\n' % self._mp\n",
    "\n",
    "class Monster(Fighter):\n",
    "    '''定义一个小怪兽对象'''\n",
    "    __slots__ = ('_name','_hp')\n",
    "\n",
    "    def attack(self,other):\n",
    "        other.hp -= randint(10,20)\n",
    "    \n",
    "    def __str__(self)  :\n",
    "        return '~~~%s小怪兽~~~\\n' % self._name + \\\n",
    "            '生命值: %d\\n' % self._hp\n",
    "\n",
    "def is_any_alive(monsters):\n",
    "    '''判断是否还有小怪兽存活'''\n",
    "    for monster in monsters:\n",
    "        if monster.alive >0:\n",
    "            return True\n",
    "    return False\n",
    "\n",
    "def select_alive_one(monsters):\n",
    "    '''选一只活着的小怪兽'''\n",
    "    monsters_len = len(monsters)\n",
    "    while True:\n",
    "        index = randrange(monsters_len)\n",
    "        monster = monsters[index]\n",
    "        if monster.alive>0:\n",
    "            return monster\n",
    "\n",
    "def display_info(ultraman,monsters):\n",
    "    '''显示奥特曼和小怪兽的信息'''\n",
    "    print(ultraman)\n",
    "    for monster in monsters:\n",
    "        print(monster,end='')\n",
    "\n",
    "def main():\n",
    "    u = Ultraman('迪迦',1000,120)\n",
    "    m1 = Monster('慕容复',250)\n",
    "    m2 = Monster('游坦之',500)\n",
    "    m3 = Monster('丁春秋',750)\n",
    "    ms = [m1,m2,m3]\n",
    "    fight_round = 1\n",
    "    while u.alive and is_any_alive(ms):\n",
    "        print('========第%02d回合========' % fight_round)\n",
    "        m = select_alive_one(ms)    #选中一只小怪兽\n",
    "        skill = randint(1,10)       #通过随机数选择使用那种技能\n",
    "        if skill <= 6:              #60%的概率使用普通攻击\n",
    "            print('%s使用普通攻击打了%s.' % (u.name, m.name))\n",
    "            u.attack(m)\n",
    "            print('%s的魔法值恢复了%d点.' % (u.name, u.resume()))\n",
    "        elif skill <= 9:            #30%的概率使用魔法群攻\n",
    "            if u.magic_attack(ms):\n",
    "                print('%s使用了魔法攻击.' %u.name)\n",
    "            else:\n",
    "                print('%s发动魔法攻击失败' %u.name)\n",
    "        else:                       #10%的概率使用大招，蓝不够变为普攻\n",
    "            if u.huge_attack(m):\n",
    "                print('%s使用了大招' %m.name)\n",
    "            else:\n",
    "                print('%s使用了普攻' %u.name)\n",
    "                print('%s恢复了%d点的蓝',(u.name,u.resume()))\n",
    "        if m.alive>0:               #如果小怪兽没死，则反击\n",
    "            print('%s反击了%s'%(m.name,u.name))\n",
    "            m.attack(u)\n",
    "        display_info(u,ms)          #回合结束显示奥特曼和小怪兽的信息\n",
    "        fight_round +=1\n",
    "    print('\\n========战斗结束!========\\n')\n",
    "    if u.alive >0 :\n",
    "        print('%s奥特曼赢了!' %u.name)\n",
    "    else:\n",
    "        print('小怪兽赢了!')\n",
    "\n",
    "if __name__ == '__main__':\n",
    "    main()"
   ]
  },
  {
   "cell_type": "code",
   "execution_count": null,
   "metadata": {},
   "outputs": [
    {
     "ename": "",
     "evalue": "",
     "output_type": "error",
     "traceback": [
      "\u001b[1;31mThe kernel failed to start as 'filefind' could not be imported from 'd:\\Miniconda\\lib\\site-packages\\traitlets\\utils\\__init__.py'.\n",
      "\u001b[1;31mClick <a href='https://aka.ms/kernelFailuresModuleImportErrFromFile'>here</a> for more info."
     ]
    }
   ],
   "source": [
    "'''不知道bug出在了那 先放着吧 等啥时候学完了调试再来看看'''\n",
    "from abc import ABCMeta,abstractmethod #通过导入这个库实现定义抽象方法从而使得这个类是一个抽象类，只能被下面的两个子类继承和重写\n",
    "from random import randint,randrange\n",
    "\n",
    "\n",
    "class Finghter(object,metaclass = ABCMeta):\n",
    "    ''' 战斗人员'''\n",
    "\n",
    "    # 通过__slots__来限定可以绑定的属性\n",
    "    __slots__ = ('_name','_hp')\n",
    "    \n",
    "    def __init__(self,name,hp):\n",
    "        '''初始化方法\n",
    "        \n",
    "        :params name: 名字\n",
    "        :params ph: 血量\n",
    "        '''\n",
    "        self._name = name\n",
    "        self._hp = hp\n",
    "\n",
    "    @property       #使用@property装饰器，将方法修饰为属性，防止该属性值被更改\n",
    "    def name(self):\n",
    "        return self._name\n",
    "\n",
    "    @property\n",
    "    def hp(self):\n",
    "        return self._hp\n",
    "    \n",
    "    @hp.setter  #通过#property和setter方法可以规定那些属性可以被修改\n",
    "    def ph(self,hp):\n",
    "        self._hp = hp if hp>=0 else 0\n",
    "        \n",
    "    @property\n",
    "    def alive(self):\n",
    "        return self._hp > 0\n",
    "\n",
    "    @abstractmethod     #抽象方法，该方法的存在使得该类转化为抽象类不能被实例化只能被继承后重写\n",
    "    def attack(self,other):\n",
    "        '''攻击\n",
    "        :params other: 被攻击的对象\n",
    "        '''\n",
    "        pass\n",
    "\n",
    "class Ultraman(Finghter):\n",
    "    '''定义一个奥特曼的类'''\n",
    "    __slots__ = ('_name','_hp','_mp')   #限定可以绑定的属性\n",
    "\n",
    "    def __init__(self, name, hp, mp):\n",
    "        '''初始化方法\n",
    "        :params name:名字\n",
    "        :params hp:血\n",
    "        :params mp:蓝\n",
    "        '''\n",
    "        super().__init__(name, hp)      \n",
    "        self._mp = mp\n",
    "        \n",
    "    def attack(self, other):\n",
    "        '''普攻随机扣除15到25滴血'''\n",
    "        other.hp -= randint(15,25)\n",
    "\n",
    "    def huge_attack(self,other):\n",
    "        '''大招-扣最少五十滴or四分之三的血\n",
    "        :params other:被攻击的对象\n",
    "        :return 蓝够则发动成功返回True 发动失败变为普攻 返回False\n",
    "        '''\n",
    "        if self._mp >= 50:\n",
    "            self._mp -=50\n",
    "            injury = other.hp*3//4\n",
    "            injury = injury if injury >=50 else 50\n",
    "            other.hp -= injury\n",
    "            return True\n",
    "        else:\n",
    "            self.attack(other)\n",
    "            return False\n",
    "\n",
    "    def magic_attack(self,others):\n",
    "        '''魔法群攻 对一群小怪兽依次扣10-15滴血\n",
    "        :params others:被群攻的对象list\n",
    "        :return 蓝够则发动成功返回True 发动失败返回False\n",
    "        '''\n",
    "        if self._mp >= 20:\n",
    "            self._mp -= 20\n",
    "            for temp in others:\n",
    "                if temp.alive:\n",
    "                    temp.hp -= randint(10,15)\n",
    "            return True\n",
    "        else:\n",
    "            return False\n",
    "    def resume(self):\n",
    "        '''回蓝 一次恢复1-10滴血'''\n",
    "        incr_point = randint(1,10)\n",
    "        self.mp += incr_point\n",
    "        return incr_point\n",
    "\n",
    "    # def __str__(self):  #格式化输出，当直接打印对象的时候调用该方法\n",
    "    #     return (f'~~{self._name}奥特曼~~ \\n 血量:{self._hp}  \\n 蓝:{self._mp}' )\n",
    "    def __str__(self):  #格式化输出方法\n",
    "        return '~~~%s奥特曼~~~\\n' % self._name + \\\n",
    "            '生命值: %d\\n' % self._hp + \\\n",
    "            '魔法值: %d\\n' % self._mp\n",
    "    \n",
    "class Monster(Finghter):\n",
    "    '''定义一个小怪兽对象'''\n",
    "    __slots__ = ('_name','_hp')\n",
    "    # def __init__(self, name, hp):\n",
    "    #     '''初始化方法    \n",
    "    #     :params name:名字\n",
    "    #     :params hp:血\n",
    "    #     :params mp:蓝\n",
    "    #     '''\n",
    "    #     super().__init__(name, hp)  \n",
    "\n",
    "    def attack(self, other):\n",
    "        other.hp -= randint(10,20)\n",
    "\n",
    "    # def __str__(self):\n",
    "    #     return f'~~{self._name}小怪兽~~ \\n 血量:{self._hp}'\n",
    "    def __str__(self):\n",
    "        return '~~~%s小怪兽~~~\\n' % self._name + \\\n",
    "            '生命值: %d\\n' % self._hp\n",
    "            \n",
    "def is_any_alive(monsters):\n",
    "    '''判断小怪兽是否还活着'''\n",
    "    for monter in monsters:\n",
    "        if monter.alive >0:\n",
    "            return True\n",
    "    return False\n",
    "\n",
    "def select_alive_monster(monsters):\n",
    "    '''选一只活着的小怪兽'''\n",
    "    monsters_len = len(monsters)\n",
    "    while True:\n",
    "        index = randrange(monsters_len) #因为是list取左不取右，所以用randrange而不用randint\n",
    "        monster = monsters[index]\n",
    "        if monster.alive> 0:       \n",
    "            return monster\n",
    "\n",
    "def display_info(ultraman,monsters):\n",
    "    '''显示奥特曼和小怪兽的信息'''\n",
    "    print(ultraman)\n",
    "    for monster in monsters:\n",
    "        print(monster,end = '')\n",
    "\n",
    "def main():\n",
    "    u = Ultraman('迪迦',1000,120)\n",
    "    m1 = Monster('丁春秋',250)\n",
    "    m2 = Monster('慕容复',500)\n",
    "    m3 = Monster('游坦之',750)\n",
    "    ms=[m1,m2,m3]\n",
    "    fight_round = 1\n",
    "    while u.alive and is_any_alive(ms):\n",
    "        # print(f'========第{fight_round}回合========')\n",
    "        print('========第%02d回合========' % fight_round)\n",
    "        m = select_alive_monster(ms)    #选一只还活着的小怪兽，进行回合制游戏\n",
    "        skill = randint(1,10)           #通过随机数选择使用的技能\n",
    "        if skill <= 6:                  #60%的概率使用普攻\n",
    "            # print(f'{u.name}使用了普攻打了{m.name}')\n",
    "            # u.attack(m)\n",
    "            # print(f'{u.name}的蓝恢复了{u.resume()}点')\n",
    "            print('%s使用普通攻击打了%s.' % (u.name, m.name))\n",
    "            u.attack(m)\n",
    "            print('%s的魔法值恢复了%d点.' % (u.name, u.resume()))\n",
    "        elif skill <=9: #30%的概率发达群攻魔法 但是如果蓝不够会发动失败\n",
    "            if u.magic_attack(ms):\n",
    "                # print(f'{u.name}使用了群攻魔法')\n",
    "                print('%s使用了魔法攻击.' % u.name)\n",
    "            else:\n",
    "                # print(f'{u.name}的群攻魔法发动失败')\n",
    "                print('%s使用魔法失败.' % u.name)\n",
    "        else:       #10%的概率发动大招\n",
    "            if u.huge_attack(m):\n",
    "                # print(f'{u.name}使用了大招攻击了{m.name}')\n",
    "                print('%s使用究极必杀技虐了%s.' % (u.name, m.name))\n",
    "            else:\n",
    "                # print(f'{u.name}使用普攻打了{m.name}')\n",
    "                # print(f'{u.name}的蓝恢复了{u.resume()}点')\n",
    "                print('%s使用普通攻击打了%s.' % (u.name, m.name))\n",
    "                print('%s的魔法值恢复了%d点.' % (u.name, u.resume()))\n",
    "        if m.alive >0:  #如果该小怪兽没死则反击\n",
    "            # print(f'{m.name}反击了{u.name}')\n",
    "            print('%s回击了%s.' % (m.name, u.name))\n",
    "            m.attack(u)\n",
    "        display_info(u,ms)  #回合结束，显示对战双方的信息\n",
    "        fight_round +=1\n",
    "    print('\\n==========战斗结束==========')\n",
    "    if u.alive > 0:\n",
    "        # print(\n",
    "        # f'{u.name}奥特曼胜')\n",
    "        print('%s奥特曼胜利!' % u.name)\n",
    "    else:\n",
    "        print('小怪兽赢')\n",
    "\n",
    "if  __name__ == '__main__':\n",
    "    main()\n",
    " "
   ]
  },
  {
   "cell_type": "markdown",
   "metadata": {},
   "source": [
    "#### 案例2：扑克游戏。"
   ]
  },
  {
   "cell_type": "code",
   "execution_count": 6,
   "metadata": {},
   "outputs": [
    {
     "name": "stdout",
     "output_type": "stream",
     "text": [
      "东邪: [♠2, ♠10, ♠13, ♣2, ♣3, ♣10, ♣13, ♥6, ♥9, ♥13, ♦1, ♦6, ♦9]\n",
      "西毒: [♠5, ♠12, ♣7, ♣8, ♣12, ♥1, ♥3, ♥10, ♦2, ♦3, ♦7, ♦8, ♦10]\n",
      "南帝: [♠3, ♠4, ♠6, ♣5, ♣6, ♣11, ♥4, ♥5, ♥7, ♥8, ♦4, ♦11, ♦12]\n",
      "北丐: [♠1, ♠7, ♠8, ♠9, ♠11, ♣1, ♣4, ♣9, ♥2, ♥11, ♥12, ♦5, ♦13]\n"
     ]
    }
   ],
   "source": [
    "import random\n",
    "\n",
    "class Card(object):\n",
    "    '''定义一个牌的类'''\n",
    "    def __init__(self,suite,face):\n",
    "        '''初始化方法\n",
    "        :params suite:花色\n",
    "        :params face:大小\n",
    "        '''\n",
    "        self._suite = suite\n",
    "        self._face = face\n",
    "\n",
    "    @property\n",
    "    def suite(self):\n",
    "        return self._suite\n",
    "    \n",
    "    @property\n",
    "    def face(self):\n",
    "        return self._face\n",
    "\n",
    "    def __str__(self):\n",
    "        if self._face == 1:\n",
    "            face_str = 'A'\n",
    "        elif self._face == 11:\n",
    "            face_str = 'J'\n",
    "        elif self._face == 12:\n",
    "            face_str = 'Q'\n",
    "        elif self._face == 13:\n",
    "            face_str = 'K'\n",
    "        else:\n",
    "            face_str = str(self._face)\n",
    "        return f'{self._suite}{self._face}'\n",
    "    \n",
    "    def __repr__(self) : \n",
    "        # 当仅定义 __repr__ 的时候， __repr__ == __str__,但是仅定义 __str__ 的情况下，两者不相等  \n",
    "        # _str_用于为最终用户创建输出，而 _repr_ 主要用于调试和开发。 _repr_ 的目标是明确无误，_str_ 是可读的\n",
    "        # _repr_ 用于推断对象的\"官方\"字符串表示形式（包含有关对象的所有信息的表示, _str_ 用于推断对象的“非正式”字符串表示形式 \n",
    "        return self.__str__()\n",
    "\n",
    "class Pocker(object):\n",
    "    '''定义一副牌'''\n",
    "    # __init__(self)和 __init__(self,参数）区别\n",
    "    # 主要的区别在于：\n",
    "    # 前者定义类可以是一个空结构，当有输入进来的时候再添加相应的数据；\n",
    "    # 后者则必须传值，不予许为空值，\n",
    "    def __init__(self):\n",
    "        '''初始化方法\n",
    "        :params cards:包含花色和大小的一副牌\n",
    "        :params current:计数器 记录当前发了多少张牌\n",
    "        '''\n",
    "        self._cards = [Card(suite,face) \n",
    "        for suite in '♠♥♣♦' \n",
    "        for face in range(1,14)]   \n",
    "        self._current = 0\n",
    "\n",
    "    @property\n",
    "    def card(self):\n",
    "        return self._cards\n",
    "\n",
    "    def shuttle(self):\n",
    "        '''洗牌(随机排序)'''\n",
    "        self._current = 0\n",
    "        random.shuffle(self._cards)     # random.shuffle()随机排列list\n",
    "\n",
    "    @property\n",
    "    def next(self):\n",
    "        '''发牌'''\n",
    "        card = self._cards[self._current]\n",
    "        self._current +=1\n",
    "        return card\n",
    "\n",
    "    @property   #这个判断还有没有牌的方法就没有用上\n",
    "    def has_next(self):\n",
    "        '''还有没有牌'''\n",
    "        return self._current < len(self._cards)\n",
    "\n",
    "class Player(object):\n",
    "    '''定义一个玩家'''\n",
    "    def __init__(self,name):\n",
    "        '''初始化方法\n",
    "        :params :name 玩家姓名\n",
    "        :params :_cards_on_hand 手里的牌\n",
    "        '''\n",
    "        self._name = name\n",
    "        self._cards_on_hand = []\n",
    "\n",
    "    @property\n",
    "    def name(self):\n",
    "        return self._name\n",
    "    \n",
    "    @property\n",
    "    def cards_on_hand(self):\n",
    "        return self._cards_on_hand\n",
    "\n",
    "    def get(self,card):\n",
    "        '''摸牌'''\n",
    "        self._cards_on_hand.append(card)\n",
    "    def arrange(self,card_key):\n",
    "        '''整理手里的牌'''\n",
    "        self._cards_on_hand.sort(key=card_key)  #sort()传入两个参数 即先按第一个参数排序 如果第一个参数一致则比较第二个参数\n",
    "\n",
    "# 排序规则-先根据花色再根据点数排序\n",
    "def get_key(card):\n",
    "    return (card.suite,card.face)\n",
    "\n",
    "def main():\n",
    "    p = Pocker()    \n",
    "    p.shuttle()     #定义一副牌，并对之进行随机排序\n",
    "    players = [Player('东邪'),Player('西毒'),Player('南帝'),Player('北丐')]\n",
    "    for _ in range(13):     \n",
    "        for player in players:\n",
    "            player.get(p.next)\n",
    "    for player in players:\n",
    "        print(player.name + ':',end=' ')\n",
    "        player.arrange(get_key)\n",
    "        print(player.cards_on_hand)\n",
    "\n",
    "if __name__ == '__main__':\n",
    "    main() "
   ]
  },
  {
   "cell_type": "markdown",
   "metadata": {},
   "source": [
    "#### 案例3：工资结算系统。"
   ]
  },
  {
   "cell_type": "code",
   "execution_count": 13,
   "metadata": {},
   "outputs": [
    {
     "name": "stdout",
     "output_type": "stream",
     "text": [
      "如来的薪资是15000.0元\n",
      "观音的薪资是540000.0元\n",
      "玉帝的薪资是15000.0元\n",
      "太白的薪资是1425.0元\n",
      "八戒的薪资是1380.0元\n",
      "悟空的薪资是685200.0元\n",
      "六耳的薪资是1470000.0元\n"
     ]
    }
   ],
   "source": [
    "\"\"\"\n",
    "某公司有三种类型的员工 分别是部门经理、程序员和销售员\n",
    "需要设计一个工资结算系统 根据提供的员工信息来计算月薪\n",
    "部门经理的月薪是每月固定15000元\n",
    "程序员的月薪按本月工作时间计算 每小时150元\n",
    "销售员的月薪是1200元的底薪加上销售额5%的提成\n",
    "\"\"\"\n",
    "\n",
    "from abc import ABCMeta,abstractmethod\n",
    "\n",
    "class Employee(object,metaclass=ABCMeta):\n",
    "    '''定义一个抽象的雇员类'''\n",
    "    def __init__(self,name):\n",
    "        '''初始化方法\n",
    "        :params name:员工姓名\n",
    "        '''\n",
    "        self._name = name\n",
    "\n",
    "    @property\n",
    "    def name(self):\n",
    "        return self._name\n",
    "    \n",
    "    @abstractmethod\n",
    "    def get_salary(self):\n",
    "        '''得到得月薪\n",
    "        :return 月薪\n",
    "        '''\n",
    "        pass\n",
    "\n",
    "class Manager(Employee):\n",
    "    '''定义部门经理类'''\n",
    "    def get_salary(self):\n",
    "        return 15000.0\n",
    "\n",
    "class Programmer(Employee):\n",
    "    '''定义程序员类'''\n",
    "    def __init__(self, name, working_hour = 0):\n",
    "        super().__init__(name)\n",
    "        self._working_hour = working_hour\n",
    "\n",
    "    @property\n",
    "    def working_hour(self):\n",
    "        return self._working_hour\n",
    "\n",
    "    @working_hour.setter\n",
    "    def working_hour(self,working_hour):\n",
    "        self._working_hour = working_hour if working_hour > 0 else 0\n",
    "     \n",
    "    def get_salary(self):\n",
    "        return 150.0*self._working_hour\n",
    "\n",
    "class Salesman(Employee):\n",
    "    '''定义销售员类'''\n",
    "    def __init__(self, name, sales = 0):\n",
    "        super().__init__(name)\n",
    "        self._sales = sales\n",
    "\n",
    "    @property\n",
    "    def sales(self):\n",
    "        return self._sales\n",
    "\n",
    "    @sales.setter\n",
    "    def sales(self,sales):\n",
    "        self._sales = sales if sales > 0 else 0\n",
    "\n",
    "    def get_salary(self):\n",
    "        return 1200.0 + self._sales*0.05\n",
    "\n",
    "def main():\n",
    "    emps = [\n",
    "        Manager('如来'), Programmer('观音'),\n",
    "        Manager('玉帝'), Salesman('太白'),\n",
    "        Salesman('八戒'), Programmer('悟空'),\n",
    "        Programmer('六耳')\n",
    "    ]\n",
    "    for emp in emps:\n",
    "        # isinstance(object, type)\n",
    "        # object -- 实例对象。\n",
    "        # type -- 可以是直接或间接类名、基本类型或者由它们组成的元组。 \n",
    "        # 如果对象的类型与参数二的类型（type）相同则返回 True，否则返回 False。\n",
    "        if isinstance(emp,Programmer):\n",
    "            emp.working_hour = int(input(f'请输入{emp.name}的工作时间'))\n",
    "        elif isinstance(emp,Salesman):\n",
    "            emp.sales = float(input(f'请输入{emp.name}的销量'))\n",
    "        print(f'{emp.name}的薪资是{emp.get_salary()}元')\n",
    "\n",
    "if __name__ == '__main__':\n",
    "    main()"
   ]
  },
  {
   "cell_type": "markdown",
   "metadata": {},
   "source": [
    "# day 10 图形用户界面和游戏开发"
   ]
  },
  {
   "cell_type": "markdown",
   "metadata": {},
   "source": [
    "### 基于tkinter模块的GUI"
   ]
  },
  {
   "cell_type": "markdown",
   "metadata": {},
   "source": [
    "#### 基本上使用tkinter来开发GUI应用需要以下5个步骤：\n",
    "\n",
    "1. 导入tkinter模块中我们需要的东西。\n",
    "2. 创建一个顶层窗口对象并用它来承载整个GUI应用。\n",
    "3. 在顶层窗口对象上添加GUI组件。\n",
    "4. 通过代码将这些GUI组件的功能组织起来。\n",
    "5. 进入主事件循环(main loop)。"
   ]
  },
  {
   "cell_type": "markdown",
   "metadata": {},
   "source": [
    "> GUI应用通常是事件驱动式的，之所以要进入主事件循环就是要监听鼠标、键盘等各种事件的发生并执行对应的代码对事件进行处理，因为事件会持续的发生，所以需要这样的一个循环一直运行着等待下一个事件的发生。另一方面，Tk为控件的摆放提供了三种布局管理器，通过布局管理器可以对控件进行定位，这三种布局管理器分别是：Placer（开发者提供控件的大小和摆放位置）、Packer（自动将控件填充到合适的位置）和Grid（基于网格坐标来摆放控件）"
   ]
  },
  {
   "cell_type": "code",
   "execution_count": 2,
   "metadata": {},
   "outputs": [],
   "source": [
    "import tkinter,tkinter.messagebox,sys\n",
    "\n",
    "def  main():\n",
    "    flag = True\n",
    "    # 修改便签上的文字\n",
    "    def change_label_text():\n",
    "        nonlocal flag\n",
    "        flag = not flag\n",
    "        color,msg = ('yellow','hello everyone') if flag else ('red','goodbye')\n",
    "        label.config(text=msg,fg=color)\n",
    "\n",
    "    # 确认退出\n",
    "    def confirm_to_quit():\n",
    "        if tkinter.messagebox.askokcancel('温馨提示','确认要退出？'):\n",
    "            top.quit()\n",
    "            sys.exit\n",
    "\n",
    "    #创建顶层窗口\n",
    "    top = tkinter.Tk()\n",
    "    #设置窗口大小\n",
    "    top.geometry('360x180')\n",
    "    #设置窗口标题\n",
    "    top.title('小游戏')\n",
    "    #创建标签对象并添加到顶层窗口\n",
    "    label=tkinter.Label(top,text='hello world',font =' Arial -32',fg = 'red')\n",
    "    label.pack(expand=1)\n",
    "    #创建一个装按钮的容器\n",
    "    panel = tkinter.Frame(top)\n",
    "    # 创建按钮对象 指定添加到哪个容器中 通过command参数绑定回调函数\n",
    "    button1=tkinter.Button(panel,text='修改',command=change_label_text)\n",
    "    button1.pack(side='left')\n",
    "    button2=tkinter.Button(panel,text='退出',command=confirm_to_quit)\n",
    "    button2.pack(side='right')\n",
    "    panel.pack(side='bottom')\n",
    "    #开启主事件循环\n",
    "    tkinter.mainloop()\n",
    "\n",
    "if __name__ =='__main__':\n",
    "    main()\n"
   ]
  },
  {
   "cell_type": "markdown",
   "metadata": {},
   "source": [
    "### 使用Pygame进行游戏开发"
   ]
  },
  {
   "cell_type": "code",
   "execution_count": 7,
   "metadata": {},
   "outputs": [
    {
     "ename": "AttributeError",
     "evalue": "module 'pygame' has no attribute 'color'",
     "output_type": "error",
     "traceback": [
      "\u001b[1;31m---------------------------------------------------------------------------\u001b[0m",
      "\u001b[1;31mAttributeError\u001b[0m                            Traceback (most recent call last)",
      "\u001b[1;32m~\\AppData\\Local\\Temp\\ipykernel_8412\\1890756839.py\u001b[0m in \u001b[0;36m<module>\u001b[1;34m\u001b[0m\n\u001b[0;32m      1\u001b[0m \u001b[1;32mimport\u001b[0m \u001b[0msys\u001b[0m\u001b[1;33m\u001b[0m\u001b[1;33m\u001b[0m\u001b[0m\n\u001b[1;32m----> 2\u001b[1;33m \u001b[1;32mimport\u001b[0m \u001b[0mpygame\u001b[0m\u001b[1;33m\u001b[0m\u001b[1;33m\u001b[0m\u001b[0m\n\u001b[0m\u001b[0;32m      3\u001b[0m \u001b[1;32mdef\u001b[0m \u001b[0mmain\u001b[0m\u001b[1;33m(\u001b[0m\u001b[1;33m)\u001b[0m\u001b[1;33m:\u001b[0m\u001b[1;33m\u001b[0m\u001b[1;33m\u001b[0m\u001b[0m\n\u001b[0;32m      4\u001b[0m     \u001b[1;31m#初始化导入的pygame模块\u001b[0m\u001b[1;33m\u001b[0m\u001b[1;33m\u001b[0m\u001b[1;33m\u001b[0m\u001b[0m\n\u001b[0;32m      5\u001b[0m     \u001b[0mpygame\u001b[0m\u001b[1;33m.\u001b[0m\u001b[0minit\u001b[0m\u001b[1;33m(\u001b[0m\u001b[1;33m)\u001b[0m\u001b[1;33m\u001b[0m\u001b[1;33m\u001b[0m\u001b[0m\n",
      "\u001b[1;32md:\\Miniconda\\lib\\site-packages\\pygame\\__init__.py\u001b[0m in \u001b[0;36m<module>\u001b[1;34m\u001b[0m\n\u001b[0;32m     89\u001b[0m \u001b[1;32mimport\u001b[0m \u001b[0mpygame\u001b[0m\u001b[1;33m.\u001b[0m\u001b[0mcolor\u001b[0m\u001b[1;33m\u001b[0m\u001b[1;33m\u001b[0m\u001b[0m\n\u001b[0;32m     90\u001b[0m \u001b[1;33m\u001b[0m\u001b[0m\n\u001b[1;32m---> 91\u001b[1;33m \u001b[0mColor\u001b[0m \u001b[1;33m=\u001b[0m \u001b[0mpygame\u001b[0m\u001b[1;33m.\u001b[0m\u001b[0mcolor\u001b[0m\u001b[1;33m.\u001b[0m\u001b[0mColor\u001b[0m\u001b[1;33m\u001b[0m\u001b[1;33m\u001b[0m\u001b[0m\n\u001b[0m\u001b[0;32m     92\u001b[0m \u001b[1;32mimport\u001b[0m \u001b[0mpygame\u001b[0m\u001b[1;33m.\u001b[0m\u001b[0mbufferproxy\u001b[0m\u001b[1;33m\u001b[0m\u001b[1;33m\u001b[0m\u001b[0m\n\u001b[0;32m     93\u001b[0m \u001b[1;33m\u001b[0m\u001b[0m\n",
      "\u001b[1;31mAttributeError\u001b[0m: module 'pygame' has no attribute 'color'"
     ]
    }
   ],
   "source": [
    "import sys\n",
    "import pygame \n",
    "def main():\n",
    "    #初始化导入的pygame模块\n",
    "    pygame.init()\n",
    "    #初始化用于显示的窗口并设置窗口的大小\n",
    "    screen =pygame.display.set_mode((800,600))\n",
    "    #设置当前窗口的标题\n",
    "    pygame.display.set_caption('大球吃小球')\n",
    "    running = True\n",
    "    #开启一个事件循环处理发生的事情\n",
    "    while running:\n",
    "        #从消息队列中获取处理发生的事件\n",
    "        for event in pygame.event.get():\n",
    "            if event.type == pygame.QUIT:\n",
    "                running = False\n",
    "                sys.exit\n",
    "\n",
    "if __name__ == \"__main__\":\n",
    "    main()"
   ]
  },
  {
   "cell_type": "markdown",
   "metadata": {},
   "source": [
    "#### 在窗口中绘图"
   ]
  },
  {
   "cell_type": "code",
   "execution_count": 1,
   "metadata": {},
   "outputs": [
    {
     "name": "stdout",
     "output_type": "stream",
     "text": [
      "pygame 2.1.2 (SDL 2.0.18, Python 3.7.13)\n",
      "Hello from the pygame community. https://www.pygame.org/contribute.html\n"
     ]
    },
    {
     "ename": "SystemExit",
     "evalue": "",
     "output_type": "error",
     "traceback": [
      "An exception has occurred, use %tb to see the full traceback.\n",
      "\u001b[1;31mSystemExit\u001b[0m\n"
     ]
    },
    {
     "name": "stderr",
     "output_type": "stream",
     "text": [
      "C:\\Users\\Fing-trying\\AppData\\Roaming\\Python\\Python37\\site-packages\\IPython\\core\\interactiveshell.py:3561: UserWarning: To exit: use 'exit', 'quit', or Ctrl-D.\n",
      "  warn(\"To exit: use 'exit', 'quit', or Ctrl-D.\", stacklevel=1)\n"
     ]
    }
   ],
   "source": [
    "import sys\n",
    "import pygame\n",
    "\n",
    "def main():\n",
    "    # 初始化导入的pygame模块\n",
    "    pygame.init()\n",
    "    #初始化用于显示的窗口并显示大小\n",
    "    screen = pygame.display.set_mode((1000,800))\n",
    "    #设置窗口的标题\n",
    "    pygame.display.set_caption('大球吃小球')\n",
    "    #设置窗口的背景颜色\n",
    "    screen.fill((204,232,207))\n",
    "    #绘制一个圆(参数分别是：屏幕，颜色，圆心位置，半径，0表示填充圆)\n",
    "    #屏幕坐标系是将屏幕左上角设置为坐标原点 `(0, 0)`，向右是x轴的正向，向下是y轴的正向，\n",
    "    pygame.draw.circle(screen,(255,0,0),(100,100),30,0)\n",
    "    #刷新当前的窗口(渲染窗口将绘制的图像呈现出来)\n",
    "    # pygame.display.flip() 更新整个待显示的Surface对象到屏幕上\n",
    "    # pygame.display.update() 更新部分内容显示到屏幕上，如果没有参数，则与flip功能相同(上一条)\n",
    "    pygame.display.flip()\n",
    "    running = True\n",
    "    #开启一个事件循环处理发生的事件\n",
    "    while running:\n",
    "        #从消息队列中获取事件并对事件进行处理\n",
    "        for event in pygame.event.get():\n",
    "            if event.type == pygame.QUIT:\n",
    "                running = False\n",
    "                sys.exit()\n",
    "if __name__ == '__main__':\n",
    "    main()"
   ]
  },
  {
   "cell_type": "markdown",
   "metadata": {},
   "source": [
    "#### 加载图像"
   ]
  },
  {
   "cell_type": "code",
   "execution_count": 2,
   "metadata": {},
   "outputs": [],
   "source": [
    "import sys,pygame\n",
    "\n",
    "def main():\n",
    "    pygame.init()\n",
    "    screen = pygame.display.set_mode((600,800))\n",
    "    pygame.display.set_caption('大球吃小球')\n",
    "    screen.fill((204,232,207))\n",
    "    # 通过指定的文件名加载图像\n",
    "    ball_image = pygame.image.load(r'..\\..\\05.Book information\\01.Python-100-Days-master\\Day01-15\\res\\ball.png')\n",
    "    # 在窗口上渲染出图像\n",
    "    screen.blit(ball_image,(50,50))\n",
    "    # 刷新窗口显示图像\n",
    "    pygame.display.flip()\n",
    "    running = True\n",
    "    while running:\n",
    "        for event in pygame.event.get():\n",
    "            if event.type == pygame.QUIT:\n",
    "                running = False\n",
    "                sys.exit\n",
    "\n",
    "if __name__ == '__main__':\n",
    "    main()"
   ]
  },
  {
   "cell_type": "markdown",
   "metadata": {},
   "source": [
    "#### 实现动画效果"
   ]
  },
  {
   "cell_type": "code",
   "execution_count": 2,
   "metadata": {},
   "outputs": [],
   "source": [
    "import pygame\n",
    "\n",
    "def main():\n",
    "    pygame.init()\n",
    "    screen = pygame.display.set_mode((600,800))\n",
    "    pygame.display.set_caption('大球吃小球')\n",
    "    # 定义变量来表示小球在屏幕上的初始位置\n",
    "    x,y=50,50\n",
    "    running = True\n",
    "    while running:\n",
    "        for event in pygame.event.get():\n",
    "            running = False\n",
    "            sys.exit\n",
    "        screen.fill((203,232,207))\n",
    "        pygame.draw.circle(screen,(0,255,0),(x,y),30,0)\n",
    "        pygame.display.flip()\n",
    "        # 每隔50ms刷新小球的位置\n",
    "        pygame.time.delay(50)\n",
    "        x,y = x+50,y+50\n",
    "        \n",
    "if __name__ == \"__main__\":\n",
    "    main()"
   ]
  },
  {
   "cell_type": "markdown",
   "metadata": {},
   "source": [
    "#### 碰撞检测\n",
    "> 碰撞检测在绝大多数的游戏中都是一个必须得处理的至关重要的问题，pygame的sprite（动画精灵）模块就提供了对碰撞检测的支持"
   ]
  },
  {
   "cell_type": "code",
   "execution_count": 4,
   "metadata": {},
   "outputs": [],
   "source": [
    "from enum import Enum,unique\n",
    "from math import sqrt\n",
    "from random import randint\n",
    "import pygame\n",
    "\n",
    "@unique\n",
    "class Color(Enum):\n",
    "    '''颜色'''\n",
    "    RED = (255,0,0)\n",
    "    GREEN = (0,255,0)\n",
    "    BLUE = (0,0,255)\n",
    "    BLACK = (0,0,0)\n",
    "    WHITE = (255,255,255)\n",
    "    GRAY = (242,242,242)\n",
    "\n",
    "    @staticmethod\n",
    "    def random_color():\n",
    "        '''获取随机颜色'''\n",
    "        r = randint(0,255)\n",
    "        g = randint(0,255)\n",
    "        b = randint(0,255)\n",
    "        return (r,g,b)\n",
    "\n",
    "class Ball(object):\n",
    "    '''球'''\n",
    "    def __init__(self,x,y,radius,sx,sy,color=Color.RED):\n",
    "        '''初始化方法\n",
    "        : params x,y 小球的初始圆心坐标\n",
    "        : params radius 小球的半径\n",
    "        : parmas sx,sy 小球的位移值\n",
    "        : params color 小球的颜色\n",
    "        : params alive小球是否被吃的判断值\n",
    "        '''\n",
    "        self.x = x\n",
    "        self,y = y\n",
    "        self.radius = radius\n",
    "        self.sx = sx\n",
    "        self.sy = sy\n",
    "        self.color = color\n",
    "        self.alive = True\n",
    "        \n",
    "    def move(self,screen):\n",
    "        '''小球的位移函数'''\n",
    "        self.x += self.sx\n",
    "        self.y += self.sy\n",
    "        if self.x - self.radius <=0 or self.x+self.radius >= screen.get_width():\n",
    "            self.sx = -self.sx\n",
    "        if self.y - self.radius <=0 or self.y+self.radius >= screen.get_height():\n",
    "            self.sy = -self.sy  \n",
    "\n",
    "    def eat(self,other):\n",
    "        '''吃掉其他球'''\n",
    "        if self.alive and other.alive and self != other:\n",
    "            dx,dy = self.x-other,x ,self.y-other.y\n",
    "            distance = sqrt(dx**2+dy**2)\n",
    "            if distance < self.radius + other.radius and self.radius > other.radius:\n",
    "                other.alive = False\n",
    "                self.radius = self.radius + int(other.radius*0.146)\n",
    "\n",
    "        def draw(self,screen):\n",
    "            '''在窗口上绘制小球'''\n",
    "            pygame.draw.circle(screen,self.color,(self.x,self.y),self.radius,0)"
   ]
  },
  {
   "cell_type": "markdown",
   "metadata": {},
   "source": [
    "##### enum函数"
   ]
  },
  {
   "cell_type": "code",
   "execution_count": 5,
   "metadata": {},
   "outputs": [
    {
     "name": "stdout",
     "output_type": "stream",
     "text": [
      "Jan => Month.Jan , 1\n",
      "Feb => Month.Feb , 2\n",
      "Mar => Month.Mar , 3\n",
      "Apr => Month.Apr , 4\n",
      "May => Month.May , 5\n",
      "Jun => Month.Jun , 6\n",
      "Jul => Month.Jul , 7\n",
      "Aug => Month.Aug , 8\n",
      "Sep => Month.Sep , 9\n",
      "Oct => Month.Oct , 10\n",
      "Nov => Month.Nov , 11\n",
      "Dec => Month.Dec , 12\n"
     ]
    }
   ],
   "source": [
    "from enum import Enum   #enum枚举函数获取序列的index和value\n",
    "\n",
    "Month = Enum('Month', ('Jan', 'Feb', 'Mar', 'Apr', 'May', 'Jun', 'Jul', 'Aug', 'Sep', 'Oct', 'Nov', 'Dec'))\n",
    "for name, member in Month.__members__.items():\n",
    "    print(name, '=>', member, ',', member.value)"
   ]
  },
  {
   "cell_type": "code",
   "execution_count": 9,
   "metadata": {},
   "outputs": [
    {
     "name": "stdout",
     "output_type": "stream",
     "text": [
      "Weekday.monday\n",
      "Weekday.wensdday\n",
      "Weekday.thursday\n",
      "Weekday.friday\n"
     ]
    }
   ],
   "source": [
    "#当Class中有重复值时，会返回第一个，其他忽略\n",
    "from enum import Enum\n",
    "\n",
    "class Weekday(Enum):\n",
    "    monday = 1\n",
    "    tuesday = 1\n",
    "    wensdday =3\n",
    "    thursday =9\n",
    "    friday =5\n",
    "#print (Weekday(1))\n",
    "\n",
    "for n in Weekday:\n",
    "    print (n)   # 只会打印四个值 monday的值和Tuesday的值一样 因为枚举函数的存在 对于相同的值只会打印第一个"
   ]
  },
  {
   "cell_type": "code",
   "execution_count": 12,
   "metadata": {},
   "outputs": [
    {
     "name": "stdout",
     "output_type": "stream",
     "text": [
      "Weekday.monday\n"
     ]
    }
   ],
   "source": [
    "# 手动打Enum值时，一不小心打错了怎么办，又得一个个找，真麻烦。\n",
    "# 所以，有人想，如果有个方法能够检查重复值就好了，于是：@unique就出来了\n",
    "from enum import Enum, unique\n",
    "@unique\n",
    "class Weekday(Enum):\n",
    "    monday = 1\n",
    "    #tuesday = 1 #ValueError: duplicate values found in <enum 'Weekday'>: tuesday -> monday\n",
    "    wensdday =3\n",
    "    thursday =9\n",
    "    friday =5\n",
    "print (Weekday(1))"
   ]
  },
  {
   "cell_type": "code",
   "execution_count": 13,
   "metadata": {},
   "outputs": [
    {
     "name": "stdout",
     "output_type": "stream",
     "text": [
      "monday -- Weekday.monday -- 1\n",
      "tuesday -- Weekday.monday -- 1\n",
      "wensdday -- Weekday.wensdday -- 3\n",
      "thursday -- Weekday.thursday -- 9\n",
      "friday -- Weekday.friday -- 5\n",
      "9\n"
     ]
    }
   ],
   "source": [
    "# 有人也在想，我就是不改咋地！我能不能通过另一个方法把成员都打印出来？于是：__members__就出来了\n",
    "from enum import Enum\n",
    "\n",
    "class Weekday(Enum):\n",
    "    monday = 1\n",
    "    tuesday = 1\n",
    "    wensdday = 3\n",
    "    thursday = 9\n",
    "    friday = 5\n",
    "\n",
    "for n,y in Weekday.__members__.items():\n",
    "    print (n, '--', y, '--',  y.value)\n",
    "    \n",
    "f = Weekday.thursday\n",
    "print (f.value)\n",
    "\n",
    "# 枚举比较：不能比大小！！能比同值"
   ]
  },
  {
   "cell_type": "markdown",
   "metadata": {},
   "source": [
    "##### 以上关于枚举的信息来自于[python Class：面向对象高级编程 Enum(枚举)、@unique](https://blog.51cto.com/u_13502993/2147820)"
   ]
  },
  {
   "cell_type": "markdown",
   "metadata": {},
   "source": [
    "##### 静态方法和类方法\n",
    "> 静态方法就是某个类专用的工具函数。\n",
    "\n",
    "> 当你想使用工厂模式，根据不同的参数生成同一个类的不同对象的时候，就可以使用类方法。\n"
   ]
  },
  {
   "cell_type": "code",
   "execution_count": 14,
   "metadata": {},
   "outputs": [
    {
     "name": "stdout",
     "output_type": "stream",
     "text": [
      "大家好，我叫: kingname\n",
      "10年以后，我30岁\n"
     ]
    }
   ],
   "source": [
    "#静态方法\n",
    "class People:\n",
    "    def __init__(self, name, age):\n",
    "        self.name = name\n",
    "        self.age = age\n",
    "\n",
    "    def introduce_myself(self):\n",
    "        print(f'大家好，我叫: {self.name}')\n",
    "\n",
    "    @staticmethod\n",
    "    def add_two_string_num(a, b):\n",
    "        a_int = int(a)\n",
    "        b_int = int(b)\n",
    "        return a_int + b_int\n",
    "\n",
    "    def calc_age_after_n_year(self, n):\n",
    "        age = People.add_two_string_num(self.age, n)\n",
    "        print(f'{n}年以后，我{age}岁')\n",
    "\n",
    "\n",
    "kingname = People('kingname', 20)\n",
    "kingname.introduce_myself()\n",
    "kingname.calc_age_after_n_year(10)"
   ]
  },
  {
   "cell_type": "markdown",
   "metadata": {},
   "source": [
    "> add_two_string_num函数就是一个工具函数。工具函数接收参数，输出结果，完全不关心谁在调用他，也不关心在哪里调用他。但现在有一个比较尴尬的事情，这个函数，只有 People在调用，其它地方都没有调用。单独把它放到其它地方又显得多余，弄成实例方法又浪费了self参数，这个时候，我们就可以用静态方法："
   ]
  },
  {
   "cell_type": "markdown",
   "metadata": {},
   "source": [
    "#### 类方法"
   ]
  },
  {
   "cell_type": "markdown",
   "metadata": {},
   "source": [
    "cls和self的区别：\n",
    "\n",
    "> self：类的方法的第一个参数，表示一个具体的实例本身。如果类的方法用了修饰符“staticmethod”，则可以无视这个self，这个方法就当成一个普通的函数使用。\n",
    "\n",
    "> cls：若类方法用修饰符“classmethod”修饰，则cls作为类方法的第一个参数，表示这个类本身。"
   ]
  },
  {
   "cell_type": "markdown",
   "metadata": {},
   "source": [
    "虽然staticmethod与classmethod的使用方法和输出结果相同，但这两种方法还是有区别：\n",
    "\n",
    "> 区别一：classmethod修饰的类方法，第一个参数必须是cls，而staticmethod则既不需要self也不需要cls；\n",
    "\n",
    "> 区别二：classmethod中可以通过cls调用类的方法；而staticmethod则无法调用类的其他方法。但是二者都可以通过\"类名.属性名\"的方式访问类的属性。\n",
    "\n",
    "即，在classmethod中可以调用类中定义的其他方法、类的属性，但staticmethod只能通过A.a调用类的属性，但无法通过在该函数内部调用A.foo2()。"
   ]
  },
  {
   "cell_type": "markdown",
   "metadata": {},
   "source": [
    "\n",
    "```python\n",
    "class a:\n",
    "    a = 'a'\n",
    "    \n",
    "    @staticmethod\n",
    "    def foo1(name):\n",
    "        print(\"hello \", name)\n",
    "    \n",
    "    def foo2(self, name):\n",
    "        print(\"hello \", name)\n",
    "        print(A.a)\n",
    "        print(A.foo2(\"xx\"))    #报错：unbound method foo2() must be called with A instance as first argument (got str instance instead)\n",
    "    \n",
    "    @classmethod\n",
    "    def foo3(cls, name):\n",
    "        print(\"hello \", name)\n",
    "        print(A.a)\n",
    "        print(cls.foo2(\"xx\"))\n",
    "```"
   ]
  },
  {
   "cell_type": "code",
   "execution_count": 1,
   "metadata": {},
   "outputs": [
    {
     "name": "stdout",
     "output_type": "stream",
     "text": [
      "大家好，我叫: kinganme\n",
      "10年以后，我25岁\n"
     ]
    }
   ],
   "source": [
    "'''类方法'''\n",
    "import re\n",
    "\n",
    "\n",
    "class People:\n",
    "    def __init__(self, name, age):\n",
    "        self.name = name\n",
    "        self.age = age\n",
    "\n",
    "    def introduce_myself(self):\n",
    "        print(f'大家好，我叫: {self.name}')\n",
    "\n",
    "    @staticmethod\n",
    "    def add_two_string_num(a, b):\n",
    "        a_int = int(a)\n",
    "        b_int = int(b)\n",
    "        return a_int + b_int\n",
    "\n",
    "    @classmethod\n",
    "    def from_chinese_string(cls,content):\n",
    "        name = re.search('名字：(.*?),', content).group(1)\n",
    "        age = re.search('年龄：(\\d+)', content).group(1)\n",
    "        return cls(name, age)\n",
    "\n",
    "    @classmethod\n",
    "    def from_english_string(cls,content):\n",
    "        name = re.search('name: (.*?),', content).group(1)\n",
    "        age = re.search('age: (\\d+)', content).group(1)\n",
    "        return cls(name, age)\n",
    "\n",
    "\n",
    "    def calc_age_after_n_year(self, n):\n",
    "        age = People.add_two_string_num(self.age, n)\n",
    "        print(f'{n}年以后，我{age}岁')\n",
    "\n",
    "        \n",
    "content = 'my name: kinganme, my age: 15 please extract them'\n",
    "kingname = People.from_english_string(content)\n",
    "kingname.introduce_myself()\n",
    "kingname.calc_age_after_n_year(10)"
   ]
  },
  {
   "cell_type": "markdown",
   "metadata": {},
   "source": [
    "> 类方法使用装饰器@classmethod来装饰，并且它的第一个参数是隐式参数cls。这个参数其实就是People这个类本身。这个隐式参数在我们调用类方法的时候，是不需要传入的。在这个类方法里面，相当于使用People初始化了一个实例，然后把这个实例返回了出去。\n",
    "\n",
    "> 这样做有什么好处呢？好处就在于我们完全不需要修改__init__，那么，也就不需要修改代码里面其它调用了People类的地方。例如现在我又想增加从英文句子里面提取名字和年龄的功能，那么只需要再添加一个类方法就可以了："
   ]
  },
  {
   "cell_type": "markdown",
   "metadata": {},
   "source": [
    "##### 以上关于静态方法和类方法的信息来自于[Python 如何正确使用静态方法和类方法？](https://zhuanlan.zhihu.com/p/432237532)"
   ]
  },
  {
   "cell_type": "markdown",
   "metadata": {},
   "source": [
    "#### 事件处理"
   ]
  },
  {
   "cell_type": "code",
   "execution_count": 4,
   "metadata": {},
   "outputs": [
    {
     "name": "stdout",
     "output_type": "stream",
     "text": [
      "pygame 2.1.2 (SDL 2.0.18, Python 3.7.13)\n",
      "Hello from the pygame community. https://www.pygame.org/contribute.html\n"
     ]
    },
    {
     "ename": "KeyboardInterrupt",
     "evalue": "",
     "output_type": "error",
     "traceback": [
      "\u001b[1;31m---------------------------------------------------------------------------\u001b[0m",
      "\u001b[1;31mKeyboardInterrupt\u001b[0m                         Traceback (most recent call last)",
      "\u001b[1;32m~\\AppData\\Local\\Temp\\ipykernel_13972\\2559420465.py\u001b[0m in \u001b[0;36m<module>\u001b[1;34m\u001b[0m\n\u001b[0;32m     39\u001b[0m \u001b[1;33m\u001b[0m\u001b[0m\n\u001b[0;32m     40\u001b[0m \u001b[1;32mif\u001b[0m \u001b[0m__name__\u001b[0m \u001b[1;33m==\u001b[0m \u001b[1;34m\"__main__\"\u001b[0m\u001b[1;33m:\u001b[0m\u001b[1;33m\u001b[0m\u001b[1;33m\u001b[0m\u001b[0m\n\u001b[1;32m---> 41\u001b[1;33m     \u001b[0mmain\u001b[0m\u001b[1;33m(\u001b[0m\u001b[1;33m)\u001b[0m\u001b[1;33m\u001b[0m\u001b[1;33m\u001b[0m\u001b[0m\n\u001b[0m",
      "\u001b[1;32m~\\AppData\\Local\\Temp\\ipykernel_13972\\2559420465.py\u001b[0m in \u001b[0;36mmain\u001b[1;34m()\u001b[0m\n\u001b[0;32m      8\u001b[0m     \u001b[0mrunning\u001b[0m \u001b[1;33m=\u001b[0m \u001b[1;32mTrue\u001b[0m\u001b[1;33m\u001b[0m\u001b[1;33m\u001b[0m\u001b[0m\n\u001b[0;32m      9\u001b[0m     \u001b[1;32mwhile\u001b[0m \u001b[0mrunning\u001b[0m\u001b[1;33m:\u001b[0m\u001b[1;33m\u001b[0m\u001b[1;33m\u001b[0m\u001b[0m\n\u001b[1;32m---> 10\u001b[1;33m         \u001b[1;32mfor\u001b[0m \u001b[0mevent\u001b[0m \u001b[1;32min\u001b[0m \u001b[0mpygame\u001b[0m\u001b[1;33m.\u001b[0m\u001b[0mevent\u001b[0m\u001b[1;33m.\u001b[0m\u001b[0mget\u001b[0m\u001b[1;33m(\u001b[0m\u001b[1;33m)\u001b[0m\u001b[1;33m:\u001b[0m\u001b[1;33m\u001b[0m\u001b[1;33m\u001b[0m\u001b[0m\n\u001b[0m\u001b[0;32m     11\u001b[0m             \u001b[1;32mif\u001b[0m \u001b[0mevent\u001b[0m\u001b[1;33m.\u001b[0m\u001b[0mtype\u001b[0m \u001b[1;33m==\u001b[0m \u001b[0mpygame\u001b[0m\u001b[1;33m.\u001b[0m\u001b[0mQUIT\u001b[0m\u001b[1;33m:\u001b[0m\u001b[1;33m\u001b[0m\u001b[1;33m\u001b[0m\u001b[0m\n\u001b[0;32m     12\u001b[0m                 \u001b[0mrunning\u001b[0m \u001b[1;33m=\u001b[0m \u001b[1;32mFalse\u001b[0m\u001b[1;33m\u001b[0m\u001b[1;33m\u001b[0m\u001b[0m\n",
      "\u001b[1;31mKeyboardInterrupt\u001b[0m: "
     ]
    }
   ],
   "source": [
    "import pygame\n",
    "def main():\n",
    "    # 定义一个用来装球的容器\n",
    "    balls = []\n",
    "    pygame.init()\n",
    "    screen = pygame.display.set_mode((800,600))\n",
    "    pygame.display.set_caption('大球吃小球')\n",
    "    running = True\n",
    "    while running:\n",
    "        for event in pygame.event.get():\n",
    "            if event.type == pygame.QUIT:\n",
    "                running = False\n",
    "                sys.exit\n",
    "        # 处理鼠标事件的代码\n",
    "        if event.type == pygame.MOUSEBUTTONDOWN and event.button == 1:\n",
    "            # 获取鼠标点击的位置\n",
    "            x,y = event.pos\n",
    "            radius = randint(10,100)\n",
    "            sx,sy = randint(-10,10),randint(-10,10)\n",
    "            color = Color.random_color()\n",
    "            # 在鼠标点击的位置生成一个小球\n",
    "            ball = Ball(x,y,radius,sx,sy,color)\n",
    "            balls.append(ball)\n",
    "    screen.fill((204,232,207))\n",
    "    # 取出容器中的球 如果没有被吃会绘制出来 被吃掉的就移除\n",
    "    for ball in balls:\n",
    "        if ball.alive:\n",
    "            ball.draw(screen)\n",
    "        else:\n",
    "            balls.remove(ball)\n",
    "    pygame.display.flip()\n",
    "    # 每隔50ms就刷新小球的位置\n",
    "    pygame.time.delay(50)\n",
    "    for ball in balls:\n",
    "        ball.move(screen)\n",
    "        # 检查小球有没有吃到其他小球\n",
    "        for other in balls:\n",
    "            ball.eat(other)\n",
    "\n",
    "if __name__ == \"__main__\":\n",
    "    main()"
   ]
  },
  {
   "cell_type": "code",
   "execution_count": 7,
   "metadata": {},
   "outputs": [
    {
     "ename": "KeyboardInterrupt",
     "evalue": "",
     "output_type": "error",
     "traceback": [
      "\u001b[1;31m---------------------------------------------------------------------------\u001b[0m",
      "\u001b[1;31mKeyboardInterrupt\u001b[0m                         Traceback (most recent call last)",
      "\u001b[1;32m~\\AppData\\Local\\Temp\\ipykernel_11784\\566086865.py\u001b[0m in \u001b[0;36m<module>\u001b[1;34m\u001b[0m\n\u001b[0;32m    102\u001b[0m \u001b[1;33m\u001b[0m\u001b[0m\n\u001b[0;32m    103\u001b[0m \u001b[1;32mif\u001b[0m \u001b[0m__name__\u001b[0m \u001b[1;33m==\u001b[0m \u001b[1;34m\"__main__\"\u001b[0m\u001b[1;33m:\u001b[0m\u001b[1;33m\u001b[0m\u001b[1;33m\u001b[0m\u001b[0m\n\u001b[1;32m--> 104\u001b[1;33m     \u001b[0mmain\u001b[0m\u001b[1;33m(\u001b[0m\u001b[1;33m)\u001b[0m\u001b[1;33m\u001b[0m\u001b[1;33m\u001b[0m\u001b[0m\n\u001b[0m",
      "\u001b[1;32m~\\AppData\\Local\\Temp\\ipykernel_11784\\566086865.py\u001b[0m in \u001b[0;36mmain\u001b[1;34m()\u001b[0m\n\u001b[0;32m     71\u001b[0m     \u001b[0mrunning\u001b[0m \u001b[1;33m=\u001b[0m \u001b[1;32mTrue\u001b[0m\u001b[1;33m\u001b[0m\u001b[1;33m\u001b[0m\u001b[0m\n\u001b[0;32m     72\u001b[0m     \u001b[1;32mwhile\u001b[0m \u001b[0mrunning\u001b[0m\u001b[1;33m:\u001b[0m\u001b[1;33m\u001b[0m\u001b[1;33m\u001b[0m\u001b[0m\n\u001b[1;32m---> 73\u001b[1;33m         \u001b[1;32mfor\u001b[0m \u001b[0mevent\u001b[0m \u001b[1;32min\u001b[0m \u001b[0mpygame\u001b[0m\u001b[1;33m.\u001b[0m\u001b[0mevent\u001b[0m\u001b[1;33m.\u001b[0m\u001b[0mget\u001b[0m\u001b[1;33m(\u001b[0m\u001b[1;33m)\u001b[0m\u001b[1;33m:\u001b[0m\u001b[1;33m\u001b[0m\u001b[1;33m\u001b[0m\u001b[0m\n\u001b[0m\u001b[0;32m     74\u001b[0m             \u001b[1;32mif\u001b[0m \u001b[0mevent\u001b[0m\u001b[1;33m.\u001b[0m\u001b[0mtype\u001b[0m \u001b[1;33m==\u001b[0m \u001b[0mpygame\u001b[0m\u001b[1;33m.\u001b[0m\u001b[0mQUIT\u001b[0m\u001b[1;33m:\u001b[0m\u001b[1;33m\u001b[0m\u001b[1;33m\u001b[0m\u001b[0m\n\u001b[0;32m     75\u001b[0m                 \u001b[0mrunning\u001b[0m \u001b[1;33m=\u001b[0m \u001b[1;32mFalse\u001b[0m\u001b[1;33m\u001b[0m\u001b[1;33m\u001b[0m\u001b[0m\n",
      "\u001b[1;31mKeyboardInterrupt\u001b[0m: "
     ]
    }
   ],
   "source": [
    "from enum import Enum,unique\n",
    "from math import sqrt\n",
    "from random import randint\n",
    "import pygame\n",
    "\n",
    "@unique\n",
    "class Color(Enum):\n",
    "    '''颜色'''\n",
    "    RED = (255,0,0)\n",
    "    GREEN = (0,255,0)\n",
    "    BLUE = (0,0,255)\n",
    "    BLACK = (0,0,0)\n",
    "    WHITE = (255,255,255)\n",
    "    GRAY = (242,242,242)\n",
    "\n",
    "    @staticmethod\n",
    "    def random_color():\n",
    "        '''获取随机颜色'''\n",
    "        r = randint(0,255)\n",
    "        g = randint(0,255)\n",
    "        b = randint(0,255)\n",
    "        return (r,g,b)\n",
    "\n",
    "class Ball(object):\n",
    "    '''球'''\n",
    "    def __init__(self,x,y,radius,sx,sy,color=Color.RED):\n",
    "        '''初始化方法\n",
    "        : params x,y 小球的初始圆心坐标\n",
    "        : params radius 小球的半径\n",
    "        : parmas sx,sy 小球的位移值\n",
    "        : params color 小球的颜色\n",
    "        : params alive小球是否被吃的判断值\n",
    "        '''\n",
    "        self.x = x\n",
    "        self.y = y\n",
    "        self.radius = radius\n",
    "        self.sx = sx\n",
    "        self.sy = sy\n",
    "        self.color = color\n",
    "        self.alive = True\n",
    "        \n",
    "    def move(self,screen):\n",
    "        '''小球的位移函数'''\n",
    "        self.x += self.sx\n",
    "        self.y += self.sy\n",
    "        if self.x - self.radius <=0 or self.x+self.radius >= screen.get_width():\n",
    "            self.sx = -self.sx\n",
    "        if self.y - self.radius <=0 or self.y+self.radius >= screen.get_height():\n",
    "            self.sy = -self.sy  \n",
    "\n",
    "    def eat(self,other):\n",
    "        '''吃掉其他球'''\n",
    "        if self.alive and other.alive and self != other:\n",
    "            dx,dy = self.x-other.x ,self.y-other.y\n",
    "            distance = sqrt(dx**2+dy**2)\n",
    "            if distance < self.radius + other.radius and self.radius > other.radius:\n",
    "                other.alive = False\n",
    "                self.radius = self.radius + int(other.radius*0.146)\n",
    "\n",
    "    def draw(self,screen):\n",
    "        '''在窗口上绘制小球'''\n",
    "        pygame.draw.circle(screen,self.color,(self.x,self.y),self.radius,0)\n",
    "        \n",
    "\n",
    "def main():\n",
    "    # 定义一个用来装球的容器\n",
    "    balls = []\n",
    "    pygame.init()\n",
    "    screen = pygame.display.set_mode((800,600))\n",
    "    pygame.display.set_caption('大球吃小球')\n",
    "    running = True\n",
    "    while running:\n",
    "        for event in pygame.event.get():\n",
    "            if event.type == pygame.QUIT:\n",
    "                running = False\n",
    "                sys.exit\n",
    "        # 处理鼠标事件的代码\n",
    "        if event.type == pygame.MOUSEBUTTONDOWN and event.button == 1:\n",
    "            # 获取鼠标点击的位置\n",
    "            x,y = event.pos\n",
    "            radius = randint(10,100)\n",
    "            sx,sy = randint(-10,10),randint(-10,10)\n",
    "            color = Color.random_color()\n",
    "            # 在鼠标点击的位置生成一个小球\n",
    "            ball = Ball(x,y,radius,sx,sy,color)\n",
    "            balls.append(ball)\n",
    "    screen.fill((204,232,207))\n",
    "    # 取出容器中的球 如果没有被吃会绘制出来 被吃掉的就移除\n",
    "    for ball in balls:\n",
    "        if ball.alive:\n",
    "            ball.draw(screen)\n",
    "        else:\n",
    "            balls.remove(ball)\n",
    "    pygame.display.flip()\n",
    "    # 每隔50ms就刷新小球的位置\n",
    "    pygame.time.delay(50)\n",
    "    for ball in balls:\n",
    "        ball.move(screen)\n",
    "        # 检查小球有没有吃到其他小球\n",
    "        for other in balls:\n",
    "            ball.eat(other)\n",
    "\n",
    "if __name__ == \"__main__\":\n",
    "    main()"
   ]
  },
  {
   "cell_type": "markdown",
   "metadata": {},
   "source": [
    "### 大球吃小球"
   ]
  },
  {
   "cell_type": "code",
   "execution_count": 3,
   "metadata": {},
   "outputs": [],
   "source": [
    "from enum import Enum, unique\n",
    "from math import sqrt\n",
    "from random import randint\n",
    "\n",
    "import pygame\n",
    "\n",
    "\n",
    "@unique\n",
    "class Color(Enum):\n",
    "    \"\"\"颜色\"\"\"\n",
    "\n",
    "    RED = (255, 0, 0)\n",
    "    GREEN = (0, 255, 0)\n",
    "    BLUE = (0, 0, 255)\n",
    "    BLACK = (0, 0, 0)\n",
    "    WHITE = (255, 255, 255)\n",
    "    GRAY = (242, 242, 242)\n",
    "\n",
    "    @staticmethod\n",
    "    def random_color():\n",
    "        \"\"\"获得随机颜色\"\"\"\n",
    "        r = randint(0, 255)\n",
    "        g = randint(0, 255)\n",
    "        b = randint(0, 255)\n",
    "        return (r, g, b)\n",
    "\n",
    "\n",
    "class Ball(object):\n",
    "    \"\"\"球\"\"\"\n",
    "\n",
    "    def __init__(self, x, y, radius, sx, sy, color=Color.RED):\n",
    "        \"\"\"初始化方法\"\"\"\n",
    "        self.x = x\n",
    "        self.y = y\n",
    "        self.radius = radius\n",
    "        self.sx = sx\n",
    "        self.sy = sy\n",
    "        self.color = color\n",
    "        self.alive = True\n",
    "\n",
    "    def move(self, screen):\n",
    "        \"\"\"移动\"\"\"\n",
    "        self.x += self.sx\n",
    "        self.y += self.sy\n",
    "        if self.x - self.radius <= 0 or \\\n",
    "                self.x + self.radius >= screen.get_width():\n",
    "            self.sx = -self.sx\n",
    "        if self.y - self.radius <= 0 or \\\n",
    "                self.y + self.radius >= screen.get_height():\n",
    "            self.sy = -self.sy\n",
    "\n",
    "    def eat(self, other):\n",
    "        \"\"\"吃其他球\"\"\"\n",
    "        if self.alive and other.alive and self != other:\n",
    "            dx, dy = self.x - other.x, self.y - other.y\n",
    "            distance = sqrt(dx ** 2 + dy ** 2)\n",
    "            if distance < self.radius + other.radius \\\n",
    "                    and self.radius > other.radius:\n",
    "                other.alive = False\n",
    "                self.radius = self.radius + int(other.radius * 0.146)\n",
    "\n",
    "    def draw(self, screen):\n",
    "        \"\"\"在窗口上绘制球\"\"\"\n",
    "        pygame.draw.circle(screen, self.color,\n",
    "                           (self.x, self.y), self.radius, 0)\n",
    "\n",
    "def main():\n",
    "    # 定义用来装所有球的容器\n",
    "    balls = []\n",
    "    # 初始化导入的pygame中的模块\n",
    "    pygame.init()\n",
    "    # 初始化用于显示的窗口并设置窗口尺寸\n",
    "    screen = pygame.display.set_mode((800, 600))\n",
    "    # 设置当前窗口的标题\n",
    "    pygame.display.set_caption('大球吃小球')\n",
    "    running = True\n",
    "    # 开启一个事件循环处理发生的事件\n",
    "    while running:\n",
    "        # 从消息队列中获取事件并对事件进行处理\n",
    "        for event in pygame.event.get():\n",
    "            if event.type == pygame.QUIT:\n",
    "                running = False\n",
    "                sys.exit\n",
    "            # 处理鼠标事件的代码\n",
    "            if event.type == pygame.MOUSEBUTTONDOWN and event.button == 1:\n",
    "                # 获得点击鼠标的位置\n",
    "                x, y = event.pos\n",
    "                radius = randint(10, 100)\n",
    "                sx, sy = randint(-10, 10), randint(-10, 10)\n",
    "                color = Color.random_color()\n",
    "                # 在点击鼠标的位置创建一个球(大小、速度和颜色随机)\n",
    "                ball = Ball(x, y, radius, sx, sy, color)\n",
    "                # 将球添加到列表容器中\n",
    "                balls.append(ball)\n",
    "        screen.fill((255, 255, 255))\n",
    "        # 取出容器中的球 如果没被吃掉就绘制 被吃掉了就移除\n",
    "        for ball in balls:\n",
    "            if ball.alive:\n",
    "                ball.draw(screen)\n",
    "            else:\n",
    "                balls.remove(ball)\n",
    "        pygame.display.flip()\n",
    "        # 每隔50毫秒就改变球的位置再刷新窗口\n",
    "        pygame.time.delay(50)\n",
    "        for ball in balls:\n",
    "            ball.move(screen)\n",
    "            # 检查球有没有吃到其他的球\n",
    "            for other in balls:\n",
    "                ball.eat(other)\n",
    "\n",
    "\n",
    "if __name__ == '__main__':\n",
    "    main()"
   ]
  },
  {
   "cell_type": "markdown",
   "metadata": {},
   "source": [
    "# day 11 文件和异常"
   ]
  },
  {
   "cell_type": "markdown",
   "metadata": {},
   "source": [
    "| 操作模式 | 具体含义                         |\n",
    "| -------- | -------------------------------- |\n",
    "| `'r'`  | 读取 （默认）                    |\n",
    "| `'w'`  | 写入（会先截断之前的内容）       |\n",
    "| `'x'`  | 写入，如果文件已经存在会产生异常 |\n",
    "| `'a'`  | 追加，将内容写入到已有文件的末尾 |\n",
    "| `'b'`  | 二进制模式                       |\n",
    "| `'t'`  | 文本模式（默认）                 |\n",
    "| `'+'`  | 更新（既可以读又可以写）         |"
   ]
  },
  {
   "cell_type": "markdown",
   "metadata": {},
   "source": [
    "### 读写文本文件"
   ]
  },
  {
   "cell_type": "markdown",
   "metadata": {},
   "source": [
    "> 如果 `open`函数指定的文件并不存在或者无法打开，那么将引发异常状况导致程序崩溃。为了让代码有一定的健壮性和容错性，我们可以使用Python的异常机制对可能在运行时发生状况的代码进行适当的处理，"
   ]
  },
  {
   "cell_type": "code",
   "execution_count": 32,
   "metadata": {},
   "outputs": [
    {
     "name": "stdout",
     "output_type": "stream",
     "text": [
      "..\\..\\05.Book information\\01.Python-100-Days-master\\Day01-15\\code\\Day11\\致橡树.txt\n"
     ]
    }
   ],
   "source": [
    "import os \n",
    "print (os.path.relpath(r\"F:\\Programming\\05.Book information\\01.Python-100-Days-master\\Day01-15\\code\\Day11\\致橡树.txt\"))"
   ]
  },
  {
   "cell_type": "code",
   "execution_count": 33,
   "metadata": {},
   "outputs": [
    {
     "name": "stdout",
     "output_type": "stream",
     "text": [
      "我如果爱你\n",
      "绝不学攀援的凌霄花\n",
      "借你的高枝炫耀自己\n",
      "\n",
      "我如果爱你\n",
      "绝不学痴情的鸟儿\n",
      "为绿荫重复单调的歌曲\n",
      "\n",
      "也不止像泉源\n",
      "常年送来清凉的慰藉\n",
      "也不止像险峰\n",
      "增加你的高度 衬托你的威仪\n",
      "甚至日光 甚至春雨\n",
      "不 这些都还不够\n",
      "我必须是你近旁的一株木棉\n",
      "作为树的形象和你站在一起\n",
      "根 紧握在地下\n",
      "叶 相触在云里\n",
      "每一阵风过\n",
      "我们都互相致意\n",
      "但没有人 听懂我们的言语\n",
      "你有你的铜枝铁干\n",
      "像刀 像剑 也像戟；\n",
      "我有我红硕的花朵\n",
      "像沉重的叹息 又像英勇的火炬\n",
      "我们分担寒潮、风雷、霹雳\n",
      "我们共享雾霭、流岚、虹霓\n",
      "仿佛永远分离 却又终身相依\n",
      "这才是伟大的爱情\n",
      "坚贞就在这里\n",
      "爱 不仅爱你伟岸的身躯\n",
      "也爱你坚持的位置 足下的土地\n"
     ]
    }
   ],
   "source": [
    "def mian():\n",
    "    f = open(r'..\\..\\05.Book information\\01.Python-100-Days-master\\Day01-15\\code\\Day11\\致橡树.txt','r',encoding='utf-8')\n",
    "    print(f.read()) # 用with是不是好点\n",
    "    f.close()\n",
    "    \n",
    "if __name__ == '__main__':\n",
    "    main()"
   ]
  },
  {
   "cell_type": "code",
   "execution_count": 35,
   "metadata": {},
   "outputs": [
    {
     "name": "stdout",
     "output_type": "stream",
     "text": [
      "我如果爱你\n",
      "绝不学攀援的凌霄花\n",
      "借你的高枝炫耀自己\n",
      "\n",
      "我如果爱你\n",
      "绝不学痴情的鸟儿\n",
      "为绿荫重复单调的歌曲\n",
      "\n",
      "也不止像泉源\n",
      "常年送来清凉的慰藉\n",
      "也不止像险峰\n",
      "增加你的高度 衬托你的威仪\n",
      "甚至日光 甚至春雨\n",
      "不 这些都还不够\n",
      "我必须是你近旁的一株木棉\n",
      "作为树的形象和你站在一起\n",
      "根 紧握在地下\n",
      "叶 相触在云里\n",
      "每一阵风过\n",
      "我们都互相致意\n",
      "但没有人 听懂我们的言语\n",
      "你有你的铜枝铁干\n",
      "像刀 像剑 也像戟；\n",
      "我有我红硕的花朵\n",
      "像沉重的叹息 又像英勇的火炬\n",
      "我们分担寒潮、风雷、霹雳\n",
      "我们共享雾霭、流岚、虹霓\n",
      "仿佛永远分离 却又终身相依\n",
      "这才是伟大的爱情\n",
      "坚贞就在这里\n",
      "爱 不仅爱你伟岸的身躯\n",
      "也爱你坚持的位置 足下的土地\n"
     ]
    }
   ],
   "source": [
    "def main():\n",
    "    with open(r'..\\..\\05.Book information\\01.Python-100-Days-master\\Day01-15\\code\\Day11\\致橡树.txt','r',encoding='utf-8') as f:\n",
    "        print(f.read())\n",
    "\n",
    "if __name__ == '__main__':\n",
    "    main()"
   ]
  },
  {
   "cell_type": "code",
   "execution_count": 38,
   "metadata": {},
   "outputs": [
    {
     "name": "stdout",
     "output_type": "stream",
     "text": [
      "我如果爱你\n",
      "绝不学攀援的凌霄花\n",
      "借你的高枝炫耀自己\n",
      "\n",
      "我如果爱你\n",
      "绝不学痴情的鸟儿\n",
      "为绿荫重复单调的歌曲\n",
      "\n",
      "也不止像泉源\n",
      "常年送来清凉的慰藉\n",
      "也不止像险峰\n",
      "增加你的高度 衬托你的威仪\n",
      "甚至日光 甚至春雨\n",
      "不 这些都还不够\n",
      "我必须是你近旁的一株木棉\n",
      "作为树的形象和你站在一起\n",
      "根 紧握在地下\n",
      "叶 相触在云里\n",
      "每一阵风过\n",
      "我们都互相致意\n",
      "但没有人 听懂我们的言语\n",
      "你有你的铜枝铁干\n",
      "像刀 像剑 也像戟；\n",
      "我有我红硕的花朵\n",
      "像沉重的叹息 又像英勇的火炬\n",
      "我们分担寒潮、风雷、霹雳\n",
      "我们共享雾霭、流岚、虹霓\n",
      "仿佛永远分离 却又终身相依\n",
      "这才是伟大的爱情\n",
      "坚贞就在这里\n",
      "爱 不仅爱你伟岸的身躯\n",
      "也爱你坚持的位置 足下的土地\n"
     ]
    }
   ],
   "source": [
    "def mian():\n",
    "    f = None\n",
    "    try:\n",
    "        f =open(r'..\\..\\05.Book information\\01.Python-100-Days-master\\Day01-15\\code\\Day11\\致橡树.txt','r',encoding='utf-8')\n",
    "        print(f.read())\n",
    "    except FileNotFoundError:\n",
    "        print('无法打开指定文件!')\n",
    "    except LookupError:\n",
    "        print('指定了未知的编码!')\n",
    "    except UnicodeDecodeError:\n",
    "        print('读取文件时解码错误!')\n",
    "    finally:\n",
    "        if f:\n",
    "            f.close()\n",
    "    \n",
    "if __name__ == '__main__':\n",
    "    main()\n",
    "\n"
   ]
  },
  {
   "cell_type": "markdown",
   "metadata": {},
   "source": [
    "> 在Python中，我们可以将那些在运行时可能会出现状况的代码放在 `try`代码块中，在 `try`代码块的后面可以跟上一个或多个 `except`来捕获可能出现的异常状况.最后我们使用 `finally`代码块来关闭打开的文件，释放掉程序中获取的外部资源，由于 `finally`块的代码不论程序正常还是异常都会执行到（甚至是调用了 `sys`模块的 `exit`函数退出Python环境，`finally`块都会被执行，因为 `exit`函数实质上是引发了 `SystemExit`异常），因此我们通常把 `finally`块称为“总是执行代码块”，它最适合用来做释放外部资源的操作。如果不愿意在 `finally`代码块中关闭文件对象释放资源，也可以使用上下文语法，通过 `with`关键字指定文件对象的上下文环境并在离开上下文环境时自动释放文件资源。"
   ]
  },
  {
   "cell_type": "code",
   "execution_count": 8,
   "metadata": {},
   "outputs": [
    {
     "name": "stdout",
     "output_type": "stream",
     "text": [
      "我如果爱你\n",
      "绝不学攀援的凌霄花\n",
      "借你的高枝炫耀自己\n",
      "\n",
      "我如果爱你\n",
      "绝不学痴情的鸟儿\n",
      "为绿荫重复单调的歌曲\n",
      "\n",
      "也不止像泉源\n",
      "常年送来清凉的慰藉\n",
      "也不止像险峰\n",
      "增加你的高度 衬托你的威仪\n",
      "甚至日光 甚至春雨\n",
      "不 这些都还不够\n",
      "我必须是你近旁的一株木棉\n",
      "作为树的形象和你站在一起\n",
      "根 紧握在地下\n",
      "叶 相触在云里\n",
      "每一阵风过\n",
      "我们都互相致意\n",
      "但没有人 听懂我们的言语\n",
      "你有你的铜枝铁干\n",
      "像刀 像剑 也像戟；\n",
      "我有我红硕的花朵\n",
      "像沉重的叹息 又像英勇的火炬\n",
      "我们分担寒潮、风雷、霹雳\n",
      "我们共享雾霭、流岚、虹霓\n",
      "仿佛永远分离 却又终身相依\n",
      "这才是伟大的爱情\n",
      "坚贞就在这里\n",
      "爱 不仅爱你伟岸的身躯\n",
      "也爱你坚持的位置 足下的土地\n"
     ]
    }
   ],
   "source": [
    "def main():\n",
    "    file_name = r'F:\\Programming\\Book information\\Python-100-Days-master\\Day01-15\\code\\Day11\\致橡树.txt'\n",
    "    try:\n",
    "        #使用with打开文件后面会在文件调用结束后自动关闭文件\n",
    "        with open(file_name, 'r', encoding='utf-8') as f:\n",
    "            print(f.read())\n",
    "    except FileNotFoundError:\n",
    "        print('无法打开指定的文件!')\n",
    "    except LookupError:\n",
    "        print('指定了未知的编码!')\n",
    "    except UnicodeDecodeError:\n",
    "        print('读取文件时解码错误!')\n",
    "\n",
    "\n",
    "if __name__ == '__main__':\n",
    "    main()"
   ]
  },
  {
   "cell_type": "markdown",
   "metadata": {},
   "source": [
    "> 除了使用文件对象的 `read`方法读取文件之外，还可以使用 `for-in`循环逐行读取或者用 `readlines`方法将文件按行读取到一个列表容器中，"
   ]
  },
  {
   "cell_type": "code",
   "execution_count": 45,
   "metadata": {},
   "outputs": [
    {
     "name": "stdout",
     "output_type": "stream",
     "text": [
      "我如果爱你\n",
      "绝不学攀援的凌霄花\n",
      "借你的高枝炫耀自己\n",
      "\n",
      "我如果爱你\n",
      "绝不学痴情的鸟儿\n",
      "为绿荫重复单调的歌曲\n",
      "\n",
      "也不止像泉源\n",
      "常年送来清凉的慰藉\n",
      "也不止像险峰\n",
      "增加你的高度 衬托你的威仪\n",
      "甚至日光 甚至春雨\n",
      "不 这些都还不够\n",
      "我必须是你近旁的一株木棉\n",
      "作为树的形象和你站在一起\n",
      "根 紧握在地下\n",
      "叶 相触在云里\n",
      "每一阵风过\n",
      "我们都互相致意\n",
      "但没有人 听懂我们的言语\n",
      "你有你的铜枝铁干\n",
      "像刀 像剑 也像戟；\n",
      "我有我红硕的花朵\n",
      "像沉重的叹息 又像英勇的火炬\n",
      "我们分担寒潮、风雷、霹雳\n",
      "我们共享雾霭、流岚、虹霓\n",
      "仿佛永远分离 却又终身相依\n",
      "这才是伟大的爱情\n",
      "坚贞就在这里\n",
      "爱 不仅爱你伟岸的身躯\n",
      "也爱你坚持的位置 足下的土地\n",
      "我如果爱你\n",
      " 绝不学攀援的凌霄花\n",
      " 借你的高枝炫耀自己\n",
      " \n",
      " 我如果爱你\n",
      " 绝不学痴情的鸟儿\n",
      " 为绿荫重复单调的歌曲\n",
      " \n",
      " 也不止像泉源\n",
      " 常年送来清凉的慰藉\n",
      " 也不止像险峰\n",
      " 增加你的高度 衬托你的威仪\n",
      " 甚至日光 甚至春雨\n",
      " 不 这些都还不够\n",
      " 我必须是你近旁的一株木棉\n",
      " 作为树的形象和你站在一起\n",
      " 根 紧握在地下\n",
      " 叶 相触在云里\n",
      " 每一阵风过\n",
      " 我们都互相致意\n",
      " 但没有人 听懂我们的言语\n",
      " 你有你的铜枝铁干\n",
      " 像刀 像剑 也像戟；\n",
      " 我有我红硕的花朵\n",
      " 像沉重的叹息 又像英勇的火炬\n",
      " 我们分担寒潮、风雷、霹雳\n",
      " 我们共享雾霭、流岚、虹霓\n",
      " 仿佛永远分离 却又终身相依\n",
      " 这才是伟大的爱情\n",
      " 坚贞就在这里\n",
      " 爱 不仅爱你伟岸的身躯\n",
      " 也爱你坚持的位置 足下的土地 \n",
      "['我如果爱你\\n', '绝不学攀援的凌霄花\\n', '借你的高枝炫耀自己\\n', '\\n', '我如果爱你\\n', '绝不学痴情的鸟儿\\n', '为绿荫重复单调的歌曲\\n', '\\n', '也不止像泉源\\n', '常年送来清凉的慰藉\\n', '也不止像险峰\\n', '增加你的高度 衬托你的威仪\\n', '甚至日光 甚至春雨\\n', '不 这些都还不够\\n', '我必须是你近旁的一株木棉\\n', '作为树的形象和你站在一起\\n', '根 紧握在地下\\n', '叶 相触在云里\\n', '每一阵风过\\n', '我们都互相致意\\n', '但没有人 听懂我们的言语\\n', '你有你的铜枝铁干\\n', '像刀 像剑 也像戟；\\n', '我有我红硕的花朵\\n', '像沉重的叹息 又像英勇的火炬\\n', '我们分担寒潮、风雷、霹雳\\n', '我们共享雾霭、流岚、虹霓\\n', '仿佛永远分离 却又终身相依\\n', '这才是伟大的爱情\\n', '坚贞就在这里\\n', '爱 不仅爱你伟岸的身躯\\n', '也爱你坚持的位置 足下的土地']\n"
     ]
    }
   ],
   "source": [
    "import time\n",
    "\n",
    "def main():\n",
    "    #直接一次性读取整个文件的内容\n",
    "    with open(r'..\\..\\05.Book information\\01.Python-100-Days-master\\Day01-15\\code\\Day11\\致橡树.txt','r',encoding='utf-8') as f:\n",
    "        print(f.read())\n",
    "    # 使用for in 逐行读取内容\n",
    "    with open(r'..\\..\\05.Book information\\01.Python-100-Days-master\\Day01-15\\code\\Day11\\致橡树.txt',mode = 'r',encoding='utf-8') as f:\n",
    "        for line in f :\n",
    "            print(line,end=' ')\n",
    "            time.sleep(0.1)\n",
    "        print()\n",
    "\n",
    "    with open(r'..\\..\\05.Book information\\01.Python-100-Days-master\\Day01-15\\code\\Day11\\致橡树.txt',encoding='utf-8') as f:\n",
    "        lines = f.readlines()\n",
    "    print(lines)\n",
    "\n",
    "if __name__ =='__main__':\n",
    "    main()"
   ]
  },
  {
   "cell_type": "code",
   "execution_count": 47,
   "metadata": {},
   "outputs": [],
   "source": [
    "from math import sqrt\n",
    "def is_prime(n):\n",
    "    '''判断一个数是否是素数'''\n",
    "    assert n>0\n",
    "    for factor in range(2,int(sqrt(n)+1)):\n",
    "        if n % factor == 0:\n",
    "            return False\n",
    "    return True if n != 1 else False\n",
    "\n",
    "def main():\n",
    "    filenames = ['1.txt','2.txt','3.txt',]\n",
    "    fs_list = []\n",
    "    try:\n",
    "        for filename in filenames:\n",
    "            fs_list.append(open(filename,'w',encoding='utf-8'))\n",
    "        for number in range(1,1000):\n",
    "            if is_prime(number):\n",
    "                if number<100:\n",
    "                    fs_list[0].write(str(number) + '\\n')\n",
    "                elif number<1000:\n",
    "                    fs_list[1].write(str(number) + '\\n')\n",
    "                else:\n",
    "                    fs_list[2].write(str(number) + '\\n')\n",
    "    except IOError as ex:\n",
    "        print(ex)\n",
    "        print('写入文件时发生错误！')\n",
    "    finally:\n",
    "        for fs in fs_list:\n",
    "            fs.close()\n",
    "\n",
    "if __name__ == '__main__':\n",
    "    main()"
   ]
  },
  {
   "cell_type": "markdown",
   "metadata": {},
   "source": [
    "### 读写二进制文件"
   ]
  },
  {
   "cell_type": "code",
   "execution_count": 51,
   "metadata": {},
   "outputs": [
    {
     "name": "stdout",
     "output_type": "stream",
     "text": [
      "<class 'bytes'>\n",
      "程序结束\n"
     ]
    }
   ],
   "source": [
    "def main():\n",
    "    try:\n",
    "        with open(r'..\\..\\05.Book information\\01.Python-100-Days-master\\Day01-15\\code\\Day11\\mm.jpg','rb') as fs1:\n",
    "            data = fs1.read()\n",
    "            print(type(data)) \n",
    "            with open('妹子.jpg','wb') as fs2:\n",
    "                fs2.write(data)\n",
    "    except FileNotFoundError as e:\n",
    "        print('指定文件无法打开')\n",
    "    except IOError as e:\n",
    "        print('写入文件错误')\n",
    "    print('程序结束')\n",
    "\n",
    "if __name__ == '__main__':\n",
    "    main()"
   ]
  },
  {
   "cell_type": "markdown",
   "metadata": {},
   "source": [
    "### 读写JSON文件"
   ]
  },
  {
   "cell_type": "markdown",
   "metadata": {},
   "source": [
    "> JSON是“JavaScript Object Notation”的缩写，它本来是JavaScript语言中创建对象的一种字面量语法，现在已经被广泛的应用于跨平台跨语言的数据交换，原因很简单，因为JSON也是纯文本，任何系统任何编程语言处理纯文本都是没有问题的。目前JSON基本上已经取代了XML作为异构系统间交换数据的事实标准。JSON跟Python中的字典其实是一样一样的，事实上JSON的数据类型和Python的数据类型是很容易找到对应关系的，如下面两张表所示。"
   ]
  },
  {
   "cell_type": "markdown",
   "metadata": {},
   "source": [
    "| JSON                | Python       |\n",
    "| ------------------- | ------------ |\n",
    "| object              | dict         |\n",
    "| array               | list         |\n",
    "| string              | str          |\n",
    "| number (int / real) | int / float  |\n",
    "| true / false        | True / False |\n",
    "| null                | None         |\n",
    "\n",
    "| Python                                 | JSON         |\n",
    "| -------------------------------------- | ------------ |\n",
    "| dict                                   | object       |\n",
    "| list, tuple                            | array        |\n",
    "| str                                    | string       |\n",
    "| int, float, int- & float-derived Enums | number       |\n",
    "| True / False                           | true / false |\n",
    "| None                                   | null         |"
   ]
  },
  {
   "cell_type": "code",
   "execution_count": 54,
   "metadata": {},
   "outputs": [
    {
     "name": "stdout",
     "output_type": "stream",
     "text": [
      "数据保存完成\n"
     ]
    }
   ],
   "source": [
    "import json\n",
    "\n",
    "def main():\n",
    "    mydict={\n",
    "    \"name\": \"骆昊\",\n",
    "    \"age\": 38,\n",
    "    \"qq\": 957658,\n",
    "    \"friends\": [\"王大锤\", \"白元芳\"],\n",
    "    \"cars\": [\n",
    "        {\"brand\": \"BYD\", \"max_speed\": 180},\n",
    "        {\"brand\": \"Audi\", \"max_speed\": 280},\n",
    "        {\"brand\": \"Benz\", \"max_speed\": 320}\n",
    "        ]\n",
    "    }\n",
    "    try:\n",
    "        with open('data.json','w',encoding='utf-8') as fs:\n",
    "            json.dump(mydict,fs)\n",
    "    except IOError as e:\n",
    "        print(e)\n",
    "    print('数据保存完成')\n",
    "\n",
    "if __name__ == \"__main__\":\n",
    "    main()"
   ]
  },
  {
   "cell_type": "markdown",
   "metadata": {},
   "source": [
    "> json模块主要有四个比较重要的函数，分别是：\n",
    "> - `dump` - 将Python对象按照JSON格式序列化到文件中 是写入\n",
    "> - `dumps` - 将Python对象处理成JSON格式的字符串 转化\n",
    "> - `load` - 将文件中的JSON数据反序列化成对象\n",
    "> - `loads` - 将字符串的内容反序列化成Python对象"
   ]
  },
  {
   "cell_type": "markdown",
   "metadata": {},
   "source": [
    "> “序列化（serialization）在计算机科学的数据处理中，是指将数据结构或对象状态转换为可以存储或传输的形式，这样在需要的时候能够恢复到原先的状态，而且通过序列化的数据重新获取字节时，可以利用这些字节来产生原始对象的副本（拷贝）。与这个过程相反的动作，即从一系列字节中提取数据结构的操作，就是反序列化（deserialization）”"
   ]
  },
  {
   "cell_type": "code",
   "execution_count": 59,
   "metadata": {},
   "outputs": [
    {
     "name": "stdout",
     "output_type": "stream",
     "text": [
      "key错误或为空"
     ]
    }
   ],
   "source": [
    "import json,requests\n",
    "def main():\n",
    "    resp = requests.get('http://api.tianapi.com/guonei/?key=APIKey&num=10')\n",
    "    data_model = json.loads(resp.text)\n",
    "    for news in data_model['msg']:\n",
    "        print(news ,end='')\n",
    "\n",
    "if __name__ == '__main__':\n",
    "    main()"
   ]
  },
  {
   "cell_type": "markdown",
   "metadata": {},
   "source": [
    "# day 12 字符串和正则表达式\n"
   ]
  },
  {
   "cell_type": "markdown",
   "metadata": {},
   "source": [
    "### 正则表达式的基本符号"
   ]
  },
  {
   "cell_type": "markdown",
   "metadata": {},
   "source": [
    "\n",
    "| 符号                                                                     | 解释                             | 示例                | 说明                                                                            |\n",
    "| ------------------------------------------------------------------------ | -------------------------------- | ------------------- | ------------------------------------------------------------------------------- |\n",
    "| .                                                                        | 匹配任意字符                     | b.t                 | 可以匹配bat / but / b#t / b1t等                                                 |\n",
    "| \\\\w                                                                      | 匹配字母/数字/下划线             | b\\\\wt               | 可以匹配bat / b1t / b_t等`<br>`但不能匹配b#t                                  |\n",
    "| \\\\s                                                                      | 匹配空白字符（包括\\r、\\n、\\t等） | love\\\\syou          | 可以匹配love you                                                                |\n",
    "| \\\\d                                                                      | 匹配数字                         | \\\\d\\\\d              | 可以匹配01 / 23 / 99等                                                          |\n",
    "| \\\\b                                                                      | 匹配单词的边界                   | \\\\bThe\\\\b           |                                                                                 |\n",
    "| ^                                                                        | 匹配字符串的开始                 | ^The                | 可以匹配The开头的字符串                                                         |\n",
    "| $                  | 匹配字符串的结束                          | .exe$ | 可以匹配.exe结尾的字符串         |                     |                                                                                 |\n",
    "| \\\\W                                                                      | 匹配非字母/数字/下划线           | b\\\\Wt               | 可以匹配b#t / b@t等`<br>`但不能匹配but / b1t / b_t等                          |\n",
    "| \\\\S                                                                      | 匹配非空白字符                   | love\\\\Syou          | 可以匹配love#you等`<br>`但不能匹配love you                                    |\n",
    "| \\\\D                                                                      | 匹配非数字                       | \\\\d\\\\D              | 可以匹配9a / 3# / 0F等                                                          |\n",
    "| \\\\B                                                                      | 匹配非单词边界                   | \\\\Bio\\\\B            |                                                                                 |\n",
    "| []                                                                       | 匹配来自字符集的任意单一字符     | [aeiou]             | 可以匹配任一元音字母字符                                                        |\n",
    "| [^]                                                                      | 匹配不在字符集中的任意单一字符   | [^aeiou]            | 可以匹配任一非元音字母字符                                                      |\n",
    "| *                                                                        | 匹配0次或多次                    | \\\\w*                |                                                                                 |\n",
    "| +                                                                        | 匹配1次或多次                    | \\\\w+                |                                                                                 |\n",
    "| ?                                                                        | 匹配0次或1次                     | \\\\w?                |                                                                                 |\n",
    "| {N}                                                                      | 匹配N次                          | \\\\w{3}              |                                                                                 |\n",
    "| {M,}                                                                     | 匹配至少M次                      | \\\\w{3,}             |                                                                                 |\n",
    "| {M,N}                                                                    | 匹配至少M次至多N次               | \\\\w{3,6}            |                                                                                 |\n",
    "| \\|                                                                       | 分支                             | foo\\|bar            | 可以匹配foo或者bar                                                              |\n",
    "| (?#)                                                                     | 注释                             |                     |                                                                                 |\n",
    "| (exp)                                                                    | 匹配exp并捕获到自动命名的组中    |                     |                                                                                 |\n",
    "| (?&lt;name&gt;exp)                                                       | 匹配exp并捕获到名为name的组中    |                     |                                                                                 |\n",
    "| (?:exp)                                                                  | 匹配exp但是不捕获匹配的文本      |                     |                                                                                 |\n",
    "| (?=(\">))                                                                 | 匹配以(\">)结尾的字符串，并且捕获(存储)到分组中| \\\\b\\\\w+(?=ing)      | 可以匹配I'm dancing中的danc                                                     |\n",
    "| (?<=(href=\"))                                                                 | ( 匹配以(href=\")开头的字符串，并且捕获(存储)到分组中                | (?<=\\\\bdanc)\\\\w+\\\\b | 可以匹配I love dancing and reading中的第一个ing                                 |\n",
    "| (?!exp)                                                                  | 匹配后面不是exp的位置            |                     |                                                                                 |\n",
    "| (?<!exp)                                                                 | 匹配前面不是exp的位置            |                     |                                                                                 |\n",
    "| *?                                                                       | 重复任意次，但尽可能少重复       | a.\\*b`<br>`a.\\*?b | 将正则表达式应用于aabab，前者会匹配整个字符串aabab，后者会匹配aab和ab两个字符串 |\n",
    "| +?                                                                       | 重复1次或多次，但尽可能少重复    |                     |                                                                                 |\n",
    "| ??                                                                       | 重复0次或1次，但尽可能少重复     |                     |                                                                                 |\n",
    "| {M,N}?                                                                   | 重复M到N次，但尽可能少重复       |                     |                                                                                 |\n",
    "| {M,}?                                                                    | 重复M次以上，但尽可能少重复      |                     |                                                                                 |"
   ]
  },
  {
   "cell_type": "markdown",
   "metadata": {},
   "source": [
    "### re模块中的核心函数"
   ]
  },
  {
   "cell_type": "markdown",
   "metadata": {},
   "source": [
    "\n",
    "| 函数                                         | 说明                                                                         |\n",
    "| -------------------------------------------- | ---------------------------------------------------------------------------- |\n",
    "| compile(pattern, flags=0)                    | 编译正则表达式返回正则表达式对象                                             |\n",
    "| match(pattern, string, flags=0)              | 用正则表达式匹配字符串 成功返回匹配对象 否则返回None                         |\n",
    "| search(pattern, string, flags=0)             | 搜索字符串中第一次出现正则表达式的模式 成功返回匹配对象 否则返回None         |\n",
    "| split(pattern, string, maxsplit=0, flags=0)  | 用正则表达式指定的模式分隔符拆分字符串 返回列表                              |\n",
    "| sub(pattern, repl, string, count=0, flags=0) | 用指定的字符串替换原字符串中与正则表达式匹配的模式 可以用count指定替换的次数 |\n",
    "| fullmatch(pattern, string, flags=0)          | match函数的完全匹配（从字符串开头到结尾）版本                                |\n",
    "| findall(pattern, string, flags=0)            | 查找字符串所有与正则表达式匹配的模式 返回字符串的列表                        |\n",
    "| finditer(pattern, string, flags=0)           | 查找字符串所有与正则表达式匹配的模式 返回一个迭代器                          |\n",
    "| purge()                                      | 清除隐式编译的正则表达式的缓存                                               |\n",
    "| re.I / re.IGNORECASE                         | 忽略大小写匹配标记                                                           |\n",
    "| re.M / re.MULTILINE                          | 多行匹配标记                                                                 |"
   ]
  },
  {
   "cell_type": "markdown",
   "metadata": {},
   "source": [
    "方法名称|\t作用\n",
    "--|--\n",
    "group\t|以str形式返回对象中match的元素\n",
    "start\t|返回开始位置\n",
    "end|\t返回结束位置\n",
    "span\t|以tuple形式返回范围\n",
    "\n",
    "这个适合于group的类型 对于findall这种返回list or finditer这种返回迭代器的不适用"
   ]
  },
  {
   "cell_type": "markdown",
   "metadata": {},
   "source": [
    "### 例子1：验证输入用户名和QQ号是否有效并给出对应的提示信息。"
   ]
  },
  {
   "cell_type": "code",
   "execution_count": 1,
   "metadata": {},
   "outputs": [
    {
     "name": "stdout",
     "output_type": "stream",
     "text": [
      "你输入的信息是有效的!\n"
     ]
    }
   ],
   "source": [
    "\"\"\"\n",
    "验证输入用户名和QQ号是否有效并给出对应的提示信息\n",
    "\n",
    "要求：用户名必须由字母、数字或下划线构成且长度在6~20个字符之间，QQ号是5~12的数字且首位不能为0\n",
    "\"\"\"\n",
    "import re\n",
    "\n",
    "\n",
    "def main():\n",
    "    username = input('请输入用户名: ')\n",
    "    qq = input('请输入QQ号: ')\n",
    "    # match函数的第一个参数是正则表达式字符串或正则表达式对象\n",
    "    # 第二个参数是要跟正则表达式做匹配的字符串对象\n",
    "    m1 = re.match(r'^[0-9a-zA-Z_]{6,20}$', username)\n",
    "    if not m1:\n",
    "        print('请输入有效的用户名.')\n",
    "    m2 = re.match(r'^[1-9]\\d{4,11}$', qq)\n",
    "    if not m2:\n",
    "        print('请输入有效的QQ号.')\n",
    "    if m1 and m2:\n",
    "        print('你输入的信息是有效的!')\n",
    "\n",
    "\n",
    "if __name__ == '__main__':\n",
    "    main()"
   ]
  },
  {
   "cell_type": "markdown",
   "metadata": {},
   "source": [
    "### 例子2：从一段文字中提取出国内手机号码。"
   ]
  },
  {
   "cell_type": "markdown",
   "metadata": {},
   "source": [
    "![](../../05.Book%20information/01.Python-100-Days-master/Day01-15/res/tel-start-number.png)"
   ]
  },
  {
   "cell_type": "code",
   "execution_count": 16,
   "metadata": {},
   "outputs": [
    {
     "name": "stdout",
     "output_type": "stream",
     "text": [
      "<class 'list'>\n",
      "_________分割线_________\n",
      "13512346789\n",
      "15600998765\n",
      "15600998765\n",
      "14412345678\n",
      "13512346789\n",
      "15600998765\n",
      "15600998765\n",
      "14412345678\n"
     ]
    }
   ],
   "source": [
    "import re\n",
    "def main():\n",
    "    # 创建正则表达式的规则\n",
    "    pattern = re.compile(r'(?<=\\D)1[34578]\\d{9}(?=\\D)')   # (?<=\\D)匹配的是非数字\n",
    "    # 上面哪个正则表达式的匹配对象是1开头第二位是34578后面是九位数字 且九位数字后面是非数字的\n",
    "    # 这个正则表达式很粗糙 匹配的精细度很差 对于144开头的也会被匹配\n",
    "    sentence = ''' \n",
    "    重要的事情说8130123456789遍，我的手机号是13512346789这个靓号，\n",
    "    不是15600998765，也是110或119，王大锤的手机号才是15600998765。14412345678。 \n",
    "    '''\n",
    "    # 使用findall函数将匹配的结果储存在一个list中\n",
    "    mylist = re.findall(pattern,sentence)\n",
    "    print(type(mylist))\n",
    "    print('_________分割线_________')\n",
    "    for temp in pattern.finditer(sentence):     #finditer()返回匹配对象的迭代器\n",
    "        print(temp.group())\n",
    "\n",
    "    m = pattern.search(sentence)\n",
    "    while m:\n",
    "        print(m.group())\n",
    "        m = pattern.search(sentence,m.end())\n",
    "\n",
    "if __name__ == '__main__':\n",
    "    main()\n"
   ]
  },
  {
   "cell_type": "markdown",
   "metadata": {},
   "source": [
    "### 例子3：替换字符串中的不良内容"
   ]
  },
  {
   "cell_type": "code",
   "execution_count": 19,
   "metadata": {},
   "outputs": [
    {
     "name": "stdout",
     "output_type": "stream",
     "text": [
      "你丫是*吗? 我*你大爷的. * you.\n"
     ]
    }
   ],
   "source": [
    "import re\n",
    "def main():\n",
    "    sentence = '你丫是傻叉吗? 我操你大爷的. Fuck you.'\n",
    "    purified = re.sub('[操肏艹]|fuck|shit|傻[比屄逼叉缺吊屌]|煞笔','*',sentence,flags = re.I)\n",
    "    \n",
    "    print(purified)\n",
    "\n",
    "if __name__ == '__main__':\n",
    "    main()"
   ]
  },
  {
   "cell_type": "markdown",
   "metadata": {},
   "source": [
    "### 例子4：拆分长字符串"
   ]
  },
  {
   "cell_type": "code",
   "execution_count": 24,
   "metadata": {},
   "outputs": [
    {
     "name": "stdout",
     "output_type": "stream",
     "text": [
      "['窗前明月光', '疑是地上霜', '举头望明月', '低头思故乡', '']\n",
      "['窗前明月光', '疑是地上霜', '举头望明月', '低头思故乡']\n"
     ]
    }
   ],
   "source": [
    "import re\n",
    "\n",
    "def main():\n",
    "    poem = '窗前明月光，疑是地上霜。举头望明月，低头思故乡。'\n",
    "    sentence_list = re.split(r'[.，。,]',poem)\n",
    "    print(sentence_list,end='\\n')\n",
    "    while '' in sentence_list:\n",
    "        sentence_list.remove('')\n",
    "        print(sentence_list)\n",
    "\n",
    "if __name__ == '__main__':\n",
    "    main()"
   ]
  },
  {
   "cell_type": "markdown",
   "metadata": {},
   "source": [
    "# day 13 进程和线程"
   ]
  },
  {
   "cell_type": "markdown",
   "metadata": {},
   "source": [
    "### Python中的多进程"
   ]
  },
  {
   "cell_type": "markdown",
   "metadata": {},
   "source": [
    "> Unix和Linux操作系统上提供了 `fork()`系统调用来创建进程，调用 `fork()`函数的是父进程，创建出的是子进程，子进程是父进程的一个拷贝，但是子进程拥有自己的PID。`fork()`函数非常特殊它会返回两次，父进程中可以通过 `fork()`函数的返回值得到子进程的PID，而子进程中的返回值永远都是0。Python的os模块提供了 `fork()`函数。由于Windows系统没有 `fork()`调用，因此要实现跨平台的多进程编程，可以使用multiprocessing模块的 `Process`类来创建子进程，而且该模块还提供了更高级的封装，例如批量启动进程的进程池（`Pool`）、用于进程间通信的队列（`Queue`）和管道（`Pipe`）等。"
   ]
  },
  {
   "cell_type": "markdown",
   "metadata": {},
   "source": [
    "#### 单线程操作"
   ]
  },
  {
   "cell_type": "code",
   "execution_count": 10,
   "metadata": {},
   "outputs": [
    {
     "name": "stdout",
     "output_type": "stream",
     "text": [
      "开始下载python从入门到住院.pdf......\n",
      "python从入门到住院.pdf下载完成！耗时5秒\n",
      "开始下载peking hot.avi......\n",
      "peking hot.avi下载完成！耗时6秒\n",
      "总共耗时11.02\n"
     ]
    }
   ],
   "source": [
    "from random import randint\n",
    "from time import time,sleep\n",
    "\n",
    "def download_task(filename):\n",
    "    print('开始下载%s......'%filename)\n",
    "    time_to_download = randint(5,10)\n",
    "    sleep(time_to_download)\n",
    "    print(f'{filename}下载完成！耗时{time_to_download}秒')\n",
    "\n",
    "def main():\n",
    "    start = time()\n",
    "    download_task('python从入门到住院.pdf')\n",
    "    download_task('peking hot.avi')\n",
    "    end = time()\n",
    "    # print('总共耗时%.2f秒'%(end-start))\n",
    "    print(f'总共耗时{(end-start):.2f}')\n",
    "\n",
    "if __name__ == '__main__':\n",
    "    main()"
   ]
  },
  {
   "cell_type": "markdown",
   "metadata": {},
   "source": [
    "> [f-string函数的使用](https://blog.csdn.net/weixin_41261833/article/details/104130894)"
   ]
  },
  {
   "cell_type": "markdown",
   "metadata": {},
   "source": [
    "#### 多线程操作"
   ]
  },
  {
   "cell_type": "code",
   "execution_count": 76,
   "metadata": {},
   "outputs": [
    {
     "name": "stdout",
     "output_type": "stream",
     "text": [
      "总共耗时0.27秒\n"
     ]
    }
   ],
   "source": [
    "from multiprocessing import Process\n",
    "from os import getpid\n",
    "from random import randint\n",
    "from time import time,sleep\n",
    "\n",
    "def download_task(filename):\n",
    "    print(f'开启下载进程[{getpid()}]')      # getpid()用来取得目前进程的进程识别码，许多程序利用取到的\n",
    "    print(f'开始下载{filename}......')\n",
    "    time_to_download = randint(5,10)\n",
    "    sleep(time_to_download)\n",
    "    print(f'{filename}下载完成！耗时{time_to_download}秒')\n",
    "\n",
    "def main():\n",
    "    start = time()\n",
    "    # args指定的为传给target函数的位置参数，是一个元组形式，必须有逗号\n",
    "    p1 = Process(target=download_task,args=('python从入门到入坟.pdf',))\n",
    "    p1.start()\n",
    "    p2 = Process(target=download_task,args=('peking hot.avi',))\n",
    "    p2.start()\n",
    "    p1.join()\n",
    "    p2.join()\n",
    "    end=time()\n",
    "    print(f'总共耗时{(end-start):.2f}秒')\n",
    "\n",
    "if __name__ == '__main__':\n",
    "    main()"
   ]
  },
  {
   "cell_type": "markdown",
   "metadata": {},
   "source": [
    "> 通过 `Process`类创建了进程对象，通过 `target`参数我们传入一个函数来表示进程启动后要执行的代码，后面的 `args`是一个元组，它代表了传递给函数的参数。`Process`对象的 `start`方法用来启动进程，而 `join`方法表示等待进程执行结束。运行上面的代码可以明显发现两个下载任务“同时”启动了，而且程序的执行时间将大大缩短，不再是两个任务的时间总和。下面是程序的一次执行结果。"
   ]
  },
  {
   "cell_type": "markdown",
   "metadata": {},
   "source": [
    "> process的参数介绍\n",
    "\n",
    "> 1. group参数未使用，值始终为None\n",
    "> 2. target表示调用对象，即子进程要执行的任务\n",
    "> 3. args表示调用对象的位置参数元组，args=(1,2,'egon',)\n",
    "> 4. kwargs表示调用对象的字典,kwargs={'name':'egon','age':18}\n",
    "> 5. name为子进程的名称"
   ]
  },
  {
   "cell_type": "markdown",
   "metadata": {},
   "source": [
    "上面关于process函数的介绍来自[知乎-python之进程process](https://zhuanlan.zhihu.com/p/410731610)"
   ]
  },
  {
   "cell_type": "code",
   "execution_count": 82,
   "metadata": {},
   "outputs": [],
   "source": [
    "from multiprocessing import Process\n",
    "from time import sleep \n",
    "\n",
    "counter = 0\n",
    "def sub_task(string):\n",
    "    global counter\n",
    "    while counter < 10:\n",
    "        print(string,end='',flush = True)\n",
    "        counter +=1\n",
    "        sleep(0.01)\n",
    "\n",
    "def main():\n",
    "    Process(target = sub_task,args=('ping',)).start()\n",
    "    Process(target = sub_task,args=('pong',)).start()\n",
    "\n",
    "if __name__ == '__main__':\n",
    "    __spec__ = \"ModuleSpec(name='builtins', loader=<class '_frozen_importlib.BuiltinImporter'>)\"\n",
    "    main()"
   ]
  },
  {
   "cell_type": "markdown",
   "metadata": {},
   "source": [
    "> 我们启动两个进程，一个输出Ping，一个输出Pong，两个进程输出的Ping和Pong加起来一共10个。\n",
    "> 但是看起来没毛病，但是最后的结果是Ping和Pong各输出了10个，Why？当我们在程序中创建进程的时候，子进程复制了父进程及其所有的数据结构，每个子进程有自己独立的内存空间，这也就意味着两个子进程中各有一个 `counter`变量，所以结果也就可想而知了。"
   ]
  },
  {
   "cell_type": "markdown",
   "metadata": {},
   "source": [
    "#### flush的使用         \n",
    "> `print()` 函数会把内容放到内存中， 内存中的内容并不一定能够及时刷新显示到屏幕中(应该是要满足某个条件，这个条件现在还不清楚)。 使用`flush=True`之后，会在`print`结束之后，不管你有没有达到条件，立即将内存中的东西显示到屏幕上，清空缓存。 "
   ]
  },
  {
   "cell_type": "code",
   "execution_count": 52,
   "metadata": {},
   "outputs": [
    {
     "name": "stdout",
     "output_type": "stream",
     "text": [
      "Loading......"
     ]
    }
   ],
   "source": [
    "import time                                                                           \n",
    "print(\"Loading\",end = \"\")\n",
    "for i in range(6):\n",
    "    print(\".\",end = '',flush = True)\n",
    "    time.sleep(0.5)"
   ]
  },
  {
   "cell_type": "markdown",
   "metadata": {},
   "source": [
    "### Python中的多线程"
   ]
  },
  {
   "cell_type": "markdown",
   "metadata": {},
   "source": [
    "> 在Python早期的版本中就引入了thread模块（现在名为_thread）来实现多线程编程，然而该模块过于底层，而且很多功能都没有提供，因此目前的多线程开发我们推荐使用threading模块，该模块对多线程编程提供了更好的面向对象的封装。我们把刚才下载文件的例子用多线程的方式来实现一遍。"
   ]
  },
  {
   "cell_type": "code",
   "execution_count": 83,
   "metadata": {},
   "outputs": [
    {
     "name": "stdout",
     "output_type": "stream",
     "text": [
      "开始下载python从入门到入坟.pdf...\n",
      "开始下载peking hot.avi...\n",
      "peking hot.avi下载完成，耗时5秒\n",
      "python从入门到入坟.pdf下载完成，耗时6秒\n",
      "总共耗时6.018907\n"
     ]
    }
   ],
   "source": [
    "from random import randint\n",
    "from threading import Thread\n",
    "from time import time, sleep\n",
    "from xml.dom.expatbuilder import theDOMImplementation\n",
    "\n",
    "def download(filename):\n",
    "    print(f'开始下载{filename}...')\n",
    "    time_to_download = randint(5,10)\n",
    "    sleep(time_to_download)\n",
    "    print(f'{filename}下载完成，耗时{time_to_download}秒')\n",
    "\n",
    "def main():\n",
    "    start = time()\n",
    "    t1 = Thread(target=download,args=('python从入门到入坟.pdf',))\n",
    "    t1.start()\n",
    "    t2 = Thread(target=download,args=('peking hot.avi',) )\n",
    "    t2.start()\n",
    "    t1.join()\n",
    "    t2.join()\n",
    "    end=time()\n",
    "    print(f'总共耗时{(end-start):2f}')\n",
    "\n",
    "if __name__ == '__main__':\n",
    "    main()"
   ]
  },
  {
   "cell_type": "markdown",
   "metadata": {},
   "source": [
    "#### 也可以通过继承 `Thread`类的方式来创建自定义的线程类，然后再创建线程对象并启动线程。"
   ]
  },
  {
   "cell_type": "code",
   "execution_count": 84,
   "metadata": {},
   "outputs": [
    {
     "name": "stdout",
     "output_type": "stream",
     "text": [
      "开始下载python编程从入门到入坟.pdf...\n",
      "开始下载peking cold.avi...\n",
      "python编程从入门到入坟.pdf下载完成，耗时5秒\n",
      "peking cold.avi下载完成，耗时7秒\n",
      "总共耗时7.05秒\n"
     ]
    }
   ],
   "source": [
    "from random import randint\n",
    "from threading import Thread\n",
    "from time import time,sleep\n",
    "\n",
    "class Downloadtask(Thread):\n",
    "\n",
    "    def __init__(self,filename):\n",
    "        \"\"\"初始化条件\"\"\"\n",
    "        super().__init__()\n",
    "        self._filename = filename\n",
    "    def run(self):\n",
    "        print(f'开始下载{self._filename}...')\n",
    "        time_to_download = randint(5,10)\n",
    "        sleep(time_to_download)\n",
    "        print(f\"{self._filename}下载完成，耗时{time_to_download}秒\")\n",
    "\n",
    "def main():\n",
    "    start=time()\n",
    "    t1=Downloadtask('python编程从入门到入坟.pdf')   #调用继承thread的子类\n",
    "    t1.start()\n",
    "    t2=Downloadtask('peking cold.avi')\n",
    "    t2.start()\n",
    "    t1.join()\n",
    "    t2.join()\n",
    "    end=time()\n",
    "    print(f'总共耗时{(end-start):.2f}秒')\n",
    "\n",
    "if __name__ == '__main__':\n",
    "    main()"
   ]
  },
  {
   "cell_type": "markdown",
   "metadata": {},
   "source": [
    "#### 多个线程间的通信"
   ]
  },
  {
   "cell_type": "code",
   "execution_count": 86,
   "metadata": {},
   "outputs": [
    {
     "name": "stdout",
     "output_type": "stream",
     "text": [
      "账户余额是2元\n"
     ]
    }
   ],
   "source": [
    "from time import sleep\n",
    "from threading import Thread\n",
    "\n",
    "class Account(object):\n",
    "    def __init__(self):\n",
    "        self._balance = 0\n",
    "\n",
    "    def deposit(self,money):\n",
    "        #计算存款后的余额\n",
    "        new_balance = self._balance +money\n",
    "        # 模拟受理存款业务需要0.01秒的时间\n",
    "        sleep(0.01)\n",
    "        #修改账户余额\n",
    "        self._balance = new_balance\n",
    "\n",
    "    @property   #修饰器 防止被外部调用修改\n",
    "    def balance(self):\n",
    "        return self._balance\n",
    "\n",
    "class AddMoneyThread(Thread):\n",
    "    '''继承Thread的子类'''\n",
    "    def __init__(self,account,money):\n",
    "        super().__init__() \n",
    "        self._account = account\n",
    "        self._money= money\n",
    "\n",
    "    def run(self):\n",
    "        self._account.deposit(self._money)\n",
    "\n",
    "def main():\n",
    "    account = Account()\n",
    "    threads = []\n",
    "    # 创建100个存款的线程向一个账户中存钱\n",
    "    for _ in range(1,100):\n",
    "        t = AddMoneyThread(account,1)\n",
    "        threads.append(t)\n",
    "        t.start()\n",
    "    #等所以存款的线程都处理完毕\n",
    "    for t in threads:\n",
    "        t.join()\n",
    "    print(f'账户余额是{account.balance}元')\n",
    "\n",
    "if __name__ == '__main__':\n",
    "    main()"
   ]
  },
  {
   "cell_type": "markdown",
   "metadata": {},
   "source": [
    "> 运行上面的程序，结果让人大跌眼镜，100个线程分别向账户中转入1元钱，结果居然远远小于100元。之所以出现这种情况是因为我们没有对银行账户这个“临界资源”加以保护，多个线程同时向账户中存钱时，会一起执行到 `new_balance = self._balance + money`这行代码，多个线程得到的账户余额都是初始状态下的 `0`，所以都是 `0`上面做了+1的操作，因此得到了错误的结果"
   ]
  },
  {
   "cell_type": "markdown",
   "metadata": {},
   "source": [
    "> 在这种情况下，“锁”就可以派上用场了。我们可以通过“锁”来保护“临界资源”，只有获得“锁”的线程才能访问“临界资源”，而其他没有得到“锁”的线程只能被阻塞起来，直到获得“锁”的线程释放了“锁”，其他线程才有机会获得“锁”，进而访问被保护的“临界资源”。"
   ]
  },
  {
   "cell_type": "code",
   "execution_count": 93,
   "metadata": {},
   "outputs": [
    {
     "name": "stdout",
     "output_type": "stream",
     "text": [
      "账户余额为100元\n"
     ]
    }
   ],
   "source": [
    "from time import sleep\n",
    "from threading import Thread,Lock\n",
    "\n",
    "class Account(object):\n",
    "    def __init__(self):\n",
    "        self._balance = 0\n",
    "        self._lock = Lock()\n",
    "    \n",
    "    def deposit(self,money):\n",
    "        # 先获得锁才能执行后续代码\n",
    "        self._lock.acquire()\n",
    "        try:\n",
    "            new_balance = self._balance + money\n",
    "            sleep(0.01)\n",
    "            self._balance = new_balance\n",
    "        finally:\n",
    "            #在finally中执行释放锁的操作保证正常异常锁都能释放\n",
    "            self._lock.release()\n",
    "    \n",
    "    @property\n",
    "    def balance(self):\n",
    "        return self._balance\n",
    "\n",
    "class AddMoneyThread(Thread):\n",
    "    def __init__(self,account,money):\n",
    "        super().__init__()\n",
    "        self._account = account\n",
    "        self._money = money\n",
    "    \n",
    "    def run(self):\n",
    "        self._account.deposit(self._money)\n",
    "\n",
    "def main():\n",
    "    account = Account()\n",
    "    threads = []\n",
    "    for _ in range(100):\n",
    "        t = AddMoneyThread(account,1)\n",
    "        threads.append(t)\n",
    "        t.start()\n",
    "    for t in threads:\n",
    "        t.join()    # 确保所有的线程都执行完毕——\n",
    "    print(f'账户余额为{account.balance}元')\n",
    "\n",
    "if __name__ == '__main__':\n",
    "    main()"
   ]
  },
  {
   "cell_type": "markdown",
   "metadata": {},
   "source": [
    "#### 例子1：将耗时间的任务放到线程中以获得更好的用户体验。"
   ]
  },
  {
   "cell_type": "markdown",
   "metadata": {},
   "source": [
    "> [关于tkinter的用法](https://blog.csdn.net/weixin_38603360/article/details/82218639)\n",
    "> [Python GUI编程 -- 内置Tkinter库快速上手](https://www.jianshu.com/p/c21bb3a2e3a1)"
   ]
  },
  {
   "cell_type": "code",
   "execution_count": 106,
   "metadata": {},
   "outputs": [],
   "source": [
    "import time \n",
    "import tkinter, tkinter.messagebox\n",
    "\n",
    "def download():\n",
    "    # 模拟下载任务需要花费10s\n",
    "    time.sleep(10)\n",
    "    tkinter.messagebox.showinfo('提示','下载完成')\n",
    "\n",
    "def show_about():\n",
    "    tkinter.messagebox.showinfo('关于','author')\n",
    "\n",
    "def main():\n",
    "    top = tkinter.Tk()\n",
    "    top.title('单线程')\n",
    "    top.geometry('200x150')\n",
    "    top.wm_attributes('-topmost',True)\n",
    "\n",
    "    panel = tkinter.Frame(top)\n",
    "    button1 = tkinter.Button(panel,text = '下载',command=download)\n",
    "    button1.pack(side='left')\n",
    "    button2 = tkinter.Button(panel,text='关于',command=show_about)\n",
    "    button2.pack(side='right')\n",
    "    panel.pack(side='bottom')\n",
    "\n",
    "    tkinter.mainloop()\n",
    "\n",
    "if __name__ == '__main__':\n",
    "    main()\n"
   ]
  },
  {
   "cell_type": "markdown",
   "metadata": {},
   "source": [
    "> 用休眠的方式模拟点击“下载”按钮会联网下载文件需要耗费10秒的时间，如果不使用“多线程”，我们会发现，当点击“下载”按钮后整个程序的其他部分都被这个耗时间的任务阻塞而无法执行了，这显然是非常糟糕的用户体验，代码如下所示。"
   ]
  },
  {
   "cell_type": "code",
   "execution_count": 108,
   "metadata": {},
   "outputs": [],
   "source": [
    "import time\n",
    "import tkinter, tkinter.messagebox\n",
    "from threading import Thread\n",
    "\n",
    "def main():\n",
    "    class DownloadTaskHandler(Thread):\n",
    "        def run(self):\n",
    "            time.sleep(10)\n",
    "            tkinter.messagebox.showinfo('提示','下载完成')\n",
    "            # 启用下载按钮\n",
    "            button1.config(state = tkinter.NORMAL)\n",
    "    \n",
    "    def download():\n",
    "        #禁用下载按钮\n",
    "        button1.config(state=tkinter.DISABLED)\n",
    "        # 通过daemon参数将线程设置为守护线程(主程序退出久不再保留执行)\n",
    "        # 在线程中处理耗时的下载任务\n",
    "        DownloadTaskHandler(daemon=True).start()\n",
    "\n",
    "    def show_about():\n",
    "        tkinter.messagebox.showinfo('关于','author')\n",
    "\n",
    "    top = tkinter.Tk()\n",
    "    top.title('单线程')\n",
    "    top.geometry('200x150')\n",
    "    top.wm_attributes('-topmost',1)     # window.wm_attributes('-topmost',1) 顶置窗口\n",
    "\n",
    "    panel = tkinter.Frame(top)\n",
    "    button1 = tkinter.Button(panel,text='下载',command=download)\n",
    "    button1.pack(side='left')\n",
    "    button2 = tkinter.Button(panel,text='关于',command=show_about)\n",
    "    button2.pack(side='right')\n",
    "    panel.pack(side='bottom')\n",
    "\n",
    "    tkinter.mainloop()\n",
    "\n",
    "if __name__=='__main__':\n",
    "    main()"
   ]
  },
  {
   "cell_type": "markdown",
   "metadata": {},
   "source": [
    "> 使用多线程将耗时间的任务放到一个独立的线程中执行，这样就不会因为执行耗时间的任务而阻塞了主线程"
   ]
  },
  {
   "cell_type": "markdown",
   "metadata": {},
   "source": [
    "#### 例子2：使用多进程对复杂任务进行“分而治之”。"
   ]
  },
  {
   "cell_type": "markdown",
   "metadata": {},
   "source": [
    "> 完成1~1000000求和的计算密集型任务"
   ]
  },
  {
   "cell_type": "code",
   "execution_count": 113,
   "metadata": {},
   "outputs": [
    {
     "name": "stdout",
     "output_type": "stream",
     "text": [
      "50000005000000\n",
      "计算耗时1.063155秒\n"
     ]
    }
   ],
   "source": [
    "'''单线程计算'''\n",
    "from time import time\n",
    "\n",
    "def main():\n",
    "    totle = 0\n",
    "    number_list = [x for x in range(1,10000001)]\n",
    "    start = time()\n",
    "    for number in number_list:\n",
    "        totle  += number\n",
    "    print(totle)\n",
    "    end = time()\n",
    "    print(f'计算耗时{(end-start):3f}秒')\n",
    "\n",
    "if __name__ == '__main__':\n",
    "    main()"
   ]
  },
  {
   "cell_type": "markdown",
   "metadata": {},
   "source": [
    "> [Python Queue模块](https://zhuanlan.zhihu.com/p/208997626)"
   ]
  },
  {
   "cell_type": "code",
   "execution_count": 123,
   "metadata": {},
   "outputs": [
    {
     "ename": "BrokenPipeError",
     "evalue": "[Errno 32] Broken pipe",
     "output_type": "error",
     "traceback": [
      "\u001b[1;31m---------------------------------------------------------------------------\u001b[0m",
      "\u001b[1;31mBrokenPipeError\u001b[0m                           Traceback (most recent call last)",
      "\u001b[1;32m~\\AppData\\Local\\Temp\\ipykernel_9476\\626783251.py\u001b[0m in \u001b[0;36m<module>\u001b[1;34m\u001b[0m\n\u001b[0;32m     35\u001b[0m \u001b[1;33m\u001b[0m\u001b[0m\n\u001b[0;32m     36\u001b[0m \u001b[1;32mif\u001b[0m \u001b[0m__name__\u001b[0m \u001b[1;33m==\u001b[0m \u001b[1;34m'__main__'\u001b[0m\u001b[1;33m:\u001b[0m\u001b[1;33m\u001b[0m\u001b[1;33m\u001b[0m\u001b[0m\n\u001b[1;32m---> 37\u001b[1;33m     \u001b[0mmain\u001b[0m\u001b[1;33m(\u001b[0m\u001b[1;33m)\u001b[0m\u001b[1;33m\u001b[0m\u001b[1;33m\u001b[0m\u001b[0m\n\u001b[0m",
      "\u001b[1;32m~\\AppData\\Local\\Temp\\ipykernel_9476\\626783251.py\u001b[0m in \u001b[0;36mmain\u001b[1;34m()\u001b[0m\n\u001b[0;32m     21\u001b[0m         \u001b[0mindex\u001b[0m \u001b[1;33m+=\u001b[0m \u001b[1;36m1250000\u001b[0m\u001b[1;33m\u001b[0m\u001b[1;33m\u001b[0m\u001b[0m\n\u001b[0;32m     22\u001b[0m         \u001b[0mprocesses\u001b[0m\u001b[1;33m.\u001b[0m\u001b[0mappend\u001b[0m\u001b[1;33m(\u001b[0m\u001b[0mp\u001b[0m\u001b[1;33m)\u001b[0m\u001b[1;33m\u001b[0m\u001b[1;33m\u001b[0m\u001b[0m\n\u001b[1;32m---> 23\u001b[1;33m         \u001b[0mp\u001b[0m\u001b[1;33m.\u001b[0m\u001b[0mstart\u001b[0m\u001b[1;33m(\u001b[0m\u001b[1;33m)\u001b[0m\u001b[1;33m\u001b[0m\u001b[1;33m\u001b[0m\u001b[0m\n\u001b[0m\u001b[0;32m     24\u001b[0m     \u001b[1;31m# 开始记录所有的进程并计算完成计算要花费的时间\u001b[0m\u001b[1;33m\u001b[0m\u001b[1;33m\u001b[0m\u001b[1;33m\u001b[0m\u001b[0m\n\u001b[0;32m     25\u001b[0m     \u001b[0mstart\u001b[0m\u001b[1;33m=\u001b[0m\u001b[0mtime\u001b[0m\u001b[1;33m(\u001b[0m\u001b[1;33m)\u001b[0m\u001b[1;33m\u001b[0m\u001b[1;33m\u001b[0m\u001b[0m\n",
      "\u001b[1;32md:\\Miniconda\\lib\\multiprocessing\\process.py\u001b[0m in \u001b[0;36mstart\u001b[1;34m(self)\u001b[0m\n\u001b[0;32m    110\u001b[0m                \u001b[1;34m'daemonic processes are not allowed to have children'\u001b[0m\u001b[1;33m\u001b[0m\u001b[1;33m\u001b[0m\u001b[0m\n\u001b[0;32m    111\u001b[0m         \u001b[0m_cleanup\u001b[0m\u001b[1;33m(\u001b[0m\u001b[1;33m)\u001b[0m\u001b[1;33m\u001b[0m\u001b[1;33m\u001b[0m\u001b[0m\n\u001b[1;32m--> 112\u001b[1;33m         \u001b[0mself\u001b[0m\u001b[1;33m.\u001b[0m\u001b[0m_popen\u001b[0m \u001b[1;33m=\u001b[0m \u001b[0mself\u001b[0m\u001b[1;33m.\u001b[0m\u001b[0m_Popen\u001b[0m\u001b[1;33m(\u001b[0m\u001b[0mself\u001b[0m\u001b[1;33m)\u001b[0m\u001b[1;33m\u001b[0m\u001b[1;33m\u001b[0m\u001b[0m\n\u001b[0m\u001b[0;32m    113\u001b[0m         \u001b[0mself\u001b[0m\u001b[1;33m.\u001b[0m\u001b[0m_sentinel\u001b[0m \u001b[1;33m=\u001b[0m \u001b[0mself\u001b[0m\u001b[1;33m.\u001b[0m\u001b[0m_popen\u001b[0m\u001b[1;33m.\u001b[0m\u001b[0msentinel\u001b[0m\u001b[1;33m\u001b[0m\u001b[1;33m\u001b[0m\u001b[0m\n\u001b[0;32m    114\u001b[0m         \u001b[1;31m# Avoid a refcycle if the target function holds an indirect\u001b[0m\u001b[1;33m\u001b[0m\u001b[1;33m\u001b[0m\u001b[1;33m\u001b[0m\u001b[0m\n",
      "\u001b[1;32md:\\Miniconda\\lib\\multiprocessing\\context.py\u001b[0m in \u001b[0;36m_Popen\u001b[1;34m(process_obj)\u001b[0m\n\u001b[0;32m    221\u001b[0m     \u001b[1;33m@\u001b[0m\u001b[0mstaticmethod\u001b[0m\u001b[1;33m\u001b[0m\u001b[1;33m\u001b[0m\u001b[0m\n\u001b[0;32m    222\u001b[0m     \u001b[1;32mdef\u001b[0m \u001b[0m_Popen\u001b[0m\u001b[1;33m(\u001b[0m\u001b[0mprocess_obj\u001b[0m\u001b[1;33m)\u001b[0m\u001b[1;33m:\u001b[0m\u001b[1;33m\u001b[0m\u001b[1;33m\u001b[0m\u001b[0m\n\u001b[1;32m--> 223\u001b[1;33m         \u001b[1;32mreturn\u001b[0m \u001b[0m_default_context\u001b[0m\u001b[1;33m.\u001b[0m\u001b[0mget_context\u001b[0m\u001b[1;33m(\u001b[0m\u001b[1;33m)\u001b[0m\u001b[1;33m.\u001b[0m\u001b[0mProcess\u001b[0m\u001b[1;33m.\u001b[0m\u001b[0m_Popen\u001b[0m\u001b[1;33m(\u001b[0m\u001b[0mprocess_obj\u001b[0m\u001b[1;33m)\u001b[0m\u001b[1;33m\u001b[0m\u001b[1;33m\u001b[0m\u001b[0m\n\u001b[0m\u001b[0;32m    224\u001b[0m \u001b[1;33m\u001b[0m\u001b[0m\n\u001b[0;32m    225\u001b[0m \u001b[1;32mclass\u001b[0m \u001b[0mDefaultContext\u001b[0m\u001b[1;33m(\u001b[0m\u001b[0mBaseContext\u001b[0m\u001b[1;33m)\u001b[0m\u001b[1;33m:\u001b[0m\u001b[1;33m\u001b[0m\u001b[1;33m\u001b[0m\u001b[0m\n",
      "\u001b[1;32md:\\Miniconda\\lib\\multiprocessing\\context.py\u001b[0m in \u001b[0;36m_Popen\u001b[1;34m(process_obj)\u001b[0m\n\u001b[0;32m    320\u001b[0m         \u001b[1;32mdef\u001b[0m \u001b[0m_Popen\u001b[0m\u001b[1;33m(\u001b[0m\u001b[0mprocess_obj\u001b[0m\u001b[1;33m)\u001b[0m\u001b[1;33m:\u001b[0m\u001b[1;33m\u001b[0m\u001b[1;33m\u001b[0m\u001b[0m\n\u001b[0;32m    321\u001b[0m             \u001b[1;32mfrom\u001b[0m \u001b[1;33m.\u001b[0m\u001b[0mpopen_spawn_win32\u001b[0m \u001b[1;32mimport\u001b[0m \u001b[0mPopen\u001b[0m\u001b[1;33m\u001b[0m\u001b[1;33m\u001b[0m\u001b[0m\n\u001b[1;32m--> 322\u001b[1;33m             \u001b[1;32mreturn\u001b[0m \u001b[0mPopen\u001b[0m\u001b[1;33m(\u001b[0m\u001b[0mprocess_obj\u001b[0m\u001b[1;33m)\u001b[0m\u001b[1;33m\u001b[0m\u001b[1;33m\u001b[0m\u001b[0m\n\u001b[0m\u001b[0;32m    323\u001b[0m \u001b[1;33m\u001b[0m\u001b[0m\n\u001b[0;32m    324\u001b[0m     \u001b[1;32mclass\u001b[0m \u001b[0mSpawnContext\u001b[0m\u001b[1;33m(\u001b[0m\u001b[0mBaseContext\u001b[0m\u001b[1;33m)\u001b[0m\u001b[1;33m:\u001b[0m\u001b[1;33m\u001b[0m\u001b[1;33m\u001b[0m\u001b[0m\n",
      "\u001b[1;32md:\\Miniconda\\lib\\multiprocessing\\popen_spawn_win32.py\u001b[0m in \u001b[0;36m__init__\u001b[1;34m(self, process_obj)\u001b[0m\n\u001b[0;32m     87\u001b[0m             \u001b[1;32mtry\u001b[0m\u001b[1;33m:\u001b[0m\u001b[1;33m\u001b[0m\u001b[1;33m\u001b[0m\u001b[0m\n\u001b[0;32m     88\u001b[0m                 \u001b[0mreduction\u001b[0m\u001b[1;33m.\u001b[0m\u001b[0mdump\u001b[0m\u001b[1;33m(\u001b[0m\u001b[0mprep_data\u001b[0m\u001b[1;33m,\u001b[0m \u001b[0mto_child\u001b[0m\u001b[1;33m)\u001b[0m\u001b[1;33m\u001b[0m\u001b[1;33m\u001b[0m\u001b[0m\n\u001b[1;32m---> 89\u001b[1;33m                 \u001b[0mreduction\u001b[0m\u001b[1;33m.\u001b[0m\u001b[0mdump\u001b[0m\u001b[1;33m(\u001b[0m\u001b[0mprocess_obj\u001b[0m\u001b[1;33m,\u001b[0m \u001b[0mto_child\u001b[0m\u001b[1;33m)\u001b[0m\u001b[1;33m\u001b[0m\u001b[1;33m\u001b[0m\u001b[0m\n\u001b[0m\u001b[0;32m     90\u001b[0m             \u001b[1;32mfinally\u001b[0m\u001b[1;33m:\u001b[0m\u001b[1;33m\u001b[0m\u001b[1;33m\u001b[0m\u001b[0m\n\u001b[0;32m     91\u001b[0m                 \u001b[0mset_spawning_popen\u001b[0m\u001b[1;33m(\u001b[0m\u001b[1;32mNone\u001b[0m\u001b[1;33m)\u001b[0m\u001b[1;33m\u001b[0m\u001b[1;33m\u001b[0m\u001b[0m\n",
      "\u001b[1;32md:\\Miniconda\\lib\\multiprocessing\\reduction.py\u001b[0m in \u001b[0;36mdump\u001b[1;34m(obj, file, protocol)\u001b[0m\n\u001b[0;32m     58\u001b[0m \u001b[1;32mdef\u001b[0m \u001b[0mdump\u001b[0m\u001b[1;33m(\u001b[0m\u001b[0mobj\u001b[0m\u001b[1;33m,\u001b[0m \u001b[0mfile\u001b[0m\u001b[1;33m,\u001b[0m \u001b[0mprotocol\u001b[0m\u001b[1;33m=\u001b[0m\u001b[1;32mNone\u001b[0m\u001b[1;33m)\u001b[0m\u001b[1;33m:\u001b[0m\u001b[1;33m\u001b[0m\u001b[1;33m\u001b[0m\u001b[0m\n\u001b[0;32m     59\u001b[0m     \u001b[1;34m'''Replacement for pickle.dump() using ForkingPickler.'''\u001b[0m\u001b[1;33m\u001b[0m\u001b[1;33m\u001b[0m\u001b[0m\n\u001b[1;32m---> 60\u001b[1;33m     \u001b[0mForkingPickler\u001b[0m\u001b[1;33m(\u001b[0m\u001b[0mfile\u001b[0m\u001b[1;33m,\u001b[0m \u001b[0mprotocol\u001b[0m\u001b[1;33m)\u001b[0m\u001b[1;33m.\u001b[0m\u001b[0mdump\u001b[0m\u001b[1;33m(\u001b[0m\u001b[0mobj\u001b[0m\u001b[1;33m)\u001b[0m\u001b[1;33m\u001b[0m\u001b[1;33m\u001b[0m\u001b[0m\n\u001b[0m\u001b[0;32m     61\u001b[0m \u001b[1;33m\u001b[0m\u001b[0m\n\u001b[0;32m     62\u001b[0m \u001b[1;31m#\u001b[0m\u001b[1;33m\u001b[0m\u001b[1;33m\u001b[0m\u001b[1;33m\u001b[0m\u001b[0m\n",
      "\u001b[1;31mBrokenPipeError\u001b[0m: [Errno 32] Broken pipe"
     ]
    }
   ],
   "source": [
    "'''多线程'''\n",
    "from multiprocessing import Process,Queue      # Queue队列记录每个进程\n",
    "from random import randint\n",
    "from time import time\n",
    "\n",
    "def task_handler(curr_list,result_queue):\n",
    "    total = 0\n",
    "    for number in curr_list:\n",
    "        total += number\n",
    "    result_queue.put(total) #.put()将total放入队列中。\n",
    "\n",
    "def main():\n",
    "    processes = []\n",
    "    number_list = [x for x in range(1,10000001)]\n",
    "    result_queue = Queue()\n",
    "    index = 0\n",
    "    #启动8个进程将数据切片后进行计算\n",
    "    for _ in range(8):\n",
    "        p = Process(target = task_handler,\n",
    "                    args=(number_list[index:index + 1250000],result_queue))\n",
    "        index += 1250000\n",
    "        processes.append(p)\n",
    "        p.start()\n",
    "    # 开始记录所有的进程并计算完成计算要花费的时间\n",
    "    start=time()\n",
    "    for p in processes:\n",
    "        p.join()\n",
    "    #合并执行的结果\n",
    "    total = 0   \n",
    "    while not result_queue.empty(): # Queue.empty()若是队列为空，返回True，反之False \n",
    "        total += result_queue.get() #.get() 从队列中移除并返回一个数据\n",
    "    print(total)\n",
    "    end = time()\n",
    "    print(f'计算耗时{(end-start):3f}秒')\n",
    "\n",
    "if __name__ == '__main__':\n",
    "    main()"
   ]
  },
  {
   "cell_type": "markdown",
   "metadata": {},
   "source": [
    "# day 14 网络编程入门和网络应用开发`这节我是真的没有学明白`"
   ]
  },
  {
   "cell_type": "markdown",
   "metadata": {},
   "source": [
    "### 基于HTTP协议的网络资源访问"
   ]
  },
  {
   "cell_type": "markdown",
   "metadata": {},
   "source": [
    "#### requests的使用"
   ]
  },
  {
   "cell_type": "code",
   "execution_count": 130,
   "metadata": {},
   "outputs": [
    {
     "ename": "KeyError",
     "evalue": "'newlist'",
     "output_type": "error",
     "traceback": [
      "\u001b[1;31m---------------------------------------------------------------------------\u001b[0m",
      "\u001b[1;31mKeyError\u001b[0m                                  Traceback (most recent call last)",
      "\u001b[1;32m~\\AppData\\Local\\Temp\\ipykernel_9476\\901641563.py\u001b[0m in \u001b[0;36m<module>\u001b[1;34m\u001b[0m\n\u001b[0;32m     32\u001b[0m \u001b[1;33m\u001b[0m\u001b[0m\n\u001b[0;32m     33\u001b[0m \u001b[1;32mif\u001b[0m \u001b[0m__name__\u001b[0m \u001b[1;33m==\u001b[0m \u001b[1;34m'__main__'\u001b[0m\u001b[1;33m:\u001b[0m\u001b[1;33m\u001b[0m\u001b[1;33m\u001b[0m\u001b[0m\n\u001b[1;32m---> 34\u001b[1;33m     \u001b[0mmain\u001b[0m\u001b[1;33m(\u001b[0m\u001b[1;33m)\u001b[0m\u001b[1;33m\u001b[0m\u001b[1;33m\u001b[0m\u001b[0m\n\u001b[0m",
      "\u001b[1;32m~\\AppData\\Local\\Temp\\ipykernel_9476\\901641563.py\u001b[0m in \u001b[0;36mmain\u001b[1;34m()\u001b[0m\n\u001b[0;32m     26\u001b[0m     \u001b[1;31m# 将获取的json格式的数据解析为dict\u001b[0m\u001b[1;33m\u001b[0m\u001b[1;33m\u001b[0m\u001b[1;33m\u001b[0m\u001b[0m\n\u001b[0;32m     27\u001b[0m     \u001b[0mdata_model\u001b[0m \u001b[1;33m=\u001b[0m \u001b[0mresp\u001b[0m\u001b[1;33m.\u001b[0m\u001b[0mjson\u001b[0m\u001b[1;33m(\u001b[0m\u001b[1;33m)\u001b[0m\u001b[1;33m\u001b[0m\u001b[1;33m\u001b[0m\u001b[0m\n\u001b[1;32m---> 28\u001b[1;33m     \u001b[1;32mfor\u001b[0m \u001b[0mmm_dict\u001b[0m \u001b[1;32min\u001b[0m \u001b[0mdata_model\u001b[0m\u001b[1;33m[\u001b[0m\u001b[1;34m'newlist'\u001b[0m\u001b[1;33m]\u001b[0m\u001b[1;33m:\u001b[0m\u001b[1;33m\u001b[0m\u001b[1;33m\u001b[0m\u001b[0m\n\u001b[0m\u001b[0;32m     29\u001b[0m         \u001b[0murl\u001b[0m \u001b[1;33m=\u001b[0m \u001b[0mmm_dict\u001b[0m\u001b[1;33m[\u001b[0m\u001b[1;34m'prcUrl'\u001b[0m\u001b[1;33m]\u001b[0m\u001b[1;33m\u001b[0m\u001b[1;33m\u001b[0m\u001b[0m\n\u001b[0;32m     30\u001b[0m         \u001b[1;31m#通过多线程的方式下载图片\u001b[0m\u001b[1;33m\u001b[0m\u001b[1;33m\u001b[0m\u001b[1;33m\u001b[0m\u001b[0m\n",
      "\u001b[1;31mKeyError\u001b[0m: 'newlist'"
     ]
    }
   ],
   "source": [
    "'''网址已经更改代码不再适用'''\n",
    "from time import time \n",
    "from threading import Thread\n",
    "\n",
    "import requests\n",
    "\n",
    "#继承Thread类创建自定义的线程类\n",
    "class DownloadHandler(Thread):\n",
    "\n",
    "    def __init__(self,url):\n",
    "        super().__init__()\n",
    "        self._url = url\n",
    "\n",
    "    def run(self):\n",
    "        filename = self._url[self.url.rfind('/')+1]\n",
    "        resp = requests.get(self._url)\n",
    "        with open('.'+filename , 'wb') as f:\n",
    "            f.write(resp.content)\n",
    "\n",
    "def main():\n",
    "    # 通过requests模块的get方法获取whloziy\n",
    "    # 下面的代码使用了天行数据接口提供的API\n",
    "    # 使用天行数据提供的数据接口需要在天行数据的网站上注册\n",
    "    # 之后使用自己的key替换到代码中的APIkey即可\n",
    "    resp = requests.get(\n",
    "        'http://api.tianapi.com/meinv/?key=APIKey&num=10')\n",
    "    # 将获取的json格式的数据解析为dict\n",
    "    data_model = resp.json()\n",
    "    for mm_dict in data_model['code']:\n",
    "        url = mm_dict['prcUrl']\n",
    "        #通过多线程的方式下载图片\n",
    "        DownloadHandler(url).start()\n",
    "\n",
    "if __name__ == '__main__':\n",
    "    main()"
   ]
  },
  {
   "cell_type": "markdown",
   "metadata": {},
   "source": [
    "### 基于传输层协议的套接字编程"
   ]
  },
  {
   "cell_type": "markdown",
   "metadata": {},
   "source": [
    "#### TCP套接字"
   ]
  },
  {
   "cell_type": "code",
   "execution_count": 141,
   "metadata": {},
   "outputs": [
    {
     "name": "stdout",
     "output_type": "stream",
     "text": [
      "服务器启动开始监听\n"
     ]
    },
    {
     "ename": "",
     "evalue": "",
     "output_type": "error",
     "traceback": [
      "\u001b[1;31mFailed to interrupt the Kernel. \n",
      "\u001b[1;31mUnable to start Kernel 'base (Python 3.7.13)' due to connection timeout. \n",
      "\u001b[1;31mView Jupyter <a href='command:jupyter.viewOutput'>log</a> for further details."
     ]
    }
   ],
   "source": [
    "from socket import socket,SOCK_STREAM,AF_INET\n",
    "from datetime import date, datetime\n",
    "\n",
    "def main():\n",
    "    # 1.创建套接字对象并且指定使用那种传输服务 \n",
    "    # family = AF_INET -IPv4地址\n",
    "    # family = AF_INET6 -IPv6地址\n",
    "    # type = SOCK_STREAM -TCP套接字\n",
    "    # type = SOCK_DGRAM  -UDP套接字\n",
    "    # type = SOCK_RAW - 原始套接字\n",
    "    server = socket(family=AF_INET,type=SOCK_STREAM)\n",
    "    # 2.绑定IP地址和端口(端口用于区分不同的服务)\n",
    "    # 同一时间再同一个端口上是能绑定一个服务否则报错    \n",
    "    server.bind(('',80))\n",
    "    # 3.开启监听-监听客户端链接到服务器\n",
    "    # 参数512可以认为是连接队列的大小\n",
    "    server.listen(512)\n",
    "    print('服务器启动开始监听')\n",
    "    while True:\n",
    "        # 4.通过循环接收客服端的连接并作出相应的处理(提供服务)\n",
    "        # accept方法是一个阻塞方法 如果没有客户端连接到服务器代码不会向下执行\n",
    "        # accept方法返回一个元组其中的第一个元素是客户端dvxl\n",
    "        # 第二个元素是连接到服务器返回到客户端的地址(由IP和端口两部分构成)\n",
    "        client,addr = server.accept()\n",
    "        print(str(addr)+'连接到了服务器')\n",
    "        # 5.发送数据\n",
    "        client.send(str(datetime.now()).encode('utf-8'))\n",
    "        # 6.断开连接\n",
    "        client.close()\n",
    "\n",
    "if __name__ ==\"__main__\":\n",
    "    main()"
   ]
  },
  {
   "cell_type": "markdown",
   "metadata": {},
   "source": [
    "#### 也可以通过Python的程序来实现TCP客户端的功能，相较于实现服务器程序，实现客户端程序就简单多了，"
   ]
  },
  {
   "cell_type": "code",
   "execution_count": 11,
   "metadata": {},
   "outputs": [
    {
     "ename": "OSError",
     "evalue": "[WinError 10049] 在其上下文中，该请求的地址无效。",
     "output_type": "error",
     "traceback": [
      "\u001b[1;31m---------------------------------------------------------------------------\u001b[0m",
      "\u001b[1;31mOSError\u001b[0m                                   Traceback (most recent call last)",
      "\u001b[1;32m~\\AppData\\Local\\Temp\\ipykernel_19600\\1831600832.py\u001b[0m in \u001b[0;36m<module>\u001b[1;34m\u001b[0m\n\u001b[0;32m     13\u001b[0m \u001b[1;33m\u001b[0m\u001b[0m\n\u001b[0;32m     14\u001b[0m \u001b[1;32mif\u001b[0m \u001b[0m__name__\u001b[0m \u001b[1;33m==\u001b[0m \u001b[1;34m'__main__'\u001b[0m\u001b[1;33m:\u001b[0m\u001b[1;33m\u001b[0m\u001b[1;33m\u001b[0m\u001b[0m\n\u001b[1;32m---> 15\u001b[1;33m     \u001b[0mmain\u001b[0m\u001b[1;33m(\u001b[0m\u001b[1;33m)\u001b[0m\u001b[1;33m\u001b[0m\u001b[1;33m\u001b[0m\u001b[0m\n\u001b[0m",
      "\u001b[1;32m~\\AppData\\Local\\Temp\\ipykernel_19600\\1831600832.py\u001b[0m in \u001b[0;36mmain\u001b[1;34m()\u001b[0m\n\u001b[0;32m      6\u001b[0m     \u001b[0mclient\u001b[0m \u001b[1;33m=\u001b[0m \u001b[0msocket\u001b[0m\u001b[1;33m(\u001b[0m\u001b[1;33m)\u001b[0m\u001b[1;33m\u001b[0m\u001b[1;33m\u001b[0m\u001b[0m\n\u001b[0;32m      7\u001b[0m     \u001b[1;31m# 2.连接到服务器(需要指定IP地址和端口)\u001b[0m\u001b[1;33m\u001b[0m\u001b[1;33m\u001b[0m\u001b[1;33m\u001b[0m\u001b[0m\n\u001b[1;32m----> 8\u001b[1;33m     \u001b[0mclient\u001b[0m\u001b[1;33m.\u001b[0m\u001b[0mconnect\u001b[0m\u001b[1;33m(\u001b[0m\u001b[1;33m(\u001b[0m\u001b[1;34m''\u001b[0m\u001b[1;33m,\u001b[0m\u001b[1;36m80\u001b[0m\u001b[1;33m)\u001b[0m\u001b[1;33m)\u001b[0m\u001b[1;33m\u001b[0m\u001b[1;33m\u001b[0m\u001b[0m\n\u001b[0m\u001b[0;32m      9\u001b[0m     \u001b[1;31m# 3.从服务器接收数据\u001b[0m\u001b[1;33m\u001b[0m\u001b[1;33m\u001b[0m\u001b[1;33m\u001b[0m\u001b[0m\n\u001b[0;32m     10\u001b[0m     \u001b[0mprint\u001b[0m\u001b[1;33m(\u001b[0m\u001b[0mclient\u001b[0m\u001b[1;33m.\u001b[0m\u001b[0mrecv\u001b[0m\u001b[1;33m(\u001b[0m\u001b[1;36m1024\u001b[0m\u001b[1;33m)\u001b[0m\u001b[1;33m.\u001b[0m\u001b[0mdecode\u001b[0m\u001b[1;33m(\u001b[0m\u001b[1;34m'utf-8'\u001b[0m\u001b[1;33m)\u001b[0m\u001b[1;33m)\u001b[0m\u001b[1;33m\u001b[0m\u001b[1;33m\u001b[0m\u001b[0m\n",
      "\u001b[1;31mOSError\u001b[0m: [WinError 10049] 在其上下文中，该请求的地址无效。"
     ]
    }
   ],
   "source": [
    "from socket import socket\n",
    "\n",
    "\n",
    "def main():\n",
    "    # 1.创建套接字对象默认使用IPv4和TCP协议\n",
    "    client = socket()\n",
    "    # 2.连接到服务器(需要指定IP地址和端口)\n",
    "    client.connect(('',80))\n",
    "    # 3.从服务器接收数据\n",
    "    print(client.recv(1024).decode('utf-8'))\n",
    "    client.close()\n",
    "\n",
    "\n",
    "if __name__ == '__main__':\n",
    "    main()"
   ]
  },
  {
   "cell_type": "markdown",
   "metadata": {},
   "source": [
    "#### 使用多线程技术处理多个用户请求的服务器，该服务器会向连接到服务器的客户端发送一张图片。"
   ]
  },
  {
   "cell_type": "code",
   "execution_count": 13,
   "metadata": {},
   "outputs": [
    {
     "ename": "gaierror",
     "evalue": "[Errno 11001] getaddrinfo failed",
     "output_type": "error",
     "traceback": [
      "\u001b[1;31m---------------------------------------------------------------------------\u001b[0m",
      "\u001b[1;31mgaierror\u001b[0m                                  Traceback (most recent call last)",
      "\u001b[1;32m~\\AppData\\Local\\Temp\\ipykernel_19600\\1038449967.py\u001b[0m in \u001b[0;36m<module>\u001b[1;34m\u001b[0m\n\u001b[0;32m     40\u001b[0m \u001b[1;33m\u001b[0m\u001b[0m\n\u001b[0;32m     41\u001b[0m \u001b[1;32mif\u001b[0m \u001b[0m__name__\u001b[0m \u001b[1;33m==\u001b[0m \u001b[1;34m'__main__'\u001b[0m\u001b[1;33m:\u001b[0m\u001b[1;33m\u001b[0m\u001b[1;33m\u001b[0m\u001b[0m\n\u001b[1;32m---> 42\u001b[1;33m     \u001b[0mmain\u001b[0m\u001b[1;33m(\u001b[0m\u001b[1;33m)\u001b[0m\u001b[1;33m\u001b[0m\u001b[1;33m\u001b[0m\u001b[0m\n\u001b[0m",
      "\u001b[1;32m~\\AppData\\Local\\Temp\\ipykernel_19600\\1038449967.py\u001b[0m in \u001b[0;36mmain\u001b[1;34m()\u001b[0m\n\u001b[0;32m     27\u001b[0m     \u001b[0mserver\u001b[0m \u001b[1;33m=\u001b[0m \u001b[0msocket\u001b[0m\u001b[1;33m(\u001b[0m\u001b[1;33m)\u001b[0m\u001b[1;33m\u001b[0m\u001b[1;33m\u001b[0m\u001b[0m\n\u001b[0;32m     28\u001b[0m     \u001b[1;31m# 2.绑定IP地址和端口(区分不同的服务)\u001b[0m\u001b[1;33m\u001b[0m\u001b[1;33m\u001b[0m\u001b[1;33m\u001b[0m\u001b[0m\n\u001b[1;32m---> 29\u001b[1;33m     \u001b[0mserver\u001b[0m\u001b[1;33m.\u001b[0m\u001b[0mbind\u001b[0m\u001b[1;33m(\u001b[0m\u001b[1;33m(\u001b[0m\u001b[1;34m'169.254.241.48/16'\u001b[0m\u001b[1;33m,\u001b[0m\u001b[1;36m5566\u001b[0m\u001b[1;33m)\u001b[0m\u001b[1;33m)\u001b[0m\u001b[1;33m\u001b[0m\u001b[1;33m\u001b[0m\u001b[0m\n\u001b[0m\u001b[0;32m     30\u001b[0m     \u001b[1;31m# 3.开启监听-监听客户端连接到服务器\u001b[0m\u001b[1;33m\u001b[0m\u001b[1;33m\u001b[0m\u001b[1;33m\u001b[0m\u001b[0m\n\u001b[0;32m     31\u001b[0m     \u001b[0mserver\u001b[0m\u001b[1;33m.\u001b[0m\u001b[0mlisten\u001b[0m\u001b[1;33m(\u001b[0m\u001b[1;36m512\u001b[0m\u001b[1;33m)\u001b[0m\u001b[1;33m\u001b[0m\u001b[1;33m\u001b[0m\u001b[0m\n",
      "\u001b[1;31mgaierror\u001b[0m: [Errno 11001] getaddrinfo failed"
     ]
    }
   ],
   "source": [
    "'''服务端代码'''\n",
    "from socket import socket\n",
    "from base64 import b64decode\n",
    "from json import dumps\n",
    "from threading import Thread\n",
    "\n",
    "def main():\n",
    "    #自定义线程类\n",
    "    class FileTransferHandler(Thread):\n",
    "\n",
    "        def __init__(self,cclient) :\n",
    "            super().__init__()\n",
    "            self.cclient = cclient\n",
    "\n",
    "        def run(self):\n",
    "            my_dict = {}\n",
    "            my_dict['filename'] = 'guido.jpg'\n",
    "            # json是纯文本不能携带二进制数据\n",
    "            # 所以图片的二进制数据要处理成base64编码\n",
    "            my_dict['filedata'] = data\n",
    "            # 函数将字典处理成json字符串\n",
    "            json_str = dumps(my_dict)\n",
    "            # 发送json字符串\n",
    "            self.cclient.send(json_str.encode('utf-8'))\n",
    "            self.cclient.close()\n",
    "\n",
    "    # 1.创建套接字对象并指定使用哪种传输服务\n",
    "    server = socket()\n",
    "    # 2.绑定IP地址和端口(区分不同的服务)\n",
    "    server.bind(('169.254.241.48/16',5566))\n",
    "    # 3.开启监听-监听客户端连接到服务器\n",
    "    server.listen(512)\n",
    "    print('服务器启动开始监听......')\n",
    "    with open('guido.jpg','rb') as f:\n",
    "        # 将二进制数据处理成base64再解码成字符串\n",
    "        data = b64decode(f.read()).encode('utf-8')\n",
    "    while True:\n",
    "        client,addr = server.accept()\n",
    "        #启动一个线程来处理客服端的请求\n",
    "        FileTransferHandler(client).start()\n",
    "\n",
    "if __name__ == '__main__':\n",
    "    main()"
   ]
  },
  {
   "cell_type": "code",
   "execution_count": 14,
   "metadata": {},
   "outputs": [
    {
     "ename": "gaierror",
     "evalue": "[Errno 11001] getaddrinfo failed",
     "output_type": "error",
     "traceback": [
      "\u001b[1;31m---------------------------------------------------------------------------\u001b[0m",
      "\u001b[1;31mgaierror\u001b[0m                                  Traceback (most recent call last)",
      "\u001b[1;32m~\\AppData\\Local\\Temp\\ipykernel_19600\\983863516.py\u001b[0m in \u001b[0;36m<module>\u001b[1;34m\u001b[0m\n\u001b[0;32m     26\u001b[0m \u001b[1;33m\u001b[0m\u001b[0m\n\u001b[0;32m     27\u001b[0m \u001b[1;32mif\u001b[0m \u001b[0m__name__\u001b[0m \u001b[1;33m==\u001b[0m \u001b[1;34m'__main__'\u001b[0m\u001b[1;33m:\u001b[0m\u001b[1;33m\u001b[0m\u001b[1;33m\u001b[0m\u001b[0m\n\u001b[1;32m---> 28\u001b[1;33m     \u001b[0mmain\u001b[0m\u001b[1;33m(\u001b[0m\u001b[1;33m)\u001b[0m\u001b[1;33m\u001b[0m\u001b[1;33m\u001b[0m\u001b[0m\n\u001b[0m",
      "\u001b[1;32m~\\AppData\\Local\\Temp\\ipykernel_19600\\983863516.py\u001b[0m in \u001b[0;36mmain\u001b[1;34m()\u001b[0m\n\u001b[0;32m      6\u001b[0m \u001b[1;32mdef\u001b[0m \u001b[0mmain\u001b[0m\u001b[1;33m(\u001b[0m\u001b[1;33m)\u001b[0m\u001b[1;33m:\u001b[0m\u001b[1;33m\u001b[0m\u001b[1;33m\u001b[0m\u001b[0m\n\u001b[0;32m      7\u001b[0m     \u001b[0mclient\u001b[0m \u001b[1;33m=\u001b[0m \u001b[0msocket\u001b[0m\u001b[1;33m(\u001b[0m\u001b[1;33m)\u001b[0m\u001b[1;33m\u001b[0m\u001b[1;33m\u001b[0m\u001b[0m\n\u001b[1;32m----> 8\u001b[1;33m     \u001b[0mclient\u001b[0m\u001b[1;33m.\u001b[0m\u001b[0mconnect\u001b[0m\u001b[1;33m(\u001b[0m\u001b[1;33m(\u001b[0m\u001b[1;34m'169.254.241.48/16'\u001b[0m\u001b[1;33m,\u001b[0m\u001b[1;36m5566\u001b[0m\u001b[1;33m)\u001b[0m\u001b[1;33m)\u001b[0m\u001b[1;33m\u001b[0m\u001b[1;33m\u001b[0m\u001b[0m\n\u001b[0m\u001b[0;32m      9\u001b[0m     \u001b[1;31m# 定义一个保存二进制数据的对象\u001b[0m\u001b[1;33m\u001b[0m\u001b[1;33m\u001b[0m\u001b[1;33m\u001b[0m\u001b[0m\n\u001b[0;32m     10\u001b[0m     \u001b[0min_data\u001b[0m \u001b[1;33m=\u001b[0m \u001b[0mbytes\u001b[0m\u001b[1;33m(\u001b[0m\u001b[1;33m)\u001b[0m\u001b[1;33m\u001b[0m\u001b[1;33m\u001b[0m\u001b[0m\n",
      "\u001b[1;31mgaierror\u001b[0m: [Errno 11001] getaddrinfo failed"
     ]
    }
   ],
   "source": [
    "'''客户端代码'''\n",
    "from socket import socket\n",
    "from json import loads\n",
    "from base64 import b64decode\n",
    "\n",
    "def main():\n",
    "    client = socket()\n",
    "    client.connect(('169.254.241.48/16',5566))\n",
    "    # 定义一个保存二进制数据的对象\n",
    "    in_data = bytes()\n",
    "    # 由于不知道服务器发送的数据有多大所以每次接受1024字节\n",
    "    data = client.recv(1024)\n",
    "    while data:\n",
    "        # 将收到的数据拼接起来\n",
    "        in_data += data\n",
    "        data = client.recv(1024)\n",
    "    # 将收到的二进制数据解码成json字符串并转换成字典\n",
    "    # loads函数的作用就是将json字符串转化成字典对象\n",
    "    my_dict = loads(in_data.encode('utf-8'))\n",
    "    filename = my_dict['filename']\n",
    "    filedata = my_dict['filename'].encode('utf-8')\n",
    "    with open('.' + filename,'wb') as f:\n",
    "        # 将base64格式的数据解码成二进制数据并写入文件\n",
    "        f.write(b64decode(filedata))\n",
    "    print('图片已保存')\n",
    "\n",
    "if __name__ == '__main__':\n",
    "    main()"
   ]
  },
  {
   "cell_type": "markdown",
   "metadata": {},
   "source": [
    "> 我们使用了JSON作为数据传输的格式（通过JSON格式对传输的数据进行了序列化和反序列化的操作），但是JSON并不能携带二进制数据，因此对图片的二进制数据进行了Base64编码的处理。Base64是一种用64个字符表示所有二进制数据的编码方式，通过将二进制数据每6位一组的方式重新组织，刚好可以使用0~9的数字、大小写字母以及“+”和“/”总共64个字符表示从 `000000`到 `111111`的64种状态。"
   ]
  },
  {
   "cell_type": "markdown",
   "metadata": {},
   "source": [
    "### 网络应用开发"
   ]
  },
  {
   "cell_type": "markdown",
   "metadata": {},
   "source": [
    "### 发送电子邮件"
   ]
  },
  {
   "cell_type": "markdown",
   "metadata": {},
   "source": [
    "> 关于STMP模块的更多信息详见[Python SMTP发送邮件-smtplib模块](https://zhuanlan.zhihu.com/p/318387004)"
   ]
  },
  {
   "cell_type": "code",
   "execution_count": 17,
   "metadata": {},
   "outputs": [
    {
     "name": "stdout",
     "output_type": "stream",
     "text": [
      "邮件发送成功\n"
     ]
    }
   ],
   "source": [
    "'''如何在Python发送邮件'''\n",
    "\n",
    "from smtplib import SMTP\n",
    "from email.header import Header\n",
    "from email.mime.text import MIMEText\n",
    "\n",
    "def main():\n",
    "    # 自行修改邮件的发送者和接受者\n",
    "    sender = 'mwq1742801515@163.com'\n",
    "    receivers = ['1742801515@qq.com','mwq1742801515@outlook.com']\n",
    "    #MIMEText对象时，第一个参数是邮件正文，第二个参数是MIME的subtype，\n",
    "    #最后一定要用utf-8编码保证多语言兼容性。\n",
    "    message = MIMEText('用python发送电子邮件示例代码','plain','utf-8')  \n",
    "    message['From'] = Header('网易','utf-8')    # 这个网易处的内容就是对方接收邮件时显示的发件人名称\n",
    "    message['To'] = Header('QQ','utf-8')\n",
    "    message['Subject'] = Header('示例代码邮件','utf-8')\n",
    "    smtper = SMTP('smtp.163.com')   #实例化对象 传入的参数是服务器地址\n",
    "    # 自行修改密码\n",
    "    smtper.login(sender,'NSRKFVNQJCVMWBSD')   #这个密码是在网易邮箱里的SMTP设置里的授权码\n",
    "    smtper.sendmail(sender,receivers,message.as_string())\n",
    "    print('邮件发送成功')\n",
    "\n",
    "if __name__ == '__main__':\n",
    "    main()"
   ]
  },
  {
   "cell_type": "code",
   "execution_count": 19,
   "metadata": {},
   "outputs": [
    {
     "name": "stdout",
     "output_type": "stream",
     "text": [
      "发送完成！\n"
     ]
    }
   ],
   "source": [
    "'''发送带有附件的邮件'''\n",
    "\n",
    "from smtplib import SMTP\n",
    "from email.header import Header\n",
    "from email.mime.text import MIMEText\n",
    "from email.mime.image import MIMEImage\n",
    "from email.mime.multipart import MIMEMultipart\n",
    "\n",
    "import urllib\n",
    "\n",
    "def main():\n",
    "    # 创建一个带附件的邮件消息对象\n",
    "    message = MIMEMultipart()\n",
    "\n",
    "    # 创建文本文件\n",
    "    text_content = MIMEText('请查看附件','plain','utf-8')\n",
    "    message['Subject'] = Header('文本','utf-8')\n",
    "    # 将文本文件添加到邮件消息对象中\n",
    "    message.attach(text_content)\n",
    "\n",
    "    # 读取文件并将文件作为福建添加到邮件消息对象中\n",
    "    with open(r'..\\Python笔记.txt','rb') as f:\n",
    "        txt = MIMEText(f.read(),'base64','utf-8')\n",
    "        txt['Content-Type'] = 'text/plain'\n",
    "        txt['Conten-disposition'] = 'attachment; filename = Python笔记.txt'\n",
    "        message.attach(txt)\n",
    "\n",
    "    # 创建SMTP对象\n",
    "    smtper = SMTP('smtp.163.com')\n",
    "    # 开启安全连接\n",
    "    sender = 'mwq1742801515@163.com'\n",
    "    receivers = ['1742801515@qq.com']\n",
    "    # 登录到SMTP服务器\n",
    "    smtper.login(sender,'NSRKFVNQJCVMWBSD')\n",
    "    # 发送邮件\n",
    "    smtper.sendmail(sender,receivers,message.as_string())\n",
    "    # 与邮箱服务器断开连接\n",
    "    smtper.quit()\n",
    "    print('发送完成！')\n",
    "\n",
    "if __name__ == '__main__':\n",
    "    main()"
   ]
  },
  {
   "cell_type": "markdown",
   "metadata": {},
   "source": [
    "### 发送短信"
   ]
  },
  {
   "cell_type": "code",
   "execution_count": 20,
   "metadata": {},
   "outputs": [
    {
     "name": "stdout",
     "output_type": "stream",
     "text": [
      "accont=23708952&password=mawenqiang1998%40p&content=%E7%BD%97%E9%9D%99%E6%B6%B5%E5%90%8C%E5%AD%A6%EF%BC%8C%E6%82%A8%E6%AD%A3%E5%9C%A8%E6%B3%A8%E5%86%8C%E8%8A%B1%E6%97%97%E9%93%B6%E8%A1%8C%E4%B8%8A%E6%B5%B7%E5%88%86%E8%A1%8C%E7%9A%84%E8%B4%A6%E5%8F%B7%EF%BC%8C%E9%AA%8C%E8%AF%81%E7%A0%81%E4%B8%BA%EF%BC%9A569283%E3%80%82%E8%AF%B7%E4%B8%8D%E8%A6%81%E6%8A%8A%E9%AA%8C%E8%AF%81%E7%A0%81%E6%B3%84%E9%9C%B2%E7%BB%99%E5%85%B6%E4%BB%96%E4%BA%BA%E3%80%82&mobile=18041901568&format=json\n"
     ]
    },
    {
     "ename": "ResponseNotReady",
     "evalue": "Idle",
     "output_type": "error",
     "traceback": [
      "\u001b[1;31m---------------------------------------------------------------------------\u001b[0m",
      "\u001b[1;31mResponseNotReady\u001b[0m                          Traceback (most recent call last)",
      "\u001b[1;32m~\\AppData\\Local\\Temp\\ipykernel_19600\\1915540867.py\u001b[0m in \u001b[0;36m<module>\u001b[1;34m\u001b[0m\n\u001b[0;32m     20\u001b[0m \u001b[1;33m\u001b[0m\u001b[0m\n\u001b[0;32m     21\u001b[0m \u001b[1;32mif\u001b[0m \u001b[0m__name__\u001b[0m \u001b[1;33m==\u001b[0m \u001b[1;34m'__main__'\u001b[0m\u001b[1;33m:\u001b[0m\u001b[1;33m\u001b[0m\u001b[1;33m\u001b[0m\u001b[0m\n\u001b[1;32m---> 22\u001b[1;33m     \u001b[0mmain\u001b[0m\u001b[1;33m(\u001b[0m\u001b[1;33m)\u001b[0m\u001b[1;33m\u001b[0m\u001b[1;33m\u001b[0m\u001b[0m\n\u001b[0m",
      "\u001b[1;32m~\\AppData\\Local\\Temp\\ipykernel_19600\\1915540867.py\u001b[0m in \u001b[0;36mmain\u001b[1;34m()\u001b[0m\n\u001b[0;32m     13\u001b[0m     \u001b[0mheaders\u001b[0m \u001b[1;33m=\u001b[0m \u001b[1;33m{\u001b[0m\u001b[1;34m'Content-type'\u001b[0m\u001b[1;33m:\u001b[0m \u001b[1;34m'application/x-www-form-urlencoded'\u001b[0m\u001b[1;33m,\u001b[0m \u001b[1;34m'Accept'\u001b[0m\u001b[1;33m:\u001b[0m \u001b[1;34m'text/plain'\u001b[0m\u001b[1;33m}\u001b[0m\u001b[1;33m\u001b[0m\u001b[1;33m\u001b[0m\u001b[0m\n\u001b[0;32m     14\u001b[0m     \u001b[0mconn\u001b[0m \u001b[1;33m=\u001b[0m \u001b[0mhttp\u001b[0m\u001b[1;33m.\u001b[0m\u001b[0mclient\u001b[0m\u001b[1;33m.\u001b[0m\u001b[0mHTTPConnection\u001b[0m\u001b[1;33m(\u001b[0m\u001b[0mhost\u001b[0m\u001b[1;33m,\u001b[0m \u001b[0mport\u001b[0m\u001b[1;33m=\u001b[0m\u001b[1;36m80\u001b[0m\u001b[1;33m,\u001b[0m \u001b[0mtimeout\u001b[0m\u001b[1;33m=\u001b[0m\u001b[1;36m30\u001b[0m\u001b[1;33m)\u001b[0m\u001b[1;33m\u001b[0m\u001b[1;33m\u001b[0m\u001b[0m\n\u001b[1;32m---> 15\u001b[1;33m     \u001b[0mresponse\u001b[0m \u001b[1;33m=\u001b[0m \u001b[0mconn\u001b[0m\u001b[1;33m.\u001b[0m\u001b[0mgetresponse\u001b[0m\u001b[1;33m(\u001b[0m\u001b[1;33m)\u001b[0m\u001b[1;33m\u001b[0m\u001b[1;33m\u001b[0m\u001b[0m\n\u001b[0m\u001b[0;32m     16\u001b[0m     \u001b[0mresponse_str\u001b[0m \u001b[1;33m=\u001b[0m \u001b[0mresponse\u001b[0m\u001b[1;33m.\u001b[0m\u001b[0mread\u001b[0m\u001b[1;33m(\u001b[0m\u001b[1;33m)\u001b[0m\u001b[1;33m\u001b[0m\u001b[1;33m\u001b[0m\u001b[0m\n\u001b[0;32m     17\u001b[0m     \u001b[0mjsonstr\u001b[0m \u001b[1;33m=\u001b[0m \u001b[0mresponse_str\u001b[0m\u001b[1;33m.\u001b[0m\u001b[0mdecode\u001b[0m\u001b[1;33m(\u001b[0m\u001b[1;34m'utf-8'\u001b[0m\u001b[1;33m)\u001b[0m\u001b[1;33m\u001b[0m\u001b[1;33m\u001b[0m\u001b[0m\n",
      "\u001b[1;32md:\\Miniconda\\lib\\http\\client.py\u001b[0m in \u001b[0;36mgetresponse\u001b[1;34m(self)\u001b[0m\n\u001b[0;32m   1361\u001b[0m         \u001b[1;31m#\u001b[0m\u001b[1;33m\u001b[0m\u001b[1;33m\u001b[0m\u001b[1;33m\u001b[0m\u001b[0m\n\u001b[0;32m   1362\u001b[0m         \u001b[1;32mif\u001b[0m \u001b[0mself\u001b[0m\u001b[1;33m.\u001b[0m\u001b[0m__state\u001b[0m \u001b[1;33m!=\u001b[0m \u001b[0m_CS_REQ_SENT\u001b[0m \u001b[1;32mor\u001b[0m \u001b[0mself\u001b[0m\u001b[1;33m.\u001b[0m\u001b[0m__response\u001b[0m\u001b[1;33m:\u001b[0m\u001b[1;33m\u001b[0m\u001b[1;33m\u001b[0m\u001b[0m\n\u001b[1;32m-> 1363\u001b[1;33m             \u001b[1;32mraise\u001b[0m \u001b[0mResponseNotReady\u001b[0m\u001b[1;33m(\u001b[0m\u001b[0mself\u001b[0m\u001b[1;33m.\u001b[0m\u001b[0m__state\u001b[0m\u001b[1;33m)\u001b[0m\u001b[1;33m\u001b[0m\u001b[1;33m\u001b[0m\u001b[0m\n\u001b[0m\u001b[0;32m   1364\u001b[0m \u001b[1;33m\u001b[0m\u001b[0m\n\u001b[0;32m   1365\u001b[0m         \u001b[1;32mif\u001b[0m \u001b[0mself\u001b[0m\u001b[1;33m.\u001b[0m\u001b[0mdebuglevel\u001b[0m \u001b[1;33m>\u001b[0m \u001b[1;36m0\u001b[0m\u001b[1;33m:\u001b[0m\u001b[1;33m\u001b[0m\u001b[1;33m\u001b[0m\u001b[0m\n",
      "\u001b[1;31mResponseNotReady\u001b[0m: Idle"
     ]
    }
   ],
   "source": [
    "import urllib.parse\n",
    "import http.client\n",
    "import json\n",
    "\n",
    "def main():\n",
    "    host = \"106.ihuyi.com\"\n",
    "    sms_send_uri = \"/webservice/sms.php?method=Submit\"\n",
    "    # 根据参数填写自己申请的账号密码等内容\n",
    "    params = urllib.parse.urlencode({'accont':'23708952','password':'mawenqiang1998@p',\n",
    "                                    'content':'罗静涵同学，您正在注册花旗银行上海分行的账号，验证码为：569283。请不要把验证码泄露给其他人。',\n",
    "                                    'mobile':'18041901568','format':'json'})\n",
    "    print(params)\n",
    "    headers = {'Content-type': 'application/x-www-form-urlencoded', 'Accept': 'text/plain'}\n",
    "    conn = http.client.HTTPConnection(host, port=80, timeout=30)\n",
    "    response = conn.getresponse()\n",
    "    response_str = response.read()\n",
    "    jsonstr = response_str.decode('utf-8')\n",
    "    print(json.loads(jsonstr))\n",
    "    conn.close()\n",
    "\n",
    "if __name__ == '__main__':\n",
    "    main()"
   ]
  },
  {
   "cell_type": "code",
   "execution_count": 22,
   "metadata": {},
   "outputs": [
    {
     "name": "stdout",
     "output_type": "stream",
     "text": [
      "accont=23708952&password=mawenqiang1998%40p&content=%E7%BD%97%E9%9D%99%E6%B6%B5%E5%90%8C%E5%AD%A6%EF%BC%8C%E6%82%A8%E6%AD%A3%E5%9C%A8%E6%B3%A8%E5%86%8C%E8%8A%B1%E6%97%97%E9%93%B6%E8%A1%8C%E4%B8%8A%E6%B5%B7%E5%88%86%E8%A1%8C%E7%9A%84%E8%B4%A6%E5%8F%B7%EF%BC%8C%E9%AA%8C%E8%AF%81%E7%A0%81%E4%B8%BA%EF%BC%9A569283%E3%80%82%E8%AF%B7%E4%B8%8D%E8%A6%81%E6%8A%8A%E9%AA%8C%E8%AF%81%E7%A0%81%E6%B3%84%E9%9C%B2%E7%BB%99%E5%85%B6%E4%BB%96%E4%BA%BA%E3%80%82&mobile=18041901568&format=json\n",
      "{'code': 401, 'msg': 'account不能为空', 'smsid': '0'}\n"
     ]
    }
   ],
   "source": [
    "import urllib.parse\n",
    "import http.client\n",
    "import json\n",
    "\n",
    "\n",
    "def main():\n",
    "    host  = \"106.ihuyi.com\"\n",
    "    sms_send_uri = \"/webservice/sms.php?method=Submit\"\n",
    "    # 下面的参数需要填入自己注册的账号和对应的密码\n",
    "    params = urllib.parse.urlencode({'accont':23708952,'password':'mawenqiang1998@p',\n",
    "                                    'content':'罗静涵同学，您正在注册花旗银行上海分行的账号，验证码为：569283。请不要把验证码泄露给其他人。',\n",
    "                                    'mobile':'18041901568','format':'json'})\n",
    "    print(params)\n",
    "    headers = {'Content-type': 'application/x-www-form-urlencoded', 'Accept': 'text/plain'}\n",
    "    conn = http.client.HTTPConnection(host, port=80, timeout=30)\n",
    "    conn.request('POST', sms_send_uri, params, headers)\n",
    "    response = conn.getresponse()\n",
    "    response_str = response.read()\n",
    "    jsonstr = response_str.decode('utf-8')\n",
    "    print(json.loads(jsonstr))\n",
    "    conn.close()\n",
    "\n",
    "\n",
    "if __name__ == '__main__':\n",
    "    main()"
   ]
  },
  {
   "cell_type": "markdown",
   "metadata": {},
   "source": [
    "##### 绘制樱花"
   ]
  },
  {
   "cell_type": "code",
   "execution_count": 1,
   "metadata": {},
   "outputs": [],
   "source": [
    "import turtle as T\n",
    "import random\n",
    "import time\n",
    "\n",
    "# 画樱花的躯干(60,t)\n",
    "def Tree(branch, t):\n",
    "    time.sleep(0.0005)\n",
    "    if branch > 3:\n",
    "        if 8 <= branch <= 12:\n",
    "            if random.randint(0, 2) == 0:\n",
    "                t.color('snow')  # 白\n",
    "            else:\n",
    "                t.color('lightcoral')  # 淡珊瑚色\n",
    "            t.pensize(branch / 3)\n",
    "        elif branch < 8:\n",
    "            if random.randint(0, 1) == 0:\n",
    "                t.color('snow')\n",
    "            else:\n",
    "                t.color('lightcoral')  # 淡珊瑚色\n",
    "            t.pensize(branch / 2)\n",
    "        else:\n",
    "            t.color('sienna')  # 赭(zhě)色\n",
    "            t.pensize(branch / 10)  # 6\n",
    "        t.forward(branch)\n",
    "        a = 1.5 * random.random()\n",
    "        t.right(20 * a)\n",
    "        b = 1.5 * random.random()\n",
    "        Tree(branch - 10 * b, t)\n",
    "        t.left(40 * a)\n",
    "        Tree(branch - 10 * b, t)\n",
    "        t.right(20 * a)\n",
    "        t.up()\n",
    "        t.backward(branch)\n",
    "        t.down()\n",
    "\n",
    "# 掉落的花瓣\n",
    "def Petal(m, t):\n",
    "    for i in range(m):\n",
    "        a = 200 - 400 * random.random()\n",
    "        b = 10 - 20 * random.random()\n",
    "        t.up()\n",
    "        t.forward(b)\n",
    "        t.left(90)\n",
    "        t.forward(a)\n",
    "        t.down()\n",
    "        t.color('lightcoral')  # 淡珊瑚色\n",
    "        t.circle(1)\n",
    "        t.up()\n",
    "        t.backward(a)\n",
    "        t.right(90)\n",
    "        t.backward(b)\n",
    "\n",
    "# 绘图区域\n",
    "t = T.Turtle()\n",
    "# 画布大小\n",
    "w = T.Screen()\n",
    "t.hideturtle()  # 隐藏画笔\n",
    "t.getscreen().tracer(5, 0)\n",
    "w.screensize(bg='wheat')  # wheat小麦\n",
    "t.left(90)\n",
    "t.up()\n",
    "t.backward(150)\n",
    "t.down()\n",
    "t.color('sienna')\n",
    "\n",
    "# 画樱花的躯干\n",
    "Tree(60, t)\n",
    "# 掉落的花瓣\n",
    "Petal(200, t)\n",
    "w.exitonclick()"
   ]
  },
  {
   "cell_type": "markdown",
   "metadata": {},
   "source": [
    "# day 15 图像和办公文档处理"
   ]
  },
  {
   "cell_type": "markdown",
   "metadata": {},
   "source": [
    "> 关于PIL库的具体说明详见[Python图像库PIL的类Image及其方法介绍](https://blog.csdn.net/leemboy/article/details/83792729)"
   ]
  },
  {
   "cell_type": "markdown",
   "metadata": {},
   "source": [
    "### 用Pillow操作图像"
   ]
  },
  {
   "cell_type": "code",
   "execution_count": 8,
   "metadata": {},
   "outputs": [],
   "source": [
    "from PIL import Image\n",
    "image = Image.open(r'guido.jpg')"
   ]
  },
  {
   "cell_type": "code",
   "execution_count": 3,
   "metadata": {},
   "outputs": [
    {
     "data": {
      "text/plain": [
       "('JPEG', (500, 750), 'RGB')"
      ]
     },
     "execution_count": 3,
     "metadata": {},
     "output_type": "execute_result"
    }
   ],
   "source": [
    "image.format,image.size,image.mode"
   ]
  },
  {
   "cell_type": "code",
   "execution_count": 4,
   "metadata": {},
   "outputs": [],
   "source": [
    "image.show()"
   ]
  },
  {
   "cell_type": "markdown",
   "metadata": {},
   "source": [
    "> 1.裁剪图像"
   ]
  },
  {
   "cell_type": "code",
   "execution_count": 7,
   "metadata": {},
   "outputs": [],
   "source": [
    "image = Image.open('guido.jpg')\n",
    "rect = 80,20,310,360    #生成一个左上角坐标为80,20 右下角坐标为310,360的矩形\n",
    "image.crop(rect).show()"
   ]
  },
  {
   "cell_type": "markdown",
   "metadata": {},
   "source": [
    "> 2.生成缩略图"
   ]
  },
  {
   "cell_type": "code",
   "execution_count": 13,
   "metadata": {},
   "outputs": [],
   "source": [
    "image = Image.open('guido.jpg')\n",
    "size = 128,128\n",
    "image.thumbnail(size)   #thumbnail方法可以实现对图片的缩放。\n",
    "image.show()"
   ]
  },
  {
   "cell_type": "markdown",
   "metadata": {},
   "source": [
    "> 3.缩放和黏贴图像"
   ]
  },
  {
   "cell_type": "code",
   "execution_count": 18,
   "metadata": {},
   "outputs": [],
   "source": [
    "image1 = Image.open('luohao.png')\n",
    "image2 = Image.open('guido.jpg')\n",
    "rect = 80,20,310,360\n",
    "guido_head = image2.crop(rect)\n",
    "width ,height = guido_head.size\n",
    "image1.paste(guido_head.resize((int(width / 1.5),int(height/1.5))),(172,40))\n",
    "image1.show()"
   ]
  },
  {
   "cell_type": "markdown",
   "metadata": {},
   "source": [
    "> 4.旋转和翻转"
   ]
  },
  {
   "cell_type": "code",
   "execution_count": 23,
   "metadata": {},
   "outputs": [
    {
     "name": "stderr",
     "output_type": "stream",
     "text": [
      "C:\\Users\\Fing-trying\\AppData\\Roaming\\Python\\Python37\\site-packages\\ipykernel_launcher.py:3: DeprecationWarning: FLIP_LEFT_RIGHT is deprecated and will be removed in Pillow 10 (2023-07-01). Use Transpose.FLIP_LEFT_RIGHT instead.\n",
      "  This is separate from the ipykernel package so we can avoid doing imports until\n"
     ]
    }
   ],
   "source": [
    "image1 = Image.open('guido.jpg')\n",
    "image.rotate(180).show()\n",
    "#返回当前图像的翻转或者旋转的拷贝。变量方法的取值为：\n",
    "#FLIP_LEFT_RIGHT，FLIP_TOP_BOTTOM，ROTATE_90，ROTATE_180，或ROTATE_270。\n",
    "image.transpose(Image.FLIP_LEFT_RIGHT).show()  "
   ]
  },
  {
   "cell_type": "markdown",
   "metadata": {},
   "source": [
    "> 5.操作像素"
   ]
  },
  {
   "cell_type": "code",
   "execution_count": 24,
   "metadata": {},
   "outputs": [],
   "source": [
    "image = Image.open('guido.jpg')\n",
    "for x in range(80,310):\n",
    "    for y in range(20,360):\n",
    "        image.putpixel((x,y),(128,128,128)) # 相应点处的像素修改为后面的值\n",
    "image.show()"
   ]
  },
  {
   "cell_type": "markdown",
   "metadata": {},
   "source": [
    "> 6.滤镜效果"
   ]
  },
  {
   "cell_type": "code",
   "execution_count": 25,
   "metadata": {},
   "outputs": [],
   "source": [
    "from PIL import Image,ImageFilter\n",
    "image = Image.open('guido.jpg')\n",
    "image.filter(ImageFilter.CONTOUR).show()    # ImageFilter.CONTOUR为轮廓滤波，将图像中的轮廓信息全部提取出来。"
   ]
  },
  {
   "cell_type": "markdown",
   "metadata": {},
   "source": [
    "> 关于image库的imagefilter模块详见[Python图像处理库PIL的ImageFilter模块介绍](https://blog.csdn.net/icamera0/article/details/50708888)"
   ]
  },
  {
   "cell_type": "markdown",
   "metadata": {},
   "source": [
    "### 处理Excel电子表格"
   ]
  },
  {
   "cell_type": "code",
   "execution_count": 26,
   "metadata": {},
   "outputs": [],
   "source": [
    "import datetime\n",
    "\n",
    "from openpyxl import Workbook\n",
    "\n",
    "wb = Workbook()\n",
    "ws = wb.active\n",
    "\n",
    "ws['A1'] = 42\n",
    "ws.append([1,2,3])\n",
    "ws['A2'] = datetime.datetime.now()\n",
    "\n",
    "wb.save('sample.xlsx')"
   ]
  },
  {
   "cell_type": "markdown",
   "metadata": {},
   "source": [
    "### 处理Word文档"
   ]
  },
  {
   "cell_type": "code",
   "execution_count": 29,
   "metadata": {},
   "outputs": [],
   "source": [
    "from docx import Document\n",
    "from docx.shared import Inches\n",
    "\n",
    "document = Document()\n",
    "document.add_heading('document title',0)\n",
    "\n",
    "p = document.add_paragraph('A plain paragraph having some')\n",
    "p.add_run('bold ').bold = True\n",
    "p.add_run('and some ')\n",
    "p.add_run('italic').italic = True\n",
    "\n",
    "document.add_heading('Heading level 1',level=1)\n",
    "document.add_paragraph('intense quote',style='Intense Quote')\n",
    "document.add_paragraph(\n",
    "    'first item in unordered list',style = 'List Bullet'\n",
    ")\n",
    "document.add_paragraph(\n",
    "    'first item in ordered list',style = 'List Number'\n",
    ")\n",
    "document.add_picture('luohao.png',width = Inches(1.25))\n",
    "\n",
    "records = (\n",
    "    (3,'101','Spam'),\n",
    "    (7,'422','Eggs'),\n",
    "    (4,'631','Spam ,spam,eggs ,and spam')\n",
    ")\n",
    "table = document.add_table(rows=1,cols=3)\n",
    "hdr_cells = table.rows[0].cells\n",
    "hdr_cells[0].text = 'Qty'\n",
    "hdr_cells[1].text = 'Id'\n",
    "hdr_cells[2].text = 'Desc'\n",
    "for qty,id,desc in records:\n",
    "    row_cell = table.add_row().cells\n",
    "    row_cell[0].text = str(qty)\n",
    "    row_cell[1].text = id\n",
    "    row_cell[2].text =desc\n",
    "\n",
    "document.add_page_break()\n",
    "document.save('demo.docx')\n"
   ]
  },
  {
   "cell_type": "code",
   "execution_count": null,
   "metadata": {},
   "outputs": [],
   "source": []
  }
 ],
 "metadata": {
  "kernelspec": {
   "display_name": "Python 3 (ipykernel)",
   "language": "python",
   "name": "python3"
  },
  "language_info": {
   "codemirror_mode": {
    "name": "ipython",
    "version": 3
   },
   "file_extension": ".py",
   "mimetype": "text/x-python",
   "name": "python",
   "nbconvert_exporter": "python",
   "pygments_lexer": "ipython3",
   "version": "3.7.13"
  },
  "vscode": {
   "interpreter": {
    "hash": "861f9c34f7302a1aedb62edfc1533c524ce2793735e6b405602ea89eb9cb2484"
   }
  }
 },
 "nbformat": 4,
 "nbformat_minor": 4
}
