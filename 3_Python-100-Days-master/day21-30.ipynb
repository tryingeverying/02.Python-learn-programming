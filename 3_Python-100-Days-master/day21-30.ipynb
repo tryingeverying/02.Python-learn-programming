{
 "cells": [
  {
   "cell_type": "markdown",
   "metadata": {},
   "source": [
    "# Web前端概述"
   ]
  },
  {
   "cell_type": "markdown",
   "metadata": {},
   "source": [
    "## HTML"
   ]
  },
  {
   "cell_type": "markdown",
   "metadata": {},
   "source": [
    "### 属性\n",
    "\n",
    "- id：唯一标识\n",
    "- class：元素所属的类，用于区分不同的元素\n",
    "- title：元素的额外信息（鼠标悬浮时会显示工具提示文本）\n",
    "- tabindex：Tab键切换顺序\n",
    "- contenteditable：元素是否可编辑\n",
    "- draggable：元素是否可拖拽"
   ]
  },
  {
   "cell_type": "markdown",
   "metadata": {},
   "source": [
    "> title标签:浏览器上网页标签名\n",
    "> \n",
    "> div标签定义 HTML 文档中的一个分隔区块或者一个区域部分。\n",
    ">\n",
    "> hr被水平线分隔的标题和段落：\n",
    "> \n",
    "> br 换行\n",
    "> \n",
    "> a标签中的 \n",
    "> target的所有取值以及它们的含义：\n",
    ">\n",
    "> - _blank：在新窗口中打开；\n",
    ">\n",
    "> - _self：默认。在相同的框架中打开；\n",
    ">\n",
    "> - _parent：在父框架集中打开；\n",
    ">\n",
    "> - _top：在整个窗口中打开；\n",
    ">\n",
    "> target=_blank这个属性就是表示，在新的窗口打开超链接！\n",
    "> \n",
    "> \tposition属性的取值\n",
    "> \n",
    ">\t- 1. static - 静态定位 - 正常的文档流\n",
    ">\t- 2. relative - 相对定位 - 相对于原来正常的位置\n",
    ">\t- 3. absolute - 绝对定位 - 相对于父元素来设置位置\n",
    ">\t- 4. fixed - 固定定位 - 相对于浏览器窗口来设置位置\n",
    ">\n",
    ">   `<img>`：图像嵌入元素\n",
    "> \n",
    ">   - src 属性是必须的，它包含了你想嵌入的图片的文件路径。\n",
    ">   - alt 属性包含一条对图像的文本描述，这不是强制性的，但对无障碍而言，它难以置信地有用——屏幕阅读器会将这些描述读给需要使用阅读器的使用者听，让他们知道图像的含义。如果由于某种原因无法加载图像，普通浏览器也会在页面上显示alt 属性中的备用文本：例如，网络错误、内容被屏蔽或链接过期时。\n",
    "> \n",
    "> `<iframe>`  HTML 内联框架元素 (`<iframe>`) 表示嵌套的browsing context。它能够将另一个 HTML 页面嵌入到当前页面中。"
   ]
  },
  {
   "cell_type": "markdown",
   "metadata": {},
   "source": [
    "## 使用CSS渲染页面"
   ]
  },
  {
   "cell_type": "markdown",
   "metadata": {},
   "source": [
    "### css选择器\n",
    "![Alt text](../../../../F:/Programming/02.Python-learn-programming/3_Python-100-Days-master/day21-30/res/image/css%E9%80%89%E6%8B%A9%E5%99%A8-1.jpg)\n",
    "![Alt text](../../../../F:/Programming/02.Python-learn-programming/3_Python-100-Days-master/day21-30/res/image/css%E9%80%89%E6%8B%A9%E5%99%A8-2.jpg)\n",
    "![Alt text](../../../../F:/Programming/02.Python-learn-programming/3_Python-100-Days-master/day21-30/res/image/css%E9%80%89%E6%8B%A9%E5%99%A8-3.jpg)\n",
    "![Alt text](../../../../F:/Programming/02.Python-learn-programming/3_Python-100-Days-master/day21-30/res/image/css%E9%80%89%E6%8B%A9%E5%99%A8-4.jpg)"
   ]
  },
  {
   "cell_type": "markdown",
   "metadata": {},
   "source": [
    "> 不冲突的样式会叠加，有冲突的样式遵循三条原则\n",
    "> - 1.就近原则\n",
    "> - 2.具体性原则（ID>类>标签>通配符）\n",
    "> - 3.重要性原则\n",
    "> \n",
    "> !important的优先级高于ID"
   ]
  },
  {
   "cell_type": "markdown",
   "metadata": {},
   "source": [
    "> padding CSS 简写属性控制元素所有四条边的内边距区域。\n",
    "> \n",
    "> margin 属性为给定元素设置所有四个（上下左右）方向的外边距属性。也就是 margin-top，margin-right，margin-bottom(Word里的段后距离)，和 margin-left 四个外边距属性设置的简写。\n",
    "> \n",
    "> `区别`：margin是指从自身边框到另一个容器边框之间的距离，即容器外距离，是隔开元素与元素的间距；而padding是指自身边框到自身内部另一个容器边框之间的距离，即可容器内距离，是盒子边框与盒子内部元素的距离。\n",
    "> \n",
    "> width 属性用于设置元素的宽度。width 默认设置内容区域的宽度 即这个元素所拥有的区块的宽度\n",
    "> \n",
    "> line-height CSS 属性用于设置多行元素的空间量，如多行文本的间距。对于块级元素，它指定元素行盒（line boxes）的最小高度。对于非替代的 inline 元素，它用于计算行盒（line box）的高度。\n",
    "> \n",
    "> float CSS 属性指定一个元素应沿其容器的左侧或右侧放置，允许文本和内联元素环绕它。\n",
    "> \n",
    "> text-align CSS 属性定义行内内容（例如文字）如何相对它的块父元素对齐。即内容在父元素的元素块里的居中 左对齐 右对齐\n",
    "> \n",
    "> clear CSS 属性 详见[html clear属性值,【Web前端基础知识】clear使用方法](https://blog.csdn.net/weixin_35715402/article/details/117836652)\n",
    "> \n",
    "> - clear：left 清除这个元素之前元素的左浮动\n",
    "> - clear：right 清除这个元素之前元素的右浮动\n",
    "> - clear：both 清除这个元素之前元素的左浮动和右浮动\n",
    "> \n",
    "> display 属性规定元素应该生成的框的类型。 这个属性用于定义建立布局时元素生成的显示框类型。\n",
    "> \n",
    "> ![Alt text](../../../../F:/Programming/02.Python-learn-programming/3_Python-100-Days-master/day21-30/res/image/css_display_%E5%B1%9E%E6%80%A7.jpg)\n",
    "> \n",
    "> text-decoration 这个 CSS 属性是用于设置文本的修饰线外观的（下划线、上划线、贯穿线/删除线 或 闪烁）"
   ]
  },
  {
   "cell_type": "markdown",
   "metadata": {},
   "source": [
    "> animation： 定义的动画名 持续时间 运动方式 延迟时间 次数(infinite 是无限次)\n",
    "> \n",
    ">  @keyframes定义的动画名称用来被foo所使用。定义动画时，简单的动画可以直接使用关键字from和to，即从一种状态过渡到另一种状态："
   ]
  },
  {
   "cell_type": "markdown",
   "metadata": {},
   "source": [
    "> alert() 方法用于显示带有一条指定消息和一个 OK 按钮的警告框。"
   ]
  },
  {
   "cell_type": "markdown",
   "metadata": {},
   "source": [
    "## JavaScript"
   ]
  },
  {
   "cell_type": "markdown",
   "metadata": {},
   "source": [
    "> # 变量\n",
    "> - let 语句声明一个块级作用域的`局部变量`，并可以初始化为一个值（可选）\n",
    "> - const 常量是块级范围的，非常类似用 let `语句定义的变量。但常量的值是无法（通过重新赋值）改变的，也不能被重新声明`\n",
    "> - var 语句 用于声明一个函数范围或全局范围的变量，并可将其初始化为一个值（可选）。\n",
    "> \n",
    "> parseInt(string, radix) 解析一个字符串并返回指定基数的十进制整数，radix（可选） 是 2-36 之间的整数，表示被解析字符串的基数。\n",
    "> \n",
    "> trim() 方法从字符串的两端清除空格，返回一个新的字符串，而不修改原始字符串。\n",
    "> \n",
    "> Math.random() 函数返回一个浮点数，伪随机数在范围从0 到小于1\n",
    "> \n",
    "> parseInt(string, radix) 解析一个字符串并返回指定基数的十进制整数，\n",
    "> \n",
    "> border-collapse: collapse;\n",
    "> - collapse 相邻的单元格共用同一条边框（采用 collapsed-border 表格渲染模型）。\n",
    "> - separate 默认值。每个单元格拥有独立的边框（采用 separated-border 表格渲染模型）。 \n",
    "> \n",
    "> document.querySelector()\n",
    "> - 文档对象模型Document引用的 querySelector() 方法返回文档中与指定选择器或选择器组匹配的第一个 Element对象。如果找不到匹配项，则返回null。\n",
    "> \n",
    "> Document.querySelectorAll()\n",
    "> - 返回与指定的选择器组匹配的文档中的元素列表 (使用深度优先的先序遍历文档的节点)。返回的对象是 NodeList 。\n",
    "> rows.forEach((row, i)=> {funcation} 方法对数组的每个元素执行一次给定的函数。\n",
    "> \n",
    "> setTimeout() 方法设置一个定时器，该定时器在定时器到期后执行一个函数或指定的一段代码"
   ]
  },
  {
   "cell_type": "markdown",
   "metadata": {},
   "source": [
    "## jQuery概述"
   ]
  },
  {
   "cell_type": "markdown",
   "metadata": {},
   "source": [
    "### jQuery 选择器"
   ]
  },
  {
   "cell_type": "markdown",
   "metadata": {},
   "source": [
    "![Alt text](../../../../F:/Programming/02.Python-learn-programming/3_Python-100-Days-master/day21-30/res/image/jQuery%20%E9%80%89%E6%8B%A9%E5%99%A8-1.jpg)"
   ]
  },
  {
   "cell_type": "markdown",
   "metadata": {},
   "source": [
    "> HTMLFormElement.enctype 属性常用来指明提交表单的内容类型，可选的值如下：\n",
    ">\n",
    "> - application/x-www-form-urlencoded: 初始的默认值\n",
    "> - multipart/form-data: 适用于使用`<input>` 标签上传文件\n",
    "> - text/plain: HTML5 引入的类型\n",
    "> \n",
    "> prev() 获得匹配元素集合中每个元素紧邻的前一个同胞元素，通过选择器进行筛选是可选的。\n",
    "> \n",
    "> focus() 方法 当元素获得焦点时（当通过鼠标点击选中元素或通过 tab 键定位到元素时），触发 focus 事件，或规定当发生 focus 事件时运行的函数。\n",
    "> \n",
    "> num.toFixed(x)num四舍五入保留小数点后x位\n",
    "> \n",
    "> next () 方法返回被选元素的后一个同级元素。\n",
    "> \n",
    "> evt.target 获取实事件触发的元素\n",
    "> \n",
    "> .val()方法，一个是带参数：给输入框赋值，一个是不参数的方法：获取输入框的值\n",
    "> \n",
    "> text属性中有两个方法，一个有参，一个无参(和上面的val方法有点像)相见[.html()与.text()区别与辨析](https://blog.csdn.net/qq_20617983/article/details/81105617)他俩的区别就是html方法能够识别标签，获取标签的时候标签不会被显示出来\n",
    "> 1. 无参text（）：取得所有匹配元素的内容。结果是由所有匹配元素包含的文本内容组合起来的文本。返回的是一个String。\n",
    "> 2. 有参text（val）：设置所有匹配元素的文本内容,与 html() 类似, 但将编码 HTML (将 “<” 和 “>” 替换成相应的HTML实体).返回一个jquery对象。2.有参text（val）：设置所有匹配元素的文本内容,与 html() 类似, 但将编码 HTML (将 “<” 和 “>” 替换成相应的HTML实体).返回一个jquery对象。\n",
    "> \n",
    "> prop()方法，当只有一个值且该值是key的时候返回该key对应的value 当其有两个值的时候是给该内容赋予属性，详见[jquery属性操作 html() prop()](https://www.jianshu.com/p/f35b9893c226)"
   ]
  },
  {
   "cell_type": "markdown",
   "metadata": {},
   "source": [
    "## emmet语法，具体详见[Emmet Documentation](https://docs.emmet.io/cheat-sheet/),可以快速写html文档"
   ]
  },
  {
   "cell_type": "markdown",
   "metadata": {},
   "source": [
    "```html\n",
    "1.各级标签只需打出标签名即可,eg:div\n",
    "<div></div>\n",
    "2.生成多级父子关系的标签,使用>说明父子关系,eg:div>ul>li\n",
    "<div>\n",
    "\t<ul>\n",
    "\t\t<li></li>\n",
    "\t</ul>\n",
    "</div>\n",
    "3.生成多个子标签,在需要的标签后面*数量即可,eg:div>ul>li*5 \n",
    "<div>\n",
    "\t<ul>\n",
    "\t\t<li></li>\n",
    "\t\t<li></li>\n",
    "\t\t<li></li>\n",
    "\t\t<li></li>\n",
    "\t\t<li></li>\n",
    "\t</ul>\n",
    "</div>\n",
    "4.生成兄弟关系的标签,使用+说明兄弟,eg:div+p\n",
    "<div></div>\n",
    "<p></p>\n",
    "5.生成带属性的标签,后面#代指id,.代指class,eg:div#box,p.cls\n",
    "<div id=\"box\"></div>\n",
    "<div class=\"cls\"></div>\n",
    "6.同时生成多种属性,把上面的叠buffeg:div#box.cls\n",
    "<div id=\"box\" class=\"cls\"></div>\n",
    "7.自动生成内容,在{}里写上需要的内容写在标签名的后面,eg:div#box{hello world}\n",
    "<div id=\"box\">hello world</div>\n",
    "8.自动生成内容,且内容自动标号,使用$代替需要标号的部分后面*个数,eg:div#box{hello world $}*6\n",
    "<div id=\"box\">hello world 1</div>\n",
    "<div id=\"box\">hello world 2</div>\n",
    "<div id=\"box\">hello world 3</div>\n",
    "<div id=\"box\">hello world 4</div>\n",
    "<div id=\"box\">hello world 5</div>\n",
    "<div id=\"box\">hello world 6</div>\n",
    "9.生成特殊属性的标签,[]里写上特殊的属性及其值,eg:a[href=http://www.baidu.com]{百度一下}\n",
    "<a href=\"http://www.baidu.com\">百度一下</a>\n",
    "10.生成自定义的属性,[]里写上自己写的属性就行了,eg:input[myprop=myval]\n",
    "<input type=\"text\" myprop=\"myval\">,\n",
    "eg:div>p*2+ul>li*3\n",
    "<div>\n",
    "\t<p></p>\n",
    "\t<p></p>\n",
    "\t<ul>\n",
    "\t\t<li></li>\n",
    "\t\t<li></li>\n",
    "\t\t<li></li>\n",
    "\t</ul>\n",
    "</div> \n",
    "eg:p>span.classx$*6\n",
    "<p>\n",
    "\t<span class=\"classx1\"></span>\n",
    "\t<span class=\"classx2\"></span>\n",
    "\t<span class=\"classx3\"></span>\n",
    "\t<span class=\"classx4\"></span>\n",
    "\t<span class=\"classx5\"></span>\n",
    "\t<span class=\"classx6\"></span>\n",
    "</p>\n",
    "eg:div#box>p.title+ul.list>li.child${我是第$个}*3^div#box2\n",
    "<div id=\"box\">\n",
    "\t<p class=\"title\"></p>\n",
    "\t<ul class=\"list\">\n",
    "\t\t<li class=\"child1\">我是第1个</li>\n",
    "\t\t<li class=\"child2\">我是第2个</li>\n",
    "\t\t<li class=\"child3\">我是第3个</li>\n",
    "\t</ul>\n",
    "\t<div id=\"box2\"></div>\n",
    "</div>\n",
    "```"
   ]
  },
  {
   "cell_type": "markdown",
   "metadata": {},
   "source": [
    "## vscode快捷键\n",
    "- 移动行:alt + up/down\n",
    "- 复制行:shift + alt + up/down\n",
    "- 多行编辑:ctrl + alt + up/down\n",
    "- 删除选中行shift + ctrl + k(和搜狗输入法的软键盘冲突)"
   ]
  },
  {
   "cell_type": "markdown",
   "metadata": {},
   "source": []
  }
 ],
 "metadata": {
  "kernelspec": {
   "display_name": "Python 3.7.13 ('base')",
   "language": "python",
   "name": "python3"
  },
  "language_info": {
   "name": "python",
   "version": "3.7.13"
  },
  "orig_nbformat": 4,
  "vscode": {
   "interpreter": {
    "hash": "861f9c34f7302a1aedb62edfc1533c524ce2793735e6b405602ea89eb9cb2484"
   }
  }
 },
 "nbformat": 4,
 "nbformat_minor": 2
}
